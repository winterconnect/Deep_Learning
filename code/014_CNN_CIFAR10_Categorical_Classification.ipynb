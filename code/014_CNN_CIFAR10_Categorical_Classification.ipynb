{
  "nbformat": 4,
  "nbformat_minor": 0,
  "metadata": {
    "colab": {
      "name": "014_CNN_CIFAR10_Categorical_Classification.ipynb",
      "provenance": [],
      "collapsed_sections": []
    },
    "kernelspec": {
      "name": "python3",
      "display_name": "Python 3"
    },
    "accelerator": "GPU"
  },
  "cells": [
    {
      "cell_type": "markdown",
      "metadata": {
        "id": "q2Pr7oBdYLdf"
      },
      "source": [
        "# CIFAR 10 - Categorical Classification"
      ]
    },
    {
      "cell_type": "code",
      "metadata": {
        "id": "RbPgODpVzdHI"
      },
      "source": [
        "import warnings\n",
        "warnings.filterwarnings('ignore')"
      ],
      "execution_count": 1,
      "outputs": []
    },
    {
      "cell_type": "code",
      "metadata": {
        "id": "WD9nlRMs2cUW"
      },
      "source": [
        "import keras\n",
        "from keras.datasets import cifar10\n",
        "from keras.utils import to_categorical\n",
        "from keras import models\n",
        "from keras import layers"
      ],
      "execution_count": 16,
      "outputs": []
    },
    {
      "cell_type": "code",
      "metadata": {
        "id": "wEpt7KZu3BXY"
      },
      "source": [
        "from sklearn.model_selection import train_test_split"
      ],
      "execution_count": 13,
      "outputs": []
    },
    {
      "cell_type": "code",
      "metadata": {
        "colab": {
          "base_uri": "https://localhost:8080/",
          "height": 35
        },
        "id": "GgvpUF3L2gJJ",
        "outputId": "7d732749-c892-4d4c-ea83-72906c129c7d"
      },
      "source": [
        "keras.__version__"
      ],
      "execution_count": 3,
      "outputs": [
        {
          "output_type": "execute_result",
          "data": {
            "application/vnd.google.colaboratory.intrinsic+json": {
              "type": "string"
            },
            "text/plain": [
              "'2.4.3'"
            ]
          },
          "metadata": {
            "tags": []
          },
          "execution_count": 3
        }
      ]
    },
    {
      "cell_type": "markdown",
      "metadata": {
        "id": "H49A769LYp-a"
      },
      "source": [
        "# I. CIFAR 10 Data_Set Load & Review"
      ]
    },
    {
      "cell_type": "markdown",
      "metadata": {
        "id": "vb6EIkRcbPb4"
      },
      "source": [
        "> ## 1) Load CIFAR 10 Data_Set"
      ]
    },
    {
      "cell_type": "code",
      "metadata": {
        "id": "DxstjE8b_6Te",
        "colab": {
          "base_uri": "https://localhost:8080/"
        },
        "outputId": "fac7ae42-dcc7-4a4f-cb42-0233ed89b140"
      },
      "source": [
        "(train_data, train_targets), (X_test, y_test) = cifar10.load_data()"
      ],
      "execution_count": 4,
      "outputs": [
        {
          "output_type": "stream",
          "text": [
            "Downloading data from https://www.cs.toronto.edu/~kriz/cifar-10-python.tar.gz\n",
            "170500096/170498071 [==============================] - 6s 0us/step\n"
          ],
          "name": "stdout"
        }
      ]
    },
    {
      "cell_type": "markdown",
      "metadata": {
        "id": "Mt11QE0EHCiJ"
      },
      "source": [
        "* Train_Data Information"
      ]
    },
    {
      "cell_type": "code",
      "metadata": {
        "id": "KT_Mr_Hb__VH",
        "colab": {
          "base_uri": "https://localhost:8080/"
        },
        "outputId": "135c2b44-5859-452e-b884-ec135ca109b8"
      },
      "source": [
        "print(len(train_data))\n",
        "print(train_data.shape)\n",
        "\n",
        "print(len(train_targets))\n",
        "print(train_targets[0:5])"
      ],
      "execution_count": 5,
      "outputs": [
        {
          "output_type": "stream",
          "text": [
            "50000\n",
            "(50000, 32, 32, 3)\n",
            "50000\n",
            "[[6]\n",
            " [9]\n",
            " [9]\n",
            " [4]\n",
            " [1]]\n"
          ],
          "name": "stdout"
        }
      ]
    },
    {
      "cell_type": "markdown",
      "metadata": {
        "id": "QolAqIwgHGRI"
      },
      "source": [
        "* Test_Data Information"
      ]
    },
    {
      "cell_type": "code",
      "metadata": {
        "id": "NtkD2BKUANZE",
        "colab": {
          "base_uri": "https://localhost:8080/"
        },
        "outputId": "39d72346-e4f3-406d-c530-e2a7337d2dba"
      },
      "source": [
        "print(len(X_test))\n",
        "print(X_test.shape)\n",
        "\n",
        "print(len(y_test))\n",
        "print(y_test[0:5])"
      ],
      "execution_count": 6,
      "outputs": [
        {
          "output_type": "stream",
          "text": [
            "10000\n",
            "(10000, 32, 32, 3)\n",
            "10000\n",
            "[[3]\n",
            " [8]\n",
            " [8]\n",
            " [0]\n",
            " [6]]\n"
          ],
          "name": "stdout"
        }
      ]
    },
    {
      "cell_type": "markdown",
      "metadata": {
        "id": "Mk9XL5vGHor6"
      },
      "source": [
        "# II. Data Preprocessing"
      ]
    },
    {
      "cell_type": "markdown",
      "metadata": {
        "id": "ec8zU4XCZRUF"
      },
      "source": [
        "> ## 1) Normalization"
      ]
    },
    {
      "cell_type": "code",
      "metadata": {
        "id": "SoGHuYeFIGBj"
      },
      "source": [
        "train_data = train_data.astype(float) / 255\n",
        "X_test = X_test.astype(float) / 255"
      ],
      "execution_count": 8,
      "outputs": []
    },
    {
      "cell_type": "code",
      "metadata": {
        "id": "m1HezAboV-x8",
        "colab": {
          "base_uri": "https://localhost:8080/"
        },
        "outputId": "4d0a8d93-8beb-4b57-e9bd-7bd33c950f28"
      },
      "source": [
        "print(train_data[0])"
      ],
      "execution_count": 9,
      "outputs": [
        {
          "output_type": "stream",
          "text": [
            "[[[0.23137255 0.24313725 0.24705882]\n",
            "  [0.16862745 0.18039216 0.17647059]\n",
            "  [0.19607843 0.18823529 0.16862745]\n",
            "  ...\n",
            "  [0.61960784 0.51764706 0.42352941]\n",
            "  [0.59607843 0.49019608 0.4       ]\n",
            "  [0.58039216 0.48627451 0.40392157]]\n",
            "\n",
            " [[0.0627451  0.07843137 0.07843137]\n",
            "  [0.         0.         0.        ]\n",
            "  [0.07058824 0.03137255 0.        ]\n",
            "  ...\n",
            "  [0.48235294 0.34509804 0.21568627]\n",
            "  [0.46666667 0.3254902  0.19607843]\n",
            "  [0.47843137 0.34117647 0.22352941]]\n",
            "\n",
            " [[0.09803922 0.09411765 0.08235294]\n",
            "  [0.0627451  0.02745098 0.        ]\n",
            "  [0.19215686 0.10588235 0.03137255]\n",
            "  ...\n",
            "  [0.4627451  0.32941176 0.19607843]\n",
            "  [0.47058824 0.32941176 0.19607843]\n",
            "  [0.42745098 0.28627451 0.16470588]]\n",
            "\n",
            " ...\n",
            "\n",
            " [[0.81568627 0.66666667 0.37647059]\n",
            "  [0.78823529 0.6        0.13333333]\n",
            "  [0.77647059 0.63137255 0.10196078]\n",
            "  ...\n",
            "  [0.62745098 0.52156863 0.2745098 ]\n",
            "  [0.21960784 0.12156863 0.02745098]\n",
            "  [0.20784314 0.13333333 0.07843137]]\n",
            "\n",
            " [[0.70588235 0.54509804 0.37647059]\n",
            "  [0.67843137 0.48235294 0.16470588]\n",
            "  [0.72941176 0.56470588 0.11764706]\n",
            "  ...\n",
            "  [0.72156863 0.58039216 0.36862745]\n",
            "  [0.38039216 0.24313725 0.13333333]\n",
            "  [0.3254902  0.20784314 0.13333333]]\n",
            "\n",
            " [[0.69411765 0.56470588 0.45490196]\n",
            "  [0.65882353 0.50588235 0.36862745]\n",
            "  [0.70196078 0.55686275 0.34117647]\n",
            "  ...\n",
            "  [0.84705882 0.72156863 0.54901961]\n",
            "  [0.59215686 0.4627451  0.32941176]\n",
            "  [0.48235294 0.36078431 0.28235294]]]\n"
          ],
          "name": "stdout"
        }
      ]
    },
    {
      "cell_type": "markdown",
      "metadata": {
        "id": "BtSROU80aF12"
      },
      "source": [
        "> ## 2) One Hot Encoding"
      ]
    },
    {
      "cell_type": "code",
      "metadata": {
        "id": "eC48Oym3Ao8E"
      },
      "source": [
        "train_targets = to_categorical(train_targets)\n",
        "y_test = to_categorical(y_test)"
      ],
      "execution_count": 11,
      "outputs": []
    },
    {
      "cell_type": "code",
      "metadata": {
        "id": "q1O-NsoJMyWU",
        "colab": {
          "base_uri": "https://localhost:8080/"
        },
        "outputId": "90b13407-9209-45a6-8663-8f68e9e432fd"
      },
      "source": [
        "print(train_targets[:5])"
      ],
      "execution_count": 12,
      "outputs": [
        {
          "output_type": "stream",
          "text": [
            "[[0. 0. 0. 0. 0. 0. 1. 0. 0. 0.]\n",
            " [0. 0. 0. 0. 0. 0. 0. 0. 0. 1.]\n",
            " [0. 0. 0. 0. 0. 0. 0. 0. 0. 1.]\n",
            " [0. 0. 0. 0. 1. 0. 0. 0. 0. 0.]\n",
            " [0. 1. 0. 0. 0. 0. 0. 0. 0. 0.]]\n"
          ],
          "name": "stdout"
        }
      ]
    },
    {
      "cell_type": "markdown",
      "metadata": {
        "id": "jgWjeZyB29iO"
      },
      "source": [
        "### 3) Train & Validation Split"
      ]
    },
    {
      "cell_type": "code",
      "metadata": {
        "colab": {
          "base_uri": "https://localhost:8080/"
        },
        "id": "22TvOYSA29Bo",
        "outputId": "3219d68c-4905-4673-ea64-8af11bf0cb57"
      },
      "source": [
        "X_train, X_valid, y_train, y_valid = train_test_split(train_data, train_targets,\n",
        "                                                      test_size = 0.2,\n",
        "                                                      random_state = 2045)\n",
        "\n",
        "X_train.shape, X_valid.shape, y_train.shape, y_valid.shape"
      ],
      "execution_count": 15,
      "outputs": [
        {
          "output_type": "execute_result",
          "data": {
            "text/plain": [
              "((40000, 32, 32, 3), (10000, 32, 32, 3), (40000, 10), (10000, 10))"
            ]
          },
          "metadata": {
            "tags": []
          },
          "execution_count": 15
        }
      ]
    },
    {
      "cell_type": "markdown",
      "metadata": {
        "id": "NTwZiSjiop3v"
      },
      "source": [
        "# III. Keras Modeling"
      ]
    },
    {
      "cell_type": "markdown",
      "metadata": {
        "id": "j5CT0TurJCkc"
      },
      "source": [
        "> ## 1) Model Define"
      ]
    },
    {
      "cell_type": "markdown",
      "metadata": {
        "id": "ydDCl0jTJD58"
      },
      "source": [
        "* 모델 신경망 구조 정의\n",
        " - 2개의 Hidden Layers & 3968개의 Nodes"
      ]
    },
    {
      "cell_type": "code",
      "metadata": {
        "id": "II0DskRdAcHS"
      },
      "source": [
        "model = models.Sequential()\n",
        "model.add(layers.Conv2D(filters=32, kernel_size=(3,3), activation='relu', \n",
        "                        input_shape=(32, 32, 3)))\n",
        "model.add(layers.Conv2D(filters=32, kernel_size=(3,3), activation='relu'))\n",
        "model.add(layers.MaxPool2D(pool_size=(2,2)))\n",
        "model.add(layers.Conv2D(filters=64, kernel_size=(3,3), activation='relu'))\n",
        "model.add(layers.Conv2D(filters=64, kernel_size=(3,3), activation='relu'))\n",
        "model.add(layers.MaxPool2D(pool_size=(2,2)))\n",
        "model.add(layers.Conv2D(filters=64, kernel_size=(3,3), activation='relu'))\n",
        "model.add(layers.Flatten())\n",
        "model.add(layers.Dense(units=64, activation='relu'))\n",
        "model.add(layers.Dense(units=10, activation='softmax'))"
      ],
      "execution_count": 17,
      "outputs": []
    },
    {
      "cell_type": "markdown",
      "metadata": {
        "id": "PqrObAHZJTN8"
      },
      "source": [
        "* 모델 구조 확인"
      ]
    },
    {
      "cell_type": "code",
      "metadata": {
        "id": "wbtjOA4XMTUd",
        "colab": {
          "base_uri": "https://localhost:8080/"
        },
        "outputId": "c590f1ca-1a61-451c-fb3d-8758a05bf739"
      },
      "source": [
        "model.summary()"
      ],
      "execution_count": 18,
      "outputs": [
        {
          "output_type": "stream",
          "text": [
            "Model: \"sequential\"\n",
            "_________________________________________________________________\n",
            "Layer (type)                 Output Shape              Param #   \n",
            "=================================================================\n",
            "conv2d (Conv2D)              (None, 30, 30, 32)        896       \n",
            "_________________________________________________________________\n",
            "conv2d_1 (Conv2D)            (None, 28, 28, 32)        9248      \n",
            "_________________________________________________________________\n",
            "max_pooling2d (MaxPooling2D) (None, 14, 14, 32)        0         \n",
            "_________________________________________________________________\n",
            "conv2d_2 (Conv2D)            (None, 12, 12, 64)        18496     \n",
            "_________________________________________________________________\n",
            "conv2d_3 (Conv2D)            (None, 10, 10, 64)        36928     \n",
            "_________________________________________________________________\n",
            "max_pooling2d_1 (MaxPooling2 (None, 5, 5, 64)          0         \n",
            "_________________________________________________________________\n",
            "conv2d_4 (Conv2D)            (None, 3, 3, 64)          36928     \n",
            "_________________________________________________________________\n",
            "flatten (Flatten)            (None, 576)               0         \n",
            "_________________________________________________________________\n",
            "dense (Dense)                (None, 64)                36928     \n",
            "_________________________________________________________________\n",
            "dense_1 (Dense)              (None, 10)                650       \n",
            "=================================================================\n",
            "Total params: 140,074\n",
            "Trainable params: 140,074\n",
            "Non-trainable params: 0\n",
            "_________________________________________________________________\n"
          ],
          "name": "stdout"
        }
      ]
    },
    {
      "cell_type": "markdown",
      "metadata": {
        "id": "tpjBDBeYoyuj"
      },
      "source": [
        "> ## 2) Model Compile"
      ]
    },
    {
      "cell_type": "markdown",
      "metadata": {
        "id": "f3sxkQa0JoUr"
      },
      "source": [
        "* 모델 학습방법 설정"
      ]
    },
    {
      "cell_type": "code",
      "metadata": {
        "id": "AyK_t1qwAi6M"
      },
      "source": [
        "model.compile(loss = 'categorical_crossentropy',\n",
        "              optimizer = 'adam',\n",
        "              metrics = ['accuracy'])"
      ],
      "execution_count": 19,
      "outputs": []
    },
    {
      "cell_type": "markdown",
      "metadata": {
        "id": "umiq4B-Xo3OB"
      },
      "source": [
        "> ## 3) Model Fit"
      ]
    },
    {
      "cell_type": "markdown",
      "metadata": {
        "id": "1KuXREziKMD1"
      },
      "source": [
        "* 약 4분"
      ]
    },
    {
      "cell_type": "code",
      "metadata": {
        "id": "zxwqwAqRAqRP",
        "colab": {
          "base_uri": "https://localhost:8080/"
        },
        "outputId": "ccf29326-7467-46c8-82be-b9a73b5c849e"
      },
      "source": [
        "%%time\n",
        "\n",
        "Hist_model = model.fit(X_train, y_train,\n",
        "                       epochs = 100,\n",
        "                       batch_size = 128,\n",
        "                       validation_split = 0.2)"
      ],
      "execution_count": 20,
      "outputs": [
        {
          "output_type": "stream",
          "text": [
            "Epoch 1/100\n",
            "250/250 [==============================] - 35s 11ms/step - loss: 1.9844 - accuracy: 0.2592 - val_loss: 1.4928 - val_accuracy: 0.4476\n",
            "Epoch 2/100\n",
            "250/250 [==============================] - 2s 10ms/step - loss: 1.4423 - accuracy: 0.4738 - val_loss: 1.3211 - val_accuracy: 0.5189\n",
            "Epoch 3/100\n",
            "250/250 [==============================] - 2s 10ms/step - loss: 1.2614 - accuracy: 0.5471 - val_loss: 1.2029 - val_accuracy: 0.5764\n",
            "Epoch 4/100\n",
            "250/250 [==============================] - 2s 9ms/step - loss: 1.1413 - accuracy: 0.5954 - val_loss: 1.1379 - val_accuracy: 0.5965\n",
            "Epoch 5/100\n",
            "250/250 [==============================] - 2s 9ms/step - loss: 1.0610 - accuracy: 0.6234 - val_loss: 1.0713 - val_accuracy: 0.6204\n",
            "Epoch 6/100\n",
            "250/250 [==============================] - 2s 10ms/step - loss: 0.9893 - accuracy: 0.6501 - val_loss: 0.9965 - val_accuracy: 0.6509\n",
            "Epoch 7/100\n",
            "250/250 [==============================] - 2s 10ms/step - loss: 0.9110 - accuracy: 0.6800 - val_loss: 0.9313 - val_accuracy: 0.6730\n",
            "Epoch 8/100\n",
            "250/250 [==============================] - 2s 10ms/step - loss: 0.8461 - accuracy: 0.7020 - val_loss: 0.9077 - val_accuracy: 0.6873\n",
            "Epoch 9/100\n",
            "250/250 [==============================] - 2s 10ms/step - loss: 0.7755 - accuracy: 0.7289 - val_loss: 0.9251 - val_accuracy: 0.6802\n",
            "Epoch 10/100\n",
            "250/250 [==============================] - 2s 10ms/step - loss: 0.7518 - accuracy: 0.7393 - val_loss: 0.8531 - val_accuracy: 0.7039\n",
            "Epoch 11/100\n",
            "250/250 [==============================] - 2s 10ms/step - loss: 0.6817 - accuracy: 0.7622 - val_loss: 0.8371 - val_accuracy: 0.7109\n",
            "Epoch 12/100\n",
            "250/250 [==============================] - 2s 10ms/step - loss: 0.6418 - accuracy: 0.7751 - val_loss: 0.8655 - val_accuracy: 0.7067\n",
            "Epoch 13/100\n",
            "250/250 [==============================] - 2s 10ms/step - loss: 0.6014 - accuracy: 0.7854 - val_loss: 0.8335 - val_accuracy: 0.7166\n",
            "Epoch 14/100\n",
            "250/250 [==============================] - 2s 10ms/step - loss: 0.5707 - accuracy: 0.8019 - val_loss: 0.8320 - val_accuracy: 0.7126\n",
            "Epoch 15/100\n",
            "250/250 [==============================] - 2s 9ms/step - loss: 0.5128 - accuracy: 0.8208 - val_loss: 0.8486 - val_accuracy: 0.7147\n",
            "Epoch 16/100\n",
            "250/250 [==============================] - 2s 9ms/step - loss: 0.4876 - accuracy: 0.8292 - val_loss: 0.8544 - val_accuracy: 0.7126\n",
            "Epoch 17/100\n",
            "250/250 [==============================] - 2s 9ms/step - loss: 0.4588 - accuracy: 0.8392 - val_loss: 0.8867 - val_accuracy: 0.7103\n",
            "Epoch 18/100\n",
            "250/250 [==============================] - 2s 10ms/step - loss: 0.4165 - accuracy: 0.8534 - val_loss: 0.9425 - val_accuracy: 0.7085\n",
            "Epoch 19/100\n",
            "250/250 [==============================] - 2s 9ms/step - loss: 0.4007 - accuracy: 0.8578 - val_loss: 0.8889 - val_accuracy: 0.7154\n",
            "Epoch 20/100\n",
            "250/250 [==============================] - 2s 10ms/step - loss: 0.3535 - accuracy: 0.8759 - val_loss: 0.9749 - val_accuracy: 0.7181\n",
            "Epoch 21/100\n",
            "250/250 [==============================] - 2s 10ms/step - loss: 0.3501 - accuracy: 0.8760 - val_loss: 1.0931 - val_accuracy: 0.7032\n",
            "Epoch 22/100\n",
            "250/250 [==============================] - 2s 10ms/step - loss: 0.3150 - accuracy: 0.8902 - val_loss: 1.0218 - val_accuracy: 0.7124\n",
            "Epoch 23/100\n",
            "250/250 [==============================] - 2s 10ms/step - loss: 0.2810 - accuracy: 0.8984 - val_loss: 1.0806 - val_accuracy: 0.7130\n",
            "Epoch 24/100\n",
            "250/250 [==============================] - 2s 10ms/step - loss: 0.2517 - accuracy: 0.9127 - val_loss: 1.1625 - val_accuracy: 0.7110\n",
            "Epoch 25/100\n",
            "250/250 [==============================] - 2s 10ms/step - loss: 0.2370 - accuracy: 0.9158 - val_loss: 1.1759 - val_accuracy: 0.7075\n",
            "Epoch 26/100\n",
            "250/250 [==============================] - 2s 10ms/step - loss: 0.1962 - accuracy: 0.9309 - val_loss: 1.2378 - val_accuracy: 0.7029\n",
            "Epoch 27/100\n",
            "250/250 [==============================] - 2s 10ms/step - loss: 0.1739 - accuracy: 0.9408 - val_loss: 1.2551 - val_accuracy: 0.7097\n",
            "Epoch 28/100\n",
            "250/250 [==============================] - 2s 10ms/step - loss: 0.1651 - accuracy: 0.9420 - val_loss: 1.3649 - val_accuracy: 0.6944\n",
            "Epoch 29/100\n",
            "250/250 [==============================] - 2s 10ms/step - loss: 0.1694 - accuracy: 0.9394 - val_loss: 1.3877 - val_accuracy: 0.7054\n",
            "Epoch 30/100\n",
            "250/250 [==============================] - 2s 10ms/step - loss: 0.1274 - accuracy: 0.9564 - val_loss: 1.4443 - val_accuracy: 0.7084\n",
            "Epoch 31/100\n",
            "250/250 [==============================] - 2s 10ms/step - loss: 0.1405 - accuracy: 0.9495 - val_loss: 1.4980 - val_accuracy: 0.7013\n",
            "Epoch 32/100\n",
            "250/250 [==============================] - 2s 10ms/step - loss: 0.1367 - accuracy: 0.9519 - val_loss: 1.5980 - val_accuracy: 0.7021\n",
            "Epoch 33/100\n",
            "250/250 [==============================] - 2s 10ms/step - loss: 0.1096 - accuracy: 0.9624 - val_loss: 1.6735 - val_accuracy: 0.7051\n",
            "Epoch 34/100\n",
            "250/250 [==============================] - 2s 10ms/step - loss: 0.0997 - accuracy: 0.9649 - val_loss: 1.7401 - val_accuracy: 0.7000\n",
            "Epoch 35/100\n",
            "250/250 [==============================] - 2s 10ms/step - loss: 0.1077 - accuracy: 0.9607 - val_loss: 1.5791 - val_accuracy: 0.7054\n",
            "Epoch 36/100\n",
            "250/250 [==============================] - 2s 10ms/step - loss: 0.0992 - accuracy: 0.9659 - val_loss: 1.7240 - val_accuracy: 0.7039\n",
            "Epoch 37/100\n",
            "250/250 [==============================] - 2s 10ms/step - loss: 0.0890 - accuracy: 0.9698 - val_loss: 1.8431 - val_accuracy: 0.6992\n",
            "Epoch 38/100\n",
            "250/250 [==============================] - 2s 10ms/step - loss: 0.0823 - accuracy: 0.9707 - val_loss: 1.9028 - val_accuracy: 0.7000\n",
            "Epoch 39/100\n",
            "250/250 [==============================] - 2s 10ms/step - loss: 0.1140 - accuracy: 0.9591 - val_loss: 1.9927 - val_accuracy: 0.6975\n",
            "Epoch 40/100\n",
            "250/250 [==============================] - 2s 10ms/step - loss: 0.0819 - accuracy: 0.9694 - val_loss: 1.9891 - val_accuracy: 0.6974\n",
            "Epoch 41/100\n",
            "250/250 [==============================] - 2s 10ms/step - loss: 0.0870 - accuracy: 0.9690 - val_loss: 1.9856 - val_accuracy: 0.6955\n",
            "Epoch 42/100\n",
            "250/250 [==============================] - 2s 10ms/step - loss: 0.0981 - accuracy: 0.9648 - val_loss: 2.0826 - val_accuracy: 0.7029\n",
            "Epoch 43/100\n",
            "250/250 [==============================] - 2s 10ms/step - loss: 0.0765 - accuracy: 0.9725 - val_loss: 2.0247 - val_accuracy: 0.6890\n",
            "Epoch 44/100\n",
            "250/250 [==============================] - 2s 10ms/step - loss: 0.0810 - accuracy: 0.9720 - val_loss: 2.1023 - val_accuracy: 0.7024\n",
            "Epoch 45/100\n",
            "250/250 [==============================] - 2s 10ms/step - loss: 0.0777 - accuracy: 0.9727 - val_loss: 2.1480 - val_accuracy: 0.7009\n",
            "Epoch 46/100\n",
            "250/250 [==============================] - 2s 10ms/step - loss: 0.0556 - accuracy: 0.9815 - val_loss: 2.1834 - val_accuracy: 0.7051\n",
            "Epoch 47/100\n",
            "250/250 [==============================] - 2s 10ms/step - loss: 0.0683 - accuracy: 0.9762 - val_loss: 2.2506 - val_accuracy: 0.6944\n",
            "Epoch 48/100\n",
            "250/250 [==============================] - 2s 10ms/step - loss: 0.0848 - accuracy: 0.9710 - val_loss: 2.3372 - val_accuracy: 0.7038\n",
            "Epoch 49/100\n",
            "250/250 [==============================] - 2s 10ms/step - loss: 0.0841 - accuracy: 0.9711 - val_loss: 2.3363 - val_accuracy: 0.6992\n",
            "Epoch 50/100\n",
            "250/250 [==============================] - 2s 10ms/step - loss: 0.0814 - accuracy: 0.9714 - val_loss: 2.2057 - val_accuracy: 0.6989\n",
            "Epoch 51/100\n",
            "250/250 [==============================] - 2s 10ms/step - loss: 0.0587 - accuracy: 0.9802 - val_loss: 2.4276 - val_accuracy: 0.6921\n",
            "Epoch 52/100\n",
            "250/250 [==============================] - 2s 10ms/step - loss: 0.0718 - accuracy: 0.9751 - val_loss: 2.4703 - val_accuracy: 0.6991\n",
            "Epoch 53/100\n",
            "250/250 [==============================] - 2s 10ms/step - loss: 0.0703 - accuracy: 0.9754 - val_loss: 2.4171 - val_accuracy: 0.6924\n",
            "Epoch 54/100\n",
            "250/250 [==============================] - 2s 10ms/step - loss: 0.0822 - accuracy: 0.9713 - val_loss: 2.3959 - val_accuracy: 0.7011\n",
            "Epoch 55/100\n",
            "250/250 [==============================] - 2s 10ms/step - loss: 0.0556 - accuracy: 0.9812 - val_loss: 2.3587 - val_accuracy: 0.6998\n",
            "Epoch 56/100\n",
            "250/250 [==============================] - 2s 10ms/step - loss: 0.0670 - accuracy: 0.9776 - val_loss: 2.4948 - val_accuracy: 0.7038\n",
            "Epoch 57/100\n",
            "250/250 [==============================] - 2s 10ms/step - loss: 0.0757 - accuracy: 0.9728 - val_loss: 2.3829 - val_accuracy: 0.6975\n",
            "Epoch 58/100\n",
            "250/250 [==============================] - 2s 10ms/step - loss: 0.0731 - accuracy: 0.9751 - val_loss: 2.4653 - val_accuracy: 0.6954\n",
            "Epoch 59/100\n",
            "250/250 [==============================] - 2s 10ms/step - loss: 0.0655 - accuracy: 0.9773 - val_loss: 2.5607 - val_accuracy: 0.7065\n",
            "Epoch 60/100\n",
            "250/250 [==============================] - 2s 10ms/step - loss: 0.0424 - accuracy: 0.9848 - val_loss: 2.4343 - val_accuracy: 0.6986\n",
            "Epoch 61/100\n",
            "250/250 [==============================] - 2s 10ms/step - loss: 0.0679 - accuracy: 0.9765 - val_loss: 2.5064 - val_accuracy: 0.6895\n",
            "Epoch 62/100\n",
            "250/250 [==============================] - 2s 10ms/step - loss: 0.0657 - accuracy: 0.9779 - val_loss: 2.4923 - val_accuracy: 0.6945\n",
            "Epoch 63/100\n",
            "250/250 [==============================] - 2s 10ms/step - loss: 0.0634 - accuracy: 0.9783 - val_loss: 2.3886 - val_accuracy: 0.6974\n",
            "Epoch 64/100\n",
            "250/250 [==============================] - 2s 10ms/step - loss: 0.0549 - accuracy: 0.9816 - val_loss: 2.5048 - val_accuracy: 0.6889\n",
            "Epoch 65/100\n",
            "250/250 [==============================] - 2s 10ms/step - loss: 0.0705 - accuracy: 0.9760 - val_loss: 2.6298 - val_accuracy: 0.6949\n",
            "Epoch 66/100\n",
            "250/250 [==============================] - 2s 10ms/step - loss: 0.0512 - accuracy: 0.9824 - val_loss: 2.7031 - val_accuracy: 0.6961\n",
            "Epoch 67/100\n",
            "250/250 [==============================] - 2s 10ms/step - loss: 0.0604 - accuracy: 0.9797 - val_loss: 2.5758 - val_accuracy: 0.6990\n",
            "Epoch 68/100\n",
            "250/250 [==============================] - 2s 10ms/step - loss: 0.0740 - accuracy: 0.9752 - val_loss: 2.5793 - val_accuracy: 0.7015\n",
            "Epoch 69/100\n",
            "250/250 [==============================] - 2s 10ms/step - loss: 0.0742 - accuracy: 0.9754 - val_loss: 2.6657 - val_accuracy: 0.6938\n",
            "Epoch 70/100\n",
            "250/250 [==============================] - 2s 10ms/step - loss: 0.0633 - accuracy: 0.9789 - val_loss: 2.6395 - val_accuracy: 0.6854\n",
            "Epoch 71/100\n",
            "250/250 [==============================] - 2s 10ms/step - loss: 0.0570 - accuracy: 0.9813 - val_loss: 2.7506 - val_accuracy: 0.6973\n",
            "Epoch 72/100\n",
            "250/250 [==============================] - 2s 10ms/step - loss: 0.0475 - accuracy: 0.9834 - val_loss: 2.6919 - val_accuracy: 0.6934\n",
            "Epoch 73/100\n",
            "250/250 [==============================] - 2s 10ms/step - loss: 0.0518 - accuracy: 0.9820 - val_loss: 2.7802 - val_accuracy: 0.6915\n",
            "Epoch 74/100\n",
            "250/250 [==============================] - 2s 10ms/step - loss: 0.0604 - accuracy: 0.9801 - val_loss: 2.6685 - val_accuracy: 0.6914\n",
            "Epoch 75/100\n",
            "250/250 [==============================] - 2s 10ms/step - loss: 0.0694 - accuracy: 0.9766 - val_loss: 2.7247 - val_accuracy: 0.6916\n",
            "Epoch 76/100\n",
            "250/250 [==============================] - 2s 10ms/step - loss: 0.0643 - accuracy: 0.9779 - val_loss: 2.7682 - val_accuracy: 0.6864\n",
            "Epoch 77/100\n",
            "250/250 [==============================] - 2s 10ms/step - loss: 0.0589 - accuracy: 0.9808 - val_loss: 2.7012 - val_accuracy: 0.6956\n",
            "Epoch 78/100\n",
            "250/250 [==============================] - 2s 10ms/step - loss: 0.0717 - accuracy: 0.9765 - val_loss: 2.8529 - val_accuracy: 0.6941\n",
            "Epoch 79/100\n",
            "250/250 [==============================] - 2s 10ms/step - loss: 0.0718 - accuracy: 0.9765 - val_loss: 2.8617 - val_accuracy: 0.6931\n",
            "Epoch 80/100\n",
            "250/250 [==============================] - 2s 10ms/step - loss: 0.0491 - accuracy: 0.9839 - val_loss: 3.0356 - val_accuracy: 0.6785\n",
            "Epoch 81/100\n",
            "250/250 [==============================] - 2s 10ms/step - loss: 0.0510 - accuracy: 0.9827 - val_loss: 3.1146 - val_accuracy: 0.6747\n",
            "Epoch 82/100\n",
            "250/250 [==============================] - 2s 10ms/step - loss: 0.0828 - accuracy: 0.9741 - val_loss: 2.8599 - val_accuracy: 0.6924\n",
            "Epoch 83/100\n",
            "250/250 [==============================] - 2s 10ms/step - loss: 0.0469 - accuracy: 0.9845 - val_loss: 2.9690 - val_accuracy: 0.6960\n",
            "Epoch 84/100\n",
            "250/250 [==============================] - 2s 10ms/step - loss: 0.0779 - accuracy: 0.9760 - val_loss: 2.7899 - val_accuracy: 0.6964\n",
            "Epoch 85/100\n",
            "250/250 [==============================] - 2s 10ms/step - loss: 0.0319 - accuracy: 0.9881 - val_loss: 2.9107 - val_accuracy: 0.6895\n",
            "Epoch 86/100\n",
            "250/250 [==============================] - 2s 10ms/step - loss: 0.0677 - accuracy: 0.9794 - val_loss: 3.0383 - val_accuracy: 0.6888\n",
            "Epoch 87/100\n",
            "250/250 [==============================] - 2s 10ms/step - loss: 0.0782 - accuracy: 0.9754 - val_loss: 2.8630 - val_accuracy: 0.6965\n",
            "Epoch 88/100\n",
            "250/250 [==============================] - 2s 10ms/step - loss: 0.0448 - accuracy: 0.9868 - val_loss: 2.9555 - val_accuracy: 0.6992\n",
            "Epoch 89/100\n",
            "250/250 [==============================] - 2s 10ms/step - loss: 0.0498 - accuracy: 0.9826 - val_loss: 2.9524 - val_accuracy: 0.6915\n",
            "Epoch 90/100\n",
            "250/250 [==============================] - 2s 10ms/step - loss: 0.0532 - accuracy: 0.9815 - val_loss: 2.9672 - val_accuracy: 0.6880\n",
            "Epoch 91/100\n",
            "250/250 [==============================] - 2s 10ms/step - loss: 0.0486 - accuracy: 0.9838 - val_loss: 3.0427 - val_accuracy: 0.7034\n",
            "Epoch 92/100\n",
            "250/250 [==============================] - 2s 10ms/step - loss: 0.0410 - accuracy: 0.9860 - val_loss: 2.8680 - val_accuracy: 0.6988\n",
            "Epoch 93/100\n",
            "250/250 [==============================] - 2s 10ms/step - loss: 0.0659 - accuracy: 0.9784 - val_loss: 2.9721 - val_accuracy: 0.6891\n",
            "Epoch 94/100\n",
            "250/250 [==============================] - 2s 10ms/step - loss: 0.0551 - accuracy: 0.9810 - val_loss: 2.9322 - val_accuracy: 0.6925\n",
            "Epoch 95/100\n",
            "250/250 [==============================] - 2s 10ms/step - loss: 0.0419 - accuracy: 0.9854 - val_loss: 3.0646 - val_accuracy: 0.7031\n",
            "Epoch 96/100\n",
            "250/250 [==============================] - 2s 10ms/step - loss: 0.0418 - accuracy: 0.9861 - val_loss: 2.8966 - val_accuracy: 0.6995\n",
            "Epoch 97/100\n",
            "250/250 [==============================] - 2s 10ms/step - loss: 0.0504 - accuracy: 0.9831 - val_loss: 2.8948 - val_accuracy: 0.6970\n",
            "Epoch 98/100\n",
            "250/250 [==============================] - 2s 10ms/step - loss: 0.0746 - accuracy: 0.9761 - val_loss: 3.1526 - val_accuracy: 0.6910\n",
            "Epoch 99/100\n",
            "250/250 [==============================] - 2s 10ms/step - loss: 0.0359 - accuracy: 0.9873 - val_loss: 3.0457 - val_accuracy: 0.6951\n",
            "Epoch 100/100\n",
            "250/250 [==============================] - 2s 10ms/step - loss: 0.0662 - accuracy: 0.9800 - val_loss: 3.0297 - val_accuracy: 0.6913\n",
            "CPU times: user 3min 24s, sys: 1min, total: 4min 25s\n",
            "Wall time: 4min 36s\n"
          ],
          "name": "stdout"
        }
      ]
    },
    {
      "cell_type": "markdown",
      "metadata": {
        "id": "FnnIyFtNKhbD"
      },
      "source": [
        "> ## 4) 학습 결과 시각화"
      ]
    },
    {
      "cell_type": "markdown",
      "metadata": {
        "id": "YgXRhVauKqOm"
      },
      "source": [
        "* Loss Visualization"
      ]
    },
    {
      "cell_type": "code",
      "metadata": {
        "id": "OQ4ke8BbKi50",
        "colab": {
          "base_uri": "https://localhost:8080/",
          "height": 404
        },
        "outputId": "f14480f1-4aa0-4733-a006-47ca34ffbcaf"
      },
      "source": [
        "import matplotlib.pyplot as plt\n",
        "\n",
        "epochs = range(1, len(Hist_model.history['loss']) + 1)\n",
        "\n",
        "plt.figure(figsize = (9, 6))\n",
        "plt.plot(epochs, Hist_model.history['loss'])\n",
        "plt.plot(epochs, Hist_model.history['val_loss'])\n",
        "# plt.ylim(0, 0.25)\n",
        "plt.title('Training & Validation Loss')\n",
        "plt.xlabel('Epochs')\n",
        "plt.ylabel('Loss')\n",
        "plt.legend(['Training Loss', 'Validation Loss'])\n",
        "plt.grid()\n",
        "plt.show()"
      ],
      "execution_count": 21,
      "outputs": [
        {
          "output_type": "display_data",
          "data": {
            "image/png": "[encoded data removed]",
            "text/plain": [
              "<Figure size 648x432 with 1 Axes>"
            ]
          },
          "metadata": {
            "tags": [],
            "needs_background": "light"
          }
        }
      ]
    },
    {
      "cell_type": "markdown",
      "metadata": {
        "id": "_uJSOLBko7lh"
      },
      "source": [
        "> ## 5) Model Evaluate"
      ]
    },
    {
      "cell_type": "markdown",
      "metadata": {
        "id": "i-TqAB2ALGzZ"
      },
      "source": [
        "* Loss & Accuracy"
      ]
    },
    {
      "cell_type": "code",
      "metadata": {
        "id": "OF30PuZsAxQJ",
        "colab": {
          "base_uri": "https://localhost:8080/"
        },
        "outputId": "99d8326f-5edc-4908-e9a0-78023f4ec187"
      },
      "source": [
        "loss, accuracy = model.evaluate(X_test, y_test)\n",
        "\n",
        "print('Loss = {:.5f}'.format(loss))\n",
        "print('Accuracy = {:.5f}'.format(accuracy))"
      ],
      "execution_count": 22,
      "outputs": [
        {
          "output_type": "stream",
          "text": [
            "313/313 [==============================] - 1s 3ms/step - loss: 3.0144 - accuracy: 0.6993\n",
            "Loss = 3.01440\n",
            "Accuracy = 0.69930\n"
          ],
          "name": "stdout"
        }
      ]
    },
    {
      "cell_type": "markdown",
      "metadata": {
        "id": "sN48I9GrLxOX"
      },
      "source": [
        "# \n",
        "# \n",
        "# \n",
        "# The End\n",
        "# \n",
        "# \n",
        "# "
      ]
    }
  ]
}