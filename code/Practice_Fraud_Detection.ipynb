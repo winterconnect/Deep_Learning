{
  "nbformat": 4,
  "nbformat_minor": 0,
  "metadata": {
    "colab": {
      "name": "Practice_Fraud_Detection.ipynb",
      "provenance": []
    },
    "kernelspec": {
      "name": "python3",
      "display_name": "Python 3"
    }
  },
  "cells": [
    {
      "cell_type": "code",
      "metadata": {
        "id": "B3HpiroKhTQO"
      },
      "source": [
        "import warnings\n",
        "warnings.filterwarnings('ignore')"
      ],
      "execution_count": 1,
      "outputs": []
    },
    {
      "cell_type": "code",
      "metadata": {
        "id": "g5_HGsVahq3Z"
      },
      "source": [
        "import pandas as pd\n",
        "import matplotlib.pyplot as plt\n",
        "import seaborn as sns\n",
        "import numpy as np"
      ],
      "execution_count": 2,
      "outputs": []
    },
    {
      "cell_type": "code",
      "metadata": {
        "id": "xspXhyLciXvS"
      },
      "source": [
        "from sklearn.preprocessing import LabelEncoder\n",
        "from sklearn.model_selection import train_test_split\n",
        "from sklearn.metrics import confusion_matrix, classification_report, recall_score"
      ],
      "execution_count": 3,
      "outputs": []
    },
    {
      "cell_type": "code",
      "metadata": {
        "id": "ds4YDzN9lApe"
      },
      "source": [
        "import tensorflow as tf\n",
        "from tensorflow.keras import models\n",
        "from tensorflow.keras import layers\n",
        "from tensorflow.keras import utils"
      ],
      "execution_count": 4,
      "outputs": []
    },
    {
      "cell_type": "code",
      "metadata": {
        "id": "cYRUuUtvlK-5"
      },
      "source": [
        "from keras.models import load_model"
      ],
      "execution_count": 5,
      "outputs": []
    },
    {
      "cell_type": "code",
      "metadata": {
        "colab": {
          "base_uri": "https://localhost:8080/"
        },
        "id": "zcHfpJUdhYE4",
        "outputId": "0c270cbe-ea6f-4019-e02b-1450f2ded429"
      },
      "source": [
        "from google.colab import drive\n",
        "\n",
        "drive.mount('/content/drive')"
      ],
      "execution_count": 6,
      "outputs": [
        {
          "output_type": "stream",
          "text": [
            "Mounted at /content/drive\n"
          ],
          "name": "stdout"
        }
      ]
    },
    {
      "cell_type": "markdown",
      "metadata": {
        "id": "x6bMpooOk4lc"
      },
      "source": [
        "## 1. Data load & preprocessing"
      ]
    },
    {
      "cell_type": "code",
      "metadata": {
        "colab": {
          "base_uri": "https://localhost:8080/"
        },
        "id": "_ZNSuEa_haIK",
        "outputId": "c81701eb-fb36-4048-ef4a-d58ee15391e3"
      },
      "source": [
        "!ls -l '/content/drive/My Drive/Colab Notebooks/datasets/creditCardFraud.zip'"
      ],
      "execution_count": 7,
      "outputs": [
        {
          "output_type": "stream",
          "text": [
            "-rw------- 1 root root 68787205 Mar  9 04:06 '/content/drive/My Drive/Colab Notebooks/datasets/creditCardFraud.zip'\n"
          ],
          "name": "stdout"
        }
      ]
    },
    {
      "cell_type": "code",
      "metadata": {
        "colab": {
          "base_uri": "https://localhost:8080/"
        },
        "id": "ZH3mMPBQhg2L",
        "outputId": "4d6937f8-f0e2-496b-a0e9-12f9223e400b"
      },
      "source": [
        "!unzip /content/drive/My\\ Drive/Colab\\ Notebooks/datasets/creditCardFraud.zip"
      ],
      "execution_count": 8,
      "outputs": [
        {
          "output_type": "stream",
          "text": [
            "Archive:  /content/drive/My Drive/Colab Notebooks/datasets/creditCardFraud.zip\n",
            "  inflating: creditcard.csv          \n",
            "  inflating: __MACOSX/._creditcard.csv  \n"
          ],
          "name": "stdout"
        }
      ]
    },
    {
      "cell_type": "code",
      "metadata": {
        "colab": {
          "base_uri": "https://localhost:8080/"
        },
        "id": "frdwuSBRhiz4",
        "outputId": "7accb13d-596c-4929-ad39-7ac854fdac26"
      },
      "source": [
        "!ls -l"
      ],
      "execution_count": 9,
      "outputs": [
        {
          "output_type": "stream",
          "text": [
            "total 147308\n",
            "-rw-rw-r-- 1 root root 150828752 Sep 19  2019 creditcard.csv\n",
            "drwx------ 5 root root      4096 Mar 18 13:27 drive\n",
            "drwxr-xr-x 2 root root      4096 Mar 18 13:28 __MACOSX\n",
            "drwxr-xr-x 1 root root      4096 Mar  5 14:37 sample_data\n"
          ],
          "name": "stdout"
        }
      ]
    },
    {
      "cell_type": "code",
      "metadata": {
        "colab": {
          "base_uri": "https://localhost:8080/"
        },
        "id": "h48Xz8lLhlBA",
        "outputId": "04560bbb-4db6-4794-b9fb-2746f8900537"
      },
      "source": [
        "%%time\n",
        "\n",
        "DF = pd.read_csv('creditcard.csv')\n",
        "\n",
        "DF.info()"
      ],
      "execution_count": 10,
      "outputs": [
        {
          "output_type": "stream",
          "text": [
            "<class 'pandas.core.frame.DataFrame'>\n",
            "RangeIndex: 284807 entries, 0 to 284806\n",
            "Data columns (total 31 columns):\n",
            " #   Column  Non-Null Count   Dtype  \n",
            "---  ------  --------------   -----  \n",
            " 0   Time    284807 non-null  float64\n",
            " 1   V1      284807 non-null  float64\n",
            " 2   V2      284807 non-null  float64\n",
            " 3   V3      284807 non-null  float64\n",
            " 4   V4      284807 non-null  float64\n",
            " 5   V5      284807 non-null  float64\n",
            " 6   V6      284807 non-null  float64\n",
            " 7   V7      284807 non-null  float64\n",
            " 8   V8      284807 non-null  float64\n",
            " 9   V9      284807 non-null  float64\n",
            " 10  V10     284807 non-null  float64\n",
            " 11  V11     284807 non-null  float64\n",
            " 12  V12     284807 non-null  float64\n",
            " 13  V13     284807 non-null  float64\n",
            " 14  V14     284807 non-null  float64\n",
            " 15  V15     284807 non-null  float64\n",
            " 16  V16     284807 non-null  float64\n",
            " 17  V17     284807 non-null  float64\n",
            " 18  V18     284807 non-null  float64\n",
            " 19  V19     284807 non-null  float64\n",
            " 20  V20     284807 non-null  float64\n",
            " 21  V21     284807 non-null  float64\n",
            " 22  V22     284807 non-null  float64\n",
            " 23  V23     284807 non-null  float64\n",
            " 24  V24     284807 non-null  float64\n",
            " 25  V25     284807 non-null  float64\n",
            " 26  V26     284807 non-null  float64\n",
            " 27  V27     284807 non-null  float64\n",
            " 28  V28     284807 non-null  float64\n",
            " 29  Amount  284807 non-null  float64\n",
            " 30  Class   284807 non-null  int64  \n",
            "dtypes: float64(30), int64(1)\n",
            "memory usage: 67.4 MB\n",
            "CPU times: user 3.06 s, sys: 180 ms, total: 3.24 s\n",
            "Wall time: 3.27 s\n"
          ],
          "name": "stdout"
        }
      ]
    },
    {
      "cell_type": "code",
      "metadata": {
        "colab": {
          "base_uri": "https://localhost:8080/",
          "height": 224
        },
        "id": "xi8m8MQSiCws",
        "outputId": "39da4db0-1a02-4a5a-ba99-4394e500d122"
      },
      "source": [
        "DF.head()"
      ],
      "execution_count": 11,
      "outputs": [
        {
          "output_type": "execute_result",
          "data": {
            "text/html": [
              "<div>\n",
              "<style scoped>\n",
              "    .dataframe tbody tr th:only-of-type {\n",
              "        vertical-align: middle;\n",
              "    }\n",
              "\n",
              "    .dataframe tbody tr th {\n",
              "        vertical-align: top;\n",
              "    }\n",
              "\n",
              "    .dataframe thead th {\n",
              "        text-align: right;\n",
              "    }\n",
              "</style>\n",
              "<table border=\"1\" class=\"dataframe\">\n",
              "  <thead>\n",
              "    <tr style=\"text-align: right;\">\n",
              "      <th></th>\n",
              "      <th>Time</th>\n",
              "      <th>V1</th>\n",
              "      <th>V2</th>\n",
              "      <th>V3</th>\n",
              "      <th>V4</th>\n",
              "      <th>V5</th>\n",
              "      <th>V6</th>\n",
              "      <th>V7</th>\n",
              "      <th>V8</th>\n",
              "      <th>V9</th>\n",
              "      <th>V10</th>\n",
              "      <th>V11</th>\n",
              "      <th>V12</th>\n",
              "      <th>V13</th>\n",
              "      <th>V14</th>\n",
              "      <th>V15</th>\n",
              "      <th>V16</th>\n",
              "      <th>V17</th>\n",
              "      <th>V18</th>\n",
              "      <th>V19</th>\n",
              "      <th>V20</th>\n",
              "      <th>V21</th>\n",
              "      <th>V22</th>\n",
              "      <th>V23</th>\n",
              "      <th>V24</th>\n",
              "      <th>V25</th>\n",
              "      <th>V26</th>\n",
              "      <th>V27</th>\n",
              "      <th>V28</th>\n",
              "      <th>Amount</th>\n",
              "      <th>Class</th>\n",
              "    </tr>\n",
              "  </thead>\n",
              "  <tbody>\n",
              "    <tr>\n",
              "      <th>0</th>\n",
              "      <td>0.0</td>\n",
              "      <td>-1.359807</td>\n",
              "      <td>-0.072781</td>\n",
              "      <td>2.536347</td>\n",
              "      <td>1.378155</td>\n",
              "      <td>-0.338321</td>\n",
              "      <td>0.462388</td>\n",
              "      <td>0.239599</td>\n",
              "      <td>0.098698</td>\n",
              "      <td>0.363787</td>\n",
              "      <td>0.090794</td>\n",
              "      <td>-0.551600</td>\n",
              "      <td>-0.617801</td>\n",
              "      <td>-0.991390</td>\n",
              "      <td>-0.311169</td>\n",
              "      <td>1.468177</td>\n",
              "      <td>-0.470401</td>\n",
              "      <td>0.207971</td>\n",
              "      <td>0.025791</td>\n",
              "      <td>0.403993</td>\n",
              "      <td>0.251412</td>\n",
              "      <td>-0.018307</td>\n",
              "      <td>0.277838</td>\n",
              "      <td>-0.110474</td>\n",
              "      <td>0.066928</td>\n",
              "      <td>0.128539</td>\n",
              "      <td>-0.189115</td>\n",
              "      <td>0.133558</td>\n",
              "      <td>-0.021053</td>\n",
              "      <td>149.62</td>\n",
              "      <td>0</td>\n",
              "    </tr>\n",
              "    <tr>\n",
              "      <th>1</th>\n",
              "      <td>0.0</td>\n",
              "      <td>1.191857</td>\n",
              "      <td>0.266151</td>\n",
              "      <td>0.166480</td>\n",
              "      <td>0.448154</td>\n",
              "      <td>0.060018</td>\n",
              "      <td>-0.082361</td>\n",
              "      <td>-0.078803</td>\n",
              "      <td>0.085102</td>\n",
              "      <td>-0.255425</td>\n",
              "      <td>-0.166974</td>\n",
              "      <td>1.612727</td>\n",
              "      <td>1.065235</td>\n",
              "      <td>0.489095</td>\n",
              "      <td>-0.143772</td>\n",
              "      <td>0.635558</td>\n",
              "      <td>0.463917</td>\n",
              "      <td>-0.114805</td>\n",
              "      <td>-0.183361</td>\n",
              "      <td>-0.145783</td>\n",
              "      <td>-0.069083</td>\n",
              "      <td>-0.225775</td>\n",
              "      <td>-0.638672</td>\n",
              "      <td>0.101288</td>\n",
              "      <td>-0.339846</td>\n",
              "      <td>0.167170</td>\n",
              "      <td>0.125895</td>\n",
              "      <td>-0.008983</td>\n",
              "      <td>0.014724</td>\n",
              "      <td>2.69</td>\n",
              "      <td>0</td>\n",
              "    </tr>\n",
              "    <tr>\n",
              "      <th>2</th>\n",
              "      <td>1.0</td>\n",
              "      <td>-1.358354</td>\n",
              "      <td>-1.340163</td>\n",
              "      <td>1.773209</td>\n",
              "      <td>0.379780</td>\n",
              "      <td>-0.503198</td>\n",
              "      <td>1.800499</td>\n",
              "      <td>0.791461</td>\n",
              "      <td>0.247676</td>\n",
              "      <td>-1.514654</td>\n",
              "      <td>0.207643</td>\n",
              "      <td>0.624501</td>\n",
              "      <td>0.066084</td>\n",
              "      <td>0.717293</td>\n",
              "      <td>-0.165946</td>\n",
              "      <td>2.345865</td>\n",
              "      <td>-2.890083</td>\n",
              "      <td>1.109969</td>\n",
              "      <td>-0.121359</td>\n",
              "      <td>-2.261857</td>\n",
              "      <td>0.524980</td>\n",
              "      <td>0.247998</td>\n",
              "      <td>0.771679</td>\n",
              "      <td>0.909412</td>\n",
              "      <td>-0.689281</td>\n",
              "      <td>-0.327642</td>\n",
              "      <td>-0.139097</td>\n",
              "      <td>-0.055353</td>\n",
              "      <td>-0.059752</td>\n",
              "      <td>378.66</td>\n",
              "      <td>0</td>\n",
              "    </tr>\n",
              "    <tr>\n",
              "      <th>3</th>\n",
              "      <td>1.0</td>\n",
              "      <td>-0.966272</td>\n",
              "      <td>-0.185226</td>\n",
              "      <td>1.792993</td>\n",
              "      <td>-0.863291</td>\n",
              "      <td>-0.010309</td>\n",
              "      <td>1.247203</td>\n",
              "      <td>0.237609</td>\n",
              "      <td>0.377436</td>\n",
              "      <td>-1.387024</td>\n",
              "      <td>-0.054952</td>\n",
              "      <td>-0.226487</td>\n",
              "      <td>0.178228</td>\n",
              "      <td>0.507757</td>\n",
              "      <td>-0.287924</td>\n",
              "      <td>-0.631418</td>\n",
              "      <td>-1.059647</td>\n",
              "      <td>-0.684093</td>\n",
              "      <td>1.965775</td>\n",
              "      <td>-1.232622</td>\n",
              "      <td>-0.208038</td>\n",
              "      <td>-0.108300</td>\n",
              "      <td>0.005274</td>\n",
              "      <td>-0.190321</td>\n",
              "      <td>-1.175575</td>\n",
              "      <td>0.647376</td>\n",
              "      <td>-0.221929</td>\n",
              "      <td>0.062723</td>\n",
              "      <td>0.061458</td>\n",
              "      <td>123.50</td>\n",
              "      <td>0</td>\n",
              "    </tr>\n",
              "    <tr>\n",
              "      <th>4</th>\n",
              "      <td>2.0</td>\n",
              "      <td>-1.158233</td>\n",
              "      <td>0.877737</td>\n",
              "      <td>1.548718</td>\n",
              "      <td>0.403034</td>\n",
              "      <td>-0.407193</td>\n",
              "      <td>0.095921</td>\n",
              "      <td>0.592941</td>\n",
              "      <td>-0.270533</td>\n",
              "      <td>0.817739</td>\n",
              "      <td>0.753074</td>\n",
              "      <td>-0.822843</td>\n",
              "      <td>0.538196</td>\n",
              "      <td>1.345852</td>\n",
              "      <td>-1.119670</td>\n",
              "      <td>0.175121</td>\n",
              "      <td>-0.451449</td>\n",
              "      <td>-0.237033</td>\n",
              "      <td>-0.038195</td>\n",
              "      <td>0.803487</td>\n",
              "      <td>0.408542</td>\n",
              "      <td>-0.009431</td>\n",
              "      <td>0.798278</td>\n",
              "      <td>-0.137458</td>\n",
              "      <td>0.141267</td>\n",
              "      <td>-0.206010</td>\n",
              "      <td>0.502292</td>\n",
              "      <td>0.219422</td>\n",
              "      <td>0.215153</td>\n",
              "      <td>69.99</td>\n",
              "      <td>0</td>\n",
              "    </tr>\n",
              "  </tbody>\n",
              "</table>\n",
              "</div>"
            ],
            "text/plain": [
              "   Time        V1        V2        V3  ...       V27       V28  Amount  Class\n",
              "0   0.0 -1.359807 -0.072781  2.536347  ...  0.133558 -0.021053  149.62      0\n",
              "1   0.0  1.191857  0.266151  0.166480  ... -0.008983  0.014724    2.69      0\n",
              "2   1.0 -1.358354 -1.340163  1.773209  ... -0.055353 -0.059752  378.66      0\n",
              "3   1.0 -0.966272 -0.185226  1.792993  ...  0.062723  0.061458  123.50      0\n",
              "4   2.0 -1.158233  0.877737  1.548718  ...  0.219422  0.215153   69.99      0\n",
              "\n",
              "[5 rows x 31 columns]"
            ]
          },
          "metadata": {
            "tags": []
          },
          "execution_count": 11
        }
      ]
    },
    {
      "cell_type": "code",
      "metadata": {
        "colab": {
          "base_uri": "https://localhost:8080/"
        },
        "id": "mCtngSSvhnMv",
        "outputId": "bbe769d5-b6c7-42d9-8c4c-d2e58b9caece"
      },
      "source": [
        "DF.Class.value_counts()"
      ],
      "execution_count": 12,
      "outputs": [
        {
          "output_type": "execute_result",
          "data": {
            "text/plain": [
              "0    284315\n",
              "1       492\n",
              "Name: Class, dtype: int64"
            ]
          },
          "metadata": {
            "tags": []
          },
          "execution_count": 12
        }
      ]
    },
    {
      "cell_type": "code",
      "metadata": {
        "colab": {
          "base_uri": "https://localhost:8080/"
        },
        "id": "U5Lk64OEhp2H",
        "outputId": "a0c57081-f2b9-4f77-cd97-2791333a809c"
      },
      "source": [
        "(DF.Class.value_counts() / DF.shape[0]) * 100"
      ],
      "execution_count": 13,
      "outputs": [
        {
          "output_type": "execute_result",
          "data": {
            "text/plain": [
              "0    99.827251\n",
              "1     0.172749\n",
              "Name: Class, dtype: float64"
            ]
          },
          "metadata": {
            "tags": []
          },
          "execution_count": 13
        }
      ]
    },
    {
      "cell_type": "markdown",
      "metadata": {
        "id": "FcOIHhf9ysho"
      },
      "source": [
        "- Time열 삭제"
      ]
    },
    {
      "cell_type": "code",
      "metadata": {
        "colab": {
          "base_uri": "https://localhost:8080/",
          "height": 224
        },
        "id": "TTqYxdkjypUg",
        "outputId": "87125f62-50a3-4097-f0b3-3ff525b4946a"
      },
      "source": [
        "DF.drop('Time' , axis = 1, inplace = True)\n",
        "DF.head()"
      ],
      "execution_count": 14,
      "outputs": [
        {
          "output_type": "execute_result",
          "data": {
            "text/html": [
              "<div>\n",
              "<style scoped>\n",
              "    .dataframe tbody tr th:only-of-type {\n",
              "        vertical-align: middle;\n",
              "    }\n",
              "\n",
              "    .dataframe tbody tr th {\n",
              "        vertical-align: top;\n",
              "    }\n",
              "\n",
              "    .dataframe thead th {\n",
              "        text-align: right;\n",
              "    }\n",
              "</style>\n",
              "<table border=\"1\" class=\"dataframe\">\n",
              "  <thead>\n",
              "    <tr style=\"text-align: right;\">\n",
              "      <th></th>\n",
              "      <th>V1</th>\n",
              "      <th>V2</th>\n",
              "      <th>V3</th>\n",
              "      <th>V4</th>\n",
              "      <th>V5</th>\n",
              "      <th>V6</th>\n",
              "      <th>V7</th>\n",
              "      <th>V8</th>\n",
              "      <th>V9</th>\n",
              "      <th>V10</th>\n",
              "      <th>V11</th>\n",
              "      <th>V12</th>\n",
              "      <th>V13</th>\n",
              "      <th>V14</th>\n",
              "      <th>V15</th>\n",
              "      <th>V16</th>\n",
              "      <th>V17</th>\n",
              "      <th>V18</th>\n",
              "      <th>V19</th>\n",
              "      <th>V20</th>\n",
              "      <th>V21</th>\n",
              "      <th>V22</th>\n",
              "      <th>V23</th>\n",
              "      <th>V24</th>\n",
              "      <th>V25</th>\n",
              "      <th>V26</th>\n",
              "      <th>V27</th>\n",
              "      <th>V28</th>\n",
              "      <th>Amount</th>\n",
              "      <th>Class</th>\n",
              "    </tr>\n",
              "  </thead>\n",
              "  <tbody>\n",
              "    <tr>\n",
              "      <th>0</th>\n",
              "      <td>-1.359807</td>\n",
              "      <td>-0.072781</td>\n",
              "      <td>2.536347</td>\n",
              "      <td>1.378155</td>\n",
              "      <td>-0.338321</td>\n",
              "      <td>0.462388</td>\n",
              "      <td>0.239599</td>\n",
              "      <td>0.098698</td>\n",
              "      <td>0.363787</td>\n",
              "      <td>0.090794</td>\n",
              "      <td>-0.551600</td>\n",
              "      <td>-0.617801</td>\n",
              "      <td>-0.991390</td>\n",
              "      <td>-0.311169</td>\n",
              "      <td>1.468177</td>\n",
              "      <td>-0.470401</td>\n",
              "      <td>0.207971</td>\n",
              "      <td>0.025791</td>\n",
              "      <td>0.403993</td>\n",
              "      <td>0.251412</td>\n",
              "      <td>-0.018307</td>\n",
              "      <td>0.277838</td>\n",
              "      <td>-0.110474</td>\n",
              "      <td>0.066928</td>\n",
              "      <td>0.128539</td>\n",
              "      <td>-0.189115</td>\n",
              "      <td>0.133558</td>\n",
              "      <td>-0.021053</td>\n",
              "      <td>149.62</td>\n",
              "      <td>0</td>\n",
              "    </tr>\n",
              "    <tr>\n",
              "      <th>1</th>\n",
              "      <td>1.191857</td>\n",
              "      <td>0.266151</td>\n",
              "      <td>0.166480</td>\n",
              "      <td>0.448154</td>\n",
              "      <td>0.060018</td>\n",
              "      <td>-0.082361</td>\n",
              "      <td>-0.078803</td>\n",
              "      <td>0.085102</td>\n",
              "      <td>-0.255425</td>\n",
              "      <td>-0.166974</td>\n",
              "      <td>1.612727</td>\n",
              "      <td>1.065235</td>\n",
              "      <td>0.489095</td>\n",
              "      <td>-0.143772</td>\n",
              "      <td>0.635558</td>\n",
              "      <td>0.463917</td>\n",
              "      <td>-0.114805</td>\n",
              "      <td>-0.183361</td>\n",
              "      <td>-0.145783</td>\n",
              "      <td>-0.069083</td>\n",
              "      <td>-0.225775</td>\n",
              "      <td>-0.638672</td>\n",
              "      <td>0.101288</td>\n",
              "      <td>-0.339846</td>\n",
              "      <td>0.167170</td>\n",
              "      <td>0.125895</td>\n",
              "      <td>-0.008983</td>\n",
              "      <td>0.014724</td>\n",
              "      <td>2.69</td>\n",
              "      <td>0</td>\n",
              "    </tr>\n",
              "    <tr>\n",
              "      <th>2</th>\n",
              "      <td>-1.358354</td>\n",
              "      <td>-1.340163</td>\n",
              "      <td>1.773209</td>\n",
              "      <td>0.379780</td>\n",
              "      <td>-0.503198</td>\n",
              "      <td>1.800499</td>\n",
              "      <td>0.791461</td>\n",
              "      <td>0.247676</td>\n",
              "      <td>-1.514654</td>\n",
              "      <td>0.207643</td>\n",
              "      <td>0.624501</td>\n",
              "      <td>0.066084</td>\n",
              "      <td>0.717293</td>\n",
              "      <td>-0.165946</td>\n",
              "      <td>2.345865</td>\n",
              "      <td>-2.890083</td>\n",
              "      <td>1.109969</td>\n",
              "      <td>-0.121359</td>\n",
              "      <td>-2.261857</td>\n",
              "      <td>0.524980</td>\n",
              "      <td>0.247998</td>\n",
              "      <td>0.771679</td>\n",
              "      <td>0.909412</td>\n",
              "      <td>-0.689281</td>\n",
              "      <td>-0.327642</td>\n",
              "      <td>-0.139097</td>\n",
              "      <td>-0.055353</td>\n",
              "      <td>-0.059752</td>\n",
              "      <td>378.66</td>\n",
              "      <td>0</td>\n",
              "    </tr>\n",
              "    <tr>\n",
              "      <th>3</th>\n",
              "      <td>-0.966272</td>\n",
              "      <td>-0.185226</td>\n",
              "      <td>1.792993</td>\n",
              "      <td>-0.863291</td>\n",
              "      <td>-0.010309</td>\n",
              "      <td>1.247203</td>\n",
              "      <td>0.237609</td>\n",
              "      <td>0.377436</td>\n",
              "      <td>-1.387024</td>\n",
              "      <td>-0.054952</td>\n",
              "      <td>-0.226487</td>\n",
              "      <td>0.178228</td>\n",
              "      <td>0.507757</td>\n",
              "      <td>-0.287924</td>\n",
              "      <td>-0.631418</td>\n",
              "      <td>-1.059647</td>\n",
              "      <td>-0.684093</td>\n",
              "      <td>1.965775</td>\n",
              "      <td>-1.232622</td>\n",
              "      <td>-0.208038</td>\n",
              "      <td>-0.108300</td>\n",
              "      <td>0.005274</td>\n",
              "      <td>-0.190321</td>\n",
              "      <td>-1.175575</td>\n",
              "      <td>0.647376</td>\n",
              "      <td>-0.221929</td>\n",
              "      <td>0.062723</td>\n",
              "      <td>0.061458</td>\n",
              "      <td>123.50</td>\n",
              "      <td>0</td>\n",
              "    </tr>\n",
              "    <tr>\n",
              "      <th>4</th>\n",
              "      <td>-1.158233</td>\n",
              "      <td>0.877737</td>\n",
              "      <td>1.548718</td>\n",
              "      <td>0.403034</td>\n",
              "      <td>-0.407193</td>\n",
              "      <td>0.095921</td>\n",
              "      <td>0.592941</td>\n",
              "      <td>-0.270533</td>\n",
              "      <td>0.817739</td>\n",
              "      <td>0.753074</td>\n",
              "      <td>-0.822843</td>\n",
              "      <td>0.538196</td>\n",
              "      <td>1.345852</td>\n",
              "      <td>-1.119670</td>\n",
              "      <td>0.175121</td>\n",
              "      <td>-0.451449</td>\n",
              "      <td>-0.237033</td>\n",
              "      <td>-0.038195</td>\n",
              "      <td>0.803487</td>\n",
              "      <td>0.408542</td>\n",
              "      <td>-0.009431</td>\n",
              "      <td>0.798278</td>\n",
              "      <td>-0.137458</td>\n",
              "      <td>0.141267</td>\n",
              "      <td>-0.206010</td>\n",
              "      <td>0.502292</td>\n",
              "      <td>0.219422</td>\n",
              "      <td>0.215153</td>\n",
              "      <td>69.99</td>\n",
              "      <td>0</td>\n",
              "    </tr>\n",
              "  </tbody>\n",
              "</table>\n",
              "</div>"
            ],
            "text/plain": [
              "         V1        V2        V3        V4  ...       V27       V28  Amount  Class\n",
              "0 -1.359807 -0.072781  2.536347  1.378155  ...  0.133558 -0.021053  149.62      0\n",
              "1  1.191857  0.266151  0.166480  0.448154  ... -0.008983  0.014724    2.69      0\n",
              "2 -1.358354 -1.340163  1.773209  0.379780  ... -0.055353 -0.059752  378.66      0\n",
              "3 -0.966272 -0.185226  1.792993 -0.863291  ...  0.062723  0.061458  123.50      0\n",
              "4 -1.158233  0.877737  1.548718  0.403034  ...  0.219422  0.215153   69.99      0\n",
              "\n",
              "[5 rows x 30 columns]"
            ]
          },
          "metadata": {
            "tags": []
          },
          "execution_count": 14
        }
      ]
    },
    {
      "cell_type": "markdown",
      "metadata": {
        "id": "bsOlaPh_ji7Y"
      },
      "source": [
        "- DataFrame to Array & Casting"
      ]
    },
    {
      "cell_type": "code",
      "metadata": {
        "colab": {
          "base_uri": "https://localhost:8080/"
        },
        "id": "yODh2U98iLGu",
        "outputId": "c0ffe631-5abf-467b-ec43-234c43d256db"
      },
      "source": [
        "X = DF.iloc[: , :-1]\n",
        "y = DF.iloc[: , -1]\n",
        "\n",
        "X.shape, y.shape"
      ],
      "execution_count": 25,
      "outputs": [
        {
          "output_type": "execute_result",
          "data": {
            "text/plain": [
              "((284807, 29), (284807,))"
            ]
          },
          "metadata": {
            "tags": []
          },
          "execution_count": 25
        }
      ]
    },
    {
      "cell_type": "code",
      "metadata": {
        "colab": {
          "base_uri": "https://localhost:8080/"
        },
        "id": "Z7ZKsSl7j7DJ",
        "outputId": "94d76ed8-fb14-479e-f38c-a151a7fd2869"
      },
      "source": [
        "y"
      ],
      "execution_count": 26,
      "outputs": [
        {
          "output_type": "execute_result",
          "data": {
            "text/plain": [
              "0         0\n",
              "1         0\n",
              "2         0\n",
              "3         0\n",
              "4         0\n",
              "         ..\n",
              "284802    0\n",
              "284803    0\n",
              "284804    0\n",
              "284805    0\n",
              "284806    0\n",
              "Name: Class, Length: 284807, dtype: int64"
            ]
          },
          "metadata": {
            "tags": []
          },
          "execution_count": 26
        }
      ]
    },
    {
      "cell_type": "markdown",
      "metadata": {
        "id": "2NvTaMP5kC63"
      },
      "source": [
        "- Train & Test Split with stratify"
      ]
    },
    {
      "cell_type": "code",
      "metadata": {
        "colab": {
          "base_uri": "https://localhost:8080/"
        },
        "id": "bE6SU9JLj9Pt",
        "outputId": "3b862328-635a-486f-adc4-18f20e1c572a"
      },
      "source": [
        "X_train, X_test, y_train, y_test = train_test_split(X, y,\n",
        "                                                    test_size = 0.3,\n",
        "                                                    stratify = y,\n",
        "                                                    random_state = 2045)\n",
        "\n",
        "X_train.shape, y_train.shape, X_test.shape, y_test.shape"
      ],
      "execution_count": 27,
      "outputs": [
        {
          "output_type": "execute_result",
          "data": {
            "text/plain": [
              "((199364, 29), (199364,), (85443, 29), (85443,))"
            ]
          },
          "metadata": {
            "tags": []
          },
          "execution_count": 27
        }
      ]
    },
    {
      "cell_type": "code",
      "metadata": {
        "colab": {
          "base_uri": "https://localhost:8080/"
        },
        "id": "Epy9h4Sxh7LG",
        "outputId": "c25f6e03-66d8-49eb-a144-5f16451e7b15"
      },
      "source": [
        "print('Train Data: ' , '\\n' , (y_train.value_counts() / y_train.shape[0]) * 100)\n",
        "print('Test Data: ' , '\\n' , (y_test.value_counts() / y_test.shape[0]) * 100)"
      ],
      "execution_count": 28,
      "outputs": [
        {
          "output_type": "stream",
          "text": [
            "Train Data:  \n",
            " 0    99.827451\n",
            "1     0.172549\n",
            "Name: Class, dtype: float64\n",
            "Test Data:  \n",
            " 0    99.826785\n",
            "1     0.173215\n",
            "Name: Class, dtype: float64\n"
          ],
          "name": "stdout"
        }
      ]
    },
    {
      "cell_type": "markdown",
      "metadata": {
        "id": "Y2ZIx-fwkzzn"
      },
      "source": [
        "## 2. Keras Modeling"
      ]
    },
    {
      "cell_type": "markdown",
      "metadata": {
        "id": "T2nkuQSPk7y_"
      },
      "source": [
        "### 1) Model Define"
      ]
    },
    {
      "cell_type": "code",
      "metadata": {
        "id": "ZbKP8T3zkp71"
      },
      "source": [
        "Model_fraud = models.Sequential()\n",
        "\n",
        "Model_fraud.add(layers.Dense(units = 128, activation = 'tanh' , input_shape = (29,)))\n",
        "Model_fraud.add(layers.Dense(units = 64, activation = 'tanh'))\n",
        "Model_fraud.add(layers.Dense(units = 32, activation = 'tanh'))\n",
        "# Model_fraud.add(layers.Dense(units = 16, activation = 'relu'))\n",
        "Model_fraud.add(layers.Dense(units = 1, activation = 'sigmoid'))"
      ],
      "execution_count": 29,
      "outputs": []
    },
    {
      "cell_type": "code",
      "metadata": {
        "colab": {
          "base_uri": "https://localhost:8080/"
        },
        "id": "AR5t9_Xolw6R",
        "outputId": "c71c21b9-90cf-41a3-f99f-a6ffdbdbf2f4"
      },
      "source": [
        "Model_fraud.summary()"
      ],
      "execution_count": 30,
      "outputs": [
        {
          "output_type": "stream",
          "text": [
            "Model: \"sequential\"\n",
            "_________________________________________________________________\n",
            "Layer (type)                 Output Shape              Param #   \n",
            "=================================================================\n",
            "dense (Dense)                (None, 128)               3840      \n",
            "_________________________________________________________________\n",
            "dense_1 (Dense)              (None, 64)                8256      \n",
            "_________________________________________________________________\n",
            "dense_2 (Dense)              (None, 32)                2080      \n",
            "_________________________________________________________________\n",
            "dense_3 (Dense)              (None, 1)                 33        \n",
            "=================================================================\n",
            "Total params: 14,209\n",
            "Trainable params: 14,209\n",
            "Non-trainable params: 0\n",
            "_________________________________________________________________\n"
          ],
          "name": "stdout"
        }
      ]
    },
    {
      "cell_type": "markdown",
      "metadata": {
        "id": "dyx6vOfml5Il"
      },
      "source": [
        "### 2) Model Compile"
      ]
    },
    {
      "cell_type": "code",
      "metadata": {
        "id": "3DAxUUm4lyWv"
      },
      "source": [
        "Model_fraud.compile(loss = 'binary_crossentropy',\n",
        "                    optimizer = 'adam' ,\n",
        "                    metrics = ['Recall'])"
      ],
      "execution_count": 31,
      "outputs": []
    },
    {
      "cell_type": "markdown",
      "metadata": {
        "id": "bbH3JfxdmE6V"
      },
      "source": [
        "### 3) Model Fit"
      ]
    },
    {
      "cell_type": "code",
      "metadata": {
        "colab": {
          "base_uri": "https://localhost:8080/"
        },
        "id": "6xmY-xMOmEXT",
        "outputId": "44546687-ee30-427f-8ab8-3bcbccc0792d"
      },
      "source": [
        "History_fraud = Model_fraud.fit(X_train, y_train,\n",
        "                                epochs = 50,\n",
        "                                batch_size = 1024,\n",
        "                                validation_data = (X_test, y_test))"
      ],
      "execution_count": 32,
      "outputs": [
        {
          "output_type": "stream",
          "text": [
            "Epoch 1/50\n",
            "195/195 [==============================] - 2s 8ms/step - loss: 0.0894 - recall: 0.2929 - val_loss: 0.0087 - val_recall: 0.4054\n",
            "Epoch 2/50\n",
            "195/195 [==============================] - 1s 6ms/step - loss: 0.0087 - recall: 0.3259 - val_loss: 0.0070 - val_recall: 0.4595\n",
            "Epoch 3/50\n",
            "195/195 [==============================] - 1s 6ms/step - loss: 0.0071 - recall: 0.3861 - val_loss: 0.0045 - val_recall: 0.4932\n",
            "Epoch 4/50\n",
            "195/195 [==============================] - 1s 6ms/step - loss: 0.0049 - recall: 0.4869 - val_loss: 0.0034 - val_recall: 0.6216\n",
            "Epoch 5/50\n",
            "195/195 [==============================] - 1s 6ms/step - loss: 0.0039 - recall: 0.6018 - val_loss: 0.0032 - val_recall: 0.7365\n",
            "Epoch 6/50\n",
            "195/195 [==============================] - 1s 6ms/step - loss: 0.0031 - recall: 0.7146 - val_loss: 0.0031 - val_recall: 0.8446\n",
            "Epoch 7/50\n",
            "195/195 [==============================] - 1s 6ms/step - loss: 0.0035 - recall: 0.7525 - val_loss: 0.0029 - val_recall: 0.8243\n",
            "Epoch 8/50\n",
            "195/195 [==============================] - 1s 7ms/step - loss: 0.0033 - recall: 0.7564 - val_loss: 0.0028 - val_recall: 0.8311\n",
            "Epoch 9/50\n",
            "195/195 [==============================] - 1s 6ms/step - loss: 0.0028 - recall: 0.7740 - val_loss: 0.0027 - val_recall: 0.8243\n",
            "Epoch 10/50\n",
            "195/195 [==============================] - 1s 6ms/step - loss: 0.0033 - recall: 0.7562 - val_loss: 0.0027 - val_recall: 0.8649\n",
            "Epoch 11/50\n",
            "195/195 [==============================] - 1s 6ms/step - loss: 0.0026 - recall: 0.7865 - val_loss: 0.0029 - val_recall: 0.8649\n",
            "Epoch 12/50\n",
            "195/195 [==============================] - 1s 6ms/step - loss: 0.0027 - recall: 0.8182 - val_loss: 0.0025 - val_recall: 0.8446\n",
            "Epoch 13/50\n",
            "195/195 [==============================] - 1s 6ms/step - loss: 0.0031 - recall: 0.7865 - val_loss: 0.0026 - val_recall: 0.8581\n",
            "Epoch 14/50\n",
            "195/195 [==============================] - 1s 6ms/step - loss: 0.0031 - recall: 0.7809 - val_loss: 0.0027 - val_recall: 0.8649\n",
            "Epoch 15/50\n",
            "195/195 [==============================] - 1s 6ms/step - loss: 0.0027 - recall: 0.8065 - val_loss: 0.0025 - val_recall: 0.8378\n",
            "Epoch 16/50\n",
            "195/195 [==============================] - 1s 6ms/step - loss: 0.0025 - recall: 0.8124 - val_loss: 0.0026 - val_recall: 0.7635\n",
            "Epoch 17/50\n",
            "195/195 [==============================] - 1s 6ms/step - loss: 0.0024 - recall: 0.7940 - val_loss: 0.0024 - val_recall: 0.8446\n",
            "Epoch 18/50\n",
            "195/195 [==============================] - 1s 6ms/step - loss: 0.0025 - recall: 0.8178 - val_loss: 0.0029 - val_recall: 0.8446\n",
            "Epoch 19/50\n",
            "195/195 [==============================] - 1s 6ms/step - loss: 0.0023 - recall: 0.8112 - val_loss: 0.0029 - val_recall: 0.8108\n",
            "Epoch 20/50\n",
            "195/195 [==============================] - 1s 6ms/step - loss: 0.0024 - recall: 0.7843 - val_loss: 0.0026 - val_recall: 0.7297\n",
            "Epoch 21/50\n",
            "195/195 [==============================] - 1s 6ms/step - loss: 0.0022 - recall: 0.8170 - val_loss: 0.0025 - val_recall: 0.8514\n",
            "Epoch 22/50\n",
            "195/195 [==============================] - 1s 6ms/step - loss: 0.0025 - recall: 0.7931 - val_loss: 0.0025 - val_recall: 0.8243\n",
            "Epoch 23/50\n",
            "195/195 [==============================] - 1s 6ms/step - loss: 0.0018 - recall: 0.8601 - val_loss: 0.0024 - val_recall: 0.8649\n",
            "Epoch 24/50\n",
            "195/195 [==============================] - 1s 6ms/step - loss: 0.0025 - recall: 0.7834 - val_loss: 0.0026 - val_recall: 0.7838\n",
            "Epoch 25/50\n",
            "195/195 [==============================] - 1s 6ms/step - loss: 0.0026 - recall: 0.7894 - val_loss: 0.0026 - val_recall: 0.8243\n",
            "Epoch 26/50\n",
            "195/195 [==============================] - 1s 6ms/step - loss: 0.0023 - recall: 0.7956 - val_loss: 0.0031 - val_recall: 0.8446\n",
            "Epoch 27/50\n",
            "195/195 [==============================] - 1s 6ms/step - loss: 0.0023 - recall: 0.8015 - val_loss: 0.0030 - val_recall: 0.7973\n",
            "Epoch 28/50\n",
            "195/195 [==============================] - 1s 6ms/step - loss: 0.0023 - recall: 0.8235 - val_loss: 0.0032 - val_recall: 0.8378\n",
            "Epoch 29/50\n",
            "195/195 [==============================] - 1s 6ms/step - loss: 0.0024 - recall: 0.8012 - val_loss: 0.0026 - val_recall: 0.7635\n",
            "Epoch 30/50\n",
            "195/195 [==============================] - 1s 6ms/step - loss: 0.0021 - recall: 0.8189 - val_loss: 0.0026 - val_recall: 0.8649\n",
            "Epoch 31/50\n",
            "195/195 [==============================] - 1s 6ms/step - loss: 0.0017 - recall: 0.8726 - val_loss: 0.0025 - val_recall: 0.8243\n",
            "Epoch 32/50\n",
            "195/195 [==============================] - 1s 6ms/step - loss: 0.0020 - recall: 0.8322 - val_loss: 0.0025 - val_recall: 0.7905\n",
            "Epoch 33/50\n",
            "195/195 [==============================] - 1s 6ms/step - loss: 0.0020 - recall: 0.8319 - val_loss: 0.0027 - val_recall: 0.8716\n",
            "Epoch 34/50\n",
            "195/195 [==============================] - 1s 6ms/step - loss: 0.0022 - recall: 0.7946 - val_loss: 0.0027 - val_recall: 0.8108\n",
            "Epoch 35/50\n",
            "195/195 [==============================] - 1s 6ms/step - loss: 0.0019 - recall: 0.8430 - val_loss: 0.0027 - val_recall: 0.7973\n",
            "Epoch 36/50\n",
            "195/195 [==============================] - 1s 6ms/step - loss: 0.0018 - recall: 0.8335 - val_loss: 0.0028 - val_recall: 0.8311\n",
            "Epoch 37/50\n",
            "195/195 [==============================] - 1s 6ms/step - loss: 0.0017 - recall: 0.8508 - val_loss: 0.0026 - val_recall: 0.8243\n",
            "Epoch 38/50\n",
            "195/195 [==============================] - 1s 6ms/step - loss: 0.0020 - recall: 0.8057 - val_loss: 0.0028 - val_recall: 0.8716\n",
            "Epoch 39/50\n",
            "195/195 [==============================] - 1s 6ms/step - loss: 0.0018 - recall: 0.8628 - val_loss: 0.0029 - val_recall: 0.8581\n",
            "Epoch 40/50\n",
            "195/195 [==============================] - 1s 6ms/step - loss: 0.0019 - recall: 0.8322 - val_loss: 0.0027 - val_recall: 0.8514\n",
            "Epoch 41/50\n",
            "195/195 [==============================] - 1s 6ms/step - loss: 0.0017 - recall: 0.8494 - val_loss: 0.0028 - val_recall: 0.8446\n",
            "Epoch 42/50\n",
            "195/195 [==============================] - 1s 6ms/step - loss: 0.0024 - recall: 0.8325 - val_loss: 0.0029 - val_recall: 0.7838\n",
            "Epoch 43/50\n",
            "195/195 [==============================] - 1s 6ms/step - loss: 0.0021 - recall: 0.8109 - val_loss: 0.0027 - val_recall: 0.8514\n",
            "Epoch 44/50\n",
            "195/195 [==============================] - 1s 6ms/step - loss: 0.0014 - recall: 0.8752 - val_loss: 0.0028 - val_recall: 0.7568\n",
            "Epoch 45/50\n",
            "195/195 [==============================] - 1s 6ms/step - loss: 0.0018 - recall: 0.8199 - val_loss: 0.0031 - val_recall: 0.7500\n",
            "Epoch 46/50\n",
            "195/195 [==============================] - 1s 6ms/step - loss: 0.0020 - recall: 0.8032 - val_loss: 0.0027 - val_recall: 0.8446\n",
            "Epoch 47/50\n",
            "195/195 [==============================] - 1s 6ms/step - loss: 0.0018 - recall: 0.8544 - val_loss: 0.0029 - val_recall: 0.8378\n",
            "Epoch 48/50\n",
            "195/195 [==============================] - 1s 6ms/step - loss: 0.0017 - recall: 0.8605 - val_loss: 0.0030 - val_recall: 0.8311\n",
            "Epoch 49/50\n",
            "195/195 [==============================] - 1s 6ms/step - loss: 0.0017 - recall: 0.8523 - val_loss: 0.0028 - val_recall: 0.8649\n",
            "Epoch 50/50\n",
            "195/195 [==============================] - 1s 6ms/step - loss: 0.0017 - recall: 0.8600 - val_loss: 0.0030 - val_recall: 0.8649\n"
          ],
          "name": "stdout"
        }
      ]
    },
    {
      "cell_type": "code",
      "metadata": {
        "colab": {
          "base_uri": "https://localhost:8080/"
        },
        "id": "z0-ZPMOTmU_8",
        "outputId": "8cd70d23-7ca4-49dd-fba0-120788ded556"
      },
      "source": [
        "History_fraud.history.keys()"
      ],
      "execution_count": null,
      "outputs": [
        {
          "output_type": "execute_result",
          "data": {
            "text/plain": [
              "dict_keys(['loss', 'recall', 'val_loss', 'val_recall'])"
            ]
          },
          "metadata": {
            "tags": []
          },
          "execution_count": 117
        }
      ]
    },
    {
      "cell_type": "code",
      "metadata": {
        "colab": {
          "base_uri": "https://localhost:8080/",
          "height": 374
        },
        "id": "6FEj20iEng58",
        "outputId": "17db61b6-7ecf-4ad6-97ac-4554909401cb"
      },
      "source": [
        "plt.figure(figsize = (9, 6))\n",
        "plt.plot(History_fraud.history['loss'])\n",
        "plt.plot(History_fraud.history['recall'])\n",
        "plt.plot(History_fraud.history['val_loss'])\n",
        "plt.plot(History_fraud.history['val_recall'])\n",
        "\n",
        "plt.legend(History_fraud.history.keys())\n",
        "plt.grid()\n",
        "plt.show()"
      ],
      "execution_count": 33,
      "outputs": [
        {
          "output_type": "display_data",
          "data": {
            "image/png": "[encoded data removed]",
            "text/plain": [
              "<Figure size 648x432 with 1 Axes>"
            ]
          },
          "metadata": {
            "tags": [],
            "needs_background": "light"
          }
        }
      ]
    },
    {
      "cell_type": "markdown",
      "metadata": {
        "id": "0yyhPN9Nn05P"
      },
      "source": [
        "### 4) Model Evaluate"
      ]
    },
    {
      "cell_type": "code",
      "metadata": {
        "colab": {
          "base_uri": "https://localhost:8080/"
        },
        "id": "WAHzfOOJn4bG",
        "outputId": "55e4e9bc-9d2d-4717-9e67-5d5ce7a299e7"
      },
      "source": [
        "loss, recall = Model_fraud.evaluate(X_test, y_test)\n",
        "\n",
        "print('Loss = {:.2f}' .format(loss))\n",
        "print('Recall = {:.2f}' .format(recall))"
      ],
      "execution_count": 34,
      "outputs": [
        {
          "output_type": "stream",
          "text": [
            "2671/2671 [==============================] - 3s 1ms/step - loss: 0.0030 - recall: 0.8649\n",
            "Loss = 0.00\n",
            "Recall = 0.86\n"
          ],
          "name": "stdout"
        }
      ]
    },
    {
      "cell_type": "markdown",
      "metadata": {
        "id": "ET2gWxVboG_6"
      },
      "source": [
        "### 5) Model Predict"
      ]
    },
    {
      "cell_type": "code",
      "metadata": {
        "colab": {
          "base_uri": "https://localhost:8080/"
        },
        "id": "HBVzSCIvoGVX",
        "outputId": "8b7f3630-78c6-40b6-ceda-0ff15c8347d9"
      },
      "source": [
        "np.set_printoptions(suppress = True, precision = 5)\n",
        "Model_fraud.predict(X_test)"
      ],
      "execution_count": 35,
      "outputs": [
        {
          "output_type": "execute_result",
          "data": {
            "text/plain": [
              "array([[0.00001],\n",
              "       [0.00105],\n",
              "       [0.00001],\n",
              "       ...,\n",
              "       [0.00002],\n",
              "       [0.00101],\n",
              "       [0.00001]], dtype=float32)"
            ]
          },
          "metadata": {
            "tags": []
          },
          "execution_count": 35
        }
      ]
    },
    {
      "cell_type": "code",
      "metadata": {
        "id": "PdFrZqxYo_tb"
      },
      "source": [
        "y_hat = Model_fraud.predict_classes(X_test)"
      ],
      "execution_count": 36,
      "outputs": []
    },
    {
      "cell_type": "code",
      "metadata": {
        "colab": {
          "base_uri": "https://localhost:8080/"
        },
        "id": "i3wbMLL5pDfg",
        "outputId": "15366738-57a4-43b7-ad8a-1b57f9a86f45"
      },
      "source": [
        "confusion_matrix(y_test, y_hat)"
      ],
      "execution_count": 37,
      "outputs": [
        {
          "output_type": "execute_result",
          "data": {
            "text/plain": [
              "array([[85274,    21],\n",
              "       [   20,   128]])"
            ]
          },
          "metadata": {
            "tags": []
          },
          "execution_count": 37
        }
      ]
    },
    {
      "cell_type": "code",
      "metadata": {
        "colab": {
          "base_uri": "https://localhost:8080/"
        },
        "id": "gb_U1PrBpIX0",
        "outputId": "1bc2715d-7501-4ecb-b72f-8699041fa9b3"
      },
      "source": [
        "print(classification_report(y_test, y_hat,\n",
        "                            target_names = ['normal', 'fraud']))"
      ],
      "execution_count": 38,
      "outputs": [
        {
          "output_type": "stream",
          "text": [
            "              precision    recall  f1-score   support\n",
            "\n",
            "      normal       1.00      1.00      1.00     85295\n",
            "       fraud       0.86      0.86      0.86       148\n",
            "\n",
            "    accuracy                           1.00     85443\n",
            "   macro avg       0.93      0.93      0.93     85443\n",
            "weighted avg       1.00      1.00      1.00     85443\n",
            "\n"
          ],
          "name": "stdout"
        }
      ]
    }
  ]
}