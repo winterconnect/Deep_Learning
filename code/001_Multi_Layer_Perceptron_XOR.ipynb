{
  "nbformat": 4,
  "nbformat_minor": 0,
  "metadata": {
    "colab": {
      "name": "001_Multi_Layer_Perceptron_XOR.ipynb",
      "provenance": [],
      "collapsed_sections": []
    },
    "kernelspec": {
      "name": "python3",
      "display_name": "Python 3"
    }
  },
  "cells": [
    {
      "cell_type": "markdown",
      "metadata": {
        "id": "3QK7DviiONPU"
      },
      "source": [
        "## 1. 수치미분(Numerical Derivative)"
      ]
    },
    {
      "cell_type": "code",
      "metadata": {
        "id": "pDTZpU_8OLkR"
      },
      "source": [
        "import warnings\n",
        "warnings.filterwarnings('ignore')"
      ],
      "execution_count": 1,
      "outputs": []
    },
    {
      "cell_type": "markdown",
      "metadata": {
        "id": "-dbbmUk9OVPS"
      },
      "source": [
        "### Import numpy"
      ]
    },
    {
      "cell_type": "code",
      "metadata": {
        "id": "wdD79maeOXcV"
      },
      "source": [
        "import numpy as np"
      ],
      "execution_count": 2,
      "outputs": []
    },
    {
      "cell_type": "markdown",
      "metadata": {
        "id": "k27eMnWcOY8J"
      },
      "source": [
        "### 2) gradient() 함수 정의\n",
        "- 다변수 함수의 수치미분"
      ]
    },
    {
      "cell_type": "code",
      "metadata": {
        "id": "D0RGW-XDOUpN"
      },
      "source": [
        "def gradient(machine, param) :\n",
        "\n",
        "  if param.ndim == 1:\n",
        "    temp_param = param\n",
        "    delta = 0.00005\n",
        "    learned_param = np.zeros(param.shape)\n",
        "\n",
        "    # 미분계산\n",
        "    for index in range(len(param)) :\n",
        "      target_param = float(temp_param[index])\n",
        "      temp_param[index] = target_param + delta # delta를 더하기도, 빼기도 함 (중앙미분)\n",
        "      param_plus_delta = machine(temp_param)\n",
        "      temp_param[index] = target_param - delta\n",
        "      param_minus_delta = machine(temp_param)\n",
        "      learned_param[index] = (param_plus_delta - param_minus_delta) / (2 * delta)\n",
        "      # 중앙미분이므로 2 * delta 로 나눠줌\n",
        "\n",
        "      temp_param[index] = target_param\n",
        "\n",
        "    return learned_param\n",
        "\n",
        "\n",
        "  elif param.ndim == 2:\n",
        "    temp_param = param\n",
        "    delta = 0.00005\n",
        "    learned_param = np.zeros(param.shape)\n",
        "\n",
        "    rows = param.shape[0]\n",
        "    columns = param.shape[1]\n",
        "\n",
        "    for row in range(rows) :\n",
        "      for column in range(columns) :\n",
        "        target_param = float(temp_param[row, column])\n",
        "        temp_param[row, column] = target_param + delta\n",
        "        param_plus_delta = machine(temp_param)\n",
        "        temp_param[row, column] = target_param - delta\n",
        "        param_minus_delta = machine(temp_param)\n",
        "        learned_param[row, column] = (param_plus_delta - \\\n",
        "                                      param_minus_delta) / (2 * delta)\n",
        "        temp_param[row, column] = target_param\n",
        "\n",
        "    return learned_param"
      ],
      "execution_count": 3,
      "outputs": []
    },
    {
      "cell_type": "markdown",
      "metadata": {
        "id": "G9BWQt4ZQL5G"
      },
      "source": [
        "## 2. Logic Gate() - 'AND' , 'OR' , 'NAND'"
      ]
    },
    {
      "cell_type": "markdown",
      "metadata": {
        "id": "1fxv8j_rQUMR"
      },
      "source": [
        "### 1) sigmoid() 함수 정의"
      ]
    },
    {
      "cell_type": "code",
      "metadata": {
        "id": "-6n_OQReQVoJ"
      },
      "source": [
        "def sigmoid(x) :\n",
        "  y_hat = 1 / (1 + np.exp(-x))\n",
        "  return y_hat"
      ],
      "execution_count": 4,
      "outputs": []
    },
    {
      "cell_type": "markdown",
      "metadata": {
        "id": "RAdGQPPoQbiD"
      },
      "source": [
        "### 2) LogicGate 클래스 선언"
      ]
    },
    {
      "cell_type": "code",
      "metadata": {
        "id": "Wh4Sk9DPQa6M"
      },
      "source": [
        "class LogicGate :\n",
        "  def __init__(self, gate_Type, X_input, y_output) :\n",
        "\n",
        "    # gate_Type 문자열 지정 Member\n",
        "    self.Type = gate_Type\n",
        "\n",
        "    # X_input, y_output Member 초기화\n",
        "    self.X_input = X_input.reshape(4, 2)\n",
        "    self.y_output = y_output.reshape(4, 1)\n",
        "\n",
        "    # W, b Member 초기화\n",
        "    self.W = np.random.rand(2, 1)\n",
        "    self.b = np.random.rand(1)\n",
        "\n",
        "    # learning_rate Member 지정\n",
        "    self.learning_rate = 0.01\n",
        "\n",
        "  # Cost_Function(CEE) Method\n",
        "  def cost_func(self) :\n",
        "    z = np.dot(self.X_input, self.W) + self.b\n",
        "    y_hat = sigmoid(z)\n",
        "    delta = 0.00001 # 무한대가 되지 않도록 아주 작은 값을 더해준 것\n",
        "\n",
        "    return -np.sum(self.y_output * np.log(y_hat + delta) + \\\n",
        "                    (1 - self.y_output) * np.log((1 - y_hat) + delta))\n",
        "      \n",
        "  # Learning Method\n",
        "  def learn(self) :\n",
        "    machine = lambda x : self.cost_func()\n",
        "    print(\"Initial Cost =\" , self.cost_func())\n",
        "\n",
        "    for step in range(10001) :\n",
        "      self.W = self.W - self.learning_rate * gradient(machine, self.W)\n",
        "      self.b = self.b - self.learning_rate * gradient(machine, self.b)\n",
        "\n",
        "      if (step % 1000 == 0) :\n",
        "        print(\"Step = \" , step, \"Cost = \" , self.cost_func())\n",
        "\n",
        "  # Predict Method\n",
        "  def predict(self, input_data) :\n",
        "    z = np.dot(input_data, self.W) + self.b\n",
        "    y_prob = sigmoid(z)\n",
        "\n",
        "    if y_prob > 0.5 :\n",
        "      result = 1\n",
        "    else :\n",
        "      result = 0\n",
        "\n",
        "    return y_prob, result"
      ],
      "execution_count": 9,
      "outputs": []
    },
    {
      "cell_type": "markdown",
      "metadata": {
        "id": "lPXv8JmDSM7l"
      },
      "source": [
        "### 3) AND_Gate\n",
        "- X_input, y_output 지정"
      ]
    },
    {
      "cell_type": "code",
      "metadata": {
        "id": "BNuOBSQISMcr"
      },
      "source": [
        "X_input = np.array([[0, 0] , [0, 1] , [1, 0] , [1, 1]])\n",
        "y_output = np.array([0, 0, 0, 1])"
      ],
      "execution_count": 7,
      "outputs": []
    },
    {
      "cell_type": "markdown",
      "metadata": {
        "id": "FiCKBcwHSd_0"
      },
      "source": [
        "- AND_Gate 객체 생성 및 학습"
      ]
    },
    {
      "cell_type": "code",
      "metadata": {
        "colab": {
          "base_uri": "https://localhost:8080/"
        },
        "id": "bwDP2zWRSXtb",
        "outputId": "216c7f59-5432-4875-e2e9-d03b88615bd4"
      },
      "source": [
        "AND_Gate = LogicGate(\"AND_GATE\" , X_input, y_output)\n",
        "\n",
        "AND_Gate.learn()"
      ],
      "execution_count": 10,
      "outputs": [
        {
          "output_type": "stream",
          "text": [
            "Initial Cost = 3.2168877292342977\n",
            "Step =  0 Cost =  3.1878831412352673\n",
            "Step =  1000 Cost =  1.0013123806743198\n",
            "Step =  2000 Cost =  0.6577992101198008\n",
            "Step =  3000 Cost =  0.4900142432828558\n",
            "Step =  4000 Cost =  0.38936396512482463\n",
            "Step =  5000 Cost =  0.3222642700244957\n",
            "Step =  6000 Cost =  0.27442350696644896\n",
            "Step =  7000 Cost =  0.2386570594263134\n",
            "Step =  8000 Cost =  0.2109488139860278\n",
            "Step =  9000 Cost =  0.1888782723806061\n",
            "Step =  10000 Cost =  0.17090106766471563\n"
          ],
          "name": "stdout"
        }
      ]
    },
    {
      "cell_type": "markdown",
      "metadata": {
        "id": "_xKn1w8cTbCX"
      },
      "source": [
        "- AND_Gate 테스트"
      ]
    },
    {
      "cell_type": "code",
      "metadata": {
        "colab": {
          "base_uri": "https://localhost:8080/"
        },
        "id": "L1Neu9a1Sm3U",
        "outputId": "c899f173-f12d-4dab-a3cd-6cb808553e2d"
      },
      "source": [
        "print(AND_Gate.Type, \"\\n\")\n",
        "\n",
        "test_data = np.array([[0, 0] , [0, 1] , [1, 0] , [1, 1]])\n",
        "\n",
        "for input_data in test_data :\n",
        "  (sigmoid_val, logical_val) = AND_Gate.predict(input_data)\n",
        "  print(input_data, \"=\" , logical_val)"
      ],
      "execution_count": 11,
      "outputs": [
        {
          "output_type": "stream",
          "text": [
            "AND_GATE \n",
            "\n",
            "[0 0] = 0\n",
            "[0 1] = 0\n",
            "[1 0] = 0\n",
            "[1 1] = 1\n"
          ],
          "name": "stdout"
        }
      ]
    },
    {
      "cell_type": "markdown",
      "metadata": {
        "id": "OcTEM1Q2TvIU"
      },
      "source": [
        "### 4) OR_Gate\n",
        "- X_input, y_output"
      ]
    },
    {
      "cell_type": "code",
      "metadata": {
        "id": "JAV4WI21Tt3S"
      },
      "source": [
        "X_input = np.array([[0, 0] , [0, 1] , [1, 0] , [1, 1]])\n",
        "y_output = np.array([0, 1, 1, 1])"
      ],
      "execution_count": 12,
      "outputs": []
    },
    {
      "cell_type": "markdown",
      "metadata": {
        "id": "2XhGWmHRT6XW"
      },
      "source": [
        "- OR_Gate 객체 생성 및 학습"
      ]
    },
    {
      "cell_type": "code",
      "metadata": {
        "colab": {
          "base_uri": "https://localhost:8080/"
        },
        "id": "mdVSD6fyT508",
        "outputId": "444e2347-954e-44ab-bd6e-7cfe712b5687"
      },
      "source": [
        "OR_Gate = LogicGate(\"OR_GATE\" , X_input, y_output)\n",
        "OR_Gate.learn()"
      ],
      "execution_count": 13,
      "outputs": [
        {
          "output_type": "stream",
          "text": [
            "Initial Cost = 1.6210383822774845\n",
            "Step =  0 Cost =  1.6188339691342661\n",
            "Step =  1000 Cost =  0.6814398112478753\n",
            "Step =  2000 Cost =  0.41678068731841755\n",
            "Step =  3000 Cost =  0.2959692573473832\n",
            "Step =  4000 Cost =  0.2279266711960821\n",
            "Step =  5000 Cost =  0.18466310531996735\n",
            "Step =  6000 Cost =  0.15487983436334896\n",
            "Step =  7000 Cost =  0.13319371893917467\n",
            "Step =  8000 Cost =  0.11673158918503188\n",
            "Step =  9000 Cost =  0.10382689222968702\n",
            "Step =  10000 Cost =  0.09344936274079535\n"
          ],
          "name": "stdout"
        }
      ]
    },
    {
      "cell_type": "markdown",
      "metadata": {
        "id": "IypNPpmJUEUr"
      },
      "source": [
        "- OR_Gate 테스트"
      ]
    },
    {
      "cell_type": "code",
      "metadata": {
        "colab": {
          "base_uri": "https://localhost:8080/"
        },
        "id": "6CBqVe_TUCf-",
        "outputId": "4ff5e4bd-ae6a-4ad7-fd06-eca3aa9159af"
      },
      "source": [
        "print(OR_Gate.Type, \"\\n\")\n",
        "\n",
        "test_date = np.array([[0, 0] , [0, 1] , [1, 0] , [1, 1]])\n",
        "\n",
        "for input_data in test_data :\n",
        "  (sigmoid_val, logical_val) = OR_Gate.predict(input_data)\n",
        "  print(input_data, \"=\" , logical_val)"
      ],
      "execution_count": 14,
      "outputs": [
        {
          "output_type": "stream",
          "text": [
            "OR_GATE \n",
            "\n",
            "[0 0] = 0\n",
            "[0 1] = 1\n",
            "[1 0] = 1\n",
            "[1 1] = 1\n"
          ],
          "name": "stdout"
        }
      ]
    },
    {
      "cell_type": "markdown",
      "metadata": {
        "id": "Mn7vlXG2UVXV"
      },
      "source": [
        "### 5) NAND_Gate\n",
        "- X_input, y_output"
      ]
    },
    {
      "cell_type": "code",
      "metadata": {
        "id": "zI4bmAxsUUMF"
      },
      "source": [
        "X_input = np.array([[0, 0] , [0, 1] , [1, 0] , [1, 1]])\n",
        "y_output = np.array([1, 1, 1, 0])"
      ],
      "execution_count": 15,
      "outputs": []
    },
    {
      "cell_type": "markdown",
      "metadata": {
        "id": "FIsfCAyuUkWK"
      },
      "source": [
        "- NAND_Gate 객체 생성 및 학습"
      ]
    },
    {
      "cell_type": "code",
      "metadata": {
        "colab": {
          "base_uri": "https://localhost:8080/"
        },
        "id": "cH1nqz4aUjle",
        "outputId": "34e77573-8012-4a77-fedf-feaa8113a12e"
      },
      "source": [
        "NAND_Gate = LogicGate(\"NAND_GATE\" , X_input, y_output)\n",
        "NAND_Gate.learn()"
      ],
      "execution_count": 16,
      "outputs": [
        {
          "output_type": "stream",
          "text": [
            "Initial Cost = 2.6371396242330176\n",
            "Step =  0 Cost =  2.6291053092900327\n",
            "Step =  1000 Cost =  1.0146551421957177\n",
            "Step =  2000 Cost =  0.663452819905346\n",
            "Step =  3000 Cost =  0.49318092785056444\n",
            "Step =  4000 Cost =  0.39138977987601187\n",
            "Step =  5000 Cost =  0.323668564970357\n",
            "Step =  6000 Cost =  0.2754519198891173\n",
            "Step =  7000 Cost =  0.23944121460065365\n",
            "Step =  8000 Cost =  0.21156558175700552\n",
            "Step =  9000 Cost =  0.18937550746333343\n",
            "Step =  10000 Cost =  0.17131008035663337\n"
          ],
          "name": "stdout"
        }
      ]
    },
    {
      "cell_type": "markdown",
      "metadata": {
        "id": "uWw2KmMJUv5J"
      },
      "source": [
        "- NAND_Gate 테스트"
      ]
    },
    {
      "cell_type": "code",
      "metadata": {
        "colab": {
          "base_uri": "https://localhost:8080/"
        },
        "id": "8-0k9LOpUtaB",
        "outputId": "e92ddbc7-45ec-47a7-8d32-326c19b54871"
      },
      "source": [
        "print(NAND_Gate.Type, \"\\n\")\n",
        "\n",
        "test_data = np.array([[0, 0] , [0, 1] , [1, 0] , [1,1]])\n",
        "\n",
        "for input_data in test_data :\n",
        "  (sigmoid_val , logical_val) = NAND_Gate.predict(input_data)\n",
        "  print(input_data, \"=\" , logical_val)"
      ],
      "execution_count": 17,
      "outputs": [
        {
          "output_type": "stream",
          "text": [
            "NAND_GATE \n",
            "\n",
            "[0 0] = 1\n",
            "[0 1] = 1\n",
            "[1 0] = 1\n",
            "[1 1] = 0\n"
          ],
          "name": "stdout"
        }
      ]
    },
    {
      "cell_type": "markdown",
      "metadata": {
        "id": "Cnqfl0QcVBA2"
      },
      "source": [
        "## 3. XOR_Gate Issue"
      ]
    },
    {
      "cell_type": "markdown",
      "metadata": {
        "id": "vvG3vm5wVESy"
      },
      "source": [
        "### 1) XOR_Gate Failure\n",
        "- X_input, y_output"
      ]
    },
    {
      "cell_type": "code",
      "metadata": {
        "id": "dZdvcjxtU_xW"
      },
      "source": [
        "X_input = np.array([[0, 0] , [0, 1] , [1, 0] , [1, 1]])\n",
        "y_output = np.array([0, 1, 1, 0])"
      ],
      "execution_count": 18,
      "outputs": []
    },
    {
      "cell_type": "markdown",
      "metadata": {
        "id": "tkEGwSWAVUnh"
      },
      "source": [
        "- XOR_Gate 객체 생성 및 학습"
      ]
    },
    {
      "cell_type": "code",
      "metadata": {
        "colab": {
          "base_uri": "https://localhost:8080/"
        },
        "id": "gFcETSpEVUCf",
        "outputId": "141726d8-fc62-4d37-ab3f-9d2353ffe15a"
      },
      "source": [
        "XOR_Gate = LogicGate(\"XOR_GATE\" , X_input , y_output)\n",
        "XOR_Gate.learn()"
      ],
      "execution_count": 19,
      "outputs": [
        {
          "output_type": "stream",
          "text": [
            "Initial Cost = 2.95333971956468\n",
            "Step =  0 Cost =  2.948772985655169\n",
            "Step =  1000 Cost =  2.7730754949521836\n",
            "Step =  2000 Cost =  2.772528297972286\n",
            "Step =  3000 Cost =  2.7725095289862938\n",
            "Step =  4000 Cost =  2.7725087573006055\n",
            "Step =  5000 Cost =  2.7725087245037034\n",
            "Step =  6000 Cost =  2.7725087231023746\n",
            "Step =  7000 Cost =  2.7725087230424483\n",
            "Step =  8000 Cost =  2.7725087230398855\n",
            "Step =  9000 Cost =  2.772508723039776\n",
            "Step =  10000 Cost =  2.7725087230397714\n"
          ],
          "name": "stdout"
        }
      ]
    },
    {
      "cell_type": "markdown",
      "metadata": {
        "id": "PJlz4mFyVeKw"
      },
      "source": [
        "- XOR_Gate 테스트"
      ]
    },
    {
      "cell_type": "code",
      "metadata": {
        "colab": {
          "base_uri": "https://localhost:8080/"
        },
        "id": "8BQQQMbWVcVg",
        "outputId": "eec2e069-6fc0-4396-d7ab-3626c8c43970"
      },
      "source": [
        "print(XOR_Gate.Type, \"\\n\")\n",
        "\n",
        "test_data = np.array([[0, 0] , [0, 1] , [1, 0] , [1, 1]])\n",
        "\n",
        "for input_data in test_data :\n",
        "  (sigmoid_val , logical_val) = XOR_Gate.predict(input_data)\n",
        "  print(input_data , \"=\" , logical_val)"
      ],
      "execution_count": 20,
      "outputs": [
        {
          "output_type": "stream",
          "text": [
            "XOR_GATE \n",
            "\n",
            "[0 0] = 0\n",
            "[0 1] = 0\n",
            "[1 0] = 0\n",
            "[1 1] = 1\n"
          ],
          "name": "stdout"
        }
      ]
    },
    {
      "cell_type": "markdown",
      "metadata": {
        "id": "V0xHTV_WVwSL"
      },
      "source": [
        "### 2) XOR_Gate Succeed\n",
        "- XOR를 (NAND + OR) 계층 및 AND 계층의 조합으로 연산\n",
        "- 이전 학습된 Parameter로 XOR 수행"
      ]
    },
    {
      "cell_type": "code",
      "metadata": {
        "id": "xyaP8UMUVu_H"
      },
      "source": [
        "# 이미 학습된 NAND, OR, AND를 쌓음\n",
        "\n",
        "input_data = np.array([[0, 0] , [0, 1] , [1, 0] , [1, 1]])\n",
        "\n",
        "HL1_1 = []            # NAND  출력\n",
        "HL1_2 = []            # OR    출력\n",
        "\n",
        "new_input_data = []   # AND       입력\n",
        "final_output = []     # AND(XOR)  출력\n",
        "\n",
        "for index in range(len(input_data)) :\n",
        "  HL1_1 = NAND_Gate.predict(input_data[index])   # NAND  출력\n",
        "  HL1_2 = OR_Gate.predict(input_data[index])     # OR    출력\n",
        "\n",
        "  new_input_data.append(HL1_1[-1])               # AND   입력\n",
        "  new_input_data.append(HL1_2[-1])               # AND   입력\n",
        "\n",
        "  (sigmoid_val, logical_val) = AND_Gate.predict(np.array(new_input_data))\n",
        "\n",
        "  final_output.append(logical_val)  # AND(XOR) 출력\n",
        "  new_input_data = []"
      ],
      "execution_count": 21,
      "outputs": []
    },
    {
      "cell_type": "code",
      "metadata": {
        "colab": {
          "base_uri": "https://localhost:8080/"
        },
        "id": "Qi7NUmFmXKik",
        "outputId": "97413349-6c8b-4513-ad94-2dc0ff4ce15c"
      },
      "source": [
        "print(XOR_Gate.Type, \"\\n\")\n",
        "\n",
        "for index in range(len(input_data)) :\n",
        "  print(input_data[index] , \"=\" , final_output[index])"
      ],
      "execution_count": 22,
      "outputs": [
        {
          "output_type": "stream",
          "text": [
            "XOR_GATE \n",
            "\n",
            "[0 0] = 0\n",
            "[0 1] = 1\n",
            "[1 0] = 1\n",
            "[1 1] = 0\n"
          ],
          "name": "stdout"
        }
      ]
    }
  ]
}