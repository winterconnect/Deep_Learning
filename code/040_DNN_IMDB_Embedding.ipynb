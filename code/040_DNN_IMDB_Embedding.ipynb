{
  "nbformat": 4,
  "nbformat_minor": 0,
  "metadata": {
    "colab": {
      "name": "040_DNN_IMDB_Embedding.ipynb",
      "provenance": [],
      "collapsed_sections": []
    },
    "kernelspec": {
      "name": "python3",
      "display_name": "Python 3"
    },
    "language_info": {
      "name": "python"
    },
    "accelerator": "GPU"
  },
  "cells": [
    {
      "cell_type": "code",
      "metadata": {
        "id": "IWaCFlzzsX-Y"
      },
      "source": [
        "import warnings\n",
        "warnings.filterwarnings('ignore')"
      ],
      "execution_count": 1,
      "outputs": []
    },
    {
      "cell_type": "code",
      "metadata": {
        "colab": {
          "base_uri": "https://localhost:8080/"
        },
        "id": "C5cvRrN9xI5Z",
        "outputId": "456d2f29-a7ca-47db-82d0-02096d33c606"
      },
      "source": [
        "!nvidia-smi"
      ],
      "execution_count": 2,
      "outputs": [
        {
          "output_type": "stream",
          "text": [
            "Wed Mar 31 05:32:18 2021       \n",
            "+-----------------------------------------------------------------------------+\n",
            "| NVIDIA-SMI 460.67       Driver Version: 460.32.03    CUDA Version: 11.2     |\n",
            "|-------------------------------+----------------------+----------------------+\n",
            "| GPU  Name        Persistence-M| Bus-Id        Disp.A | Volatile Uncorr. ECC |\n",
            "| Fan  Temp  Perf  Pwr:Usage/Cap|         Memory-Usage | GPU-Util  Compute M. |\n",
            "|                               |                      |               MIG M. |\n",
            "|===============================+======================+======================|\n",
            "|   0  Tesla P4            Off  | 00000000:00:04.0 Off |                    0 |\n",
            "| N/A   34C    P8     7W /  75W |      0MiB /  7611MiB |      0%      Default |\n",
            "|                               |                      |                  N/A |\n",
            "+-------------------------------+----------------------+----------------------+\n",
            "                                                                               \n",
            "+-----------------------------------------------------------------------------+\n",
            "| Processes:                                                                  |\n",
            "|  GPU   GI   CI        PID   Type   Process name                  GPU Memory |\n",
            "|        ID   ID                                                   Usage      |\n",
            "|=============================================================================|\n",
            "|  No running processes found                                                 |\n",
            "+-----------------------------------------------------------------------------+\n"
          ],
          "name": "stdout"
        }
      ]
    },
    {
      "cell_type": "code",
      "metadata": {
        "id": "f-MNRhFgxKgk"
      },
      "source": [
        "import keras\n",
        "from keras.datasets import imdb\n",
        "from keras.preprocessing import sequence\n",
        "from keras import models\n",
        "from keras import layers"
      ],
      "execution_count": 27,
      "outputs": []
    },
    {
      "cell_type": "code",
      "metadata": {
        "id": "Nz4d6Gt7x56a"
      },
      "source": [
        "import matplotlib.pyplot as plt\n",
        "import numpy as np"
      ],
      "execution_count": 15,
      "outputs": []
    },
    {
      "cell_type": "markdown",
      "metadata": {
        "id": "qkO7GQr_xQlK"
      },
      "source": [
        "## 1. Load IMDB Dataset\n",
        "- Word to Vector\n",
        "- 전체 데이터 내에서 단어의 사용빈도에 따라 인덱스화\n",
        "- 정수인덱스 '11'은 11번째로 자주 사용된 단어를 나타냄\n",
        "- num_words = 10000: 인데스값 10000 이하의 단어만 추출\n",
        "- 단어 인덱스 값이 10000을 넘지 않는 단어만 분석에 사용"
      ]
    },
    {
      "cell_type": "code",
      "metadata": {
        "colab": {
          "base_uri": "https://localhost:8080/"
        },
        "id": "D6oveS3BxMhW",
        "outputId": "acf7f7d2-0867-46aa-c3a0-3ee4eface6af"
      },
      "source": [
        "(X_train, y_train) , (X_test, y_test) = imdb.load_data(num_words = 10000)"
      ],
      "execution_count": 5,
      "outputs": [
        {
          "output_type": "stream",
          "text": [
            "Downloading data from https://storage.googleapis.com/tensorflow/tf-keras-datasets/imdb.npz\n",
            "17465344/17464789 [==============================] - 0s 0us/step\n"
          ],
          "name": "stdout"
        }
      ]
    },
    {
      "cell_type": "code",
      "metadata": {
        "colab": {
          "base_uri": "https://localhost:8080/"
        },
        "id": "Ir_1hIjLyA7m",
        "outputId": "bb2eeca4-1da3-4997-c7e6-5ba2399a9fa5"
      },
      "source": [
        "X_train.shape, X_test.shape, y_train.shape, y_test.shape"
      ],
      "execution_count": 9,
      "outputs": [
        {
          "output_type": "execute_result",
          "data": {
            "text/plain": [
              "((25000,), (25000,), (25000,), (25000,))"
            ]
          },
          "metadata": {
            "tags": []
          },
          "execution_count": 9
        }
      ]
    },
    {
      "cell_type": "markdown",
      "metadata": {
        "id": "uk9zmGcRxuMr"
      },
      "source": [
        "## 2. Visualization & Frequency\n",
        "- x - Histogram (리뷰 길이)"
      ]
    },
    {
      "cell_type": "code",
      "metadata": {
        "colab": {
          "base_uri": "https://localhost:8080/"
        },
        "id": "tGTHwknBxqub",
        "outputId": "6c4adeb8-b4ab-4b2a-c282-f9d8580bcc3e"
      },
      "source": [
        "print('리뷰 최대 길이: ' , max(len(l) for l in X_train))\n",
        "print('리뷰 평균 길이: ' , sum(map(len, X_train))/len(X_train))"
      ],
      "execution_count": 12,
      "outputs": [
        {
          "output_type": "stream",
          "text": [
            "리뷰 최대 길이:  2494\n",
            "리뷰 평균 길이:  238.71364\n"
          ],
          "name": "stdout"
        }
      ]
    },
    {
      "cell_type": "code",
      "metadata": {
        "colab": {
          "base_uri": "https://localhost:8080/",
          "height": 389
        },
        "id": "ETfimY8byb6F",
        "outputId": "00ba0d96-a063-4cfb-b0b0-68b68d1ef1f8"
      },
      "source": [
        "plt.figure(figsize = (9, 6))\n",
        "plt.hist([len(l) for l in X_train] , bins = 100)\n",
        "plt.xlabel('Length of X_train')\n",
        "plt.ylabel('Number of X_train')\n",
        "plt.show()"
      ],
      "execution_count": 14,
      "outputs": [
        {
          "output_type": "display_data",
          "data": {
            "image/png": "[encoded data removed]",
            "text/plain": [
              "<Figure size 648x432 with 1 Axes>"
            ]
          },
          "metadata": {
            "tags": [],
            "needs_background": "light"
          }
        }
      ]
    },
    {
      "cell_type": "markdown",
      "metadata": {
        "id": "en3XBWSOy_3J"
      },
      "source": [
        "- y - Frequency(0: 부정, 1: 긍정)"
      ]
    },
    {
      "cell_type": "code",
      "metadata": {
        "colab": {
          "base_uri": "https://localhost:8080/"
        },
        "id": "At36IvtUyq1k",
        "outputId": "ce723d2e-21a6-4d6d-e27d-ea2bd30b2127"
      },
      "source": [
        "unique_elements, counts_elements = np.unique(y_train, return_counts = True)\n",
        "\n",
        "print('Label 빈도수:')\n",
        "print(np.asarray((unique_elements, counts_elements)))"
      ],
      "execution_count": 16,
      "outputs": [
        {
          "output_type": "stream",
          "text": [
            "Label 빈도수:\n",
            "[[    0     1]\n",
            " [12500 12500]]\n"
          ],
          "name": "stdout"
        }
      ]
    },
    {
      "cell_type": "markdown",
      "metadata": {
        "id": "JmadzCd5zRXO"
      },
      "source": [
        "## 3. Tensor Transformation"
      ]
    },
    {
      "cell_type": "markdown",
      "metadata": {
        "id": "ajoCLWBvzTxp"
      },
      "source": [
        "### 1) X_train & X_test (25000, 10000)\n",
        "- vectorization\n",
        "  - (25000, 10000)"
      ]
    },
    {
      "cell_type": "code",
      "metadata": {
        "colab": {
          "base_uri": "https://localhost:8080/"
        },
        "id": "HDPMCjm2zPzr",
        "outputId": "1a7efe05-4f21-4d2c-afae-fcf9bf0c4b39"
      },
      "source": [
        "X_train = sequence.pad_sequences(X_train, maxlen = 10000)\n",
        "X_test = sequence.pad_sequences(X_test, maxlen = 10000)\n",
        "\n",
        "X_train.shape, X_test.shape"
      ],
      "execution_count": 18,
      "outputs": [
        {
          "output_type": "execute_result",
          "data": {
            "text/plain": [
              "((25000, 10000), (25000, 10000))"
            ]
          },
          "metadata": {
            "tags": []
          },
          "execution_count": 18
        }
      ]
    },
    {
      "cell_type": "markdown",
      "metadata": {
        "id": "EBScQdUBzxxl"
      },
      "source": [
        "- Transformation Check"
      ]
    },
    {
      "cell_type": "code",
      "metadata": {
        "colab": {
          "base_uri": "https://localhost:8080/"
        },
        "id": "l0WPWazIzved",
        "outputId": "03e36fee-f3f6-4d43-f9d5-02fbadefba26"
      },
      "source": [
        "print(X_train[0][:21])\n",
        "print(X_train[0][9979:])\n",
        "\n",
        "print(X_test[0][:21])\n",
        "print(X_test[0][9979:])"
      ],
      "execution_count": 24,
      "outputs": [
        {
          "output_type": "stream",
          "text": [
            "[0 0 0 0 0 0 0 0 0 0 0 0 0 0 0 0 0 0 0 0 0]\n",
            "[ 226   65   16   38 1334   88   12   16  283    5   16 4472  113  103\n",
            "   32   15   16 5345   19  178   32]\n",
            "[0 0 0 0 0 0 0 0 0 0 0 0 0 0 0 0 0 0 0 0 0]\n",
            "[  14  286  170    8  157   46    5   27  239   16  179    2   38   32\n",
            "   25 7944  451  202   14    6  717]\n"
          ],
          "name": "stdout"
        }
      ]
    },
    {
      "cell_type": "markdown",
      "metadata": {
        "id": "gfqHZz_20MAI"
      },
      "source": [
        "### 2) y_train & y_test"
      ]
    },
    {
      "cell_type": "code",
      "metadata": {
        "id": "y_xXgX1G0AIn"
      },
      "source": [
        "y_train = np.asarray(y_train).astype(float)\n",
        "y_test = np.asarray(y_test).astype(float)"
      ],
      "execution_count": 25,
      "outputs": []
    },
    {
      "cell_type": "code",
      "metadata": {
        "colab": {
          "base_uri": "https://localhost:8080/"
        },
        "id": "URGzOmuG0T5Y",
        "outputId": "35c5a589-86ec-4f37-a536-54255e01c4be"
      },
      "source": [
        "print(y_train[:21])\n",
        "print(y_test[:21])"
      ],
      "execution_count": 26,
      "outputs": [
        {
          "output_type": "stream",
          "text": [
            "[1. 0. 0. 1. 0. 0. 1. 0. 1. 0. 1. 0. 0. 0. 0. 0. 1. 1. 0. 1. 0.]\n",
            "[0. 1. 1. 0. 1. 1. 1. 0. 0. 1. 1. 0. 0. 0. 1. 0. 1. 0. 0. 0. 1.]\n"
          ],
          "name": "stdout"
        }
      ]
    },
    {
      "cell_type": "markdown",
      "metadata": {
        "id": "nWy9Z87X0ZpW"
      },
      "source": [
        "## 4. Keras Embedding Modeling"
      ]
    },
    {
      "cell_type": "markdown",
      "metadata": {
        "id": "t8WNOiXW0cWF"
      },
      "source": [
        "### 1) Model Define\n",
        "- 모델 신경망 구조 정의\n",
        "  - Embedding Dimension: 32"
      ]
    },
    {
      "cell_type": "code",
      "metadata": {
        "id": "ru4A1J0H0X1p"
      },
      "source": [
        "imdb = models.Sequential()\n",
        "\n",
        "imdb.add(layers.Embedding(25000, 32, input_length = 10000))\n",
        "\n",
        "imdb.add(layers.Flatten())\n",
        "\n",
        "imdb.add(layers.Dense(16))\n",
        "imdb.add(layers.Dropout(0.5))\n",
        "imdb.add(layers.Dense(1, activation = 'sigmoid'))"
      ],
      "execution_count": 31,
      "outputs": []
    },
    {
      "cell_type": "code",
      "metadata": {
        "colab": {
          "base_uri": "https://localhost:8080/"
        },
        "id": "cq7EVdKo1Ome",
        "outputId": "c40459d1-b2f2-492c-c201-7bac6c0fc41a"
      },
      "source": [
        "imdb.summary()"
      ],
      "execution_count": 33,
      "outputs": [
        {
          "output_type": "stream",
          "text": [
            "Model: \"sequential_1\"\n",
            "_________________________________________________________________\n",
            "Layer (type)                 Output Shape              Param #   \n",
            "=================================================================\n",
            "embedding_1 (Embedding)      (None, 10000, 32)         800000    \n",
            "_________________________________________________________________\n",
            "flatten_1 (Flatten)          (None, 320000)            0         \n",
            "_________________________________________________________________\n",
            "dense_2 (Dense)              (None, 16)                5120016   \n",
            "_________________________________________________________________\n",
            "dropout_1 (Dropout)          (None, 16)                0         \n",
            "_________________________________________________________________\n",
            "dense_3 (Dense)              (None, 1)                 17        \n",
            "=================================================================\n",
            "Total params: 5,920,033\n",
            "Trainable params: 5,920,033\n",
            "Non-trainable params: 0\n",
            "_________________________________________________________________\n"
          ],
          "name": "stdout"
        }
      ]
    },
    {
      "cell_type": "code",
      "metadata": {
        "id": "Sxjwd5xx1Qxk"
      },
      "source": [
        "imdb.compile(loss = 'binary_crossentropy',\n",
        "             optimizer = 'adam',\n",
        "             metrics = ['accuracy'])"
      ],
      "execution_count": 35,
      "outputs": []
    },
    {
      "cell_type": "code",
      "metadata": {
        "colab": {
          "base_uri": "https://localhost:8080/"
        },
        "id": "iBsRYjFP1WCd",
        "outputId": "6a9f3d17-7e0c-4b85-907f-94b1bd674d7a"
      },
      "source": [
        "hist_imdb = imdb.fit(X_train, y_train,\n",
        "                     epochs = 50,\n",
        "                     batch_size = 512,\n",
        "                     validation_data = (X_test, y_test))"
      ],
      "execution_count": 36,
      "outputs": [
        {
          "output_type": "stream",
          "text": [
            "Epoch 1/50\n",
            "49/49 [==============================] - 25s 435ms/step - loss: 3.7706 - accuracy: 0.5019 - val_loss: 0.6893 - val_accuracy: 0.5186\n",
            "Epoch 2/50\n",
            "49/49 [==============================] - 21s 432ms/step - loss: 0.6043 - accuracy: 0.6895 - val_loss: 0.3872 - val_accuracy: 0.8485\n",
            "Epoch 3/50\n",
            "49/49 [==============================] - 21s 433ms/step - loss: 0.3129 - accuracy: 0.8945 - val_loss: 0.2921 - val_accuracy: 0.8774\n",
            "Epoch 4/50\n",
            "49/49 [==============================] - 21s 434ms/step - loss: 0.2158 - accuracy: 0.9311 - val_loss: 0.2755 - val_accuracy: 0.8831\n",
            "Epoch 5/50\n",
            "49/49 [==============================] - 21s 431ms/step - loss: 0.1602 - accuracy: 0.9546 - val_loss: 0.2746 - val_accuracy: 0.8843\n",
            "Epoch 6/50\n",
            "49/49 [==============================] - 21s 432ms/step - loss: 0.1223 - accuracy: 0.9706 - val_loss: 0.2808 - val_accuracy: 0.8843\n",
            "Epoch 7/50\n",
            "49/49 [==============================] - 21s 433ms/step - loss: 0.0907 - accuracy: 0.9840 - val_loss: 0.2914 - val_accuracy: 0.8817\n",
            "Epoch 8/50\n",
            "49/49 [==============================] - 21s 432ms/step - loss: 0.0671 - accuracy: 0.9905 - val_loss: 0.3063 - val_accuracy: 0.8785\n",
            "Epoch 9/50\n",
            "49/49 [==============================] - 21s 433ms/step - loss: 0.0501 - accuracy: 0.9951 - val_loss: 0.3218 - val_accuracy: 0.8772\n",
            "Epoch 10/50\n",
            "49/49 [==============================] - 21s 433ms/step - loss: 0.0374 - accuracy: 0.9970 - val_loss: 0.3355 - val_accuracy: 0.8786\n",
            "Epoch 11/50\n",
            "49/49 [==============================] - 21s 431ms/step - loss: 0.0285 - accuracy: 0.9986 - val_loss: 0.3496 - val_accuracy: 0.8773\n",
            "Epoch 12/50\n",
            "49/49 [==============================] - 21s 431ms/step - loss: 0.0222 - accuracy: 0.9993 - val_loss: 0.3654 - val_accuracy: 0.8762\n",
            "Epoch 13/50\n",
            "49/49 [==============================] - 21s 430ms/step - loss: 0.0171 - accuracy: 0.9996 - val_loss: 0.3784 - val_accuracy: 0.8762\n",
            "Epoch 14/50\n",
            "49/49 [==============================] - 21s 432ms/step - loss: 0.0139 - accuracy: 0.9997 - val_loss: 0.3924 - val_accuracy: 0.8760\n",
            "Epoch 15/50\n",
            "49/49 [==============================] - 21s 431ms/step - loss: 0.0114 - accuracy: 0.9998 - val_loss: 0.4052 - val_accuracy: 0.8753\n",
            "Epoch 16/50\n",
            "49/49 [==============================] - 21s 432ms/step - loss: 0.0093 - accuracy: 0.9999 - val_loss: 0.4183 - val_accuracy: 0.8746\n",
            "Epoch 17/50\n",
            "49/49 [==============================] - 21s 430ms/step - loss: 0.0078 - accuracy: 1.0000 - val_loss: 0.4305 - val_accuracy: 0.8749\n",
            "Epoch 18/50\n",
            "49/49 [==============================] - 21s 431ms/step - loss: 0.0066 - accuracy: 1.0000 - val_loss: 0.4413 - val_accuracy: 0.8742\n",
            "Epoch 19/50\n",
            "49/49 [==============================] - 21s 431ms/step - loss: 0.0060 - accuracy: 1.0000 - val_loss: 0.4527 - val_accuracy: 0.8738\n",
            "Epoch 20/50\n",
            "49/49 [==============================] - 21s 430ms/step - loss: 0.0051 - accuracy: 1.0000 - val_loss: 0.4634 - val_accuracy: 0.8737\n",
            "Epoch 21/50\n",
            "49/49 [==============================] - 21s 431ms/step - loss: 0.0045 - accuracy: 1.0000 - val_loss: 0.4717 - val_accuracy: 0.8742\n",
            "Epoch 22/50\n",
            "49/49 [==============================] - 21s 430ms/step - loss: 0.0040 - accuracy: 1.0000 - val_loss: 0.4814 - val_accuracy: 0.8742\n",
            "Epoch 23/50\n",
            "49/49 [==============================] - 21s 433ms/step - loss: 0.0036 - accuracy: 1.0000 - val_loss: 0.4895 - val_accuracy: 0.8739\n",
            "Epoch 24/50\n",
            "49/49 [==============================] - 21s 431ms/step - loss: 0.0034 - accuracy: 1.0000 - val_loss: 0.4993 - val_accuracy: 0.8734\n",
            "Epoch 25/50\n",
            "49/49 [==============================] - 21s 431ms/step - loss: 0.0029 - accuracy: 1.0000 - val_loss: 0.5072 - val_accuracy: 0.8744\n",
            "Epoch 26/50\n",
            "49/49 [==============================] - 21s 431ms/step - loss: 0.0026 - accuracy: 1.0000 - val_loss: 0.5149 - val_accuracy: 0.8743\n",
            "Epoch 27/50\n",
            "49/49 [==============================] - 21s 432ms/step - loss: 0.0026 - accuracy: 1.0000 - val_loss: 0.5230 - val_accuracy: 0.8745\n",
            "Epoch 28/50\n",
            "49/49 [==============================] - 21s 432ms/step - loss: 0.0022 - accuracy: 1.0000 - val_loss: 0.5308 - val_accuracy: 0.8738\n",
            "Epoch 29/50\n",
            "49/49 [==============================] - 21s 433ms/step - loss: 0.0020 - accuracy: 1.0000 - val_loss: 0.5380 - val_accuracy: 0.8743\n",
            "Epoch 30/50\n",
            "49/49 [==============================] - 21s 433ms/step - loss: 0.0019 - accuracy: 1.0000 - val_loss: 0.5455 - val_accuracy: 0.8743\n",
            "Epoch 31/50\n",
            "49/49 [==============================] - 21s 433ms/step - loss: 0.0017 - accuracy: 1.0000 - val_loss: 0.5526 - val_accuracy: 0.8742\n",
            "Epoch 32/50\n",
            "49/49 [==============================] - 21s 433ms/step - loss: 0.0019 - accuracy: 0.9999 - val_loss: 0.5593 - val_accuracy: 0.8739\n",
            "Epoch 33/50\n",
            "49/49 [==============================] - 21s 432ms/step - loss: 0.0015 - accuracy: 1.0000 - val_loss: 0.5671 - val_accuracy: 0.8736\n",
            "Epoch 34/50\n",
            "49/49 [==============================] - 21s 432ms/step - loss: 0.0013 - accuracy: 1.0000 - val_loss: 0.5721 - val_accuracy: 0.8740\n",
            "Epoch 35/50\n",
            "49/49 [==============================] - 21s 430ms/step - loss: 0.0014 - accuracy: 1.0000 - val_loss: 0.5784 - val_accuracy: 0.8745\n",
            "Epoch 36/50\n",
            "49/49 [==============================] - 21s 432ms/step - loss: 0.0012 - accuracy: 1.0000 - val_loss: 0.5845 - val_accuracy: 0.8741\n",
            "Epoch 37/50\n",
            "49/49 [==============================] - 21s 432ms/step - loss: 0.0013 - accuracy: 1.0000 - val_loss: 0.5904 - val_accuracy: 0.8743\n",
            "Epoch 38/50\n",
            "49/49 [==============================] - 21s 433ms/step - loss: 0.0011 - accuracy: 1.0000 - val_loss: 0.5966 - val_accuracy: 0.8741\n",
            "Epoch 39/50\n",
            "49/49 [==============================] - 21s 432ms/step - loss: 0.0011 - accuracy: 1.0000 - val_loss: 0.6022 - val_accuracy: 0.8752\n",
            "Epoch 40/50\n",
            "49/49 [==============================] - 21s 430ms/step - loss: 9.9701e-04 - accuracy: 1.0000 - val_loss: 0.6089 - val_accuracy: 0.8736\n",
            "Epoch 41/50\n",
            "49/49 [==============================] - 21s 432ms/step - loss: 9.8773e-04 - accuracy: 1.0000 - val_loss: 0.6136 - val_accuracy: 0.8747\n",
            "Epoch 42/50\n",
            "49/49 [==============================] - 21s 433ms/step - loss: 9.1582e-04 - accuracy: 1.0000 - val_loss: 0.6195 - val_accuracy: 0.8736\n",
            "Epoch 43/50\n",
            "49/49 [==============================] - 21s 431ms/step - loss: 9.4804e-04 - accuracy: 1.0000 - val_loss: 0.6253 - val_accuracy: 0.8735\n",
            "Epoch 44/50\n",
            "49/49 [==============================] - 21s 433ms/step - loss: 8.0911e-04 - accuracy: 1.0000 - val_loss: 0.6299 - val_accuracy: 0.8738\n",
            "Epoch 45/50\n",
            "49/49 [==============================] - 21s 431ms/step - loss: 8.4977e-04 - accuracy: 1.0000 - val_loss: 0.6351 - val_accuracy: 0.8739\n",
            "Epoch 46/50\n",
            "49/49 [==============================] - 21s 433ms/step - loss: 7.7763e-04 - accuracy: 1.0000 - val_loss: 0.6404 - val_accuracy: 0.8743\n",
            "Epoch 47/50\n",
            "49/49 [==============================] - 21s 433ms/step - loss: 7.0224e-04 - accuracy: 1.0000 - val_loss: 0.6459 - val_accuracy: 0.8740\n",
            "Epoch 48/50\n",
            "49/49 [==============================] - 21s 433ms/step - loss: 8.0273e-04 - accuracy: 1.0000 - val_loss: 0.6524 - val_accuracy: 0.8736\n",
            "Epoch 49/50\n",
            "49/49 [==============================] - 21s 431ms/step - loss: 6.5626e-04 - accuracy: 1.0000 - val_loss: 0.6563 - val_accuracy: 0.8738\n",
            "Epoch 50/50\n",
            "49/49 [==============================] - 21s 433ms/step - loss: 5.8246e-04 - accuracy: 1.0000 - val_loss: 0.6612 - val_accuracy: 0.8743\n"
          ],
          "name": "stdout"
        }
      ]
    },
    {
      "cell_type": "markdown",
      "metadata": {
        "id": "caN15dBk3hWO"
      },
      "source": [
        "### 2) visualization"
      ]
    },
    {
      "cell_type": "code",
      "metadata": {
        "colab": {
          "base_uri": "https://localhost:8080/",
          "height": 404
        },
        "id": "sW7kF6Rf2DAV",
        "outputId": "c682c7bb-8a17-495a-9023-0a7b6a47299a"
      },
      "source": [
        "epochs = range(1, len(hist_imdb.history['loss']) + 1)\n",
        "\n",
        "plt.figure(figsize = (9, 6))\n",
        "plt.plot(epochs, hist_imdb.history['loss'])\n",
        "plt.plot(epochs, hist_imdb.history['val_loss'])\n",
        "\n",
        "plt.title('Training & Validation Loss')\n",
        "plt.xlabel('Epochs')\n",
        "plt.ylabel('Loss')\n",
        "plt.legend(['Training Loss' , 'Validation Loss'])\n",
        "plt.grid()\n",
        "plt.show()"
      ],
      "execution_count": 37,
      "outputs": [
        {
          "output_type": "display_data",
          "data": {
            "image/png": "[encoded data removed]",
            "text/plain": [
              "<Figure size 648x432 with 1 Axes>"
            ]
          },
          "metadata": {
            "tags": [],
            "needs_background": "light"
          }
        }
      ]
    },
    {
      "cell_type": "markdown",
      "metadata": {
        "id": "NAGf9vzx4C-G"
      },
      "source": [
        "### 3) Model Evaluate"
      ]
    },
    {
      "cell_type": "markdown",
      "metadata": {
        "id": "RYvKmTpK4FQA"
      },
      "source": [
        "- Loss & Accuracy"
      ]
    },
    {
      "cell_type": "code",
      "metadata": {
        "colab": {
          "base_uri": "https://localhost:8080/"
        },
        "id": "RGf96BUQ4HFS",
        "outputId": "f2a59c4b-7fc6-4c75-9bfc-f4f96a389622"
      },
      "source": [
        "loss, accuracy = imdb.evaluate(X_test, y_test)\n",
        "\n",
        "print('Loss = {:.5f}' .format(loss))\n",
        "print('Accuracy = {:.5f}' .format(accuracy))"
      ],
      "execution_count": 38,
      "outputs": [
        {
          "output_type": "stream",
          "text": [
            "782/782 [==============================] - 9s 11ms/step - loss: 0.6612 - accuracy: 0.8743\n",
            "Loss = 0.66117\n",
            "Accuracy = 0.87428\n"
          ],
          "name": "stdout"
        }
      ]
    },
    {
      "cell_type": "code",
      "metadata": {
        "id": "NpTiHJxe-R0q"
      },
      "source": [
        ""
      ],
      "execution_count": null,
      "outputs": []
    }
  ]
}