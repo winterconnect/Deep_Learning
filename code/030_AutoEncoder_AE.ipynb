{
  "nbformat": 4,
  "nbformat_minor": 0,
  "metadata": {
    "colab": {
      "name": "030_AutoEncoder_AE.ipynb",
      "provenance": [],
      "collapsed_sections": []
    },
    "kernelspec": {
      "name": "python3",
      "display_name": "Python 3"
    },
    "language_info": {
      "name": "python"
    },
    "accelerator": "GPU"
  },
  "cells": [
    {
      "cell_type": "code",
      "metadata": {
        "id": "Up-I2nSRmdu7"
      },
      "source": [
        "import warnings\n",
        "warnings.filterwarnings('ignore')"
      ],
      "execution_count": 3,
      "outputs": []
    },
    {
      "cell_type": "markdown",
      "metadata": {
        "id": "k7vNA60YmhhK"
      },
      "source": [
        "# AutoEncoder(AE)\n",
        "- 입력데이터의 차원축소를 통해 의미있는 잠재공간(Latent Space/Manifold)을 학습\n",
        "  - Encoder 학습을 위해 Decoder를 사용"
      ]
    },
    {
      "cell_type": "code",
      "metadata": {
        "colab": {
          "base_uri": "https://localhost:8080/"
        },
        "id": "YwbcinWShxwv",
        "outputId": "2a186c85-bc68-4981-b5d3-1f311ecf4321"
      },
      "source": [
        "!nvidia-smi"
      ],
      "execution_count": 1,
      "outputs": [
        {
          "output_type": "stream",
          "text": [
            "Mon Mar 29 01:09:47 2021       \n",
            "+-----------------------------------------------------------------------------+\n",
            "| NVIDIA-SMI 460.56       Driver Version: 460.32.03    CUDA Version: 11.2     |\n",
            "|-------------------------------+----------------------+----------------------+\n",
            "| GPU  Name        Persistence-M| Bus-Id        Disp.A | Volatile Uncorr. ECC |\n",
            "| Fan  Temp  Perf  Pwr:Usage/Cap|         Memory-Usage | GPU-Util  Compute M. |\n",
            "|                               |                      |               MIG M. |\n",
            "|===============================+======================+======================|\n",
            "|   0  Tesla T4            Off  | 00000000:00:04.0 Off |                    0 |\n",
            "| N/A   59C    P8    10W /  70W |      0MiB / 15109MiB |      0%      Default |\n",
            "|                               |                      |                  N/A |\n",
            "+-------------------------------+----------------------+----------------------+\n",
            "                                                                               \n",
            "+-----------------------------------------------------------------------------+\n",
            "| Processes:                                                                  |\n",
            "|  GPU   GI   CI        PID   Type   Process name                  GPU Memory |\n",
            "|        ID   ID                                                   Usage      |\n",
            "|=============================================================================|\n",
            "|  No running processes found                                                 |\n",
            "+-----------------------------------------------------------------------------+\n"
          ],
          "name": "stdout"
        }
      ]
    },
    {
      "cell_type": "code",
      "metadata": {
        "id": "PETfngMTm2Xo"
      },
      "source": [
        "from keras.datasets import mnist\n",
        "from keras import layers\n",
        "from keras import models"
      ],
      "execution_count": 14,
      "outputs": []
    },
    {
      "cell_type": "code",
      "metadata": {
        "id": "kJzhb40cvWNB"
      },
      "source": [
        "import matplotlib.pyplot as plt"
      ],
      "execution_count": 29,
      "outputs": []
    },
    {
      "cell_type": "markdown",
      "metadata": {
        "id": "JXRuQuSumyyn"
      },
      "source": [
        "## 1. Load MNIST Dataset"
      ]
    },
    {
      "cell_type": "code",
      "metadata": {
        "colab": {
          "base_uri": "https://localhost:8080/"
        },
        "id": "aMAtBOdAm4lr",
        "outputId": "b2e04722-101f-4d8f-8e07-67873714e8b6"
      },
      "source": [
        "(X_train, _) , (X_test, _) = mnist.load_data()\n",
        "# y는 필요없으므로 받지 않음"
      ],
      "execution_count": 5,
      "outputs": [
        {
          "output_type": "stream",
          "text": [
            "Downloading data from https://storage.googleapis.com/tensorflow/tf-keras-datasets/mnist.npz\n",
            "11493376/11490434 [==============================] - 0s 0us/step\n"
          ],
          "name": "stdout"
        }
      ]
    },
    {
      "cell_type": "code",
      "metadata": {
        "colab": {
          "base_uri": "https://localhost:8080/"
        },
        "id": "MVGlhADxnAuL",
        "outputId": "f574926f-19c8-4364-9175-fff29aeb184d"
      },
      "source": [
        "X_train.shape, X_test.shape"
      ],
      "execution_count": 6,
      "outputs": [
        {
          "output_type": "execute_result",
          "data": {
            "text/plain": [
              "((60000, 28, 28), (10000, 28, 28))"
            ]
          },
          "metadata": {
            "tags": []
          },
          "execution_count": 6
        }
      ]
    },
    {
      "cell_type": "markdown",
      "metadata": {
        "id": "WBD_aAUinEET"
      },
      "source": [
        "### 1) Normailzation and Reshape"
      ]
    },
    {
      "cell_type": "code",
      "metadata": {
        "colab": {
          "base_uri": "https://localhost:8080/"
        },
        "id": "4fBv46PtnGTT",
        "outputId": "c6f2fb92-2156-4bc3-a52e-a3e4b20d15ef"
      },
      "source": [
        "X_train = X_train / 255.\n",
        "X_test = X_test / 255.\n",
        "\n",
        "X_train = X_train.reshape(60000, 28 * 28)\n",
        "X_test = X_test.reshape(10000, 28 * 28)\n",
        "\n",
        "X_train.shape, X_test.shape"
      ],
      "execution_count": 10,
      "outputs": [
        {
          "output_type": "execute_result",
          "data": {
            "text/plain": [
              "((60000, 784), (10000, 784))"
            ]
          },
          "metadata": {
            "tags": []
          },
          "execution_count": 10
        }
      ]
    },
    {
      "cell_type": "markdown",
      "metadata": {
        "id": "26TTcmaTnTkj"
      },
      "source": [
        "## 2. Keras Modeling with Functional API"
      ]
    },
    {
      "cell_type": "markdown",
      "metadata": {
        "id": "1sbgcCQ0nWXt"
      },
      "source": [
        "### 1) 'Latent Space' Size"
      ]
    },
    {
      "cell_type": "code",
      "metadata": {
        "id": "va7nTdhtnZPL"
      },
      "source": [
        "encoding_dim = 32\n",
        "# 표현벡터의 크기 32개"
      ],
      "execution_count": 8,
      "outputs": []
    },
    {
      "cell_type": "markdown",
      "metadata": {
        "id": "bHSCDqEOncyd"
      },
      "source": [
        "### 2) Encoder\n",
        "- input"
      ]
    },
    {
      "cell_type": "code",
      "metadata": {
        "id": "pY7AKBjWnmVT"
      },
      "source": [
        "input_img = layers.Input(shape = (784, ))"
      ],
      "execution_count": 11,
      "outputs": []
    },
    {
      "cell_type": "markdown",
      "metadata": {
        "id": "dcc0ysTJnsET"
      },
      "source": [
        "- Encoding Layers and Encoding Model"
      ]
    },
    {
      "cell_type": "code",
      "metadata": {
        "id": "8T9EBO6ynvAf"
      },
      "source": [
        "encoded = layers.Dense(256, activation = 'elu')(input_img)\n",
        "encoded = layers.Dense(128, activation = 'elu')(encoded)\n",
        "encoded = layers.Dense(encoding_dim, activation = 'elu')(encoded)"
      ],
      "execution_count": 12,
      "outputs": []
    },
    {
      "cell_type": "markdown",
      "metadata": {
        "id": "nLxwsKwRoGkC"
      },
      "source": [
        "### 3) Decoder\n",
        "- Decoding Layers and Decoding Model"
      ]
    },
    {
      "cell_type": "code",
      "metadata": {
        "id": "L_lCjLZaoK6d"
      },
      "source": [
        "decoded = layers.Dense(128, activation = 'elu')(encoded)\n",
        "decoded = layers.Dense(256, activation = 'elu')(decoded)\n",
        "decoded = layers.Dense(784, activation = 'sigmoid')(decoded)"
      ],
      "execution_count": 13,
      "outputs": []
    },
    {
      "cell_type": "markdown",
      "metadata": {
        "id": "TDeoBWS0oZ7k"
      },
      "source": [
        "## 3. AutoEncoder Model"
      ]
    },
    {
      "cell_type": "markdown",
      "metadata": {
        "id": "tjRB6_OiocUs"
      },
      "source": [
        "### 1) 'autoencoder' Model"
      ]
    },
    {
      "cell_type": "code",
      "metadata": {
        "id": "mwjuh0UDoip2"
      },
      "source": [
        "autoencoder = models.Model(input_img, decoded)\n",
        "# autoencoder: 함께 학습. input_img를 넣어 decoded까지"
      ],
      "execution_count": 16,
      "outputs": []
    },
    {
      "cell_type": "code",
      "metadata": {
        "colab": {
          "base_uri": "https://localhost:8080/"
        },
        "id": "3s2GLlWmozz0",
        "outputId": "19ff5bde-aa4e-4e49-cfba-77c112fc8e6e"
      },
      "source": [
        "autoencoder.summary()\n",
        "# 784개로 들어가서 32개로 줄었다가 다시 784개가 됨\n",
        "# 일반적으로 나비모양으로 만든다\n",
        "# CNN도 사용 가능(DNN으로 latent space를 flatten해줘야 하고, decoder를 DECNN 처리 필요)"
      ],
      "execution_count": 17,
      "outputs": [
        {
          "output_type": "stream",
          "text": [
            "Model: \"model\"\n",
            "_________________________________________________________________\n",
            "Layer (type)                 Output Shape              Param #   \n",
            "=================================================================\n",
            "input_1 (InputLayer)         [(None, 784)]             0         \n",
            "_________________________________________________________________\n",
            "dense (Dense)                (None, 256)               200960    \n",
            "_________________________________________________________________\n",
            "dense_1 (Dense)              (None, 128)               32896     \n",
            "_________________________________________________________________\n",
            "dense_2 (Dense)              (None, 32)                4128      \n",
            "_________________________________________________________________\n",
            "dense_3 (Dense)              (None, 128)               4224      \n",
            "_________________________________________________________________\n",
            "dense_4 (Dense)              (None, 256)               33024     \n",
            "_________________________________________________________________\n",
            "dense_5 (Dense)              (None, 784)               201488    \n",
            "=================================================================\n",
            "Total params: 476,720\n",
            "Trainable params: 476,720\n",
            "Non-trainable params: 0\n",
            "_________________________________________________________________\n"
          ],
          "name": "stdout"
        }
      ]
    },
    {
      "cell_type": "markdown",
      "metadata": {
        "id": "ryNVLPzHpIzr"
      },
      "source": [
        "### 2) 'encoder' Model"
      ]
    },
    {
      "cell_type": "code",
      "metadata": {
        "id": "ZmT39LFBh4ye"
      },
      "source": [
        "encoder = models.Model(input_img, encoded)\n",
        "# encoder: input에 encoded까지 붙여서 모델 생성"
      ],
      "execution_count": 18,
      "outputs": []
    },
    {
      "cell_type": "code",
      "metadata": {
        "colab": {
          "base_uri": "https://localhost:8080/"
        },
        "id": "Vx5EG3xhpR7p",
        "outputId": "bc69cc1e-873b-4a7a-c718-dec0c3f6253b"
      },
      "source": [
        "encoder.summary()\n",
        "# 784를 받아서 32를 내보내고 끝남"
      ],
      "execution_count": 19,
      "outputs": [
        {
          "output_type": "stream",
          "text": [
            "Model: \"model_1\"\n",
            "_________________________________________________________________\n",
            "Layer (type)                 Output Shape              Param #   \n",
            "=================================================================\n",
            "input_1 (InputLayer)         [(None, 784)]             0         \n",
            "_________________________________________________________________\n",
            "dense (Dense)                (None, 256)               200960    \n",
            "_________________________________________________________________\n",
            "dense_1 (Dense)              (None, 128)               32896     \n",
            "_________________________________________________________________\n",
            "dense_2 (Dense)              (None, 32)                4128      \n",
            "=================================================================\n",
            "Total params: 237,984\n",
            "Trainable params: 237,984\n",
            "Non-trainable params: 0\n",
            "_________________________________________________________________\n"
          ],
          "name": "stdout"
        }
      ]
    },
    {
      "cell_type": "markdown",
      "metadata": {
        "id": "Z-sLgMtkpaKD"
      },
      "source": [
        "### 3) 'decoder' Model"
      ]
    },
    {
      "cell_type": "code",
      "metadata": {
        "id": "vIShi9PrjRVw"
      },
      "source": [
        "encoded_input = layers.Input(shape = (encoding_dim, ))\n",
        "\n",
        "decoder_layer = autoencoder.layers[-3](encoded_input)\n",
        "decoder_layer = autoencoder.layers[-2](decoder_layer)\n",
        "decoder_layer = autoencoder.layers[-1](decoder_layer)\n",
        "\n",
        "# decoder: 32를 받아 784로 복구할 수 있도록\n",
        "\n",
        "# 오토인코더에서 뒤에서부터 뽑아냄\n",
        "# 인코더 + 디코더 파라미터 = 오토인코더 파라미터\n",
        "# 실제 학습은 오토인코더에서 이루어짐"
      ],
      "execution_count": 21,
      "outputs": []
    },
    {
      "cell_type": "code",
      "metadata": {
        "id": "6r9K3NyItgF2"
      },
      "source": [
        "decoder = models.Model(encoded_input, decoder_layer)"
      ],
      "execution_count": 23,
      "outputs": []
    },
    {
      "cell_type": "code",
      "metadata": {
        "colab": {
          "base_uri": "https://localhost:8080/"
        },
        "id": "AA_4FQPAt3kO",
        "outputId": "36619019-87b6-4093-bcc7-98d23f692169"
      },
      "source": [
        "decoder.summary()"
      ],
      "execution_count": 24,
      "outputs": [
        {
          "output_type": "stream",
          "text": [
            "Model: \"model_3\"\n",
            "_________________________________________________________________\n",
            "Layer (type)                 Output Shape              Param #   \n",
            "=================================================================\n",
            "input_3 (InputLayer)         [(None, 32)]              0         \n",
            "_________________________________________________________________\n",
            "dense_3 (Dense)              (None, 128)               4224      \n",
            "_________________________________________________________________\n",
            "dense_4 (Dense)              (None, 256)               33024     \n",
            "_________________________________________________________________\n",
            "dense_5 (Dense)              (None, 784)               201488    \n",
            "=================================================================\n",
            "Total params: 238,736\n",
            "Trainable params: 238,736\n",
            "Non-trainable params: 0\n",
            "_________________________________________________________________\n"
          ],
          "name": "stdout"
        }
      ]
    },
    {
      "cell_type": "markdown",
      "metadata": {
        "id": "1EF_DENjugtz"
      },
      "source": [
        "## 4. Model Fit"
      ]
    },
    {
      "cell_type": "code",
      "metadata": {
        "id": "VvUTKjb5ujWM"
      },
      "source": [
        "autoencoder.compile(loss = 'binary_crossentropy',\n",
        "                    optimizer = 'adam')\n",
        "# binary인 이유: input X가 output X인지 아닌지 비교"
      ],
      "execution_count": 25,
      "outputs": []
    },
    {
      "cell_type": "code",
      "metadata": {
        "colab": {
          "base_uri": "https://localhost:8080/"
        },
        "id": "1XhOfdHQkMKP",
        "outputId": "cdb27b62-3bad-43f4-952f-6f019abc155c"
      },
      "source": [
        "autoencoder.fit(X_train, X_train,\n",
        "                epochs = 50,\n",
        "                batch_size = 256,\n",
        "                validation_data = (X_test, X_test))\n",
        "# y가 없다"
      ],
      "execution_count": 26,
      "outputs": [
        {
          "output_type": "stream",
          "text": [
            "Epoch 1/50\n",
            "235/235 [==============================] - 4s 5ms/step - loss: 0.1570 - val_loss: 0.0041\n",
            "Epoch 2/50\n",
            "235/235 [==============================] - 1s 4ms/step - loss: 0.0040 - val_loss: 0.0041\n",
            "Epoch 3/50\n",
            "235/235 [==============================] - 1s 4ms/step - loss: 0.0040 - val_loss: 0.0040\n",
            "Epoch 4/50\n",
            "235/235 [==============================] - 1s 4ms/step - loss: 0.0040 - val_loss: 0.0040\n",
            "Epoch 5/50\n",
            "235/235 [==============================] - 1s 4ms/step - loss: 0.0040 - val_loss: 0.0040\n",
            "Epoch 6/50\n",
            "235/235 [==============================] - 1s 4ms/step - loss: 0.0040 - val_loss: 0.0040\n",
            "Epoch 7/50\n",
            "235/235 [==============================] - 1s 4ms/step - loss: 0.0040 - val_loss: 0.0040\n",
            "Epoch 8/50\n",
            "235/235 [==============================] - 1s 4ms/step - loss: 0.0040 - val_loss: 0.0040\n",
            "Epoch 9/50\n",
            "235/235 [==============================] - 1s 4ms/step - loss: 0.0040 - val_loss: 0.0040\n",
            "Epoch 10/50\n",
            "235/235 [==============================] - 1s 4ms/step - loss: 0.0040 - val_loss: 0.0040\n",
            "Epoch 11/50\n",
            "235/235 [==============================] - 1s 4ms/step - loss: 0.0040 - val_loss: 0.0040\n",
            "Epoch 12/50\n",
            "235/235 [==============================] - 1s 4ms/step - loss: 0.0040 - val_loss: 0.0040\n",
            "Epoch 13/50\n",
            "235/235 [==============================] - 1s 4ms/step - loss: 0.0039 - val_loss: 0.0040\n",
            "Epoch 14/50\n",
            "235/235 [==============================] - 1s 4ms/step - loss: 0.0039 - val_loss: 0.0040\n",
            "Epoch 15/50\n",
            "235/235 [==============================] - 1s 4ms/step - loss: 0.0039 - val_loss: 0.0040\n",
            "Epoch 16/50\n",
            "235/235 [==============================] - 1s 4ms/step - loss: 0.0039 - val_loss: 0.0040\n",
            "Epoch 17/50\n",
            "235/235 [==============================] - 1s 4ms/step - loss: 0.0039 - val_loss: 0.0040\n",
            "Epoch 18/50\n",
            "235/235 [==============================] - 1s 4ms/step - loss: 0.0039 - val_loss: 0.0040\n",
            "Epoch 19/50\n",
            "235/235 [==============================] - 1s 4ms/step - loss: 0.0039 - val_loss: 0.0040\n",
            "Epoch 20/50\n",
            "235/235 [==============================] - 1s 4ms/step - loss: 0.0039 - val_loss: 0.0040\n",
            "Epoch 21/50\n",
            "235/235 [==============================] - 1s 4ms/step - loss: 0.0039 - val_loss: 0.0040\n",
            "Epoch 22/50\n",
            "235/235 [==============================] - 1s 4ms/step - loss: 0.0039 - val_loss: 0.0040\n",
            "Epoch 23/50\n",
            "235/235 [==============================] - 1s 4ms/step - loss: 0.0039 - val_loss: 0.0040\n",
            "Epoch 24/50\n",
            "235/235 [==============================] - 1s 4ms/step - loss: 0.0039 - val_loss: 0.0040\n",
            "Epoch 25/50\n",
            "235/235 [==============================] - 1s 4ms/step - loss: 0.0039 - val_loss: 0.0040\n",
            "Epoch 26/50\n",
            "235/235 [==============================] - 1s 4ms/step - loss: 0.0039 - val_loss: 0.0039\n",
            "Epoch 27/50\n",
            "235/235 [==============================] - 1s 4ms/step - loss: 0.0039 - val_loss: 0.0039\n",
            "Epoch 28/50\n",
            "235/235 [==============================] - 1s 4ms/step - loss: 0.0039 - val_loss: 0.0039\n",
            "Epoch 29/50\n",
            "235/235 [==============================] - 1s 4ms/step - loss: 0.0039 - val_loss: 0.0039\n",
            "Epoch 30/50\n",
            "235/235 [==============================] - 1s 4ms/step - loss: 0.0039 - val_loss: 0.0039\n",
            "Epoch 31/50\n",
            "235/235 [==============================] - 1s 4ms/step - loss: 0.0039 - val_loss: 0.0039\n",
            "Epoch 32/50\n",
            "235/235 [==============================] - 1s 4ms/step - loss: 0.0039 - val_loss: 0.0039\n",
            "Epoch 33/50\n",
            "235/235 [==============================] - 1s 4ms/step - loss: 0.0039 - val_loss: 0.0039\n",
            "Epoch 34/50\n",
            "235/235 [==============================] - 1s 4ms/step - loss: 0.0039 - val_loss: 0.0039\n",
            "Epoch 35/50\n",
            "235/235 [==============================] - 1s 4ms/step - loss: 0.0039 - val_loss: 0.0039\n",
            "Epoch 36/50\n",
            "235/235 [==============================] - 1s 4ms/step - loss: 0.0039 - val_loss: 0.0039\n",
            "Epoch 37/50\n",
            "235/235 [==============================] - 1s 4ms/step - loss: 0.0038 - val_loss: 0.0039\n",
            "Epoch 38/50\n",
            "235/235 [==============================] - 1s 4ms/step - loss: 0.0038 - val_loss: 0.0039\n",
            "Epoch 39/50\n",
            "235/235 [==============================] - 1s 4ms/step - loss: 0.0038 - val_loss: 0.0039\n",
            "Epoch 40/50\n",
            "235/235 [==============================] - 1s 4ms/step - loss: 0.0038 - val_loss: 0.0038\n",
            "Epoch 41/50\n",
            "235/235 [==============================] - 1s 4ms/step - loss: 0.0038 - val_loss: 0.0038\n",
            "Epoch 42/50\n",
            "235/235 [==============================] - 1s 4ms/step - loss: 0.0038 - val_loss: 0.0038\n",
            "Epoch 43/50\n",
            "235/235 [==============================] - 1s 4ms/step - loss: 0.0038 - val_loss: 0.0038\n",
            "Epoch 44/50\n",
            "235/235 [==============================] - 1s 4ms/step - loss: 0.0038 - val_loss: 0.0038\n",
            "Epoch 45/50\n",
            "235/235 [==============================] - 1s 4ms/step - loss: 0.0038 - val_loss: 0.0038\n",
            "Epoch 46/50\n",
            "235/235 [==============================] - 1s 4ms/step - loss: 0.0037 - val_loss: 0.0038\n",
            "Epoch 47/50\n",
            "235/235 [==============================] - 1s 4ms/step - loss: 0.0037 - val_loss: 0.0038\n",
            "Epoch 48/50\n",
            "235/235 [==============================] - 1s 4ms/step - loss: 0.0037 - val_loss: 0.0038\n",
            "Epoch 49/50\n",
            "235/235 [==============================] - 1s 4ms/step - loss: 0.0037 - val_loss: 0.0038\n",
            "Epoch 50/50\n",
            "235/235 [==============================] - 1s 4ms/step - loss: 0.0037 - val_loss: 0.0038\n"
          ],
          "name": "stdout"
        },
        {
          "output_type": "execute_result",
          "data": {
            "text/plain": [
              "<tensorflow.python.keras.callbacks.History at 0x7f9540082550>"
            ]
          },
          "metadata": {
            "tags": []
          },
          "execution_count": 26
        }
      ]
    },
    {
      "cell_type": "markdown",
      "metadata": {
        "id": "Zk3wQtlGu1zb"
      },
      "source": [
        "## 5. Model Predict"
      ]
    },
    {
      "cell_type": "markdown",
      "metadata": {
        "id": "QOd9ws27u3rp"
      },
      "source": [
        "### 1) Image Encoding\n",
        "- Create 'Latent Space'"
      ]
    },
    {
      "cell_type": "code",
      "metadata": {
        "colab": {
          "base_uri": "https://localhost:8080/"
        },
        "id": "oeqFFAHqkdsx",
        "outputId": "8a5795fc-95a1-4fdf-ea72-27f2986e6e78"
      },
      "source": [
        "encoded_imgs = encoder.predict(X_test)\n",
        "\n",
        "encoded_imgs.shape\n",
        "# X_test 를 집어넣으면 784가 32 차원으로 인코딩 됨 (latent space)"
      ],
      "execution_count": 27,
      "outputs": [
        {
          "output_type": "execute_result",
          "data": {
            "text/plain": [
              "(10000, 32)"
            ]
          },
          "metadata": {
            "tags": []
          },
          "execution_count": 27
        }
      ]
    },
    {
      "cell_type": "markdown",
      "metadata": {
        "id": "h8su6uLZvFS6"
      },
      "source": [
        "### 2) 'Latent Space' Decoding"
      ]
    },
    {
      "cell_type": "code",
      "metadata": {
        "colab": {
          "base_uri": "https://localhost:8080/"
        },
        "id": "VJkJaF2jkyE2",
        "outputId": "359b6281-6ed9-43b0-f4e5-4446b5002f65"
      },
      "source": [
        "decoded_imgs = decoder.predict(encoded_imgs)\n",
        "\n",
        "decoded_imgs.shape\n",
        "# 인코딩한 이미지를 디코더에 집어넣어 복원시키면, 784로 복원됨"
      ],
      "execution_count": 28,
      "outputs": [
        {
          "output_type": "execute_result",
          "data": {
            "text/plain": [
              "(10000, 784)"
            ]
          },
          "metadata": {
            "tags": []
          },
          "execution_count": 28
        }
      ]
    },
    {
      "cell_type": "markdown",
      "metadata": {
        "id": "PmTcgo_bvQwQ"
      },
      "source": [
        "## 6. Visualization\n",
        "- 10개의 이미지 데이터를 모델에 적용"
      ]
    },
    {
      "cell_type": "code",
      "metadata": {
        "colab": {
          "base_uri": "https://localhost:8080/",
          "height": 193
        },
        "id": "MchjKPPuk6gw",
        "outputId": "73d47838-6313-400b-d30b-d3cdbb71f619"
      },
      "source": [
        "n = 10\n",
        "\n",
        "plt.figure(figsize = (20, 4))\n",
        "\n",
        "for i in range(n) :\n",
        "\n",
        "  ax = plt.subplot(2, n, i + 1)\n",
        "  plt.imshow(X_test[i].reshape(28, 28))\n",
        "  plt.gray()\n",
        "  ax.get_xaxis().set_visible(False)\n",
        "  ax.get_yaxis().set_visible(False)\n",
        "\n",
        "  ax = plt.subplot(2, n, i + 1 + n)\n",
        "  plt.imshow(decoded_imgs[i].reshape(28, 28))\n",
        "  plt.gray()\n",
        "  ax.get_xaxis().set_visible(False)\n",
        "  ax.get_yaxis().set_visible(False)\n",
        "\n",
        "plt.show()"
      ],
      "execution_count": 32,
      "outputs": [
        {
          "output_type": "display_data",
          "data": {
            "image/png": "[encoded data removed]",
            "text/plain": [
              "<Figure size 1440x288 with 20 Axes>"
            ]
          },
          "metadata": {
            "tags": [],
            "needs_background": "light"
          }
        }
      ]
    },
    {
      "cell_type": "code",
      "metadata": {
        "id": "j_30cy53lF0c"
      },
      "source": [
        "# 복원이 된 것을 볼 수 있다!\n",
        "# 2개로 줄여도 생각보다 잘 동작함\n",
        "# 레이어의 수를 줄이면 파라미터의 개수가 줄어들므로 성능이 떨어질 것"
      ],
      "execution_count": null,
      "outputs": []
    }
  ]
}