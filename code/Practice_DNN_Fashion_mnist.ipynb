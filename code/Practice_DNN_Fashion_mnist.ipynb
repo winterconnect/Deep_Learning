{
  "nbformat": 4,
  "nbformat_minor": 0,
  "metadata": {
    "colab": {
      "name": "Practice_Fashion_mnist.ipynb",
      "provenance": []
    },
    "kernelspec": {
      "name": "python3",
      "display_name": "Python 3"
    },
    "language_info": {
      "name": "python"
    },
    "accelerator": "GPU"
  },
  "cells": [
    {
      "cell_type": "markdown",
      "metadata": {
        "id": "x8Bk0agANAgp"
      },
      "source": [
        "- Image Data\n",
        "- Categorical Classification\n",
        "- Metric: 'Accuracy' , 'Overfitting', 'Callbacks'"
      ]
    },
    {
      "cell_type": "code",
      "metadata": {
        "id": "HqrzkaDlM9oA"
      },
      "source": [
        "import warnings\n",
        "warnings.filterwarnings('ignore')"
      ],
      "execution_count": null,
      "outputs": []
    },
    {
      "cell_type": "code",
      "metadata": {
        "id": "LrJgrw_3OAac"
      },
      "source": [
        "import matplotlib.pyplot as plt\n",
        "import numpy as np"
      ],
      "execution_count": null,
      "outputs": []
    },
    {
      "cell_type": "code",
      "metadata": {
        "id": "_hnoisGsR8mp"
      },
      "source": [
        "from sklearn.model_selection import train_test_split"
      ],
      "execution_count": null,
      "outputs": []
    },
    {
      "cell_type": "code",
      "metadata": {
        "id": "7RdvRZuHN5MU"
      },
      "source": [
        "import keras\n",
        "from keras.datasets import fashion_mnist\n",
        "from keras.utils import to_categorical\n",
        "from keras import models\n",
        "from keras import layers\n",
        "from keras import regularizers\n",
        "from keras import backend as K\n",
        "from keras.callbacks import EarlyStopping\n",
        "from keras.callbacks import ModelCheckpoint"
      ],
      "execution_count": null,
      "outputs": []
    },
    {
      "cell_type": "code",
      "metadata": {
        "id": "r8qVtsbdN6zc"
      },
      "source": [
        "import tensorflow as tf"
      ],
      "execution_count": null,
      "outputs": []
    },
    {
      "cell_type": "markdown",
      "metadata": {
        "id": "pGvSevc7OBH1"
      },
      "source": [
        "## 1. Load Dataset"
      ]
    },
    {
      "cell_type": "code",
      "metadata": {
        "id": "EPunziXdOESk"
      },
      "source": [
        "(train_data, train_targets) , (X_test, y_test) = fashion_mnist.load_data()"
      ],
      "execution_count": null,
      "outputs": []
    },
    {
      "cell_type": "code",
      "metadata": {
        "colab": {
          "base_uri": "https://localhost:8080/"
        },
        "id": "p5OaxxWgOIu0",
        "outputId": "d33c9e7e-1202-4af9-8a41-5a7d83eb79be"
      },
      "source": [
        "print(len(train_data))\n",
        "print(train_data.shape)\n",
        "\n",
        "print(len(train_targets))\n",
        "print(train_targets[:5])"
      ],
      "execution_count": null,
      "outputs": [
        {
          "output_type": "stream",
          "text": [
            "60000\n",
            "(60000, 28, 28)\n",
            "60000\n",
            "[9 0 0 3 0]\n"
          ],
          "name": "stdout"
        }
      ]
    },
    {
      "cell_type": "code",
      "metadata": {
        "colab": {
          "base_uri": "https://localhost:8080/"
        },
        "id": "qvHUunfLN8y5",
        "outputId": "542c3fd3-3e91-4d81-83a1-8e8dea73bd0a"
      },
      "source": [
        "print(len(X_test))\n",
        "print(X_test.shape)\n",
        "\n",
        "print(len(y_test))\n",
        "print(y_test.shape)\n",
        "print(y_test[:5])"
      ],
      "execution_count": null,
      "outputs": [
        {
          "output_type": "stream",
          "text": [
            "10000\n",
            "(10000, 784)\n",
            "10000\n",
            "(10000,)\n",
            "[9 2 1 1 6]\n"
          ],
          "name": "stdout"
        }
      ]
    },
    {
      "cell_type": "markdown",
      "metadata": {
        "id": "0pU9gcJxOZQg"
      },
      "source": [
        "## 2. Visualization"
      ]
    },
    {
      "cell_type": "code",
      "metadata": {
        "colab": {
          "base_uri": "https://localhost:8080/",
          "height": 265
        },
        "id": "N0v9UWWnObzA",
        "outputId": "0fd486b4-843f-42da-9e73-b15e4a8a3d88"
      },
      "source": [
        "digit = train_data[0]\n",
        "plt.imshow(digit, cmap = 'gray')\n",
        "plt.show()"
      ],
      "execution_count": null,
      "outputs": [
        {
          "output_type": "display_data",
          "data": {
            "image/png": "[encoded data removed]",
            "text/plain": [
              "<Figure size 432x288 with 1 Axes>"
            ]
          },
          "metadata": {
            "tags": [],
            "needs_background": "light"
          }
        }
      ]
    },
    {
      "cell_type": "code",
      "metadata": {
        "colab": {
          "base_uri": "https://localhost:8080/"
        },
        "id": "f-Q0bHHKOYTf",
        "outputId": "701e9e10-317c-477d-84e2-6f42688c31f2"
      },
      "source": [
        "np.set_printoptions(linewidth = 150)\n",
        "print(train_data[0])"
      ],
      "execution_count": null,
      "outputs": [
        {
          "output_type": "stream",
          "text": [
            "[[  0   0   0   0   0   0   0   0   0   0   0   0   0   0   0   0   0   0   0   0   0   0   0   0   0   0   0   0]\n",
            " [  0   0   0   0   0   0   0   0   0   0   0   0   0   0   0   0   0   0   0   0   0   0   0   0   0   0   0   0]\n",
            " [  0   0   0   0   0   0   0   0   0   0   0   0   0   0   0   0   0   0   0   0   0   0   0   0   0   0   0   0]\n",
            " [  0   0   0   0   0   0   0   0   0   0   0   0   1   0   0  13  73   0   0   1   4   0   0   0   0   1   1   0]\n",
            " [  0   0   0   0   0   0   0   0   0   0   0   0   3   0  36 136 127  62  54   0   0   0   1   3   4   0   0   3]\n",
            " [  0   0   0   0   0   0   0   0   0   0   0   0   6   0 102 204 176 134 144 123  23   0   0   0   0  12  10   0]\n",
            " [  0   0   0   0   0   0   0   0   0   0   0   0   0   0 155 236 207 178 107 156 161 109  64  23  77 130  72  15]\n",
            " [  0   0   0   0   0   0   0   0   0   0   0   1   0  69 207 223 218 216 216 163 127 121 122 146 141  88 172  66]\n",
            " [  0   0   0   0   0   0   0   0   0   1   1   1   0 200 232 232 233 229 223 223 215 213 164 127 123 196 229   0]\n",
            " [  0   0   0   0   0   0   0   0   0   0   0   0   0 183 225 216 223 228 235 227 224 222 224 221 223 245 173   0]\n",
            " [  0   0   0   0   0   0   0   0   0   0   0   0   0 193 228 218 213 198 180 212 210 211 213 223 220 243 202   0]\n",
            " [  0   0   0   0   0   0   0   0   0   1   3   0  12 219 220 212 218 192 169 227 208 218 224 212 226 197 209  52]\n",
            " [  0   0   0   0   0   0   0   0   0   0   6   0  99 244 222 220 218 203 198 221 215 213 222 220 245 119 167  56]\n",
            " [  0   0   0   0   0   0   0   0   0   4   0   0  55 236 228 230 228 240 232 213 218 223 234 217 217 209  92   0]\n",
            " [  0   0   1   4   6   7   2   0   0   0   0   0 237 226 217 223 222 219 222 221 216 223 229 215 218 255  77   0]\n",
            " [  0   3   0   0   0   0   0   0   0  62 145 204 228 207 213 221 218 208 211 218 224 223 219 215 224 244 159   0]\n",
            " [  0   0   0   0  18  44  82 107 189 228 220 222 217 226 200 205 211 230 224 234 176 188 250 248 233 238 215   0]\n",
            " [  0  57 187 208 224 221 224 208 204 214 208 209 200 159 245 193 206 223 255 255 221 234 221 211 220 232 246   0]\n",
            " [  3 202 228 224 221 211 211 214 205 205 205 220 240  80 150 255 229 221 188 154 191 210 204 209 222 228 225   0]\n",
            " [ 98 233 198 210 222 229 229 234 249 220 194 215 217 241  65  73 106 117 168 219 221 215 217 223 223 224 229  29]\n",
            " [ 75 204 212 204 193 205 211 225 216 185 197 206 198 213 240 195 227 245 239 223 218 212 209 222 220 221 230  67]\n",
            " [ 48 203 183 194 213 197 185 190 194 192 202 214 219 221 220 236 225 216 199 206 186 181 177 172 181 205 206 115]\n",
            " [  0 122 219 193 179 171 183 196 204 210 213 207 211 210 200 196 194 191 195 191 198 192 176 156 167 177 210  92]\n",
            " [  0   0  74 189 212 191 175 172 175 181 185 188 189 188 193 198 204 209 210 210 211 188 188 194 192 216 170   0]\n",
            " [  2   0   0   0  66 200 222 237 239 242 246 243 244 221 220 193 191 179 182 182 181 176 166 168  99  58   0   0]\n",
            " [  0   0   0   0   0   0   0  40  61  44  72  41  35   0   0   0   0   0   0   0   0   0   0   0   0   0   0   0]\n",
            " [  0   0   0   0   0   0   0   0   0   0   0   0   0   0   0   0   0   0   0   0   0   0   0   0   0   0   0   0]\n",
            " [  0   0   0   0   0   0   0   0   0   0   0   0   0   0   0   0   0   0   0   0   0   0   0   0   0   0   0   0]]\n"
          ],
          "name": "stdout"
        }
      ]
    },
    {
      "cell_type": "markdown",
      "metadata": {
        "id": "vdXhSwrAPNJK"
      },
      "source": [
        "## 3. Data Preprocessing\n",
        "- reshape & normalization"
      ]
    },
    {
      "cell_type": "code",
      "metadata": {
        "colab": {
          "base_uri": "https://localhost:8080/"
        },
        "id": "S81_IGxWOqg6",
        "outputId": "a8a4e25a-e423-4e6e-f5be-cf23676c93f9"
      },
      "source": [
        "train_data = train_data.reshape((60000, 28 * 28))\n",
        "X_test = X_test.reshape((10000, 28 * 28))\n",
        "\n",
        "train_data.shape, X_test.shape"
      ],
      "execution_count": null,
      "outputs": [
        {
          "output_type": "execute_result",
          "data": {
            "text/plain": [
              "((60000, 784), (10000, 784))"
            ]
          },
          "metadata": {
            "tags": []
          },
          "execution_count": 29
        }
      ]
    },
    {
      "cell_type": "markdown",
      "metadata": {
        "id": "nquwMIu9Pea5"
      },
      "source": [
        "- Normalization"
      ]
    },
    {
      "cell_type": "code",
      "metadata": {
        "colab": {
          "base_uri": "https://localhost:8080/"
        },
        "id": "pZCrmMR3PdbL",
        "outputId": "de0e8072-f45f-44b8-c7e8-efae4aac114f"
      },
      "source": [
        "train_data = train_data.astype(float) / 255\n",
        "X_test = X_test.astype(float) / 255\n",
        "\n",
        "print(X_train[0])"
      ],
      "execution_count": null,
      "outputs": [
        {
          "output_type": "stream",
          "text": [
            "[0.         0.         0.         0.         0.         0.         0.         0.         0.         0.         0.         0.         0.\n",
            " 0.         0.         0.         0.         0.         0.         0.         0.         0.         0.         0.         0.         0.\n",
            " 0.         0.         0.         0.         0.         0.         0.         0.         0.         0.         0.         0.         0.\n",
            " 0.         0.         0.         0.         0.         0.         0.         0.         0.         0.         0.         0.         0.\n",
            " 0.         0.         0.         0.         0.         0.         0.         0.         0.         0.         0.         0.         0.\n",
            " 0.         0.         0.         0.         0.         0.         0.         0.         0.         0.         0.         0.         0.\n",
            " 0.         0.         0.         0.         0.         0.         0.         0.         0.         0.         0.         0.         0.\n",
            " 0.         0.         0.         0.         0.         0.00392157 0.         0.         0.05098039 0.28627451 0.         0.         0.00392157\n",
            " 0.01568627 0.         0.         0.         0.         0.00392157 0.00392157 0.         0.         0.         0.         0.         0.\n",
            " 0.         0.         0.         0.         0.         0.         0.         0.01176471 0.         0.14117647 0.53333333 0.49803922 0.24313725\n",
            " 0.21176471 0.         0.         0.         0.00392157 0.01176471 0.01568627 0.         0.         0.01176471 0.         0.         0.\n",
            " 0.         0.         0.         0.         0.         0.         0.         0.         0.         0.02352941 0.         0.4        0.8\n",
            " 0.69019608 0.5254902  0.56470588 0.48235294 0.09019608 0.         0.         0.         0.         0.04705882 0.03921569 0.         0.\n",
            " 0.         0.         0.         0.         0.         0.         0.         0.         0.         0.         0.         0.         0.\n",
            " 0.60784314 0.9254902  0.81176471 0.69803922 0.41960784 0.61176471 0.63137255 0.42745098 0.25098039 0.09019608 0.30196078 0.50980392 0.28235294\n",
            " 0.05882353 0.         0.         0.         0.         0.         0.         0.         0.         0.         0.         0.         0.00392157\n",
            " 0.         0.27058824 0.81176471 0.8745098  0.85490196 0.84705882 0.84705882 0.63921569 0.49803922 0.4745098  0.47843137 0.57254902 0.55294118\n",
            " 0.34509804 0.6745098  0.25882353 0.         0.         0.         0.         0.         0.         0.         0.         0.         0.00392157\n",
            " 0.00392157 0.00392157 0.         0.78431373 0.90980392 0.90980392 0.91372549 0.89803922 0.8745098  0.8745098  0.84313725 0.83529412 0.64313725\n",
            " 0.49803922 0.48235294 0.76862745 0.89803922 0.         0.         0.         0.         0.         0.         0.         0.         0.\n",
            " 0.         0.         0.         0.         0.         0.71764706 0.88235294 0.84705882 0.8745098  0.89411765 0.92156863 0.89019608 0.87843137\n",
            " 0.87058824 0.87843137 0.86666667 0.8745098  0.96078431 0.67843137 0.         0.         0.         0.         0.         0.         0.\n",
            " 0.         0.         0.         0.         0.         0.         0.         0.75686275 0.89411765 0.85490196 0.83529412 0.77647059 0.70588235\n",
            " 0.83137255 0.82352941 0.82745098 0.83529412 0.8745098  0.8627451  0.95294118 0.79215686 0.         0.         0.         0.         0.\n",
            " 0.         0.         0.         0.         0.         0.00392157 0.01176471 0.         0.04705882 0.85882353 0.8627451  0.83137255 0.85490196\n",
            " 0.75294118 0.6627451  0.89019608 0.81568627 0.85490196 0.87843137 0.83137255 0.88627451 0.77254902 0.81960784 0.20392157 0.         0.\n",
            " 0.         0.         0.         0.         0.         0.         0.         0.         0.02352941 0.         0.38823529 0.95686275 0.87058824\n",
            " 0.8627451  0.85490196 0.79607843 0.77647059 0.86666667 0.84313725 0.83529412 0.87058824 0.8627451  0.96078431 0.46666667 0.65490196 0.21960784\n",
            " 0.         0.         0.         0.         0.         0.         0.         0.         0.         0.01568627 0.         0.         0.21568627\n",
            " 0.9254902  0.89411765 0.90196078 0.89411765 0.94117647 0.90980392 0.83529412 0.85490196 0.8745098  0.91764706 0.85098039 0.85098039 0.81960784\n",
            " 0.36078431 0.         0.         0.         0.00392157 0.01568627 0.02352941 0.02745098 0.00784314 0.         0.         0.         0.\n",
            " 0.         0.92941176 0.88627451 0.85098039 0.8745098  0.87058824 0.85882353 0.87058824 0.86666667 0.84705882 0.8745098  0.89803922 0.84313725\n",
            " 0.85490196 1.         0.30196078 0.         0.         0.01176471 0.         0.         0.         0.         0.         0.         0.\n",
            " 0.24313725 0.56862745 0.8        0.89411765 0.81176471 0.83529412 0.86666667 0.85490196 0.81568627 0.82745098 0.85490196 0.87843137 0.8745098\n",
            " 0.85882353 0.84313725 0.87843137 0.95686275 0.62352941 0.         0.         0.         0.         0.         0.07058824 0.17254902 0.32156863\n",
            " 0.41960784 0.74117647 0.89411765 0.8627451  0.87058824 0.85098039 0.88627451 0.78431373 0.80392157 0.82745098 0.90196078 0.87843137 0.91764706\n",
            " 0.69019608 0.7372549  0.98039216 0.97254902 0.91372549 0.93333333 0.84313725 0.         0.         0.22352941 0.73333333 0.81568627 0.87843137\n",
            " 0.86666667 0.87843137 0.81568627 0.8        0.83921569 0.81568627 0.81960784 0.78431373 0.62352941 0.96078431 0.75686275 0.80784314 0.8745098\n",
            " 1.         1.         0.86666667 0.91764706 0.86666667 0.82745098 0.8627451  0.90980392 0.96470588 0.         0.01176471 0.79215686 0.89411765\n",
            " 0.87843137 0.86666667 0.82745098 0.82745098 0.83921569 0.80392157 0.80392157 0.80392157 0.8627451  0.94117647 0.31372549 0.58823529 1.\n",
            " 0.89803922 0.86666667 0.7372549  0.60392157 0.74901961 0.82352941 0.8        0.81960784 0.87058824 0.89411765 0.88235294 0.         0.38431373\n",
            " 0.91372549 0.77647059 0.82352941 0.87058824 0.89803922 0.89803922 0.91764706 0.97647059 0.8627451  0.76078431 0.84313725 0.85098039 0.94509804\n",
            " 0.25490196 0.28627451 0.41568627 0.45882353 0.65882353 0.85882353 0.86666667 0.84313725 0.85098039 0.8745098  0.8745098  0.87843137 0.89803922\n",
            " 0.11372549 0.29411765 0.8        0.83137255 0.8        0.75686275 0.80392157 0.82745098 0.88235294 0.84705882 0.7254902  0.77254902 0.80784314\n",
            " 0.77647059 0.83529412 0.94117647 0.76470588 0.89019608 0.96078431 0.9372549  0.8745098  0.85490196 0.83137255 0.81960784 0.87058824 0.8627451\n",
            " 0.86666667 0.90196078 0.2627451  0.18823529 0.79607843 0.71764706 0.76078431 0.83529412 0.77254902 0.7254902  0.74509804 0.76078431 0.75294118\n",
            " 0.79215686 0.83921569 0.85882353 0.86666667 0.8627451  0.9254902  0.88235294 0.84705882 0.78039216 0.80784314 0.72941176 0.70980392 0.69411765\n",
            " 0.6745098  0.70980392 0.80392157 0.80784314 0.45098039 0.         0.47843137 0.85882353 0.75686275 0.70196078 0.67058824 0.71764706 0.76862745\n",
            " 0.8        0.82352941 0.83529412 0.81176471 0.82745098 0.82352941 0.78431373 0.76862745 0.76078431 0.74901961 0.76470588 0.74901961 0.77647059\n",
            " 0.75294118 0.69019608 0.61176471 0.65490196 0.69411765 0.82352941 0.36078431 0.         0.         0.29019608 0.74117647 0.83137255 0.74901961\n",
            " 0.68627451 0.6745098  0.68627451 0.70980392 0.7254902  0.7372549  0.74117647 0.7372549  0.75686275 0.77647059 0.8        0.81960784 0.82352941\n",
            " 0.82352941 0.82745098 0.7372549  0.7372549  0.76078431 0.75294118 0.84705882 0.66666667 0.         0.00784314 0.         0.         0.\n",
            " 0.25882353 0.78431373 0.87058824 0.92941176 0.9372549  0.94901961 0.96470588 0.95294118 0.95686275 0.86666667 0.8627451  0.75686275 0.74901961\n",
            " 0.70196078 0.71372549 0.71372549 0.70980392 0.69019608 0.65098039 0.65882353 0.38823529 0.22745098 0.         0.         0.         0.\n",
            " 0.         0.         0.         0.         0.         0.15686275 0.23921569 0.17254902 0.28235294 0.16078431 0.1372549  0.         0.\n",
            " 0.         0.         0.         0.         0.         0.         0.         0.         0.         0.         0.         0.         0.\n",
            " 0.         0.         0.         0.         0.         0.         0.         0.         0.         0.         0.         0.         0.\n",
            " 0.         0.         0.         0.         0.         0.         0.         0.         0.         0.         0.         0.         0.\n",
            " 0.         0.         0.         0.         0.         0.         0.         0.         0.         0.         0.         0.         0.\n",
            " 0.         0.         0.         0.         0.         0.         0.         0.         0.         0.         0.         0.         0.\n",
            " 0.         0.         0.         0.        ]\n"
          ],
          "name": "stdout"
        }
      ]
    },
    {
      "cell_type": "markdown",
      "metadata": {
        "id": "cPYOV87UPo-d"
      },
      "source": [
        "- One Hot Encoding"
      ]
    },
    {
      "cell_type": "code",
      "metadata": {
        "colab": {
          "base_uri": "https://localhost:8080/"
        },
        "id": "vd3RGQjYPqRj",
        "outputId": "6b40f192-25cb-472c-81e2-e83cd7dfe77c"
      },
      "source": [
        "train_targets = to_categorical(train_targets)\n",
        "y_test = to_categorical(y_test)\n",
        "\n",
        "print(y_train[:5])"
      ],
      "execution_count": null,
      "outputs": [
        {
          "output_type": "stream",
          "text": [
            "[5 6 0 2 7]\n"
          ],
          "name": "stdout"
        }
      ]
    },
    {
      "cell_type": "markdown",
      "metadata": {
        "id": "mGi_7Sb4R49d"
      },
      "source": [
        "- Train & Validation Split"
      ]
    },
    {
      "cell_type": "code",
      "metadata": {
        "colab": {
          "base_uri": "https://localhost:8080/"
        },
        "id": "ndEqOLrmR7du",
        "outputId": "fbbd6248-b895-4354-f70e-9aeea04b4fea"
      },
      "source": [
        "X_train, X_valid, y_train, y_valid = train_test_split(train_data, train_targets,\n",
        "                                                      test_size = 0.2,\n",
        "                                                      random_state = 2045)\n",
        "\n",
        "X_train.shape, X_valid.shape, y_train.shape, y_valid.shape"
      ],
      "execution_count": null,
      "outputs": [
        {
          "output_type": "execute_result",
          "data": {
            "text/plain": [
              "((48000, 784), (12000, 784), (48000, 10), (12000, 10))"
            ]
          },
          "metadata": {
            "tags": []
          },
          "execution_count": 40
        }
      ]
    },
    {
      "cell_type": "markdown",
      "metadata": {
        "id": "IyHBw-usP4r0"
      },
      "source": [
        "## 3. Modeling"
      ]
    },
    {
      "cell_type": "markdown",
      "metadata": {
        "id": "rKF9hOGWP7xr"
      },
      "source": [
        "### 1) Define"
      ]
    },
    {
      "cell_type": "markdown",
      "metadata": {
        "id": "cz4Ldfe1V-XK"
      },
      "source": [
        "(1) Case1"
      ]
    },
    {
      "cell_type": "code",
      "metadata": {
        "id": "915fEu9BP9N7"
      },
      "source": [
        "mnist_1 = models.Sequential()\n",
        "\n",
        "mnist_1.add(layers.Dense(512, activation = 'relu' , input_shape = (28 * 28, )))\n",
        "mnist_1.add(layers.Dense(256, activation = 'relu'))\n",
        "mnist_1.add(layers.Dense(10, activation = 'softmax'))"
      ],
      "execution_count": null,
      "outputs": []
    },
    {
      "cell_type": "code",
      "metadata": {
        "colab": {
          "base_uri": "https://localhost:8080/"
        },
        "id": "V1n-h_IcQSwj",
        "outputId": "c33cbba9-620e-4d2c-c822-52256daf33a2"
      },
      "source": [
        "mnist_1.summary()"
      ],
      "execution_count": null,
      "outputs": [
        {
          "output_type": "stream",
          "text": [
            "Model: \"sequential_1\"\n",
            "_________________________________________________________________\n",
            "Layer (type)                 Output Shape              Param #   \n",
            "=================================================================\n",
            "dense_3 (Dense)              (None, 512)               401920    \n",
            "_________________________________________________________________\n",
            "dense_4 (Dense)              (None, 256)               131328    \n",
            "_________________________________________________________________\n",
            "dense_5 (Dense)              (None, 10)                2570      \n",
            "=================================================================\n",
            "Total params: 535,818\n",
            "Trainable params: 535,818\n",
            "Non-trainable params: 0\n",
            "_________________________________________________________________\n"
          ],
          "name": "stdout"
        }
      ]
    },
    {
      "cell_type": "markdown",
      "metadata": {
        "id": "mx8I6BZ_WCHx"
      },
      "source": [
        "(2) Case2: L2 Regularization"
      ]
    },
    {
      "cell_type": "code",
      "metadata": {
        "id": "fRtewqnVWMSq"
      },
      "source": [
        "mnist_2 = models.Sequential(name = 'L2')\n",
        "\n",
        "mnist_2.add(layers.Dense(512, activation = 'relu' ,\n",
        "                         kernel_regularizer = regularizers.l2(0.00001),\n",
        "                         input_shape = (28 * 28,)))\n",
        "mnist_2.add(layers.Dense(256, activation = 'relu' ,\n",
        "                         kernel_regularizer = regularizers.l2(0.00001)))\n",
        "mnist_2.add(layers.Dense(10, activation = 'softmax'))"
      ],
      "execution_count": null,
      "outputs": []
    },
    {
      "cell_type": "code",
      "metadata": {
        "colab": {
          "base_uri": "https://localhost:8080/"
        },
        "id": "sg2OdSuHWltq",
        "outputId": "531ca238-24ad-4a82-d690-372827fa1664"
      },
      "source": [
        "mnist_2.summary()"
      ],
      "execution_count": null,
      "outputs": [
        {
          "output_type": "stream",
          "text": [
            "Model: \"L2\"\n",
            "_________________________________________________________________\n",
            "Layer (type)                 Output Shape              Param #   \n",
            "=================================================================\n",
            "dense_7 (Dense)              (None, 512)               401920    \n",
            "_________________________________________________________________\n",
            "dense_8 (Dense)              (None, 256)               131328    \n",
            "_________________________________________________________________\n",
            "dense_9 (Dense)              (None, 10)                2570      \n",
            "=================================================================\n",
            "Total params: 535,818\n",
            "Trainable params: 535,818\n",
            "Non-trainable params: 0\n",
            "_________________________________________________________________\n"
          ],
          "name": "stdout"
        }
      ]
    },
    {
      "cell_type": "markdown",
      "metadata": {
        "id": "CkGd-QT3XDMs"
      },
      "source": [
        "(3) Case3: Dropout"
      ]
    },
    {
      "cell_type": "code",
      "metadata": {
        "id": "oXdUwMPBXCWU"
      },
      "source": [
        "mnist_3 = models.Sequential(name = 'Dropout')\n",
        "\n",
        "mnist_3.add(layers.Dense(512, activation = 'relu' , input_shape = (28 * 28, )))\n",
        "mnist_3.add(layers.Dropout(0.5))\n",
        "mnist_3.add(layers.Dense(256, activation = 'relu'))\n",
        "mnist_3.add(layers.Dropout(0.5))\n",
        "mnist_3.add(layers.Dense(10, activation = 'softmax'))"
      ],
      "execution_count": null,
      "outputs": []
    },
    {
      "cell_type": "code",
      "metadata": {
        "colab": {
          "base_uri": "https://localhost:8080/"
        },
        "id": "Euo1jCBDX44j",
        "outputId": "871d8232-7168-46a2-8021-2e03519bbd7c"
      },
      "source": [
        "mnist_3.summary()"
      ],
      "execution_count": null,
      "outputs": [
        {
          "output_type": "stream",
          "text": [
            "Model: \"Dropout\"\n",
            "_________________________________________________________________\n",
            "Layer (type)                 Output Shape              Param #   \n",
            "=================================================================\n",
            "dense_10 (Dense)             (None, 512)               401920    \n",
            "_________________________________________________________________\n",
            "dropout (Dropout)            (None, 512)               0         \n",
            "_________________________________________________________________\n",
            "dense_11 (Dense)             (None, 256)               131328    \n",
            "_________________________________________________________________\n",
            "dropout_1 (Dropout)          (None, 256)               0         \n",
            "_________________________________________________________________\n",
            "dense_12 (Dense)             (None, 10)                2570      \n",
            "=================================================================\n",
            "Total params: 535,818\n",
            "Trainable params: 535,818\n",
            "Non-trainable params: 0\n",
            "_________________________________________________________________\n"
          ],
          "name": "stdout"
        }
      ]
    },
    {
      "cell_type": "markdown",
      "metadata": {
        "id": "MDN4-O0xYg4w"
      },
      "source": [
        "(4) Case4: Batch Normalization"
      ]
    },
    {
      "cell_type": "code",
      "metadata": {
        "id": "swrV64p_Ykay"
      },
      "source": [
        "K.clear_session()\n",
        "\n",
        "mnist_4 = models.Sequential(name = 'Batch')\n",
        "\n",
        "mnist_4.add(layers.Dense(512, input_shape = (28 * 28, )))\n",
        "mnist_4.add(layers.BatchNormalization())\n",
        "mnist_4.add(layers.Activation('relu'))\n",
        "mnist_4.add(layers.Dense(512))\n",
        "mnist_4.add(layers.BatchNormalization())\n",
        "mnist_4.add(layers.Activation('relu'))\n",
        "mnist_4.add(layers.Dense(256))\n",
        "mnist_4.add(layers.BatchNormalization())\n",
        "mnist_4.add(layers.Activation('relu'))\n",
        "mnist_4.add(layers.Dense(10, activation = 'softmax'))"
      ],
      "execution_count": null,
      "outputs": []
    },
    {
      "cell_type": "code",
      "metadata": {
        "colab": {
          "base_uri": "https://localhost:8080/"
        },
        "id": "iYvM3SKCY7VI",
        "outputId": "0135849b-479b-49b1-c970-46af17dd390e"
      },
      "source": [
        "mnist_4.summary()"
      ],
      "execution_count": null,
      "outputs": [
        {
          "output_type": "stream",
          "text": [
            "Model: \"Batch\"\n",
            "_________________________________________________________________\n",
            "Layer (type)                 Output Shape              Param #   \n",
            "=================================================================\n",
            "dense (Dense)                (None, 512)               401920    \n",
            "_________________________________________________________________\n",
            "batch_normalization (BatchNo (None, 512)               2048      \n",
            "_________________________________________________________________\n",
            "activation (Activation)      (None, 512)               0         \n",
            "_________________________________________________________________\n",
            "dense_1 (Dense)              (None, 512)               262656    \n",
            "_________________________________________________________________\n",
            "batch_normalization_1 (Batch (None, 512)               2048      \n",
            "_________________________________________________________________\n",
            "activation_1 (Activation)    (None, 512)               0         \n",
            "_________________________________________________________________\n",
            "dense_2 (Dense)              (None, 256)               131328    \n",
            "_________________________________________________________________\n",
            "batch_normalization_2 (Batch (None, 256)               1024      \n",
            "_________________________________________________________________\n",
            "activation_2 (Activation)    (None, 256)               0         \n",
            "_________________________________________________________________\n",
            "dense_3 (Dense)              (None, 10)                2570      \n",
            "=================================================================\n",
            "Total params: 803,594\n",
            "Trainable params: 801,034\n",
            "Non-trainable params: 2,560\n",
            "_________________________________________________________________\n"
          ],
          "name": "stdout"
        }
      ]
    },
    {
      "cell_type": "markdown",
      "metadata": {
        "id": "DJZfpG1pZu3Z"
      },
      "source": [
        "(5) Case5: Batch & Dropout"
      ]
    },
    {
      "cell_type": "code",
      "metadata": {
        "id": "td1cM6ZpZysz"
      },
      "source": [
        "K.clear_session()\n",
        "\n",
        "mnist_5 = models.Sequential(name = 'Batch_Dropout')\n",
        "\n",
        "mnist_5.add(layers.Dense(512, input_shape = (28 * 28, )))\n",
        "mnist_5.add(layers.Dropout(0.5))\n",
        "mnist_5.add(layers.BatchNormalization())\n",
        "mnist_5.add(layers.Activation('relu'))\n",
        "mnist_5.add(layers.Dense(512, input_shape = (28 * 28, )))\n",
        "mnist_5.add(layers.Dropout(0.5))\n",
        "mnist_5.add(layers.BatchNormalization())\n",
        "mnist_5.add(layers.Activation('relu'))\n",
        "mnist_5.add(layers.Dense(256))\n",
        "mnist_5.add(layers.Dropout(0.5))\n",
        "mnist_5.add(layers.BatchNormalization())\n",
        "mnist_5.add(layers.Activation('relu'))\n",
        "mnist_5.add(layers.Dense(10, activation = 'softmax'))"
      ],
      "execution_count": null,
      "outputs": []
    },
    {
      "cell_type": "code",
      "metadata": {
        "colab": {
          "base_uri": "https://localhost:8080/"
        },
        "id": "hnmQepiraWFM",
        "outputId": "c18ba749-6568-4b09-c176-593ad5ee6143"
      },
      "source": [
        "mnist_5.summary()"
      ],
      "execution_count": null,
      "outputs": [
        {
          "output_type": "stream",
          "text": [
            "Model: \"Batch_Dropout\"\n",
            "_________________________________________________________________\n",
            "Layer (type)                 Output Shape              Param #   \n",
            "=================================================================\n",
            "dense (Dense)                (None, 512)               401920    \n",
            "_________________________________________________________________\n",
            "dropout (Dropout)            (None, 512)               0         \n",
            "_________________________________________________________________\n",
            "batch_normalization (BatchNo (None, 512)               2048      \n",
            "_________________________________________________________________\n",
            "activation (Activation)      (None, 512)               0         \n",
            "_________________________________________________________________\n",
            "dense_1 (Dense)              (None, 512)               262656    \n",
            "_________________________________________________________________\n",
            "dropout_1 (Dropout)          (None, 512)               0         \n",
            "_________________________________________________________________\n",
            "batch_normalization_1 (Batch (None, 512)               2048      \n",
            "_________________________________________________________________\n",
            "activation_1 (Activation)    (None, 512)               0         \n",
            "_________________________________________________________________\n",
            "dense_2 (Dense)              (None, 256)               131328    \n",
            "_________________________________________________________________\n",
            "dropout_2 (Dropout)          (None, 256)               0         \n",
            "_________________________________________________________________\n",
            "batch_normalization_2 (Batch (None, 256)               1024      \n",
            "_________________________________________________________________\n",
            "activation_2 (Activation)    (None, 256)               0         \n",
            "_________________________________________________________________\n",
            "dense_3 (Dense)              (None, 10)                2570      \n",
            "=================================================================\n",
            "Total params: 803,594\n",
            "Trainable params: 801,034\n",
            "Non-trainable params: 2,560\n",
            "_________________________________________________________________\n"
          ],
          "name": "stdout"
        }
      ]
    },
    {
      "cell_type": "markdown",
      "metadata": {
        "id": "1ZuG9ve5bfBX"
      },
      "source": [
        "(6) Batch & L2"
      ]
    },
    {
      "cell_type": "code",
      "metadata": {
        "id": "hbpmN-72biQ6"
      },
      "source": [
        "mnist_6 = models.Sequential(name = 'Batch_L2')\n",
        "\n",
        "mnist_6.add(layers.Dense(512, input_shape = (28 * 28, ),\n",
        "                         kernel_regularizer = regularizers.l2(0.00001)))\n",
        "mnist_6.add(layers.BatchNormalization())\n",
        "mnist_6.add(layers.Activation('relu'))\n",
        "mnist_6.add(layers.Dense(256, kernel_regularizer= regularizers.l2(0.00001)))\n",
        "mnist_6.add(layers.BatchNormalization())\n",
        "mnist_6.add(layers.Activation('relu'))\n",
        "mnist_6.add(layers.Dense(10, activation = 'softmax'))"
      ],
      "execution_count": null,
      "outputs": []
    },
    {
      "cell_type": "code",
      "metadata": {
        "colab": {
          "base_uri": "https://localhost:8080/"
        },
        "id": "2stnO_x7bpo6",
        "outputId": "81f7c214-9bee-4ef2-eb3e-43848a3d1cab"
      },
      "source": [
        "mnist_6.summary()"
      ],
      "execution_count": null,
      "outputs": [
        {
          "output_type": "stream",
          "text": [
            "Model: \"Batch_L2\"\n",
            "_________________________________________________________________\n",
            "Layer (type)                 Output Shape              Param #   \n",
            "=================================================================\n",
            "dense_28 (Dense)             (None, 512)               401920    \n",
            "_________________________________________________________________\n",
            "batch_normalization_10 (Batc (None, 512)               2048      \n",
            "_________________________________________________________________\n",
            "activation_10 (Activation)   (None, 512)               0         \n",
            "_________________________________________________________________\n",
            "dense_29 (Dense)             (None, 256)               131328    \n",
            "_________________________________________________________________\n",
            "batch_normalization_11 (Batc (None, 256)               1024      \n",
            "_________________________________________________________________\n",
            "activation_11 (Activation)   (None, 256)               0         \n",
            "_________________________________________________________________\n",
            "dense_30 (Dense)             (None, 10)                2570      \n",
            "=================================================================\n",
            "Total params: 538,890\n",
            "Trainable params: 537,354\n",
            "Non-trainable params: 1,536\n",
            "_________________________________________________________________\n"
          ],
          "name": "stdout"
        }
      ]
    },
    {
      "cell_type": "markdown",
      "metadata": {
        "id": "1xiG7eLIbshi"
      },
      "source": [
        "(7) Dropout & L2"
      ]
    },
    {
      "cell_type": "code",
      "metadata": {
        "id": "iqzq--YMbwCJ"
      },
      "source": [
        "mnist_7 = models.Sequential(name = 'Dropout_L2')\n",
        "\n",
        "mnist_7.add(layers.Dense(512, input_shape = (28 * 28, ),\n",
        "                         activation = 'relu' ,\n",
        "                         kernel_regularizer = regularizers.l2(0.00001)))\n",
        "mnist_7.add(layers.Dropout(0.5))\n",
        "mnist_7.add(layers.Dense(256, activation = 'relu' ,\n",
        "                         kernel_regularizer = regularizers.l2(0.00001)))\n",
        "mnist_7.add(layers.Dropout(0.5))\n",
        "mnist_7.add(layers.Dense(10, activation = 'softmax'))"
      ],
      "execution_count": null,
      "outputs": []
    },
    {
      "cell_type": "code",
      "metadata": {
        "colab": {
          "base_uri": "https://localhost:8080/"
        },
        "id": "R3TwnDxvcGvw",
        "outputId": "a310605f-7b2d-4e41-8961-527631733596"
      },
      "source": [
        "mnist_7.summary()"
      ],
      "execution_count": null,
      "outputs": [
        {
          "output_type": "stream",
          "text": [
            "Model: \"Dropout_L2\"\n",
            "_________________________________________________________________\n",
            "Layer (type)                 Output Shape              Param #   \n",
            "=================================================================\n",
            "dense_31 (Dense)             (None, 512)               401920    \n",
            "_________________________________________________________________\n",
            "dropout_8 (Dropout)          (None, 512)               0         \n",
            "_________________________________________________________________\n",
            "dense_32 (Dense)             (None, 256)               131328    \n",
            "_________________________________________________________________\n",
            "dropout_9 (Dropout)          (None, 256)               0         \n",
            "_________________________________________________________________\n",
            "dense_33 (Dense)             (None, 10)                2570      \n",
            "=================================================================\n",
            "Total params: 535,818\n",
            "Trainable params: 535,818\n",
            "Non-trainable params: 0\n",
            "_________________________________________________________________\n"
          ],
          "name": "stdout"
        }
      ]
    },
    {
      "cell_type": "code",
      "metadata": {
        "id": "wQKIyCWWdyxt"
      },
      "source": [
        "K.clear_session()"
      ],
      "execution_count": null,
      "outputs": []
    },
    {
      "cell_type": "markdown",
      "metadata": {
        "id": "ayWRFo5EQhok"
      },
      "source": [
        "### 2) Compile"
      ]
    },
    {
      "cell_type": "code",
      "metadata": {
        "id": "6Z0BtBOLPlZZ"
      },
      "source": [
        "mnist_1.compile(loss = 'categorical_crossentropy' ,\n",
        "                optimizer = 'rmsprop' ,\n",
        "                metrics = ['accuracy'])"
      ],
      "execution_count": null,
      "outputs": []
    },
    {
      "cell_type": "code",
      "metadata": {
        "id": "RU9i2iJ4WuKz"
      },
      "source": [
        "mnist_2.compile(loss = 'categorical_crossentropy' ,\n",
        "                optimizer = 'rmsprop' ,\n",
        "                metrics = ['accuracy'])"
      ],
      "execution_count": null,
      "outputs": []
    },
    {
      "cell_type": "code",
      "metadata": {
        "id": "Q-5A5MV4YBD2"
      },
      "source": [
        "mnist_3.compile(loss = 'categorical_crossentropy' ,\n",
        "                optimizer = 'rmsprop' ,\n",
        "                metrics = ['accuracy'])"
      ],
      "execution_count": null,
      "outputs": []
    },
    {
      "cell_type": "code",
      "metadata": {
        "id": "zy4cjOApZcGK"
      },
      "source": [
        "mnist_4.compile(loss = 'categorical_crossentropy' ,\n",
        "                optimizer = 'rmsprop' ,\n",
        "                metrics = ['accuracy'])"
      ],
      "execution_count": null,
      "outputs": []
    },
    {
      "cell_type": "code",
      "metadata": {
        "id": "CX7WEP8RazkQ"
      },
      "source": [
        "mnist_5.compile(loss = 'categorical_crossentropy' ,\n",
        "                optimizer = 'adam' ,\n",
        "                metrics = ['accuracy'])"
      ],
      "execution_count": null,
      "outputs": []
    },
    {
      "cell_type": "code",
      "metadata": {
        "id": "OgS1yt6Ub1ZC"
      },
      "source": [
        "mnist_6.compile(loss = 'categorical_crossentropy' ,\n",
        "                optimizer = 'rmsprop' ,\n",
        "                metrics = ['accuracy'])"
      ],
      "execution_count": null,
      "outputs": []
    },
    {
      "cell_type": "code",
      "metadata": {
        "id": "r-X5JrFxb3PZ"
      },
      "source": [
        "mnist_7.compile(loss = 'categorical_crossentropy' ,\n",
        "                optimizer = 'rmsprop' ,\n",
        "                metrics = ['accuracy'])"
      ],
      "execution_count": null,
      "outputs": []
    },
    {
      "cell_type": "markdown",
      "metadata": {
        "id": "lF0gNIVPSdVw"
      },
      "source": [
        "### 3) EarlyStopping() & ModelCheckpoint()"
      ]
    },
    {
      "cell_type": "code",
      "metadata": {
        "id": "nRnXt4XZShvY"
      },
      "source": [
        "es = EarlyStopping(monitor = 'val_accuracy' ,\n",
        "                   mode = 'max' ,\n",
        "                   patience = 50 ,\n",
        "                   verbose = 1)\n",
        "\n",
        "mc = ModelCheckpoint('best_fashion.h5' ,\n",
        "                     monitor = 'val_accuracy' ,\n",
        "                     mode = 'max' ,\n",
        "                     save_best_only = True ,\n",
        "                     verbose = 1)"
      ],
      "execution_count": null,
      "outputs": []
    },
    {
      "cell_type": "markdown",
      "metadata": {
        "id": "aLTf4rmjQq3S"
      },
      "source": [
        "### 4) Fit with callbacks"
      ]
    },
    {
      "cell_type": "code",
      "metadata": {
        "id": "WG4CX-zWQsP0"
      },
      "source": [
        "%%time\n",
        "\n",
        "Hist_mnist_1 = mnist_1.fit(X_train, y_train,\n",
        "                           epochs = 500,\n",
        "                           batch_size = 128,\n",
        "                           validation_data = (X_valid, y_valid),\n",
        "                           callbacks = [es, mc] ,\n",
        "                           verbose = 1)"
      ],
      "execution_count": null,
      "outputs": []
    },
    {
      "cell_type": "code",
      "metadata": {
        "id": "v4NzB5hYWyi0"
      },
      "source": [
        "%%time\n",
        "\n",
        "Hist_mnist_2 = mnist_2.fit(X_train, y_train,\n",
        "                           epochs = 500,\n",
        "                           batch_size = 128,\n",
        "                           validation_data = (X_valid, y_valid),\n",
        "                           callbacks = [es, mc] ,\n",
        "                           verbose = 1)"
      ],
      "execution_count": null,
      "outputs": []
    },
    {
      "cell_type": "code",
      "metadata": {
        "id": "ynUFVVYBYFU6"
      },
      "source": [
        "Hist_mnist_3 = mnist_3.fit(X_train, y_train,\n",
        "                           epochs = 500,\n",
        "                           batch_size = 128,\n",
        "                           validation_data = (X_valid, y_valid),\n",
        "                           callbacks = [es, mc] ,\n",
        "                           verbose = 1)"
      ],
      "execution_count": null,
      "outputs": []
    },
    {
      "cell_type": "code",
      "metadata": {
        "colab": {
          "base_uri": "https://localhost:8080/"
        },
        "id": "AV8IB0kJZfqh",
        "outputId": "be09ced4-9ff2-44e6-8690-e7ad92fe3411"
      },
      "source": [
        "Hist_mnist_4 = mnist_4.fit(X_train, y_train,\n",
        "                           epochs = 500,\n",
        "                           batch_size = 128,\n",
        "                           validation_data = (X_valid, y_valid),\n",
        "                           callbacks = [es, mc] ,\n",
        "                           verbose = 1)"
      ],
      "execution_count": null,
      "outputs": [
        {
          "output_type": "stream",
          "text": [
            "Epoch 1/500\n",
            "375/375 [==============================] - 3s 5ms/step - loss: 0.5686 - accuracy: 0.7953 - val_loss: 0.4970 - val_accuracy: 0.8286\n",
            "\n",
            "Epoch 00001: val_accuracy did not improve from 0.90442\n",
            "Epoch 2/500\n",
            "375/375 [==============================] - 2s 4ms/step - loss: 0.3341 - accuracy: 0.8758 - val_loss: 0.3787 - val_accuracy: 0.8675\n",
            "\n",
            "Epoch 00002: val_accuracy did not improve from 0.90442\n",
            "Epoch 3/500\n",
            "375/375 [==============================] - 2s 4ms/step - loss: 0.2849 - accuracy: 0.8915 - val_loss: 0.3758 - val_accuracy: 0.8636\n",
            "\n",
            "Epoch 00003: val_accuracy did not improve from 0.90442\n",
            "Epoch 4/500\n",
            "375/375 [==============================] - 2s 4ms/step - loss: 0.2499 - accuracy: 0.9048 - val_loss: 0.4455 - val_accuracy: 0.8545\n",
            "\n",
            "Epoch 00004: val_accuracy did not improve from 0.90442\n",
            "Epoch 5/500\n",
            "375/375 [==============================] - 2s 4ms/step - loss: 0.2301 - accuracy: 0.9122 - val_loss: 0.3390 - val_accuracy: 0.8814\n",
            "\n",
            "Epoch 00005: val_accuracy did not improve from 0.90442\n",
            "Epoch 6/500\n",
            "375/375 [==============================] - 2s 4ms/step - loss: 0.2108 - accuracy: 0.9195 - val_loss: 0.3552 - val_accuracy: 0.8867\n",
            "\n",
            "Epoch 00006: val_accuracy did not improve from 0.90442\n",
            "Epoch 7/500\n",
            "375/375 [==============================] - 2s 4ms/step - loss: 0.1926 - accuracy: 0.9258 - val_loss: 0.4120 - val_accuracy: 0.8682\n",
            "\n",
            "Epoch 00007: val_accuracy did not improve from 0.90442\n",
            "Epoch 8/500\n",
            "375/375 [==============================] - 2s 4ms/step - loss: 0.1737 - accuracy: 0.9343 - val_loss: 0.3761 - val_accuracy: 0.8784\n",
            "\n",
            "Epoch 00008: val_accuracy did not improve from 0.90442\n",
            "Epoch 9/500\n",
            "375/375 [==============================] - 2s 4ms/step - loss: 0.1543 - accuracy: 0.9411 - val_loss: 0.3657 - val_accuracy: 0.8830\n",
            "\n",
            "Epoch 00009: val_accuracy did not improve from 0.90442\n",
            "Epoch 10/500\n",
            "375/375 [==============================] - 2s 4ms/step - loss: 0.1432 - accuracy: 0.9454 - val_loss: 0.4128 - val_accuracy: 0.8756\n",
            "\n",
            "Epoch 00010: val_accuracy did not improve from 0.90442\n",
            "Epoch 11/500\n",
            "375/375 [==============================] - 2s 4ms/step - loss: 0.1343 - accuracy: 0.9499 - val_loss: 0.4240 - val_accuracy: 0.8776\n",
            "\n",
            "Epoch 00011: val_accuracy did not improve from 0.90442\n",
            "Epoch 12/500\n",
            "375/375 [==============================] - 2s 4ms/step - loss: 0.1243 - accuracy: 0.9518 - val_loss: 0.4290 - val_accuracy: 0.8903\n",
            "\n",
            "Epoch 00012: val_accuracy did not improve from 0.90442\n",
            "Epoch 13/500\n",
            "375/375 [==============================] - 2s 4ms/step - loss: 0.1165 - accuracy: 0.9557 - val_loss: 0.4190 - val_accuracy: 0.8799\n",
            "\n",
            "Epoch 00013: val_accuracy did not improve from 0.90442\n",
            "Epoch 14/500\n",
            "375/375 [==============================] - 2s 4ms/step - loss: 0.1065 - accuracy: 0.9591 - val_loss: 0.5073 - val_accuracy: 0.8744\n",
            "\n",
            "Epoch 00014: val_accuracy did not improve from 0.90442\n",
            "Epoch 15/500\n",
            "375/375 [==============================] - 2s 4ms/step - loss: 0.0964 - accuracy: 0.9639 - val_loss: 0.4419 - val_accuracy: 0.8831\n",
            "\n",
            "Epoch 00015: val_accuracy did not improve from 0.90442\n",
            "Epoch 16/500\n",
            "375/375 [==============================] - 2s 4ms/step - loss: 0.0895 - accuracy: 0.9654 - val_loss: 0.4400 - val_accuracy: 0.8949\n",
            "\n",
            "Epoch 00016: val_accuracy did not improve from 0.90442\n",
            "Epoch 17/500\n",
            "375/375 [==============================] - 2s 4ms/step - loss: 0.0803 - accuracy: 0.9706 - val_loss: 0.4526 - val_accuracy: 0.8803\n",
            "\n",
            "Epoch 00017: val_accuracy did not improve from 0.90442\n",
            "Epoch 18/500\n",
            "375/375 [==============================] - 2s 4ms/step - loss: 0.0789 - accuracy: 0.9693 - val_loss: 0.5522 - val_accuracy: 0.8799\n",
            "\n",
            "Epoch 00018: val_accuracy did not improve from 0.90442\n",
            "Epoch 19/500\n",
            "375/375 [==============================] - 2s 4ms/step - loss: 0.0725 - accuracy: 0.9726 - val_loss: 0.4457 - val_accuracy: 0.8935\n",
            "\n",
            "Epoch 00019: val_accuracy did not improve from 0.90442\n",
            "Epoch 20/500\n",
            "375/375 [==============================] - 2s 4ms/step - loss: 0.0691 - accuracy: 0.9749 - val_loss: 0.5443 - val_accuracy: 0.8892\n",
            "\n",
            "Epoch 00020: val_accuracy did not improve from 0.90442\n",
            "Epoch 21/500\n",
            "375/375 [==============================] - 2s 4ms/step - loss: 0.0679 - accuracy: 0.9754 - val_loss: 0.6989 - val_accuracy: 0.8838\n",
            "\n",
            "Epoch 00021: val_accuracy did not improve from 0.90442\n",
            "Epoch 22/500\n",
            "375/375 [==============================] - 2s 4ms/step - loss: 0.0622 - accuracy: 0.9773 - val_loss: 0.7258 - val_accuracy: 0.8592\n",
            "\n",
            "Epoch 00022: val_accuracy did not improve from 0.90442\n",
            "Epoch 23/500\n",
            "375/375 [==============================] - 2s 4ms/step - loss: 0.0584 - accuracy: 0.9782 - val_loss: 0.7252 - val_accuracy: 0.8700\n",
            "\n",
            "Epoch 00023: val_accuracy did not improve from 0.90442\n",
            "Epoch 24/500\n",
            "375/375 [==============================] - 2s 4ms/step - loss: 0.0559 - accuracy: 0.9796 - val_loss: 0.6632 - val_accuracy: 0.8829\n",
            "\n",
            "Epoch 00024: val_accuracy did not improve from 0.90442\n",
            "Epoch 25/500\n",
            "375/375 [==============================] - 2s 4ms/step - loss: 0.0525 - accuracy: 0.9805 - val_loss: 0.5558 - val_accuracy: 0.8936\n",
            "\n",
            "Epoch 00025: val_accuracy did not improve from 0.90442\n",
            "Epoch 26/500\n",
            "375/375 [==============================] - 2s 4ms/step - loss: 0.0516 - accuracy: 0.9811 - val_loss: 0.5288 - val_accuracy: 0.8882\n",
            "\n",
            "Epoch 00026: val_accuracy did not improve from 0.90442\n",
            "Epoch 27/500\n",
            "375/375 [==============================] - 2s 4ms/step - loss: 0.0474 - accuracy: 0.9823 - val_loss: 0.6696 - val_accuracy: 0.8841\n",
            "\n",
            "Epoch 00027: val_accuracy did not improve from 0.90442\n",
            "Epoch 28/500\n",
            "375/375 [==============================] - 2s 4ms/step - loss: 0.0466 - accuracy: 0.9830 - val_loss: 0.6469 - val_accuracy: 0.8888\n",
            "\n",
            "Epoch 00028: val_accuracy did not improve from 0.90442\n",
            "Epoch 29/500\n",
            "375/375 [==============================] - 2s 4ms/step - loss: 0.0425 - accuracy: 0.9841 - val_loss: 0.6017 - val_accuracy: 0.8928\n",
            "\n",
            "Epoch 00029: val_accuracy did not improve from 0.90442\n",
            "Epoch 30/500\n",
            "375/375 [==============================] - 2s 4ms/step - loss: 0.0447 - accuracy: 0.9833 - val_loss: 0.6443 - val_accuracy: 0.8932\n",
            "\n",
            "Epoch 00030: val_accuracy did not improve from 0.90442\n",
            "Epoch 31/500\n",
            "375/375 [==============================] - 2s 4ms/step - loss: 0.0407 - accuracy: 0.9847 - val_loss: 0.7540 - val_accuracy: 0.8885\n",
            "\n",
            "Epoch 00031: val_accuracy did not improve from 0.90442\n",
            "Epoch 32/500\n",
            "375/375 [==============================] - 2s 4ms/step - loss: 0.0390 - accuracy: 0.9858 - val_loss: 0.8985 - val_accuracy: 0.8809\n",
            "\n",
            "Epoch 00032: val_accuracy did not improve from 0.90442\n",
            "Epoch 33/500\n",
            "375/375 [==============================] - 2s 4ms/step - loss: 0.0391 - accuracy: 0.9860 - val_loss: 0.7037 - val_accuracy: 0.8838\n",
            "\n",
            "Epoch 00033: val_accuracy did not improve from 0.90442\n",
            "Epoch 34/500\n",
            "375/375 [==============================] - 2s 4ms/step - loss: 0.0359 - accuracy: 0.9870 - val_loss: 0.7828 - val_accuracy: 0.8794\n",
            "\n",
            "Epoch 00034: val_accuracy did not improve from 0.90442\n",
            "Epoch 35/500\n",
            "375/375 [==============================] - 2s 4ms/step - loss: 0.0365 - accuracy: 0.9865 - val_loss: 0.7552 - val_accuracy: 0.8943\n",
            "\n",
            "Epoch 00035: val_accuracy did not improve from 0.90442\n",
            "Epoch 36/500\n",
            "375/375 [==============================] - 2s 4ms/step - loss: 0.0326 - accuracy: 0.9885 - val_loss: 0.7303 - val_accuracy: 0.8890\n",
            "\n",
            "Epoch 00036: val_accuracy did not improve from 0.90442\n",
            "Epoch 37/500\n",
            "375/375 [==============================] - 2s 4ms/step - loss: 0.0343 - accuracy: 0.9873 - val_loss: 0.8267 - val_accuracy: 0.8878\n",
            "\n",
            "Epoch 00037: val_accuracy did not improve from 0.90442\n",
            "Epoch 38/500\n",
            "375/375 [==============================] - 2s 4ms/step - loss: 0.0309 - accuracy: 0.9887 - val_loss: 0.8092 - val_accuracy: 0.8898\n",
            "\n",
            "Epoch 00038: val_accuracy did not improve from 0.90442\n",
            "Epoch 39/500\n",
            "375/375 [==============================] - 2s 4ms/step - loss: 0.0298 - accuracy: 0.9893 - val_loss: 0.8571 - val_accuracy: 0.8870\n",
            "\n",
            "Epoch 00039: val_accuracy did not improve from 0.90442\n",
            "Epoch 40/500\n",
            "375/375 [==============================] - 2s 4ms/step - loss: 0.0307 - accuracy: 0.9893 - val_loss: 0.7792 - val_accuracy: 0.8822\n",
            "\n",
            "Epoch 00040: val_accuracy did not improve from 0.90442\n",
            "Epoch 41/500\n",
            "375/375 [==============================] - 2s 4ms/step - loss: 0.0339 - accuracy: 0.9884 - val_loss: 0.8814 - val_accuracy: 0.8920\n",
            "\n",
            "Epoch 00041: val_accuracy did not improve from 0.90442\n",
            "Epoch 42/500\n",
            "375/375 [==============================] - 2s 4ms/step - loss: 0.0298 - accuracy: 0.9900 - val_loss: 0.8374 - val_accuracy: 0.8937\n",
            "\n",
            "Epoch 00042: val_accuracy did not improve from 0.90442\n",
            "Epoch 43/500\n",
            "375/375 [==============================] - 2s 4ms/step - loss: 0.0279 - accuracy: 0.9905 - val_loss: 0.7775 - val_accuracy: 0.8899\n",
            "\n",
            "Epoch 00043: val_accuracy did not improve from 0.90442\n",
            "Epoch 44/500\n",
            "375/375 [==============================] - 2s 4ms/step - loss: 0.0274 - accuracy: 0.9902 - val_loss: 0.7999 - val_accuracy: 0.8851\n",
            "\n",
            "Epoch 00044: val_accuracy did not improve from 0.90442\n",
            "Epoch 45/500\n",
            "375/375 [==============================] - 2s 4ms/step - loss: 0.0273 - accuracy: 0.9906 - val_loss: 0.8051 - val_accuracy: 0.8881\n",
            "\n",
            "Epoch 00045: val_accuracy did not improve from 0.90442\n",
            "Epoch 46/500\n",
            "375/375 [==============================] - 2s 4ms/step - loss: 0.0265 - accuracy: 0.9907 - val_loss: 0.7303 - val_accuracy: 0.8964\n",
            "\n",
            "Epoch 00046: val_accuracy did not improve from 0.90442\n",
            "Epoch 47/500\n",
            "375/375 [==============================] - 2s 4ms/step - loss: 0.0235 - accuracy: 0.9920 - val_loss: 0.9130 - val_accuracy: 0.8959\n",
            "\n",
            "Epoch 00047: val_accuracy did not improve from 0.90442\n",
            "Epoch 48/500\n",
            "375/375 [==============================] - 2s 4ms/step - loss: 0.0232 - accuracy: 0.9923 - val_loss: 0.7862 - val_accuracy: 0.8897\n",
            "\n",
            "Epoch 00048: val_accuracy did not improve from 0.90442\n",
            "Epoch 49/500\n",
            "375/375 [==============================] - 2s 4ms/step - loss: 0.0223 - accuracy: 0.9926 - val_loss: 0.9098 - val_accuracy: 0.8885\n",
            "\n",
            "Epoch 00049: val_accuracy did not improve from 0.90442\n",
            "Epoch 50/500\n",
            "375/375 [==============================] - 2s 4ms/step - loss: 0.0228 - accuracy: 0.9924 - val_loss: 0.8506 - val_accuracy: 0.8933\n",
            "\n",
            "Epoch 00050: val_accuracy did not improve from 0.90442\n",
            "Epoch 51/500\n",
            "375/375 [==============================] - 2s 4ms/step - loss: 0.0231 - accuracy: 0.9923 - val_loss: 0.8463 - val_accuracy: 0.8922\n",
            "\n",
            "Epoch 00051: val_accuracy did not improve from 0.90442\n",
            "Epoch 52/500\n",
            "375/375 [==============================] - 2s 4ms/step - loss: 0.0210 - accuracy: 0.9933 - val_loss: 0.8765 - val_accuracy: 0.8920\n",
            "\n",
            "Epoch 00052: val_accuracy did not improve from 0.90442\n",
            "Epoch 53/500\n",
            "375/375 [==============================] - 2s 4ms/step - loss: 0.0211 - accuracy: 0.9930 - val_loss: 0.9196 - val_accuracy: 0.8858\n",
            "\n",
            "Epoch 00053: val_accuracy did not improve from 0.90442\n",
            "Epoch 54/500\n",
            "375/375 [==============================] - 2s 4ms/step - loss: 0.0202 - accuracy: 0.9932 - val_loss: 0.8987 - val_accuracy: 0.8902\n",
            "\n",
            "Epoch 00054: val_accuracy did not improve from 0.90442\n",
            "Epoch 55/500\n",
            "375/375 [==============================] - 2s 4ms/step - loss: 0.0255 - accuracy: 0.9920 - val_loss: 0.8532 - val_accuracy: 0.8988\n",
            "\n",
            "Epoch 00055: val_accuracy did not improve from 0.90442\n",
            "Epoch 56/500\n",
            "375/375 [==============================] - 2s 4ms/step - loss: 0.0202 - accuracy: 0.9930 - val_loss: 0.8168 - val_accuracy: 0.8988\n",
            "\n",
            "Epoch 00056: val_accuracy did not improve from 0.90442\n",
            "Epoch 57/500\n",
            "375/375 [==============================] - 2s 4ms/step - loss: 0.0182 - accuracy: 0.9939 - val_loss: 0.9015 - val_accuracy: 0.8912\n",
            "\n",
            "Epoch 00057: val_accuracy did not improve from 0.90442\n",
            "Epoch 58/500\n",
            "375/375 [==============================] - 2s 4ms/step - loss: 0.0189 - accuracy: 0.9934 - val_loss: 0.9065 - val_accuracy: 0.8944\n",
            "\n",
            "Epoch 00058: val_accuracy did not improve from 0.90442\n",
            "Epoch 59/500\n",
            "375/375 [==============================] - 2s 4ms/step - loss: 0.0193 - accuracy: 0.9939 - val_loss: 0.7723 - val_accuracy: 0.8932\n",
            "\n",
            "Epoch 00059: val_accuracy did not improve from 0.90442\n",
            "Epoch 60/500\n",
            "375/375 [==============================] - 2s 4ms/step - loss: 0.0180 - accuracy: 0.9936 - val_loss: 0.9150 - val_accuracy: 0.8917\n",
            "\n",
            "Epoch 00060: val_accuracy did not improve from 0.90442\n",
            "Epoch 61/500\n",
            "375/375 [==============================] - 2s 4ms/step - loss: 0.0220 - accuracy: 0.9929 - val_loss: 0.9788 - val_accuracy: 0.8887\n",
            "\n",
            "Epoch 00061: val_accuracy did not improve from 0.90442\n",
            "Epoch 62/500\n",
            "375/375 [==============================] - 2s 4ms/step - loss: 0.0171 - accuracy: 0.9939 - val_loss: 0.9159 - val_accuracy: 0.8997\n",
            "\n",
            "Epoch 00062: val_accuracy did not improve from 0.90442\n",
            "Epoch 63/500\n",
            "375/375 [==============================] - 2s 4ms/step - loss: 0.0176 - accuracy: 0.9940 - val_loss: 0.9214 - val_accuracy: 0.8941\n",
            "\n",
            "Epoch 00063: val_accuracy did not improve from 0.90442\n",
            "Epoch 64/500\n",
            "375/375 [==============================] - 2s 4ms/step - loss: 0.0168 - accuracy: 0.9947 - val_loss: 0.8265 - val_accuracy: 0.8919\n",
            "\n",
            "Epoch 00064: val_accuracy did not improve from 0.90442\n",
            "Epoch 65/500\n",
            "375/375 [==============================] - 2s 4ms/step - loss: 0.0168 - accuracy: 0.9940 - val_loss: 0.8770 - val_accuracy: 0.8945\n",
            "\n",
            "Epoch 00065: val_accuracy did not improve from 0.90442\n",
            "Epoch 66/500\n",
            "375/375 [==============================] - 2s 4ms/step - loss: 0.0194 - accuracy: 0.9941 - val_loss: 1.0463 - val_accuracy: 0.8835\n",
            "\n",
            "Epoch 00066: val_accuracy did not improve from 0.90442\n",
            "Epoch 67/500\n",
            "375/375 [==============================] - 2s 4ms/step - loss: 0.0152 - accuracy: 0.9948 - val_loss: 0.9067 - val_accuracy: 0.8973\n",
            "\n",
            "Epoch 00067: val_accuracy did not improve from 0.90442\n",
            "Epoch 68/500\n",
            "375/375 [==============================] - 2s 4ms/step - loss: 0.0148 - accuracy: 0.9948 - val_loss: 0.9019 - val_accuracy: 0.8953\n",
            "\n",
            "Epoch 00068: val_accuracy did not improve from 0.90442\n",
            "Epoch 69/500\n",
            "375/375 [==============================] - 2s 4ms/step - loss: 0.0145 - accuracy: 0.9951 - val_loss: 0.9976 - val_accuracy: 0.8926\n",
            "\n",
            "Epoch 00069: val_accuracy did not improve from 0.90442\n",
            "Epoch 70/500\n",
            "375/375 [==============================] - 2s 4ms/step - loss: 0.0186 - accuracy: 0.9941 - val_loss: 1.0390 - val_accuracy: 0.8891\n",
            "\n",
            "Epoch 00070: val_accuracy did not improve from 0.90442\n",
            "Epoch 71/500\n",
            "375/375 [==============================] - 2s 4ms/step - loss: 0.0164 - accuracy: 0.9951 - val_loss: 0.9293 - val_accuracy: 0.8934\n",
            "\n",
            "Epoch 00071: val_accuracy did not improve from 0.90442\n",
            "Epoch 72/500\n",
            "375/375 [==============================] - 2s 4ms/step - loss: 0.0162 - accuracy: 0.9949 - val_loss: 1.0949 - val_accuracy: 0.8919\n",
            "\n",
            "Epoch 00072: val_accuracy did not improve from 0.90442\n",
            "Epoch 73/500\n",
            "375/375 [==============================] - 2s 4ms/step - loss: 0.0135 - accuracy: 0.9953 - val_loss: 1.1316 - val_accuracy: 0.8830\n",
            "\n",
            "Epoch 00073: val_accuracy did not improve from 0.90442\n",
            "Epoch 74/500\n",
            "375/375 [==============================] - 2s 4ms/step - loss: 0.0134 - accuracy: 0.9955 - val_loss: 1.0557 - val_accuracy: 0.8882\n",
            "\n",
            "Epoch 00074: val_accuracy did not improve from 0.90442\n",
            "Epoch 75/500\n",
            "375/375 [==============================] - 2s 4ms/step - loss: 0.0179 - accuracy: 0.9951 - val_loss: 0.9903 - val_accuracy: 0.8947\n",
            "\n",
            "Epoch 00075: val_accuracy did not improve from 0.90442\n",
            "Epoch 76/500\n",
            "375/375 [==============================] - 2s 4ms/step - loss: 0.0122 - accuracy: 0.9961 - val_loss: 0.9549 - val_accuracy: 0.8958\n",
            "\n",
            "Epoch 00076: val_accuracy did not improve from 0.90442\n",
            "Epoch 77/500\n",
            "375/375 [==============================] - 2s 4ms/step - loss: 0.0157 - accuracy: 0.9950 - val_loss: 1.0868 - val_accuracy: 0.8915\n",
            "\n",
            "Epoch 00077: val_accuracy did not improve from 0.90442\n",
            "Epoch 78/500\n",
            "375/375 [==============================] - 2s 4ms/step - loss: 0.0135 - accuracy: 0.9956 - val_loss: 0.9458 - val_accuracy: 0.8938\n",
            "\n",
            "Epoch 00078: val_accuracy did not improve from 0.90442\n",
            "Epoch 79/500\n",
            "375/375 [==============================] - 2s 4ms/step - loss: 0.0136 - accuracy: 0.9957 - val_loss: 1.1067 - val_accuracy: 0.8903\n",
            "\n",
            "Epoch 00079: val_accuracy did not improve from 0.90442\n",
            "Epoch 80/500\n",
            "375/375 [==============================] - 2s 4ms/step - loss: 0.0130 - accuracy: 0.9962 - val_loss: 0.9462 - val_accuracy: 0.8925\n",
            "\n",
            "Epoch 00080: val_accuracy did not improve from 0.90442\n",
            "Epoch 81/500\n",
            "375/375 [==============================] - 2s 4ms/step - loss: 0.0165 - accuracy: 0.9946 - val_loss: 1.0163 - val_accuracy: 0.8824\n",
            "\n",
            "Epoch 00081: val_accuracy did not improve from 0.90442\n",
            "Epoch 82/500\n",
            "375/375 [==============================] - 2s 4ms/step - loss: 0.0136 - accuracy: 0.9955 - val_loss: 1.0189 - val_accuracy: 0.8936\n",
            "\n",
            "Epoch 00082: val_accuracy did not improve from 0.90442\n",
            "Epoch 83/500\n",
            "375/375 [==============================] - 2s 4ms/step - loss: 0.0117 - accuracy: 0.9965 - val_loss: 0.9881 - val_accuracy: 0.8938\n",
            "\n",
            "Epoch 00083: val_accuracy did not improve from 0.90442\n",
            "Epoch 84/500\n",
            "375/375 [==============================] - 2s 5ms/step - loss: 0.0130 - accuracy: 0.9954 - val_loss: 1.0711 - val_accuracy: 0.8919\n",
            "\n",
            "Epoch 00084: val_accuracy did not improve from 0.90442\n",
            "Epoch 85/500\n",
            "375/375 [==============================] - 2s 4ms/step - loss: 0.0136 - accuracy: 0.9956 - val_loss: 0.9846 - val_accuracy: 0.8950\n",
            "\n",
            "Epoch 00085: val_accuracy did not improve from 0.90442\n",
            "Epoch 86/500\n",
            "375/375 [==============================] - 2s 4ms/step - loss: 0.0138 - accuracy: 0.9959 - val_loss: 0.9139 - val_accuracy: 0.8963\n",
            "\n",
            "Epoch 00086: val_accuracy did not improve from 0.90442\n",
            "Epoch 87/500\n",
            "375/375 [==============================] - 2s 4ms/step - loss: 0.0135 - accuracy: 0.9956 - val_loss: 1.0258 - val_accuracy: 0.8899\n",
            "\n",
            "Epoch 00087: val_accuracy did not improve from 0.90442\n",
            "Epoch 88/500\n",
            "375/375 [==============================] - 2s 4ms/step - loss: 0.0116 - accuracy: 0.9964 - val_loss: 1.2151 - val_accuracy: 0.8932\n",
            "\n",
            "Epoch 00088: val_accuracy did not improve from 0.90442\n",
            "Epoch 89/500\n",
            "375/375 [==============================] - 2s 4ms/step - loss: 0.0130 - accuracy: 0.9958 - val_loss: 1.3135 - val_accuracy: 0.8927\n",
            "\n",
            "Epoch 00089: val_accuracy did not improve from 0.90442\n",
            "Epoch 90/500\n",
            "375/375 [==============================] - 2s 4ms/step - loss: 0.0131 - accuracy: 0.9961 - val_loss: 0.9890 - val_accuracy: 0.8897\n",
            "\n",
            "Epoch 00090: val_accuracy did not improve from 0.90442\n",
            "Epoch 91/500\n",
            "375/375 [==============================] - 2s 4ms/step - loss: 0.0160 - accuracy: 0.9961 - val_loss: 1.1482 - val_accuracy: 0.8938\n",
            "\n",
            "Epoch 00091: val_accuracy did not improve from 0.90442\n",
            "Epoch 92/500\n",
            "375/375 [==============================] - 2s 4ms/step - loss: 0.0144 - accuracy: 0.9956 - val_loss: 1.1290 - val_accuracy: 0.8946\n",
            "\n",
            "Epoch 00092: val_accuracy did not improve from 0.90442\n",
            "Epoch 93/500\n",
            "375/375 [==============================] - 2s 4ms/step - loss: 0.0113 - accuracy: 0.9967 - val_loss: 1.1229 - val_accuracy: 0.8882\n",
            "\n",
            "Epoch 00093: val_accuracy did not improve from 0.90442\n",
            "Epoch 94/500\n",
            "375/375 [==============================] - 2s 5ms/step - loss: 0.0110 - accuracy: 0.9960 - val_loss: 1.0271 - val_accuracy: 0.8965\n",
            "\n",
            "Epoch 00094: val_accuracy did not improve from 0.90442\n",
            "Epoch 95/500\n",
            "375/375 [==============================] - 2s 5ms/step - loss: 0.0125 - accuracy: 0.9963 - val_loss: 1.1454 - val_accuracy: 0.8980\n",
            "\n",
            "Epoch 00095: val_accuracy did not improve from 0.90442\n",
            "Epoch 96/500\n",
            "375/375 [==============================] - 2s 4ms/step - loss: 0.0118 - accuracy: 0.9968 - val_loss: 1.1740 - val_accuracy: 0.8922\n",
            "\n",
            "Epoch 00096: val_accuracy did not improve from 0.90442\n",
            "Epoch 97/500\n",
            "375/375 [==============================] - 2s 4ms/step - loss: 0.0114 - accuracy: 0.9964 - val_loss: 1.0947 - val_accuracy: 0.8897\n",
            "\n",
            "Epoch 00097: val_accuracy did not improve from 0.90442\n",
            "Epoch 98/500\n",
            "375/375 [==============================] - 2s 4ms/step - loss: 0.0107 - accuracy: 0.9968 - val_loss: 1.0468 - val_accuracy: 0.8971\n",
            "\n",
            "Epoch 00098: val_accuracy did not improve from 0.90442\n",
            "Epoch 99/500\n",
            "375/375 [==============================] - 2s 5ms/step - loss: 0.0128 - accuracy: 0.9957 - val_loss: 1.1984 - val_accuracy: 0.8994\n",
            "\n",
            "Epoch 00099: val_accuracy did not improve from 0.90442\n",
            "Epoch 100/500\n",
            "375/375 [==============================] - 2s 4ms/step - loss: 0.0115 - accuracy: 0.9964 - val_loss: 1.2104 - val_accuracy: 0.8870\n",
            "\n",
            "Epoch 00100: val_accuracy did not improve from 0.90442\n",
            "Epoch 101/500\n",
            "375/375 [==============================] - 2s 4ms/step - loss: 0.0103 - accuracy: 0.9967 - val_loss: 1.1797 - val_accuracy: 0.8888\n",
            "\n",
            "Epoch 00101: val_accuracy did not improve from 0.90442\n",
            "Epoch 102/500\n",
            "375/375 [==============================] - 2s 4ms/step - loss: 0.0115 - accuracy: 0.9962 - val_loss: 1.0816 - val_accuracy: 0.9001\n",
            "\n",
            "Epoch 00102: val_accuracy did not improve from 0.90442\n",
            "Epoch 103/500\n",
            "375/375 [==============================] - 2s 4ms/step - loss: 0.0095 - accuracy: 0.9970 - val_loss: 1.1333 - val_accuracy: 0.8994\n",
            "\n",
            "Epoch 00103: val_accuracy did not improve from 0.90442\n",
            "Epoch 104/500\n",
            "375/375 [==============================] - 2s 4ms/step - loss: 0.0116 - accuracy: 0.9969 - val_loss: 1.0548 - val_accuracy: 0.8977\n",
            "\n",
            "Epoch 00104: val_accuracy did not improve from 0.90442\n",
            "Epoch 105/500\n",
            "375/375 [==============================] - 2s 4ms/step - loss: 0.0177 - accuracy: 0.9957 - val_loss: 1.1597 - val_accuracy: 0.8982\n",
            "\n",
            "Epoch 00105: val_accuracy did not improve from 0.90442\n",
            "Epoch 106/500\n",
            "375/375 [==============================] - 2s 4ms/step - loss: 0.0123 - accuracy: 0.9969 - val_loss: 1.1619 - val_accuracy: 0.8885\n",
            "\n",
            "Epoch 00106: val_accuracy did not improve from 0.90442\n",
            "Epoch 107/500\n",
            "375/375 [==============================] - 2s 5ms/step - loss: 0.0099 - accuracy: 0.9969 - val_loss: 1.1782 - val_accuracy: 0.8889\n",
            "\n",
            "Epoch 00107: val_accuracy did not improve from 0.90442\n",
            "Epoch 108/500\n",
            "375/375 [==============================] - 2s 4ms/step - loss: 0.0117 - accuracy: 0.9966 - val_loss: 1.1490 - val_accuracy: 0.8974\n",
            "\n",
            "Epoch 00108: val_accuracy did not improve from 0.90442\n",
            "Epoch 109/500\n",
            "375/375 [==============================] - 2s 4ms/step - loss: 0.0108 - accuracy: 0.9968 - val_loss: 1.1701 - val_accuracy: 0.8959\n",
            "\n",
            "Epoch 00109: val_accuracy did not improve from 0.90442\n",
            "Epoch 110/500\n",
            "375/375 [==============================] - 2s 4ms/step - loss: 0.0104 - accuracy: 0.9968 - val_loss: 1.1739 - val_accuracy: 0.8915\n",
            "\n",
            "Epoch 00110: val_accuracy did not improve from 0.90442\n",
            "Epoch 111/500\n",
            "375/375 [==============================] - 2s 4ms/step - loss: 0.0090 - accuracy: 0.9975 - val_loss: 1.1149 - val_accuracy: 0.8990\n",
            "\n",
            "Epoch 00111: val_accuracy did not improve from 0.90442\n",
            "Epoch 112/500\n",
            "375/375 [==============================] - 2s 4ms/step - loss: 0.0098 - accuracy: 0.9965 - val_loss: 1.0200 - val_accuracy: 0.8923\n",
            "\n",
            "Epoch 00112: val_accuracy did not improve from 0.90442\n",
            "Epoch 113/500\n",
            "375/375 [==============================] - 2s 4ms/step - loss: 0.0117 - accuracy: 0.9966 - val_loss: 1.2322 - val_accuracy: 0.8967\n",
            "\n",
            "Epoch 00113: val_accuracy did not improve from 0.90442\n",
            "Epoch 114/500\n",
            "375/375 [==============================] - 2s 4ms/step - loss: 0.0101 - accuracy: 0.9968 - val_loss: 1.1168 - val_accuracy: 0.8998\n",
            "\n",
            "Epoch 00114: val_accuracy did not improve from 0.90442\n",
            "Epoch 115/500\n",
            "375/375 [==============================] - 2s 4ms/step - loss: 0.0112 - accuracy: 0.9969 - val_loss: 1.1198 - val_accuracy: 0.8973\n",
            "\n",
            "Epoch 00115: val_accuracy did not improve from 0.90442\n",
            "Epoch 116/500\n",
            "375/375 [==============================] - 2s 4ms/step - loss: 0.0092 - accuracy: 0.9974 - val_loss: 1.2393 - val_accuracy: 0.8884\n",
            "\n",
            "Epoch 00116: val_accuracy did not improve from 0.90442\n",
            "Epoch 117/500\n",
            "375/375 [==============================] - 2s 5ms/step - loss: 0.0086 - accuracy: 0.9975 - val_loss: 1.0462 - val_accuracy: 0.8959\n",
            "\n",
            "Epoch 00117: val_accuracy did not improve from 0.90442\n",
            "Epoch 118/500\n",
            "375/375 [==============================] - 2s 4ms/step - loss: 0.0100 - accuracy: 0.9969 - val_loss: 1.2197 - val_accuracy: 0.8986\n",
            "\n",
            "Epoch 00118: val_accuracy did not improve from 0.90442\n",
            "Epoch 119/500\n",
            "375/375 [==============================] - 2s 5ms/step - loss: 0.0102 - accuracy: 0.9964 - val_loss: 1.0621 - val_accuracy: 0.8965\n",
            "\n",
            "Epoch 00119: val_accuracy did not improve from 0.90442\n",
            "Epoch 120/500\n",
            "375/375 [==============================] - 2s 4ms/step - loss: 0.0079 - accuracy: 0.9972 - val_loss: 1.3467 - val_accuracy: 0.8829\n",
            "\n",
            "Epoch 00120: val_accuracy did not improve from 0.90442\n",
            "Epoch 121/500\n",
            "375/375 [==============================] - 2s 4ms/step - loss: 0.0102 - accuracy: 0.9966 - val_loss: 1.2736 - val_accuracy: 0.8926\n",
            "\n",
            "Epoch 00121: val_accuracy did not improve from 0.90442\n",
            "Epoch 122/500\n",
            "375/375 [==============================] - 2s 5ms/step - loss: 0.0101 - accuracy: 0.9971 - val_loss: 1.0966 - val_accuracy: 0.8961\n",
            "\n",
            "Epoch 00122: val_accuracy did not improve from 0.90442\n",
            "Epoch 123/500\n",
            "375/375 [==============================] - 2s 4ms/step - loss: 0.0104 - accuracy: 0.9970 - val_loss: 1.0487 - val_accuracy: 0.8944\n",
            "\n",
            "Epoch 00123: val_accuracy did not improve from 0.90442\n",
            "Epoch 124/500\n",
            "375/375 [==============================] - 2s 4ms/step - loss: 0.0102 - accuracy: 0.9972 - val_loss: 1.2815 - val_accuracy: 0.8955\n",
            "\n",
            "Epoch 00124: val_accuracy did not improve from 0.90442\n",
            "Epoch 125/500\n",
            "375/375 [==============================] - 2s 4ms/step - loss: 0.0101 - accuracy: 0.9967 - val_loss: 1.1883 - val_accuracy: 0.8988\n",
            "\n",
            "Epoch 00125: val_accuracy did not improve from 0.90442\n",
            "Epoch 126/500\n",
            "375/375 [==============================] - 2s 5ms/step - loss: 0.0095 - accuracy: 0.9974 - val_loss: 1.1792 - val_accuracy: 0.8894\n",
            "\n",
            "Epoch 00126: val_accuracy did not improve from 0.90442\n",
            "Epoch 127/500\n",
            "375/375 [==============================] - 2s 4ms/step - loss: 0.0084 - accuracy: 0.9970 - val_loss: 1.3716 - val_accuracy: 0.8962\n",
            "\n",
            "Epoch 00127: val_accuracy did not improve from 0.90442\n",
            "Epoch 128/500\n",
            "375/375 [==============================] - 2s 5ms/step - loss: 0.0108 - accuracy: 0.9969 - val_loss: 1.3505 - val_accuracy: 0.8848\n",
            "\n",
            "Epoch 00128: val_accuracy did not improve from 0.90442\n",
            "Epoch 129/500\n",
            "375/375 [==============================] - 2s 5ms/step - loss: 0.0091 - accuracy: 0.9973 - val_loss: 1.2631 - val_accuracy: 0.8947\n",
            "\n",
            "Epoch 00129: val_accuracy did not improve from 0.90442\n",
            "Epoch 130/500\n",
            "375/375 [==============================] - 2s 4ms/step - loss: 0.0082 - accuracy: 0.9975 - val_loss: 1.3163 - val_accuracy: 0.8951\n",
            "\n",
            "Epoch 00130: val_accuracy did not improve from 0.90442\n",
            "Epoch 131/500\n",
            "375/375 [==============================] - 2s 4ms/step - loss: 0.0111 - accuracy: 0.9972 - val_loss: 1.3609 - val_accuracy: 0.8897\n",
            "\n",
            "Epoch 00131: val_accuracy did not improve from 0.90442\n",
            "Epoch 132/500\n",
            "375/375 [==============================] - 2s 4ms/step - loss: 0.0066 - accuracy: 0.9978 - val_loss: 1.2685 - val_accuracy: 0.8967\n",
            "\n",
            "Epoch 00132: val_accuracy did not improve from 0.90442\n",
            "Epoch 133/500\n",
            "375/375 [==============================] - 2s 4ms/step - loss: 0.0080 - accuracy: 0.9973 - val_loss: 1.2550 - val_accuracy: 0.8957\n",
            "\n",
            "Epoch 00133: val_accuracy did not improve from 0.90442\n",
            "Epoch 134/500\n",
            "375/375 [==============================] - 2s 4ms/step - loss: 0.0100 - accuracy: 0.9970 - val_loss: 1.1585 - val_accuracy: 0.8928\n",
            "\n",
            "Epoch 00134: val_accuracy did not improve from 0.90442\n",
            "Epoch 135/500\n",
            "375/375 [==============================] - 2s 4ms/step - loss: 0.0077 - accuracy: 0.9977 - val_loss: 1.2544 - val_accuracy: 0.8958\n",
            "\n",
            "Epoch 00135: val_accuracy did not improve from 0.90442\n",
            "Epoch 136/500\n",
            "375/375 [==============================] - 2s 4ms/step - loss: 0.0069 - accuracy: 0.9978 - val_loss: 1.2817 - val_accuracy: 0.8947\n",
            "\n",
            "Epoch 00136: val_accuracy did not improve from 0.90442\n",
            "Epoch 137/500\n",
            "375/375 [==============================] - 2s 5ms/step - loss: 0.0092 - accuracy: 0.9971 - val_loss: 1.2671 - val_accuracy: 0.8932\n",
            "\n",
            "Epoch 00137: val_accuracy did not improve from 0.90442\n",
            "Epoch 138/500\n",
            "375/375 [==============================] - 2s 4ms/step - loss: 0.0082 - accuracy: 0.9974 - val_loss: 1.2869 - val_accuracy: 0.8945\n",
            "\n",
            "Epoch 00138: val_accuracy did not improve from 0.90442\n",
            "Epoch 139/500\n",
            "375/375 [==============================] - 2s 4ms/step - loss: 0.0088 - accuracy: 0.9971 - val_loss: 1.4105 - val_accuracy: 0.8947\n",
            "\n",
            "Epoch 00139: val_accuracy did not improve from 0.90442\n",
            "Epoch 140/500\n",
            "375/375 [==============================] - 2s 5ms/step - loss: 0.0081 - accuracy: 0.9979 - val_loss: 1.1872 - val_accuracy: 0.8987\n",
            "\n",
            "Epoch 00140: val_accuracy did not improve from 0.90442\n",
            "Epoch 141/500\n",
            "375/375 [==============================] - 2s 4ms/step - loss: 0.0077 - accuracy: 0.9978 - val_loss: 1.2207 - val_accuracy: 0.8997\n",
            "\n",
            "Epoch 00141: val_accuracy did not improve from 0.90442\n",
            "Epoch 142/500\n",
            "375/375 [==============================] - 2s 5ms/step - loss: 0.0081 - accuracy: 0.9973 - val_loss: 1.1920 - val_accuracy: 0.9005\n",
            "\n",
            "Epoch 00142: val_accuracy did not improve from 0.90442\n",
            "Epoch 143/500\n",
            "375/375 [==============================] - 2s 5ms/step - loss: 0.0092 - accuracy: 0.9969 - val_loss: 1.2000 - val_accuracy: 0.8973\n",
            "\n",
            "Epoch 00143: val_accuracy did not improve from 0.90442\n",
            "Epoch 144/500\n",
            "375/375 [==============================] - 2s 4ms/step - loss: 0.0091 - accuracy: 0.9971 - val_loss: 1.2571 - val_accuracy: 0.9013\n",
            "\n",
            "Epoch 00144: val_accuracy did not improve from 0.90442\n",
            "Epoch 145/500\n",
            "375/375 [==============================] - 2s 4ms/step - loss: 0.0102 - accuracy: 0.9971 - val_loss: 1.2487 - val_accuracy: 0.8978\n",
            "\n",
            "Epoch 00145: val_accuracy did not improve from 0.90442\n",
            "Epoch 146/500\n",
            "375/375 [==============================] - 2s 4ms/step - loss: 0.0076 - accuracy: 0.9977 - val_loss: 1.3987 - val_accuracy: 0.8882\n",
            "\n",
            "Epoch 00146: val_accuracy did not improve from 0.90442\n",
            "Epoch 147/500\n",
            "375/375 [==============================] - 2s 5ms/step - loss: 0.0109 - accuracy: 0.9974 - val_loss: 1.2271 - val_accuracy: 0.8971\n",
            "\n",
            "Epoch 00147: val_accuracy did not improve from 0.90442\n",
            "Epoch 148/500\n",
            "375/375 [==============================] - 2s 4ms/step - loss: 0.0087 - accuracy: 0.9974 - val_loss: 1.1955 - val_accuracy: 0.8986\n",
            "\n",
            "Epoch 00148: val_accuracy did not improve from 0.90442\n",
            "Epoch 149/500\n",
            "375/375 [==============================] - 2s 4ms/step - loss: 0.0088 - accuracy: 0.9974 - val_loss: 1.2915 - val_accuracy: 0.8995\n",
            "\n",
            "Epoch 00149: val_accuracy did not improve from 0.90442\n",
            "Epoch 150/500\n",
            "375/375 [==============================] - 2s 4ms/step - loss: 0.0099 - accuracy: 0.9974 - val_loss: 1.1326 - val_accuracy: 0.8949\n",
            "\n",
            "Epoch 00150: val_accuracy did not improve from 0.90442\n",
            "Epoch 151/500\n",
            "375/375 [==============================] - 2s 4ms/step - loss: 0.0070 - accuracy: 0.9979 - val_loss: 1.2228 - val_accuracy: 0.8986\n",
            "\n",
            "Epoch 00151: val_accuracy did not improve from 0.90442\n",
            "Epoch 152/500\n",
            "375/375 [==============================] - 2s 5ms/step - loss: 0.0074 - accuracy: 0.9980 - val_loss: 1.4165 - val_accuracy: 0.8942\n",
            "\n",
            "Epoch 00152: val_accuracy did not improve from 0.90442\n",
            "Epoch 153/500\n",
            "375/375 [==============================] - 2s 5ms/step - loss: 0.0087 - accuracy: 0.9973 - val_loss: 1.3700 - val_accuracy: 0.8953\n",
            "\n",
            "Epoch 00153: val_accuracy did not improve from 0.90442\n",
            "Epoch 154/500\n",
            "375/375 [==============================] - 2s 4ms/step - loss: 0.0083 - accuracy: 0.9979 - val_loss: 1.1795 - val_accuracy: 0.8994\n",
            "\n",
            "Epoch 00154: val_accuracy did not improve from 0.90442\n",
            "Epoch 155/500\n",
            "375/375 [==============================] - 2s 5ms/step - loss: 0.0101 - accuracy: 0.9979 - val_loss: 1.2275 - val_accuracy: 0.8888\n",
            "\n",
            "Epoch 00155: val_accuracy did not improve from 0.90442\n",
            "Epoch 156/500\n",
            "375/375 [==============================] - 2s 5ms/step - loss: 0.0080 - accuracy: 0.9975 - val_loss: 1.3391 - val_accuracy: 0.8907\n",
            "\n",
            "Epoch 00156: val_accuracy did not improve from 0.90442\n",
            "Epoch 157/500\n",
            "375/375 [==============================] - 2s 5ms/step - loss: 0.0071 - accuracy: 0.9978 - val_loss: 1.3777 - val_accuracy: 0.8956\n",
            "\n",
            "Epoch 00157: val_accuracy did not improve from 0.90442\n",
            "Epoch 158/500\n",
            "375/375 [==============================] - 2s 4ms/step - loss: 0.0101 - accuracy: 0.9973 - val_loss: 1.2236 - val_accuracy: 0.8981\n",
            "\n",
            "Epoch 00158: val_accuracy did not improve from 0.90442\n",
            "Epoch 159/500\n",
            "375/375 [==============================] - 2s 4ms/step - loss: 0.0078 - accuracy: 0.9974 - val_loss: 1.2933 - val_accuracy: 0.9031\n",
            "\n",
            "Epoch 00159: val_accuracy did not improve from 0.90442\n",
            "Epoch 160/500\n",
            "375/375 [==============================] - 2s 4ms/step - loss: 0.0068 - accuracy: 0.9981 - val_loss: 1.2226 - val_accuracy: 0.9011\n",
            "\n",
            "Epoch 00160: val_accuracy did not improve from 0.90442\n",
            "Epoch 161/500\n",
            "375/375 [==============================] - 2s 5ms/step - loss: 0.0068 - accuracy: 0.9980 - val_loss: 1.4464 - val_accuracy: 0.8979\n",
            "\n",
            "Epoch 00161: val_accuracy did not improve from 0.90442\n",
            "Epoch 162/500\n",
            "375/375 [==============================] - 2s 5ms/step - loss: 0.0110 - accuracy: 0.9972 - val_loss: 1.2519 - val_accuracy: 0.8973\n",
            "\n",
            "Epoch 00162: val_accuracy did not improve from 0.90442\n",
            "Epoch 163/500\n",
            "375/375 [==============================] - 2s 4ms/step - loss: 0.0077 - accuracy: 0.9977 - val_loss: 1.2310 - val_accuracy: 0.8968\n",
            "\n",
            "Epoch 00163: val_accuracy did not improve from 0.90442\n",
            "Epoch 164/500\n",
            "375/375 [==============================] - 2s 4ms/step - loss: 0.0080 - accuracy: 0.9976 - val_loss: 1.3068 - val_accuracy: 0.8997\n",
            "\n",
            "Epoch 00164: val_accuracy did not improve from 0.90442\n",
            "Epoch 165/500\n",
            "375/375 [==============================] - 2s 5ms/step - loss: 0.0068 - accuracy: 0.9983 - val_loss: 1.2420 - val_accuracy: 0.8957\n",
            "\n",
            "Epoch 00165: val_accuracy did not improve from 0.90442\n",
            "Epoch 166/500\n",
            "375/375 [==============================] - 2s 5ms/step - loss: 0.0058 - accuracy: 0.9981 - val_loss: 1.4692 - val_accuracy: 0.8992\n",
            "\n",
            "Epoch 00166: val_accuracy did not improve from 0.90442\n",
            "Epoch 167/500\n",
            "375/375 [==============================] - 2s 5ms/step - loss: 0.0067 - accuracy: 0.9978 - val_loss: 1.5710 - val_accuracy: 0.8883\n",
            "\n",
            "Epoch 00167: val_accuracy did not improve from 0.90442\n",
            "Epoch 168/500\n",
            "375/375 [==============================] - 2s 5ms/step - loss: 0.0076 - accuracy: 0.9978 - val_loss: 1.4849 - val_accuracy: 0.8951\n",
            "\n",
            "Epoch 00168: val_accuracy did not improve from 0.90442\n",
            "Epoch 169/500\n",
            "375/375 [==============================] - 2s 4ms/step - loss: 0.0069 - accuracy: 0.9981 - val_loss: 1.4319 - val_accuracy: 0.8979\n",
            "\n",
            "Epoch 00169: val_accuracy did not improve from 0.90442\n",
            "Epoch 170/500\n",
            "375/375 [==============================] - 2s 5ms/step - loss: 0.0083 - accuracy: 0.9978 - val_loss: 1.2039 - val_accuracy: 0.8988\n",
            "\n",
            "Epoch 00170: val_accuracy did not improve from 0.90442\n",
            "Epoch 171/500\n",
            "375/375 [==============================] - 2s 4ms/step - loss: 0.0084 - accuracy: 0.9975 - val_loss: 1.2169 - val_accuracy: 0.8963\n",
            "\n",
            "Epoch 00171: val_accuracy did not improve from 0.90442\n",
            "Epoch 172/500\n",
            "375/375 [==============================] - 2s 4ms/step - loss: 0.0067 - accuracy: 0.9977 - val_loss: 1.3530 - val_accuracy: 0.8996\n",
            "\n",
            "Epoch 00172: val_accuracy did not improve from 0.90442\n",
            "Epoch 173/500\n",
            "375/375 [==============================] - 2s 5ms/step - loss: 0.0091 - accuracy: 0.9979 - val_loss: 1.4297 - val_accuracy: 0.9009\n",
            "\n",
            "Epoch 00173: val_accuracy did not improve from 0.90442\n",
            "Epoch 174/500\n",
            "375/375 [==============================] - 2s 5ms/step - loss: 0.0058 - accuracy: 0.9981 - val_loss: 1.2951 - val_accuracy: 0.8967\n",
            "\n",
            "Epoch 00174: val_accuracy did not improve from 0.90442\n",
            "Epoch 175/500\n",
            "375/375 [==============================] - 2s 5ms/step - loss: 0.0072 - accuracy: 0.9977 - val_loss: 1.2459 - val_accuracy: 0.8982\n",
            "\n",
            "Epoch 00175: val_accuracy did not improve from 0.90442\n",
            "Epoch 176/500\n",
            "375/375 [==============================] - 2s 4ms/step - loss: 0.0048 - accuracy: 0.9987 - val_loss: 1.3966 - val_accuracy: 0.9001\n",
            "\n",
            "Epoch 00176: val_accuracy did not improve from 0.90442\n",
            "Epoch 177/500\n",
            "375/375 [==============================] - 2s 5ms/step - loss: 0.0068 - accuracy: 0.9980 - val_loss: 1.3885 - val_accuracy: 0.9005\n",
            "\n",
            "Epoch 00177: val_accuracy did not improve from 0.90442\n",
            "Epoch 178/500\n",
            "375/375 [==============================] - 2s 5ms/step - loss: 0.0077 - accuracy: 0.9977 - val_loss: 1.3326 - val_accuracy: 0.8995\n",
            "\n",
            "Epoch 00178: val_accuracy did not improve from 0.90442\n",
            "Epoch 179/500\n",
            "375/375 [==============================] - 2s 5ms/step - loss: 0.0063 - accuracy: 0.9980 - val_loss: 1.5184 - val_accuracy: 0.8911\n",
            "\n",
            "Epoch 00179: val_accuracy did not improve from 0.90442\n",
            "Epoch 180/500\n",
            "375/375 [==============================] - 2s 5ms/step - loss: 0.0080 - accuracy: 0.9978 - val_loss: 1.4503 - val_accuracy: 0.8946\n",
            "\n",
            "Epoch 00180: val_accuracy did not improve from 0.90442\n",
            "Epoch 181/500\n",
            "375/375 [==============================] - 2s 5ms/step - loss: 0.0057 - accuracy: 0.9982 - val_loss: 1.3573 - val_accuracy: 0.8967\n",
            "\n",
            "Epoch 00181: val_accuracy did not improve from 0.90442\n",
            "Epoch 182/500\n",
            "375/375 [==============================] - 2s 5ms/step - loss: 0.0064 - accuracy: 0.9982 - val_loss: 1.2568 - val_accuracy: 0.8988\n",
            "\n",
            "Epoch 00182: val_accuracy did not improve from 0.90442\n",
            "Epoch 183/500\n",
            "375/375 [==============================] - 2s 5ms/step - loss: 0.0065 - accuracy: 0.9981 - val_loss: 1.3823 - val_accuracy: 0.8988\n",
            "\n",
            "Epoch 00183: val_accuracy did not improve from 0.90442\n",
            "Epoch 184/500\n",
            "375/375 [==============================] - 2s 4ms/step - loss: 0.0068 - accuracy: 0.9982 - val_loss: 1.3277 - val_accuracy: 0.8974\n",
            "\n",
            "Epoch 00184: val_accuracy did not improve from 0.90442\n",
            "Epoch 185/500\n",
            "375/375 [==============================] - 2s 4ms/step - loss: 0.0049 - accuracy: 0.9986 - val_loss: 1.5239 - val_accuracy: 0.8985\n",
            "\n",
            "Epoch 00185: val_accuracy did not improve from 0.90442\n",
            "Epoch 186/500\n",
            "375/375 [==============================] - 2s 5ms/step - loss: 0.0054 - accuracy: 0.9984 - val_loss: 1.5870 - val_accuracy: 0.8916\n",
            "\n",
            "Epoch 00186: val_accuracy did not improve from 0.90442\n",
            "Epoch 187/500\n",
            "375/375 [==============================] - 2s 5ms/step - loss: 0.0059 - accuracy: 0.9984 - val_loss: 1.3722 - val_accuracy: 0.8954\n",
            "\n",
            "Epoch 00187: val_accuracy did not improve from 0.90442\n",
            "Epoch 188/500\n",
            "375/375 [==============================] - 2s 5ms/step - loss: 0.0061 - accuracy: 0.9979 - val_loss: 1.4733 - val_accuracy: 0.8942\n",
            "\n",
            "Epoch 00188: val_accuracy did not improve from 0.90442\n",
            "Epoch 189/500\n",
            "375/375 [==============================] - 2s 5ms/step - loss: 0.0057 - accuracy: 0.9987 - val_loss: 1.5156 - val_accuracy: 0.8955\n",
            "\n",
            "Epoch 00189: val_accuracy did not improve from 0.90442\n",
            "Epoch 190/500\n",
            "375/375 [==============================] - 2s 5ms/step - loss: 0.0037 - accuracy: 0.9987 - val_loss: 1.3986 - val_accuracy: 0.8976\n",
            "\n",
            "Epoch 00190: val_accuracy did not improve from 0.90442\n",
            "Epoch 191/500\n",
            "375/375 [==============================] - 2s 5ms/step - loss: 0.0079 - accuracy: 0.9979 - val_loss: 1.3398 - val_accuracy: 0.9002\n",
            "\n",
            "Epoch 00191: val_accuracy did not improve from 0.90442\n",
            "Epoch 192/500\n",
            "375/375 [==============================] - 2s 5ms/step - loss: 0.0064 - accuracy: 0.9981 - val_loss: 1.4063 - val_accuracy: 0.9027\n",
            "\n",
            "Epoch 00192: val_accuracy did not improve from 0.90442\n",
            "Epoch 193/500\n",
            "375/375 [==============================] - 2s 5ms/step - loss: 0.0059 - accuracy: 0.9983 - val_loss: 1.4544 - val_accuracy: 0.8958\n",
            "\n",
            "Epoch 00193: val_accuracy did not improve from 0.90442\n",
            "Epoch 194/500\n",
            "375/375 [==============================] - 2s 5ms/step - loss: 0.0053 - accuracy: 0.9983 - val_loss: 1.3301 - val_accuracy: 0.8951\n",
            "\n",
            "Epoch 00194: val_accuracy did not improve from 0.90442\n",
            "Epoch 195/500\n",
            "375/375 [==============================] - 2s 5ms/step - loss: 0.0058 - accuracy: 0.9982 - val_loss: 1.3496 - val_accuracy: 0.9000\n",
            "\n",
            "Epoch 00195: val_accuracy did not improve from 0.90442\n",
            "Epoch 196/500\n",
            "375/375 [==============================] - 2s 5ms/step - loss: 0.0070 - accuracy: 0.9979 - val_loss: 1.3632 - val_accuracy: 0.8992\n",
            "\n",
            "Epoch 00196: val_accuracy did not improve from 0.90442\n",
            "Epoch 197/500\n",
            "375/375 [==============================] - 2s 5ms/step - loss: 0.0068 - accuracy: 0.9980 - val_loss: 1.6670 - val_accuracy: 0.8965\n",
            "\n",
            "Epoch 00197: val_accuracy did not improve from 0.90442\n",
            "Epoch 198/500\n",
            "375/375 [==============================] - 2s 5ms/step - loss: 0.0055 - accuracy: 0.9985 - val_loss: 1.4720 - val_accuracy: 0.8986\n",
            "\n",
            "Epoch 00198: val_accuracy did not improve from 0.90442\n",
            "Epoch 199/500\n",
            "375/375 [==============================] - 2s 5ms/step - loss: 0.0071 - accuracy: 0.9981 - val_loss: 1.3942 - val_accuracy: 0.8982\n",
            "\n",
            "Epoch 00199: val_accuracy did not improve from 0.90442\n",
            "Epoch 200/500\n",
            "375/375 [==============================] - 2s 5ms/step - loss: 0.0056 - accuracy: 0.9986 - val_loss: 1.4325 - val_accuracy: 0.9002\n",
            "\n",
            "Epoch 00200: val_accuracy did not improve from 0.90442\n",
            "Epoch 201/500\n",
            "375/375 [==============================] - 2s 4ms/step - loss: 0.0051 - accuracy: 0.9986 - val_loss: 1.4256 - val_accuracy: 0.8989\n",
            "\n",
            "Epoch 00201: val_accuracy did not improve from 0.90442\n",
            "Epoch 202/500\n",
            "375/375 [==============================] - 2s 5ms/step - loss: 0.0075 - accuracy: 0.9981 - val_loss: 1.4948 - val_accuracy: 0.8848\n",
            "\n",
            "Epoch 00202: val_accuracy did not improve from 0.90442\n",
            "Epoch 203/500\n",
            "375/375 [==============================] - 2s 5ms/step - loss: 0.0083 - accuracy: 0.9975 - val_loss: 1.4034 - val_accuracy: 0.8990\n",
            "\n",
            "Epoch 00203: val_accuracy did not improve from 0.90442\n",
            "Epoch 204/500\n",
            "375/375 [==============================] - 2s 5ms/step - loss: 0.0056 - accuracy: 0.9984 - val_loss: 1.4702 - val_accuracy: 0.8959\n",
            "\n",
            "Epoch 00204: val_accuracy did not improve from 0.90442\n",
            "Epoch 205/500\n",
            "375/375 [==============================] - 2s 5ms/step - loss: 0.0068 - accuracy: 0.9984 - val_loss: 1.5645 - val_accuracy: 0.8977\n",
            "\n",
            "Epoch 00205: val_accuracy did not improve from 0.90442\n",
            "Epoch 206/500\n",
            "375/375 [==============================] - 2s 5ms/step - loss: 0.0044 - accuracy: 0.9987 - val_loss: 1.3772 - val_accuracy: 0.8991\n",
            "\n",
            "Epoch 00206: val_accuracy did not improve from 0.90442\n",
            "Epoch 207/500\n",
            "375/375 [==============================] - 2s 5ms/step - loss: 0.0070 - accuracy: 0.9985 - val_loss: 1.4402 - val_accuracy: 0.9013\n",
            "\n",
            "Epoch 00207: val_accuracy did not improve from 0.90442\n",
            "Epoch 208/500\n",
            "375/375 [==============================] - 2s 5ms/step - loss: 0.0057 - accuracy: 0.9984 - val_loss: 1.4137 - val_accuracy: 0.8962\n",
            "\n",
            "Epoch 00208: val_accuracy did not improve from 0.90442\n",
            "Epoch 209/500\n",
            "375/375 [==============================] - 2s 5ms/step - loss: 0.0056 - accuracy: 0.9985 - val_loss: 1.4452 - val_accuracy: 0.8978\n",
            "\n",
            "Epoch 00209: val_accuracy did not improve from 0.90442\n",
            "Epoch 00209: early stopping\n"
          ],
          "name": "stdout"
        }
      ]
    },
    {
      "cell_type": "code",
      "metadata": {
        "id": "2CBeS_tha4NH"
      },
      "source": [
        "Hist_mnist_5 = mnist_5.fit(X_train, y_train,\n",
        "                           epochs = 500,\n",
        "                           batch_size = 128,\n",
        "                           validation_data = (X_valid, y_valid),\n",
        "                           callbacks = [es, mc] ,\n",
        "                           verbose = 1)"
      ],
      "execution_count": null,
      "outputs": []
    },
    {
      "cell_type": "code",
      "metadata": {
        "id": "N-9eKNtjcNSb"
      },
      "source": [
        "Hist_mnist_6 = mnist_6.fit(X_train, y_train,\n",
        "                           epochs = 500,\n",
        "                           batch_size = 128,\n",
        "                           validation_data = (X_valid, y_valid),\n",
        "                           callbacks = [es, mc] ,\n",
        "                           verbose = 1)"
      ],
      "execution_count": null,
      "outputs": []
    },
    {
      "cell_type": "code",
      "metadata": {
        "id": "Ru3d3EtdcNz1"
      },
      "source": [
        "Hist_mnist_7 = mnist_7.fit(X_train, y_train,\n",
        "                           epochs = 500,\n",
        "                           batch_size = 128,\n",
        "                           validation_data = (X_valid, y_valid),\n",
        "                           callbacks = [es, mc] ,\n",
        "                           verbose = 1)"
      ],
      "execution_count": null,
      "outputs": []
    },
    {
      "cell_type": "code",
      "metadata": {
        "colab": {
          "base_uri": "https://localhost:8080/"
        },
        "id": "OelozLAhU6tN",
        "outputId": "875db554-7e62-4bde-d081-4a8581b9a113"
      },
      "source": [
        "Hist_mnist_1.history.keys()"
      ],
      "execution_count": null,
      "outputs": [
        {
          "output_type": "execute_result",
          "data": {
            "text/plain": [
              "dict_keys(['loss', 'accuracy', 'val_loss', 'val_accuracy'])"
            ]
          },
          "metadata": {
            "tags": []
          },
          "execution_count": 46
        }
      ]
    },
    {
      "cell_type": "markdown",
      "metadata": {
        "id": "wmkL0mqBUfEx"
      },
      "source": [
        "### 5) Visualization"
      ]
    },
    {
      "cell_type": "code",
      "metadata": {
        "colab": {
          "base_uri": "https://localhost:8080/",
          "height": 1000
        },
        "id": "646_m9EpUct3",
        "outputId": "3393671b-7650-4468-fcdd-5a5106fac555"
      },
      "source": [
        "epochs1 = range(1, len(Hist_mnist_1.history['val_accuracy']) + 1)\n",
        "epochs2 = range(1, len(Hist_mnist_2.history['val_accuracy']) + 1)\n",
        "epochs3 = range(1, len(Hist_mnist_3.history['val_accuracy']) + 1)\n",
        "epochs4 = range(1, len(Hist_mnist_4.history['val_accuracy']) + 1)\n",
        "epochs5 = range(1, len(Hist_mnist_5.history['val_accuracy']) + 1)\n",
        "epochs6 = range(1, len(Hist_mnist_6.history['val_accuracy']) + 1)\n",
        "epochs7 = range(1, len(Hist_mnist_7.history['val_accuracy']) + 1)\n",
        "\n",
        "\n",
        "plt.figure(figsize = (20, 30))\n",
        "\n",
        "plt.subplot(4, 2, 1)\n",
        "plt.plot(epochs1, Hist_mnist_1.history['accuracy'])\n",
        "plt.plot(epochs1, Hist_mnist_1.history['val_accuracy'])\n",
        "plt.title('Case1: Training & Validation Accuracy')\n",
        "plt.xlabel('Epochs')\n",
        "plt.ylabel('Accuracy')\n",
        "plt.legend(['Training Accuracy' , 'Validation Accuracy'])\n",
        "plt.grid()\n",
        "\n",
        "plt.subplot(4, 2, 2)\n",
        "plt.plot(epochs2, Hist_mnist_2.history['accuracy'])\n",
        "plt.plot(epochs2, Hist_mnist_2.history['val_accuracy'])\n",
        "plt.title('Case2: Training & Validation Accuracy')\n",
        "plt.xlabel('Epochs')\n",
        "plt.ylabel('Accuracy')\n",
        "plt.legend(['Training Accuracy' , 'Validation Accuracy'])\n",
        "plt.grid()\n",
        "\n",
        "plt.subplot(4, 2, 3)\n",
        "plt.plot(epochs3, Hist_mnist_3.history['accuracy'])\n",
        "plt.plot(epochs3, Hist_mnist_3.history['val_accuracy'])\n",
        "plt.title('Case3: Training & Validation Accuracy')\n",
        "plt.xlabel('Epochs')\n",
        "plt.ylabel('Accuracy')\n",
        "plt.legend(['Training Accuracy' , 'Validation Accuracy'])\n",
        "plt.grid()\n",
        "\n",
        "plt.subplot(4, 2, 4)\n",
        "plt.plot(epochs4, Hist_mnist_4.history['accuracy'])\n",
        "plt.plot(epochs4, Hist_mnist_4.history['val_accuracy'])\n",
        "plt.title('Case4: Training & Validation Accuracy')\n",
        "plt.xlabel('Epochs')\n",
        "plt.ylabel('Accuracy')\n",
        "plt.legend(['Training Accuracy' , 'Validation Accuracy'])\n",
        "plt.grid()\n",
        "\n",
        "plt.subplot(4, 2, 5)\n",
        "plt.plot(epochs5, Hist_mnist_5.history['accuracy'])\n",
        "plt.plot(epochs5, Hist_mnist_5.history['val_accuracy'])\n",
        "plt.title('Case5: Training & Validation Accuracy')\n",
        "plt.xlabel('Epochs')\n",
        "plt.ylabel('Accuracy')\n",
        "plt.legend(['Training Accuracy' , 'Validation Accuracy'])\n",
        "plt.grid()\n",
        "\n",
        "plt.subplot(4, 2, 6)\n",
        "plt.plot(epochs6, Hist_mnist_6.history['accuracy'])\n",
        "plt.plot(epochs6, Hist_mnist_6.history['val_accuracy'])\n",
        "plt.title('Case6: Training & Validation Accuracy')\n",
        "plt.xlabel('Epochs')\n",
        "plt.ylabel('Accuracy')\n",
        "plt.legend(['Training Accuracy' , 'Validation Accuracy'])\n",
        "plt.grid()\n",
        "\n",
        "plt.subplot(4, 2, 7)\n",
        "plt.plot(epochs7, Hist_mnist_7.history['accuracy'])\n",
        "plt.plot(epochs7, Hist_mnist_7.history['val_accuracy'])\n",
        "plt.title('Case7: Training & Validation Accuracy')\n",
        "plt.xlabel('Epochs')\n",
        "plt.ylabel('Accuracy')\n",
        "plt.legend(['Training Accuracy' , 'Validation Accuracy'])\n",
        "plt.grid()\n",
        "\n",
        "plt.show()"
      ],
      "execution_count": null,
      "outputs": [
        {
          "output_type": "display_data",
          "data": {
            "image/png": "[encoded data removed]",
            "text/plain": [
              "<Figure size 1440x2160 with 7 Axes>"
            ]
          },
          "metadata": {
            "tags": [],
            "needs_background": "light"
          }
        }
      ]
    },
    {
      "cell_type": "markdown",
      "metadata": {
        "id": "DnBmEw2EVWbq"
      },
      "source": [
        "### 6) Evaluate"
      ]
    },
    {
      "cell_type": "code",
      "metadata": {
        "colab": {
          "base_uri": "https://localhost:8080/"
        },
        "id": "208CFRlNVbnr",
        "outputId": "12e765a7-4e7c-461c-8546-517aae4f96c2"
      },
      "source": [
        "loss, accuracy = mnist_1.evaluate(X_test, y_test)\n",
        "\n",
        "print('Loss: {: .5f}' . format(loss))\n",
        "print('Accuracy: {: .5f}' .format(accuracy))"
      ],
      "execution_count": null,
      "outputs": [
        {
          "output_type": "stream",
          "text": [
            "313/313 [==============================] - 1s 2ms/step - loss: 1.3440 - accuracy: 0.8858\n",
            "Loss:  1.34398\n",
            "Accuracy:  0.88580\n"
          ],
          "name": "stdout"
        }
      ]
    },
    {
      "cell_type": "code",
      "metadata": {
        "colab": {
          "base_uri": "https://localhost:8080/"
        },
        "id": "qQUYG__WXyD8",
        "outputId": "f2c502ae-e46d-412c-9297-dc23dfdb507c"
      },
      "source": [
        "loss, accuracy = mnist_2.evaluate(X_test, y_test)\n",
        "\n",
        "print('Loss: {: .5f}' . format(loss))\n",
        "print('Accuracy: {: .5f}' .format(accuracy))"
      ],
      "execution_count": null,
      "outputs": [
        {
          "output_type": "stream",
          "text": [
            "313/313 [==============================] - 1s 2ms/step - loss: 0.8509 - accuracy: 0.8835\n",
            "Loss:  0.85089\n",
            "Accuracy:  0.88350\n"
          ],
          "name": "stdout"
        }
      ]
    },
    {
      "cell_type": "code",
      "metadata": {
        "colab": {
          "base_uri": "https://localhost:8080/"
        },
        "id": "nf8XYA0PYZ_Z",
        "outputId": "7c4aae06-4993-4ea6-d017-d64d1d6634d2"
      },
      "source": [
        "loss, accuracy = mnist_3.evaluate(X_test, y_test)\n",
        "\n",
        "print('Loss: {: .5f}' . format(loss))\n",
        "print('Accuracy: {: .5f}' .format(accuracy))"
      ],
      "execution_count": null,
      "outputs": [
        {
          "output_type": "stream",
          "text": [
            "313/313 [==============================] - 1s 2ms/step - loss: 0.9954 - accuracy: 0.8728\n",
            "Loss:  0.99537\n",
            "Accuracy:  0.87280\n"
          ],
          "name": "stdout"
        }
      ]
    },
    {
      "cell_type": "code",
      "metadata": {
        "colab": {
          "base_uri": "https://localhost:8080/"
        },
        "id": "-uHgsy4UZqOD",
        "outputId": "8cb4706c-7907-4b2a-dfef-b115e61d54de"
      },
      "source": [
        "loss, accuracy = mnist_4.evaluate(X_test, y_test)\n",
        "\n",
        "print('Loss: {: .5f}' . format(loss))\n",
        "print('Accuracy: {: .5f}' .format(accuracy))"
      ],
      "execution_count": null,
      "outputs": [
        {
          "output_type": "stream",
          "text": [
            "313/313 [==============================] - 1s 2ms/step - loss: 1.3092 - accuracy: 0.8885\n",
            "Loss:  1.30923\n",
            "Accuracy:  0.88850\n"
          ],
          "name": "stdout"
        }
      ]
    },
    {
      "cell_type": "code",
      "metadata": {
        "colab": {
          "base_uri": "https://localhost:8080/"
        },
        "id": "pBS9pw0ObVdp",
        "outputId": "3a7c7de7-3911-4fc6-e788-37bb9a50751e"
      },
      "source": [
        "loss, accuracy = mnist_5.evaluate(X_test, y_test)\n",
        "\n",
        "print('Loss: {: .5f}' . format(loss))\n",
        "print('Accuracy: {: .5f}' .format(accuracy))"
      ],
      "execution_count": null,
      "outputs": [
        {
          "output_type": "stream",
          "text": [
            "313/313 [==============================] - 1s 2ms/step - loss: 0.3834 - accuracy: 0.8763\n",
            "Loss:  0.38340\n",
            "Accuracy:  0.87630\n"
          ],
          "name": "stdout"
        }
      ]
    },
    {
      "cell_type": "code",
      "metadata": {
        "colab": {
          "base_uri": "https://localhost:8080/"
        },
        "id": "sT4NZmm3cfO1",
        "outputId": "56bf4171-cbff-4101-f169-507e22f46efd"
      },
      "source": [
        "loss, accuracy = mnist_6.evaluate(X_test, y_test)\n",
        "\n",
        "print('Loss: {: .5f}' . format(loss))\n",
        "print('Accuracy: {: .5f}' .format(accuracy))"
      ],
      "execution_count": null,
      "outputs": [
        {
          "output_type": "stream",
          "text": [
            "313/313 [==============================] - 1s 2ms/step - loss: 1.1969 - accuracy: 0.8604\n",
            "Loss:  1.19688\n",
            "Accuracy:  0.86040\n"
          ],
          "name": "stdout"
        }
      ]
    },
    {
      "cell_type": "code",
      "metadata": {
        "colab": {
          "base_uri": "https://localhost:8080/"
        },
        "id": "cVRwa6qhcgo3",
        "outputId": "d750f8dd-2d90-40d3-98f5-4dc7fc39275b"
      },
      "source": [
        "loss, accuracy = mnist_7.evaluate(X_test, y_test)\n",
        "\n",
        "print('Loss: {: .5f}' . format(loss))\n",
        "print('Accuracy: {: .5f}' .format(accuracy))"
      ],
      "execution_count": null,
      "outputs": [
        {
          "output_type": "stream",
          "text": [
            "313/313 [==============================] - 1s 2ms/step - loss: 0.4998 - accuracy: 0.8796\n",
            "Loss:  0.49984\n",
            "Accuracy:  0.87960\n"
          ],
          "name": "stdout"
        }
      ]
    },
    {
      "cell_type": "markdown",
      "metadata": {
        "id": "6ciWyvzpd5JO"
      },
      "source": [
        "### 7) Best Accuracy: Batch Normalization 0.89770\n",
        "- Adam 으로 바꿔서 다시 시행"
      ]
    },
    {
      "cell_type": "code",
      "metadata": {
        "colab": {
          "base_uri": "https://localhost:8080/"
        },
        "id": "5ClPxajaen7p",
        "outputId": "8fa37211-23e7-47b4-e430-dadd45b713d9"
      },
      "source": [
        "loss, accuracy = mnist_4.evaluate(X_test, y_test)\n",
        "\n",
        "print('Loss: {: .5f}' . format(loss))\n",
        "print('Accuracy: {: .5f}' .format(accuracy))"
      ],
      "execution_count": null,
      "outputs": [
        {
          "output_type": "stream",
          "text": [
            "313/313 [==============================] - 1s 2ms/step - loss: 1.0466 - accuracy: 0.8977\n",
            "Loss:  1.04658\n",
            "Accuracy:  0.89770\n"
          ],
          "name": "stdout"
        }
      ]
    },
    {
      "cell_type": "markdown",
      "metadata": {
        "id": "6oL4Q9-gezpE"
      },
      "source": [
        "- relu 를 sigmoid 로 변환"
      ]
    },
    {
      "cell_type": "code",
      "metadata": {
        "colab": {
          "base_uri": "https://localhost:8080/"
        },
        "id": "WfCCMJQ6V0tK",
        "outputId": "3efb1e98-2a31-41e0-d849-d57d074d7bc6"
      },
      "source": [
        "loss, accuracy = mnist_4.evaluate(X_test, y_test)\n",
        "\n",
        "print('Loss: {: .5f}' . format(loss))\n",
        "print('Accuracy: {: .5f}' .format(accuracy))"
      ],
      "execution_count": null,
      "outputs": [
        {
          "output_type": "stream",
          "text": [
            "313/313 [==============================] - 1s 2ms/step - loss: 0.7029 - accuracy: 0.8951\n",
            "Loss:  0.70293\n",
            "Accuracy:  0.89510\n"
          ],
          "name": "stdout"
        }
      ]
    },
    {
      "cell_type": "markdown",
      "metadata": {
        "id": "rina_rn_gV6V"
      },
      "source": [
        "- tanh"
      ]
    },
    {
      "cell_type": "code",
      "metadata": {
        "colab": {
          "base_uri": "https://localhost:8080/"
        },
        "id": "nfEncJ2cgHt8",
        "outputId": "6cdba589-5c9a-417c-c90f-363b0938dd79"
      },
      "source": [
        "loss, accuracy = mnist_4.evaluate(X_test, y_test)\n",
        "\n",
        "print('Loss: {: .5f}' . format(loss))\n",
        "print('Accuracy: {: .5f}' .format(accuracy))"
      ],
      "execution_count": null,
      "outputs": [
        {
          "output_type": "stream",
          "text": [
            "313/313 [==============================] - 1s 2ms/step - loss: 0.7857 - accuracy: 0.8852\n",
            "Loss:  0.78570\n",
            "Accuracy:  0.88520\n"
          ],
          "name": "stdout"
        }
      ]
    },
    {
      "cell_type": "code",
      "metadata": {
        "colab": {
          "base_uri": "https://localhost:8080/"
        },
        "id": "yecQTDsDj2zd",
        "outputId": "6813c6ab-cd82-475e-c49a-8ee186665b27"
      },
      "source": [
        "loss, accuracy = mnist_4.evaluate(X_test, y_test)\n",
        "\n",
        "print('Loss: {: .5f}' . format(loss))\n",
        "print('Accuracy: {: .5f}' .format(accuracy))"
      ],
      "execution_count": null,
      "outputs": [
        {
          "output_type": "stream",
          "text": [
            "313/313 [==============================] - 1s 2ms/step - loss: 0.9462 - accuracy: 0.8915\n",
            "Loss:  0.94621\n",
            "Accuracy:  0.89150\n"
          ],
          "name": "stdout"
        }
      ]
    },
    {
      "cell_type": "code",
      "metadata": {
        "colab": {
          "base_uri": "https://localhost:8080/"
        },
        "id": "RSjlOnSThPwN",
        "outputId": "21bb8573-6c3d-46ab-fbe2-ca4ee3b6b92b"
      },
      "source": [
        "loss, accuracy = mnist_5.evaluate(X_test, y_test)\n",
        "\n",
        "print('Loss: {: .5f}' . format(loss))\n",
        "print('Accuracy: {: .5f}' .format(accuracy))"
      ],
      "execution_count": null,
      "outputs": [
        {
          "output_type": "stream",
          "text": [
            "313/313 [==============================] - 1s 2ms/step - loss: 0.4339 - accuracy: 0.8681\n",
            "Loss:  0.43389\n",
            "Accuracy:  0.86810\n"
          ],
          "name": "stdout"
        }
      ]
    },
    {
      "cell_type": "code",
      "metadata": {
        "colab": {
          "base_uri": "https://localhost:8080/"
        },
        "id": "dstlNNISilUF",
        "outputId": "03dea2aa-f4fd-4fe8-ff88-d534611e9efa"
      },
      "source": [
        "loss, accuracy = mnist_4.evaluate(X_test, y_test)\n",
        "\n",
        "print('Loss: {: .5f}' . format(loss))\n",
        "print('Accuracy: {: .5f}' .format(accuracy))"
      ],
      "execution_count": null,
      "outputs": [
        {
          "output_type": "stream",
          "text": [
            "313/313 [==============================] - 1s 2ms/step - loss: 1.6007 - accuracy: 0.8907\n",
            "Loss:  1.60069\n",
            "Accuracy:  0.89070\n"
          ],
          "name": "stdout"
        }
      ]
    },
    {
      "cell_type": "code",
      "metadata": {
        "id": "bTUjLTW1nZ3N"
      },
      "source": [
        ""
      ],
      "execution_count": null,
      "outputs": []
    }
  ]
}