{
  "nbformat": 4,
  "nbformat_minor": 0,
  "metadata": {
    "colab": {
      "name": "026_SimpleRNN_Test_Code.ipynb",
      "provenance": [],
      "collapsed_sections": []
    },
    "kernelspec": {
      "name": "python3",
      "display_name": "Python 3"
    },
    "language_info": {
      "name": "python"
    }
  },
  "cells": [
    {
      "cell_type": "markdown",
      "metadata": {
        "id": "98-wmv3JJ-Sg"
      },
      "source": [
        "# SimpleRNN Test Code"
      ]
    },
    {
      "cell_type": "code",
      "metadata": {
        "id": "R9GpJx26J2Ap"
      },
      "source": [
        "import warnings\n",
        "warnings.filterwarnings('ignore')"
      ],
      "execution_count": 1,
      "outputs": []
    },
    {
      "cell_type": "code",
      "metadata": {
        "id": "bWSLvxeTKJTS"
      },
      "source": [
        "import numpy as np\n",
        "import matplotlib.pyplot as plt"
      ],
      "execution_count": 2,
      "outputs": []
    },
    {
      "cell_type": "code",
      "metadata": {
        "id": "8v3ImiO3LQrM"
      },
      "source": [
        "from sklearn.model_selection import train_test_split"
      ],
      "execution_count": 7,
      "outputs": []
    },
    {
      "cell_type": "code",
      "metadata": {
        "id": "e261H5c_L3Oy"
      },
      "source": [
        "from keras import models, layers"
      ],
      "execution_count": 9,
      "outputs": []
    },
    {
      "cell_type": "markdown",
      "metadata": {
        "id": "zxZeDIFCKMGS"
      },
      "source": [
        "## 1. Simple RNN - without Normalization"
      ]
    },
    {
      "cell_type": "markdown",
      "metadata": {
        "id": "MMMtf6FJKalS"
      },
      "source": [
        "### 1) Sample Data\n",
        "- Input Data 생성(100, 5, 1)"
      ]
    },
    {
      "cell_type": "code",
      "metadata": {
        "colab": {
          "base_uri": "https://localhost:8080/"
        },
        "id": "veO-PXD5KLlx",
        "outputId": "3e31f505-5d4a-4fe9-dc2b-bad31c800d36"
      },
      "source": [
        "X = [[[i + j] for i in range(5)] for j in range(100)]\n",
        "\n",
        "X[:3] , X[-3:]"
      ],
      "execution_count": 3,
      "outputs": [
        {
          "output_type": "execute_result",
          "data": {
            "text/plain": [
              "([[[0], [1], [2], [3], [4]],\n",
              "  [[1], [2], [3], [4], [5]],\n",
              "  [[2], [3], [4], [5], [6]]],\n",
              " [[[97], [98], [99], [100], [101]],\n",
              "  [[98], [99], [100], [101], [102]],\n",
              "  [[99], [100], [101], [102], [103]]])"
            ]
          },
          "metadata": {
            "tags": []
          },
          "execution_count": 3
        }
      ]
    },
    {
      "cell_type": "markdown",
      "metadata": {
        "id": "pGuFEYBUK22u"
      },
      "source": [
        "- Output 데이터 생성(100, 1)"
      ]
    },
    {
      "cell_type": "code",
      "metadata": {
        "colab": {
          "base_uri": "https://localhost:8080/"
        },
        "id": "uRR8BvdHKyLZ",
        "outputId": "910c0007-6c23-4acc-e9b3-e16bb4b6cf88"
      },
      "source": [
        "y = [(i + 5) for i in range(100)]\n",
        "\n",
        "y[:3] , y[-3:]"
      ],
      "execution_count": 4,
      "outputs": [
        {
          "output_type": "execute_result",
          "data": {
            "text/plain": [
              "([5, 6, 7], [102, 103, 104])"
            ]
          },
          "metadata": {
            "tags": []
          },
          "execution_count": 4
        }
      ]
    },
    {
      "cell_type": "markdown",
      "metadata": {
        "id": "Vt8_zSdXK_VG"
      },
      "source": [
        "### 2) Numpy array casting"
      ]
    },
    {
      "cell_type": "code",
      "metadata": {
        "colab": {
          "base_uri": "https://localhost:8080/"
        },
        "id": "6mSV7qtdK9g5",
        "outputId": "53c8d79d-d68f-43b0-ea64-1eeafa00fa4e"
      },
      "source": [
        "X = np.array(X, dtype = float)\n",
        "y = np.array(y, dtype = float)\n",
        "\n",
        "X.shape, y.shape"
      ],
      "execution_count": 6,
      "outputs": [
        {
          "output_type": "execute_result",
          "data": {
            "text/plain": [
              "((100, 5, 1), (100,))"
            ]
          },
          "metadata": {
            "tags": []
          },
          "execution_count": 6
        }
      ]
    },
    {
      "cell_type": "markdown",
      "metadata": {
        "id": "zbW7mjYELL4z"
      },
      "source": [
        "### 3) Train/Test Split\n",
        "- 8:2"
      ]
    },
    {
      "cell_type": "code",
      "metadata": {
        "colab": {
          "base_uri": "https://localhost:8080/"
        },
        "id": "BCaDxexBLHKr",
        "outputId": "115c69f8-c636-46b5-a61f-c3ddac1bc3a7"
      },
      "source": [
        "X_train, X_test, y_train, y_test = train_test_split(X, y,\n",
        "                                                    test_size = 0.2,\n",
        "                                                    random_state = 2045)\n",
        "\n",
        "X_train.shape, y_train.shape, X_test.shape, y_test.shape"
      ],
      "execution_count": 8,
      "outputs": [
        {
          "output_type": "execute_result",
          "data": {
            "text/plain": [
              "((80, 5, 1), (80,), (20, 5, 1), (20,))"
            ]
          },
          "metadata": {
            "tags": []
          },
          "execution_count": 8
        }
      ]
    },
    {
      "cell_type": "markdown",
      "metadata": {
        "id": "ZAMF-gTFLdwp"
      },
      "source": [
        "### 4) Keras SimpleRNN Modeling"
      ]
    },
    {
      "cell_type": "markdown",
      "metadata": {
        "id": "V6KeMSENLhnT"
      },
      "source": [
        "#### (1) Model Define & Summary\n",
        "- Unit(output_dim) : 3\n",
        "- input_shape(input_length, input_dim) : (5, 1)\n",
        "- return_sequences = False : 최종 Sequence만 출력\n",
        "- layers.Dense(1) : y_hat"
      ]
    },
    {
      "cell_type": "code",
      "metadata": {
        "id": "8vXav9xLLbid"
      },
      "source": [
        "model_1 = models.Sequential(name = 'SimpleRNN_1')\n",
        "\n",
        "model_1.add(layers.SimpleRNN(3,\n",
        "                             input_shape = (5, 1), # 5번을 돌아야 함\n",
        "                             return_sequences = False)) # 5번 중 마지막 output 하나만 출력\n",
        "                            # activation을 주지않은 이유: RNN 안에 tanh가 들어있음\n",
        "model_1.add(layers.Dense(1)) # 숫자 예측"
      ],
      "execution_count": 11,
      "outputs": []
    },
    {
      "cell_type": "code",
      "metadata": {
        "colab": {
          "base_uri": "https://localhost:8080/"
        },
        "id": "HumvOB8DMFFu",
        "outputId": "21675eb8-e31c-4f20-de00-9a246a9b4fb1"
      },
      "source": [
        "model_1.summary()"
      ],
      "execution_count": 12,
      "outputs": [
        {
          "output_type": "stream",
          "text": [
            "Model: \"SimpleRNN_1\"\n",
            "_________________________________________________________________\n",
            "Layer (type)                 Output Shape              Param #   \n",
            "=================================================================\n",
            "simple_rnn (SimpleRNN)       (None, 3)                 15        \n",
            "_________________________________________________________________\n",
            "dense (Dense)                (None, 1)                 4         \n",
            "=================================================================\n",
            "Total params: 19\n",
            "Trainable params: 19\n",
            "Non-trainable params: 0\n",
            "_________________________________________________________________\n"
          ],
          "name": "stdout"
        }
      ]
    },
    {
      "cell_type": "code",
      "metadata": {
        "id": "yToJdmvOMKTQ"
      },
      "source": [
        "model_1.compile(loss = 'mse',\n",
        "                optimizer = 'adam',\n",
        "                metrics = ['accuracy'])"
      ],
      "execution_count": 13,
      "outputs": []
    },
    {
      "cell_type": "code",
      "metadata": {
        "colab": {
          "base_uri": "https://localhost:8080/"
        },
        "id": "qx8fcqcSMe0M",
        "outputId": "3f0f3bc5-d46f-43f8-afde-fcb38794b910"
      },
      "source": [
        "Hist_1 = model_1.fit(X_train, y_train,\n",
        "                     epochs = 100,\n",
        "                     batch_size = 8, # train data 가 80개\n",
        "                     validation_data = (X_test, y_test))"
      ],
      "execution_count": 14,
      "outputs": [
        {
          "output_type": "stream",
          "text": [
            "Epoch 1/100\n",
            "10/10 [==============================] - 1s 37ms/step - loss: 4007.6826 - accuracy: 0.0000e+00 - val_loss: 3806.3931 - val_accuracy: 0.0000e+00\n",
            "Epoch 2/100\n",
            "10/10 [==============================] - 0s 7ms/step - loss: 4062.5714 - accuracy: 0.0000e+00 - val_loss: 3801.9368 - val_accuracy: 0.0000e+00\n",
            "Epoch 3/100\n",
            "10/10 [==============================] - 0s 7ms/step - loss: 3368.5522 - accuracy: 0.0000e+00 - val_loss: 3797.4780 - val_accuracy: 0.0000e+00\n",
            "Epoch 4/100\n",
            "10/10 [==============================] - 0s 6ms/step - loss: 3830.7584 - accuracy: 0.0000e+00 - val_loss: 3792.9282 - val_accuracy: 0.0000e+00\n",
            "Epoch 5/100\n",
            "10/10 [==============================] - 0s 8ms/step - loss: 3557.2529 - accuracy: 0.0000e+00 - val_loss: 3788.4148 - val_accuracy: 0.0000e+00\n",
            "Epoch 6/100\n",
            "10/10 [==============================] - 0s 7ms/step - loss: 3753.3976 - accuracy: 0.0000e+00 - val_loss: 3783.8374 - val_accuracy: 0.0000e+00\n",
            "Epoch 7/100\n",
            "10/10 [==============================] - 0s 7ms/step - loss: 4334.4179 - accuracy: 0.0000e+00 - val_loss: 3779.0952 - val_accuracy: 0.0000e+00\n",
            "Epoch 8/100\n",
            "10/10 [==============================] - 0s 6ms/step - loss: 4028.8772 - accuracy: 0.0000e+00 - val_loss: 3774.3164 - val_accuracy: 0.0000e+00\n",
            "Epoch 9/100\n",
            "10/10 [==============================] - 0s 7ms/step - loss: 3437.8474 - accuracy: 0.0000e+00 - val_loss: 3769.2832 - val_accuracy: 0.0000e+00\n",
            "Epoch 10/100\n",
            "10/10 [==============================] - 0s 7ms/step - loss: 3999.2759 - accuracy: 0.0000e+00 - val_loss: 3763.0540 - val_accuracy: 0.0000e+00\n",
            "Epoch 11/100\n",
            "10/10 [==============================] - 0s 7ms/step - loss: 3609.3613 - accuracy: 0.0000e+00 - val_loss: 3751.9141 - val_accuracy: 0.0000e+00\n",
            "Epoch 12/100\n",
            "10/10 [==============================] - 0s 8ms/step - loss: 3740.1635 - accuracy: 0.0000e+00 - val_loss: 3708.8274 - val_accuracy: 0.0000e+00\n",
            "Epoch 13/100\n",
            "10/10 [==============================] - 0s 7ms/step - loss: 3706.2028 - accuracy: 0.0000e+00 - val_loss: 3555.9194 - val_accuracy: 0.0000e+00\n",
            "Epoch 14/100\n",
            "10/10 [==============================] - 0s 8ms/step - loss: 3657.2663 - accuracy: 0.0000e+00 - val_loss: 3518.6382 - val_accuracy: 0.0000e+00\n",
            "Epoch 15/100\n",
            "10/10 [==============================] - 0s 7ms/step - loss: 3589.6858 - accuracy: 0.0000e+00 - val_loss: 3512.5183 - val_accuracy: 0.0000e+00\n",
            "Epoch 16/100\n",
            "10/10 [==============================] - 0s 7ms/step - loss: 3728.3877 - accuracy: 0.0000e+00 - val_loss: 3508.0547 - val_accuracy: 0.0000e+00\n",
            "Epoch 17/100\n",
            "10/10 [==============================] - 0s 8ms/step - loss: 3836.0000 - accuracy: 0.0000e+00 - val_loss: 3503.8608 - val_accuracy: 0.0000e+00\n",
            "Epoch 18/100\n",
            "10/10 [==============================] - 0s 7ms/step - loss: 3455.5902 - accuracy: 0.0000e+00 - val_loss: 3499.7429 - val_accuracy: 0.0000e+00\n",
            "Epoch 19/100\n",
            "10/10 [==============================] - 0s 7ms/step - loss: 3642.7609 - accuracy: 0.0000e+00 - val_loss: 3495.6531 - val_accuracy: 0.0000e+00\n",
            "Epoch 20/100\n",
            "10/10 [==============================] - 0s 7ms/step - loss: 3581.3825 - accuracy: 0.0000e+00 - val_loss: 3491.5281 - val_accuracy: 0.0000e+00\n",
            "Epoch 21/100\n",
            "10/10 [==============================] - 0s 7ms/step - loss: 3402.7435 - accuracy: 0.0000e+00 - val_loss: 3487.4785 - val_accuracy: 0.0000e+00\n",
            "Epoch 22/100\n",
            "10/10 [==============================] - 0s 7ms/step - loss: 3591.9308 - accuracy: 0.0000e+00 - val_loss: 3483.3489 - val_accuracy: 0.0000e+00\n",
            "Epoch 23/100\n",
            "10/10 [==============================] - 0s 8ms/step - loss: 3580.8888 - accuracy: 0.0000e+00 - val_loss: 3479.2996 - val_accuracy: 0.0000e+00\n",
            "Epoch 24/100\n",
            "10/10 [==============================] - 0s 7ms/step - loss: 3608.6741 - accuracy: 0.0000e+00 - val_loss: 3475.2175 - val_accuracy: 0.0000e+00\n",
            "Epoch 25/100\n",
            "10/10 [==============================] - 0s 7ms/step - loss: 3497.1705 - accuracy: 0.0000e+00 - val_loss: 3471.1567 - val_accuracy: 0.0000e+00\n",
            "Epoch 26/100\n",
            "10/10 [==============================] - 0s 7ms/step - loss: 3555.5559 - accuracy: 0.0000e+00 - val_loss: 3467.0659 - val_accuracy: 0.0000e+00\n",
            "Epoch 27/100\n",
            "10/10 [==============================] - 0s 8ms/step - loss: 3667.7175 - accuracy: 0.0000e+00 - val_loss: 3462.9531 - val_accuracy: 0.0000e+00\n",
            "Epoch 28/100\n",
            "10/10 [==============================] - 0s 7ms/step - loss: 3011.9436 - accuracy: 0.0000e+00 - val_loss: 3458.9719 - val_accuracy: 0.0000e+00\n",
            "Epoch 29/100\n",
            "10/10 [==============================] - 0s 9ms/step - loss: 3819.6836 - accuracy: 0.0000e+00 - val_loss: 3454.8228 - val_accuracy: 0.0000e+00\n",
            "Epoch 30/100\n",
            "10/10 [==============================] - 0s 8ms/step - loss: 3172.9891 - accuracy: 0.0000e+00 - val_loss: 3450.8149 - val_accuracy: 0.0000e+00\n",
            "Epoch 31/100\n",
            "10/10 [==============================] - 0s 7ms/step - loss: 3290.4639 - accuracy: 0.0000e+00 - val_loss: 3446.7612 - val_accuracy: 0.0000e+00\n",
            "Epoch 32/100\n",
            "10/10 [==============================] - 0s 6ms/step - loss: 3375.3043 - accuracy: 0.0000e+00 - val_loss: 3442.6973 - val_accuracy: 0.0000e+00\n",
            "Epoch 33/100\n",
            "10/10 [==============================] - 0s 6ms/step - loss: 3562.8434 - accuracy: 0.0000e+00 - val_loss: 3438.6431 - val_accuracy: 0.0000e+00\n",
            "Epoch 34/100\n",
            "10/10 [==============================] - 0s 7ms/step - loss: 3720.1810 - accuracy: 0.0000e+00 - val_loss: 3434.5430 - val_accuracy: 0.0000e+00\n",
            "Epoch 35/100\n",
            "10/10 [==============================] - 0s 7ms/step - loss: 3354.0674 - accuracy: 0.0000e+00 - val_loss: 3430.5657 - val_accuracy: 0.0000e+00\n",
            "Epoch 36/100\n",
            "10/10 [==============================] - 0s 7ms/step - loss: 3596.9616 - accuracy: 0.0000e+00 - val_loss: 3426.5474 - val_accuracy: 0.0000e+00\n",
            "Epoch 37/100\n",
            "10/10 [==============================] - 0s 6ms/step - loss: 3430.0538 - accuracy: 0.0000e+00 - val_loss: 3422.5046 - val_accuracy: 0.0000e+00\n",
            "Epoch 38/100\n",
            "10/10 [==============================] - 0s 8ms/step - loss: 3376.8317 - accuracy: 0.0000e+00 - val_loss: 3418.5203 - val_accuracy: 0.0000e+00\n",
            "Epoch 39/100\n",
            "10/10 [==============================] - 0s 7ms/step - loss: 3731.8725 - accuracy: 0.0000e+00 - val_loss: 3414.4817 - val_accuracy: 0.0000e+00\n",
            "Epoch 40/100\n",
            "10/10 [==============================] - 0s 7ms/step - loss: 3243.5940 - accuracy: 0.0000e+00 - val_loss: 3410.4565 - val_accuracy: 0.0000e+00\n",
            "Epoch 41/100\n",
            "10/10 [==============================] - 0s 8ms/step - loss: 3109.6195 - accuracy: 0.0000e+00 - val_loss: 3406.4824 - val_accuracy: 0.0000e+00\n",
            "Epoch 42/100\n",
            "10/10 [==============================] - 0s 7ms/step - loss: 3701.6526 - accuracy: 0.0000e+00 - val_loss: 3402.3860 - val_accuracy: 0.0000e+00\n",
            "Epoch 43/100\n",
            "10/10 [==============================] - 0s 7ms/step - loss: 3844.2332 - accuracy: 0.0000e+00 - val_loss: 3398.3257 - val_accuracy: 0.0000e+00\n",
            "Epoch 44/100\n",
            "10/10 [==============================] - 0s 7ms/step - loss: 3701.3956 - accuracy: 0.0000e+00 - val_loss: 3394.3882 - val_accuracy: 0.0000e+00\n",
            "Epoch 45/100\n",
            "10/10 [==============================] - 0s 7ms/step - loss: 3396.3275 - accuracy: 0.0000e+00 - val_loss: 3390.4409 - val_accuracy: 0.0000e+00\n",
            "Epoch 46/100\n",
            "10/10 [==============================] - 0s 8ms/step - loss: 3368.3718 - accuracy: 0.0000e+00 - val_loss: 3386.5261 - val_accuracy: 0.0000e+00\n",
            "Epoch 47/100\n",
            "10/10 [==============================] - 0s 7ms/step - loss: 3547.0682 - accuracy: 0.0000e+00 - val_loss: 3382.5034 - val_accuracy: 0.0000e+00\n",
            "Epoch 48/100\n",
            "10/10 [==============================] - 0s 7ms/step - loss: 3156.6144 - accuracy: 0.0000e+00 - val_loss: 3378.5249 - val_accuracy: 0.0000e+00\n",
            "Epoch 49/100\n",
            "10/10 [==============================] - 0s 7ms/step - loss: 3410.0647 - accuracy: 0.0000e+00 - val_loss: 3374.4875 - val_accuracy: 0.0000e+00\n",
            "Epoch 50/100\n",
            "10/10 [==============================] - 0s 7ms/step - loss: 3341.5055 - accuracy: 0.0000e+00 - val_loss: 3370.5845 - val_accuracy: 0.0000e+00\n",
            "Epoch 51/100\n",
            "10/10 [==============================] - 0s 7ms/step - loss: 2822.6069 - accuracy: 0.0000e+00 - val_loss: 3366.6926 - val_accuracy: 0.0000e+00\n",
            "Epoch 52/100\n",
            "10/10 [==============================] - 0s 7ms/step - loss: 3929.2167 - accuracy: 0.0000e+00 - val_loss: 3362.5750 - val_accuracy: 0.0000e+00\n",
            "Epoch 53/100\n",
            "10/10 [==============================] - 0s 7ms/step - loss: 3007.2648 - accuracy: 0.0000e+00 - val_loss: 3358.7156 - val_accuracy: 0.0000e+00\n",
            "Epoch 54/100\n",
            "10/10 [==============================] - 0s 7ms/step - loss: 3223.1071 - accuracy: 0.0000e+00 - val_loss: 3354.7708 - val_accuracy: 0.0000e+00\n",
            "Epoch 55/100\n",
            "10/10 [==============================] - 0s 7ms/step - loss: 3463.7354 - accuracy: 0.0000e+00 - val_loss: 3350.7729 - val_accuracy: 0.0000e+00\n",
            "Epoch 56/100\n",
            "10/10 [==============================] - 0s 7ms/step - loss: 3538.3576 - accuracy: 0.0000e+00 - val_loss: 3346.8086 - val_accuracy: 0.0000e+00\n",
            "Epoch 57/100\n",
            "10/10 [==============================] - 0s 7ms/step - loss: 3040.4798 - accuracy: 0.0000e+00 - val_loss: 3342.9272 - val_accuracy: 0.0000e+00\n",
            "Epoch 58/100\n",
            "10/10 [==============================] - 0s 7ms/step - loss: 3694.6499 - accuracy: 0.0000e+00 - val_loss: 3338.8853 - val_accuracy: 0.0000e+00\n",
            "Epoch 59/100\n",
            "10/10 [==============================] - 0s 7ms/step - loss: 3937.4176 - accuracy: 0.0000e+00 - val_loss: 3334.8743 - val_accuracy: 0.0000e+00\n",
            "Epoch 60/100\n",
            "10/10 [==============================] - 0s 7ms/step - loss: 3001.2361 - accuracy: 0.0000e+00 - val_loss: 3331.0747 - val_accuracy: 0.0000e+00\n",
            "Epoch 61/100\n",
            "10/10 [==============================] - 0s 7ms/step - loss: 3901.1825 - accuracy: 0.0000e+00 - val_loss: 3327.0852 - val_accuracy: 0.0000e+00\n",
            "Epoch 62/100\n",
            "10/10 [==============================] - 0s 8ms/step - loss: 3617.4763 - accuracy: 0.0000e+00 - val_loss: 3323.1431 - val_accuracy: 0.0000e+00\n",
            "Epoch 63/100\n",
            "10/10 [==============================] - 0s 7ms/step - loss: 3880.1871 - accuracy: 0.0000e+00 - val_loss: 3319.1929 - val_accuracy: 0.0000e+00\n",
            "Epoch 64/100\n",
            "10/10 [==============================] - 0s 7ms/step - loss: 3089.2296 - accuracy: 0.0000e+00 - val_loss: 3315.4497 - val_accuracy: 0.0000e+00\n",
            "Epoch 65/100\n",
            "10/10 [==============================] - 0s 6ms/step - loss: 3505.2447 - accuracy: 0.0000e+00 - val_loss: 3311.4949 - val_accuracy: 0.0000e+00\n",
            "Epoch 66/100\n",
            "10/10 [==============================] - 0s 7ms/step - loss: 3049.2539 - accuracy: 0.0000e+00 - val_loss: 3307.6335 - val_accuracy: 0.0000e+00\n",
            "Epoch 67/100\n",
            "10/10 [==============================] - 0s 7ms/step - loss: 3455.4797 - accuracy: 0.0000e+00 - val_loss: 3303.6694 - val_accuracy: 0.0000e+00\n",
            "Epoch 68/100\n",
            "10/10 [==============================] - 0s 8ms/step - loss: 3248.8056 - accuracy: 0.0000e+00 - val_loss: 3299.7827 - val_accuracy: 0.0000e+00\n",
            "Epoch 69/100\n",
            "10/10 [==============================] - 0s 8ms/step - loss: 3435.3081 - accuracy: 0.0000e+00 - val_loss: 3295.9004 - val_accuracy: 0.0000e+00\n",
            "Epoch 70/100\n",
            "10/10 [==============================] - 0s 7ms/step - loss: 3152.6885 - accuracy: 0.0000e+00 - val_loss: 3292.0483 - val_accuracy: 0.0000e+00\n",
            "Epoch 71/100\n",
            "10/10 [==============================] - 0s 7ms/step - loss: 3632.6563 - accuracy: 0.0000e+00 - val_loss: 3288.0891 - val_accuracy: 0.0000e+00\n",
            "Epoch 72/100\n",
            "10/10 [==============================] - 0s 7ms/step - loss: 3210.5815 - accuracy: 0.0000e+00 - val_loss: 3284.2500 - val_accuracy: 0.0000e+00\n",
            "Epoch 73/100\n",
            "10/10 [==============================] - 0s 7ms/step - loss: 3396.2591 - accuracy: 0.0000e+00 - val_loss: 3280.3452 - val_accuracy: 0.0000e+00\n",
            "Epoch 74/100\n",
            "10/10 [==============================] - 0s 7ms/step - loss: 3471.5830 - accuracy: 0.0000e+00 - val_loss: 3276.4644 - val_accuracy: 0.0000e+00\n",
            "Epoch 75/100\n",
            "10/10 [==============================] - 0s 7ms/step - loss: 3434.6451 - accuracy: 0.0000e+00 - val_loss: 3272.5845 - val_accuracy: 0.0000e+00\n",
            "Epoch 76/100\n",
            "10/10 [==============================] - 0s 7ms/step - loss: 3119.7623 - accuracy: 0.0000e+00 - val_loss: 3268.7703 - val_accuracy: 0.0000e+00\n",
            "Epoch 77/100\n",
            "10/10 [==============================] - 0s 7ms/step - loss: 3404.1879 - accuracy: 0.0000e+00 - val_loss: 3264.8723 - val_accuracy: 0.0000e+00\n",
            "Epoch 78/100\n",
            "10/10 [==============================] - 0s 7ms/step - loss: 3191.4785 - accuracy: 0.0000e+00 - val_loss: 3261.0886 - val_accuracy: 0.0000e+00\n",
            "Epoch 79/100\n",
            "10/10 [==============================] - 0s 7ms/step - loss: 2944.1740 - accuracy: 0.0000e+00 - val_loss: 3257.2947 - val_accuracy: 0.0000e+00\n",
            "Epoch 80/100\n",
            "10/10 [==============================] - 0s 7ms/step - loss: 3470.0322 - accuracy: 0.0000e+00 - val_loss: 3253.3147 - val_accuracy: 0.0000e+00\n",
            "Epoch 81/100\n",
            "10/10 [==============================] - 0s 7ms/step - loss: 3234.9660 - accuracy: 0.0000e+00 - val_loss: 3249.4473 - val_accuracy: 0.0000e+00\n",
            "Epoch 82/100\n",
            "10/10 [==============================] - 0s 7ms/step - loss: 3689.7485 - accuracy: 0.0000e+00 - val_loss: 3245.5793 - val_accuracy: 0.0000e+00\n",
            "Epoch 83/100\n",
            "10/10 [==============================] - 0s 8ms/step - loss: 3567.5897 - accuracy: 0.0000e+00 - val_loss: 3241.7969 - val_accuracy: 0.0000e+00\n",
            "Epoch 84/100\n",
            "10/10 [==============================] - 0s 7ms/step - loss: 2819.1956 - accuracy: 0.0000e+00 - val_loss: 3238.0684 - val_accuracy: 0.0000e+00\n",
            "Epoch 85/100\n",
            "10/10 [==============================] - 0s 7ms/step - loss: 3510.6091 - accuracy: 0.0000e+00 - val_loss: 3234.0991 - val_accuracy: 0.0000e+00\n",
            "Epoch 86/100\n",
            "10/10 [==============================] - 0s 7ms/step - loss: 3215.5581 - accuracy: 0.0000e+00 - val_loss: 3230.3430 - val_accuracy: 0.0000e+00\n",
            "Epoch 87/100\n",
            "10/10 [==============================] - 0s 7ms/step - loss: 3455.3049 - accuracy: 0.0000e+00 - val_loss: 3226.5061 - val_accuracy: 0.0000e+00\n",
            "Epoch 88/100\n",
            "10/10 [==============================] - 0s 7ms/step - loss: 3048.4718 - accuracy: 0.0000e+00 - val_loss: 3222.7205 - val_accuracy: 0.0000e+00\n",
            "Epoch 89/100\n",
            "10/10 [==============================] - 0s 7ms/step - loss: 3240.4604 - accuracy: 0.0000e+00 - val_loss: 3218.9243 - val_accuracy: 0.0000e+00\n",
            "Epoch 90/100\n",
            "10/10 [==============================] - 0s 8ms/step - loss: 3491.0803 - accuracy: 0.0000e+00 - val_loss: 3215.0569 - val_accuracy: 0.0000e+00\n",
            "Epoch 91/100\n",
            "10/10 [==============================] - 0s 7ms/step - loss: 3279.3877 - accuracy: 0.0000e+00 - val_loss: 3211.2954 - val_accuracy: 0.0000e+00\n",
            "Epoch 92/100\n",
            "10/10 [==============================] - 0s 8ms/step - loss: 3294.7493 - accuracy: 0.0000e+00 - val_loss: 3207.4878 - val_accuracy: 0.0000e+00\n",
            "Epoch 93/100\n",
            "10/10 [==============================] - 0s 7ms/step - loss: 3096.1747 - accuracy: 0.0000e+00 - val_loss: 3203.7317 - val_accuracy: 0.0000e+00\n",
            "Epoch 94/100\n",
            "10/10 [==============================] - 0s 7ms/step - loss: 3377.7997 - accuracy: 0.0000e+00 - val_loss: 3199.8938 - val_accuracy: 0.0000e+00\n",
            "Epoch 95/100\n",
            "10/10 [==============================] - 0s 7ms/step - loss: 3371.8972 - accuracy: 0.0000e+00 - val_loss: 3196.1455 - val_accuracy: 0.0000e+00\n",
            "Epoch 96/100\n",
            "10/10 [==============================] - 0s 8ms/step - loss: 2877.2397 - accuracy: 0.0000e+00 - val_loss: 3192.3691 - val_accuracy: 0.0000e+00\n",
            "Epoch 97/100\n",
            "10/10 [==============================] - 0s 7ms/step - loss: 3206.4082 - accuracy: 0.0000e+00 - val_loss: 3188.5874 - val_accuracy: 0.0000e+00\n",
            "Epoch 98/100\n",
            "10/10 [==============================] - 0s 7ms/step - loss: 2907.2179 - accuracy: 0.0000e+00 - val_loss: 3184.8230 - val_accuracy: 0.0000e+00\n",
            "Epoch 99/100\n",
            "10/10 [==============================] - 0s 7ms/step - loss: 3768.9676 - accuracy: 0.0000e+00 - val_loss: 3180.9419 - val_accuracy: 0.0000e+00\n",
            "Epoch 100/100\n",
            "10/10 [==============================] - 0s 8ms/step - loss: 3151.1359 - accuracy: 0.0000e+00 - val_loss: 3177.2388 - val_accuracy: 0.0000e+00\n"
          ],
          "name": "stdout"
        }
      ]
    },
    {
      "cell_type": "code",
      "metadata": {
        "id": "tRdd-nkNMmFU"
      },
      "source": [
        "y_hat = model_1.predict(X_test)"
      ],
      "execution_count": 15,
      "outputs": []
    },
    {
      "cell_type": "markdown",
      "metadata": {
        "id": "XXlbQ1HdMs94"
      },
      "source": [
        "#### (2) Visualization"
      ]
    },
    {
      "cell_type": "code",
      "metadata": {
        "colab": {
          "base_uri": "https://localhost:8080/",
          "height": 265
        },
        "id": "o4c7BQcFMsK0",
        "outputId": "d9c3ec5c-d042-44e0-9f2a-a3ed0941f2ab"
      },
      "source": [
        "plt.plot(Hist_1.history['loss'])\n",
        "plt.show()\n",
        "\n",
        "# loss는 줄어들었다"
      ],
      "execution_count": 16,
      "outputs": [
        {
          "output_type": "display_data",
          "data": {
            "image/png": "[encoded data removed]",
            "text/plain": [
              "<Figure size 432x288 with 1 Axes>"
            ]
          },
          "metadata": {
            "tags": [],
            "needs_background": "light"
          }
        }
      ]
    },
    {
      "cell_type": "markdown",
      "metadata": {
        "id": "CKVKPbajM0gF"
      },
      "source": [
        "- 학습되지 않음\n",
        "  - 녹색 -> 정답(y_test)\n",
        "  - 적색 -> 예측(y_hat)"
      ]
    },
    {
      "cell_type": "code",
      "metadata": {
        "colab": {
          "base_uri": "https://localhost:8080/",
          "height": 265
        },
        "id": "pfQlnYs-MyGf",
        "outputId": "f0501da1-abee-4363-bf2b-0f4b288ce6ab"
      },
      "source": [
        "plt.scatter(range(20), y_hat, c = 'r')\n",
        "plt.scatter(range(20), y_test, c = 'g')\n",
        "plt.show()\n",
        "\n",
        "# epoch를 더 많이 돌리면 학습이 된다\n",
        "# normalization하면 성능이 훨씬 좋아진다"
      ],
      "execution_count": 17,
      "outputs": [
        {
          "output_type": "display_data",
          "data": {
            "image/png": "[encoded data removed]",
            "text/plain": [
              "<Figure size 432x288 with 1 Axes>"
            ]
          },
          "metadata": {
            "tags": [],
            "needs_background": "light"
          }
        }
      ]
    },
    {
      "cell_type": "markdown",
      "metadata": {
        "id": "CtzW6mP7NAVF"
      },
      "source": [
        "## 2. SimpleRNN - with Normalization"
      ]
    },
    {
      "cell_type": "markdown",
      "metadata": {
        "id": "btc1Z7KyNDDs"
      },
      "source": [
        "### 1) Sample Data - with Normalization"
      ]
    },
    {
      "cell_type": "code",
      "metadata": {
        "id": "QI-v-kshM-CG"
      },
      "source": [
        "X = [[[(i + j)] for i in range(5)] for j in range(100)]\n",
        "y = [(i + 5) for i in range(100)]\n",
        "\n",
        "X = (X - np.min(X)) / (np.max(X) - np.min(X))\n",
        "y = (y - np.min(y)) / (np.max(y) - np.min(y))"
      ],
      "execution_count": 83,
      "outputs": []
    },
    {
      "cell_type": "markdown",
      "metadata": {
        "id": "dnDTPqPqNaEv"
      },
      "source": [
        "### 2) Casting"
      ]
    },
    {
      "cell_type": "code",
      "metadata": {
        "id": "0prrTtUhNWJX"
      },
      "source": [
        "X = np.array(X, dtype = float)\n",
        "y = np.array(y, dtype = float)"
      ],
      "execution_count": 84,
      "outputs": []
    },
    {
      "cell_type": "code",
      "metadata": {
        "colab": {
          "base_uri": "https://localhost:8080/"
        },
        "id": "Rz2Y5WXlNe-p",
        "outputId": "eb8310cb-f216-4a5d-c6bc-7d9dde49458f"
      },
      "source": [
        "X.shape, y.shape"
      ],
      "execution_count": 85,
      "outputs": [
        {
          "output_type": "execute_result",
          "data": {
            "text/plain": [
              "((100, 5, 1), (100,))"
            ]
          },
          "metadata": {
            "tags": []
          },
          "execution_count": 85
        }
      ]
    },
    {
      "cell_type": "markdown",
      "metadata": {
        "id": "gQ4SfK1yNiIh"
      },
      "source": [
        "### 3) Train/Test Split"
      ]
    },
    {
      "cell_type": "code",
      "metadata": {
        "colab": {
          "base_uri": "https://localhost:8080/"
        },
        "id": "SNYJl6MpNg3p",
        "outputId": "883136bd-f24e-48d6-86b0-8fc6f7db3335"
      },
      "source": [
        "X_train, X_test, y_train, y_test = train_test_split(X, y,\n",
        "                                                    test_size = 0.2,\n",
        "                                                    random_state = 2045)\n",
        "\n",
        "X_train.shape, y_train.shape, X_test.shape, y_test.shape"
      ],
      "execution_count": 86,
      "outputs": [
        {
          "output_type": "execute_result",
          "data": {
            "text/plain": [
              "((80, 5, 1), (80,), (20, 5, 1), (20,))"
            ]
          },
          "metadata": {
            "tags": []
          },
          "execution_count": 86
        }
      ]
    },
    {
      "cell_type": "markdown",
      "metadata": {
        "id": "MbxVws-TNuCC"
      },
      "source": [
        "### 4) Keras SimpleRNN Modeling"
      ]
    },
    {
      "cell_type": "markdown",
      "metadata": {
        "id": "jymUobSbNxmX"
      },
      "source": [
        "#### (1) Model Define & Summary\n",
        "- None: input_length 자동 맞춤"
      ]
    },
    {
      "cell_type": "code",
      "metadata": {
        "id": "3o4uxi3VNtL1"
      },
      "source": [
        "model_2 = models.Sequential(name = 'SimpleRNN_2')\n",
        "\n",
        "model_2.add(layers.SimpleRNN(3,\n",
        "                             input_shape = (None, 1),\n",
        "                             # None이라고 하면 input_length를 자동으로 맞춰준다\n",
        "                             return_sequences = False))\n",
        "model_2.add(layers.Dense(1))"
      ],
      "execution_count": 87,
      "outputs": []
    },
    {
      "cell_type": "code",
      "metadata": {
        "colab": {
          "base_uri": "https://localhost:8080/"
        },
        "id": "ezoyImJGOCbz",
        "outputId": "a731b6e6-4404-4df6-9f86-c7eceb1d502b"
      },
      "source": [
        "model_2.summary()"
      ],
      "execution_count": 88,
      "outputs": [
        {
          "output_type": "stream",
          "text": [
            "Model: \"SimpleRNN_2\"\n",
            "_________________________________________________________________\n",
            "Layer (type)                 Output Shape              Param #   \n",
            "=================================================================\n",
            "simple_rnn_13 (SimpleRNN)    (None, 3)                 15        \n",
            "_________________________________________________________________\n",
            "dense_6 (Dense)              (None, 1)                 4         \n",
            "=================================================================\n",
            "Total params: 19\n",
            "Trainable params: 19\n",
            "Non-trainable params: 0\n",
            "_________________________________________________________________\n"
          ],
          "name": "stdout"
        }
      ]
    },
    {
      "cell_type": "code",
      "metadata": {
        "id": "77Z4i-1rODTS"
      },
      "source": [
        "model_2.compile(loss = 'mse',\n",
        "                optimizer = 'adam',\n",
        "                metrics = ['accuracy'])"
      ],
      "execution_count": 89,
      "outputs": []
    },
    {
      "cell_type": "code",
      "metadata": {
        "colab": {
          "base_uri": "https://localhost:8080/"
        },
        "id": "D4NjBbIbOHrs",
        "outputId": "42c02f79-a3cd-4d7c-ca09-d1bd1ecca59b"
      },
      "source": [
        "Hist_2 = model_2.fit(X_train, y_train,\n",
        "                     epochs = 100,\n",
        "                     batch_size = 8,\n",
        "                     validation_data = (X_test, y_test))"
      ],
      "execution_count": 90,
      "outputs": [
        {
          "output_type": "stream",
          "text": [
            "Epoch 1/100\n",
            "10/10 [==============================] - 1s 30ms/step - loss: 0.5763 - accuracy: 0.0231 - val_loss: 0.4389 - val_accuracy: 0.0000e+00\n",
            "Epoch 2/100\n",
            "10/10 [==============================] - 0s 7ms/step - loss: 0.4308 - accuracy: 0.0066 - val_loss: 0.3713 - val_accuracy: 0.0000e+00\n",
            "Epoch 3/100\n",
            "10/10 [==============================] - 0s 6ms/step - loss: 0.3916 - accuracy: 0.0136 - val_loss: 0.3113 - val_accuracy: 0.0000e+00\n",
            "Epoch 4/100\n",
            "10/10 [==============================] - 0s 7ms/step - loss: 0.3399 - accuracy: 0.0107 - val_loss: 0.2606 - val_accuracy: 0.0000e+00\n",
            "Epoch 5/100\n",
            "10/10 [==============================] - 0s 7ms/step - loss: 0.2758 - accuracy: 0.0136 - val_loss: 0.2193 - val_accuracy: 0.0000e+00\n",
            "Epoch 6/100\n",
            "10/10 [==============================] - 0s 6ms/step - loss: 0.2690 - accuracy: 0.0344 - val_loss: 0.1841 - val_accuracy: 0.0000e+00\n",
            "Epoch 7/100\n",
            "10/10 [==============================] - 0s 6ms/step - loss: 0.1711 - accuracy: 0.0136 - val_loss: 0.1564 - val_accuracy: 0.0000e+00\n",
            "Epoch 8/100\n",
            "10/10 [==============================] - 0s 7ms/step - loss: 0.1790 - accuracy: 0.0107 - val_loss: 0.1322 - val_accuracy: 0.0000e+00\n",
            "Epoch 9/100\n",
            "10/10 [==============================] - 0s 7ms/step - loss: 0.1426 - accuracy: 0.0136 - val_loss: 0.1125 - val_accuracy: 0.0000e+00\n",
            "Epoch 10/100\n",
            "10/10 [==============================] - 0s 8ms/step - loss: 0.1207 - accuracy: 0.0231 - val_loss: 0.0960 - val_accuracy: 0.0000e+00\n",
            "Epoch 11/100\n",
            "10/10 [==============================] - 0s 7ms/step - loss: 0.1085 - accuracy: 0.0174 - val_loss: 0.0813 - val_accuracy: 0.0000e+00\n",
            "Epoch 12/100\n",
            "10/10 [==============================] - 0s 7ms/step - loss: 0.0728 - accuracy: 0.0107 - val_loss: 0.0697 - val_accuracy: 0.0000e+00\n",
            "Epoch 13/100\n",
            "10/10 [==============================] - 0s 7ms/step - loss: 0.0800 - accuracy: 0.0035 - val_loss: 0.0594 - val_accuracy: 0.0000e+00\n",
            "Epoch 14/100\n",
            "10/10 [==============================] - 0s 8ms/step - loss: 0.0517 - accuracy: 0.0023 - val_loss: 0.0508 - val_accuracy: 0.0000e+00\n",
            "Epoch 15/100\n",
            "10/10 [==============================] - 0s 7ms/step - loss: 0.0505 - accuracy: 0.0174 - val_loss: 0.0432 - val_accuracy: 0.0000e+00\n",
            "Epoch 16/100\n",
            "10/10 [==============================] - 0s 7ms/step - loss: 0.0483 - accuracy: 0.0050 - val_loss: 0.0369 - val_accuracy: 0.0000e+00\n",
            "Epoch 17/100\n",
            "10/10 [==============================] - 0s 7ms/step - loss: 0.0528 - accuracy: 0.0136 - val_loss: 0.0315 - val_accuracy: 0.0000e+00\n",
            "Epoch 18/100\n",
            "10/10 [==============================] - 0s 7ms/step - loss: 0.0293 - accuracy: 0.0518 - val_loss: 0.0274 - val_accuracy: 0.0000e+00\n",
            "Epoch 19/100\n",
            "10/10 [==============================] - 0s 7ms/step - loss: 0.0265 - accuracy: 0.0404 - val_loss: 0.0238 - val_accuracy: 0.0000e+00\n",
            "Epoch 20/100\n",
            "10/10 [==============================] - 0s 7ms/step - loss: 0.0310 - accuracy: 0.0404 - val_loss: 0.0206 - val_accuracy: 0.0000e+00\n",
            "Epoch 21/100\n",
            "10/10 [==============================] - 0s 7ms/step - loss: 0.0241 - accuracy: 0.0107 - val_loss: 0.0181 - val_accuracy: 0.0000e+00\n",
            "Epoch 22/100\n",
            "10/10 [==============================] - 0s 6ms/step - loss: 0.0159 - accuracy: 0.0429 - val_loss: 0.0162 - val_accuracy: 0.0000e+00\n",
            "Epoch 23/100\n",
            "10/10 [==============================] - 0s 8ms/step - loss: 0.0190 - accuracy: 0.0089 - val_loss: 0.0145 - val_accuracy: 0.0000e+00\n",
            "Epoch 24/100\n",
            "10/10 [==============================] - 0s 7ms/step - loss: 0.0155 - accuracy: 0.0240 - val_loss: 0.0130 - val_accuracy: 0.0000e+00\n",
            "Epoch 25/100\n",
            "10/10 [==============================] - 0s 6ms/step - loss: 0.0134 - accuracy: 0.0221 - val_loss: 0.0118 - val_accuracy: 0.0000e+00\n",
            "Epoch 26/100\n",
            "10/10 [==============================] - 0s 7ms/step - loss: 0.0126 - accuracy: 0.0280 - val_loss: 0.0108 - val_accuracy: 0.0000e+00\n",
            "Epoch 27/100\n",
            "10/10 [==============================] - 0s 7ms/step - loss: 0.0117 - accuracy: 0.0480 - val_loss: 0.0098 - val_accuracy: 0.0000e+00\n",
            "Epoch 28/100\n",
            "10/10 [==============================] - 0s 7ms/step - loss: 0.0085 - accuracy: 0.0058 - val_loss: 0.0091 - val_accuracy: 0.0000e+00\n",
            "Epoch 29/100\n",
            "10/10 [==============================] - 0s 7ms/step - loss: 0.0105 - accuracy: 0.0253 - val_loss: 0.0084 - val_accuracy: 0.0000e+00\n",
            "Epoch 30/100\n",
            "10/10 [==============================] - 0s 7ms/step - loss: 0.0078 - accuracy: 0.0215 - val_loss: 0.0078 - val_accuracy: 0.0000e+00\n",
            "Epoch 31/100\n",
            "10/10 [==============================] - 0s 6ms/step - loss: 0.0087 - accuracy: 0.0240 - val_loss: 0.0072 - val_accuracy: 0.0000e+00\n",
            "Epoch 32/100\n",
            "10/10 [==============================] - 0s 6ms/step - loss: 0.0072 - accuracy: 0.0192 - val_loss: 0.0068 - val_accuracy: 0.0000e+00\n",
            "Epoch 33/100\n",
            "10/10 [==============================] - 0s 7ms/step - loss: 0.0090 - accuracy: 0.0132 - val_loss: 0.0063 - val_accuracy: 0.0000e+00\n",
            "Epoch 34/100\n",
            "10/10 [==============================] - 0s 7ms/step - loss: 0.0063 - accuracy: 0.0315 - val_loss: 0.0058 - val_accuracy: 0.0000e+00\n",
            "Epoch 35/100\n",
            "10/10 [==============================] - 0s 7ms/step - loss: 0.0061 - accuracy: 0.0058 - val_loss: 0.0055 - val_accuracy: 0.0000e+00\n",
            "Epoch 36/100\n",
            "10/10 [==============================] - 0s 7ms/step - loss: 0.0070 - accuracy: 0.0101 - val_loss: 0.0052 - val_accuracy: 0.0000e+00\n",
            "Epoch 37/100\n",
            "10/10 [==============================] - 0s 7ms/step - loss: 0.0075 - accuracy: 0.0688 - val_loss: 0.0048 - val_accuracy: 0.0000e+00\n",
            "Epoch 38/100\n",
            "10/10 [==============================] - 0s 7ms/step - loss: 0.0064 - accuracy: 0.0223 - val_loss: 0.0046 - val_accuracy: 0.0000e+00\n",
            "Epoch 39/100\n",
            "10/10 [==============================] - 0s 7ms/step - loss: 0.0066 - accuracy: 0.0221 - val_loss: 0.0043 - val_accuracy: 0.0000e+00\n",
            "Epoch 40/100\n",
            "10/10 [==============================] - 0s 7ms/step - loss: 0.0057 - accuracy: 0.0072 - val_loss: 0.0041 - val_accuracy: 0.0000e+00\n",
            "Epoch 41/100\n",
            "10/10 [==============================] - 0s 7ms/step - loss: 0.0037 - accuracy: 0.0089 - val_loss: 0.0039 - val_accuracy: 0.0000e+00\n",
            "Epoch 42/100\n",
            "10/10 [==============================] - 0s 7ms/step - loss: 0.0051 - accuracy: 0.0429 - val_loss: 0.0037 - val_accuracy: 0.0000e+00\n",
            "Epoch 43/100\n",
            "10/10 [==============================] - 0s 7ms/step - loss: 0.0048 - accuracy: 0.0310 - val_loss: 0.0034 - val_accuracy: 0.0000e+00\n",
            "Epoch 44/100\n",
            "10/10 [==============================] - 0s 7ms/step - loss: 0.0052 - accuracy: 0.0452 - val_loss: 0.0033 - val_accuracy: 0.0000e+00\n",
            "Epoch 45/100\n",
            "10/10 [==============================] - 0s 7ms/step - loss: 0.0043 - accuracy: 0.0367 - val_loss: 0.0031 - val_accuracy: 0.0000e+00\n",
            "Epoch 46/100\n",
            "10/10 [==============================] - 0s 7ms/step - loss: 0.0043 - accuracy: 0.0347 - val_loss: 0.0029 - val_accuracy: 0.0000e+00\n",
            "Epoch 47/100\n",
            "10/10 [==============================] - 0s 7ms/step - loss: 0.0038 - accuracy: 0.0281 - val_loss: 0.0028 - val_accuracy: 0.0000e+00\n",
            "Epoch 48/100\n",
            "10/10 [==============================] - 0s 7ms/step - loss: 0.0036 - accuracy: 0.0157 - val_loss: 0.0027 - val_accuracy: 0.0000e+00\n",
            "Epoch 49/100\n",
            "10/10 [==============================] - 0s 7ms/step - loss: 0.0042 - accuracy: 0.0480 - val_loss: 0.0025 - val_accuracy: 0.0000e+00\n",
            "Epoch 50/100\n",
            "10/10 [==============================] - 0s 7ms/step - loss: 0.0046 - accuracy: 0.0575 - val_loss: 0.0025 - val_accuracy: 0.0000e+00\n",
            "Epoch 51/100\n",
            "10/10 [==============================] - 0s 7ms/step - loss: 0.0027 - accuracy: 0.0258 - val_loss: 0.0023 - val_accuracy: 0.0000e+00\n",
            "Epoch 52/100\n",
            "10/10 [==============================] - 0s 7ms/step - loss: 0.0031 - accuracy: 0.0394 - val_loss: 0.0022 - val_accuracy: 0.0000e+00\n",
            "Epoch 53/100\n",
            "10/10 [==============================] - 0s 7ms/step - loss: 0.0019 - accuracy: 0.0221 - val_loss: 0.0021 - val_accuracy: 0.0000e+00\n",
            "Epoch 54/100\n",
            "10/10 [==============================] - 0s 7ms/step - loss: 0.0025 - accuracy: 0.0452 - val_loss: 0.0021 - val_accuracy: 0.0000e+00\n",
            "Epoch 55/100\n",
            "10/10 [==============================] - 0s 7ms/step - loss: 0.0026 - accuracy: 0.0280 - val_loss: 0.0020 - val_accuracy: 0.0000e+00\n",
            "Epoch 56/100\n",
            "10/10 [==============================] - 0s 7ms/step - loss: 0.0027 - accuracy: 0.0281 - val_loss: 0.0019 - val_accuracy: 0.0000e+00\n",
            "Epoch 57/100\n",
            "10/10 [==============================] - 0s 7ms/step - loss: 0.0030 - accuracy: 0.0394 - val_loss: 0.0018 - val_accuracy: 0.0000e+00\n",
            "Epoch 58/100\n",
            "10/10 [==============================] - 0s 7ms/step - loss: 0.0027 - accuracy: 0.0296 - val_loss: 0.0017 - val_accuracy: 0.0000e+00\n",
            "Epoch 59/100\n",
            "10/10 [==============================] - 0s 7ms/step - loss: 0.0019 - accuracy: 0.0221 - val_loss: 0.0016 - val_accuracy: 0.0000e+00\n",
            "Epoch 60/100\n",
            "10/10 [==============================] - 0s 7ms/step - loss: 0.0020 - accuracy: 0.0258 - val_loss: 0.0016 - val_accuracy: 0.0000e+00\n",
            "Epoch 61/100\n",
            "10/10 [==============================] - 0s 7ms/step - loss: 0.0020 - accuracy: 0.0089 - val_loss: 0.0015 - val_accuracy: 0.0000e+00\n",
            "Epoch 62/100\n",
            "10/10 [==============================] - 0s 7ms/step - loss: 0.0020 - accuracy: 0.0058 - val_loss: 0.0015 - val_accuracy: 0.0000e+00\n",
            "Epoch 63/100\n",
            "10/10 [==============================] - 0s 7ms/step - loss: 0.0023 - accuracy: 0.0085 - val_loss: 0.0014 - val_accuracy: 0.0000e+00\n",
            "Epoch 64/100\n",
            "10/10 [==============================] - 0s 6ms/step - loss: 0.0019 - accuracy: 0.0107 - val_loss: 0.0014 - val_accuracy: 0.0000e+00\n",
            "Epoch 65/100\n",
            "10/10 [==============================] - 0s 7ms/step - loss: 0.0017 - accuracy: 0.0107 - val_loss: 0.0013 - val_accuracy: 0.0000e+00\n",
            "Epoch 66/100\n",
            "10/10 [==============================] - 0s 6ms/step - loss: 0.0015 - accuracy: 0.0169 - val_loss: 0.0013 - val_accuracy: 0.0000e+00\n",
            "Epoch 67/100\n",
            "10/10 [==============================] - 0s 7ms/step - loss: 0.0020 - accuracy: 0.0688 - val_loss: 0.0012 - val_accuracy: 0.0000e+00\n",
            "Epoch 68/100\n",
            "10/10 [==============================] - 0s 7ms/step - loss: 0.0015 - accuracy: 0.0202 - val_loss: 0.0012 - val_accuracy: 0.0000e+00\n",
            "Epoch 69/100\n",
            "10/10 [==============================] - 0s 7ms/step - loss: 0.0018 - accuracy: 0.0404 - val_loss: 0.0012 - val_accuracy: 0.0000e+00\n",
            "Epoch 70/100\n",
            "10/10 [==============================] - 0s 7ms/step - loss: 0.0019 - accuracy: 0.0072 - val_loss: 0.0011 - val_accuracy: 0.0000e+00\n",
            "Epoch 71/100\n",
            "10/10 [==============================] - 0s 7ms/step - loss: 0.0016 - accuracy: 0.0258 - val_loss: 0.0011 - val_accuracy: 0.0000e+00\n",
            "Epoch 72/100\n",
            "10/10 [==============================] - 0s 7ms/step - loss: 0.0016 - accuracy: 0.0366 - val_loss: 0.0010 - val_accuracy: 0.0000e+00\n",
            "Epoch 73/100\n",
            "10/10 [==============================] - 0s 6ms/step - loss: 0.0011 - accuracy: 0.0380 - val_loss: 0.0010 - val_accuracy: 0.0000e+00\n",
            "Epoch 74/100\n",
            "10/10 [==============================] - 0s 6ms/step - loss: 0.0015 - accuracy: 0.0159 - val_loss: 9.8608e-04 - val_accuracy: 0.0000e+00\n",
            "Epoch 75/100\n",
            "10/10 [==============================] - 0s 7ms/step - loss: 0.0011 - accuracy: 0.0169 - val_loss: 9.4964e-04 - val_accuracy: 0.0000e+00\n",
            "Epoch 76/100\n",
            "10/10 [==============================] - 0s 7ms/step - loss: 0.0016 - accuracy: 0.0461 - val_loss: 9.3452e-04 - val_accuracy: 0.0000e+00\n",
            "Epoch 77/100\n",
            "10/10 [==============================] - 0s 7ms/step - loss: 0.0012 - accuracy: 0.0072 - val_loss: 8.8781e-04 - val_accuracy: 0.0000e+00\n",
            "Epoch 78/100\n",
            "10/10 [==============================] - 0s 7ms/step - loss: 0.0012 - accuracy: 0.0185 - val_loss: 8.6661e-04 - val_accuracy: 0.0000e+00\n",
            "Epoch 79/100\n",
            "10/10 [==============================] - 0s 7ms/step - loss: 0.0014 - accuracy: 0.0688 - val_loss: 8.4400e-04 - val_accuracy: 0.0000e+00\n",
            "Epoch 80/100\n",
            "10/10 [==============================] - 0s 7ms/step - loss: 0.0012 - accuracy: 0.0223 - val_loss: 8.2141e-04 - val_accuracy: 0.0000e+00\n",
            "Epoch 81/100\n",
            "10/10 [==============================] - 0s 7ms/step - loss: 0.0013 - accuracy: 0.0410 - val_loss: 7.8780e-04 - val_accuracy: 0.0000e+00\n",
            "Epoch 82/100\n",
            "10/10 [==============================] - 0s 6ms/step - loss: 0.0011 - accuracy: 0.0089 - val_loss: 7.7026e-04 - val_accuracy: 0.0000e+00\n",
            "Epoch 83/100\n",
            "10/10 [==============================] - 0s 7ms/step - loss: 0.0014 - accuracy: 0.0347 - val_loss: 7.6378e-04 - val_accuracy: 0.0000e+00\n",
            "Epoch 84/100\n",
            "10/10 [==============================] - 0s 7ms/step - loss: 0.0012 - accuracy: 0.0196 - val_loss: 7.2434e-04 - val_accuracy: 0.0000e+00\n",
            "Epoch 85/100\n",
            "10/10 [==============================] - 0s 7ms/step - loss: 9.0587e-04 - accuracy: 0.0209 - val_loss: 7.1016e-04 - val_accuracy: 0.0000e+00\n",
            "Epoch 86/100\n",
            "10/10 [==============================] - 0s 7ms/step - loss: 0.0011 - accuracy: 0.0480 - val_loss: 6.8821e-04 - val_accuracy: 0.0000e+00\n",
            "Epoch 87/100\n",
            "10/10 [==============================] - 0s 7ms/step - loss: 7.0911e-04 - accuracy: 0.0071 - val_loss: 6.6742e-04 - val_accuracy: 0.0000e+00\n",
            "Epoch 88/100\n",
            "10/10 [==============================] - 0s 8ms/step - loss: 8.7600e-04 - accuracy: 0.0085 - val_loss: 6.5833e-04 - val_accuracy: 0.0000e+00\n",
            "Epoch 89/100\n",
            "10/10 [==============================] - 0s 8ms/step - loss: 9.9347e-04 - accuracy: 0.0258 - val_loss: 6.4022e-04 - val_accuracy: 0.0000e+00\n",
            "Epoch 90/100\n",
            "10/10 [==============================] - 0s 7ms/step - loss: 0.0011 - accuracy: 0.0196 - val_loss: 6.2153e-04 - val_accuracy: 0.0000e+00\n",
            "Epoch 91/100\n",
            "10/10 [==============================] - 0s 7ms/step - loss: 9.8989e-04 - accuracy: 0.0072 - val_loss: 5.9740e-04 - val_accuracy: 0.0000e+00\n",
            "Epoch 92/100\n",
            "10/10 [==============================] - 0s 7ms/step - loss: 8.7334e-04 - accuracy: 0.0518 - val_loss: 5.9025e-04 - val_accuracy: 0.0000e+00\n",
            "Epoch 93/100\n",
            "10/10 [==============================] - 0s 7ms/step - loss: 9.9338e-04 - accuracy: 0.0115 - val_loss: 5.7252e-04 - val_accuracy: 0.0000e+00\n",
            "Epoch 94/100\n",
            "10/10 [==============================] - 0s 7ms/step - loss: 8.2327e-04 - accuracy: 0.0072 - val_loss: 5.5507e-04 - val_accuracy: 0.0000e+00\n",
            "Epoch 95/100\n",
            "10/10 [==============================] - 0s 8ms/step - loss: 7.4723e-04 - accuracy: 0.0192 - val_loss: 5.4619e-04 - val_accuracy: 0.0000e+00\n",
            "Epoch 96/100\n",
            "10/10 [==============================] - 0s 8ms/step - loss: 7.1891e-04 - accuracy: 0.0253 - val_loss: 5.3143e-04 - val_accuracy: 0.0000e+00\n",
            "Epoch 97/100\n",
            "10/10 [==============================] - 0s 7ms/step - loss: 8.2653e-04 - accuracy: 0.0410 - val_loss: 5.2126e-04 - val_accuracy: 0.0000e+00\n",
            "Epoch 98/100\n",
            "10/10 [==============================] - 0s 7ms/step - loss: 6.9297e-04 - accuracy: 0.0099 - val_loss: 5.0670e-04 - val_accuracy: 0.0000e+00\n",
            "Epoch 99/100\n",
            "10/10 [==============================] - 0s 7ms/step - loss: 6.1468e-04 - accuracy: 0.0101 - val_loss: 5.0150e-04 - val_accuracy: 0.0000e+00\n",
            "Epoch 100/100\n",
            "10/10 [==============================] - 0s 7ms/step - loss: 6.5935e-04 - accuracy: 0.0338 - val_loss: 4.8144e-04 - val_accuracy: 0.0000e+00\n"
          ],
          "name": "stdout"
        }
      ]
    },
    {
      "cell_type": "code",
      "metadata": {
        "colab": {
          "base_uri": "https://localhost:8080/"
        },
        "id": "ZTnEg83BONgr",
        "outputId": "9abe4cb7-7874-42f6-f868-e120f06d719c"
      },
      "source": [
        "y_hat = model_2.predict(X_test)"
      ],
      "execution_count": 91,
      "outputs": [
        {
          "output_type": "stream",
          "text": [
            "WARNING:tensorflow:11 out of the last 11 calls to <function Model.make_predict_function.<locals>.predict_function at 0x7fc7e9b8c830> triggered tf.function retracing. Tracing is expensive and the excessive number of tracings could be due to (1) creating @tf.function repeatedly in a loop, (2) passing tensors with different shapes, (3) passing Python objects instead of tensors. For (1), please define your @tf.function outside of the loop. For (2), @tf.function has experimental_relax_shapes=True option that relaxes argument shapes that can avoid unnecessary retracing. For (3), please refer to https://www.tensorflow.org/guide/function#controlling_retracing and https://www.tensorflow.org/api_docs/python/tf/function for  more details.\n"
          ],
          "name": "stdout"
        }
      ]
    },
    {
      "cell_type": "markdown",
      "metadata": {
        "id": "4gyhKDPjORWC"
      },
      "source": [
        "#### (2) Visualization\n",
        "- Loss 감소"
      ]
    },
    {
      "cell_type": "code",
      "metadata": {
        "colab": {
          "base_uri": "https://localhost:8080/",
          "height": 265
        },
        "id": "ok3l51N2OQlE",
        "outputId": "5933a90f-d31d-4372-e779-a0f704e5b839"
      },
      "source": [
        "plt.plot(Hist_2.history['loss'])\n",
        "plt.show()"
      ],
      "execution_count": 92,
      "outputs": [
        {
          "output_type": "display_data",
          "data": {
            "image/png": "[encoded data removed]",
            "text/plain": [
              "<Figure size 432x288 with 1 Axes>"
            ]
          },
          "metadata": {
            "tags": [],
            "needs_background": "light"
          }
        }
      ]
    },
    {
      "cell_type": "markdown",
      "metadata": {
        "id": "TjjMFkCqOYw7"
      },
      "source": [
        "- 학습 진행\n",
        "  - y_test: green\n",
        "  - y_hat: red"
      ]
    },
    {
      "cell_type": "code",
      "metadata": {
        "colab": {
          "base_uri": "https://localhost:8080/",
          "height": 265
        },
        "id": "TTGn6iDwOYLH",
        "outputId": "b8eeedac-caf7-4df8-ba63-81c33cea4d8d"
      },
      "source": [
        "plt.scatter(range(20), y_hat, c = 'r')\n",
        "plt.scatter(range(20), y_test, c = 'g')\n",
        "plt.show()"
      ],
      "execution_count": 93,
      "outputs": [
        {
          "output_type": "display_data",
          "data": {
            "image/png": "[encoded data removed]",
            "text/plain": [
              "<Figure size 432x288 with 1 Axes>"
            ]
          },
          "metadata": {
            "tags": [],
            "needs_background": "light"
          }
        }
      ]
    },
    {
      "cell_type": "markdown",
      "metadata": {
        "id": "Mvv6_M5LOieO"
      },
      "source": [
        "## 3. Stacked SimpleRNN - without Normalization"
      ]
    },
    {
      "cell_type": "markdown",
      "metadata": {
        "id": "ox3V1RWhOk2c"
      },
      "source": [
        "- return_sequences = True\n",
        "- stack을 쌓을 때는 반드시 True로 지정하고 output-input 크기를 맞춰줘야 함\n",
        "- Normalization을 하지 않으면 Stacked RNN도 학습되지 않음\n",
        "- 쌓으면 성능이 좋아지는가? 해봐야 안다(하이퍼 파라미터)\n",
        "- 하나의 레이어만 쓰는 것이 일반적"
      ]
    },
    {
      "cell_type": "code",
      "metadata": {
        "id": "8A1crOtfOhPo"
      },
      "source": [
        "model_3 = models.Sequential(name = 'Stacked_RNN')\n",
        "\n",
        "model_3.add(layers.SimpleRNN(3,\n",
        "                             input_shape = (None, 1),\n",
        "                             return_sequences = True))\n",
        "                             # output이 각각 나오도록 지정해줘야 함 \n",
        "model_3.add(layers.SimpleRNN(3,\n",
        "                             input_shape = (None, 1),\n",
        "                             return_sequences = False))\n",
        "model_3.add(layers.Dense(1))"
      ],
      "execution_count": 38,
      "outputs": []
    },
    {
      "cell_type": "code",
      "metadata": {
        "colab": {
          "base_uri": "https://localhost:8080/"
        },
        "id": "WosxxZdsO7rq",
        "outputId": "867081cf-c8f4-48a2-ce9e-a8545ff9780e"
      },
      "source": [
        "model_3.summary()"
      ],
      "execution_count": 39,
      "outputs": [
        {
          "output_type": "stream",
          "text": [
            "Model: \"Stacked_RNN\"\n",
            "_________________________________________________________________\n",
            "Layer (type)                 Output Shape              Param #   \n",
            "=================================================================\n",
            "simple_rnn_4 (SimpleRNN)     (None, None, 3)           15        \n",
            "_________________________________________________________________\n",
            "simple_rnn_5 (SimpleRNN)     (None, 3)                 21        \n",
            "_________________________________________________________________\n",
            "dense_3 (Dense)              (None, 1)                 4         \n",
            "=================================================================\n",
            "Total params: 40\n",
            "Trainable params: 40\n",
            "Non-trainable params: 0\n",
            "_________________________________________________________________\n"
          ],
          "name": "stdout"
        }
      ]
    },
    {
      "cell_type": "code",
      "metadata": {
        "id": "ON9MNMNcO8eZ"
      },
      "source": [
        "model_3.compile(loss = 'mse',\n",
        "                optimizer = 'adam',\n",
        "                metrics = ['accuracy'])"
      ],
      "execution_count": 40,
      "outputs": []
    },
    {
      "cell_type": "code",
      "metadata": {
        "colab": {
          "base_uri": "https://localhost:8080/"
        },
        "id": "PivFqTgSPDhg",
        "outputId": "3588b87c-8310-4b54-a107-7dbdc70f2b4a"
      },
      "source": [
        "Hist_3 = model_3.fit(X_train, y_train,\n",
        "                     epochs = 100,\n",
        "                     batch_size = 8,\n",
        "                     validation_data = (X_test, y_test))"
      ],
      "execution_count": 41,
      "outputs": [
        {
          "output_type": "stream",
          "text": [
            "Epoch 1/100\n",
            "10/10 [==============================] - 2s 44ms/step - loss: 3733.9592 - accuracy: 0.0000e+00 - val_loss: 3643.6946 - val_accuracy: 0.0000e+00\n",
            "Epoch 2/100\n",
            "10/10 [==============================] - 0s 8ms/step - loss: 3525.0781 - accuracy: 0.0000e+00 - val_loss: 3636.2544 - val_accuracy: 0.0000e+00\n",
            "Epoch 3/100\n",
            "10/10 [==============================] - 0s 8ms/step - loss: 3858.5233 - accuracy: 0.0000e+00 - val_loss: 3629.7656 - val_accuracy: 0.0000e+00\n",
            "Epoch 4/100\n",
            "10/10 [==============================] - 0s 9ms/step - loss: 3384.3556 - accuracy: 0.0000e+00 - val_loss: 3623.7944 - val_accuracy: 0.0000e+00\n",
            "Epoch 5/100\n",
            "10/10 [==============================] - 0s 9ms/step - loss: 3660.6260 - accuracy: 0.0000e+00 - val_loss: 3617.9126 - val_accuracy: 0.0000e+00\n",
            "Epoch 6/100\n",
            "10/10 [==============================] - 0s 8ms/step - loss: 3683.7516 - accuracy: 0.0000e+00 - val_loss: 3612.0366 - val_accuracy: 0.0000e+00\n",
            "Epoch 7/100\n",
            "10/10 [==============================] - 0s 8ms/step - loss: 3526.5095 - accuracy: 0.0000e+00 - val_loss: 3606.3091 - val_accuracy: 0.0000e+00\n",
            "Epoch 8/100\n",
            "10/10 [==============================] - 0s 9ms/step - loss: 3599.3760 - accuracy: 0.0000e+00 - val_loss: 3600.6265 - val_accuracy: 0.0000e+00\n",
            "Epoch 9/100\n",
            "10/10 [==============================] - 0s 8ms/step - loss: 3540.3286 - accuracy: 0.0000e+00 - val_loss: 3595.0103 - val_accuracy: 0.0000e+00\n",
            "Epoch 10/100\n",
            "10/10 [==============================] - 0s 10ms/step - loss: 3823.3849 - accuracy: 0.0000e+00 - val_loss: 3589.4883 - val_accuracy: 0.0000e+00\n",
            "Epoch 11/100\n",
            "10/10 [==============================] - 0s 7ms/step - loss: 3234.8157 - accuracy: 0.0000e+00 - val_loss: 3584.0913 - val_accuracy: 0.0000e+00\n",
            "Epoch 12/100\n",
            "10/10 [==============================] - 0s 8ms/step - loss: 3141.7868 - accuracy: 0.0000e+00 - val_loss: 3578.8052 - val_accuracy: 0.0000e+00\n",
            "Epoch 13/100\n",
            "10/10 [==============================] - 0s 8ms/step - loss: 3638.2888 - accuracy: 0.0000e+00 - val_loss: 3573.4565 - val_accuracy: 0.0000e+00\n",
            "Epoch 14/100\n",
            "10/10 [==============================] - 0s 8ms/step - loss: 3604.0366 - accuracy: 0.0000e+00 - val_loss: 3568.3157 - val_accuracy: 0.0000e+00\n",
            "Epoch 15/100\n",
            "10/10 [==============================] - 0s 8ms/step - loss: 3717.3012 - accuracy: 0.0000e+00 - val_loss: 3563.2000 - val_accuracy: 0.0000e+00\n",
            "Epoch 16/100\n",
            "10/10 [==============================] - 0s 8ms/step - loss: 3808.4193 - accuracy: 0.0000e+00 - val_loss: 3558.1040 - val_accuracy: 0.0000e+00\n",
            "Epoch 17/100\n",
            "10/10 [==============================] - 0s 7ms/step - loss: 3287.0603 - accuracy: 0.0000e+00 - val_loss: 3553.1921 - val_accuracy: 0.0000e+00\n",
            "Epoch 18/100\n",
            "10/10 [==============================] - 0s 7ms/step - loss: 3278.3998 - accuracy: 0.0000e+00 - val_loss: 3548.3306 - val_accuracy: 0.0000e+00\n",
            "Epoch 19/100\n",
            "10/10 [==============================] - 0s 8ms/step - loss: 3811.1409 - accuracy: 0.0000e+00 - val_loss: 3543.4062 - val_accuracy: 0.0000e+00\n",
            "Epoch 20/100\n",
            "10/10 [==============================] - 0s 8ms/step - loss: 3529.9501 - accuracy: 0.0000e+00 - val_loss: 3538.6216 - val_accuracy: 0.0000e+00\n",
            "Epoch 21/100\n",
            "10/10 [==============================] - 0s 8ms/step - loss: 3946.8436 - accuracy: 0.0000e+00 - val_loss: 3533.7864 - val_accuracy: 0.0000e+00\n",
            "Epoch 22/100\n",
            "10/10 [==============================] - 0s 8ms/step - loss: 3295.1951 - accuracy: 0.0000e+00 - val_loss: 3529.1516 - val_accuracy: 0.0000e+00\n",
            "Epoch 23/100\n",
            "10/10 [==============================] - 0s 9ms/step - loss: 3101.0058 - accuracy: 0.0000e+00 - val_loss: 3524.5078 - val_accuracy: 0.0000e+00\n",
            "Epoch 24/100\n",
            "10/10 [==============================] - 0s 8ms/step - loss: 3715.9350 - accuracy: 0.0000e+00 - val_loss: 3519.8098 - val_accuracy: 0.0000e+00\n",
            "Epoch 25/100\n",
            "10/10 [==============================] - 0s 8ms/step - loss: 3696.0803 - accuracy: 0.0000e+00 - val_loss: 3515.1616 - val_accuracy: 0.0000e+00\n",
            "Epoch 26/100\n",
            "10/10 [==============================] - 0s 8ms/step - loss: 3518.4182 - accuracy: 0.0000e+00 - val_loss: 3510.5266 - val_accuracy: 0.0000e+00\n",
            "Epoch 27/100\n",
            "10/10 [==============================] - 0s 8ms/step - loss: 3496.8125 - accuracy: 0.0000e+00 - val_loss: 3506.0352 - val_accuracy: 0.0000e+00\n",
            "Epoch 28/100\n",
            "10/10 [==============================] - 0s 8ms/step - loss: 3506.2215 - accuracy: 0.0000e+00 - val_loss: 3501.4954 - val_accuracy: 0.0000e+00\n",
            "Epoch 29/100\n",
            "10/10 [==============================] - 0s 9ms/step - loss: 3555.1232 - accuracy: 0.0000e+00 - val_loss: 3496.9675 - val_accuracy: 0.0000e+00\n",
            "Epoch 30/100\n",
            "10/10 [==============================] - 0s 8ms/step - loss: 3271.1885 - accuracy: 0.0000e+00 - val_loss: 3492.5410 - val_accuracy: 0.0000e+00\n",
            "Epoch 31/100\n",
            "10/10 [==============================] - 0s 7ms/step - loss: 3545.7865 - accuracy: 0.0000e+00 - val_loss: 3488.0168 - val_accuracy: 0.0000e+00\n",
            "Epoch 32/100\n",
            "10/10 [==============================] - 0s 8ms/step - loss: 3430.0738 - accuracy: 0.0000e+00 - val_loss: 3483.5542 - val_accuracy: 0.0000e+00\n",
            "Epoch 33/100\n",
            "10/10 [==============================] - 0s 9ms/step - loss: 3590.3084 - accuracy: 0.0000e+00 - val_loss: 3479.1001 - val_accuracy: 0.0000e+00\n",
            "Epoch 34/100\n",
            "10/10 [==============================] - 0s 8ms/step - loss: 3397.5067 - accuracy: 0.0000e+00 - val_loss: 3474.7134 - val_accuracy: 0.0000e+00\n",
            "Epoch 35/100\n",
            "10/10 [==============================] - 0s 8ms/step - loss: 4020.1254 - accuracy: 0.0000e+00 - val_loss: 3470.2397 - val_accuracy: 0.0000e+00\n",
            "Epoch 36/100\n",
            "10/10 [==============================] - 0s 8ms/step - loss: 3936.2970 - accuracy: 0.0000e+00 - val_loss: 3465.8235 - val_accuracy: 0.0000e+00\n",
            "Epoch 37/100\n",
            "10/10 [==============================] - 0s 7ms/step - loss: 2977.5893 - accuracy: 0.0000e+00 - val_loss: 3461.6277 - val_accuracy: 0.0000e+00\n",
            "Epoch 38/100\n",
            "10/10 [==============================] - 0s 8ms/step - loss: 2854.6991 - accuracy: 0.0000e+00 - val_loss: 3457.3074 - val_accuracy: 0.0000e+00\n",
            "Epoch 39/100\n",
            "10/10 [==============================] - 0s 8ms/step - loss: 3288.1672 - accuracy: 0.0000e+00 - val_loss: 3452.9087 - val_accuracy: 0.0000e+00\n",
            "Epoch 40/100\n",
            "10/10 [==============================] - 0s 8ms/step - loss: 3655.3648 - accuracy: 0.0000e+00 - val_loss: 3448.4993 - val_accuracy: 0.0000e+00\n",
            "Epoch 41/100\n",
            "10/10 [==============================] - 0s 8ms/step - loss: 3485.5504 - accuracy: 0.0000e+00 - val_loss: 3444.1692 - val_accuracy: 0.0000e+00\n",
            "Epoch 42/100\n",
            "10/10 [==============================] - 0s 8ms/step - loss: 3288.1913 - accuracy: 0.0000e+00 - val_loss: 3439.9336 - val_accuracy: 0.0000e+00\n",
            "Epoch 43/100\n",
            "10/10 [==============================] - 0s 8ms/step - loss: 3807.6694 - accuracy: 0.0000e+00 - val_loss: 3435.5854 - val_accuracy: 0.0000e+00\n",
            "Epoch 44/100\n",
            "10/10 [==============================] - 0s 8ms/step - loss: 3499.9759 - accuracy: 0.0000e+00 - val_loss: 3431.3242 - val_accuracy: 0.0000e+00\n",
            "Epoch 45/100\n",
            "10/10 [==============================] - 0s 8ms/step - loss: 3455.1172 - accuracy: 0.0000e+00 - val_loss: 3427.0637 - val_accuracy: 0.0000e+00\n",
            "Epoch 46/100\n",
            "10/10 [==============================] - 0s 7ms/step - loss: 3809.8165 - accuracy: 0.0000e+00 - val_loss: 3422.7944 - val_accuracy: 0.0000e+00\n",
            "Epoch 47/100\n",
            "10/10 [==============================] - 0s 8ms/step - loss: 3435.4927 - accuracy: 0.0000e+00 - val_loss: 3418.6001 - val_accuracy: 0.0000e+00\n",
            "Epoch 48/100\n",
            "10/10 [==============================] - 0s 10ms/step - loss: 3141.6473 - accuracy: 0.0000e+00 - val_loss: 3414.4399 - val_accuracy: 0.0000e+00\n",
            "Epoch 49/100\n",
            "10/10 [==============================] - 0s 8ms/step - loss: 3543.7128 - accuracy: 0.0000e+00 - val_loss: 3410.1829 - val_accuracy: 0.0000e+00\n",
            "Epoch 50/100\n",
            "10/10 [==============================] - 0s 8ms/step - loss: 3504.0891 - accuracy: 0.0000e+00 - val_loss: 3405.9656 - val_accuracy: 0.0000e+00\n",
            "Epoch 51/100\n",
            "10/10 [==============================] - 0s 8ms/step - loss: 3242.5138 - accuracy: 0.0000e+00 - val_loss: 3401.7629 - val_accuracy: 0.0000e+00\n",
            "Epoch 52/100\n",
            "10/10 [==============================] - 0s 8ms/step - loss: 3242.7276 - accuracy: 0.0000e+00 - val_loss: 3397.5735 - val_accuracy: 0.0000e+00\n",
            "Epoch 53/100\n",
            "10/10 [==============================] - 0s 8ms/step - loss: 3272.3582 - accuracy: 0.0000e+00 - val_loss: 3393.4243 - val_accuracy: 0.0000e+00\n",
            "Epoch 54/100\n",
            "10/10 [==============================] - 0s 8ms/step - loss: 3224.3322 - accuracy: 0.0000e+00 - val_loss: 3389.2234 - val_accuracy: 0.0000e+00\n",
            "Epoch 55/100\n",
            "10/10 [==============================] - 0s 8ms/step - loss: 2918.6180 - accuracy: 0.0000e+00 - val_loss: 3385.1069 - val_accuracy: 0.0000e+00\n",
            "Epoch 56/100\n",
            "10/10 [==============================] - 0s 8ms/step - loss: 3621.1816 - accuracy: 0.0000e+00 - val_loss: 3380.8782 - val_accuracy: 0.0000e+00\n",
            "Epoch 57/100\n",
            "10/10 [==============================] - 0s 8ms/step - loss: 3677.9377 - accuracy: 0.0000e+00 - val_loss: 3376.7046 - val_accuracy: 0.0000e+00\n",
            "Epoch 58/100\n",
            "10/10 [==============================] - 0s 8ms/step - loss: 3974.8053 - accuracy: 0.0000e+00 - val_loss: 3372.5007 - val_accuracy: 0.0000e+00\n",
            "Epoch 59/100\n",
            "10/10 [==============================] - 0s 8ms/step - loss: 3717.9467 - accuracy: 0.0000e+00 - val_loss: 3368.3813 - val_accuracy: 0.0000e+00\n",
            "Epoch 60/100\n",
            "10/10 [==============================] - 0s 8ms/step - loss: 3379.0989 - accuracy: 0.0000e+00 - val_loss: 3364.3452 - val_accuracy: 0.0000e+00\n",
            "Epoch 61/100\n",
            "10/10 [==============================] - 0s 8ms/step - loss: 3317.4569 - accuracy: 0.0000e+00 - val_loss: 3360.2664 - val_accuracy: 0.0000e+00\n",
            "Epoch 62/100\n",
            "10/10 [==============================] - 0s 8ms/step - loss: 3178.2563 - accuracy: 0.0000e+00 - val_loss: 3356.1626 - val_accuracy: 0.0000e+00\n",
            "Epoch 63/100\n",
            "10/10 [==============================] - 0s 8ms/step - loss: 3449.5799 - accuracy: 0.0000e+00 - val_loss: 3352.0376 - val_accuracy: 0.0000e+00\n",
            "Epoch 64/100\n",
            "10/10 [==============================] - 0s 9ms/step - loss: 3418.5367 - accuracy: 0.0000e+00 - val_loss: 3347.9204 - val_accuracy: 0.0000e+00\n",
            "Epoch 65/100\n",
            "10/10 [==============================] - 0s 8ms/step - loss: 3575.9765 - accuracy: 0.0000e+00 - val_loss: 3343.7957 - val_accuracy: 0.0000e+00\n",
            "Epoch 66/100\n",
            "10/10 [==============================] - 0s 8ms/step - loss: 2729.7714 - accuracy: 0.0000e+00 - val_loss: 3339.8540 - val_accuracy: 0.0000e+00\n",
            "Epoch 67/100\n",
            "10/10 [==============================] - 0s 8ms/step - loss: 3779.6693 - accuracy: 0.0000e+00 - val_loss: 3335.6335 - val_accuracy: 0.0000e+00\n",
            "Epoch 68/100\n",
            "10/10 [==============================] - 0s 8ms/step - loss: 3338.9651 - accuracy: 0.0000e+00 - val_loss: 3331.6274 - val_accuracy: 0.0000e+00\n",
            "Epoch 69/100\n",
            "10/10 [==============================] - 0s 8ms/step - loss: 3601.3568 - accuracy: 0.0000e+00 - val_loss: 3327.5259 - val_accuracy: 0.0000e+00\n",
            "Epoch 70/100\n",
            "10/10 [==============================] - 0s 8ms/step - loss: 2928.9371 - accuracy: 0.0000e+00 - val_loss: 3323.5586 - val_accuracy: 0.0000e+00\n",
            "Epoch 71/100\n",
            "10/10 [==============================] - 0s 9ms/step - loss: 3501.7261 - accuracy: 0.0000e+00 - val_loss: 3319.4961 - val_accuracy: 0.0000e+00\n",
            "Epoch 72/100\n",
            "10/10 [==============================] - 0s 8ms/step - loss: 3682.0356 - accuracy: 0.0000e+00 - val_loss: 3315.4238 - val_accuracy: 0.0000e+00\n",
            "Epoch 73/100\n",
            "10/10 [==============================] - 0s 8ms/step - loss: 3231.7797 - accuracy: 0.0000e+00 - val_loss: 3311.3804 - val_accuracy: 0.0000e+00\n",
            "Epoch 74/100\n",
            "10/10 [==============================] - 0s 9ms/step - loss: 3557.0283 - accuracy: 0.0000e+00 - val_loss: 3307.3586 - val_accuracy: 0.0000e+00\n",
            "Epoch 75/100\n",
            "10/10 [==============================] - 0s 8ms/step - loss: 3244.0108 - accuracy: 0.0000e+00 - val_loss: 3303.4023 - val_accuracy: 0.0000e+00\n",
            "Epoch 76/100\n",
            "10/10 [==============================] - 0s 8ms/step - loss: 3100.8631 - accuracy: 0.0000e+00 - val_loss: 3299.4492 - val_accuracy: 0.0000e+00\n",
            "Epoch 77/100\n",
            "10/10 [==============================] - 0s 8ms/step - loss: 3770.7977 - accuracy: 0.0000e+00 - val_loss: 3295.3711 - val_accuracy: 0.0000e+00\n",
            "Epoch 78/100\n",
            "10/10 [==============================] - 0s 8ms/step - loss: 3219.6308 - accuracy: 0.0000e+00 - val_loss: 3291.3940 - val_accuracy: 0.0000e+00\n",
            "Epoch 79/100\n",
            "10/10 [==============================] - 0s 8ms/step - loss: 3233.1015 - accuracy: 0.0000e+00 - val_loss: 3287.4446 - val_accuracy: 0.0000e+00\n",
            "Epoch 80/100\n",
            "10/10 [==============================] - 0s 8ms/step - loss: 3676.6993 - accuracy: 0.0000e+00 - val_loss: 3283.3762 - val_accuracy: 0.0000e+00\n",
            "Epoch 81/100\n",
            "10/10 [==============================] - 0s 9ms/step - loss: 3255.4691 - accuracy: 0.0000e+00 - val_loss: 3279.4895 - val_accuracy: 0.0000e+00\n",
            "Epoch 82/100\n",
            "10/10 [==============================] - 0s 8ms/step - loss: 3676.8445 - accuracy: 0.0000e+00 - val_loss: 3275.4653 - val_accuracy: 0.0000e+00\n",
            "Epoch 83/100\n",
            "10/10 [==============================] - 0s 8ms/step - loss: 3369.9043 - accuracy: 0.0000e+00 - val_loss: 3271.4937 - val_accuracy: 0.0000e+00\n",
            "Epoch 84/100\n",
            "10/10 [==============================] - 0s 9ms/step - loss: 3046.8688 - accuracy: 0.0000e+00 - val_loss: 3267.6206 - val_accuracy: 0.0000e+00\n",
            "Epoch 85/100\n",
            "10/10 [==============================] - 0s 9ms/step - loss: 3269.2386 - accuracy: 0.0000e+00 - val_loss: 3263.6624 - val_accuracy: 0.0000e+00\n",
            "Epoch 86/100\n",
            "10/10 [==============================] - 0s 8ms/step - loss: 3333.2302 - accuracy: 0.0000e+00 - val_loss: 3259.7170 - val_accuracy: 0.0000e+00\n",
            "Epoch 87/100\n",
            "10/10 [==============================] - 0s 8ms/step - loss: 3307.4015 - accuracy: 0.0000e+00 - val_loss: 3255.7908 - val_accuracy: 0.0000e+00\n",
            "Epoch 88/100\n",
            "10/10 [==============================] - 0s 8ms/step - loss: 3470.3669 - accuracy: 0.0000e+00 - val_loss: 3251.7961 - val_accuracy: 0.0000e+00\n",
            "Epoch 89/100\n",
            "10/10 [==============================] - 0s 9ms/step - loss: 3193.7150 - accuracy: 0.0000e+00 - val_loss: 3247.9131 - val_accuracy: 0.0000e+00\n",
            "Epoch 90/100\n",
            "10/10 [==============================] - 0s 8ms/step - loss: 3153.9471 - accuracy: 0.0000e+00 - val_loss: 3244.0122 - val_accuracy: 0.0000e+00\n",
            "Epoch 91/100\n",
            "10/10 [==============================] - 0s 8ms/step - loss: 3120.4746 - accuracy: 0.0000e+00 - val_loss: 3240.1292 - val_accuracy: 0.0000e+00\n",
            "Epoch 92/100\n",
            "10/10 [==============================] - 0s 8ms/step - loss: 2805.7426 - accuracy: 0.0000e+00 - val_loss: 3236.2756 - val_accuracy: 0.0000e+00\n",
            "Epoch 93/100\n",
            "10/10 [==============================] - 0s 8ms/step - loss: 3624.0944 - accuracy: 0.0000e+00 - val_loss: 3232.2583 - val_accuracy: 0.0000e+00\n",
            "Epoch 94/100\n",
            "10/10 [==============================] - 0s 9ms/step - loss: 3924.2425 - accuracy: 0.0000e+00 - val_loss: 3228.2888 - val_accuracy: 0.0000e+00\n",
            "Epoch 95/100\n",
            "10/10 [==============================] - 0s 8ms/step - loss: 3075.3970 - accuracy: 0.0000e+00 - val_loss: 3224.4956 - val_accuracy: 0.0000e+00\n",
            "Epoch 96/100\n",
            "10/10 [==============================] - 0s 9ms/step - loss: 3142.7991 - accuracy: 0.0000e+00 - val_loss: 3220.6672 - val_accuracy: 0.0000e+00\n",
            "Epoch 97/100\n",
            "10/10 [==============================] - 0s 8ms/step - loss: 3436.9732 - accuracy: 0.0000e+00 - val_loss: 3216.6665 - val_accuracy: 0.0000e+00\n",
            "Epoch 98/100\n",
            "10/10 [==============================] - 0s 8ms/step - loss: 3589.5532 - accuracy: 0.0000e+00 - val_loss: 3212.7617 - val_accuracy: 0.0000e+00\n",
            "Epoch 99/100\n",
            "10/10 [==============================] - 0s 8ms/step - loss: 3133.4112 - accuracy: 0.0000e+00 - val_loss: 3209.0098 - val_accuracy: 0.0000e+00\n",
            "Epoch 100/100\n",
            "10/10 [==============================] - 0s 8ms/step - loss: 3183.7723 - accuracy: 0.0000e+00 - val_loss: 3205.1714 - val_accuracy: 0.0000e+00\n"
          ],
          "name": "stdout"
        }
      ]
    },
    {
      "cell_type": "code",
      "metadata": {
        "id": "EbSSbh4pPJfB"
      },
      "source": [
        "y_hat = model_3.predict(X_test)"
      ],
      "execution_count": 42,
      "outputs": []
    },
    {
      "cell_type": "code",
      "metadata": {
        "colab": {
          "base_uri": "https://localhost:8080/",
          "height": 265
        },
        "id": "FfQowwZoPMAd",
        "outputId": "a5331ceb-19c8-4e41-8e7d-cbd380b80423"
      },
      "source": [
        "plt.plot(Hist_3.history['loss'])\n",
        "plt.show()"
      ],
      "execution_count": 43,
      "outputs": [
        {
          "output_type": "display_data",
          "data": {
            "image/png": "[encoded data removed]",
            "text/plain": [
              "<Figure size 432x288 with 1 Axes>"
            ]
          },
          "metadata": {
            "tags": [],
            "needs_background": "light"
          }
        }
      ]
    },
    {
      "cell_type": "code",
      "metadata": {
        "colab": {
          "base_uri": "https://localhost:8080/",
          "height": 282
        },
        "id": "ziEBPkGPPOlJ",
        "outputId": "a838b64d-0985-4c9c-a791-aabd04e28cfc"
      },
      "source": [
        "plt.scatter(range(20), y_hat, c = 'r')\n",
        "plt.scatter(range(20), y_test, c = 'g')"
      ],
      "execution_count": 44,
      "outputs": [
        {
          "output_type": "execute_result",
          "data": {
            "text/plain": [
              "<matplotlib.collections.PathCollection at 0x7fc7ec259d50>"
            ]
          },
          "metadata": {
            "tags": []
          },
          "execution_count": 44
        },
        {
          "output_type": "display_data",
          "data": {
            "image/png": "[encoded data removed]",
            "text/plain": [
              "<Figure size 432x288 with 1 Axes>"
            ]
          },
          "metadata": {
            "tags": [],
            "needs_background": "light"
          }
        }
      ]
    },
    {
      "cell_type": "markdown",
      "metadata": {
        "id": "eUShRF1DQI0s"
      },
      "source": [
        "## 4. Stacked SimpleRNN - with Normalization"
      ]
    },
    {
      "cell_type": "code",
      "metadata": {
        "id": "ESkmaQ43PUmE"
      },
      "source": [
        "model_4 = models.Sequential(name = 'Stacked_RNN')\n",
        "\n",
        "model_4.add(layers.SimpleRNN(3,\n",
        "                             input_shape = (None, 1),\n",
        "                             return_sequences = True))\n",
        "# False 로 주면 (1, 3)만 나오게 되고, 그걸로 순환하면서 학습할 수가 없다\n",
        "# (5, 3)으로 모든 값을 다음 layer에 전달해야 한다\n",
        "model_4.add(layers.SimpleRNN(3,\n",
        "                             input_shape = (None, 1),\n",
        "                             return_sequences = False))\n",
        "model_4.add(layers.Dense(1))"
      ],
      "execution_count": 48,
      "outputs": []
    },
    {
      "cell_type": "code",
      "metadata": {
        "colab": {
          "base_uri": "https://localhost:8080/"
        },
        "id": "_p9Ke6EbQQrR",
        "outputId": "0d7cbb0e-84d7-418b-dda2-61cb50d249d0"
      },
      "source": [
        "model_4.summary()"
      ],
      "execution_count": 49,
      "outputs": [
        {
          "output_type": "stream",
          "text": [
            "Model: \"Stacked_RNN\"\n",
            "_________________________________________________________________\n",
            "Layer (type)                 Output Shape              Param #   \n",
            "=================================================================\n",
            "simple_rnn_6 (SimpleRNN)     (None, None, 3)           15        \n",
            "_________________________________________________________________\n",
            "simple_rnn_7 (SimpleRNN)     (None, 3)                 21        \n",
            "_________________________________________________________________\n",
            "dense_4 (Dense)              (None, 1)                 4         \n",
            "=================================================================\n",
            "Total params: 40\n",
            "Trainable params: 40\n",
            "Non-trainable params: 0\n",
            "_________________________________________________________________\n"
          ],
          "name": "stdout"
        }
      ]
    },
    {
      "cell_type": "code",
      "metadata": {
        "id": "2iGtG3sAQSr7"
      },
      "source": [
        "model_4.compile(loss = 'mse',\n",
        "                optimizer = 'adam',\n",
        "                metrics = ['accuracy'])"
      ],
      "execution_count": 50,
      "outputs": []
    },
    {
      "cell_type": "code",
      "metadata": {
        "colab": {
          "base_uri": "https://localhost:8080/"
        },
        "id": "uYixcZuaQVRG",
        "outputId": "5d93a0e4-9a12-4c2d-ec5d-f7c62dee0fe7"
      },
      "source": [
        "Hist_4 = model_4.fit(X_train, y_train,\n",
        "                     epochs = 100,\n",
        "                     batch_size = 8,\n",
        "                     validation_data = (X_test, y_test))"
      ],
      "execution_count": 51,
      "outputs": [
        {
          "output_type": "stream",
          "text": [
            "Epoch 1/100\n",
            "10/10 [==============================] - 2s 40ms/step - loss: 0.0878 - accuracy: 0.0101 - val_loss: 0.0672 - val_accuracy: 0.0000e+00\n",
            "Epoch 2/100\n",
            "10/10 [==============================] - 0s 8ms/step - loss: 0.0542 - accuracy: 0.0281 - val_loss: 0.0338 - val_accuracy: 0.0000e+00\n",
            "Epoch 3/100\n",
            "10/10 [==============================] - 0s 7ms/step - loss: 0.0271 - accuracy: 0.0099 - val_loss: 0.0184 - val_accuracy: 0.0000e+00\n",
            "Epoch 4/100\n",
            "10/10 [==============================] - 0s 7ms/step - loss: 0.0151 - accuracy: 0.0171 - val_loss: 0.0142 - val_accuracy: 0.0000e+00\n",
            "Epoch 5/100\n",
            "10/10 [==============================] - 0s 8ms/step - loss: 0.0128 - accuracy: 0.0221 - val_loss: 0.0128 - val_accuracy: 0.0000e+00\n",
            "Epoch 6/100\n",
            "10/10 [==============================] - 0s 7ms/step - loss: 0.0113 - accuracy: 0.0132 - val_loss: 0.0118 - val_accuracy: 0.0000e+00\n",
            "Epoch 7/100\n",
            "10/10 [==============================] - 0s 8ms/step - loss: 0.0096 - accuracy: 0.0157 - val_loss: 0.0111 - val_accuracy: 0.0000e+00\n",
            "Epoch 8/100\n",
            "10/10 [==============================] - 0s 8ms/step - loss: 0.0108 - accuracy: 0.0394 - val_loss: 0.0103 - val_accuracy: 0.0000e+00\n",
            "Epoch 9/100\n",
            "10/10 [==============================] - 0s 8ms/step - loss: 0.0100 - accuracy: 0.0240 - val_loss: 0.0096 - val_accuracy: 0.0000e+00\n",
            "Epoch 10/100\n",
            "10/10 [==============================] - 0s 8ms/step - loss: 0.0096 - accuracy: 0.0253 - val_loss: 0.0087 - val_accuracy: 0.0000e+00\n",
            "Epoch 11/100\n",
            "10/10 [==============================] - 0s 8ms/step - loss: 0.0075 - accuracy: 0.0240 - val_loss: 0.0079 - val_accuracy: 0.0000e+00\n",
            "Epoch 12/100\n",
            "10/10 [==============================] - 0s 9ms/step - loss: 0.0074 - accuracy: 0.0157 - val_loss: 0.0072 - val_accuracy: 0.0000e+00\n",
            "Epoch 13/100\n",
            "10/10 [==============================] - 0s 9ms/step - loss: 0.0081 - accuracy: 0.0315 - val_loss: 0.0067 - val_accuracy: 0.0000e+00\n",
            "Epoch 14/100\n",
            "10/10 [==============================] - 0s 8ms/step - loss: 0.0062 - accuracy: 0.0196 - val_loss: 0.0062 - val_accuracy: 0.0000e+00\n",
            "Epoch 15/100\n",
            "10/10 [==============================] - 0s 8ms/step - loss: 0.0066 - accuracy: 0.0185 - val_loss: 0.0056 - val_accuracy: 0.0000e+00\n",
            "Epoch 16/100\n",
            "10/10 [==============================] - 0s 7ms/step - loss: 0.0053 - accuracy: 0.0347 - val_loss: 0.0050 - val_accuracy: 0.0000e+00\n",
            "Epoch 17/100\n",
            "10/10 [==============================] - 0s 8ms/step - loss: 0.0055 - accuracy: 0.0380 - val_loss: 0.0046 - val_accuracy: 0.0000e+00\n",
            "Epoch 18/100\n",
            "10/10 [==============================] - 0s 8ms/step - loss: 0.0052 - accuracy: 0.0089 - val_loss: 0.0042 - val_accuracy: 0.0000e+00\n",
            "Epoch 19/100\n",
            "10/10 [==============================] - 0s 8ms/step - loss: 0.0039 - accuracy: 0.0258 - val_loss: 0.0037 - val_accuracy: 0.0000e+00\n",
            "Epoch 20/100\n",
            "10/10 [==============================] - 0s 8ms/step - loss: 0.0038 - accuracy: 0.0115 - val_loss: 0.0033 - val_accuracy: 0.0000e+00\n",
            "Epoch 21/100\n",
            "10/10 [==============================] - 0s 8ms/step - loss: 0.0035 - accuracy: 0.0394 - val_loss: 0.0030 - val_accuracy: 0.0000e+00\n",
            "Epoch 22/100\n",
            "10/10 [==============================] - 0s 8ms/step - loss: 0.0026 - accuracy: 0.0072 - val_loss: 0.0026 - val_accuracy: 0.0000e+00\n",
            "Epoch 23/100\n",
            "10/10 [==============================] - 0s 8ms/step - loss: 0.0026 - accuracy: 0.0429 - val_loss: 0.0024 - val_accuracy: 0.0000e+00\n",
            "Epoch 24/100\n",
            "10/10 [==============================] - 0s 8ms/step - loss: 0.0033 - accuracy: 0.0266 - val_loss: 0.0021 - val_accuracy: 0.0000e+00\n",
            "Epoch 25/100\n",
            "10/10 [==============================] - 0s 8ms/step - loss: 0.0018 - accuracy: 0.0240 - val_loss: 0.0018 - val_accuracy: 0.0000e+00\n",
            "Epoch 26/100\n",
            "10/10 [==============================] - 0s 7ms/step - loss: 0.0016 - accuracy: 0.0429 - val_loss: 0.0016 - val_accuracy: 0.0000e+00\n",
            "Epoch 27/100\n",
            "10/10 [==============================] - 0s 7ms/step - loss: 0.0020 - accuracy: 0.0157 - val_loss: 0.0015 - val_accuracy: 0.0000e+00\n",
            "Epoch 28/100\n",
            "10/10 [==============================] - 0s 8ms/step - loss: 0.0013 - accuracy: 0.0107 - val_loss: 0.0012 - val_accuracy: 0.0000e+00\n",
            "Epoch 29/100\n",
            "10/10 [==============================] - 0s 9ms/step - loss: 0.0015 - accuracy: 0.0347 - val_loss: 0.0011 - val_accuracy: 0.0000e+00\n",
            "Epoch 30/100\n",
            "10/10 [==============================] - 0s 8ms/step - loss: 0.0013 - accuracy: 0.0429 - val_loss: 9.6232e-04 - val_accuracy: 0.0000e+00\n",
            "Epoch 31/100\n",
            "10/10 [==============================] - 0s 8ms/step - loss: 0.0012 - accuracy: 0.0185 - val_loss: 8.4548e-04 - val_accuracy: 0.0000e+00\n",
            "Epoch 32/100\n",
            "10/10 [==============================] - 0s 8ms/step - loss: 0.0011 - accuracy: 0.0151 - val_loss: 7.9183e-04 - val_accuracy: 0.0000e+00\n",
            "Epoch 33/100\n",
            "10/10 [==============================] - 0s 8ms/step - loss: 9.5218e-04 - accuracy: 0.0243 - val_loss: 6.8557e-04 - val_accuracy: 0.0000e+00\n",
            "Epoch 34/100\n",
            "10/10 [==============================] - 0s 8ms/step - loss: 8.9159e-04 - accuracy: 0.0115 - val_loss: 5.9454e-04 - val_accuracy: 0.0000e+00\n",
            "Epoch 35/100\n",
            "10/10 [==============================] - 0s 9ms/step - loss: 6.6134e-04 - accuracy: 0.0157 - val_loss: 5.3441e-04 - val_accuracy: 0.0000e+00\n",
            "Epoch 36/100\n",
            "10/10 [==============================] - 0s 8ms/step - loss: 4.7553e-04 - accuracy: 0.0157 - val_loss: 5.0205e-04 - val_accuracy: 0.0000e+00\n",
            "Epoch 37/100\n",
            "10/10 [==============================] - 0s 8ms/step - loss: 5.9403e-04 - accuracy: 0.0173 - val_loss: 4.4312e-04 - val_accuracy: 0.0000e+00\n",
            "Epoch 38/100\n",
            "10/10 [==============================] - 0s 8ms/step - loss: 6.2744e-04 - accuracy: 0.0280 - val_loss: 4.0178e-04 - val_accuracy: 0.0000e+00\n",
            "Epoch 39/100\n",
            "10/10 [==============================] - 0s 8ms/step - loss: 5.0522e-04 - accuracy: 0.0296 - val_loss: 3.6358e-04 - val_accuracy: 0.0000e+00\n",
            "Epoch 40/100\n",
            "10/10 [==============================] - 0s 8ms/step - loss: 5.7048e-04 - accuracy: 0.0115 - val_loss: 3.5422e-04 - val_accuracy: 0.0000e+00\n",
            "Epoch 41/100\n",
            "10/10 [==============================] - 0s 7ms/step - loss: 6.8037e-04 - accuracy: 0.0367 - val_loss: 3.0888e-04 - val_accuracy: 0.0000e+00\n",
            "Epoch 42/100\n",
            "10/10 [==============================] - 0s 8ms/step - loss: 4.1536e-04 - accuracy: 0.0209 - val_loss: 2.9584e-04 - val_accuracy: 0.0000e+00\n",
            "Epoch 43/100\n",
            "10/10 [==============================] - 0s 8ms/step - loss: 3.8619e-04 - accuracy: 0.0221 - val_loss: 3.0432e-04 - val_accuracy: 0.0000e+00\n",
            "Epoch 44/100\n",
            "10/10 [==============================] - 0s 7ms/step - loss: 3.3752e-04 - accuracy: 0.0171 - val_loss: 2.6187e-04 - val_accuracy: 0.0000e+00\n",
            "Epoch 45/100\n",
            "10/10 [==============================] - 0s 8ms/step - loss: 2.9854e-04 - accuracy: 0.0380 - val_loss: 2.4991e-04 - val_accuracy: 0.0000e+00\n",
            "Epoch 46/100\n",
            "10/10 [==============================] - 0s 9ms/step - loss: 4.7140e-04 - accuracy: 0.0518 - val_loss: 2.4897e-04 - val_accuracy: 0.0000e+00\n",
            "Epoch 47/100\n",
            "10/10 [==============================] - 0s 8ms/step - loss: 2.8656e-04 - accuracy: 0.0159 - val_loss: 2.4082e-04 - val_accuracy: 0.0000e+00\n",
            "Epoch 48/100\n",
            "10/10 [==============================] - 0s 9ms/step - loss: 2.7872e-04 - accuracy: 0.0429 - val_loss: 2.4123e-04 - val_accuracy: 0.0000e+00\n",
            "Epoch 49/100\n",
            "10/10 [==============================] - 0s 8ms/step - loss: 2.5072e-04 - accuracy: 0.0192 - val_loss: 2.2318e-04 - val_accuracy: 0.0000e+00\n",
            "Epoch 50/100\n",
            "10/10 [==============================] - 0s 9ms/step - loss: 3.0259e-04 - accuracy: 0.0134 - val_loss: 2.1358e-04 - val_accuracy: 0.0000e+00\n",
            "Epoch 51/100\n",
            "10/10 [==============================] - 0s 8ms/step - loss: 2.8890e-04 - accuracy: 0.0134 - val_loss: 2.0560e-04 - val_accuracy: 0.0000e+00\n",
            "Epoch 52/100\n",
            "10/10 [==============================] - 0s 8ms/step - loss: 3.0513e-04 - accuracy: 0.0202 - val_loss: 2.0106e-04 - val_accuracy: 0.0000e+00\n",
            "Epoch 53/100\n",
            "10/10 [==============================] - 0s 8ms/step - loss: 3.8084e-04 - accuracy: 0.0480 - val_loss: 1.9652e-04 - val_accuracy: 0.0000e+00\n",
            "Epoch 54/100\n",
            "10/10 [==============================] - 0s 8ms/step - loss: 2.6702e-04 - accuracy: 0.0518 - val_loss: 1.9290e-04 - val_accuracy: 0.0000e+00\n",
            "Epoch 55/100\n",
            "10/10 [==============================] - 0s 8ms/step - loss: 2.7850e-04 - accuracy: 0.0192 - val_loss: 1.9168e-04 - val_accuracy: 0.0000e+00\n",
            "Epoch 56/100\n",
            "10/10 [==============================] - 0s 8ms/step - loss: 3.3226e-04 - accuracy: 0.0266 - val_loss: 1.8620e-04 - val_accuracy: 0.0000e+00\n",
            "Epoch 57/100\n",
            "10/10 [==============================] - 0s 8ms/step - loss: 2.4479e-04 - accuracy: 0.0171 - val_loss: 1.8871e-04 - val_accuracy: 0.0000e+00\n",
            "Epoch 58/100\n",
            "10/10 [==============================] - 0s 8ms/step - loss: 2.9682e-04 - accuracy: 0.0157 - val_loss: 1.8983e-04 - val_accuracy: 0.0000e+00\n",
            "Epoch 59/100\n",
            "10/10 [==============================] - 0s 8ms/step - loss: 2.7060e-04 - accuracy: 0.0089 - val_loss: 1.9344e-04 - val_accuracy: 0.0000e+00\n",
            "Epoch 60/100\n",
            "10/10 [==============================] - 0s 8ms/step - loss: 2.2965e-04 - accuracy: 0.0134 - val_loss: 1.7433e-04 - val_accuracy: 0.0000e+00\n",
            "Epoch 61/100\n",
            "10/10 [==============================] - 0s 8ms/step - loss: 2.5360e-04 - accuracy: 0.0169 - val_loss: 1.7241e-04 - val_accuracy: 0.0000e+00\n",
            "Epoch 62/100\n",
            "10/10 [==============================] - 0s 9ms/step - loss: 2.5728e-04 - accuracy: 0.0143 - val_loss: 1.7239e-04 - val_accuracy: 0.0000e+00\n",
            "Epoch 63/100\n",
            "10/10 [==============================] - 0s 9ms/step - loss: 2.1598e-04 - accuracy: 0.0404 - val_loss: 1.7330e-04 - val_accuracy: 0.0000e+00\n",
            "Epoch 64/100\n",
            "10/10 [==============================] - 0s 8ms/step - loss: 2.2079e-04 - accuracy: 0.0258 - val_loss: 1.6622e-04 - val_accuracy: 0.0000e+00\n",
            "Epoch 65/100\n",
            "10/10 [==============================] - 0s 8ms/step - loss: 2.8602e-04 - accuracy: 0.0366 - val_loss: 1.6554e-04 - val_accuracy: 0.0000e+00\n",
            "Epoch 66/100\n",
            "10/10 [==============================] - 0s 8ms/step - loss: 2.3060e-04 - accuracy: 0.0169 - val_loss: 1.5858e-04 - val_accuracy: 0.0000e+00\n",
            "Epoch 67/100\n",
            "10/10 [==============================] - 0s 9ms/step - loss: 1.9702e-04 - accuracy: 0.0085 - val_loss: 1.5531e-04 - val_accuracy: 0.0000e+00\n",
            "Epoch 68/100\n",
            "10/10 [==============================] - 0s 8ms/step - loss: 2.7857e-04 - accuracy: 0.0185 - val_loss: 1.5354e-04 - val_accuracy: 0.0000e+00\n",
            "Epoch 69/100\n",
            "10/10 [==============================] - 0s 8ms/step - loss: 2.0264e-04 - accuracy: 0.0185 - val_loss: 1.4953e-04 - val_accuracy: 0.0000e+00\n",
            "Epoch 70/100\n",
            "10/10 [==============================] - 0s 7ms/step - loss: 1.9165e-04 - accuracy: 0.0101 - val_loss: 1.5391e-04 - val_accuracy: 0.0000e+00\n",
            "Epoch 71/100\n",
            "10/10 [==============================] - 0s 8ms/step - loss: 2.7345e-04 - accuracy: 0.0120 - val_loss: 1.4522e-04 - val_accuracy: 0.0000e+00\n",
            "Epoch 72/100\n",
            "10/10 [==============================] - 0s 8ms/step - loss: 2.6341e-04 - accuracy: 0.0169 - val_loss: 1.4410e-04 - val_accuracy: 0.0000e+00\n",
            "Epoch 73/100\n",
            "10/10 [==============================] - 0s 9ms/step - loss: 2.1678e-04 - accuracy: 0.0130 - val_loss: 1.3925e-04 - val_accuracy: 0.0000e+00\n",
            "Epoch 74/100\n",
            "10/10 [==============================] - 0s 9ms/step - loss: 1.7280e-04 - accuracy: 0.0072 - val_loss: 1.3739e-04 - val_accuracy: 0.0000e+00\n",
            "Epoch 75/100\n",
            "10/10 [==============================] - 0s 8ms/step - loss: 1.6979e-04 - accuracy: 0.0134 - val_loss: 1.3384e-04 - val_accuracy: 0.0000e+00\n",
            "Epoch 76/100\n",
            "10/10 [==============================] - 0s 8ms/step - loss: 2.0460e-04 - accuracy: 0.0367 - val_loss: 1.3360e-04 - val_accuracy: 0.0000e+00\n",
            "Epoch 77/100\n",
            "10/10 [==============================] - 0s 8ms/step - loss: 1.7809e-04 - accuracy: 0.0159 - val_loss: 1.2912e-04 - val_accuracy: 0.0000e+00\n",
            "Epoch 78/100\n",
            "10/10 [==============================] - 0s 8ms/step - loss: 1.7283e-04 - accuracy: 0.0151 - val_loss: 1.2909e-04 - val_accuracy: 0.0000e+00\n",
            "Epoch 79/100\n",
            "10/10 [==============================] - 0s 8ms/step - loss: 2.0252e-04 - accuracy: 0.0072 - val_loss: 1.3396e-04 - val_accuracy: 0.0000e+00\n",
            "Epoch 80/100\n",
            "10/10 [==============================] - 0s 8ms/step - loss: 1.4393e-04 - accuracy: 0.0130 - val_loss: 1.2334e-04 - val_accuracy: 0.0000e+00\n",
            "Epoch 81/100\n",
            "10/10 [==============================] - 0s 8ms/step - loss: 2.3838e-04 - accuracy: 0.0518 - val_loss: 1.2150e-04 - val_accuracy: 0.0000e+00\n",
            "Epoch 82/100\n",
            "10/10 [==============================] - 0s 8ms/step - loss: 1.5604e-04 - accuracy: 0.0107 - val_loss: 1.1863e-04 - val_accuracy: 0.0000e+00\n",
            "Epoch 83/100\n",
            "10/10 [==============================] - 0s 7ms/step - loss: 1.7143e-04 - accuracy: 0.0296 - val_loss: 1.2006e-04 - val_accuracy: 0.0000e+00\n",
            "Epoch 84/100\n",
            "10/10 [==============================] - 0s 8ms/step - loss: 1.7465e-04 - accuracy: 0.0151 - val_loss: 1.1314e-04 - val_accuracy: 0.0000e+00\n",
            "Epoch 85/100\n",
            "10/10 [==============================] - 0s 8ms/step - loss: 2.1361e-04 - accuracy: 0.0196 - val_loss: 1.1162e-04 - val_accuracy: 0.0000e+00\n",
            "Epoch 86/100\n",
            "10/10 [==============================] - 0s 8ms/step - loss: 1.4770e-04 - accuracy: 0.0243 - val_loss: 1.1203e-04 - val_accuracy: 0.0000e+00\n",
            "Epoch 87/100\n",
            "10/10 [==============================] - 0s 8ms/step - loss: 1.5547e-04 - accuracy: 0.0281 - val_loss: 1.1331e-04 - val_accuracy: 0.0000e+00\n",
            "Epoch 88/100\n",
            "10/10 [==============================] - 0s 8ms/step - loss: 1.9748e-04 - accuracy: 0.0169 - val_loss: 1.0496e-04 - val_accuracy: 0.0000e+00\n",
            "Epoch 89/100\n",
            "10/10 [==============================] - 0s 8ms/step - loss: 1.3040e-04 - accuracy: 0.0072 - val_loss: 1.0123e-04 - val_accuracy: 0.0000e+00\n",
            "Epoch 90/100\n",
            "10/10 [==============================] - 0s 8ms/step - loss: 1.3703e-04 - accuracy: 0.0366 - val_loss: 1.0148e-04 - val_accuracy: 0.0000e+00\n",
            "Epoch 91/100\n",
            "10/10 [==============================] - 0s 8ms/step - loss: 1.7116e-04 - accuracy: 0.0085 - val_loss: 9.9262e-05 - val_accuracy: 0.0000e+00\n",
            "Epoch 92/100\n",
            "10/10 [==============================] - 0s 8ms/step - loss: 1.4810e-04 - accuracy: 0.0107 - val_loss: 1.0090e-04 - val_accuracy: 0.0000e+00\n",
            "Epoch 93/100\n",
            "10/10 [==============================] - 0s 8ms/step - loss: 1.4167e-04 - accuracy: 0.0115 - val_loss: 9.3641e-05 - val_accuracy: 0.0000e+00\n",
            "Epoch 94/100\n",
            "10/10 [==============================] - 0s 8ms/step - loss: 1.5801e-04 - accuracy: 0.0209 - val_loss: 1.0197e-04 - val_accuracy: 0.0000e+00\n",
            "Epoch 95/100\n",
            "10/10 [==============================] - 0s 7ms/step - loss: 1.4585e-04 - accuracy: 0.0058 - val_loss: 9.1039e-05 - val_accuracy: 0.0000e+00\n",
            "Epoch 96/100\n",
            "10/10 [==============================] - 0s 8ms/step - loss: 1.5769e-04 - accuracy: 0.0272 - val_loss: 9.1033e-05 - val_accuracy: 0.0000e+00\n",
            "Epoch 97/100\n",
            "10/10 [==============================] - 0s 8ms/step - loss: 1.1922e-04 - accuracy: 0.0157 - val_loss: 8.7466e-05 - val_accuracy: 0.0000e+00\n",
            "Epoch 98/100\n",
            "10/10 [==============================] - 0s 9ms/step - loss: 1.5347e-04 - accuracy: 0.0185 - val_loss: 8.7653e-05 - val_accuracy: 0.0000e+00\n",
            "Epoch 99/100\n",
            "10/10 [==============================] - 0s 9ms/step - loss: 1.3479e-04 - accuracy: 0.0101 - val_loss: 8.3703e-05 - val_accuracy: 0.0000e+00\n",
            "Epoch 100/100\n",
            "10/10 [==============================] - 0s 8ms/step - loss: 1.3091e-04 - accuracy: 0.0101 - val_loss: 8.1804e-05 - val_accuracy: 0.0000e+00\n"
          ],
          "name": "stdout"
        }
      ]
    },
    {
      "cell_type": "code",
      "metadata": {
        "colab": {
          "base_uri": "https://localhost:8080/"
        },
        "id": "GeQRiyoGQXoe",
        "outputId": "923e2cb1-661f-4ddd-c7b1-82b1320bf861"
      },
      "source": [
        "y_hat = model_4.predict(X_test)"
      ],
      "execution_count": 52,
      "outputs": [
        {
          "output_type": "stream",
          "text": [
            "WARNING:tensorflow:5 out of the last 5 calls to <function Model.make_predict_function.<locals>.predict_function at 0x7fc7e95c5320> triggered tf.function retracing. Tracing is expensive and the excessive number of tracings could be due to (1) creating @tf.function repeatedly in a loop, (2) passing tensors with different shapes, (3) passing Python objects instead of tensors. For (1), please define your @tf.function outside of the loop. For (2), @tf.function has experimental_relax_shapes=True option that relaxes argument shapes that can avoid unnecessary retracing. For (3), please refer to https://www.tensorflow.org/guide/function#controlling_retracing and https://www.tensorflow.org/api_docs/python/tf/function for  more details.\n"
          ],
          "name": "stdout"
        }
      ]
    },
    {
      "cell_type": "code",
      "metadata": {
        "colab": {
          "base_uri": "https://localhost:8080/",
          "height": 265
        },
        "id": "wfTfFaXpQaB4",
        "outputId": "68d485e5-cc1c-4dc5-899a-90b3ffcd9ccf"
      },
      "source": [
        "plt.plot(Hist_4.history['loss'])\n",
        "plt.show()"
      ],
      "execution_count": 53,
      "outputs": [
        {
          "output_type": "display_data",
          "data": {
            "image/png": "[encoded data removed]",
            "text/plain": [
              "<Figure size 432x288 with 1 Axes>"
            ]
          },
          "metadata": {
            "tags": [],
            "needs_background": "light"
          }
        }
      ]
    },
    {
      "cell_type": "code",
      "metadata": {
        "colab": {
          "base_uri": "https://localhost:8080/",
          "height": 265
        },
        "id": "e_2HkBWeQgaH",
        "outputId": "6c58df70-285f-4b90-e225-2100e2f54ecb"
      },
      "source": [
        "plt.scatter(range(20), y_hat, c = 'r')\n",
        "plt.scatter(range(20), y_test, c = 'g')\n",
        "plt.show()"
      ],
      "execution_count": 55,
      "outputs": [
        {
          "output_type": "display_data",
          "data": {
            "image/png": "[encoded data removed]",
            "text/plain": [
              "<Figure size 432x288 with 1 Axes>"
            ]
          },
          "metadata": {
            "tags": [],
            "needs_background": "light"
          }
        }
      ]
    },
    {
      "cell_type": "markdown",
      "metadata": {
        "id": "L16hRlnvQna0"
      },
      "source": [
        "## 5. 'return_sequences' Output Options\n",
        "- 'input_length'에 대한 Sequence 전체를 출력할지 설정\n",
        "  - 'False' vs. 'True'"
      ]
    },
    {
      "cell_type": "markdown",
      "metadata": {
        "id": "LhEQwUMDQweu"
      },
      "source": [
        "### 1) 실습데이터 생성"
      ]
    },
    {
      "cell_type": "code",
      "metadata": {
        "id": "Oouh8-bWQjo9"
      },
      "source": [
        "X = [[[i + j] for i in range(5)] for j in range(100)]\n",
        "y = [i + 5 for i in range(100)]\n",
        "\n",
        "X = np.array(X, dtype = float)\n",
        "y = np.array(y, dtype = float)"
      ],
      "execution_count": 56,
      "outputs": []
    },
    {
      "cell_type": "code",
      "metadata": {
        "colab": {
          "base_uri": "https://localhost:8080/"
        },
        "id": "e73G44-VQ8sJ",
        "outputId": "0924adde-f8d7-4af0-da92-eb055977da50"
      },
      "source": [
        "X_train, X_test, y_train, y_test = train_test_split(X, y,\n",
        "                                                    test_size = 0.2,\n",
        "                                                    random_state = 2045)\n",
        "\n",
        "X_train.shape, y_train.shape, X_test.shape, y_test.shape"
      ],
      "execution_count": 57,
      "outputs": [
        {
          "output_type": "execute_result",
          "data": {
            "text/plain": [
              "((80, 5, 1), (80,), (20, 5, 1), (20,))"
            ]
          },
          "metadata": {
            "tags": []
          },
          "execution_count": 57
        }
      ]
    },
    {
      "cell_type": "markdown",
      "metadata": {
        "id": "qV4U3ecwRI01"
      },
      "source": [
        "### 2) 테스트용 Input Data"
      ]
    },
    {
      "cell_type": "code",
      "metadata": {
        "colab": {
          "base_uri": "https://localhost:8080/"
        },
        "id": "RDfgJ2JNRHsW",
        "outputId": "4c30b925-8a25-4510-ce19-c1b9a391aeac"
      },
      "source": [
        "X_test[0].reshape(1, 5, 1)"
      ],
      "execution_count": 58,
      "outputs": [
        {
          "output_type": "execute_result",
          "data": {
            "text/plain": [
              "array([[[29.],\n",
              "        [30.],\n",
              "        [31.],\n",
              "        [32.],\n",
              "        [33.]]])"
            ]
          },
          "metadata": {
            "tags": []
          },
          "execution_count": 58
        }
      ]
    },
    {
      "cell_type": "markdown",
      "metadata": {
        "id": "_dQFMv7LRT47"
      },
      "source": [
        "### 3) False option\n",
        "- 마지막 output만 출력\n",
        "  - Unit -> 1"
      ]
    },
    {
      "cell_type": "code",
      "metadata": {
        "id": "3NykNbMqRPyG"
      },
      "source": [
        "Model_False = models.Sequential()\n",
        "\n",
        "Model_False.add(layers.SimpleRNN(1,\n",
        "                                input_shape = (5, 1),\n",
        "                                return_sequences = False))\n",
        "# DNN layer가 빠짐\n",
        "\n",
        "# unit의 개수가 하나\n",
        "# return_sequences = False: "
      ],
      "execution_count": 60,
      "outputs": []
    },
    {
      "cell_type": "code",
      "metadata": {
        "id": "PwyRqSufRhVd"
      },
      "source": [
        "Model_False.compile(loss = 'mse',\n",
        "                    optimizer = 'adam',\n",
        "                    metrics = ['accuracy'])"
      ],
      "execution_count": 61,
      "outputs": []
    },
    {
      "cell_type": "code",
      "metadata": {
        "colab": {
          "base_uri": "https://localhost:8080/"
        },
        "id": "xDjqpm3uRnLA",
        "outputId": "f5d35d32-3564-47b0-8aa6-772818403cb7"
      },
      "source": [
        "Model_False.predict(X_test[0].reshape(1, 5, 1))\n",
        "# 학습시키지 않고 predict 값만 빼옴(모양을 보기 위해)\n",
        "# 최종적으로 하나의 output만 내보냄"
      ],
      "execution_count": 62,
      "outputs": [
        {
          "output_type": "stream",
          "text": [
            "WARNING:tensorflow:6 out of the last 6 calls to <function Model.make_predict_function.<locals>.predict_function at 0x7fc7ea4f1a70> triggered tf.function retracing. Tracing is expensive and the excessive number of tracings could be due to (1) creating @tf.function repeatedly in a loop, (2) passing tensors with different shapes, (3) passing Python objects instead of tensors. For (1), please define your @tf.function outside of the loop. For (2), @tf.function has experimental_relax_shapes=True option that relaxes argument shapes that can avoid unnecessary retracing. For (3), please refer to https://www.tensorflow.org/guide/function#controlling_retracing and https://www.tensorflow.org/api_docs/python/tf/function for  more details.\n"
          ],
          "name": "stdout"
        },
        {
          "output_type": "execute_result",
          "data": {
            "text/plain": [
              "array([[1.]], dtype=float32)"
            ]
          },
          "metadata": {
            "tags": []
          },
          "execution_count": 62
        }
      ]
    },
    {
      "cell_type": "markdown",
      "metadata": {
        "id": "X6edYWZ2R_bV"
      },
      "source": [
        "- 마지막 Output만 출력\n",
        "  - Unit -> 3"
      ]
    },
    {
      "cell_type": "code",
      "metadata": {
        "id": "gd7vCM7-Rp4B"
      },
      "source": [
        "Model_False = models.Sequential()\n",
        "\n",
        "Model_False.add(layers.SimpleRNN(3,\n",
        "                                 input_shape = (5, 1),\n",
        "                                 return_sequences = False))"
      ],
      "execution_count": 63,
      "outputs": []
    },
    {
      "cell_type": "code",
      "metadata": {
        "id": "961O7-T4SOPC"
      },
      "source": [
        "Model_False.compile(loss = 'mse',\n",
        "                    optimizer = 'adam',\n",
        "                    metrics = ['accuracy'])"
      ],
      "execution_count": 64,
      "outputs": []
    },
    {
      "cell_type": "code",
      "metadata": {
        "colab": {
          "base_uri": "https://localhost:8080/"
        },
        "id": "2HLGoCFwSTJF",
        "outputId": "92c538ac-9301-449a-f41e-58fd2634a47e"
      },
      "source": [
        "Model_False.predict(X_test[0].reshape(1, 5, 1))\n",
        "# unit이 3개\n",
        "# unit마다 각각 5번 돎\n",
        "# 마지막 하나의 값만 전달됨 (전달만 될 뿐 나오는 건 마지막 하나)"
      ],
      "execution_count": 65,
      "outputs": [
        {
          "output_type": "stream",
          "text": [
            "WARNING:tensorflow:7 out of the last 7 calls to <function Model.make_predict_function.<locals>.predict_function at 0x7fc7f9da9680> triggered tf.function retracing. Tracing is expensive and the excessive number of tracings could be due to (1) creating @tf.function repeatedly in a loop, (2) passing tensors with different shapes, (3) passing Python objects instead of tensors. For (1), please define your @tf.function outside of the loop. For (2), @tf.function has experimental_relax_shapes=True option that relaxes argument shapes that can avoid unnecessary retracing. For (3), please refer to https://www.tensorflow.org/guide/function#controlling_retracing and https://www.tensorflow.org/api_docs/python/tf/function for  more details.\n"
          ],
          "name": "stdout"
        },
        {
          "output_type": "execute_result",
          "data": {
            "text/plain": [
              "array([[-0.99999356, -1.        ,  1.        ]], dtype=float32)"
            ]
          },
          "metadata": {
            "tags": []
          },
          "execution_count": 65
        }
      ]
    },
    {
      "cell_type": "markdown",
      "metadata": {
        "id": "UfySIS5PSb-a"
      },
      "source": [
        "### 4) True Option\n",
        "- 매 순환마다 Output 출력\n",
        "  - Unit -> 1\n",
        "  - input_length -> 5"
      ]
    },
    {
      "cell_type": "code",
      "metadata": {
        "id": "n-nR6Q9rSWVk"
      },
      "source": [
        "Model_True = models.Sequential()\n",
        "\n",
        "Model_True.add(layers.SimpleRNN(1,\n",
        "                                input_shape = (5, 1),\n",
        "                                return_sequences = True))"
      ],
      "execution_count": 66,
      "outputs": []
    },
    {
      "cell_type": "code",
      "metadata": {
        "id": "yoXmMYGMTnqS"
      },
      "source": [
        "Model_True.compile(loss ='mse',\n",
        "                   optimizer = 'adam',\n",
        "                   metrics = ['accuracy'])"
      ],
      "execution_count": 67,
      "outputs": []
    },
    {
      "cell_type": "code",
      "metadata": {
        "colab": {
          "base_uri": "https://localhost:8080/"
        },
        "id": "kiUNOsmsTufJ",
        "outputId": "a612c2d2-4e58-4e2d-b9ee-52c28f7bebf1"
      },
      "source": [
        "Model_True.predict(X_test[0].reshape(1, 5, 1))\n",
        "# input이 5개니까 5번 돌게 됨\n",
        "# 돌 때마다 output이 나옴"
      ],
      "execution_count": 68,
      "outputs": [
        {
          "output_type": "stream",
          "text": [
            "WARNING:tensorflow:8 out of the last 8 calls to <function Model.make_predict_function.<locals>.predict_function at 0x7fc7ec28aef0> triggered tf.function retracing. Tracing is expensive and the excessive number of tracings could be due to (1) creating @tf.function repeatedly in a loop, (2) passing tensors with different shapes, (3) passing Python objects instead of tensors. For (1), please define your @tf.function outside of the loop. For (2), @tf.function has experimental_relax_shapes=True option that relaxes argument shapes that can avoid unnecessary retracing. For (3), please refer to https://www.tensorflow.org/guide/function#controlling_retracing and https://www.tensorflow.org/api_docs/python/tf/function for  more details.\n"
          ],
          "name": "stdout"
        },
        {
          "output_type": "execute_result",
          "data": {
            "text/plain": [
              "array([[[1.],\n",
              "        [1.],\n",
              "        [1.],\n",
              "        [1.],\n",
              "        [1.]]], dtype=float32)"
            ]
          },
          "metadata": {
            "tags": []
          },
          "execution_count": 68
        }
      ]
    },
    {
      "cell_type": "markdown",
      "metadata": {
        "id": "W5Q8z4t1UAoQ"
      },
      "source": [
        "- 매 순환마다 Output만 출력\n",
        "  - Unit -> 3\n",
        "  - input_length -> 5"
      ]
    },
    {
      "cell_type": "code",
      "metadata": {
        "id": "s47wS-uzTxMw"
      },
      "source": [
        "Model_True = models.Sequential()\n",
        "Model_True.add(layers.SimpleRNN(3,\n",
        "                                input_shape = (5, 1),\n",
        "                                return_sequences = True))"
      ],
      "execution_count": 69,
      "outputs": []
    },
    {
      "cell_type": "code",
      "metadata": {
        "id": "TSiKQQ4UUMWG"
      },
      "source": [
        "Model_True.compile(loss = 'mse',\n",
        "                   optimizer = 'adam',\n",
        "                   metrics = ['accuracy'])"
      ],
      "execution_count": 70,
      "outputs": []
    },
    {
      "cell_type": "code",
      "metadata": {
        "colab": {
          "base_uri": "https://localhost:8080/"
        },
        "id": "V-KaT6VQUQgn",
        "outputId": "18333a22-8e84-4ea6-f0ca-ee847b586200"
      },
      "source": [
        "Model_True.predict(X_test[0].reshape(1, 5, 1))\n",
        "# unit마다 순환마다 값을 내보냄"
      ],
      "execution_count": 71,
      "outputs": [
        {
          "output_type": "stream",
          "text": [
            "WARNING:tensorflow:9 out of the last 9 calls to <function Model.make_predict_function.<locals>.predict_function at 0x7fc7f1cf5440> triggered tf.function retracing. Tracing is expensive and the excessive number of tracings could be due to (1) creating @tf.function repeatedly in a loop, (2) passing tensors with different shapes, (3) passing Python objects instead of tensors. For (1), please define your @tf.function outside of the loop. For (2), @tf.function has experimental_relax_shapes=True option that relaxes argument shapes that can avoid unnecessary retracing. For (3), please refer to https://www.tensorflow.org/guide/function#controlling_retracing and https://www.tensorflow.org/api_docs/python/tf/function for  more details.\n"
          ],
          "name": "stdout"
        },
        {
          "output_type": "execute_result",
          "data": {
            "text/plain": [
              "array([[[ 1.,  1., -1.],\n",
              "        [ 1.,  1., -1.],\n",
              "        [ 1.,  1., -1.],\n",
              "        [ 1.,  1., -1.],\n",
              "        [ 1.,  1., -1.]]], dtype=float32)"
            ]
          },
          "metadata": {
            "tags": []
          },
          "execution_count": 71
        }
      ]
    },
    {
      "cell_type": "markdown",
      "metadata": {
        "id": "uBfzT9CBfTpM"
      },
      "source": [
        "- one-to-one, one-to-many, many-to-one, many-to-many 등을 구현할 수 있게 된다"
      ]
    }
  ]
}