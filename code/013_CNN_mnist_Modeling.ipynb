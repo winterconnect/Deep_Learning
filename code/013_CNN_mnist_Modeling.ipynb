{
  "nbformat": 4,
  "nbformat_minor": 0,
  "metadata": {
    "colab": {
      "name": "013_CNN_mnist_Modeling.ipynb",
      "provenance": []
    },
    "kernelspec": {
      "name": "python3",
      "display_name": "Python 3"
    },
    "language_info": {
      "name": "python"
    },
    "accelerator": "GPU"
  },
  "cells": [
    {
      "cell_type": "markdown",
      "metadata": {
        "id": "gYQF3vb8IepR"
      },
      "source": [
        "# MNIST - Categorical Classification"
      ]
    },
    {
      "cell_type": "code",
      "metadata": {
        "id": "sRw3WWMYIQkT"
      },
      "source": [
        "import warnings\n",
        "warnings.filterwarnings('ignore')"
      ],
      "execution_count": 1,
      "outputs": []
    },
    {
      "cell_type": "code",
      "metadata": {
        "id": "gHcj3efMK0yF"
      },
      "source": [
        "import matplotlib.pyplot as plt"
      ],
      "execution_count": 19,
      "outputs": []
    },
    {
      "cell_type": "code",
      "metadata": {
        "id": "GMK1QbmNIlch"
      },
      "source": [
        "import keras\n",
        "\n",
        "from keras.datasets import mnist\n",
        "from keras.utils import to_categorical"
      ],
      "execution_count": 9,
      "outputs": []
    },
    {
      "cell_type": "code",
      "metadata": {
        "id": "PkkI-LPoImVe"
      },
      "source": [
        "import tensorflow as tf\n",
        "from tensorflow.keras import models\n",
        "from tensorflow.keras import layers"
      ],
      "execution_count": 11,
      "outputs": []
    },
    {
      "cell_type": "code",
      "metadata": {
        "colab": {
          "base_uri": "https://localhost:8080/"
        },
        "id": "6SgrAJJ3InWB",
        "outputId": "57b98005-398c-4187-93a1-901a93ac0c55"
      },
      "source": [
        "keras.__version__ , tf.__version__"
      ],
      "execution_count": 4,
      "outputs": [
        {
          "output_type": "execute_result",
          "data": {
            "text/plain": [
              "('2.4.3', '2.4.1')"
            ]
          },
          "metadata": {
            "tags": []
          },
          "execution_count": 4
        }
      ]
    },
    {
      "cell_type": "markdown",
      "metadata": {
        "id": "INMOtwHYItDy"
      },
      "source": [
        "## 1. MNIST Dataset Load"
      ]
    },
    {
      "cell_type": "code",
      "metadata": {
        "colab": {
          "base_uri": "https://localhost:8080/"
        },
        "id": "3Kn9mZmHIpny",
        "outputId": "e71b6d1c-c4a9-4531-fea6-c1269d9ba6e0"
      },
      "source": [
        "(X_train, y_train) , (X_test, y_test) = mnist.load_data()"
      ],
      "execution_count": 6,
      "outputs": [
        {
          "output_type": "stream",
          "text": [
            "Downloading data from https://storage.googleapis.com/tensorflow/tf-keras-datasets/mnist.npz\n",
            "11493376/11490434 [==============================] - 0s 0us/step\n"
          ],
          "name": "stdout"
        }
      ]
    },
    {
      "cell_type": "markdown",
      "metadata": {
        "id": "lucRaDKOI0bu"
      },
      "source": [
        "## 2. Data Preprocessing"
      ]
    },
    {
      "cell_type": "markdown",
      "metadata": {
        "id": "twBXFxMoI2pS"
      },
      "source": [
        "### 1) Reshape & Normalization\n",
        "- reshape"
      ]
    },
    {
      "cell_type": "code",
      "metadata": {
        "id": "pTrBvdUIIz9F"
      },
      "source": [
        "X_train = X_train.reshape((60000, 28, 28, 1))\n",
        "X_test = X_test.reshape((10000, 28, 28, 1))"
      ],
      "execution_count": 7,
      "outputs": []
    },
    {
      "cell_type": "markdown",
      "metadata": {
        "id": "UPuJrWiEJCaF"
      },
      "source": [
        "- Normalization"
      ]
    },
    {
      "cell_type": "code",
      "metadata": {
        "id": "aqC5Qh46JB58"
      },
      "source": [
        "X_train = X_train.astype(float) / 255\n",
        "X_test = X_test.astype(float) / 255"
      ],
      "execution_count": 8,
      "outputs": []
    },
    {
      "cell_type": "markdown",
      "metadata": {
        "id": "gVidE_NjJJat"
      },
      "source": [
        "### 2) One Hot Encoding"
      ]
    },
    {
      "cell_type": "code",
      "metadata": {
        "id": "HxtdSrGLJIq4"
      },
      "source": [
        "y_train = to_categorical(y_train)\n",
        "y_test = to_categorical(y_test)"
      ],
      "execution_count": 10,
      "outputs": []
    },
    {
      "cell_type": "markdown",
      "metadata": {
        "id": "loI8cTgTJRnI"
      },
      "source": [
        "## 3. MNIST Keras Modeling"
      ]
    },
    {
      "cell_type": "markdown",
      "metadata": {
        "id": "jyNbbWo-JUEe"
      },
      "source": [
        "### 1) Model Define\n",
        "- Feature Extraction Layer"
      ]
    },
    {
      "cell_type": "code",
      "metadata": {
        "id": "Of8zHQatJRAA"
      },
      "source": [
        "model = models.Sequential()\n",
        "\n",
        "model.add(layers.Conv2D(filters = 32, kernel_size = (3, 3),\n",
        "                        activation = 'relu', input_shape = (28, 28, 1)))\n",
        "model.add(layers.MaxPool2D(pool_size = (2, 2)))\n",
        "model.add(layers.Conv2D(filters = 64, kernel_size = (3, 3), activation = 'relu'))\n",
        "model.add(layers.MaxPool2D(pool_size = (2, 2)))\n",
        "model.add(layers.Conv2D(filters = 64, kernel_size = (3, 3), activation = 'relu'))"
      ],
      "execution_count": 12,
      "outputs": []
    },
    {
      "cell_type": "code",
      "metadata": {
        "colab": {
          "base_uri": "https://localhost:8080/"
        },
        "id": "MW_6mdjSJ7dS",
        "outputId": "cb1dcfb7-257d-4f98-9ad7-c4c47912a8c3"
      },
      "source": [
        "model.summary()"
      ],
      "execution_count": 13,
      "outputs": [
        {
          "output_type": "stream",
          "text": [
            "Model: \"sequential\"\n",
            "_________________________________________________________________\n",
            "Layer (type)                 Output Shape              Param #   \n",
            "=================================================================\n",
            "conv2d (Conv2D)              (None, 26, 26, 32)        320       \n",
            "_________________________________________________________________\n",
            "max_pooling2d (MaxPooling2D) (None, 13, 13, 32)        0         \n",
            "_________________________________________________________________\n",
            "conv2d_1 (Conv2D)            (None, 11, 11, 64)        18496     \n",
            "_________________________________________________________________\n",
            "max_pooling2d_1 (MaxPooling2 (None, 5, 5, 64)          0         \n",
            "_________________________________________________________________\n",
            "conv2d_2 (Conv2D)            (None, 3, 3, 64)          36928     \n",
            "=================================================================\n",
            "Total params: 55,744\n",
            "Trainable params: 55,744\n",
            "Non-trainable params: 0\n",
            "_________________________________________________________________\n"
          ],
          "name": "stdout"
        }
      ]
    },
    {
      "cell_type": "markdown",
      "metadata": {
        "id": "Q3LQZzeFKAT1"
      },
      "source": [
        "- Classification Layer"
      ]
    },
    {
      "cell_type": "code",
      "metadata": {
        "id": "R_R4quTtJ9eu"
      },
      "source": [
        "model.add(layers.Flatten())\n",
        "model.add(layers.Dense(units = 64, activation = 'relu'))\n",
        "model.add(layers.Dense(units = 10, activation = 'softmax'))"
      ],
      "execution_count": 14,
      "outputs": []
    },
    {
      "cell_type": "code",
      "metadata": {
        "colab": {
          "base_uri": "https://localhost:8080/"
        },
        "id": "koP-CfuvKKOK",
        "outputId": "dd418214-6a9f-46ed-8708-66cdb3cd23f6"
      },
      "source": [
        "model.summary()"
      ],
      "execution_count": 15,
      "outputs": [
        {
          "output_type": "stream",
          "text": [
            "Model: \"sequential\"\n",
            "_________________________________________________________________\n",
            "Layer (type)                 Output Shape              Param #   \n",
            "=================================================================\n",
            "conv2d (Conv2D)              (None, 26, 26, 32)        320       \n",
            "_________________________________________________________________\n",
            "max_pooling2d (MaxPooling2D) (None, 13, 13, 32)        0         \n",
            "_________________________________________________________________\n",
            "conv2d_1 (Conv2D)            (None, 11, 11, 64)        18496     \n",
            "_________________________________________________________________\n",
            "max_pooling2d_1 (MaxPooling2 (None, 5, 5, 64)          0         \n",
            "_________________________________________________________________\n",
            "conv2d_2 (Conv2D)            (None, 3, 3, 64)          36928     \n",
            "_________________________________________________________________\n",
            "flatten (Flatten)            (None, 576)               0         \n",
            "_________________________________________________________________\n",
            "dense (Dense)                (None, 64)                36928     \n",
            "_________________________________________________________________\n",
            "dense_1 (Dense)              (None, 10)                650       \n",
            "=================================================================\n",
            "Total params: 93,322\n",
            "Trainable params: 93,322\n",
            "Non-trainable params: 0\n",
            "_________________________________________________________________\n"
          ],
          "name": "stdout"
        }
      ]
    },
    {
      "cell_type": "markdown",
      "metadata": {
        "id": "X0S6Yqg0KebJ"
      },
      "source": [
        "### 2) Model Compile\n",
        "- 모델 학습방법 설정"
      ]
    },
    {
      "cell_type": "code",
      "metadata": {
        "id": "Le_cLdjXKLJf"
      },
      "source": [
        "model.compile(loss = 'categorical_crossentropy',\n",
        "              optimizer = 'rmsprop' ,\n",
        "              metrics = ['accuracy'])"
      ],
      "execution_count": 16,
      "outputs": []
    },
    {
      "cell_type": "markdown",
      "metadata": {
        "id": "DGWtTgNkKmtO"
      },
      "source": [
        "### 3) Model Fit"
      ]
    },
    {
      "cell_type": "code",
      "metadata": {
        "colab": {
          "base_uri": "https://localhost:8080/"
        },
        "id": "NDzyBQXUKmH-",
        "outputId": "3e015b2d-bb2c-4942-99a6-5374892f4c3a"
      },
      "source": [
        "%%time\n",
        "\n",
        "Hist_mnist = model.fit(X_train, y_train,\n",
        "                       epochs = 100,\n",
        "                       batch_size = 128,\n",
        "                       validation_split = 0.2)"
      ],
      "execution_count": 17,
      "outputs": [
        {
          "output_type": "stream",
          "text": [
            "Epoch 1/100\n",
            "375/375 [==============================] - 33s 6ms/step - loss: 0.5824 - accuracy: 0.8181 - val_loss: 0.0737 - val_accuracy: 0.9772\n",
            "Epoch 2/100\n",
            "375/375 [==============================] - 2s 5ms/step - loss: 0.0715 - accuracy: 0.9770 - val_loss: 0.0748 - val_accuracy: 0.9780\n",
            "Epoch 3/100\n",
            "375/375 [==============================] - 2s 5ms/step - loss: 0.0401 - accuracy: 0.9873 - val_loss: 0.0472 - val_accuracy: 0.9859\n",
            "Epoch 4/100\n",
            "375/375 [==============================] - 2s 4ms/step - loss: 0.0292 - accuracy: 0.9904 - val_loss: 0.0568 - val_accuracy: 0.9844\n",
            "Epoch 5/100\n",
            "375/375 [==============================] - 2s 4ms/step - loss: 0.0233 - accuracy: 0.9930 - val_loss: 0.0576 - val_accuracy: 0.9838\n",
            "Epoch 6/100\n",
            "375/375 [==============================] - 2s 4ms/step - loss: 0.0193 - accuracy: 0.9934 - val_loss: 0.0400 - val_accuracy: 0.9892\n",
            "Epoch 7/100\n",
            "375/375 [==============================] - 2s 4ms/step - loss: 0.0137 - accuracy: 0.9958 - val_loss: 0.0430 - val_accuracy: 0.9893\n",
            "Epoch 8/100\n",
            "375/375 [==============================] - 2s 4ms/step - loss: 0.0122 - accuracy: 0.9958 - val_loss: 0.0403 - val_accuracy: 0.9898\n",
            "Epoch 9/100\n",
            "375/375 [==============================] - 2s 4ms/step - loss: 0.0091 - accuracy: 0.9971 - val_loss: 0.0368 - val_accuracy: 0.9911\n",
            "Epoch 10/100\n",
            "375/375 [==============================] - 2s 4ms/step - loss: 0.0078 - accuracy: 0.9975 - val_loss: 0.0432 - val_accuracy: 0.9910\n",
            "Epoch 11/100\n",
            "375/375 [==============================] - 2s 4ms/step - loss: 0.0073 - accuracy: 0.9976 - val_loss: 0.0484 - val_accuracy: 0.9907\n",
            "Epoch 12/100\n",
            "375/375 [==============================] - 2s 4ms/step - loss: 0.0059 - accuracy: 0.9978 - val_loss: 0.0556 - val_accuracy: 0.9889\n",
            "Epoch 13/100\n",
            "375/375 [==============================] - 2s 4ms/step - loss: 0.0053 - accuracy: 0.9980 - val_loss: 0.0626 - val_accuracy: 0.9882\n",
            "Epoch 14/100\n",
            "375/375 [==============================] - 2s 4ms/step - loss: 0.0048 - accuracy: 0.9985 - val_loss: 0.0441 - val_accuracy: 0.9913\n",
            "Epoch 15/100\n",
            "375/375 [==============================] - 2s 4ms/step - loss: 0.0031 - accuracy: 0.9989 - val_loss: 0.0515 - val_accuracy: 0.9902\n",
            "Epoch 16/100\n",
            "375/375 [==============================] - 2s 4ms/step - loss: 0.0031 - accuracy: 0.9989 - val_loss: 0.0560 - val_accuracy: 0.9906\n",
            "Epoch 17/100\n",
            "375/375 [==============================] - 2s 4ms/step - loss: 0.0028 - accuracy: 0.9988 - val_loss: 0.0588 - val_accuracy: 0.9914\n",
            "Epoch 18/100\n",
            "375/375 [==============================] - 2s 4ms/step - loss: 0.0028 - accuracy: 0.9993 - val_loss: 0.0774 - val_accuracy: 0.9885\n",
            "Epoch 19/100\n",
            "375/375 [==============================] - 2s 4ms/step - loss: 0.0024 - accuracy: 0.9992 - val_loss: 0.0553 - val_accuracy: 0.9923\n",
            "Epoch 20/100\n",
            "375/375 [==============================] - 2s 4ms/step - loss: 0.0019 - accuracy: 0.9996 - val_loss: 0.0661 - val_accuracy: 0.9901\n",
            "Epoch 21/100\n",
            "375/375 [==============================] - 2s 4ms/step - loss: 0.0014 - accuracy: 0.9995 - val_loss: 0.0700 - val_accuracy: 0.9908\n",
            "Epoch 22/100\n",
            "375/375 [==============================] - 2s 4ms/step - loss: 0.0022 - accuracy: 0.9994 - val_loss: 0.0669 - val_accuracy: 0.9914\n",
            "Epoch 23/100\n",
            "375/375 [==============================] - 2s 4ms/step - loss: 0.0030 - accuracy: 0.9993 - val_loss: 0.0613 - val_accuracy: 0.9917\n",
            "Epoch 24/100\n",
            "375/375 [==============================] - 2s 4ms/step - loss: 0.0013 - accuracy: 0.9997 - val_loss: 0.0721 - val_accuracy: 0.9909\n",
            "Epoch 25/100\n",
            "375/375 [==============================] - 2s 4ms/step - loss: 0.0011 - accuracy: 0.9996 - val_loss: 0.0707 - val_accuracy: 0.9920\n",
            "Epoch 26/100\n",
            "375/375 [==============================] - 2s 4ms/step - loss: 0.0014 - accuracy: 0.9996 - val_loss: 0.0834 - val_accuracy: 0.9908\n",
            "Epoch 27/100\n",
            "375/375 [==============================] - 2s 4ms/step - loss: 0.0014 - accuracy: 0.9995 - val_loss: 0.1017 - val_accuracy: 0.9903\n",
            "Epoch 28/100\n",
            "375/375 [==============================] - 2s 4ms/step - loss: 0.0021 - accuracy: 0.9995 - val_loss: 0.0756 - val_accuracy: 0.9922\n",
            "Epoch 29/100\n",
            "375/375 [==============================] - 2s 4ms/step - loss: 0.0015 - accuracy: 0.9996 - val_loss: 0.0814 - val_accuracy: 0.9920\n",
            "Epoch 30/100\n",
            "375/375 [==============================] - 2s 5ms/step - loss: 5.7390e-04 - accuracy: 0.9998 - val_loss: 0.0968 - val_accuracy: 0.9908\n",
            "Epoch 31/100\n",
            "375/375 [==============================] - 2s 5ms/step - loss: 9.4037e-04 - accuracy: 0.9997 - val_loss: 0.0909 - val_accuracy: 0.9921\n",
            "Epoch 32/100\n",
            "375/375 [==============================] - 2s 4ms/step - loss: 0.0018 - accuracy: 0.9997 - val_loss: 0.0969 - val_accuracy: 0.9913\n",
            "Epoch 33/100\n",
            "375/375 [==============================] - 2s 4ms/step - loss: 0.0029 - accuracy: 0.9993 - val_loss: 0.0872 - val_accuracy: 0.9918\n",
            "Epoch 34/100\n",
            "375/375 [==============================] - 2s 4ms/step - loss: 0.0016 - accuracy: 0.9997 - val_loss: 0.0883 - val_accuracy: 0.9909\n",
            "Epoch 35/100\n",
            "375/375 [==============================] - 2s 4ms/step - loss: 0.0012 - accuracy: 0.9996 - val_loss: 0.0930 - val_accuracy: 0.9910\n",
            "Epoch 36/100\n",
            "375/375 [==============================] - 2s 4ms/step - loss: 0.0016 - accuracy: 0.9996 - val_loss: 0.1065 - val_accuracy: 0.9893\n",
            "Epoch 37/100\n",
            "375/375 [==============================] - 2s 4ms/step - loss: 0.0015 - accuracy: 0.9997 - val_loss: 0.1152 - val_accuracy: 0.9910\n",
            "Epoch 38/100\n",
            "375/375 [==============================] - 2s 4ms/step - loss: 5.6676e-04 - accuracy: 0.9998 - val_loss: 0.1171 - val_accuracy: 0.9910\n",
            "Epoch 39/100\n",
            "375/375 [==============================] - 2s 4ms/step - loss: 0.0014 - accuracy: 0.9996 - val_loss: 0.1037 - val_accuracy: 0.9913\n",
            "Epoch 40/100\n",
            "375/375 [==============================] - 2s 4ms/step - loss: 8.0195e-04 - accuracy: 0.9998 - val_loss: 0.1013 - val_accuracy: 0.9920\n",
            "Epoch 41/100\n",
            "375/375 [==============================] - 2s 5ms/step - loss: 0.0010 - accuracy: 0.9996 - val_loss: 0.1087 - val_accuracy: 0.9912\n",
            "Epoch 42/100\n",
            "375/375 [==============================] - 2s 4ms/step - loss: 2.6598e-04 - accuracy: 0.9999 - val_loss: 0.1189 - val_accuracy: 0.9907\n",
            "Epoch 43/100\n",
            "375/375 [==============================] - 2s 4ms/step - loss: 0.0011 - accuracy: 0.9998 - val_loss: 0.1261 - val_accuracy: 0.9895\n",
            "Epoch 44/100\n",
            "375/375 [==============================] - 2s 4ms/step - loss: 0.0025 - accuracy: 0.9994 - val_loss: 0.1381 - val_accuracy: 0.9893\n",
            "Epoch 45/100\n",
            "375/375 [==============================] - 2s 5ms/step - loss: 8.6179e-04 - accuracy: 0.9998 - val_loss: 0.1226 - val_accuracy: 0.9894\n",
            "Epoch 46/100\n",
            "375/375 [==============================] - 2s 4ms/step - loss: 9.0538e-04 - accuracy: 0.9997 - val_loss: 0.1301 - val_accuracy: 0.9908\n",
            "Epoch 47/100\n",
            "375/375 [==============================] - 2s 5ms/step - loss: 0.0011 - accuracy: 0.9997 - val_loss: 0.1295 - val_accuracy: 0.9903\n",
            "Epoch 48/100\n",
            "375/375 [==============================] - 2s 4ms/step - loss: 0.0018 - accuracy: 0.9996 - val_loss: 0.1581 - val_accuracy: 0.9903\n",
            "Epoch 49/100\n",
            "375/375 [==============================] - 2s 4ms/step - loss: 7.6989e-04 - accuracy: 0.9997 - val_loss: 0.1331 - val_accuracy: 0.9907\n",
            "Epoch 50/100\n",
            "375/375 [==============================] - 2s 4ms/step - loss: 0.0011 - accuracy: 0.9998 - val_loss: 0.1469 - val_accuracy: 0.9902\n",
            "Epoch 51/100\n",
            "375/375 [==============================] - 2s 4ms/step - loss: 5.4113e-04 - accuracy: 0.9999 - val_loss: 0.1512 - val_accuracy: 0.9906\n",
            "Epoch 52/100\n",
            "375/375 [==============================] - 2s 4ms/step - loss: 0.0024 - accuracy: 0.9996 - val_loss: 0.1246 - val_accuracy: 0.9912\n",
            "Epoch 53/100\n",
            "375/375 [==============================] - 2s 4ms/step - loss: 5.8234e-04 - accuracy: 0.9999 - val_loss: 0.1461 - val_accuracy: 0.9897\n",
            "Epoch 54/100\n",
            "375/375 [==============================] - 2s 4ms/step - loss: 0.0021 - accuracy: 0.9996 - val_loss: 0.1351 - val_accuracy: 0.9908\n",
            "Epoch 55/100\n",
            "375/375 [==============================] - 2s 4ms/step - loss: 8.8885e-04 - accuracy: 0.9998 - val_loss: 0.1471 - val_accuracy: 0.9904\n",
            "Epoch 56/100\n",
            "375/375 [==============================] - 2s 4ms/step - loss: 0.0011 - accuracy: 0.9997 - val_loss: 0.1578 - val_accuracy: 0.9900\n",
            "Epoch 57/100\n",
            "375/375 [==============================] - 2s 4ms/step - loss: 6.7597e-04 - accuracy: 0.9998 - val_loss: 0.1637 - val_accuracy: 0.9897\n",
            "Epoch 58/100\n",
            "375/375 [==============================] - 2s 5ms/step - loss: 0.0012 - accuracy: 0.9998 - val_loss: 0.1462 - val_accuracy: 0.9911\n",
            "Epoch 59/100\n",
            "375/375 [==============================] - 2s 4ms/step - loss: 0.0018 - accuracy: 0.9997 - val_loss: 0.1398 - val_accuracy: 0.9918\n",
            "Epoch 60/100\n",
            "375/375 [==============================] - 2s 4ms/step - loss: 6.0660e-04 - accuracy: 0.9998 - val_loss: 0.1487 - val_accuracy: 0.9913\n",
            "Epoch 61/100\n",
            "375/375 [==============================] - 2s 5ms/step - loss: 0.0011 - accuracy: 0.9998 - val_loss: 0.1421 - val_accuracy: 0.9915\n",
            "Epoch 62/100\n",
            "375/375 [==============================] - 2s 4ms/step - loss: 2.5264e-04 - accuracy: 0.9999 - val_loss: 0.1464 - val_accuracy: 0.9910\n",
            "Epoch 63/100\n",
            "375/375 [==============================] - 2s 4ms/step - loss: 6.2439e-04 - accuracy: 0.9998 - val_loss: 0.1379 - val_accuracy: 0.9917\n",
            "Epoch 64/100\n",
            "375/375 [==============================] - 2s 4ms/step - loss: 0.0010 - accuracy: 0.9998 - val_loss: 0.1610 - val_accuracy: 0.9904\n",
            "Epoch 65/100\n",
            "375/375 [==============================] - 2s 5ms/step - loss: 2.3407e-04 - accuracy: 0.9999 - val_loss: 0.1528 - val_accuracy: 0.9911\n",
            "Epoch 66/100\n",
            "375/375 [==============================] - 2s 4ms/step - loss: 3.0476e-04 - accuracy: 0.9999 - val_loss: 0.1790 - val_accuracy: 0.9908\n",
            "Epoch 67/100\n",
            "375/375 [==============================] - 2s 4ms/step - loss: 6.7429e-04 - accuracy: 0.9999 - val_loss: 0.1552 - val_accuracy: 0.9914\n",
            "Epoch 68/100\n",
            "375/375 [==============================] - 2s 4ms/step - loss: 1.0078e-04 - accuracy: 1.0000 - val_loss: 0.1647 - val_accuracy: 0.9908\n",
            "Epoch 69/100\n",
            "375/375 [==============================] - 2s 4ms/step - loss: 6.2015e-04 - accuracy: 0.9999 - val_loss: 0.1579 - val_accuracy: 0.9912\n",
            "Epoch 70/100\n",
            "375/375 [==============================] - 2s 4ms/step - loss: 3.7304e-04 - accuracy: 0.9999 - val_loss: 0.2004 - val_accuracy: 0.9906\n",
            "Epoch 71/100\n",
            "375/375 [==============================] - 2s 5ms/step - loss: 6.1517e-04 - accuracy: 0.9998 - val_loss: 0.2219 - val_accuracy: 0.9891\n",
            "Epoch 72/100\n",
            "375/375 [==============================] - 2s 4ms/step - loss: 0.0022 - accuracy: 0.9996 - val_loss: 0.1780 - val_accuracy: 0.9909\n",
            "Epoch 73/100\n",
            "375/375 [==============================] - 2s 4ms/step - loss: 3.4570e-04 - accuracy: 1.0000 - val_loss: 0.1839 - val_accuracy: 0.9907\n",
            "Epoch 74/100\n",
            "375/375 [==============================] - 2s 5ms/step - loss: 4.9327e-04 - accuracy: 0.9998 - val_loss: 0.1746 - val_accuracy: 0.9909\n",
            "Epoch 75/100\n",
            "375/375 [==============================] - 2s 4ms/step - loss: 1.6765e-04 - accuracy: 0.9999 - val_loss: 0.1783 - val_accuracy: 0.9915\n",
            "Epoch 76/100\n",
            "375/375 [==============================] - 2s 5ms/step - loss: 9.0100e-04 - accuracy: 0.9999 - val_loss: 0.2049 - val_accuracy: 0.9905\n",
            "Epoch 77/100\n",
            "375/375 [==============================] - 2s 4ms/step - loss: 7.6153e-04 - accuracy: 0.9998 - val_loss: 0.1803 - val_accuracy: 0.9911\n",
            "Epoch 78/100\n",
            "375/375 [==============================] - 2s 5ms/step - loss: 6.8929e-04 - accuracy: 0.9999 - val_loss: 0.1806 - val_accuracy: 0.9908\n",
            "Epoch 79/100\n",
            "375/375 [==============================] - 2s 5ms/step - loss: 5.2233e-04 - accuracy: 0.9999 - val_loss: 0.1782 - val_accuracy: 0.9913\n",
            "Epoch 80/100\n",
            "375/375 [==============================] - 2s 4ms/step - loss: 6.9841e-04 - accuracy: 0.9998 - val_loss: 0.1892 - val_accuracy: 0.9910\n",
            "Epoch 81/100\n",
            "375/375 [==============================] - 2s 5ms/step - loss: 8.3000e-04 - accuracy: 0.9997 - val_loss: 0.2050 - val_accuracy: 0.9900\n",
            "Epoch 82/100\n",
            "375/375 [==============================] - 2s 4ms/step - loss: 0.0012 - accuracy: 0.9997 - val_loss: 0.1704 - val_accuracy: 0.9908\n",
            "Epoch 83/100\n",
            "375/375 [==============================] - 2s 4ms/step - loss: 9.2772e-04 - accuracy: 0.9998 - val_loss: 0.2096 - val_accuracy: 0.9906\n",
            "Epoch 84/100\n",
            "375/375 [==============================] - 2s 5ms/step - loss: 2.4102e-04 - accuracy: 1.0000 - val_loss: 0.2109 - val_accuracy: 0.9917\n",
            "Epoch 85/100\n",
            "375/375 [==============================] - 2s 5ms/step - loss: 0.0011 - accuracy: 0.9998 - val_loss: 0.2522 - val_accuracy: 0.9892\n",
            "Epoch 86/100\n",
            "375/375 [==============================] - 2s 5ms/step - loss: 5.4910e-04 - accuracy: 0.9998 - val_loss: 0.1938 - val_accuracy: 0.9910\n",
            "Epoch 87/100\n",
            "375/375 [==============================] - 2s 5ms/step - loss: 7.8360e-04 - accuracy: 0.9998 - val_loss: 0.1581 - val_accuracy: 0.9912\n",
            "Epoch 88/100\n",
            "375/375 [==============================] - 2s 4ms/step - loss: 5.1652e-05 - accuracy: 1.0000 - val_loss: 0.1705 - val_accuracy: 0.9913\n",
            "Epoch 89/100\n",
            "375/375 [==============================] - 2s 5ms/step - loss: 2.0418e-04 - accuracy: 1.0000 - val_loss: 0.1852 - val_accuracy: 0.9911\n",
            "Epoch 90/100\n",
            "375/375 [==============================] - 2s 5ms/step - loss: 4.9184e-04 - accuracy: 0.9999 - val_loss: 0.2153 - val_accuracy: 0.9901\n",
            "Epoch 91/100\n",
            "375/375 [==============================] - 2s 4ms/step - loss: 6.9376e-04 - accuracy: 0.9999 - val_loss: 0.2029 - val_accuracy: 0.9900\n",
            "Epoch 92/100\n",
            "375/375 [==============================] - 2s 5ms/step - loss: 4.2660e-04 - accuracy: 0.9999 - val_loss: 0.2293 - val_accuracy: 0.9909\n",
            "Epoch 93/100\n",
            "375/375 [==============================] - 2s 5ms/step - loss: 7.0829e-04 - accuracy: 0.9998 - val_loss: 0.1791 - val_accuracy: 0.9914\n",
            "Epoch 94/100\n",
            "375/375 [==============================] - 2s 4ms/step - loss: 5.7039e-04 - accuracy: 0.9999 - val_loss: 0.2171 - val_accuracy: 0.9910\n",
            "Epoch 95/100\n",
            "375/375 [==============================] - 2s 4ms/step - loss: 2.8821e-04 - accuracy: 0.9999 - val_loss: 0.1898 - val_accuracy: 0.9910\n",
            "Epoch 96/100\n",
            "375/375 [==============================] - 2s 4ms/step - loss: 3.5301e-05 - accuracy: 1.0000 - val_loss: 0.1846 - val_accuracy: 0.9909\n",
            "Epoch 97/100\n",
            "375/375 [==============================] - 2s 4ms/step - loss: 3.0373e-04 - accuracy: 0.9999 - val_loss: 0.1819 - val_accuracy: 0.9918\n",
            "Epoch 98/100\n",
            "375/375 [==============================] - 2s 4ms/step - loss: 7.7041e-05 - accuracy: 1.0000 - val_loss: 0.1920 - val_accuracy: 0.9918\n",
            "Epoch 99/100\n",
            "375/375 [==============================] - 2s 4ms/step - loss: 4.7705e-04 - accuracy: 0.9999 - val_loss: 0.2399 - val_accuracy: 0.9901\n",
            "Epoch 100/100\n",
            "375/375 [==============================] - 2s 4ms/step - loss: 0.0022 - accuracy: 0.9999 - val_loss: 0.2027 - val_accuracy: 0.9918\n",
            "CPU times: user 2min 55s, sys: 26.4 s, total: 3min 21s\n",
            "Wall time: 3min 19s\n"
          ],
          "name": "stdout"
        }
      ]
    },
    {
      "cell_type": "markdown",
      "metadata": {
        "id": "hBocg7ePKw2g"
      },
      "source": [
        "### 4) 학습결과 시각화\n",
        "- Loss Visualization"
      ]
    },
    {
      "cell_type": "code",
      "metadata": {
        "colab": {
          "base_uri": "https://localhost:8080/",
          "height": 404
        },
        "id": "XzxkJYLGKv7-",
        "outputId": "3166d5a9-dc61-42a6-f7e3-019bff5c3185"
      },
      "source": [
        "epochs = range(1, len(Hist_mnist.history['loss']) + 1)\n",
        "\n",
        "plt.figure(figsize = (9, 6))\n",
        "plt.plot(epochs, Hist_mnist.history['loss'])\n",
        "plt.plot(epochs, Hist_mnist.history['val_loss'])\n",
        "plt.ylim(0, 0.4)\n",
        "plt.title('Training & Validation Loss')\n",
        "plt.xlabel('Epochs')\n",
        "plt.ylabel('Loss')\n",
        "plt.legend(['Training Loss' , 'Validation Loss'])\n",
        "plt.grid()\n",
        "plt.show()"
      ],
      "execution_count": 20,
      "outputs": [
        {
          "output_type": "display_data",
          "data": {
            "image/png": "[encoded data removed]",
            "text/plain": [
              "<Figure size 648x432 with 1 Axes>"
            ]
          },
          "metadata": {
            "tags": [],
            "needs_background": "light"
          }
        }
      ]
    },
    {
      "cell_type": "markdown",
      "metadata": {
        "id": "kce1V1c9LM2a"
      },
      "source": [
        "### 5) Model Evaluate\n",
        "- Loss & Accuracy"
      ]
    },
    {
      "cell_type": "code",
      "metadata": {
        "colab": {
          "base_uri": "https://localhost:8080/"
        },
        "id": "wlrU8GxJLQ33",
        "outputId": "86d9c740-94f5-4a99-fa46-eec6023007c4"
      },
      "source": [
        "loss, accuracy = model.evaluate(X_test, y_test)\n",
        "\n",
        "print('Loss: {:.5f}' .format(loss))\n",
        "print('Accuracy: {:.5f}' .format(accuracy))"
      ],
      "execution_count": 22,
      "outputs": [
        {
          "output_type": "stream",
          "text": [
            "313/313 [==============================] - 1s 2ms/step - loss: 0.1315 - accuracy: 0.9935\n",
            "Loss: 0.13146\n",
            "Accuracy: 0.99350\n"
          ],
          "name": "stdout"
        }
      ]
    }
  ]
}