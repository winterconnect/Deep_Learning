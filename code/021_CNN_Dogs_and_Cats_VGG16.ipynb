{
  "nbformat": 4,
  "nbformat_minor": 0,
  "metadata": {
    "colab": {
      "name": "021_CNN_Dogs_and_Cats_VGG16.ipynb",
      "provenance": [],
      "collapsed_sections": []
    },
    "kernelspec": {
      "name": "python3",
      "display_name": "Python 3"
    },
    "accelerator": "GPU"
  },
  "cells": [
    {
      "cell_type": "markdown",
      "metadata": {
        "id": "q2Pr7oBdYLdf"
      },
      "source": [
        "# VGG-16 재훈련\n",
        "## VGG-16 Model\n",
        "* University of Oxford - Visual Geometry Group\n",
        "* 2014 ILSVRC 2nd Model\n",
        "* ImageNet Large Scale Visual Recognition Challenge (ILSVRC)\n"
      ]
    },
    {
      "cell_type": "code",
      "metadata": {
        "id": "RbPgODpVzdHI"
      },
      "source": [
        "import warnings\n",
        "warnings.filterwarnings('ignore')"
      ],
      "execution_count": null,
      "outputs": []
    },
    {
      "cell_type": "code",
      "metadata": {
        "id": "XogCPgnMMNBt"
      },
      "source": [
        "import matplotlib.pyplot as plt\n",
        "import pandas as pd\n",
        "import numpy as np"
      ],
      "execution_count": null,
      "outputs": []
    },
    {
      "cell_type": "code",
      "metadata": {
        "id": "wcVIbknjMHnb"
      },
      "source": [
        "import keras\n",
        "from keras.callbacks import EarlyStopping, ModelCheckpoint"
      ],
      "execution_count": null,
      "outputs": []
    },
    {
      "cell_type": "markdown",
      "metadata": {
        "id": "Wj2YDhpFrpeb"
      },
      "source": [
        "# I. Google Drive Mount\n",
        "* 'dogs_and_cats_small.zip' 디렉토리를 구글드라이브에 업로드"
      ]
    },
    {
      "cell_type": "code",
      "metadata": {
        "id": "EkooevWlEpae",
        "colab": {
          "base_uri": "https://localhost:8080/"
        },
        "outputId": "b03152be-1e9c-4782-8319-6fafca20ffea"
      },
      "source": [
        "from google.colab import drive\n",
        "\n",
        "drive.mount('/content/drive')"
      ],
      "execution_count": null,
      "outputs": [
        {
          "output_type": "stream",
          "text": [
            "Mounted at /content/drive\n"
          ],
          "name": "stdout"
        }
      ]
    },
    {
      "cell_type": "markdown",
      "metadata": {
        "id": "exwpHwMXXQpA"
      },
      "source": [
        "> ## 1) 구글 드라이브 마운트 결과 확인"
      ]
    },
    {
      "cell_type": "code",
      "metadata": {
        "id": "z2azrWPBKTTw",
        "colab": {
          "base_uri": "https://localhost:8080/"
        },
        "outputId": "0f359b97-9f51-4142-c2f9-d819228d40a7"
      },
      "source": [
        "!ls -l '/content/drive/My Drive/Colab Notebooks/datasets/dogs_and_cats_small.zip'"
      ],
      "execution_count": null,
      "outputs": [
        {
          "output_type": "stream",
          "text": [
            "-rw------- 1 root root 90618980 Mar  4 04:51 '/content/drive/My Drive/Colab Notebooks/datasets/dogs_and_cats_small.zip'\n"
          ],
          "name": "stdout"
        }
      ]
    },
    {
      "cell_type": "markdown",
      "metadata": {
        "id": "ndWiKdoYWsck"
      },
      "source": [
        "> ## 2) unzip 'dogs_and_cats_small.zip'"
      ]
    },
    {
      "cell_type": "code",
      "metadata": {
        "id": "Olr39vl1U89G"
      },
      "source": [
        "!unzip /content/drive/My\\ Drive/Colab\\ Notebooks/datasets/dogs_and_cats_small.zip"
      ],
      "execution_count": null,
      "outputs": []
    },
    {
      "cell_type": "code",
      "metadata": {
        "id": "Wt95WJ0SXOPP",
        "colab": {
          "base_uri": "https://localhost:8080/"
        },
        "outputId": "7d148f92-402f-4276-a1b5-0a5f9ed0feca"
      },
      "source": [
        "!ls -l"
      ],
      "execution_count": null,
      "outputs": [
        {
          "output_type": "stream",
          "text": [
            "total 20\n",
            "drwx------ 5 root root 4096 Mar 24 06:54 drive\n",
            "drwxr-xr-x 1 root root 4096 Mar 18 13:36 sample_data\n",
            "drwxr-xr-x 4 root root 4096 Mar 24 06:54 test\n",
            "drwxr-xr-x 4 root root 4096 Mar 24 06:54 train\n",
            "drwxr-xr-x 4 root root 4096 Mar 24 06:54 validation\n"
          ],
          "name": "stdout"
        }
      ]
    },
    {
      "cell_type": "markdown",
      "metadata": {
        "id": "1DyFdyVxFyHK"
      },
      "source": [
        "# II. Image_File Directory Setting"
      ]
    },
    {
      "cell_type": "markdown",
      "metadata": {
        "id": "fwUMpMCYGB7Z"
      },
      "source": [
        "* train_dir\n",
        "* valid_dir\n",
        "* test_dir"
      ]
    },
    {
      "cell_type": "code",
      "metadata": {
        "id": "DxstjE8b_6Te"
      },
      "source": [
        "train_dir = 'train'\n",
        "valid_dir = 'validation'\n",
        "test_dir = 'test'"
      ],
      "execution_count": null,
      "outputs": []
    },
    {
      "cell_type": "markdown",
      "metadata": {
        "id": "0NXAn6tEYuVP"
      },
      "source": [
        "# III. Data Preprocessing"
      ]
    },
    {
      "cell_type": "markdown",
      "metadata": {
        "id": "k-mxzCBmZBVW"
      },
      "source": [
        "> ## 1) ImageDataGenerator( ) & flow_from_directory( )"
      ]
    },
    {
      "cell_type": "markdown",
      "metadata": {
        "id": "67hcrgtRubHV"
      },
      "source": [
        "* Normalization\n",
        " * ImageDataGenerator( )\n",
        "* Resizing & Generator\n",
        " * flow_from_directory( )"
      ]
    },
    {
      "cell_type": "code",
      "metadata": {
        "id": "fv4TEj_oZDGm",
        "colab": {
          "base_uri": "https://localhost:8080/"
        },
        "outputId": "8e6b0622-9792-41e7-fe6b-c6c9fc2e593b"
      },
      "source": [
        "from keras.preprocessing.image import ImageDataGenerator\n",
        "\n",
        "train_datagen = ImageDataGenerator(rescale = 1. / 255 ,\n",
        "                                   rotation_range = 40,\n",
        "                                   width_shift_range = 0.2,\n",
        "                                   height_shift_range = 0.2,\n",
        "                                   shear_range = 0.2,\n",
        "                                   zoom_range = 0.2,\n",
        "                                   horizontal_flip = True ,\n",
        "                                   vertical_flip = True ,\n",
        "                                   fill_mode = 'nearest')\n",
        "valid_datagen = ImageDataGenerator(rescale = 1./255)\n",
        "\n",
        "\n",
        "train_generator = train_datagen.flow_from_directory(\n",
        "                  train_dir,\n",
        "                  target_size = (180, 180),\n",
        "                  batch_size = 20,\n",
        "                  class_mode = 'binary')\n",
        "\n",
        "valid_generator = valid_datagen.flow_from_directory(\n",
        "                  valid_dir,\n",
        "                  target_size = (180, 180),\n",
        "                  batch_size = 20,\n",
        "                  class_mode = 'binary')"
      ],
      "execution_count": null,
      "outputs": [
        {
          "output_type": "stream",
          "text": [
            "Found 2000 images belonging to 2 classes.\n",
            "Found 1000 images belonging to 2 classes.\n"
          ],
          "name": "stdout"
        }
      ]
    },
    {
      "cell_type": "code",
      "metadata": {
        "colab": {
          "base_uri": "https://localhost:8080/"
        },
        "id": "WKVucnlpLV1D",
        "outputId": "b690a9f8-11b6-42b0-cbff-5d09bd666121"
      },
      "source": [
        "test_datagen = ImageDataGenerator(rescale = 1./255)\n",
        "\n",
        "test_generator = test_datagen.flow_from_directory(\n",
        "                 test_dir,\n",
        "                 target_size = (180, 180),\n",
        "                 batch_size = 20,\n",
        "                 class_mode = 'binary')"
      ],
      "execution_count": null,
      "outputs": [
        {
          "output_type": "stream",
          "text": [
            "Found 1000 images belonging to 2 classes.\n"
          ],
          "name": "stdout"
        }
      ]
    },
    {
      "cell_type": "markdown",
      "metadata": {
        "id": "wBAWLCWdGNde"
      },
      "source": [
        "# IV. Import VGG-16 Model"
      ]
    },
    {
      "cell_type": "markdown",
      "metadata": {
        "id": "tpdqyBb2Gsdj"
      },
      "source": [
        "> ## 1) conv_base"
      ]
    },
    {
      "cell_type": "code",
      "metadata": {
        "id": "Zgv7VdbFGTGK"
      },
      "source": [
        "from keras.applications import VGG16\n",
        "\n",
        "conv_base = VGG16(weights = 'imagenet',\n",
        "                  include_top = False,\n",
        "                  input_shape = (180, 180, 3))"
      ],
      "execution_count": null,
      "outputs": []
    },
    {
      "cell_type": "markdown",
      "metadata": {
        "id": "NTwZiSjiop3v"
      },
      "source": [
        "# V. Keras CNN Modeling with VGG-16"
      ]
    },
    {
      "cell_type": "markdown",
      "metadata": {
        "id": "j5CT0TurJCkc"
      },
      "source": [
        "> ## 1) Model Define"
      ]
    },
    {
      "cell_type": "markdown",
      "metadata": {
        "id": "ydDCl0jTJD58"
      },
      "source": [
        "* 'conv_base' & 'Classification' Network\n",
        "* Dropout Layer"
      ]
    },
    {
      "cell_type": "code",
      "metadata": {
        "id": "II0DskRdAcHS"
      },
      "source": [
        "from keras import models, layers\n",
        "\n",
        "model = models.Sequential()\n",
        "model.add(conv_base)\n",
        "\n",
        "model.add(layers.Flatten())\n",
        "model.add(layers.Dense(512, activation = 'relu'))\n",
        "model.add(layers.Dropout(0.5))\n",
        "model.add(layers.Dense(1, activation = 'sigmoid'))"
      ],
      "execution_count": null,
      "outputs": []
    },
    {
      "cell_type": "code",
      "metadata": {
        "id": "wbtjOA4XMTUd",
        "colab": {
          "base_uri": "https://localhost:8080/"
        },
        "outputId": "b662517a-cb88-4451-f297-2022318a8ba9"
      },
      "source": [
        "model.summary()"
      ],
      "execution_count": null,
      "outputs": [
        {
          "output_type": "stream",
          "text": [
            "Model: \"sequential_1\"\n",
            "_________________________________________________________________\n",
            "Layer (type)                 Output Shape              Param #   \n",
            "=================================================================\n",
            "vgg16 (Functional)           (None, 5, 5, 512)         14714688  \n",
            "_________________________________________________________________\n",
            "flatten_1 (Flatten)          (None, 12800)             0         \n",
            "_________________________________________________________________\n",
            "dense_2 (Dense)              (None, 512)               6554112   \n",
            "_________________________________________________________________\n",
            "dropout_1 (Dropout)          (None, 512)               0         \n",
            "_________________________________________________________________\n",
            "dense_3 (Dense)              (None, 1)                 513       \n",
            "=================================================================\n",
            "Total params: 21,269,313\n",
            "Trainable params: 21,269,313\n",
            "Non-trainable params: 0\n",
            "_________________________________________________________________\n"
          ],
          "name": "stdout"
        }
      ]
    },
    {
      "cell_type": "markdown",
      "metadata": {
        "id": "tpjBDBeYoyuj"
      },
      "source": [
        "> ## 2) Model Compile"
      ]
    },
    {
      "cell_type": "markdown",
      "metadata": {
        "id": "f3sxkQa0JoUr"
      },
      "source": [
        "* 모델 학습방법 설정\n",
        " * 이미 학습된 Weight 값을 Tuning\n",
        " * 매우 작은 Learnig Rate 지정\n",
        " * optimizers.Adam(lr = 0.000005)"
      ]
    },
    {
      "cell_type": "code",
      "metadata": {
        "id": "AyK_t1qwAi6M"
      },
      "source": [
        "from keras import optimizers\n",
        "\n",
        "model.compile(loss = 'binary_crossentropy',\n",
        "              optimizer = optimizers.Adam(lr = 0.000005),\n",
        "              metrics = ['accuracy'])"
      ],
      "execution_count": null,
      "outputs": []
    },
    {
      "cell_type": "code",
      "metadata": {
        "id": "FNw9y1E3L42v"
      },
      "source": [
        "es = EarlyStopping(monitor = 'val_accuracy' ,\n",
        "                   mode = 'max' ,\n",
        "                   patience = 50,\n",
        "                   verbose = 1)\n",
        "\n",
        "mc = ModelCheckpoint('best_dandc.h5',\n",
        "                     monitor = 'val_accuracy',\n",
        "                     mode = 'max',\n",
        "                     save_best_only = True,\n",
        "                     verbose = 1)"
      ],
      "execution_count": null,
      "outputs": []
    },
    {
      "cell_type": "markdown",
      "metadata": {
        "id": "umiq4B-Xo3OB"
      },
      "source": [
        "> ## 3) Model Fit"
      ]
    },
    {
      "cell_type": "markdown",
      "metadata": {
        "id": "1KuXREziKMD1"
      },
      "source": [
        "* 약 35분"
      ]
    },
    {
      "cell_type": "code",
      "metadata": {
        "id": "zxwqwAqRAqRP",
        "colab": {
          "base_uri": "https://localhost:8080/"
        },
        "outputId": "f01b2352-4611-42b6-d5be-40e82f21752e"
      },
      "source": [
        "%%time\n",
        "\n",
        "Hist_dandc = model.fit(train_generator,\n",
        "                       steps_per_epoch = 100,\n",
        "                       epochs = 500,\n",
        "                       validation_data = valid_generator,\n",
        "                       validation_steps = 50,\n",
        "                       callbacks = [es, mc],\n",
        "                       verbose = 1)"
      ],
      "execution_count": null,
      "outputs": [
        {
          "output_type": "stream",
          "text": [
            "Epoch 1/500\n",
            "100/100 [==============================] - 38s 316ms/step - loss: 0.7425 - accuracy: 0.5353 - val_loss: 0.5160 - val_accuracy: 0.7910\n",
            "\n",
            "Epoch 00001: val_accuracy improved from -inf to 0.79100, saving model to best_dandc.h5\n",
            "Epoch 2/500\n",
            "100/100 [==============================] - 31s 304ms/step - loss: 0.5870 - accuracy: 0.6753 - val_loss: 0.3968 - val_accuracy: 0.8080\n",
            "\n",
            "Epoch 00002: val_accuracy improved from 0.79100 to 0.80800, saving model to best_dandc.h5\n",
            "Epoch 3/500\n",
            "100/100 [==============================] - 31s 307ms/step - loss: 0.4531 - accuracy: 0.7851 - val_loss: 0.2763 - val_accuracy: 0.8910\n",
            "\n",
            "Epoch 00003: val_accuracy improved from 0.80800 to 0.89100, saving model to best_dandc.h5\n",
            "Epoch 4/500\n",
            "100/100 [==============================] - 31s 306ms/step - loss: 0.3716 - accuracy: 0.8455 - val_loss: 0.2028 - val_accuracy: 0.9180\n",
            "\n",
            "Epoch 00004: val_accuracy improved from 0.89100 to 0.91800, saving model to best_dandc.h5\n",
            "Epoch 5/500\n",
            "100/100 [==============================] - 30s 304ms/step - loss: 0.3480 - accuracy: 0.8437 - val_loss: 0.2030 - val_accuracy: 0.9180\n",
            "\n",
            "Epoch 00005: val_accuracy did not improve from 0.91800\n",
            "Epoch 6/500\n",
            "100/100 [==============================] - 31s 305ms/step - loss: 0.2757 - accuracy: 0.8745 - val_loss: 0.1643 - val_accuracy: 0.9240\n",
            "\n",
            "Epoch 00006: val_accuracy improved from 0.91800 to 0.92400, saving model to best_dandc.h5\n",
            "Epoch 7/500\n",
            "100/100 [==============================] - 30s 303ms/step - loss: 0.2698 - accuracy: 0.8722 - val_loss: 0.1529 - val_accuracy: 0.9430\n",
            "\n",
            "Epoch 00007: val_accuracy improved from 0.92400 to 0.94300, saving model to best_dandc.h5\n",
            "Epoch 8/500\n",
            "100/100 [==============================] - 30s 303ms/step - loss: 0.2322 - accuracy: 0.9018 - val_loss: 0.1946 - val_accuracy: 0.9230\n",
            "\n",
            "Epoch 00008: val_accuracy did not improve from 0.94300\n",
            "Epoch 9/500\n",
            "100/100 [==============================] - 30s 303ms/step - loss: 0.2172 - accuracy: 0.9141 - val_loss: 0.1408 - val_accuracy: 0.9500\n",
            "\n",
            "Epoch 00009: val_accuracy improved from 0.94300 to 0.95000, saving model to best_dandc.h5\n",
            "Epoch 10/500\n",
            "100/100 [==============================] - 31s 305ms/step - loss: 0.2379 - accuracy: 0.9025 - val_loss: 0.1613 - val_accuracy: 0.9440\n",
            "\n",
            "Epoch 00010: val_accuracy did not improve from 0.95000\n",
            "Epoch 11/500\n",
            "100/100 [==============================] - 30s 302ms/step - loss: 0.1972 - accuracy: 0.9196 - val_loss: 0.1489 - val_accuracy: 0.9500\n",
            "\n",
            "Epoch 00011: val_accuracy did not improve from 0.95000\n",
            "Epoch 12/500\n",
            "100/100 [==============================] - 30s 300ms/step - loss: 0.1841 - accuracy: 0.9230 - val_loss: 0.1838 - val_accuracy: 0.9370\n",
            "\n",
            "Epoch 00012: val_accuracy did not improve from 0.95000\n",
            "Epoch 13/500\n",
            "100/100 [==============================] - 30s 299ms/step - loss: 0.1598 - accuracy: 0.9269 - val_loss: 0.1422 - val_accuracy: 0.9490\n",
            "\n",
            "Epoch 00013: val_accuracy did not improve from 0.95000\n",
            "Epoch 14/500\n",
            "100/100 [==============================] - 30s 299ms/step - loss: 0.1580 - accuracy: 0.9371 - val_loss: 0.1442 - val_accuracy: 0.9470\n",
            "\n",
            "Epoch 00014: val_accuracy did not improve from 0.95000\n",
            "Epoch 15/500\n",
            "100/100 [==============================] - 30s 299ms/step - loss: 0.1515 - accuracy: 0.9364 - val_loss: 0.1811 - val_accuracy: 0.9380\n",
            "\n",
            "Epoch 00015: val_accuracy did not improve from 0.95000\n",
            "Epoch 16/500\n",
            "100/100 [==============================] - 30s 302ms/step - loss: 0.1507 - accuracy: 0.9366 - val_loss: 0.1243 - val_accuracy: 0.9550\n",
            "\n",
            "Epoch 00016: val_accuracy improved from 0.95000 to 0.95500, saving model to best_dandc.h5\n",
            "Epoch 17/500\n",
            "100/100 [==============================] - 30s 300ms/step - loss: 0.1298 - accuracy: 0.9454 - val_loss: 0.1134 - val_accuracy: 0.9560\n",
            "\n",
            "Epoch 00017: val_accuracy improved from 0.95500 to 0.95600, saving model to best_dandc.h5\n",
            "Epoch 18/500\n",
            "100/100 [==============================] - 30s 298ms/step - loss: 0.1275 - accuracy: 0.9448 - val_loss: 0.1069 - val_accuracy: 0.9590\n",
            "\n",
            "Epoch 00018: val_accuracy improved from 0.95600 to 0.95900, saving model to best_dandc.h5\n",
            "Epoch 19/500\n",
            "100/100 [==============================] - 30s 300ms/step - loss: 0.1321 - accuracy: 0.9475 - val_loss: 0.1293 - val_accuracy: 0.9530\n",
            "\n",
            "Epoch 00019: val_accuracy did not improve from 0.95900\n",
            "Epoch 20/500\n",
            "100/100 [==============================] - 30s 300ms/step - loss: 0.1116 - accuracy: 0.9580 - val_loss: 0.1542 - val_accuracy: 0.9500\n",
            "\n",
            "Epoch 00020: val_accuracy did not improve from 0.95900\n",
            "Epoch 21/500\n",
            "100/100 [==============================] - 30s 300ms/step - loss: 0.1219 - accuracy: 0.9489 - val_loss: 0.1161 - val_accuracy: 0.9500\n",
            "\n",
            "Epoch 00021: val_accuracy did not improve from 0.95900\n",
            "Epoch 22/500\n",
            "100/100 [==============================] - 30s 300ms/step - loss: 0.1086 - accuracy: 0.9568 - val_loss: 0.1070 - val_accuracy: 0.9580\n",
            "\n",
            "Epoch 00022: val_accuracy did not improve from 0.95900\n",
            "Epoch 23/500\n",
            "100/100 [==============================] - 30s 298ms/step - loss: 0.1184 - accuracy: 0.9474 - val_loss: 0.1039 - val_accuracy: 0.9610\n",
            "\n",
            "Epoch 00023: val_accuracy improved from 0.95900 to 0.96100, saving model to best_dandc.h5\n",
            "Epoch 24/500\n",
            "100/100 [==============================] - 30s 301ms/step - loss: 0.0889 - accuracy: 0.9694 - val_loss: 0.1340 - val_accuracy: 0.9570\n",
            "\n",
            "Epoch 00024: val_accuracy did not improve from 0.96100\n",
            "Epoch 25/500\n",
            "100/100 [==============================] - 30s 302ms/step - loss: 0.1003 - accuracy: 0.9575 - val_loss: 0.1147 - val_accuracy: 0.9640\n",
            "\n",
            "Epoch 00025: val_accuracy improved from 0.96100 to 0.96400, saving model to best_dandc.h5\n",
            "Epoch 26/500\n",
            "100/100 [==============================] - 30s 301ms/step - loss: 0.0992 - accuracy: 0.9554 - val_loss: 0.1088 - val_accuracy: 0.9610\n",
            "\n",
            "Epoch 00026: val_accuracy did not improve from 0.96400\n",
            "Epoch 27/500\n",
            "100/100 [==============================] - 30s 301ms/step - loss: 0.0816 - accuracy: 0.9696 - val_loss: 0.1062 - val_accuracy: 0.9600\n",
            "\n",
            "Epoch 00027: val_accuracy did not improve from 0.96400\n",
            "Epoch 28/500\n",
            "100/100 [==============================] - 30s 301ms/step - loss: 0.0788 - accuracy: 0.9712 - val_loss: 0.1137 - val_accuracy: 0.9630\n",
            "\n",
            "Epoch 00028: val_accuracy did not improve from 0.96400\n",
            "Epoch 29/500\n",
            "100/100 [==============================] - 30s 300ms/step - loss: 0.0895 - accuracy: 0.9672 - val_loss: 0.1266 - val_accuracy: 0.9610\n",
            "\n",
            "Epoch 00029: val_accuracy did not improve from 0.96400\n",
            "Epoch 30/500\n",
            "100/100 [==============================] - 30s 302ms/step - loss: 0.0665 - accuracy: 0.9794 - val_loss: 0.1163 - val_accuracy: 0.9600\n",
            "\n",
            "Epoch 00030: val_accuracy did not improve from 0.96400\n",
            "Epoch 31/500\n",
            "100/100 [==============================] - 30s 302ms/step - loss: 0.0661 - accuracy: 0.9734 - val_loss: 0.1279 - val_accuracy: 0.9650\n",
            "\n",
            "Epoch 00031: val_accuracy improved from 0.96400 to 0.96500, saving model to best_dandc.h5\n",
            "Epoch 32/500\n",
            "100/100 [==============================] - 30s 303ms/step - loss: 0.0671 - accuracy: 0.9716 - val_loss: 0.1197 - val_accuracy: 0.9650\n",
            "\n",
            "Epoch 00032: val_accuracy did not improve from 0.96500\n",
            "Epoch 33/500\n",
            "100/100 [==============================] - 30s 304ms/step - loss: 0.0588 - accuracy: 0.9804 - val_loss: 0.1355 - val_accuracy: 0.9600\n",
            "\n",
            "Epoch 00033: val_accuracy did not improve from 0.96500\n",
            "Epoch 34/500\n",
            "100/100 [==============================] - 30s 301ms/step - loss: 0.0908 - accuracy: 0.9566 - val_loss: 0.1106 - val_accuracy: 0.9600\n",
            "\n",
            "Epoch 00034: val_accuracy did not improve from 0.96500\n",
            "Epoch 35/500\n",
            "100/100 [==============================] - 30s 299ms/step - loss: 0.0581 - accuracy: 0.9822 - val_loss: 0.1452 - val_accuracy: 0.9600\n",
            "\n",
            "Epoch 00035: val_accuracy did not improve from 0.96500\n",
            "Epoch 36/500\n",
            "100/100 [==============================] - 30s 304ms/step - loss: 0.0587 - accuracy: 0.9781 - val_loss: 0.1138 - val_accuracy: 0.9660\n",
            "\n",
            "Epoch 00036: val_accuracy improved from 0.96500 to 0.96600, saving model to best_dandc.h5\n",
            "Epoch 37/500\n",
            "100/100 [==============================] - 30s 301ms/step - loss: 0.0548 - accuracy: 0.9753 - val_loss: 0.1137 - val_accuracy: 0.9630\n",
            "\n",
            "Epoch 00037: val_accuracy did not improve from 0.96600\n",
            "Epoch 38/500\n",
            "100/100 [==============================] - 30s 300ms/step - loss: 0.0476 - accuracy: 0.9847 - val_loss: 0.1334 - val_accuracy: 0.9610\n",
            "\n",
            "Epoch 00038: val_accuracy did not improve from 0.96600\n",
            "Epoch 39/500\n",
            "100/100 [==============================] - 30s 299ms/step - loss: 0.0516 - accuracy: 0.9795 - val_loss: 0.1465 - val_accuracy: 0.9580\n",
            "\n",
            "Epoch 00039: val_accuracy did not improve from 0.96600\n",
            "Epoch 40/500\n",
            "100/100 [==============================] - 30s 303ms/step - loss: 0.0445 - accuracy: 0.9827 - val_loss: 0.1222 - val_accuracy: 0.9640\n",
            "\n",
            "Epoch 00040: val_accuracy did not improve from 0.96600\n",
            "Epoch 41/500\n",
            "100/100 [==============================] - 30s 300ms/step - loss: 0.0479 - accuracy: 0.9770 - val_loss: 0.1588 - val_accuracy: 0.9600\n",
            "\n",
            "Epoch 00041: val_accuracy did not improve from 0.96600\n",
            "Epoch 42/500\n",
            "100/100 [==============================] - 30s 299ms/step - loss: 0.0424 - accuracy: 0.9817 - val_loss: 0.1751 - val_accuracy: 0.9610\n",
            "\n",
            "Epoch 00042: val_accuracy did not improve from 0.96600\n",
            "Epoch 43/500\n",
            "100/100 [==============================] - 30s 298ms/step - loss: 0.0419 - accuracy: 0.9865 - val_loss: 0.1668 - val_accuracy: 0.9600\n",
            "\n",
            "Epoch 00043: val_accuracy did not improve from 0.96600\n",
            "Epoch 44/500\n",
            "100/100 [==============================] - 30s 298ms/step - loss: 0.0442 - accuracy: 0.9850 - val_loss: 0.1268 - val_accuracy: 0.9600\n",
            "\n",
            "Epoch 00044: val_accuracy did not improve from 0.96600\n",
            "Epoch 45/500\n",
            "100/100 [==============================] - 30s 297ms/step - loss: 0.0489 - accuracy: 0.9815 - val_loss: 0.2227 - val_accuracy: 0.9510\n",
            "\n",
            "Epoch 00045: val_accuracy did not improve from 0.96600\n",
            "Epoch 46/500\n",
            "100/100 [==============================] - 30s 300ms/step - loss: 0.0364 - accuracy: 0.9860 - val_loss: 0.1720 - val_accuracy: 0.9570\n",
            "\n",
            "Epoch 00046: val_accuracy did not improve from 0.96600\n",
            "Epoch 47/500\n",
            "100/100 [==============================] - 30s 296ms/step - loss: 0.0436 - accuracy: 0.9839 - val_loss: 0.1414 - val_accuracy: 0.9580\n",
            "\n",
            "Epoch 00047: val_accuracy did not improve from 0.96600\n",
            "Epoch 48/500\n",
            "100/100 [==============================] - 30s 297ms/step - loss: 0.0557 - accuracy: 0.9859 - val_loss: 0.1479 - val_accuracy: 0.9620\n",
            "\n",
            "Epoch 00048: val_accuracy did not improve from 0.96600\n",
            "Epoch 49/500\n",
            "100/100 [==============================] - 30s 298ms/step - loss: 0.0257 - accuracy: 0.9930 - val_loss: 0.1773 - val_accuracy: 0.9610\n",
            "\n",
            "Epoch 00049: val_accuracy did not improve from 0.96600\n",
            "Epoch 50/500\n",
            "100/100 [==============================] - 30s 296ms/step - loss: 0.0299 - accuracy: 0.9852 - val_loss: 0.1989 - val_accuracy: 0.9560\n",
            "\n",
            "Epoch 00050: val_accuracy did not improve from 0.96600\n",
            "Epoch 51/500\n",
            "100/100 [==============================] - 30s 301ms/step - loss: 0.0292 - accuracy: 0.9903 - val_loss: 0.1560 - val_accuracy: 0.9670\n",
            "\n",
            "Epoch 00051: val_accuracy improved from 0.96600 to 0.96700, saving model to best_dandc.h5\n",
            "Epoch 52/500\n",
            "100/100 [==============================] - 30s 301ms/step - loss: 0.0375 - accuracy: 0.9879 - val_loss: 0.2105 - val_accuracy: 0.9470\n",
            "\n",
            "Epoch 00052: val_accuracy did not improve from 0.96700\n",
            "Epoch 53/500\n",
            "100/100 [==============================] - 30s 298ms/step - loss: 0.0414 - accuracy: 0.9829 - val_loss: 0.2697 - val_accuracy: 0.9390\n",
            "\n",
            "Epoch 00053: val_accuracy did not improve from 0.96700\n",
            "Epoch 54/500\n",
            "100/100 [==============================] - 30s 300ms/step - loss: 0.0377 - accuracy: 0.9868 - val_loss: 0.1365 - val_accuracy: 0.9680\n",
            "\n",
            "Epoch 00054: val_accuracy improved from 0.96700 to 0.96800, saving model to best_dandc.h5\n",
            "Epoch 55/500\n",
            "100/100 [==============================] - 30s 300ms/step - loss: 0.0398 - accuracy: 0.9868 - val_loss: 0.1433 - val_accuracy: 0.9630\n",
            "\n",
            "Epoch 00055: val_accuracy did not improve from 0.96800\n",
            "Epoch 56/500\n",
            "100/100 [==============================] - 30s 299ms/step - loss: 0.0350 - accuracy: 0.9878 - val_loss: 0.1400 - val_accuracy: 0.9640\n",
            "\n",
            "Epoch 00056: val_accuracy did not improve from 0.96800\n",
            "Epoch 57/500\n",
            "100/100 [==============================] - 30s 298ms/step - loss: 0.0271 - accuracy: 0.9910 - val_loss: 0.1684 - val_accuracy: 0.9580\n",
            "\n",
            "Epoch 00057: val_accuracy did not improve from 0.96800\n",
            "Epoch 58/500\n",
            "100/100 [==============================] - 30s 298ms/step - loss: 0.0540 - accuracy: 0.9744 - val_loss: 0.1470 - val_accuracy: 0.9600\n",
            "\n",
            "Epoch 00058: val_accuracy did not improve from 0.96800\n",
            "Epoch 59/500\n",
            "100/100 [==============================] - 30s 299ms/step - loss: 0.0365 - accuracy: 0.9854 - val_loss: 0.1455 - val_accuracy: 0.9660\n",
            "\n",
            "Epoch 00059: val_accuracy did not improve from 0.96800\n",
            "Epoch 60/500\n",
            "100/100 [==============================] - 30s 299ms/step - loss: 0.0191 - accuracy: 0.9955 - val_loss: 0.1466 - val_accuracy: 0.9660\n",
            "\n",
            "Epoch 00060: val_accuracy did not improve from 0.96800\n",
            "Epoch 61/500\n",
            "100/100 [==============================] - 30s 300ms/step - loss: 0.0353 - accuracy: 0.9874 - val_loss: 0.1595 - val_accuracy: 0.9590\n",
            "\n",
            "Epoch 00061: val_accuracy did not improve from 0.96800\n",
            "Epoch 62/500\n",
            "100/100 [==============================] - 30s 300ms/step - loss: 0.0337 - accuracy: 0.9893 - val_loss: 0.1312 - val_accuracy: 0.9670\n",
            "\n",
            "Epoch 00062: val_accuracy did not improve from 0.96800\n",
            "Epoch 63/500\n",
            "100/100 [==============================] - 30s 297ms/step - loss: 0.0266 - accuracy: 0.9872 - val_loss: 0.1581 - val_accuracy: 0.9650\n",
            "\n",
            "Epoch 00063: val_accuracy did not improve from 0.96800\n",
            "Epoch 64/500\n",
            "100/100 [==============================] - 30s 298ms/step - loss: 0.0223 - accuracy: 0.9940 - val_loss: 0.1981 - val_accuracy: 0.9520\n",
            "\n",
            "Epoch 00064: val_accuracy did not improve from 0.96800\n",
            "Epoch 65/500\n",
            "100/100 [==============================] - 30s 298ms/step - loss: 0.0241 - accuracy: 0.9893 - val_loss: 0.1681 - val_accuracy: 0.9560\n",
            "\n",
            "Epoch 00065: val_accuracy did not improve from 0.96800\n",
            "Epoch 66/500\n",
            "100/100 [==============================] - 30s 299ms/step - loss: 0.0300 - accuracy: 0.9890 - val_loss: 0.1413 - val_accuracy: 0.9670\n",
            "\n",
            "Epoch 00066: val_accuracy did not improve from 0.96800\n",
            "Epoch 67/500\n",
            "100/100 [==============================] - 30s 298ms/step - loss: 0.0165 - accuracy: 0.9954 - val_loss: 0.1557 - val_accuracy: 0.9660\n",
            "\n",
            "Epoch 00067: val_accuracy did not improve from 0.96800\n",
            "Epoch 68/500\n",
            "100/100 [==============================] - 30s 297ms/step - loss: 0.0179 - accuracy: 0.9960 - val_loss: 0.2367 - val_accuracy: 0.9500\n",
            "\n",
            "Epoch 00068: val_accuracy did not improve from 0.96800\n",
            "Epoch 69/500\n",
            "100/100 [==============================] - 30s 298ms/step - loss: 0.0227 - accuracy: 0.9937 - val_loss: 0.1449 - val_accuracy: 0.9700\n",
            "\n",
            "Epoch 00069: val_accuracy improved from 0.96800 to 0.97000, saving model to best_dandc.h5\n",
            "Epoch 70/500\n",
            "100/100 [==============================] - 30s 302ms/step - loss: 0.0168 - accuracy: 0.9929 - val_loss: 0.1657 - val_accuracy: 0.9640\n",
            "\n",
            "Epoch 00070: val_accuracy did not improve from 0.97000\n",
            "Epoch 71/500\n",
            "100/100 [==============================] - 30s 301ms/step - loss: 0.0127 - accuracy: 0.9961 - val_loss: 0.1761 - val_accuracy: 0.9590\n",
            "\n",
            "Epoch 00071: val_accuracy did not improve from 0.97000\n",
            "Epoch 72/500\n",
            "100/100 [==============================] - 30s 302ms/step - loss: 0.0289 - accuracy: 0.9907 - val_loss: 0.1753 - val_accuracy: 0.9550\n",
            "\n",
            "Epoch 00072: val_accuracy did not improve from 0.97000\n",
            "Epoch 73/500\n",
            "100/100 [==============================] - 30s 300ms/step - loss: 0.0200 - accuracy: 0.9931 - val_loss: 0.1688 - val_accuracy: 0.9640\n",
            "\n",
            "Epoch 00073: val_accuracy did not improve from 0.97000\n",
            "Epoch 74/500\n",
            "100/100 [==============================] - 30s 299ms/step - loss: 0.0200 - accuracy: 0.9924 - val_loss: 0.2486 - val_accuracy: 0.9480\n",
            "\n",
            "Epoch 00074: val_accuracy did not improve from 0.97000\n",
            "Epoch 75/500\n",
            "100/100 [==============================] - 30s 299ms/step - loss: 0.0279 - accuracy: 0.9893 - val_loss: 0.1687 - val_accuracy: 0.9630\n",
            "\n",
            "Epoch 00075: val_accuracy did not improve from 0.97000\n",
            "Epoch 76/500\n",
            "100/100 [==============================] - 30s 299ms/step - loss: 0.0131 - accuracy: 0.9960 - val_loss: 0.1614 - val_accuracy: 0.9640\n",
            "\n",
            "Epoch 00076: val_accuracy did not improve from 0.97000\n",
            "Epoch 77/500\n",
            "100/100 [==============================] - 30s 298ms/step - loss: 0.0149 - accuracy: 0.9935 - val_loss: 0.2179 - val_accuracy: 0.9540\n",
            "\n",
            "Epoch 00077: val_accuracy did not improve from 0.97000\n",
            "Epoch 78/500\n",
            "100/100 [==============================] - 30s 301ms/step - loss: 0.0171 - accuracy: 0.9957 - val_loss: 0.1805 - val_accuracy: 0.9640\n",
            "\n",
            "Epoch 00078: val_accuracy did not improve from 0.97000\n",
            "Epoch 79/500\n",
            "100/100 [==============================] - 30s 299ms/step - loss: 0.0388 - accuracy: 0.9832 - val_loss: 0.1768 - val_accuracy: 0.9580\n",
            "\n",
            "Epoch 00079: val_accuracy did not improve from 0.97000\n",
            "Epoch 80/500\n",
            "100/100 [==============================] - 30s 300ms/step - loss: 0.0226 - accuracy: 0.9920 - val_loss: 0.1495 - val_accuracy: 0.9640\n",
            "\n",
            "Epoch 00080: val_accuracy did not improve from 0.97000\n",
            "Epoch 81/500\n",
            "100/100 [==============================] - 30s 300ms/step - loss: 0.0124 - accuracy: 0.9977 - val_loss: 0.1650 - val_accuracy: 0.9620\n",
            "\n",
            "Epoch 00081: val_accuracy did not improve from 0.97000\n",
            "Epoch 82/500\n",
            "100/100 [==============================] - 30s 304ms/step - loss: 0.0164 - accuracy: 0.9947 - val_loss: 0.1472 - val_accuracy: 0.9620\n",
            "\n",
            "Epoch 00082: val_accuracy did not improve from 0.97000\n",
            "Epoch 83/500\n",
            "100/100 [==============================] - 30s 300ms/step - loss: 0.0139 - accuracy: 0.9964 - val_loss: 0.1911 - val_accuracy: 0.9530\n",
            "\n",
            "Epoch 00083: val_accuracy did not improve from 0.97000\n",
            "Epoch 84/500\n",
            "100/100 [==============================] - 30s 300ms/step - loss: 0.0338 - accuracy: 0.9846 - val_loss: 0.1518 - val_accuracy: 0.9660\n",
            "\n",
            "Epoch 00084: val_accuracy did not improve from 0.97000\n",
            "Epoch 85/500\n",
            "100/100 [==============================] - 30s 299ms/step - loss: 0.0198 - accuracy: 0.9947 - val_loss: 0.1564 - val_accuracy: 0.9670\n",
            "\n",
            "Epoch 00085: val_accuracy did not improve from 0.97000\n",
            "Epoch 86/500\n",
            "100/100 [==============================] - 30s 298ms/step - loss: 0.0116 - accuracy: 0.9967 - val_loss: 0.1921 - val_accuracy: 0.9640\n",
            "\n",
            "Epoch 00086: val_accuracy did not improve from 0.97000\n",
            "Epoch 87/500\n",
            "100/100 [==============================] - 30s 298ms/step - loss: 0.0138 - accuracy: 0.9943 - val_loss: 0.1567 - val_accuracy: 0.9630\n",
            "\n",
            "Epoch 00087: val_accuracy did not improve from 0.97000\n",
            "Epoch 88/500\n",
            "100/100 [==============================] - 30s 298ms/step - loss: 0.0295 - accuracy: 0.9884 - val_loss: 0.1641 - val_accuracy: 0.9650\n",
            "\n",
            "Epoch 00088: val_accuracy did not improve from 0.97000\n",
            "Epoch 89/500\n",
            "100/100 [==============================] - 30s 299ms/step - loss: 0.0309 - accuracy: 0.9893 - val_loss: 0.2020 - val_accuracy: 0.9550\n",
            "\n",
            "Epoch 00089: val_accuracy did not improve from 0.97000\n",
            "Epoch 90/500\n",
            "100/100 [==============================] - 30s 299ms/step - loss: 0.0098 - accuracy: 0.9978 - val_loss: 0.1578 - val_accuracy: 0.9680\n",
            "\n",
            "Epoch 00090: val_accuracy did not improve from 0.97000\n",
            "Epoch 91/500\n",
            "100/100 [==============================] - 30s 298ms/step - loss: 0.0166 - accuracy: 0.9916 - val_loss: 0.1668 - val_accuracy: 0.9640\n",
            "\n",
            "Epoch 00091: val_accuracy did not improve from 0.97000\n",
            "Epoch 92/500\n",
            "100/100 [==============================] - 30s 301ms/step - loss: 0.0076 - accuracy: 0.9994 - val_loss: 0.1669 - val_accuracy: 0.9690\n",
            "\n",
            "Epoch 00092: val_accuracy did not improve from 0.97000\n",
            "Epoch 93/500\n",
            "100/100 [==============================] - 30s 298ms/step - loss: 0.0224 - accuracy: 0.9925 - val_loss: 0.1738 - val_accuracy: 0.9700\n",
            "\n",
            "Epoch 00093: val_accuracy did not improve from 0.97000\n",
            "Epoch 94/500\n",
            "100/100 [==============================] - 30s 299ms/step - loss: 0.0122 - accuracy: 0.9958 - val_loss: 0.1770 - val_accuracy: 0.9620\n",
            "\n",
            "Epoch 00094: val_accuracy did not improve from 0.97000\n",
            "Epoch 95/500\n",
            "100/100 [==============================] - 30s 299ms/step - loss: 0.0188 - accuracy: 0.9951 - val_loss: 0.1783 - val_accuracy: 0.9560\n",
            "\n",
            "Epoch 00095: val_accuracy did not improve from 0.97000\n",
            "Epoch 96/500\n",
            "100/100 [==============================] - 30s 297ms/step - loss: 0.0287 - accuracy: 0.9903 - val_loss: 0.1854 - val_accuracy: 0.9630\n",
            "\n",
            "Epoch 00096: val_accuracy did not improve from 0.97000\n",
            "Epoch 97/500\n",
            "100/100 [==============================] - 30s 299ms/step - loss: 0.0183 - accuracy: 0.9936 - val_loss: 0.1831 - val_accuracy: 0.9570\n",
            "\n",
            "Epoch 00097: val_accuracy did not improve from 0.97000\n",
            "Epoch 98/500\n",
            "100/100 [==============================] - 30s 299ms/step - loss: 0.0310 - accuracy: 0.9913 - val_loss: 0.2307 - val_accuracy: 0.9600\n",
            "\n",
            "Epoch 00098: val_accuracy did not improve from 0.97000\n",
            "Epoch 99/500\n",
            "100/100 [==============================] - 30s 299ms/step - loss: 0.0141 - accuracy: 0.9968 - val_loss: 0.2447 - val_accuracy: 0.9570\n",
            "\n",
            "Epoch 00099: val_accuracy did not improve from 0.97000\n",
            "Epoch 100/500\n",
            "100/100 [==============================] - 30s 304ms/step - loss: 0.0224 - accuracy: 0.9902 - val_loss: 0.1575 - val_accuracy: 0.9660\n",
            "\n",
            "Epoch 00100: val_accuracy did not improve from 0.97000\n",
            "Epoch 101/500\n",
            "100/100 [==============================] - 30s 300ms/step - loss: 0.0131 - accuracy: 0.9963 - val_loss: 0.2126 - val_accuracy: 0.9580\n",
            "\n",
            "Epoch 00101: val_accuracy did not improve from 0.97000\n",
            "Epoch 102/500\n",
            "100/100 [==============================] - 30s 301ms/step - loss: 0.0168 - accuracy: 0.9943 - val_loss: 0.2260 - val_accuracy: 0.9530\n",
            "\n",
            "Epoch 00102: val_accuracy did not improve from 0.97000\n",
            "Epoch 103/500\n",
            "100/100 [==============================] - 30s 300ms/step - loss: 0.0133 - accuracy: 0.9963 - val_loss: 0.1711 - val_accuracy: 0.9660\n",
            "\n",
            "Epoch 00103: val_accuracy did not improve from 0.97000\n",
            "Epoch 104/500\n",
            "100/100 [==============================] - 30s 300ms/step - loss: 0.0132 - accuracy: 0.9957 - val_loss: 0.1792 - val_accuracy: 0.9720\n",
            "\n",
            "Epoch 00104: val_accuracy improved from 0.97000 to 0.97200, saving model to best_dandc.h5\n",
            "Epoch 105/500\n",
            "100/100 [==============================] - 30s 300ms/step - loss: 0.0193 - accuracy: 0.9925 - val_loss: 0.1602 - val_accuracy: 0.9650\n",
            "\n",
            "Epoch 00105: val_accuracy did not improve from 0.97200\n",
            "Epoch 106/500\n",
            "100/100 [==============================] - 30s 301ms/step - loss: 0.0122 - accuracy: 0.9963 - val_loss: 0.1767 - val_accuracy: 0.9650\n",
            "\n",
            "Epoch 00106: val_accuracy did not improve from 0.97200\n",
            "Epoch 107/500\n",
            "100/100 [==============================] - 30s 300ms/step - loss: 0.0122 - accuracy: 0.9963 - val_loss: 0.1697 - val_accuracy: 0.9680\n",
            "\n",
            "Epoch 00107: val_accuracy did not improve from 0.97200\n",
            "Epoch 108/500\n",
            "100/100 [==============================] - 30s 301ms/step - loss: 0.0116 - accuracy: 0.9940 - val_loss: 0.1658 - val_accuracy: 0.9670\n",
            "\n",
            "Epoch 00108: val_accuracy did not improve from 0.97200\n",
            "Epoch 109/500\n",
            "100/100 [==============================] - 30s 298ms/step - loss: 0.0038 - accuracy: 0.9996 - val_loss: 0.1751 - val_accuracy: 0.9690\n",
            "\n",
            "Epoch 00109: val_accuracy did not improve from 0.97200\n",
            "Epoch 110/500\n",
            "100/100 [==============================] - 30s 301ms/step - loss: 0.0073 - accuracy: 0.9978 - val_loss: 0.1815 - val_accuracy: 0.9640\n",
            "\n",
            "Epoch 00110: val_accuracy did not improve from 0.97200\n",
            "Epoch 111/500\n",
            "100/100 [==============================] - 30s 299ms/step - loss: 0.0082 - accuracy: 0.9971 - val_loss: 0.1848 - val_accuracy: 0.9670\n",
            "\n",
            "Epoch 00111: val_accuracy did not improve from 0.97200\n",
            "Epoch 112/500\n",
            "100/100 [==============================] - 30s 300ms/step - loss: 0.0284 - accuracy: 0.9896 - val_loss: 0.3842 - val_accuracy: 0.9370\n",
            "\n",
            "Epoch 00112: val_accuracy did not improve from 0.97200\n",
            "Epoch 113/500\n",
            "100/100 [==============================] - 30s 301ms/step - loss: 0.0257 - accuracy: 0.9916 - val_loss: 0.1554 - val_accuracy: 0.9700\n",
            "\n",
            "Epoch 00113: val_accuracy did not improve from 0.97200\n",
            "Epoch 114/500\n",
            "100/100 [==============================] - 30s 300ms/step - loss: 0.0079 - accuracy: 0.9970 - val_loss: 0.2179 - val_accuracy: 0.9650\n",
            "\n",
            "Epoch 00114: val_accuracy did not improve from 0.97200\n",
            "Epoch 115/500\n",
            "100/100 [==============================] - 30s 300ms/step - loss: 0.0066 - accuracy: 0.9970 - val_loss: 0.2458 - val_accuracy: 0.9590\n",
            "\n",
            "Epoch 00115: val_accuracy did not improve from 0.97200\n",
            "Epoch 116/500\n",
            "100/100 [==============================] - 30s 301ms/step - loss: 0.0160 - accuracy: 0.9946 - val_loss: 0.1582 - val_accuracy: 0.9630\n",
            "\n",
            "Epoch 00116: val_accuracy did not improve from 0.97200\n",
            "Epoch 117/500\n",
            "100/100 [==============================] - 30s 300ms/step - loss: 0.0407 - accuracy: 0.9888 - val_loss: 0.1797 - val_accuracy: 0.9630\n",
            "\n",
            "Epoch 00117: val_accuracy did not improve from 0.97200\n",
            "Epoch 118/500\n",
            "100/100 [==============================] - 30s 301ms/step - loss: 0.0119 - accuracy: 0.9964 - val_loss: 0.1663 - val_accuracy: 0.9670\n",
            "\n",
            "Epoch 00118: val_accuracy did not improve from 0.97200\n",
            "Epoch 119/500\n",
            "100/100 [==============================] - 30s 301ms/step - loss: 0.0047 - accuracy: 0.9984 - val_loss: 0.2211 - val_accuracy: 0.9590\n",
            "\n",
            "Epoch 00119: val_accuracy did not improve from 0.97200\n",
            "Epoch 120/500\n",
            "100/100 [==============================] - 30s 302ms/step - loss: 0.0197 - accuracy: 0.9941 - val_loss: 0.1891 - val_accuracy: 0.9680\n",
            "\n",
            "Epoch 00120: val_accuracy did not improve from 0.97200\n",
            "Epoch 121/500\n",
            "100/100 [==============================] - 30s 301ms/step - loss: 0.0123 - accuracy: 0.9950 - val_loss: 0.1665 - val_accuracy: 0.9690\n",
            "\n",
            "Epoch 00121: val_accuracy did not improve from 0.97200\n",
            "Epoch 122/500\n",
            "100/100 [==============================] - 30s 301ms/step - loss: 0.0079 - accuracy: 0.9987 - val_loss: 0.1856 - val_accuracy: 0.9630\n",
            "\n",
            "Epoch 00122: val_accuracy did not improve from 0.97200\n",
            "Epoch 123/500\n",
            "100/100 [==============================] - 30s 302ms/step - loss: 0.0097 - accuracy: 0.9974 - val_loss: 0.1919 - val_accuracy: 0.9640\n",
            "\n",
            "Epoch 00123: val_accuracy did not improve from 0.97200\n",
            "Epoch 124/500\n",
            "100/100 [==============================] - 30s 302ms/step - loss: 0.0257 - accuracy: 0.9900 - val_loss: 0.3494 - val_accuracy: 0.9520\n",
            "\n",
            "Epoch 00124: val_accuracy did not improve from 0.97200\n",
            "Epoch 125/500\n",
            "100/100 [==============================] - 30s 300ms/step - loss: 0.0258 - accuracy: 0.9934 - val_loss: 0.1843 - val_accuracy: 0.9660\n",
            "\n",
            "Epoch 00125: val_accuracy did not improve from 0.97200\n",
            "Epoch 126/500\n",
            "100/100 [==============================] - 30s 300ms/step - loss: 0.0086 - accuracy: 0.9979 - val_loss: 0.2078 - val_accuracy: 0.9660\n",
            "\n",
            "Epoch 00126: val_accuracy did not improve from 0.97200\n",
            "Epoch 127/500\n",
            "100/100 [==============================] - 30s 299ms/step - loss: 0.0145 - accuracy: 0.9951 - val_loss: 0.2521 - val_accuracy: 0.9610\n",
            "\n",
            "Epoch 00127: val_accuracy did not improve from 0.97200\n",
            "Epoch 128/500\n",
            "100/100 [==============================] - 30s 300ms/step - loss: 0.0189 - accuracy: 0.9935 - val_loss: 0.2391 - val_accuracy: 0.9640\n",
            "\n",
            "Epoch 00128: val_accuracy did not improve from 0.97200\n",
            "Epoch 129/500\n",
            "100/100 [==============================] - 30s 298ms/step - loss: 0.0192 - accuracy: 0.9923 - val_loss: 0.1775 - val_accuracy: 0.9670\n",
            "\n",
            "Epoch 00129: val_accuracy did not improve from 0.97200\n",
            "Epoch 130/500\n",
            "100/100 [==============================] - 30s 301ms/step - loss: 0.0097 - accuracy: 0.9972 - val_loss: 0.1726 - val_accuracy: 0.9640\n",
            "\n",
            "Epoch 00130: val_accuracy did not improve from 0.97200\n",
            "Epoch 131/500\n",
            "100/100 [==============================] - 30s 302ms/step - loss: 0.0167 - accuracy: 0.9947 - val_loss: 0.1926 - val_accuracy: 0.9710\n",
            "\n",
            "Epoch 00131: val_accuracy did not improve from 0.97200\n",
            "Epoch 132/500\n",
            "100/100 [==============================] - 30s 301ms/step - loss: 0.0064 - accuracy: 0.9990 - val_loss: 0.1657 - val_accuracy: 0.9680\n",
            "\n",
            "Epoch 00132: val_accuracy did not improve from 0.97200\n",
            "Epoch 133/500\n",
            "100/100 [==============================] - 30s 300ms/step - loss: 0.0038 - accuracy: 1.0000 - val_loss: 0.1913 - val_accuracy: 0.9670\n",
            "\n",
            "Epoch 00133: val_accuracy did not improve from 0.97200\n",
            "Epoch 134/500\n",
            "100/100 [==============================] - 30s 300ms/step - loss: 0.0044 - accuracy: 0.9991 - val_loss: 0.2095 - val_accuracy: 0.9660\n",
            "\n",
            "Epoch 00134: val_accuracy did not improve from 0.97200\n",
            "Epoch 135/500\n",
            "100/100 [==============================] - 30s 301ms/step - loss: 0.0122 - accuracy: 0.9961 - val_loss: 0.1911 - val_accuracy: 0.9670\n",
            "\n",
            "Epoch 00135: val_accuracy did not improve from 0.97200\n",
            "Epoch 136/500\n",
            "100/100 [==============================] - 30s 300ms/step - loss: 0.0044 - accuracy: 0.9974 - val_loss: 0.1974 - val_accuracy: 0.9670\n",
            "\n",
            "Epoch 00136: val_accuracy did not improve from 0.97200\n",
            "Epoch 137/500\n",
            "100/100 [==============================] - 30s 303ms/step - loss: 0.0190 - accuracy: 0.9952 - val_loss: 0.2635 - val_accuracy: 0.9590\n",
            "\n",
            "Epoch 00137: val_accuracy did not improve from 0.97200\n",
            "Epoch 138/500\n",
            "100/100 [==============================] - 31s 307ms/step - loss: 0.0029 - accuracy: 0.9994 - val_loss: 0.2116 - val_accuracy: 0.9700\n",
            "\n",
            "Epoch 00138: val_accuracy did not improve from 0.97200\n",
            "Epoch 139/500\n",
            "100/100 [==============================] - 31s 305ms/step - loss: 0.0151 - accuracy: 0.9954 - val_loss: 0.2829 - val_accuracy: 0.9590\n",
            "\n",
            "Epoch 00139: val_accuracy did not improve from 0.97200\n",
            "Epoch 140/500\n",
            "100/100 [==============================] - 31s 305ms/step - loss: 0.0057 - accuracy: 0.9991 - val_loss: 0.2660 - val_accuracy: 0.9630\n",
            "\n",
            "Epoch 00140: val_accuracy did not improve from 0.97200\n",
            "Epoch 141/500\n",
            "100/100 [==============================] - 31s 304ms/step - loss: 0.0059 - accuracy: 0.9987 - val_loss: 0.2282 - val_accuracy: 0.9670\n",
            "\n",
            "Epoch 00141: val_accuracy did not improve from 0.97200\n",
            "Epoch 142/500\n",
            "100/100 [==============================] - 30s 304ms/step - loss: 0.0047 - accuracy: 0.9984 - val_loss: 0.2486 - val_accuracy: 0.9560\n",
            "\n",
            "Epoch 00142: val_accuracy did not improve from 0.97200\n",
            "Epoch 143/500\n",
            "100/100 [==============================] - 30s 302ms/step - loss: 0.0047 - accuracy: 0.9974 - val_loss: 0.2102 - val_accuracy: 0.9650\n",
            "\n",
            "Epoch 00143: val_accuracy did not improve from 0.97200\n",
            "Epoch 144/500\n",
            "100/100 [==============================] - 30s 301ms/step - loss: 0.0045 - accuracy: 0.9987 - val_loss: 0.2117 - val_accuracy: 0.9710\n",
            "\n",
            "Epoch 00144: val_accuracy did not improve from 0.97200\n",
            "Epoch 145/500\n",
            "100/100 [==============================] - 30s 302ms/step - loss: 0.0046 - accuracy: 0.9977 - val_loss: 0.2202 - val_accuracy: 0.9590\n",
            "\n",
            "Epoch 00145: val_accuracy did not improve from 0.97200\n",
            "Epoch 146/500\n",
            "100/100 [==============================] - 30s 304ms/step - loss: 0.0156 - accuracy: 0.9924 - val_loss: 0.2846 - val_accuracy: 0.9520\n",
            "\n",
            "Epoch 00146: val_accuracy did not improve from 0.97200\n",
            "Epoch 147/500\n",
            "100/100 [==============================] - 30s 303ms/step - loss: 0.0322 - accuracy: 0.9882 - val_loss: 0.1832 - val_accuracy: 0.9640\n",
            "\n",
            "Epoch 00147: val_accuracy did not improve from 0.97200\n",
            "Epoch 148/500\n",
            "100/100 [==============================] - 31s 305ms/step - loss: 0.0151 - accuracy: 0.9949 - val_loss: 0.1978 - val_accuracy: 0.9620\n",
            "\n",
            "Epoch 00148: val_accuracy did not improve from 0.97200\n",
            "Epoch 149/500\n",
            "100/100 [==============================] - 31s 305ms/step - loss: 0.0051 - accuracy: 1.0000 - val_loss: 0.1958 - val_accuracy: 0.9640\n",
            "\n",
            "Epoch 00149: val_accuracy did not improve from 0.97200\n",
            "Epoch 150/500\n",
            "100/100 [==============================] - 31s 305ms/step - loss: 0.0092 - accuracy: 0.9983 - val_loss: 0.1797 - val_accuracy: 0.9680\n",
            "\n",
            "Epoch 00150: val_accuracy did not improve from 0.97200\n",
            "Epoch 151/500\n",
            "100/100 [==============================] - 31s 304ms/step - loss: 0.0087 - accuracy: 0.9980 - val_loss: 0.2150 - val_accuracy: 0.9620\n",
            "\n",
            "Epoch 00151: val_accuracy did not improve from 0.97200\n",
            "Epoch 152/500\n",
            "100/100 [==============================] - 31s 305ms/step - loss: 0.0091 - accuracy: 0.9983 - val_loss: 0.1556 - val_accuracy: 0.9700\n",
            "\n",
            "Epoch 00152: val_accuracy did not improve from 0.97200\n",
            "Epoch 153/500\n",
            "100/100 [==============================] - 31s 306ms/step - loss: 0.0071 - accuracy: 0.9990 - val_loss: 0.1867 - val_accuracy: 0.9690\n",
            "\n",
            "Epoch 00153: val_accuracy did not improve from 0.97200\n",
            "Epoch 154/500\n",
            "100/100 [==============================] - 31s 307ms/step - loss: 0.0074 - accuracy: 0.9962 - val_loss: 0.1721 - val_accuracy: 0.9720\n",
            "\n",
            "Epoch 00154: val_accuracy did not improve from 0.97200\n",
            "Epoch 00154: early stopping\n",
            "CPU times: user 1h 38min 5s, sys: 19min 5s, total: 1h 57min 10s\n",
            "Wall time: 1h 17min 42s\n"
          ],
          "name": "stdout"
        }
      ]
    },
    {
      "cell_type": "markdown",
      "metadata": {
        "id": "FnnIyFtNKhbD"
      },
      "source": [
        "> ## 4) 학습 결과 시각화"
      ]
    },
    {
      "cell_type": "markdown",
      "metadata": {
        "id": "YgXRhVauKqOm"
      },
      "source": [
        "* Loss & Accuracy Visualization"
      ]
    },
    {
      "cell_type": "code",
      "metadata": {
        "id": "OQ4ke8BbKi50",
        "colab": {
          "base_uri": "https://localhost:8080/",
          "height": 294
        },
        "outputId": "1943bb96-4aad-493e-b35a-582ce312b365"
      },
      "source": [
        "import matplotlib.pyplot as plt\n",
        "\n",
        "epochs = range(1, len(Hist_dandc.history['loss']) + 1)\n",
        "\n",
        "plt.figure(figsize = (20, 6))\n",
        "\n",
        "plt.subplot(1, 2, 1)\n",
        "plt.plot(epochs, Hist_dandc.history['loss'])\n",
        "plt.plot(epochs, Hist_dandc.history['val_loss'])\n",
        "\n",
        "plt.title('Training & Validation Loss')\n",
        "plt.xlabel('Epochs')\n",
        "plt.ylabel('Loss')\n",
        "plt.legend(['Training Loss', 'Validation Loss'])\n",
        "plt.grid()\n",
        "\n",
        "plt.subplot(1, 2, 2)\n",
        "plt.plot(epochs, Hist_dandc.history['accuracy'])\n",
        "plt.plot(epochs, Hist_dandc.history['val_accuracy'])\n",
        "\n",
        "plt.title('Training & Validation Accuracy')\n",
        "plt.xlabel('Epochs')\n",
        "plt.ylabel('Accuracy')\n",
        "plt.legend(['Training Accuracy', 'Validation Accuracy'])\n",
        "plt.grid()\n",
        "\n",
        "plt.show()"
      ],
      "execution_count": null,
      "outputs": [
        {
          "output_type": "display_data",
          "data": {
            "image/png": "[encoded data removed]",
            "text/plain": [
              "<Figure size 1440x432 with 2 Axes>"
            ]
          },
          "metadata": {
            "tags": [],
            "needs_background": "light"
          }
        }
      ]
    },
    {
      "cell_type": "markdown",
      "metadata": {
        "id": "_uJSOLBko7lh"
      },
      "source": [
        "> ## 5) Model Evaluate"
      ]
    },
    {
      "cell_type": "markdown",
      "metadata": {
        "id": "hBnpWElEZUXG"
      },
      "source": [
        "* test_generator"
      ]
    },
    {
      "cell_type": "code",
      "metadata": {
        "id": "_IxBkugQZXk3",
        "colab": {
          "base_uri": "https://localhost:8080/"
        },
        "outputId": "fec2914f-9dfa-452b-f64a-23ca3edc3645"
      },
      "source": [
        ""
      ],
      "execution_count": null,
      "outputs": [
        {
          "output_type": "stream",
          "text": [
            "Found 1000 images belonging to 2 classes.\n"
          ],
          "name": "stdout"
        }
      ]
    },
    {
      "cell_type": "markdown",
      "metadata": {
        "id": "i-TqAB2ALGzZ"
      },
      "source": [
        "* Loss & Accuracy"
      ]
    },
    {
      "cell_type": "code",
      "metadata": {
        "id": "OF30PuZsAxQJ",
        "colab": {
          "base_uri": "https://localhost:8080/"
        },
        "outputId": "155cc502-4782-4f81-d43d-175bff0b9404"
      },
      "source": [
        "loss, accuracy = model.evaluate(test_generator,\n",
        "                                steps = 50)\n",
        "\n",
        "print('Loss = {:.5f}'.format(loss))\n",
        "print('Accuracy = {:.5f}'.format(accuracy))"
      ],
      "execution_count": null,
      "outputs": [
        {
          "output_type": "stream",
          "text": [
            "50/50 [==============================] - 4s 80ms/step - loss: 0.2220 - accuracy: 0.9620\n",
            "Loss = 0.22197\n",
            "Accuracy = 0.96200\n"
          ],
          "name": "stdout"
        }
      ]
    },
    {
      "cell_type": "markdown",
      "metadata": {
        "id": "fBSR6RDTtWZV"
      },
      "source": [
        "# IV. Model Save & Load to Google Drive"
      ]
    },
    {
      "cell_type": "markdown",
      "metadata": {
        "id": "OoG9bnmFuD5v"
      },
      "source": [
        "> ## 1) Google Drive Mount"
      ]
    },
    {
      "cell_type": "code",
      "metadata": {
        "id": "PQYJikBzuOuQ",
        "colab": {
          "base_uri": "https://localhost:8080/"
        },
        "outputId": "ea8925a4-1996-4f07-d6ff-57a6282129e6"
      },
      "source": [
        "from google.colab import drive\n",
        "\n",
        "drive.mount('/content/drive')"
      ],
      "execution_count": null,
      "outputs": [
        {
          "output_type": "stream",
          "text": [
            "Drive already mounted at /content/drive; to attempt to forcibly remount, call drive.mount(\"/content/drive\", force_remount=True).\n"
          ],
          "name": "stdout"
        }
      ]
    },
    {
      "cell_type": "markdown",
      "metadata": {
        "id": "0SX2qVV5tfZ5"
      },
      "source": [
        "> ## 2) Model Save"
      ]
    },
    {
      "cell_type": "code",
      "metadata": {
        "id": "o-VnLdQftjvL"
      },
      "source": [
        "model.save('/content/drive/My Drive/Colab Notebooks/models/009_dogs_and_cats_VGG16.h5')"
      ],
      "execution_count": null,
      "outputs": []
    },
    {
      "cell_type": "code",
      "metadata": {
        "id": "rZngp467yJ3f",
        "colab": {
          "base_uri": "https://localhost:8080/"
        },
        "outputId": "886691fb-34fe-4c25-a82c-c7f01c7b4e1a"
      },
      "source": [
        "!ls -l /content/drive/My\\ Drive/Colab\\ Notebooks/models"
      ],
      "execution_count": null,
      "outputs": [
        {
          "output_type": "stream",
          "text": [
            "total 728610\n",
            "-rw------- 1 root root     34592 Mar 18 02:42 001_Model_iris.h5\n",
            "-rw------- 1 root root  41498896 Mar 23 02:18 002_dogs_and_cats_small.h5\n",
            "-rw------- 1 root root  41501624 Mar 23 07:12 003_dogs_and_cats_augmentation.h5\n",
            "-rw------- 1 root root  39879700 Mar 23 06:41 004_logo_classification_with_augmentation.h5\n",
            "-rw------- 1 root root  25199032 Mar 24 05:22 006_dogs_and_cats_feature_extraction.h5\n",
            "-rw------- 1 root root 201873880 Mar 24 07:31 007_dogs_and_cats_VGG16.h5\n",
            "-rw------- 1 root root 140748400 Mar 24 07:36 008_dogs_and_cats_fine_tuning.h5\n",
            "-rw------- 1 root root 255358264 Mar 24 09:10 009_dogs_and_cats_VGG16.h5\n"
          ],
          "name": "stdout"
        }
      ]
    },
    {
      "cell_type": "markdown",
      "metadata": {
        "id": "WiKYR2Y5tsrv"
      },
      "source": [
        "> ## 3) Model Load"
      ]
    },
    {
      "cell_type": "code",
      "metadata": {
        "id": "90UQS7J1tzBZ"
      },
      "source": [
        "from keras.models import load_model\n",
        "\n",
        "model_google = load_model('/content/drive/My Drive/Colab Notebooks/models/009_dogs_and_cats_VGG16.h5')"
      ],
      "execution_count": null,
      "outputs": []
    },
    {
      "cell_type": "code",
      "metadata": {
        "id": "rULDfHRPXh42",
        "colab": {
          "base_uri": "https://localhost:8080/"
        },
        "outputId": "70ffdbf7-8a3d-49a7-f0af-65d77dcf1ca9"
      },
      "source": [
        "loss, accuracy = model_google.evaluate(test_generator,\n",
        "                                       steps = 50)\n",
        "\n",
        "print('Loss = {:.5f}'.format(loss))\n",
        "print('Accuracy = {:.5f}'.format(accuracy))"
      ],
      "execution_count": null,
      "outputs": [
        {
          "output_type": "stream",
          "text": [
            "50/50 [==============================] - 4s 81ms/step - loss: 0.2220 - accuracy: 0.9620\n",
            "Loss = 0.22197\n",
            "Accuracy = 0.96200\n"
          ],
          "name": "stdout"
        }
      ]
    },
    {
      "cell_type": "markdown",
      "metadata": {
        "id": "sN48I9GrLxOX"
      },
      "source": [
        "# \n",
        "# \n",
        "# \n",
        "# The End\n",
        "# \n",
        "# \n",
        "# "
      ]
    }
  ]
}