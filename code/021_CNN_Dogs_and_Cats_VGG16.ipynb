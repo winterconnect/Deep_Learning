{
  "nbformat": 4,
  "nbformat_minor": 0,
  "metadata": {
    "colab": {
      "name": "021_CNN_Dogs_and_Cats_VGG16.ipynb",
      "provenance": [],
      "collapsed_sections": []
    },
    "kernelspec": {
      "name": "python3",
      "display_name": "Python 3"
    },
    "accelerator": "GPU"
  },
  "cells": [
    {
      "cell_type": "markdown",
      "metadata": {
        "id": "q2Pr7oBdYLdf"
      },
      "source": [
        "# VGG-16 재훈련\n",
        "## VGG-16 Model\n",
        "* University of Oxford - Visual Geometry Group\n",
        "* 2014 ILSVRC 2nd Model\n",
        "* ImageNet Large Scale Visual Recognition Challenge (ILSVRC)\n"
      ]
    },
    {
      "cell_type": "code",
      "metadata": {
        "id": "RbPgODpVzdHI"
      },
      "source": [
        "import warnings\n",
        "warnings.filterwarnings('ignore')"
      ],
      "execution_count": 1,
      "outputs": []
    },
    {
      "cell_type": "markdown",
      "metadata": {
        "id": "M9XBsS7QD8EU"
      },
      "source": [
        "## Import Keras"
      ]
    },
    {
      "cell_type": "code",
      "metadata": {
        "id": "GR4j3p6N_rDV",
        "colab": {
          "base_uri": "https://localhost:8080/",
          "height": 35
        },
        "outputId": "48bcfa54-2aa4-4477-e369-5d28ab43a505"
      },
      "source": [
        "import keras\n",
        "\n",
        "keras.__version__"
      ],
      "execution_count": 2,
      "outputs": [
        {
          "output_type": "execute_result",
          "data": {
            "application/vnd.google.colaboratory.intrinsic+json": {
              "type": "string"
            },
            "text/plain": [
              "'2.4.3'"
            ]
          },
          "metadata": {
            "tags": []
          },
          "execution_count": 2
        }
      ]
    },
    {
      "cell_type": "markdown",
      "metadata": {
        "id": "Wj2YDhpFrpeb"
      },
      "source": [
        "# I. Google Drive Mount\n",
        "* 'dogs_and_cats_small.zip' 디렉토리를 구글드라이브에 업로드"
      ]
    },
    {
      "cell_type": "code",
      "metadata": {
        "id": "EkooevWlEpae",
        "colab": {
          "base_uri": "https://localhost:8080/"
        },
        "outputId": "b03152be-1e9c-4782-8319-6fafca20ffea"
      },
      "source": [
        "from google.colab import drive\n",
        "\n",
        "drive.mount('/content/drive')"
      ],
      "execution_count": 3,
      "outputs": [
        {
          "output_type": "stream",
          "text": [
            "Mounted at /content/drive\n"
          ],
          "name": "stdout"
        }
      ]
    },
    {
      "cell_type": "markdown",
      "metadata": {
        "id": "exwpHwMXXQpA"
      },
      "source": [
        "> ## 1) 구글 드라이브 마운트 결과 확인"
      ]
    },
    {
      "cell_type": "code",
      "metadata": {
        "id": "z2azrWPBKTTw",
        "colab": {
          "base_uri": "https://localhost:8080/"
        },
        "outputId": "0f359b97-9f51-4142-c2f9-d819228d40a7"
      },
      "source": [
        "!ls -l '/content/drive/My Drive/Colab Notebooks/datasets/dogs_and_cats_small.zip'"
      ],
      "execution_count": 4,
      "outputs": [
        {
          "output_type": "stream",
          "text": [
            "-rw------- 1 root root 90618980 Mar  4 04:51 '/content/drive/My Drive/Colab Notebooks/datasets/dogs_and_cats_small.zip'\n"
          ],
          "name": "stdout"
        }
      ]
    },
    {
      "cell_type": "markdown",
      "metadata": {
        "id": "ndWiKdoYWsck"
      },
      "source": [
        "> ## 2) unzip 'dogs_and_cats_small.zip'"
      ]
    },
    {
      "cell_type": "code",
      "metadata": {
        "id": "Olr39vl1U89G"
      },
      "source": [
        "!unzip /content/drive/My\\ Drive/Colab\\ Notebooks/datasets/dogs_and_cats_small.zip"
      ],
      "execution_count": null,
      "outputs": []
    },
    {
      "cell_type": "code",
      "metadata": {
        "id": "Wt95WJ0SXOPP",
        "colab": {
          "base_uri": "https://localhost:8080/"
        },
        "outputId": "7d148f92-402f-4276-a1b5-0a5f9ed0feca"
      },
      "source": [
        "!ls -l"
      ],
      "execution_count": 6,
      "outputs": [
        {
          "output_type": "stream",
          "text": [
            "total 20\n",
            "drwx------ 5 root root 4096 Mar 24 06:54 drive\n",
            "drwxr-xr-x 1 root root 4096 Mar 18 13:36 sample_data\n",
            "drwxr-xr-x 4 root root 4096 Mar 24 06:54 test\n",
            "drwxr-xr-x 4 root root 4096 Mar 24 06:54 train\n",
            "drwxr-xr-x 4 root root 4096 Mar 24 06:54 validation\n"
          ],
          "name": "stdout"
        }
      ]
    },
    {
      "cell_type": "markdown",
      "metadata": {
        "id": "1DyFdyVxFyHK"
      },
      "source": [
        "# II. Image_File Directory Setting"
      ]
    },
    {
      "cell_type": "markdown",
      "metadata": {
        "id": "fwUMpMCYGB7Z"
      },
      "source": [
        "* train_dir\n",
        "* valid_dir\n",
        "* test_dir"
      ]
    },
    {
      "cell_type": "code",
      "metadata": {
        "id": "DxstjE8b_6Te"
      },
      "source": [
        "train_dir = 'train'\n",
        "valid_dir = 'validation'\n",
        "test_dir = 'test'"
      ],
      "execution_count": 7,
      "outputs": []
    },
    {
      "cell_type": "markdown",
      "metadata": {
        "id": "0NXAn6tEYuVP"
      },
      "source": [
        "# III. Data Preprocessing"
      ]
    },
    {
      "cell_type": "markdown",
      "metadata": {
        "id": "k-mxzCBmZBVW"
      },
      "source": [
        "> ## 1) ImageDataGenerator( ) & flow_from_directory( )"
      ]
    },
    {
      "cell_type": "markdown",
      "metadata": {
        "id": "67hcrgtRubHV"
      },
      "source": [
        "* Normalization\n",
        " * ImageDataGenerator( )\n",
        "* Resizing & Generator\n",
        " * flow_from_directory( )"
      ]
    },
    {
      "cell_type": "code",
      "metadata": {
        "id": "fv4TEj_oZDGm",
        "colab": {
          "base_uri": "https://localhost:8080/"
        },
        "outputId": "625780c8-7006-47fd-9f30-5f2f5e628af6"
      },
      "source": [
        "from keras.preprocessing.image import ImageDataGenerator\n",
        "\n",
        "train_datagen = ImageDataGenerator(rescale = 1./255)\n",
        "valid_datagen = ImageDataGenerator(rescale = 1./255)\n",
        "\n",
        "train_generator = train_datagen.flow_from_directory(\n",
        "                  train_dir,\n",
        "                  target_size = (150, 150),\n",
        "                  batch_size = 20,\n",
        "                  class_mode = 'binary')\n",
        "\n",
        "valid_generator = valid_datagen.flow_from_directory(\n",
        "                  valid_dir,\n",
        "                  target_size = (150, 150),\n",
        "                  batch_size = 20,\n",
        "                  class_mode = 'binary')"
      ],
      "execution_count": 8,
      "outputs": [
        {
          "output_type": "stream",
          "text": [
            "Found 2000 images belonging to 2 classes.\n",
            "Found 1000 images belonging to 2 classes.\n"
          ],
          "name": "stdout"
        }
      ]
    },
    {
      "cell_type": "markdown",
      "metadata": {
        "id": "wBAWLCWdGNde"
      },
      "source": [
        "# IV. Import VGG-16 Model"
      ]
    },
    {
      "cell_type": "markdown",
      "metadata": {
        "id": "tpdqyBb2Gsdj"
      },
      "source": [
        "> ## 1) conv_base"
      ]
    },
    {
      "cell_type": "code",
      "metadata": {
        "id": "Zgv7VdbFGTGK",
        "colab": {
          "base_uri": "https://localhost:8080/"
        },
        "outputId": "52d378fd-00d4-481e-c9fb-79de330f2a82"
      },
      "source": [
        "from keras.applications import VGG16\n",
        "\n",
        "conv_base = VGG16(weights = 'imagenet',\n",
        "                  include_top = False,\n",
        "                  input_shape = (150, 150, 3))"
      ],
      "execution_count": 9,
      "outputs": [
        {
          "output_type": "stream",
          "text": [
            "Downloading data from https://storage.googleapis.com/tensorflow/keras-applications/vgg16/vgg16_weights_tf_dim_ordering_tf_kernels_notop.h5\n",
            "58892288/58889256 [==============================] - 0s 0us/step\n"
          ],
          "name": "stdout"
        }
      ]
    },
    {
      "cell_type": "markdown",
      "metadata": {
        "id": "NTwZiSjiop3v"
      },
      "source": [
        "# V. Keras CNN Modeling with VGG-16"
      ]
    },
    {
      "cell_type": "markdown",
      "metadata": {
        "id": "j5CT0TurJCkc"
      },
      "source": [
        "> ## 1) Model Define"
      ]
    },
    {
      "cell_type": "markdown",
      "metadata": {
        "id": "ydDCl0jTJD58"
      },
      "source": [
        "* 'conv_base' & 'Classification' Network\n",
        "* Dropout Layer"
      ]
    },
    {
      "cell_type": "code",
      "metadata": {
        "id": "II0DskRdAcHS"
      },
      "source": [
        "from keras import models, layers\n",
        "\n",
        "model = models.Sequential()\n",
        "model.add(conv_base)\n",
        "\n",
        "model.add(layers.Flatten())\n",
        "model.add(layers.Dense(256, activation = 'relu'))\n",
        "model.add(layers.Dropout(0.4))\n",
        "model.add(layers.Dense(1, activation = 'sigmoid'))"
      ],
      "execution_count": 10,
      "outputs": []
    },
    {
      "cell_type": "code",
      "metadata": {
        "id": "wbtjOA4XMTUd",
        "colab": {
          "base_uri": "https://localhost:8080/"
        },
        "outputId": "e16d409c-77db-48e7-e477-932b33b5ad62"
      },
      "source": [
        "model.summary()"
      ],
      "execution_count": 11,
      "outputs": [
        {
          "output_type": "stream",
          "text": [
            "Model: \"sequential\"\n",
            "_________________________________________________________________\n",
            "Layer (type)                 Output Shape              Param #   \n",
            "=================================================================\n",
            "vgg16 (Functional)           (None, 4, 4, 512)         14714688  \n",
            "_________________________________________________________________\n",
            "flatten (Flatten)            (None, 8192)              0         \n",
            "_________________________________________________________________\n",
            "dense (Dense)                (None, 256)               2097408   \n",
            "_________________________________________________________________\n",
            "dropout (Dropout)            (None, 256)               0         \n",
            "_________________________________________________________________\n",
            "dense_1 (Dense)              (None, 1)                 257       \n",
            "=================================================================\n",
            "Total params: 16,812,353\n",
            "Trainable params: 16,812,353\n",
            "Non-trainable params: 0\n",
            "_________________________________________________________________\n"
          ],
          "name": "stdout"
        }
      ]
    },
    {
      "cell_type": "markdown",
      "metadata": {
        "id": "tpjBDBeYoyuj"
      },
      "source": [
        "> ## 2) Model Compile"
      ]
    },
    {
      "cell_type": "markdown",
      "metadata": {
        "id": "f3sxkQa0JoUr"
      },
      "source": [
        "* 모델 학습방법 설정\n",
        " * 이미 학습된 Weight 값을 Tuning\n",
        " * 매우 작은 Learnig Rate 지정\n",
        " * optimizers.Adam(lr = 0.000005)"
      ]
    },
    {
      "cell_type": "code",
      "metadata": {
        "id": "AyK_t1qwAi6M"
      },
      "source": [
        "from keras import optimizers\n",
        "\n",
        "model.compile(loss = 'binary_crossentropy',\n",
        "              optimizer = optimizers.Adam(lr = 0.000005),\n",
        "              metrics = ['accuracy'])"
      ],
      "execution_count": 12,
      "outputs": []
    },
    {
      "cell_type": "markdown",
      "metadata": {
        "id": "umiq4B-Xo3OB"
      },
      "source": [
        "> ## 3) Model Fit"
      ]
    },
    {
      "cell_type": "markdown",
      "metadata": {
        "id": "1KuXREziKMD1"
      },
      "source": [
        "* 약 35분"
      ]
    },
    {
      "cell_type": "code",
      "metadata": {
        "id": "zxwqwAqRAqRP",
        "colab": {
          "base_uri": "https://localhost:8080/"
        },
        "outputId": "0eb4b53e-3216-4caa-8750-ee27226cea15"
      },
      "source": [
        "%%time\n",
        "\n",
        "Hist_dandc = model.fit(train_generator,\n",
        "                       steps_per_epoch = 100,\n",
        "                       epochs = 100,\n",
        "                       validation_data = valid_generator,\n",
        "                       validation_steps = 50)"
      ],
      "execution_count": 13,
      "outputs": [
        {
          "output_type": "stream",
          "text": [
            "Epoch 1/100\n",
            "100/100 [==============================] - 56s 194ms/step - loss: 0.6682 - accuracy: 0.5964 - val_loss: 0.2930 - val_accuracy: 0.8840\n",
            "Epoch 2/100\n",
            "100/100 [==============================] - 19s 193ms/step - loss: 0.2562 - accuracy: 0.8975 - val_loss: 0.1904 - val_accuracy: 0.9160\n",
            "Epoch 3/100\n",
            "100/100 [==============================] - 20s 198ms/step - loss: 0.1384 - accuracy: 0.9547 - val_loss: 0.1550 - val_accuracy: 0.9300\n",
            "Epoch 4/100\n",
            "100/100 [==============================] - 20s 203ms/step - loss: 0.0941 - accuracy: 0.9675 - val_loss: 0.1432 - val_accuracy: 0.9340\n",
            "Epoch 5/100\n",
            "100/100 [==============================] - 20s 199ms/step - loss: 0.0568 - accuracy: 0.9844 - val_loss: 0.1876 - val_accuracy: 0.9360\n",
            "Epoch 6/100\n",
            "100/100 [==============================] - 20s 197ms/step - loss: 0.0376 - accuracy: 0.9957 - val_loss: 0.1335 - val_accuracy: 0.9410\n",
            "Epoch 7/100\n",
            "100/100 [==============================] - 20s 198ms/step - loss: 0.0245 - accuracy: 0.9913 - val_loss: 0.1571 - val_accuracy: 0.9370\n",
            "Epoch 8/100\n",
            "100/100 [==============================] - 20s 198ms/step - loss: 0.0211 - accuracy: 0.9963 - val_loss: 0.1658 - val_accuracy: 0.9370\n",
            "Epoch 9/100\n",
            "100/100 [==============================] - 20s 198ms/step - loss: 0.0139 - accuracy: 0.9987 - val_loss: 0.1545 - val_accuracy: 0.9470\n",
            "Epoch 10/100\n",
            "100/100 [==============================] - 20s 196ms/step - loss: 0.0053 - accuracy: 0.9999 - val_loss: 0.1567 - val_accuracy: 0.9440\n",
            "Epoch 11/100\n",
            "100/100 [==============================] - 20s 197ms/step - loss: 0.0057 - accuracy: 0.9994 - val_loss: 0.1667 - val_accuracy: 0.9480\n",
            "Epoch 12/100\n",
            "100/100 [==============================] - 20s 197ms/step - loss: 0.0105 - accuracy: 0.9976 - val_loss: 0.1823 - val_accuracy: 0.9380\n",
            "Epoch 13/100\n",
            "100/100 [==============================] - 20s 196ms/step - loss: 0.0109 - accuracy: 0.9980 - val_loss: 0.1624 - val_accuracy: 0.9360\n",
            "Epoch 14/100\n",
            "100/100 [==============================] - 20s 197ms/step - loss: 0.0027 - accuracy: 1.0000 - val_loss: 0.1588 - val_accuracy: 0.9500\n",
            "Epoch 15/100\n",
            "100/100 [==============================] - 20s 196ms/step - loss: 0.0027 - accuracy: 0.9999 - val_loss: 0.1695 - val_accuracy: 0.9490\n",
            "Epoch 16/100\n",
            "100/100 [==============================] - 20s 196ms/step - loss: 0.0014 - accuracy: 1.0000 - val_loss: 0.1780 - val_accuracy: 0.9480\n",
            "Epoch 17/100\n",
            "100/100 [==============================] - 20s 196ms/step - loss: 0.0012 - accuracy: 1.0000 - val_loss: 0.1972 - val_accuracy: 0.9490\n",
            "Epoch 18/100\n",
            "100/100 [==============================] - 20s 197ms/step - loss: 0.0015 - accuracy: 0.9998 - val_loss: 0.1985 - val_accuracy: 0.9440\n",
            "Epoch 19/100\n",
            "100/100 [==============================] - 20s 197ms/step - loss: 0.0038 - accuracy: 1.0000 - val_loss: 0.1877 - val_accuracy: 0.9480\n",
            "Epoch 20/100\n",
            "100/100 [==============================] - 20s 197ms/step - loss: 9.9394e-04 - accuracy: 1.0000 - val_loss: 0.1852 - val_accuracy: 0.9480\n",
            "Epoch 21/100\n",
            "100/100 [==============================] - 20s 196ms/step - loss: 6.6994e-04 - accuracy: 1.0000 - val_loss: 0.1996 - val_accuracy: 0.9470\n",
            "Epoch 22/100\n",
            "100/100 [==============================] - 20s 196ms/step - loss: 4.5880e-04 - accuracy: 1.0000 - val_loss: 0.2051 - val_accuracy: 0.9490\n",
            "Epoch 23/100\n",
            "100/100 [==============================] - 20s 196ms/step - loss: 8.1497e-04 - accuracy: 1.0000 - val_loss: 0.2015 - val_accuracy: 0.9520\n",
            "Epoch 24/100\n",
            "100/100 [==============================] - 20s 196ms/step - loss: 3.1619e-04 - accuracy: 1.0000 - val_loss: 0.2029 - val_accuracy: 0.9490\n",
            "Epoch 25/100\n",
            "100/100 [==============================] - 20s 196ms/step - loss: 4.8596e-04 - accuracy: 0.9998 - val_loss: 0.3395 - val_accuracy: 0.9250\n",
            "Epoch 26/100\n",
            "100/100 [==============================] - 20s 197ms/step - loss: 0.0136 - accuracy: 0.9959 - val_loss: 0.1559 - val_accuracy: 0.9500\n",
            "Epoch 27/100\n",
            "100/100 [==============================] - 20s 196ms/step - loss: 0.0068 - accuracy: 0.9984 - val_loss: 0.1715 - val_accuracy: 0.9500\n",
            "Epoch 28/100\n",
            "100/100 [==============================] - 20s 197ms/step - loss: 0.0041 - accuracy: 0.9983 - val_loss: 0.1580 - val_accuracy: 0.9510\n",
            "Epoch 29/100\n",
            "100/100 [==============================] - 20s 197ms/step - loss: 7.8026e-04 - accuracy: 1.0000 - val_loss: 0.1849 - val_accuracy: 0.9470\n",
            "Epoch 30/100\n",
            "100/100 [==============================] - 20s 196ms/step - loss: 5.3153e-04 - accuracy: 1.0000 - val_loss: 0.1807 - val_accuracy: 0.9510\n",
            "Epoch 31/100\n",
            "100/100 [==============================] - 20s 196ms/step - loss: 2.6369e-04 - accuracy: 1.0000 - val_loss: 0.1885 - val_accuracy: 0.9520\n",
            "Epoch 32/100\n",
            "100/100 [==============================] - 20s 196ms/step - loss: 3.5171e-04 - accuracy: 1.0000 - val_loss: 0.1936 - val_accuracy: 0.9500\n",
            "Epoch 33/100\n",
            "100/100 [==============================] - 20s 196ms/step - loss: 2.5341e-04 - accuracy: 1.0000 - val_loss: 0.1987 - val_accuracy: 0.9540\n",
            "Epoch 34/100\n",
            "100/100 [==============================] - 20s 196ms/step - loss: 4.2895e-04 - accuracy: 1.0000 - val_loss: 0.1976 - val_accuracy: 0.9520\n",
            "Epoch 35/100\n",
            "100/100 [==============================] - 20s 196ms/step - loss: 1.2476e-04 - accuracy: 1.0000 - val_loss: 0.2109 - val_accuracy: 0.9500\n",
            "Epoch 36/100\n",
            "100/100 [==============================] - 20s 196ms/step - loss: 1.3227e-04 - accuracy: 1.0000 - val_loss: 0.2068 - val_accuracy: 0.9520\n",
            "Epoch 37/100\n",
            "100/100 [==============================] - 20s 196ms/step - loss: 1.0946e-04 - accuracy: 1.0000 - val_loss: 0.2104 - val_accuracy: 0.9510\n",
            "Epoch 38/100\n",
            "100/100 [==============================] - 20s 196ms/step - loss: 1.1390e-04 - accuracy: 1.0000 - val_loss: 0.2140 - val_accuracy: 0.9500\n",
            "Epoch 39/100\n",
            "100/100 [==============================] - 20s 197ms/step - loss: 1.1568e-04 - accuracy: 1.0000 - val_loss: 0.2134 - val_accuracy: 0.9520\n",
            "Epoch 40/100\n",
            "100/100 [==============================] - 20s 196ms/step - loss: 6.5654e-05 - accuracy: 1.0000 - val_loss: 0.2153 - val_accuracy: 0.9530\n",
            "Epoch 41/100\n",
            "100/100 [==============================] - 20s 196ms/step - loss: 6.8653e-05 - accuracy: 1.0000 - val_loss: 0.2200 - val_accuracy: 0.9510\n",
            "Epoch 42/100\n",
            "100/100 [==============================] - 20s 196ms/step - loss: 5.2050e-05 - accuracy: 1.0000 - val_loss: 0.2204 - val_accuracy: 0.9520\n",
            "Epoch 43/100\n",
            "100/100 [==============================] - 20s 195ms/step - loss: 9.6482e-05 - accuracy: 1.0000 - val_loss: 0.2270 - val_accuracy: 0.9530\n",
            "Epoch 44/100\n",
            "100/100 [==============================] - 20s 196ms/step - loss: 4.5562e-04 - accuracy: 1.0000 - val_loss: 0.2374 - val_accuracy: 0.9580\n",
            "Epoch 45/100\n",
            "100/100 [==============================] - 20s 196ms/step - loss: 0.0108 - accuracy: 0.9971 - val_loss: 0.1863 - val_accuracy: 0.9400\n",
            "Epoch 46/100\n",
            "100/100 [==============================] - 20s 197ms/step - loss: 0.0100 - accuracy: 0.9957 - val_loss: 0.1832 - val_accuracy: 0.9520\n",
            "Epoch 47/100\n",
            "100/100 [==============================] - 20s 197ms/step - loss: 0.0011 - accuracy: 1.0000 - val_loss: 0.1923 - val_accuracy: 0.9500\n",
            "Epoch 48/100\n",
            "100/100 [==============================] - 20s 196ms/step - loss: 6.0698e-04 - accuracy: 1.0000 - val_loss: 0.1946 - val_accuracy: 0.9490\n",
            "Epoch 49/100\n",
            "100/100 [==============================] - 20s 196ms/step - loss: 4.3459e-04 - accuracy: 1.0000 - val_loss: 0.1865 - val_accuracy: 0.9550\n",
            "Epoch 50/100\n",
            "100/100 [==============================] - 20s 196ms/step - loss: 2.2274e-04 - accuracy: 1.0000 - val_loss: 0.1935 - val_accuracy: 0.9540\n",
            "Epoch 51/100\n",
            "100/100 [==============================] - 20s 195ms/step - loss: 2.2750e-04 - accuracy: 1.0000 - val_loss: 0.1945 - val_accuracy: 0.9580\n",
            "Epoch 52/100\n",
            "100/100 [==============================] - 20s 195ms/step - loss: 3.6265e-04 - accuracy: 1.0000 - val_loss: 0.1985 - val_accuracy: 0.9530\n",
            "Epoch 53/100\n",
            "100/100 [==============================] - 20s 196ms/step - loss: 1.5112e-04 - accuracy: 1.0000 - val_loss: 0.2041 - val_accuracy: 0.9540\n",
            "Epoch 54/100\n",
            "100/100 [==============================] - 20s 196ms/step - loss: 1.0449e-04 - accuracy: 1.0000 - val_loss: 0.2082 - val_accuracy: 0.9540\n",
            "Epoch 55/100\n",
            "100/100 [==============================] - 20s 195ms/step - loss: 1.5714e-04 - accuracy: 1.0000 - val_loss: 0.2206 - val_accuracy: 0.9520\n",
            "Epoch 56/100\n",
            "100/100 [==============================] - 20s 196ms/step - loss: 2.1411e-04 - accuracy: 1.0000 - val_loss: 0.2285 - val_accuracy: 0.9540\n",
            "Epoch 57/100\n",
            "100/100 [==============================] - 20s 195ms/step - loss: 1.0179e-04 - accuracy: 1.0000 - val_loss: 0.2214 - val_accuracy: 0.9550\n",
            "Epoch 58/100\n",
            "100/100 [==============================] - 20s 196ms/step - loss: 8.8189e-05 - accuracy: 1.0000 - val_loss: 0.2440 - val_accuracy: 0.9490\n",
            "Epoch 59/100\n",
            "100/100 [==============================] - 20s 196ms/step - loss: 8.2727e-05 - accuracy: 1.0000 - val_loss: 0.2180 - val_accuracy: 0.9530\n",
            "Epoch 60/100\n",
            "100/100 [==============================] - 20s 196ms/step - loss: 4.7260e-05 - accuracy: 1.0000 - val_loss: 0.2231 - val_accuracy: 0.9560\n",
            "Epoch 61/100\n",
            "100/100 [==============================] - 20s 196ms/step - loss: 4.4089e-05 - accuracy: 1.0000 - val_loss: 0.2246 - val_accuracy: 0.9560\n",
            "Epoch 62/100\n",
            "100/100 [==============================] - 20s 195ms/step - loss: 5.8119e-05 - accuracy: 1.0000 - val_loss: 0.2438 - val_accuracy: 0.9540\n",
            "Epoch 63/100\n",
            "100/100 [==============================] - 20s 196ms/step - loss: 5.7861e-05 - accuracy: 1.0000 - val_loss: 0.2262 - val_accuracy: 0.9560\n",
            "Epoch 64/100\n",
            "100/100 [==============================] - 20s 196ms/step - loss: 5.8674e-05 - accuracy: 1.0000 - val_loss: 0.2219 - val_accuracy: 0.9570\n",
            "Epoch 65/100\n",
            "100/100 [==============================] - 20s 196ms/step - loss: 2.4040e-05 - accuracy: 1.0000 - val_loss: 0.2354 - val_accuracy: 0.9560\n",
            "Epoch 66/100\n",
            "100/100 [==============================] - 20s 195ms/step - loss: 3.8260e-05 - accuracy: 1.0000 - val_loss: 0.2335 - val_accuracy: 0.9550\n",
            "Epoch 67/100\n",
            "100/100 [==============================] - 20s 196ms/step - loss: 1.9501e-05 - accuracy: 1.0000 - val_loss: 0.2359 - val_accuracy: 0.9550\n",
            "Epoch 68/100\n",
            "100/100 [==============================] - 20s 196ms/step - loss: 1.8643e-05 - accuracy: 1.0000 - val_loss: 0.2380 - val_accuracy: 0.9570\n",
            "Epoch 69/100\n",
            "100/100 [==============================] - 20s 196ms/step - loss: 5.9028e-05 - accuracy: 1.0000 - val_loss: 0.2272 - val_accuracy: 0.9540\n",
            "Epoch 70/100\n",
            "100/100 [==============================] - 20s 196ms/step - loss: 1.3477e-05 - accuracy: 1.0000 - val_loss: 0.2310 - val_accuracy: 0.9550\n",
            "Epoch 71/100\n",
            "100/100 [==============================] - 20s 196ms/step - loss: 3.3153e-05 - accuracy: 1.0000 - val_loss: 0.2331 - val_accuracy: 0.9520\n",
            "Epoch 72/100\n",
            "100/100 [==============================] - 20s 195ms/step - loss: 3.4152e-05 - accuracy: 1.0000 - val_loss: 0.2344 - val_accuracy: 0.9560\n",
            "Epoch 73/100\n",
            "100/100 [==============================] - 20s 195ms/step - loss: 3.5190e-05 - accuracy: 1.0000 - val_loss: 0.2402 - val_accuracy: 0.9560\n",
            "Epoch 74/100\n",
            "100/100 [==============================] - 20s 196ms/step - loss: 2.6671e-05 - accuracy: 1.0000 - val_loss: 0.2530 - val_accuracy: 0.9560\n",
            "Epoch 75/100\n",
            "100/100 [==============================] - 20s 196ms/step - loss: 1.7370e-05 - accuracy: 1.0000 - val_loss: 0.2436 - val_accuracy: 0.9550\n",
            "Epoch 76/100\n",
            "100/100 [==============================] - 20s 196ms/step - loss: 1.0879e-05 - accuracy: 1.0000 - val_loss: 0.2749 - val_accuracy: 0.9550\n",
            "Epoch 77/100\n",
            "100/100 [==============================] - 19s 195ms/step - loss: 2.1530e-05 - accuracy: 1.0000 - val_loss: 0.2502 - val_accuracy: 0.9520\n",
            "Epoch 78/100\n",
            "100/100 [==============================] - 20s 196ms/step - loss: 1.8848e-05 - accuracy: 1.0000 - val_loss: 0.2650 - val_accuracy: 0.9550\n",
            "Epoch 79/100\n",
            "100/100 [==============================] - 19s 195ms/step - loss: 1.6958e-05 - accuracy: 1.0000 - val_loss: 0.2600 - val_accuracy: 0.9550\n",
            "Epoch 80/100\n",
            "100/100 [==============================] - 20s 195ms/step - loss: 3.0258e-05 - accuracy: 1.0000 - val_loss: 0.2725 - val_accuracy: 0.9540\n",
            "Epoch 81/100\n",
            "100/100 [==============================] - 20s 196ms/step - loss: 1.4441e-05 - accuracy: 1.0000 - val_loss: 0.2704 - val_accuracy: 0.9570\n",
            "Epoch 82/100\n",
            "100/100 [==============================] - 20s 195ms/step - loss: 8.4131e-06 - accuracy: 1.0000 - val_loss: 0.2671 - val_accuracy: 0.9550\n",
            "Epoch 83/100\n",
            "100/100 [==============================] - 20s 195ms/step - loss: 8.8348e-06 - accuracy: 1.0000 - val_loss: 0.2607 - val_accuracy: 0.9520\n",
            "Epoch 84/100\n",
            "100/100 [==============================] - 20s 196ms/step - loss: 6.1016e-06 - accuracy: 1.0000 - val_loss: 0.2670 - val_accuracy: 0.9550\n",
            "Epoch 85/100\n",
            "100/100 [==============================] - 20s 195ms/step - loss: 7.0598e-06 - accuracy: 1.0000 - val_loss: 0.2665 - val_accuracy: 0.9530\n",
            "Epoch 86/100\n",
            "100/100 [==============================] - 19s 195ms/step - loss: 4.1417e-06 - accuracy: 1.0000 - val_loss: 0.2633 - val_accuracy: 0.9530\n",
            "Epoch 87/100\n",
            "100/100 [==============================] - 20s 196ms/step - loss: 3.2792e-06 - accuracy: 1.0000 - val_loss: 0.2671 - val_accuracy: 0.9530\n",
            "Epoch 88/100\n",
            "100/100 [==============================] - 20s 197ms/step - loss: 1.1625e-05 - accuracy: 1.0000 - val_loss: 0.2665 - val_accuracy: 0.9530\n",
            "Epoch 89/100\n",
            "100/100 [==============================] - 20s 195ms/step - loss: 1.2014e-05 - accuracy: 1.0000 - val_loss: 0.2761 - val_accuracy: 0.9540\n",
            "Epoch 90/100\n",
            "100/100 [==============================] - 20s 196ms/step - loss: 5.5693e-06 - accuracy: 1.0000 - val_loss: 0.2722 - val_accuracy: 0.9540\n",
            "Epoch 91/100\n",
            "100/100 [==============================] - 20s 195ms/step - loss: 3.1951e-06 - accuracy: 1.0000 - val_loss: 0.2803 - val_accuracy: 0.9540\n",
            "Epoch 92/100\n",
            "100/100 [==============================] - 20s 196ms/step - loss: 5.0029e-06 - accuracy: 1.0000 - val_loss: 0.2704 - val_accuracy: 0.9550\n",
            "Epoch 93/100\n",
            "100/100 [==============================] - 20s 196ms/step - loss: 3.4342e-06 - accuracy: 1.0000 - val_loss: 0.2711 - val_accuracy: 0.9550\n",
            "Epoch 94/100\n",
            "100/100 [==============================] - 20s 195ms/step - loss: 3.0142e-06 - accuracy: 1.0000 - val_loss: 0.2931 - val_accuracy: 0.9550\n",
            "Epoch 95/100\n",
            "100/100 [==============================] - 20s 196ms/step - loss: 2.9649e-06 - accuracy: 1.0000 - val_loss: 0.2783 - val_accuracy: 0.9530\n",
            "Epoch 96/100\n",
            "100/100 [==============================] - 20s 196ms/step - loss: 8.4071e-06 - accuracy: 1.0000 - val_loss: 0.2792 - val_accuracy: 0.9540\n",
            "Epoch 97/100\n",
            "100/100 [==============================] - 20s 196ms/step - loss: 1.0618e-05 - accuracy: 1.0000 - val_loss: 0.2778 - val_accuracy: 0.9550\n",
            "Epoch 98/100\n",
            "100/100 [==============================] - 20s 196ms/step - loss: 3.3293e-06 - accuracy: 1.0000 - val_loss: 0.2840 - val_accuracy: 0.9540\n",
            "Epoch 99/100\n",
            "100/100 [==============================] - 20s 196ms/step - loss: 4.1193e-06 - accuracy: 1.0000 - val_loss: 0.2812 - val_accuracy: 0.9540\n",
            "Epoch 100/100\n",
            "100/100 [==============================] - 20s 196ms/step - loss: 6.0839e-06 - accuracy: 1.0000 - val_loss: 0.3282 - val_accuracy: 0.9510\n",
            "CPU times: user 29min 47s, sys: 9min, total: 38min 48s\n",
            "Wall time: 33min 20s\n"
          ],
          "name": "stdout"
        }
      ]
    },
    {
      "cell_type": "markdown",
      "metadata": {
        "id": "FnnIyFtNKhbD"
      },
      "source": [
        "> ## 4) 학습 결과 시각화"
      ]
    },
    {
      "cell_type": "markdown",
      "metadata": {
        "id": "YgXRhVauKqOm"
      },
      "source": [
        "* Loss & Accuracy Visualization"
      ]
    },
    {
      "cell_type": "code",
      "metadata": {
        "id": "OQ4ke8BbKi50",
        "colab": {
          "base_uri": "https://localhost:8080/",
          "height": 366
        },
        "outputId": "1943bb96-4aad-493e-b35a-582ce312b365"
      },
      "source": [
        "import matplotlib.pyplot as plt\n",
        "\n",
        "epochs = range(1, len(Hist_dandc.history['loss']) + 1)\n",
        "\n",
        "plt.figure(figsize = (20, 6))\n",
        "\n",
        "plt.subplot(1, 2, 1)\n",
        "plt.plot(epochs, Hist_dandc.history['loss'])\n",
        "plt.plot(epochs, Hist_dandc.history['val_loss'])\n",
        "\n",
        "plt.title('Training & Validation Loss')\n",
        "plt.xlabel('Epochs')\n",
        "plt.ylabel('Loss')\n",
        "plt.legend(['Training Loss', 'Validation Loss'])\n",
        "plt.grid()\n",
        "\n",
        "plt.subplot(1, 2, 2)\n",
        "plt.plot(epochs, Hist_dandc.history['accuracy'])\n",
        "plt.plot(epochs, Hist_dandc.history['val_accuracy'])\n",
        "\n",
        "plt.title('Training & Validation Accuracy')\n",
        "plt.xlabel('Epochs')\n",
        "plt.ylabel('Accuracy')\n",
        "plt.legend(['Training Accuracy', 'Validation Accuracy'])\n",
        "plt.grid()\n",
        "\n",
        "plt.show()"
      ],
      "execution_count": 16,
      "outputs": [
        {
          "output_type": "display_data",
          "data": {
            "image/png": "[encoded data removed]",
            "text/plain": [
              "<Figure size 1440x432 with 2 Axes>"
            ]
          },
          "metadata": {
            "tags": [],
            "needs_background": "light"
          }
        }
      ]
    },
    {
      "cell_type": "markdown",
      "metadata": {
        "id": "_uJSOLBko7lh"
      },
      "source": [
        "> ## 5) Model Evaluate"
      ]
    },
    {
      "cell_type": "markdown",
      "metadata": {
        "id": "hBnpWElEZUXG"
      },
      "source": [
        "* test_generator"
      ]
    },
    {
      "cell_type": "code",
      "metadata": {
        "id": "_IxBkugQZXk3",
        "colab": {
          "base_uri": "https://localhost:8080/"
        },
        "outputId": "fec2914f-9dfa-452b-f64a-23ca3edc3645"
      },
      "source": [
        "test_datagen = ImageDataGenerator(rescale = 1./255)\n",
        "\n",
        "test_generator = test_datagen.flow_from_directory(\n",
        "                 test_dir,\n",
        "                 target_size = (150, 150),\n",
        "                 batch_size = 20,\n",
        "                 class_mode = 'binary')"
      ],
      "execution_count": 17,
      "outputs": [
        {
          "output_type": "stream",
          "text": [
            "Found 1000 images belonging to 2 classes.\n"
          ],
          "name": "stdout"
        }
      ]
    },
    {
      "cell_type": "markdown",
      "metadata": {
        "id": "i-TqAB2ALGzZ"
      },
      "source": [
        "* Loss & Accuracy"
      ]
    },
    {
      "cell_type": "code",
      "metadata": {
        "id": "OF30PuZsAxQJ",
        "colab": {
          "base_uri": "https://localhost:8080/"
        },
        "outputId": "79de4075-ef94-4b67-9fe2-04679b9714f5"
      },
      "source": [
        "loss, accuracy = model.evaluate(test_generator,\n",
        "                                steps = 50)\n",
        "\n",
        "print('Loss = {:.5f}'.format(loss))\n",
        "print('Accuracy = {:.5f}'.format(accuracy))"
      ],
      "execution_count": 18,
      "outputs": [
        {
          "output_type": "stream",
          "text": [
            "50/50 [==============================] - 4s 69ms/step - loss: 0.2876 - accuracy: 0.9560\n",
            "Loss = 0.28756\n",
            "Accuracy = 0.95600\n"
          ],
          "name": "stdout"
        }
      ]
    },
    {
      "cell_type": "markdown",
      "metadata": {
        "id": "fBSR6RDTtWZV"
      },
      "source": [
        "# IV. Model Save & Load to Google Drive"
      ]
    },
    {
      "cell_type": "markdown",
      "metadata": {
        "id": "OoG9bnmFuD5v"
      },
      "source": [
        "> ## 1) Google Drive Mount"
      ]
    },
    {
      "cell_type": "code",
      "metadata": {
        "id": "PQYJikBzuOuQ",
        "colab": {
          "base_uri": "https://localhost:8080/"
        },
        "outputId": "ea8925a4-1996-4f07-d6ff-57a6282129e6"
      },
      "source": [
        "from google.colab import drive\n",
        "\n",
        "drive.mount('/content/drive')"
      ],
      "execution_count": 19,
      "outputs": [
        {
          "output_type": "stream",
          "text": [
            "Drive already mounted at /content/drive; to attempt to forcibly remount, call drive.mount(\"/content/drive\", force_remount=True).\n"
          ],
          "name": "stdout"
        }
      ]
    },
    {
      "cell_type": "markdown",
      "metadata": {
        "id": "0SX2qVV5tfZ5"
      },
      "source": [
        "> ## 2) Model Save"
      ]
    },
    {
      "cell_type": "code",
      "metadata": {
        "id": "o-VnLdQftjvL"
      },
      "source": [
        "model.save('/content/drive/My Drive/Colab Notebooks/models/007_dogs_and_cats_VGG16.h5')"
      ],
      "execution_count": 20,
      "outputs": []
    },
    {
      "cell_type": "code",
      "metadata": {
        "id": "rZngp467yJ3f",
        "colab": {
          "base_uri": "https://localhost:8080/"
        },
        "outputId": "51edc7e2-0115-4088-def5-98d453cb3779"
      },
      "source": [
        "!ls -l /content/drive/My\\ Drive/Colab\\ Notebooks/models"
      ],
      "execution_count": 21,
      "outputs": [
        {
          "output_type": "stream",
          "text": [
            "total 341786\n",
            "-rw------- 1 root root     34592 Mar 18 02:42 001_Model_iris.h5\n",
            "-rw------- 1 root root  41498896 Mar 23 02:18 002_dogs_and_cats_small.h5\n",
            "-rw------- 1 root root  41501624 Mar 23 07:12 003_dogs_and_cats_augmentation.h5\n",
            "-rw------- 1 root root  39879700 Mar 23 06:41 004_logo_classification_with_augmentation.h5\n",
            "-rw------- 1 root root  25199032 Mar 24 05:22 006_dogs_and_cats_feature_extraction.h5\n",
            "-rw------- 1 root root 201873880 Mar 24 07:31 007_dogs_and_cats_VGG16.h5\n"
          ],
          "name": "stdout"
        }
      ]
    },
    {
      "cell_type": "markdown",
      "metadata": {
        "id": "WiKYR2Y5tsrv"
      },
      "source": [
        "> ## 3) Model Load"
      ]
    },
    {
      "cell_type": "code",
      "metadata": {
        "id": "90UQS7J1tzBZ"
      },
      "source": [
        "from keras.models import load_model\n",
        "\n",
        "model_google = load_model('/content/drive/My Drive/Colab Notebooks/models/007_dogs_and_cats_VGG16.h5')"
      ],
      "execution_count": 23,
      "outputs": []
    },
    {
      "cell_type": "code",
      "metadata": {
        "id": "rULDfHRPXh42",
        "colab": {
          "base_uri": "https://localhost:8080/"
        },
        "outputId": "e5697a79-44aa-4b21-f53e-e25eca3d2ff3"
      },
      "source": [
        "loss, accuracy = model_google.evaluate(test_generator,\n",
        "                                       steps = 50)\n",
        "\n",
        "print('Loss = {:.5f}'.format(loss))\n",
        "print('Accuracy = {:.5f}'.format(accuracy))"
      ],
      "execution_count": 24,
      "outputs": [
        {
          "output_type": "stream",
          "text": [
            "50/50 [==============================] - 4s 70ms/step - loss: 0.2876 - accuracy: 0.9560\n",
            "Loss = 0.28756\n",
            "Accuracy = 0.95600\n"
          ],
          "name": "stdout"
        }
      ]
    },
    {
      "cell_type": "markdown",
      "metadata": {
        "id": "sN48I9GrLxOX"
      },
      "source": [
        "# \n",
        "# \n",
        "# \n",
        "# The End\n",
        "# \n",
        "# \n",
        "# "
      ]
    }
  ]
}