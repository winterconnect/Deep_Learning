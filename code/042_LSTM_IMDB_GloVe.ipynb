{
  "nbformat": 4,
  "nbformat_minor": 0,
  "metadata": {
    "colab": {
      "name": "042_LSTM_IMDB_GloVe.ipynb",
      "provenance": [],
      "collapsed_sections": []
    },
    "kernelspec": {
      "name": "python3",
      "display_name": "Python 3"
    },
    "language_info": {
      "name": "python"
    },
    "accelerator": "GPU"
  },
  "cells": [
    {
      "cell_type": "code",
      "metadata": {
        "id": "BgYE5h3mE2PK"
      },
      "source": [
        "import warnings\n",
        "warnings.filterwarnings('ignore')"
      ],
      "execution_count": null,
      "outputs": []
    },
    {
      "cell_type": "code",
      "metadata": {
        "id": "WNqYM2uME5dw"
      },
      "source": [
        "import keras\n",
        "from keras.preprocessing.text import Tokenizer\n",
        "from keras.preprocessing.sequence import pad_sequences\n",
        "from keras import models\n",
        "from keras import layers"
      ],
      "execution_count": null,
      "outputs": []
    },
    {
      "cell_type": "code",
      "metadata": {
        "id": "1HglcrycFsSf"
      },
      "source": [
        "import os\n",
        "import numpy as np\n",
        "import matplotlib.pyplot as plt"
      ],
      "execution_count": null,
      "outputs": []
    },
    {
      "cell_type": "code",
      "metadata": {
        "id": "iT7rvCOwE64H"
      },
      "source": [
        "from google.colab import drive"
      ],
      "execution_count": null,
      "outputs": []
    },
    {
      "cell_type": "code",
      "metadata": {
        "colab": {
          "base_uri": "https://localhost:8080/"
        },
        "id": "AVGXGSKFE99o",
        "outputId": "9fb3171b-1482-474c-e837-e732d9073324"
      },
      "source": [
        "drive.mount('/content/drive')"
      ],
      "execution_count": null,
      "outputs": [
        {
          "output_type": "stream",
          "text": [
            "Mounted at /content/drive\n"
          ],
          "name": "stdout"
        }
      ]
    },
    {
      "cell_type": "markdown",
      "metadata": {
        "id": "0aworV20FY37"
      },
      "source": [
        "## 1. IMDB Dataset"
      ]
    },
    {
      "cell_type": "markdown",
      "metadata": {
        "id": "Dr2Zbi6MFb03"
      },
      "source": [
        "### 1) Load dataset"
      ]
    },
    {
      "cell_type": "code",
      "metadata": {
        "id": "fbS9WLDxE_08"
      },
      "source": [
        "!unzip /content/drive/MyDrive/Colab\\ Notebooks/datasets/IMDB.zip"
      ],
      "execution_count": null,
      "outputs": []
    },
    {
      "cell_type": "markdown",
      "metadata": {
        "id": "G4RjQ3YfFj8a"
      },
      "source": [
        "### 2) 'text' and 'labels' Data\n",
        "- 'texts': 문자열 리스트(영화 감상평)\n",
        "- 'labels': 감상평 리뷰(긍정/부정)"
      ]
    },
    {
      "cell_type": "code",
      "metadata": {
        "id": "Zpq7OHWeFrgD"
      },
      "source": [
        "imdb_dir = 'aclImdb'\n",
        "train_dir = os.path.join(imdb_dir, 'train')\n",
        "\n",
        "labels = []\n",
        "texts = []\n",
        "\n",
        "for label_type in ['neg' , 'pos']: # 어디서 읽어오느냐에 따라 neg, pos 레이블 붙임\n",
        "  dir_name = os.path.join(train_dir, label_type)\n",
        "  for fname in os.listdir(dir_name):\n",
        "    if fname[-4:] == '.txt':\n",
        "      f = open(os.path.join(dir_name, fname), encoding = 'utf8')\n",
        "      texts.append(f.read())\n",
        "      f.close()\n",
        "      if label_type == 'neg':\n",
        "        labels.append(0)\n",
        "      else:\n",
        "        labels.append(1) # 0 이 부정, 1이 긍정"
      ],
      "execution_count": null,
      "outputs": []
    },
    {
      "cell_type": "code",
      "metadata": {
        "colab": {
          "base_uri": "https://localhost:8080/"
        },
        "id": "AQjMxo-qFjbc",
        "outputId": "71ded2c5-b7e1-493c-9537-a520c28814e4"
      },
      "source": [
        "len(texts), len(labels)\n",
        "# 댓글 25000개, 레이블 25000개"
      ],
      "execution_count": null,
      "outputs": [
        {
          "output_type": "execute_result",
          "data": {
            "text/plain": [
              "(25000, 25000)"
            ]
          },
          "metadata": {
            "tags": []
          },
          "execution_count": 8
        }
      ]
    },
    {
      "cell_type": "markdown",
      "metadata": {
        "id": "97cx2PqKGpYx"
      },
      "source": [
        "## 2. Tensor Transformation"
      ]
    },
    {
      "cell_type": "markdown",
      "metadata": {
        "id": "C5TiaJfrGva_"
      },
      "source": [
        "### 1) X_train and X_valid: (25000, 2000)\n",
        "- vectorization\n",
        "  - (25000, 2000)"
      ]
    },
    {
      "cell_type": "code",
      "metadata": {
        "id": "SIX5G4mHGuwp"
      },
      "source": [
        "maxlen = 2000 # 최대길이 2000\n",
        "max_words = 10000 # 빈도 높은 10000개 단어 사용\n",
        "\n",
        "tokenizer = Tokenizer(num_words = max_words)\n",
        "tokenizer.fit_on_texts(texts)\n",
        "sequences = tokenizer.texts_to_sequences(texts)"
      ],
      "execution_count": null,
      "outputs": []
    },
    {
      "cell_type": "code",
      "metadata": {
        "colab": {
          "base_uri": "https://localhost:8080/"
        },
        "id": "iwwcdLwTaRMY",
        "outputId": "7be1ed31-c548-4d6e-cc96-df0a66fa1d42"
      },
      "source": [
        "word_index = tokenizer.word_index\n",
        "print('%s개의 고유한 토큰을 찾았습니다.' % len(word_index))"
      ],
      "execution_count": null,
      "outputs": [
        {
          "output_type": "stream",
          "text": [
            "88582개의 고유한 토큰을 찾았습니다.\n"
          ],
          "name": "stdout"
        }
      ]
    },
    {
      "cell_type": "code",
      "metadata": {
        "colab": {
          "base_uri": "https://localhost:8080/"
        },
        "id": "PXZYEXeOahRR",
        "outputId": "3ce4b874-ec4d-4835-b9cd-2b19e87f6e54"
      },
      "source": [
        "# (25000, 2000)으로 패딩\n",
        "data = pad_sequences(sequences, maxlen = maxlen)\n",
        "labels = np.asarray(labels)\n",
        "\n",
        "print('데이터 텐서의 크기: ' , data.shape)\n",
        "print('레이블 텐서의 크기: ' , labels.shape)"
      ],
      "execution_count": null,
      "outputs": [
        {
          "output_type": "stream",
          "text": [
            "데이터 텐서의 크기:  (25000, 2000)\n",
            "레이블 텐서의 크기:  (25000,)\n"
          ],
          "name": "stdout"
        }
      ]
    },
    {
      "cell_type": "code",
      "metadata": {
        "id": "40r5bUodarQF"
      },
      "source": [
        "# 샘플 데이터 랜덤화\n",
        "indices = np.arange(data.shape[0])\n",
        "np.random.shuffle(indices)\n",
        "data = data[indices]\n",
        "labels = labels[indices]"
      ],
      "execution_count": null,
      "outputs": []
    },
    {
      "cell_type": "code",
      "metadata": {
        "id": "XQlMRbraa3yp"
      },
      "source": [
        "# 데이터를 훈련 세트와 검증 세트로 분할\n",
        "training_samples = 15000\n",
        "validation_samples = 10000\n",
        "\n",
        "X_train = data[:training_samples]\n",
        "y_train = labels[:training_samples]\n",
        "X_valid = data[training_samples: training_samples + validation_samples]\n",
        "y_valid = labels[training_samples: training_samples + validation_samples]"
      ],
      "execution_count": null,
      "outputs": []
    },
    {
      "cell_type": "code",
      "metadata": {
        "colab": {
          "base_uri": "https://localhost:8080/"
        },
        "id": "ZUGWnDupI5VC",
        "outputId": "4d1c60d0-6554-46cb-ed23-4ca02f48aa18"
      },
      "source": [
        "X_train.shape, X_valid.shape, y_train.shape, y_valid.shape"
      ],
      "execution_count": null,
      "outputs": [
        {
          "output_type": "execute_result",
          "data": {
            "text/plain": [
              "((15000, 2000), (10000, 2000), (15000,), (10000,))"
            ]
          },
          "metadata": {
            "tags": []
          },
          "execution_count": 14
        }
      ]
    },
    {
      "cell_type": "markdown",
      "metadata": {
        "id": "qBr6R1_EIu1p"
      },
      "source": [
        "## 3. GloVe(Gloabal Vectors for word representation)\n",
        "- 영문 위키피디아를 사용한 사전임베딩\n",
        "- https://nlp.stanford.edu/projects/glove"
      ]
    },
    {
      "cell_type": "code",
      "metadata": {
        "colab": {
          "base_uri": "https://localhost:8080/"
        },
        "id": "lsr7k8bPIs2H",
        "outputId": "c6cc7e17-d29c-4792-89a3-baccf17898af"
      },
      "source": [
        "!unzip /content/drive/MyDrive/Colab\\ Notebooks/datasets/GloVe.zip"
      ],
      "execution_count": null,
      "outputs": [
        {
          "output_type": "stream",
          "text": [
            "Archive:  /content/drive/MyDrive/Colab Notebooks/datasets/GloVe.zip\n",
            "  inflating: glove.6B.50d.txt        \n",
            "  inflating: glove.6B.100d.txt       \n",
            "  inflating: glove.6B.200d.txt       \n",
            "  inflating: glove.6B.300d.txt       \n"
          ],
          "name": "stdout"
        }
      ]
    },
    {
      "cell_type": "markdown",
      "metadata": {
        "id": "9CNjSTDSJrdl"
      },
      "source": [
        "### 1) glove.6B.100d.txt 사전학습 임베딩\n",
        "- 'glove.6B.100d.txt' 파일 파싱\n",
        "  - 단어에 매핑되는 표현벡터 인덱스 생성"
      ]
    },
    {
      "cell_type": "code",
      "metadata": {
        "colab": {
          "base_uri": "https://localhost:8080/"
        },
        "id": "IMxg_wLfJ1JH",
        "outputId": "8390f50f-f6cc-4085-f172-68d3586d92d6"
      },
      "source": [
        "glove_dir = '.'\n",
        "\n",
        "embeddings_index = {}\n",
        "\n",
        "f = open(os.path.join(glove_dir, 'glove.6B.100d.txt'), encoding = 'utf8')\n",
        "\n",
        "for line in f:\n",
        "  values = line.split()\n",
        "  word = values[0]\n",
        "  coefs = np.asarray(values[1:], dtype = 'float32')\n",
        "  embeddings_index[word] = coefs\n",
        "f.close()\n",
        "\n",
        "print('%s개의 단어 벡터를 찾았습니다.' % len(embeddings_index))"
      ],
      "execution_count": null,
      "outputs": [
        {
          "output_type": "stream",
          "text": [
            "400000개의 단어 벡터를 찾았습니다.\n"
          ],
          "name": "stdout"
        }
      ]
    },
    {
      "cell_type": "markdown",
      "metadata": {
        "id": "pZeql7NbKUg2"
      },
      "source": [
        "- 매핑 확인"
      ]
    },
    {
      "cell_type": "code",
      "metadata": {
        "colab": {
          "base_uri": "https://localhost:8080/"
        },
        "id": "Lq4VP3xbKWXV",
        "outputId": "902ffbb1-19af-4d21-b261-843dcd0c91c9"
      },
      "source": [
        "embeddings_index['apple'] # 좌표상 apple의 위치"
      ],
      "execution_count": null,
      "outputs": [
        {
          "output_type": "execute_result",
          "data": {
            "text/plain": [
              "array([-0.5985   , -0.46321  ,  0.13001  , -0.019576 ,  0.4603   ,\n",
              "       -0.3018   ,  0.8977   , -0.65634  ,  0.66858  , -0.49164  ,\n",
              "        0.037557 , -0.050889 ,  0.6451   , -0.53882  , -0.3765   ,\n",
              "       -0.04312  ,  0.51384  ,  0.17783  ,  0.28596  ,  0.92063  ,\n",
              "       -0.49349  , -0.48583  ,  0.61321  ,  0.78211  ,  0.19254  ,\n",
              "        0.91228  , -0.055596 , -0.12512  , -0.65688  ,  0.068557 ,\n",
              "        0.55629  ,  1.611    , -0.0073642, -0.48879  ,  0.45493  ,\n",
              "        0.96105  , -0.063369 ,  0.17432  ,  0.9814   , -1.3125   ,\n",
              "       -0.15801  , -0.54301  , -0.13888  , -0.26146  , -0.3691   ,\n",
              "        0.26844  , -0.24375  , -0.19484  ,  0.62583  , -0.7377   ,\n",
              "        0.38351  , -0.75004  , -0.39053  ,  0.091498 , -0.36591  ,\n",
              "       -1.4715   , -0.45228  ,  0.2256   ,  1.1412   , -0.38526  ,\n",
              "       -0.06716  ,  0.57288  , -0.39191  ,  0.31302  , -0.29235  ,\n",
              "       -0.96157  ,  0.15154  , -0.21659  ,  0.25103  ,  0.096967 ,\n",
              "        0.2843   ,  1.4296   , -0.50565  , -0.51374  , -0.47218  ,\n",
              "        0.32036  ,  0.023149 ,  0.22623  , -0.09725  ,  0.82126  ,\n",
              "        0.92599  , -1.0086   , -0.38639  ,  0.86408  , -1.206    ,\n",
              "       -0.28528  ,  0.2265   , -0.38773  ,  0.40879  ,  0.59303  ,\n",
              "        0.30769  ,  0.83804  , -0.63655  , -0.44639  , -0.43406  ,\n",
              "       -0.79364  , -0.28675  , -0.034398 ,  1.3431   ,  0.34904  ],\n",
              "      dtype=float32)"
            ]
          },
          "metadata": {
            "tags": []
          },
          "execution_count": 17
        }
      ]
    },
    {
      "cell_type": "markdown",
      "metadata": {
        "id": "rc7Hy5vPKZsX"
      },
      "source": [
        "### 2) 임베딩 행렬 생성\n",
        "- (10000, 100)"
      ]
    },
    {
      "cell_type": "code",
      "metadata": {
        "id": "4wZP9JUeKdvp"
      },
      "source": [
        "embedding_dim = 100\n",
        "\n",
        "embedding_matrix = np.zeros((max_words, embedding_dim))\n",
        "\n",
        "for word, i in word_index.items():\n",
        "  embedding_vector = embeddings_index.get(word)\n",
        "  if i < max_words:\n",
        "    if embedding_vector is not None:\n",
        "      # 임베딩 인덱스에 없는 단어는 모두 0이 됨\n",
        "      embedding_matrix[i] = embedding_vector\n",
        "\n",
        "# 우리는 10000가지의 단어만 사용\n",
        "# 400000개의 단어가 있으므로, 우리의 단어와 임베딩 표현으로 맵핑시켜줘야 함\n",
        "# 우리가 가진 것 중 없으면 0으로 만듦\n",
        "# 있으면 임베딩 표현으로 만듦"
      ],
      "execution_count": null,
      "outputs": []
    },
    {
      "cell_type": "markdown",
      "metadata": {
        "id": "h1MmW2S1KuVy"
      },
      "source": [
        "- 확인"
      ]
    },
    {
      "cell_type": "code",
      "metadata": {
        "colab": {
          "base_uri": "https://localhost:8080/"
        },
        "id": "DZg1-E3BKt6w",
        "outputId": "504abf79-5c0e-43bb-e507-34b66b04576e"
      },
      "source": [
        "embedding_matrix[2000]"
      ],
      "execution_count": null,
      "outputs": [
        {
          "output_type": "execute_result",
          "data": {
            "text/plain": [
              "array([ 0.1205    , -0.18179999,  0.69512999, -0.47534001, -0.57506001,\n",
              "        0.10366   , -0.14555   , -0.42548001, -0.30698001, -0.18402   ,\n",
              "        0.11188   ,  0.48609999,  0.49570999, -0.14646   , -0.018269  ,\n",
              "       -0.30476001,  0.21844999,  0.26236999, -0.27044001,  0.87857002,\n",
              "        0.0085841 ,  0.29506001, -0.83473998, -0.85137999,  0.0017989 ,\n",
              "        0.65680999, -0.086767  , -0.11115   ,  0.30206999, -0.79606003,\n",
              "       -0.68480998,  0.33069   , -0.21138   , -0.32706001,  0.22314   ,\n",
              "        0.011783  , -0.49902001,  0.21342   ,  0.10635   , -0.28130001,\n",
              "       -0.14523999,  0.0022643 ,  0.11082   , -0.65074998, -0.56882   ,\n",
              "        0.0046748 ,  0.069502  , -0.34525001,  0.33329001, -0.74615002,\n",
              "       -0.54572999, -0.022095  ,  0.27447999,  0.91982001,  0.26583001,\n",
              "       -1.59599996, -0.0027724 ,  0.65898001,  0.05599   , -0.34540999,\n",
              "       -0.31309   ,  0.50351   , -0.60154998,  0.14982   , -0.013195  ,\n",
              "       -0.13771001,  0.026145  , -0.15673999, -0.15872   , -0.51839   ,\n",
              "       -0.66158003,  0.33063999,  0.13519999,  0.11667   ,  0.56813997,\n",
              "        0.67561001, -0.19391   , -0.048114  , -0.089732  ,  0.82464999,\n",
              "        0.20859   ,  0.3098    , -0.32424   , -0.396     , -0.99133003,\n",
              "       -0.16848999, -0.42291   , -0.13049001, -0.69344002, -0.47736001,\n",
              "       -0.49972999, -0.0054499 ,  0.3459    ,  0.40900001, -0.56677997,\n",
              "       -0.18792   ,  0.03076   , -0.14308999, -0.14399   ,  0.29187   ])"
            ]
          },
          "metadata": {
            "tags": []
          },
          "execution_count": 19
        }
      ]
    },
    {
      "cell_type": "markdown",
      "metadata": {
        "id": "Fy2wVqsqKxX9"
      },
      "source": [
        "## 4. Keras Embedding Model"
      ]
    },
    {
      "cell_type": "markdown",
      "metadata": {
        "id": "smhvjCdHK2hV"
      },
      "source": [
        "### 1) Model Define\n",
        "- 모델 신경망 구조 정의\n",
        "  - Embedding Dimension: 100"
      ]
    },
    {
      "cell_type": "code",
      "metadata": {
        "id": "Vssc0qD-Kz5F"
      },
      "source": [
        "imdb = models.Sequential()\n",
        "\n",
        "imdb.add(layers.Embedding(max_words,\n",
        "                          embedding_dim,\n",
        "                          input_length = maxlen))\n",
        "\n",
        "imdb.add(layers.LSTM(16))\n",
        "imdb.add(layers.Dropout(0.5))\n",
        "imdb.add(layers.Dense(1, activation = 'sigmoid'))"
      ],
      "execution_count": null,
      "outputs": []
    },
    {
      "cell_type": "markdown",
      "metadata": {
        "id": "9uZY1pdJLHgS"
      },
      "source": [
        "- 'GloVe' Embedding Load\n",
        "  - Embedding Layer의 Parameters 동결"
      ]
    },
    {
      "cell_type": "code",
      "metadata": {
        "id": "1mcr1IWELcNb"
      },
      "source": [
        "imdb.layers[0].set_weights([embedding_matrix])\n",
        "imdb.layers[0].trainable = False\n",
        "\n",
        "# fine tuning 하는 것처럼 embedding layer는 얼려야함\n",
        "# (glove에서 가져온 값을 집어넣음)"
      ],
      "execution_count": null,
      "outputs": []
    },
    {
      "cell_type": "markdown",
      "metadata": {
        "id": "WEMHUwWBLiX7"
      },
      "source": [
        "- 모델 구조 확인"
      ]
    },
    {
      "cell_type": "code",
      "metadata": {
        "colab": {
          "base_uri": "https://localhost:8080/"
        },
        "id": "oag-uiABLhkW",
        "outputId": "1be155cb-0f57-45e4-d3d5-63585ec25f24"
      },
      "source": [
        "imdb.summary()"
      ],
      "execution_count": null,
      "outputs": [
        {
          "output_type": "stream",
          "text": [
            "Model: \"sequential\"\n",
            "_________________________________________________________________\n",
            "Layer (type)                 Output Shape              Param #   \n",
            "=================================================================\n",
            "embedding (Embedding)        (None, 2000, 100)         1000000   \n",
            "_________________________________________________________________\n",
            "lstm (LSTM)                  (None, 16)                7488      \n",
            "_________________________________________________________________\n",
            "dropout (Dropout)            (None, 16)                0         \n",
            "_________________________________________________________________\n",
            "dense (Dense)                (None, 1)                 17        \n",
            "=================================================================\n",
            "Total params: 1,007,505\n",
            "Trainable params: 7,505\n",
            "Non-trainable params: 1,000,000\n",
            "_________________________________________________________________\n"
          ],
          "name": "stdout"
        }
      ]
    },
    {
      "cell_type": "code",
      "metadata": {
        "id": "mPdYkvACLlUR"
      },
      "source": [
        "imdb.compile(loss = 'binary_crossentropy',\n",
        "             optimizer = 'adam',\n",
        "             metrics = ['accuracy'])"
      ],
      "execution_count": null,
      "outputs": []
    },
    {
      "cell_type": "code",
      "metadata": {
        "colab": {
          "base_uri": "https://localhost:8080/"
        },
        "id": "mCJhPcBnLpvN",
        "outputId": "c7fd8ee0-f0a9-4c54-9c18-7cf34a7a4e2e"
      },
      "source": [
        "%%time\n",
        "\n",
        "hist_imdb = imdb.fit(X_train, y_train,\n",
        "                     epochs = 100,\n",
        "                     batch_size = 512,\n",
        "                     validation_data = (X_valid, y_valid))"
      ],
      "execution_count": null,
      "outputs": [
        {
          "output_type": "stream",
          "text": [
            "Epoch 1/100\n",
            "30/30 [==============================] - 40s 258ms/step - loss: 0.7084 - accuracy: 0.5058 - val_loss: 0.6828 - val_accuracy: 0.5685\n",
            "Epoch 2/100\n",
            "30/30 [==============================] - 7s 236ms/step - loss: 0.6829 - accuracy: 0.5596 - val_loss: 0.6641 - val_accuracy: 0.6223\n",
            "Epoch 3/100\n",
            "30/30 [==============================] - 7s 236ms/step - loss: 0.6487 - accuracy: 0.6294 - val_loss: 0.6840 - val_accuracy: 0.6134\n",
            "Epoch 4/100\n",
            "30/30 [==============================] - 7s 234ms/step - loss: 0.6838 - accuracy: 0.6165 - val_loss: 0.5914 - val_accuracy: 0.7152\n",
            "Epoch 5/100\n",
            "30/30 [==============================] - 7s 234ms/step - loss: 0.5871 - accuracy: 0.7121 - val_loss: 0.5563 - val_accuracy: 0.7293\n",
            "Epoch 6/100\n",
            "30/30 [==============================] - 7s 234ms/step - loss: 0.6346 - accuracy: 0.6671 - val_loss: 0.5870 - val_accuracy: 0.7241\n",
            "Epoch 7/100\n",
            "30/30 [==============================] - 7s 234ms/step - loss: 0.5854 - accuracy: 0.7139 - val_loss: 0.6317 - val_accuracy: 0.6737\n",
            "Epoch 8/100\n",
            "30/30 [==============================] - 7s 234ms/step - loss: 0.5771 - accuracy: 0.7241 - val_loss: 0.5153 - val_accuracy: 0.7609\n",
            "Epoch 9/100\n",
            "30/30 [==============================] - 7s 236ms/step - loss: 0.5246 - accuracy: 0.7664 - val_loss: 0.5054 - val_accuracy: 0.7690\n",
            "Epoch 10/100\n",
            "30/30 [==============================] - 7s 235ms/step - loss: 0.5093 - accuracy: 0.7760 - val_loss: 0.4863 - val_accuracy: 0.7766\n",
            "Epoch 11/100\n",
            "30/30 [==============================] - 7s 236ms/step - loss: 0.4981 - accuracy: 0.7847 - val_loss: 0.4721 - val_accuracy: 0.7837\n",
            "Epoch 12/100\n",
            "30/30 [==============================] - 7s 236ms/step - loss: 0.4896 - accuracy: 0.7872 - val_loss: 0.4947 - val_accuracy: 0.7678\n",
            "Epoch 13/100\n",
            "30/30 [==============================] - 7s 235ms/step - loss: 0.4854 - accuracy: 0.7850 - val_loss: 0.4476 - val_accuracy: 0.7989\n",
            "Epoch 14/100\n",
            "30/30 [==============================] - 7s 235ms/step - loss: 0.4585 - accuracy: 0.8012 - val_loss: 0.4340 - val_accuracy: 0.8066\n",
            "Epoch 15/100\n",
            "30/30 [==============================] - 7s 237ms/step - loss: 0.4558 - accuracy: 0.8038 - val_loss: 0.4251 - val_accuracy: 0.8120\n",
            "Epoch 16/100\n",
            "30/30 [==============================] - 7s 236ms/step - loss: 0.4433 - accuracy: 0.8145 - val_loss: 0.4228 - val_accuracy: 0.8124\n",
            "Epoch 17/100\n",
            "30/30 [==============================] - 7s 236ms/step - loss: 0.4331 - accuracy: 0.8177 - val_loss: 0.4091 - val_accuracy: 0.8172\n",
            "Epoch 18/100\n",
            "30/30 [==============================] - 7s 236ms/step - loss: 0.4184 - accuracy: 0.8239 - val_loss: 0.4043 - val_accuracy: 0.8224\n",
            "Epoch 19/100\n",
            "30/30 [==============================] - 7s 236ms/step - loss: 0.4167 - accuracy: 0.8253 - val_loss: 0.3966 - val_accuracy: 0.8255\n",
            "Epoch 20/100\n",
            "30/30 [==============================] - 7s 236ms/step - loss: 0.4050 - accuracy: 0.8344 - val_loss: 0.3994 - val_accuracy: 0.8283\n",
            "Epoch 21/100\n",
            "30/30 [==============================] - 7s 235ms/step - loss: 0.3913 - accuracy: 0.8353 - val_loss: 0.3850 - val_accuracy: 0.8320\n",
            "Epoch 22/100\n",
            "30/30 [==============================] - 7s 235ms/step - loss: 0.4049 - accuracy: 0.8315 - val_loss: 0.3920 - val_accuracy: 0.8276\n",
            "Epoch 23/100\n",
            "30/30 [==============================] - 7s 236ms/step - loss: 0.3831 - accuracy: 0.8421 - val_loss: 0.3790 - val_accuracy: 0.8338\n",
            "Epoch 24/100\n",
            "30/30 [==============================] - 7s 234ms/step - loss: 0.3824 - accuracy: 0.8409 - val_loss: 0.3752 - val_accuracy: 0.8354\n",
            "Epoch 25/100\n",
            "30/30 [==============================] - 7s 235ms/step - loss: 0.3777 - accuracy: 0.8404 - val_loss: 0.3830 - val_accuracy: 0.8276\n",
            "Epoch 26/100\n",
            "30/30 [==============================] - 7s 235ms/step - loss: 0.3802 - accuracy: 0.8423 - val_loss: 0.3777 - val_accuracy: 0.8367\n",
            "Epoch 27/100\n",
            "30/30 [==============================] - 7s 235ms/step - loss: 0.3804 - accuracy: 0.8435 - val_loss: 0.3661 - val_accuracy: 0.8432\n",
            "Epoch 28/100\n",
            "30/30 [==============================] - 7s 234ms/step - loss: 0.3748 - accuracy: 0.8423 - val_loss: 0.3727 - val_accuracy: 0.8431\n",
            "Epoch 29/100\n",
            "30/30 [==============================] - 7s 235ms/step - loss: 0.3742 - accuracy: 0.8420 - val_loss: 0.3635 - val_accuracy: 0.8441\n",
            "Epoch 30/100\n",
            "30/30 [==============================] - 7s 235ms/step - loss: 0.3572 - accuracy: 0.8552 - val_loss: 0.3766 - val_accuracy: 0.8374\n",
            "Epoch 31/100\n",
            "30/30 [==============================] - 7s 235ms/step - loss: 0.3750 - accuracy: 0.8415 - val_loss: 0.3594 - val_accuracy: 0.8447\n",
            "Epoch 32/100\n",
            "30/30 [==============================] - 7s 235ms/step - loss: 0.3500 - accuracy: 0.8591 - val_loss: 0.3602 - val_accuracy: 0.8457\n",
            "Epoch 33/100\n",
            "30/30 [==============================] - 7s 234ms/step - loss: 0.3603 - accuracy: 0.8459 - val_loss: 0.3624 - val_accuracy: 0.8473\n",
            "Epoch 34/100\n",
            "30/30 [==============================] - 7s 235ms/step - loss: 0.3542 - accuracy: 0.8571 - val_loss: 0.3522 - val_accuracy: 0.8484\n",
            "Epoch 35/100\n",
            "30/30 [==============================] - 7s 236ms/step - loss: 0.3443 - accuracy: 0.8566 - val_loss: 0.3579 - val_accuracy: 0.8494\n",
            "Epoch 36/100\n",
            "30/30 [==============================] - 7s 236ms/step - loss: 0.3459 - accuracy: 0.8634 - val_loss: 0.3544 - val_accuracy: 0.8488\n",
            "Epoch 37/100\n",
            "30/30 [==============================] - 7s 235ms/step - loss: 0.3403 - accuracy: 0.8618 - val_loss: 0.3589 - val_accuracy: 0.8489\n",
            "Epoch 38/100\n",
            "30/30 [==============================] - 7s 235ms/step - loss: 0.3433 - accuracy: 0.8633 - val_loss: 0.3458 - val_accuracy: 0.8526\n",
            "Epoch 39/100\n",
            "30/30 [==============================] - 7s 235ms/step - loss: 0.3448 - accuracy: 0.8585 - val_loss: 0.3469 - val_accuracy: 0.8496\n",
            "Epoch 40/100\n",
            "30/30 [==============================] - 7s 236ms/step - loss: 0.3338 - accuracy: 0.8641 - val_loss: 0.3477 - val_accuracy: 0.8518\n",
            "Epoch 41/100\n",
            "30/30 [==============================] - 7s 235ms/step - loss: 0.3426 - accuracy: 0.8614 - val_loss: 0.3442 - val_accuracy: 0.8510\n",
            "Epoch 42/100\n",
            "30/30 [==============================] - 7s 236ms/step - loss: 0.3348 - accuracy: 0.8686 - val_loss: 0.3413 - val_accuracy: 0.8539\n",
            "Epoch 43/100\n",
            "30/30 [==============================] - 7s 235ms/step - loss: 0.3338 - accuracy: 0.8615 - val_loss: 0.3451 - val_accuracy: 0.8526\n",
            "Epoch 44/100\n",
            "30/30 [==============================] - 7s 233ms/step - loss: 0.3272 - accuracy: 0.8703 - val_loss: 0.3395 - val_accuracy: 0.8556\n",
            "Epoch 45/100\n",
            "30/30 [==============================] - 7s 235ms/step - loss: 0.3260 - accuracy: 0.8677 - val_loss: 0.3535 - val_accuracy: 0.8527\n",
            "Epoch 46/100\n",
            "30/30 [==============================] - 7s 235ms/step - loss: 0.3257 - accuracy: 0.8699 - val_loss: 0.3428 - val_accuracy: 0.8531\n",
            "Epoch 47/100\n",
            "30/30 [==============================] - 7s 237ms/step - loss: 0.3210 - accuracy: 0.8685 - val_loss: 0.3591 - val_accuracy: 0.8488\n",
            "Epoch 48/100\n",
            "30/30 [==============================] - 7s 235ms/step - loss: 0.3293 - accuracy: 0.8684 - val_loss: 0.3384 - val_accuracy: 0.8577\n",
            "Epoch 49/100\n",
            "30/30 [==============================] - 7s 234ms/step - loss: 0.3256 - accuracy: 0.8692 - val_loss: 0.3513 - val_accuracy: 0.8544\n",
            "Epoch 50/100\n",
            "30/30 [==============================] - 7s 236ms/step - loss: 0.3253 - accuracy: 0.8719 - val_loss: 0.3363 - val_accuracy: 0.8565\n",
            "Epoch 51/100\n",
            "30/30 [==============================] - 7s 236ms/step - loss: 0.3167 - accuracy: 0.8743 - val_loss: 0.3669 - val_accuracy: 0.8415\n",
            "Epoch 52/100\n",
            "30/30 [==============================] - 7s 236ms/step - loss: 0.3307 - accuracy: 0.8652 - val_loss: 0.3642 - val_accuracy: 0.8511\n",
            "Epoch 53/100\n",
            "30/30 [==============================] - 7s 235ms/step - loss: 0.3116 - accuracy: 0.8748 - val_loss: 0.3321 - val_accuracy: 0.8596\n",
            "Epoch 54/100\n",
            "30/30 [==============================] - 7s 238ms/step - loss: 0.3143 - accuracy: 0.8765 - val_loss: 0.3333 - val_accuracy: 0.8577\n",
            "Epoch 55/100\n",
            "30/30 [==============================] - 7s 236ms/step - loss: 0.2997 - accuracy: 0.8795 - val_loss: 0.3336 - val_accuracy: 0.8594\n",
            "Epoch 56/100\n",
            "30/30 [==============================] - 7s 236ms/step - loss: 0.3114 - accuracy: 0.8772 - val_loss: 0.3340 - val_accuracy: 0.8596\n",
            "Epoch 57/100\n",
            "30/30 [==============================] - 7s 234ms/step - loss: 0.3011 - accuracy: 0.8809 - val_loss: 0.3318 - val_accuracy: 0.8591\n",
            "Epoch 58/100\n",
            "30/30 [==============================] - 7s 236ms/step - loss: 0.3010 - accuracy: 0.8816 - val_loss: 0.3342 - val_accuracy: 0.8594\n",
            "Epoch 59/100\n",
            "30/30 [==============================] - 7s 236ms/step - loss: 0.3122 - accuracy: 0.8728 - val_loss: 0.3557 - val_accuracy: 0.8534\n",
            "Epoch 60/100\n",
            "30/30 [==============================] - 7s 235ms/step - loss: 0.3167 - accuracy: 0.8741 - val_loss: 0.3568 - val_accuracy: 0.8517\n",
            "Epoch 61/100\n",
            "30/30 [==============================] - 7s 236ms/step - loss: 0.2993 - accuracy: 0.8805 - val_loss: 0.3286 - val_accuracy: 0.8609\n",
            "Epoch 62/100\n",
            "30/30 [==============================] - 7s 236ms/step - loss: 0.2919 - accuracy: 0.8819 - val_loss: 0.3286 - val_accuracy: 0.8615\n",
            "Epoch 63/100\n",
            "30/30 [==============================] - 7s 235ms/step - loss: 0.2975 - accuracy: 0.8821 - val_loss: 0.3313 - val_accuracy: 0.8632\n",
            "Epoch 64/100\n",
            "30/30 [==============================] - 7s 236ms/step - loss: 0.2851 - accuracy: 0.8899 - val_loss: 0.3369 - val_accuracy: 0.8619\n",
            "Epoch 65/100\n",
            "30/30 [==============================] - 7s 236ms/step - loss: 0.2842 - accuracy: 0.8853 - val_loss: 0.3354 - val_accuracy: 0.8572\n",
            "Epoch 66/100\n",
            "30/30 [==============================] - 7s 236ms/step - loss: 0.2959 - accuracy: 0.8818 - val_loss: 0.3397 - val_accuracy: 0.8621\n",
            "Epoch 67/100\n",
            "30/30 [==============================] - 7s 236ms/step - loss: 0.2903 - accuracy: 0.8851 - val_loss: 0.3291 - val_accuracy: 0.8641\n",
            "Epoch 68/100\n",
            "30/30 [==============================] - 7s 236ms/step - loss: 0.2926 - accuracy: 0.8856 - val_loss: 0.3347 - val_accuracy: 0.8630\n",
            "Epoch 69/100\n",
            "30/30 [==============================] - 7s 235ms/step - loss: 0.2836 - accuracy: 0.8883 - val_loss: 0.3341 - val_accuracy: 0.8596\n",
            "Epoch 70/100\n",
            "30/30 [==============================] - 7s 234ms/step - loss: 0.2934 - accuracy: 0.8846 - val_loss: 0.3307 - val_accuracy: 0.8641\n",
            "Epoch 71/100\n",
            "30/30 [==============================] - 7s 236ms/step - loss: 0.2807 - accuracy: 0.8877 - val_loss: 0.3285 - val_accuracy: 0.8618\n",
            "Epoch 72/100\n",
            "30/30 [==============================] - 7s 235ms/step - loss: 0.2824 - accuracy: 0.8875 - val_loss: 0.3301 - val_accuracy: 0.8652\n",
            "Epoch 73/100\n",
            "30/30 [==============================] - 7s 237ms/step - loss: 0.2836 - accuracy: 0.8843 - val_loss: 0.3497 - val_accuracy: 0.8633\n",
            "Epoch 74/100\n",
            "30/30 [==============================] - 7s 235ms/step - loss: 0.2800 - accuracy: 0.8918 - val_loss: 0.3272 - val_accuracy: 0.8587\n",
            "Epoch 75/100\n",
            "30/30 [==============================] - 7s 235ms/step - loss: 0.2899 - accuracy: 0.8836 - val_loss: 0.3310 - val_accuracy: 0.8636\n",
            "Epoch 76/100\n",
            "30/30 [==============================] - 7s 236ms/step - loss: 0.2699 - accuracy: 0.8914 - val_loss: 0.3256 - val_accuracy: 0.8654\n",
            "Epoch 77/100\n",
            "30/30 [==============================] - 7s 236ms/step - loss: 0.2745 - accuracy: 0.8905 - val_loss: 0.3329 - val_accuracy: 0.8590\n",
            "Epoch 78/100\n",
            "30/30 [==============================] - 7s 236ms/step - loss: 0.2729 - accuracy: 0.8949 - val_loss: 0.3532 - val_accuracy: 0.8595\n",
            "Epoch 79/100\n",
            "30/30 [==============================] - 7s 236ms/step - loss: 0.2723 - accuracy: 0.8971 - val_loss: 0.3334 - val_accuracy: 0.8652\n",
            "Epoch 80/100\n",
            "30/30 [==============================] - 7s 234ms/step - loss: 0.2680 - accuracy: 0.8935 - val_loss: 0.3289 - val_accuracy: 0.8682\n",
            "Epoch 81/100\n",
            "30/30 [==============================] - 7s 236ms/step - loss: 0.2665 - accuracy: 0.8928 - val_loss: 0.3262 - val_accuracy: 0.8658\n",
            "Epoch 82/100\n",
            "30/30 [==============================] - 7s 236ms/step - loss: 0.2588 - accuracy: 0.9014 - val_loss: 0.3242 - val_accuracy: 0.8665\n",
            "Epoch 83/100\n",
            "30/30 [==============================] - 7s 236ms/step - loss: 0.2635 - accuracy: 0.8970 - val_loss: 0.3544 - val_accuracy: 0.8481\n",
            "Epoch 84/100\n",
            "30/30 [==============================] - 7s 235ms/step - loss: 0.2812 - accuracy: 0.8878 - val_loss: 0.3205 - val_accuracy: 0.8658\n",
            "Epoch 85/100\n",
            "30/30 [==============================] - 7s 234ms/step - loss: 0.2607 - accuracy: 0.8978 - val_loss: 0.3367 - val_accuracy: 0.8672\n",
            "Epoch 86/100\n",
            "30/30 [==============================] - 7s 235ms/step - loss: 0.2435 - accuracy: 0.9042 - val_loss: 0.3457 - val_accuracy: 0.8606\n",
            "Epoch 87/100\n",
            "30/30 [==============================] - 7s 235ms/step - loss: 0.2639 - accuracy: 0.8944 - val_loss: 0.3290 - val_accuracy: 0.8645\n",
            "Epoch 88/100\n",
            "30/30 [==============================] - 7s 237ms/step - loss: 0.2683 - accuracy: 0.8962 - val_loss: 0.3341 - val_accuracy: 0.8648\n",
            "Epoch 89/100\n",
            "30/30 [==============================] - 7s 236ms/step - loss: 0.2582 - accuracy: 0.8989 - val_loss: 0.3514 - val_accuracy: 0.8573\n",
            "Epoch 90/100\n",
            "30/30 [==============================] - 7s 235ms/step - loss: 0.2663 - accuracy: 0.8957 - val_loss: 0.3411 - val_accuracy: 0.8670\n",
            "Epoch 91/100\n",
            "30/30 [==============================] - 7s 236ms/step - loss: 0.2679 - accuracy: 0.8949 - val_loss: 0.3656 - val_accuracy: 0.8567\n",
            "Epoch 92/100\n",
            "30/30 [==============================] - 7s 237ms/step - loss: 0.2566 - accuracy: 0.9007 - val_loss: 0.3268 - val_accuracy: 0.8671\n",
            "Epoch 93/100\n",
            "30/30 [==============================] - 7s 235ms/step - loss: 0.2597 - accuracy: 0.9013 - val_loss: 0.3497 - val_accuracy: 0.8577\n",
            "Epoch 94/100\n",
            "30/30 [==============================] - 7s 236ms/step - loss: 0.2529 - accuracy: 0.9026 - val_loss: 0.3358 - val_accuracy: 0.8673\n",
            "Epoch 95/100\n",
            "30/30 [==============================] - 7s 236ms/step - loss: 0.2487 - accuracy: 0.9060 - val_loss: 0.3273 - val_accuracy: 0.8676\n",
            "Epoch 96/100\n",
            "30/30 [==============================] - 7s 236ms/step - loss: 0.2472 - accuracy: 0.9042 - val_loss: 0.3253 - val_accuracy: 0.8705\n",
            "Epoch 97/100\n",
            "30/30 [==============================] - 7s 237ms/step - loss: 0.2535 - accuracy: 0.9022 - val_loss: 0.3372 - val_accuracy: 0.8680\n",
            "Epoch 98/100\n",
            "30/30 [==============================] - 7s 235ms/step - loss: 0.2436 - accuracy: 0.9060 - val_loss: 0.3257 - val_accuracy: 0.8651\n",
            "Epoch 99/100\n",
            "30/30 [==============================] - 7s 237ms/step - loss: 0.2471 - accuracy: 0.9038 - val_loss: 0.3284 - val_accuracy: 0.8682\n",
            "Epoch 100/100\n",
            "30/30 [==============================] - 7s 235ms/step - loss: 0.2539 - accuracy: 0.9037 - val_loss: 0.3291 - val_accuracy: 0.8688\n",
            "CPU times: user 10min 55s, sys: 36 s, total: 11min 30s\n",
            "Wall time: 12min 12s\n"
          ],
          "name": "stdout"
        }
      ]
    },
    {
      "cell_type": "markdown",
      "metadata": {
        "id": "9WftK2P-Lyog"
      },
      "source": [
        "### 2) Visualization\n",
        "- Loss Visualization"
      ]
    },
    {
      "cell_type": "code",
      "metadata": {
        "colab": {
          "base_uri": "https://localhost:8080/",
          "height": 404
        },
        "id": "U5jFa1yKMu_W",
        "outputId": "21224e37-4c53-4fb5-868f-d4fa5bc53718"
      },
      "source": [
        "epochs = range(1, len(hist_imdb.history['loss']) + 1)\n",
        "\n",
        "plt.figure(figsize = (9, 6))\n",
        "plt.plot(epochs, hist_imdb.history['loss'])\n",
        "plt.plot(epochs, hist_imdb.history['val_loss'])\n",
        "plt.title('Training & Validation Loss')\n",
        "plt.xlabel('Epochs')\n",
        "plt.ylabel('Loss')\n",
        "plt.legend(['Traning Loss', 'Validation Loss'])\n",
        "plt.grid()\n",
        "plt.show()"
      ],
      "execution_count": null,
      "outputs": [
        {
          "output_type": "display_data",
          "data": {
            "image/png": "[encoded data removed]",
            "text/plain": [
              "<Figure size 648x432 with 1 Axes>"
            ]
          },
          "metadata": {
            "tags": [],
            "needs_background": "light"
          }
        }
      ]
    },
    {
      "cell_type": "code",
      "metadata": {
        "colab": {
          "base_uri": "https://localhost:8080/",
          "height": 404
        },
        "id": "CP6X4g9UL1ti",
        "outputId": "47a1b1e4-c3f8-438b-ebec-43471669acb3"
      },
      "source": [
        "epochs = range(1, len(hist_imdb.history['accuracy']) + 1)\n",
        "\n",
        "plt.figure(figsize = (9, 6))\n",
        "plt.plot(epochs, hist_imdb.history['accuracy'])\n",
        "plt.plot(epochs, hist_imdb.history['val_accuracy'])\n",
        "plt.title('Training & Validation Accuracy')\n",
        "plt.xlabel('Epochs')\n",
        "plt.ylabel('Accuracy')\n",
        "plt.legend(['Traning Accuracy', 'Validation Accuracy'])\n",
        "plt.grid()\n",
        "plt.show()"
      ],
      "execution_count": null,
      "outputs": [
        {
          "output_type": "display_data",
          "data": {
            "image/png": "[encoded data removed]",
            "text/plain": [
              "<Figure size 648x432 with 1 Axes>"
            ]
          },
          "metadata": {
            "tags": [],
            "needs_background": "light"
          }
        }
      ]
    },
    {
      "cell_type": "markdown",
      "metadata": {
        "id": "m1kEhVV2M855"
      },
      "source": [
        "### 3) Model Evaluate\n",
        "- Loss & Accuracy"
      ]
    },
    {
      "cell_type": "code",
      "metadata": {
        "colab": {
          "base_uri": "https://localhost:8080/"
        },
        "id": "wro3rWQVNBW4",
        "outputId": "13c12eb0-d3a9-4302-96ec-3c3cecec445f"
      },
      "source": [
        "loss, accuracy = imdb.evaluate(X_valid, y_valid)\n",
        "\n",
        "print('Loss = {:.5f}' .format(loss))\n",
        "print('Accuracy = {:.5f}' .format(accuracy))"
      ],
      "execution_count": null,
      "outputs": [
        {
          "output_type": "stream",
          "text": [
            "313/313 [==============================] - 10s 30ms/step - loss: 0.3291 - accuracy: 0.8688\n",
            "Loss = 0.32913\n",
            "Accuracy = 0.86880\n"
          ],
          "name": "stdout"
        }
      ]
    }
  ]
}