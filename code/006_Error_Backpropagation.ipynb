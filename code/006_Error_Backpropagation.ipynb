{
  "nbformat": 4,
  "nbformat_minor": 0,
  "metadata": {
    "colab": {
      "name": "006_Error_Backpropagation.ipynb",
      "provenance": []
    },
    "kernelspec": {
      "name": "python3",
      "display_name": "Python 3"
    }
  },
  "cells": [
    {
      "cell_type": "markdown",
      "metadata": {
        "id": "gb4zlo13ZwdY"
      },
      "source": [
        "# Error Backpropagation"
      ]
    },
    {
      "cell_type": "code",
      "metadata": {
        "id": "LJDbOjPcZpmV"
      },
      "source": [
        "import warnings\n",
        "warnings.filterwarnings('ignore')"
      ],
      "execution_count": 1,
      "outputs": []
    },
    {
      "cell_type": "code",
      "metadata": {
        "id": "_FWJoYX5Z1fX"
      },
      "source": [
        "import numpy as np\n",
        "import matplotlib.pyplot as plt\n"
      ],
      "execution_count": 22,
      "outputs": []
    },
    {
      "cell_type": "markdown",
      "metadata": {
        "id": "hkDiPZpXZ8W0"
      },
      "source": [
        "## 1. 실습용 데이터 생성"
      ]
    },
    {
      "cell_type": "code",
      "metadata": {
        "id": "t42npFNOZ1Cq"
      },
      "source": [
        "np.set_printoptions(suppress = True, precision = 3)"
      ],
      "execution_count": 3,
      "outputs": []
    },
    {
      "cell_type": "markdown",
      "metadata": {
        "id": "iPS-zMIUZ_gT"
      },
      "source": [
        "### 1) Input: X(4 * 3)"
      ]
    },
    {
      "cell_type": "code",
      "metadata": {
        "colab": {
          "base_uri": "https://localhost:8080/"
        },
        "id": "PJqenRDTZ-vr",
        "outputId": "031e8f4c-0afc-4d2a-9e19-e200c5d6e3ee"
      },
      "source": [
        "X = np.array([[0, 0, 1],\n",
        "              [0, 1, 1],\n",
        "              [1, 0, 1],\n",
        "              [1, 1, 1]])\n",
        "\n",
        "X"
      ],
      "execution_count": 4,
      "outputs": [
        {
          "output_type": "execute_result",
          "data": {
            "text/plain": [
              "array([[0, 0, 1],\n",
              "       [0, 1, 1],\n",
              "       [1, 0, 1],\n",
              "       [1, 1, 1]])"
            ]
          },
          "metadata": {
            "tags": []
          },
          "execution_count": 4
        }
      ]
    },
    {
      "cell_type": "markdown",
      "metadata": {
        "id": "t8itHDR2aLrj"
      },
      "source": [
        "### 2) Output: y(4 * 1)"
      ]
    },
    {
      "cell_type": "code",
      "metadata": {
        "colab": {
          "base_uri": "https://localhost:8080/"
        },
        "id": "lxrgjm9VaJKi",
        "outputId": "edfcf47d-c042-4c7a-c36e-d5dc5e8634c3"
      },
      "source": [
        "y = np.array([0., 1., 1., 0.]).reshape(4, 1)\n",
        "\n",
        "y"
      ],
      "execution_count": 5,
      "outputs": [
        {
          "output_type": "execute_result",
          "data": {
            "text/plain": [
              "array([[0.],\n",
              "       [1.],\n",
              "       [1.],\n",
              "       [0.]])"
            ]
          },
          "metadata": {
            "tags": []
          },
          "execution_count": 5
        }
      ]
    },
    {
      "cell_type": "markdown",
      "metadata": {
        "id": "8obDmEN-aVl0"
      },
      "source": [
        "### 3) W1 (3 * 4)"
      ]
    },
    {
      "cell_type": "code",
      "metadata": {
        "colab": {
          "base_uri": "https://localhost:8080/"
        },
        "id": "KdLSHOFtZ7rR",
        "outputId": "ff3832cb-1ea0-4fda-ac74-88fb4612c752"
      },
      "source": [
        "np.random.seed(2045)\n",
        "\n",
        "W1 = np.random.rand(3, 4)\n",
        "\n",
        "W1"
      ],
      "execution_count": 6,
      "outputs": [
        {
          "output_type": "execute_result",
          "data": {
            "text/plain": [
              "array([[0.844, 0.886, 0.139, 0.061],\n",
              "       [0.192, 0.532, 0.155, 0.827],\n",
              "       [0.92 , 0.015, 0.49 , 0.692]])"
            ]
          },
          "metadata": {
            "tags": []
          },
          "execution_count": 6
        }
      ]
    },
    {
      "cell_type": "markdown",
      "metadata": {
        "id": "HaMjlFLBae0f"
      },
      "source": [
        "### 4) W2 (4 * 1)"
      ]
    },
    {
      "cell_type": "code",
      "metadata": {
        "colab": {
          "base_uri": "https://localhost:8080/"
        },
        "id": "CUIn5d6uah8u",
        "outputId": "0e6ef901-7d03-4ee0-e22c-68023b6ea157"
      },
      "source": [
        "np.random.seed(2046)\n",
        "W2 = np.random.rand(4).reshape(4, 1)\n",
        "\n",
        "W2"
      ],
      "execution_count": 9,
      "outputs": [
        {
          "output_type": "execute_result",
          "data": {
            "text/plain": [
              "array([[0.895],\n",
              "       [0.596],\n",
              "       [0.436],\n",
              "       [0.153]])"
            ]
          },
          "metadata": {
            "tags": []
          },
          "execution_count": 9
        }
      ]
    },
    {
      "cell_type": "markdown",
      "metadata": {
        "id": "XSIQs1j7aqpg"
      },
      "source": [
        "### 5) y_hat(4 * 1)"
      ]
    },
    {
      "cell_type": "code",
      "metadata": {
        "colab": {
          "base_uri": "https://localhost:8080/"
        },
        "id": "xBw8i8HbaeNm",
        "outputId": "fed2cc94-ffd7-4988-89ed-bf29d9882157"
      },
      "source": [
        "np.random.seed(2045)\n",
        "\n",
        "y_hat = np.random.rand(4).reshape(4, 1)\n",
        "\n",
        "y_hat"
      ],
      "execution_count": 8,
      "outputs": [
        {
          "output_type": "execute_result",
          "data": {
            "text/plain": [
              "array([[0.844],\n",
              "       [0.886],\n",
              "       [0.139],\n",
              "       [0.061]])"
            ]
          },
          "metadata": {
            "tags": []
          },
          "execution_count": 8
        }
      ]
    },
    {
      "cell_type": "markdown",
      "metadata": {
        "id": "TJRH-ntLa0vD"
      },
      "source": [
        "### 6) Layer1 (4 * 4)"
      ]
    },
    {
      "cell_type": "code",
      "metadata": {
        "colab": {
          "base_uri": "https://localhost:8080/"
        },
        "id": "_yFXaUPha3V9",
        "outputId": "2815dedc-90c0-4b26-ecf3-77feb38543b8"
      },
      "source": [
        "Layer1 = np.ones([4, 4])\n",
        "\n",
        "Layer1"
      ],
      "execution_count": 10,
      "outputs": [
        {
          "output_type": "execute_result",
          "data": {
            "text/plain": [
              "array([[1., 1., 1., 1.],\n",
              "       [1., 1., 1., 1.],\n",
              "       [1., 1., 1., 1.],\n",
              "       [1., 1., 1., 1.]])"
            ]
          },
          "metadata": {
            "tags": []
          },
          "execution_count": 10
        }
      ]
    },
    {
      "cell_type": "markdown",
      "metadata": {
        "id": "BbQ5eZ6ia8vA"
      },
      "source": [
        "## 2. 함수 정의"
      ]
    },
    {
      "cell_type": "markdown",
      "metadata": {
        "id": "CwbfaMnBa-y9"
      },
      "source": [
        "### 1) sigmoid()\n",
        "- Activation Function"
      ]
    },
    {
      "cell_type": "code",
      "metadata": {
        "id": "amjTe-OVa-J1"
      },
      "source": [
        "def sigmoid(x) :\n",
        "  y = 1 / (1 + np.exp(-x))\n",
        "  return y"
      ],
      "execution_count": 11,
      "outputs": []
    },
    {
      "cell_type": "markdown",
      "metadata": {
        "id": "Tve-MVgobGwQ"
      },
      "source": [
        "### 2) d_sigmoid()\n",
        "- sigmoid() 미분함수"
      ]
    },
    {
      "cell_type": "code",
      "metadata": {
        "id": "jLLmrlk-abhs"
      },
      "source": [
        "def d_sigmoid(x) :\n",
        "  dy = x * (1.0 - x)\n",
        "  return dy"
      ],
      "execution_count": 12,
      "outputs": []
    },
    {
      "cell_type": "markdown",
      "metadata": {
        "id": "Tk9A4V87bR5h"
      },
      "source": [
        "### 3) Loss Function\n",
        "- Mean Squared Error / Binary Cross Entropy"
      ]
    },
    {
      "cell_type": "code",
      "metadata": {
        "id": "FsDadecibRcd"
      },
      "source": [
        "def loss_function(y, y_hat, error = \"MSE\") :\n",
        "  if error == \"MSE\" :\n",
        "    Loss = np.mean((y - y_hat) ** 2)\n",
        "  elif error == \"CEE\" :\n",
        "    Loss = -np.mean(y * np.log(y_hat) + (1-y) * np.log(1 - y_hat))\n",
        "\n",
        "  return Loss"
      ],
      "execution_count": 13,
      "outputs": []
    },
    {
      "cell_type": "markdown",
      "metadata": {
        "id": "tZ9f0GIDcAJ_"
      },
      "source": [
        "## 3. 순방향과 역방향 함수 정의"
      ]
    },
    {
      "cell_type": "markdown",
      "metadata": {
        "id": "14JbpLatcCd7"
      },
      "source": [
        "### 1) Forward_Propagation"
      ]
    },
    {
      "cell_type": "markdown",
      "metadata": {
        "id": "Ezw_U9BgcFoK"
      },
      "source": [
        "- Layer1 Output\n",
        "  - Layer1 = sigmoid(np.dot(X, W1))\n",
        "- y_hat Output\n",
        "  - y_hat = sigmoid(np.dot(Layer1, W2))"
      ]
    },
    {
      "cell_type": "code",
      "metadata": {
        "id": "fKUwRD-db9zd"
      },
      "source": [
        "def forwardProp(X, W1, Layer1, W2, y_hat) :\n",
        "  Layer1 = sigmoid(np.dot(X, W1))\n",
        "  y_hat = sigmoid(np.dot(Layer1, W2))\n",
        "\n",
        "  return Layer1, y_hat"
      ],
      "execution_count": 14,
      "outputs": []
    },
    {
      "cell_type": "markdown",
      "metadata": {
        "id": "v6PnIOyncmRd"
      },
      "source": [
        "### 2) Back_Propagation"
      ]
    },
    {
      "cell_type": "code",
      "metadata": {
        "id": "3jk866Koclvp"
      },
      "source": [
        "def backProp(X, y, y_hat, Layer1, W1, W2) :\n",
        "  d_W2 = np.dot(np.transpose(Layer1), (-2 * (y - y_hat) * d_sigmoid(y_hat)))\n",
        "\n",
        "# -2 * (y - y_hat) : 오차값 (값 자체가 중요한 것이 아니므로, 편하게 하려고 -2 를 곱함\n",
        "# 계산상의 편의를 위해 -2를 곱한 것\n",
        "\n",
        "  d_W1 = np.dot((-2 * (y - y_hat) * d_sigmoid(y_hat)), np.transpose(W2))\n",
        "  d_W1 = d_W1 * d_sigmoid(Layer1)\n",
        "  d_W1 = np.dot(np.transpose(X) , d_W1)\n",
        "  # 두단계로 나눠 계산\n",
        "  \n",
        "\n",
        "  W1 = W1 - 0.8 * d_W1\n",
        "  W2 = W2 - 0.8 * d_W2\n",
        "\n",
        "  return y_hat, Layer1, W1, W2"
      ],
      "execution_count": 16,
      "outputs": []
    },
    {
      "cell_type": "markdown",
      "metadata": {
        "id": "rls6g6pEeLNU"
      },
      "source": [
        "## 4. 오차역전파를 적용한 Gradient Descent\n",
        "- 학습과정의 Loss 값 저장 객체"
      ]
    },
    {
      "cell_type": "code",
      "metadata": {
        "id": "PrFZ86m9eQF_"
      },
      "source": [
        "Loss_Record = []"
      ],
      "execution_count": 15,
      "outputs": []
    },
    {
      "cell_type": "markdown",
      "metadata": {
        "id": "CmVe_cCleTXi"
      },
      "source": [
        "### 1) Learning with Error Backpropagation"
      ]
    },
    {
      "cell_type": "code",
      "metadata": {
        "id": "aC2r1LlOeSxR"
      },
      "source": [
        "for k in range(0, 1000) :\n",
        "  Layer1, y_hat = forwardProp(X, W1, Layer1, W2, y_hat)\n",
        "  y_hat, Layer1, W1, W2 = backProp(X, y, y_hat, Layer1, W1, W2)\n",
        "\n",
        "  Loss_Record.append(loss_function(y, y_hat, error = \"CEE\"))"
      ],
      "execution_count": 17,
      "outputs": []
    },
    {
      "cell_type": "markdown",
      "metadata": {
        "id": "SXt11Dm2e5my"
      },
      "source": [
        "### 2) Parameter Update Check"
      ]
    },
    {
      "cell_type": "code",
      "metadata": {
        "colab": {
          "base_uri": "https://localhost:8080/"
        },
        "id": "JUYz5Sh1e89B",
        "outputId": "277b943c-6002-42ff-8d84-61a02b94959b"
      },
      "source": [
        "W1"
      ],
      "execution_count": 18,
      "outputs": [
        {
          "output_type": "execute_result",
          "data": {
            "text/plain": [
              "array([[ 2.165,  4.556,  6.252, -4.313],\n",
              "       [ 2.453,  4.884, -2.953,  6.58 ],\n",
              "       [ 1.547, -0.552,  0.307,  1.498]])"
            ]
          },
          "metadata": {
            "tags": []
          },
          "execution_count": 18
        }
      ]
    },
    {
      "cell_type": "code",
      "metadata": {
        "colab": {
          "base_uri": "https://localhost:8080/"
        },
        "id": "0h_yJrHee4va",
        "outputId": "869c18fe-ba73-4af9-f559-25cbe1023900"
      },
      "source": [
        "W2"
      ],
      "execution_count": 19,
      "outputs": [
        {
          "output_type": "execute_result",
          "data": {
            "text/plain": [
              "array([[ 3.89 ],\n",
              "       [ 7.401],\n",
              "       [-7.353],\n",
              "       [-7.362]])"
            ]
          },
          "metadata": {
            "tags": []
          },
          "execution_count": 19
        }
      ]
    },
    {
      "cell_type": "code",
      "metadata": {
        "colab": {
          "base_uri": "https://localhost:8080/"
        },
        "id": "vhx94q_oe_2V",
        "outputId": "e3bded6c-404c-4623-c0f5-9d086dc80939"
      },
      "source": [
        "y_hat\n",
        "\n",
        "y_hat.round()"
      ],
      "execution_count": 25,
      "outputs": [
        {
          "output_type": "execute_result",
          "data": {
            "text/plain": [
              "array([[0.],\n",
              "       [1.],\n",
              "       [1.],\n",
              "       [0.]])"
            ]
          },
          "metadata": {
            "tags": []
          },
          "execution_count": 25
        }
      ]
    },
    {
      "cell_type": "markdown",
      "metadata": {
        "id": "QGbBd-2xfFTk"
      },
      "source": [
        "### 3) Visualization"
      ]
    },
    {
      "cell_type": "code",
      "metadata": {
        "colab": {
          "base_uri": "https://localhost:8080/",
          "height": 374
        },
        "id": "LwnEDmAMfBlU",
        "outputId": "d92382be-c40d-4183-f01b-e21817100ddf"
      },
      "source": [
        "plt.figure(figsize = (9, 6))\n",
        "plt.plot(Loss_Record)\n",
        "plt.show()"
      ],
      "execution_count": 23,
      "outputs": [
        {
          "output_type": "display_data",
          "data": {
            "image/png": "[encoded data removed]",
            "text/plain": [
              "<Figure size 648x432 with 1 Axes>"
            ]
          },
          "metadata": {
            "tags": [],
            "needs_background": "light"
          }
        }
      ]
    }
  ]
}