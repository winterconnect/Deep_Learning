{
  "nbformat": 4,
  "nbformat_minor": 0,
  "metadata": {
    "colab": {
      "name": "038_Cosine_Similarity.ipynb",
      "provenance": [],
      "collapsed_sections": []
    },
    "kernelspec": {
      "name": "python3",
      "display_name": "Python 3"
    },
    "language_info": {
      "name": "python"
    }
  },
  "cells": [
    {
      "cell_type": "markdown",
      "metadata": {
        "id": "CElq1wL0UG2I"
      },
      "source": [
        "## Cosine Similarity\n",
        "- 두 벡터의 크기와 상관없이, 상호 방향성이 얼마나 유사한지에 기반\n",
        "  - 두 벡터의 사잇각을 계산하여 유사도 측정\n",
        "- 문서(문장)의 크기를 고려하지 않는 빈도수 기반의 단점 보완"
      ]
    },
    {
      "cell_type": "code",
      "metadata": {
        "id": "F59J7-KaUX22"
      },
      "source": [
        "import warnings\n",
        "warnings.filterwarnings('ignore')"
      ],
      "execution_count": 4,
      "outputs": []
    },
    {
      "cell_type": "code",
      "metadata": {
        "id": "fMkixyA0U6v1"
      },
      "source": [
        "from sklearn.feature_extraction.text import TfidfVectorizer\n",
        "from sklearn.metrics.pairwise import cosine_similarity"
      ],
      "execution_count": 16,
      "outputs": []
    },
    {
      "cell_type": "code",
      "metadata": {
        "id": "XVpjD0PHqvbg"
      },
      "source": [
        "import numpy as np"
      ],
      "execution_count": 9,
      "outputs": []
    },
    {
      "cell_type": "code",
      "metadata": {
        "id": "aUmK4gfowUe9"
      },
      "source": [
        "import tensorflow_hub as hub"
      ],
      "execution_count": 32,
      "outputs": []
    },
    {
      "cell_type": "markdown",
      "metadata": {
        "id": "wK7LxDMqUeFG"
      },
      "source": [
        "## 1.TF-IDF Vectorization"
      ]
    },
    {
      "cell_type": "markdown",
      "metadata": {
        "id": "KcfTdwSlUgd3"
      },
      "source": [
        "### 1) 문장 3개 지정"
      ]
    },
    {
      "cell_type": "code",
      "metadata": {
        "id": "mMAcU9kKUibW"
      },
      "source": [
        "doc_list = ['If you take the blue pill, the story ends' ,\n",
        "            'If you take the red pill, you stay in Wonderland' ,\n",
        "            'If you take the red pill, I show you how deep the rabbit hole goes']"
      ],
      "execution_count": 5,
      "outputs": []
    },
    {
      "cell_type": "markdown",
      "metadata": {
        "id": "ZNBYJHGnU1va"
      },
      "source": [
        "### 2) Coordinate(좌표) 양식\n",
        "- '0'이 아닌 데이터포인트의 좌표만 저장"
      ]
    },
    {
      "cell_type": "code",
      "metadata": {
        "colab": {
          "base_uri": "https://localhost:8080/"
        },
        "id": "yRQHeYf_U1EO",
        "outputId": "2c770d7d-4975-41c2-bf83-15c898775820"
      },
      "source": [
        "# TF-IDF 해야 한다\n",
        "tfidf_vec_simple = TfidfVectorizer()\n",
        "feature_vec_simple = tfidf_vec_simple.fit_transform(doc_list)\n",
        "\n",
        "print(feature_vec_simple)"
      ],
      "execution_count": 18,
      "outputs": [
        {
          "output_type": "stream",
          "text": [
            "  (0, 2)\t0.41556360057939173\n",
            "  (0, 13)\t0.41556360057939173\n",
            "  (0, 8)\t0.24543855687841593\n",
            "  (0, 0)\t0.41556360057939173\n",
            "  (0, 15)\t0.49087711375683185\n",
            "  (0, 14)\t0.24543855687841593\n",
            "  (0, 17)\t0.24543855687841593\n",
            "  (0, 6)\t0.24543855687841593\n",
            "  (1, 16)\t0.39624495215024286\n",
            "  (1, 7)\t0.39624495215024286\n",
            "  (1, 12)\t0.39624495215024286\n",
            "  (1, 10)\t0.3013544995034864\n",
            "  (1, 8)\t0.2340286519091622\n",
            "  (1, 15)\t0.2340286519091622\n",
            "  (1, 14)\t0.2340286519091622\n",
            "  (1, 17)\t0.4680573038183244\n",
            "  (1, 6)\t0.2340286519091622\n",
            "  (2, 3)\t0.3098560092999078\n",
            "  (2, 4)\t0.3098560092999078\n",
            "  (2, 9)\t0.3098560092999078\n",
            "  (2, 1)\t0.3098560092999078\n",
            "  (2, 5)\t0.3098560092999078\n",
            "  (2, 11)\t0.3098560092999078\n",
            "  (2, 10)\t0.23565348175165166\n",
            "  (2, 8)\t0.1830059506093466\n",
            "  (2, 15)\t0.3660119012186932\n",
            "  (2, 14)\t0.1830059506093466\n",
            "  (2, 17)\t0.3660119012186932\n",
            "  (2, 6)\t0.1830059506093466\n"
          ],
          "name": "stdout"
        }
      ]
    },
    {
      "cell_type": "markdown",
      "metadata": {
        "id": "qO7HxVLhpvyh"
      },
      "source": [
        "### 3) (밀집) 행렬 변환"
      ]
    },
    {
      "cell_type": "code",
      "metadata": {
        "colab": {
          "base_uri": "https://localhost:8080/"
        },
        "id": "7uqOXJL4OUsA",
        "outputId": "54c9d681-2556-40b6-b6e2-4370cd587a19"
      },
      "source": [
        "feature_vec_dense = feature_vec_simple.todense()\n",
        "\n",
        "print(feature_vec_dense)"
      ],
      "execution_count": 8,
      "outputs": [
        {
          "output_type": "stream",
          "text": [
            "[[0.4155636  0.         0.4155636  0.         0.         0.\n",
            "  0.24543856 0.         0.24543856 0.         0.         0.\n",
            "  0.         0.4155636  0.24543856 0.49087711 0.         0.24543856]\n",
            " [0.         0.         0.         0.         0.         0.\n",
            "  0.23402865 0.39624495 0.23402865 0.         0.3013545  0.\n",
            "  0.39624495 0.         0.23402865 0.23402865 0.39624495 0.4680573 ]\n",
            " [0.         0.30985601 0.         0.30985601 0.30985601 0.30985601\n",
            "  0.18300595 0.         0.18300595 0.30985601 0.23565348 0.30985601\n",
            "  0.         0.         0.18300595 0.3660119  0.         0.3660119 ]]\n"
          ],
          "name": "stdout"
        }
      ]
    },
    {
      "cell_type": "markdown",
      "metadata": {
        "id": "2wxO1z8Mqs9Z"
      },
      "source": [
        "### 4) 개별 Feature Vector 추출"
      ]
    },
    {
      "cell_type": "code",
      "metadata": {
        "colab": {
          "base_uri": "https://localhost:8080/"
        },
        "id": "qUKdYjM0qzFs",
        "outputId": "8cb1e515-3f4d-4c68-9036-dd119b4adee9"
      },
      "source": [
        "vec1 = np.array(feature_vec_dense[0]).reshape(-1,)\n",
        "vec2 = np.array(feature_vec_dense[1]).reshape(-1,)\n",
        "vec3 = np.array(feature_vec_dense[2]).reshape(-1,)\n",
        "\n",
        "vec1, vec2, vec3"
      ],
      "execution_count": 10,
      "outputs": [
        {
          "output_type": "execute_result",
          "data": {
            "text/plain": [
              "(array([0.4155636 , 0.        , 0.4155636 , 0.        , 0.        ,\n",
              "        0.        , 0.24543856, 0.        , 0.24543856, 0.        ,\n",
              "        0.        , 0.        , 0.        , 0.4155636 , 0.24543856,\n",
              "        0.49087711, 0.        , 0.24543856]),\n",
              " array([0.        , 0.        , 0.        , 0.        , 0.        ,\n",
              "        0.        , 0.23402865, 0.39624495, 0.23402865, 0.        ,\n",
              "        0.3013545 , 0.        , 0.39624495, 0.        , 0.23402865,\n",
              "        0.23402865, 0.39624495, 0.4680573 ]),\n",
              " array([0.        , 0.30985601, 0.        , 0.30985601, 0.30985601,\n",
              "        0.30985601, 0.18300595, 0.        , 0.18300595, 0.30985601,\n",
              "        0.23565348, 0.30985601, 0.        , 0.        , 0.18300595,\n",
              "        0.3660119 , 0.        , 0.3660119 ]))"
            ]
          },
          "metadata": {
            "tags": []
          },
          "execution_count": 10
        }
      ]
    },
    {
      "cell_type": "markdown",
      "metadata": {
        "id": "bGAkzpgErLhk"
      },
      "source": [
        "## 2. cos_similarity()\n",
        "- 두 벡터의 내적을 총 벡터 크기로 정규화(L2 Norm)\n",
        "  - dot_product: 두 벡터의 내적\n",
        "  - l2_norm: 총 벡터 크기의 합"
      ]
    },
    {
      "cell_type": "code",
      "metadata": {
        "id": "imWa0y1ksM3t"
      },
      "source": [
        "def cos_similarity(v1, v2) :\n",
        "  dot_product = np.dot(v1, v2)\n",
        "  l2_norm = (np.sqrt(sum(np.square(v1))) * np.sqrt(sum(np.square(v2))))\n",
        "  similarity = dot_product / l2_norm\n",
        "\n",
        "  return similarity"
      ],
      "execution_count": 11,
      "outputs": []
    },
    {
      "cell_type": "markdown",
      "metadata": {
        "id": "wkGryDMntKkr"
      },
      "source": [
        "### 1) 'vec1' , 'vec2' 코사인 유사도"
      ]
    },
    {
      "cell_type": "code",
      "metadata": {
        "colab": {
          "base_uri": "https://localhost:8080/"
        },
        "id": "I6w7zwuPtOmy",
        "outputId": "34a7c9f1-d420-4e92-db3a-bebdc151a34c"
      },
      "source": [
        "similarity_simple = cos_similarity(vec1, vec2)\n",
        "\n",
        "print('vec1, vec2 코사인 유사도: {:.5f}' .format(similarity_simple))"
      ],
      "execution_count": 13,
      "outputs": [
        {
          "output_type": "stream",
          "text": [
            "vec1, vec2 코사인 유사도: 0.40208\n"
          ],
          "name": "stdout"
        }
      ]
    },
    {
      "cell_type": "markdown",
      "metadata": {
        "id": "h_SC7no4traL"
      },
      "source": [
        "### 2) 'vec1', 'vec3' 코사인 유사도"
      ]
    },
    {
      "cell_type": "code",
      "metadata": {
        "colab": {
          "base_uri": "https://localhost:8080/"
        },
        "id": "99f6U79vtvp5",
        "outputId": "44f5d375-3321-49c3-d07f-fca060cb3eab"
      },
      "source": [
        "similarity_simple = cos_similarity(vec1, vec3)\n",
        "\n",
        "print('vec1, vec3 코사인 유사도: {:.5f}' .format(similarity_simple))"
      ],
      "execution_count": 14,
      "outputs": [
        {
          "output_type": "stream",
          "text": [
            "vec1, vec3 코사인 유사도: 0.40425\n"
          ],
          "name": "stdout"
        }
      ]
    },
    {
      "cell_type": "markdown",
      "metadata": {
        "id": "G3BHEC1Qt8Do"
      },
      "source": [
        "### 3) 'vec2', 'vec3' 코사인 유사도"
      ]
    },
    {
      "cell_type": "code",
      "metadata": {
        "colab": {
          "base_uri": "https://localhost:8080/"
        },
        "id": "4i3Lxytbt6hC",
        "outputId": "17be2718-45e5-4b00-89da-a9edf9faa25d"
      },
      "source": [
        "similarity_simple = cos_similarity(vec2, vec3)\n",
        "\n",
        "print('vec2, vec3 코사인 유사도: {:.5f}' .format(similarity_simple))"
      ],
      "execution_count": 15,
      "outputs": [
        {
          "output_type": "stream",
          "text": [
            "vec2, vec3 코사인 유사도: 0.45647\n"
          ],
          "name": "stdout"
        }
      ]
    },
    {
      "cell_type": "markdown",
      "metadata": {
        "id": "NiAUFt1juLj8"
      },
      "source": [
        "## 3. sklearn = cosine_similarity()"
      ]
    },
    {
      "cell_type": "code",
      "metadata": {
        "colab": {
          "base_uri": "https://localhost:8080/"
        },
        "id": "MnCfaBAcuS5O",
        "outputId": "b249b3f5-3257-4847-d06b-2272c9849970"
      },
      "source": [
        "cosine_similarity(feature_vec_simple[0], feature_vec_simple)"
      ],
      "execution_count": 19,
      "outputs": [
        {
          "output_type": "execute_result",
          "data": {
            "text/plain": [
              "array([[1.        , 0.40207758, 0.40425045]])"
            ]
          },
          "metadata": {
            "tags": []
          },
          "execution_count": 19
        }
      ]
    },
    {
      "cell_type": "code",
      "metadata": {
        "colab": {
          "base_uri": "https://localhost:8080/"
        },
        "id": "S0VcUWEcvPW1",
        "outputId": "fd5383aa-ecb3-45f1-a89c-4409e47fdd60"
      },
      "source": [
        "cosine_similarity(feature_vec_simple[0] , feature_vec_simple[1:])"
      ],
      "execution_count": 25,
      "outputs": [
        {
          "output_type": "execute_result",
          "data": {
            "text/plain": [
              "array([[0.40207758, 0.40425045]])"
            ]
          },
          "metadata": {
            "tags": []
          },
          "execution_count": 25
        }
      ]
    },
    {
      "cell_type": "code",
      "metadata": {
        "colab": {
          "base_uri": "https://localhost:8080/"
        },
        "id": "35fPO4SYvj-_",
        "outputId": "eefcdba3-be69-4e73-b628-fa7d7e8d2b43"
      },
      "source": [
        "cosine_similarity(feature_vec_simple, feature_vec_simple)"
      ],
      "execution_count": 26,
      "outputs": [
        {
          "output_type": "execute_result",
          "data": {
            "text/plain": [
              "array([[1.        , 0.40207758, 0.40425045],\n",
              "       [0.40207758, 1.        , 0.45647296],\n",
              "       [0.40425045, 0.45647296, 1.        ]])"
            ]
          },
          "metadata": {
            "tags": []
          },
          "execution_count": 26
        }
      ]
    },
    {
      "cell_type": "markdown",
      "metadata": {
        "id": "cckGLvNnvon1"
      },
      "source": [
        "## 4. Topic Problem"
      ]
    },
    {
      "cell_type": "markdown",
      "metadata": {
        "id": "FA830nGuvqvo"
      },
      "source": [
        "### 1) 문장 지정"
      ]
    },
    {
      "cell_type": "code",
      "metadata": {
        "id": "05UIVU90vspX"
      },
      "source": [
        "sent_list = ['I eat an apple' ,\n",
        "             'Koo have fruit' ,\n",
        "             'I sell an apple']\n",
        "             # 의미 상이 아니라, 빈도수가 더 높으면 유사도가 높게 나온다"
      ],
      "execution_count": 27,
      "outputs": []
    },
    {
      "cell_type": "markdown",
      "metadata": {
        "id": "2iBoPL8ivyKy"
      },
      "source": [
        "### 2) 벡터 변환"
      ]
    },
    {
      "cell_type": "code",
      "metadata": {
        "id": "AYGlEePSvz66"
      },
      "source": [
        "tfidf_vec = TfidfVectorizer()\n",
        "feature_vec = tfidf_vec.fit_transform(sent_list)"
      ],
      "execution_count": 28,
      "outputs": []
    },
    {
      "cell_type": "markdown",
      "metadata": {
        "id": "ggHoLpkav7zf"
      },
      "source": [
        "### 3) 문장1 vs. 문장2"
      ]
    },
    {
      "cell_type": "code",
      "metadata": {
        "colab": {
          "base_uri": "https://localhost:8080/"
        },
        "id": "ZgsNH4pBP-4F",
        "outputId": "51df297f-deb7-4d85-9775-bc0856b38738"
      },
      "source": [
        "cosine_similarity(feature_vec[0], feature_vec[1])"
      ],
      "execution_count": 29,
      "outputs": [
        {
          "output_type": "execute_result",
          "data": {
            "text/plain": [
              "array([[0.]])"
            ]
          },
          "metadata": {
            "tags": []
          },
          "execution_count": 29
        }
      ]
    },
    {
      "cell_type": "markdown",
      "metadata": {
        "id": "t9VjZ9mPwFDR"
      },
      "source": [
        "### 4) 문장1 vs. 문장3"
      ]
    },
    {
      "cell_type": "code",
      "metadata": {
        "colab": {
          "base_uri": "https://localhost:8080/"
        },
        "id": "ijPrkGtXwINw",
        "outputId": "6405c71d-68c6-42d0-bd91-ca1cdf49276e"
      },
      "source": [
        "cosine_similarity(feature_vec[0], feature_vec[2])"
      ],
      "execution_count": 31,
      "outputs": [
        {
          "output_type": "execute_result",
          "data": {
            "text/plain": [
              "array([[0.53634991]])"
            ]
          },
          "metadata": {
            "tags": []
          },
          "execution_count": 31
        }
      ]
    },
    {
      "cell_type": "markdown",
      "metadata": {
        "id": "7IxOjJ98wQcX"
      },
      "source": [
        "## 5. Word2Vec"
      ]
    },
    {
      "cell_type": "code",
      "metadata": {
        "id": "VG4P0RbTQMwm"
      },
      "source": [
        "# load pretrained Word2Vec\n",
        "\n",
        "embed = hub.load('https://tfhub.dev/google/Wiki-words-250/2')"
      ],
      "execution_count": 34,
      "outputs": []
    },
    {
      "cell_type": "code",
      "metadata": {
        "id": "pNsPbvQKwhd2"
      },
      "source": [
        "words = ['apple' , 'eat' , 'fruit' , 'have' , 'sell']"
      ],
      "execution_count": 35,
      "outputs": []
    },
    {
      "cell_type": "code",
      "metadata": {
        "id": "d7oZ5wc6wmQW"
      },
      "source": [
        "embeddings = embed(words)\n",
        "# 단어에 대한 표현을 학습하는 것\n",
        "# embedding은 latent space와 비슷하다"
      ],
      "execution_count": 36,
      "outputs": []
    },
    {
      "cell_type": "code",
      "metadata": {
        "colab": {
          "base_uri": "https://localhost:8080/"
        },
        "id": "HSgX2Izrwos1",
        "outputId": "00375354-4923-4136-c8a3-1ee7c6f48005"
      },
      "source": [
        "for i in range(len(words)) :\n",
        "  for j in range(i, len(words)) :\n",
        "    print('(' , words[i] , ',' , words[j] , ')' , np.inner(embeddings[i] , embeddings[j]))"
      ],
      "execution_count": 37,
      "outputs": [
        {
          "output_type": "stream",
          "text": [
            "( apple , apple ) 1.0\n",
            "( apple , eat ) 0.48909307\n",
            "( apple , fruit ) 0.78753763\n",
            "( apple , have ) 0.13348329\n",
            "( apple , sell ) 0.106232405\n",
            "( eat , eat ) 1.0\n",
            "( eat , fruit ) 0.53294003\n",
            "( eat , have ) 0.3232242\n",
            "( eat , sell ) 0.2691978\n",
            "( fruit , fruit ) 1.0\n",
            "( fruit , have ) 0.13598028\n",
            "( fruit , sell ) 0.11212408\n",
            "( have , have ) 1.0\n",
            "( have , sell ) 0.21071003\n",
            "( sell , sell ) 1.0\n"
          ],
          "name": "stdout"
        }
      ]
    },
    {
      "cell_type": "code",
      "metadata": {
        "id": "yFNaFI6fQjhm"
      },
      "source": [
        ""
      ],
      "execution_count": null,
      "outputs": []
    }
  ]
}