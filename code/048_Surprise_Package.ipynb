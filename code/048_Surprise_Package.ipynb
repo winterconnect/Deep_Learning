{
  "nbformat": 4,
  "nbformat_minor": 0,
  "metadata": {
    "colab": {
      "name": "048_Surprise_Package.ipynb",
      "provenance": [],
      "collapsed_sections": []
    },
    "kernelspec": {
      "name": "python3",
      "display_name": "Python 3"
    },
    "language_info": {
      "name": "python"
    }
  },
  "cells": [
    {
      "cell_type": "code",
      "metadata": {
        "id": "So0Mlo8DLULm"
      },
      "source": [
        "import warnings\n",
        "warnings.filterwarnings('ignore')"
      ],
      "execution_count": 1,
      "outputs": []
    },
    {
      "cell_type": "code",
      "metadata": {
        "id": "97eJwHkML9z_"
      },
      "source": [
        "!pip install surprise"
      ],
      "execution_count": null,
      "outputs": []
    },
    {
      "cell_type": "code",
      "metadata": {
        "colab": {
          "base_uri": "https://localhost:8080/",
          "height": 35
        },
        "id": "RqSoDYe5MBXX",
        "outputId": "bd50473b-e8a2-4e31-a091-55277a6d6285"
      },
      "source": [
        "import surprise\n",
        "surprise.__version__"
      ],
      "execution_count": 3,
      "outputs": [
        {
          "output_type": "execute_result",
          "data": {
            "application/vnd.google.colaboratory.intrinsic+json": {
              "type": "string"
            },
            "text/plain": [
              "'1.1.1'"
            ]
          },
          "metadata": {
            "tags": []
          },
          "execution_count": 3
        }
      ]
    },
    {
      "cell_type": "code",
      "metadata": {
        "id": "S4-2NiLoMeY8"
      },
      "source": [
        "from surprise import Dataset\n",
        "from surprise.model_selection import train_test_split, cross_validate, GridSearchCV\n",
        "from surprise import SVD\n",
        "from surprise import accuracy\n",
        "from surprise import Reader\n",
        "from surprise.dataset import DatasetAutoFolds"
      ],
      "execution_count": 39,
      "outputs": []
    },
    {
      "cell_type": "code",
      "metadata": {
        "id": "8obCTimWPpCc"
      },
      "source": [
        "import pandas as pd"
      ],
      "execution_count": 20,
      "outputs": []
    },
    {
      "cell_type": "markdown",
      "metadata": {
        "id": "i__qVu7OLyY-"
      },
      "source": [
        "# Surprise Package\n",
        "- 다양한 추천 알고리즘을 쉽게 사용\n",
        "- 사이킷런과 유사한 API 구조"
      ]
    },
    {
      "cell_type": "markdown",
      "metadata": {
        "id": "yOKWMPC_MKUF"
      },
      "source": [
        "## 1. Surprise Dataset\n",
        "- user_id(사용자), item_id(아이템), rating(평점)으로 된 데이터 세트만 적용 가능\n",
        "  - 3개의 컬럼만 로딩하고 나머지는 제외"
      ]
    },
    {
      "cell_type": "markdown",
      "metadata": {
        "id": "MkrGTUJJMVoD"
      },
      "source": [
        "### 1) MovieLens Dataset\n",
        "- 로컬 디렉토리에 저장 후 로딩\n",
        "  - ml-100k: 10만개 평점 데이터\n",
        "  - ml-1m: 100만개 평점 데이터"
      ]
    },
    {
      "cell_type": "code",
      "metadata": {
        "id": "KDuhbs65LcTy",
        "colab": {
          "base_uri": "https://localhost:8080/"
        },
        "outputId": "ce80d05e-b92b-468c-c6f9-03f133398ad3"
      },
      "source": [
        "data = Dataset.load_builtin('ml-100k')"
      ],
      "execution_count": 5,
      "outputs": [
        {
          "output_type": "stream",
          "text": [
            "Dataset ml-100k could not be found. Do you want to download it? [Y/n] y\n",
            "Trying to download dataset from http://files.grouplens.org/datasets/movielens/ml-100k.zip...\n",
            "Done! Dataset ml-100k has been saved to /root/.surprise_data/ml-100k\n"
          ],
          "name": "stdout"
        }
      ]
    },
    {
      "cell_type": "code",
      "metadata": {
        "colab": {
          "base_uri": "https://localhost:8080/"
        },
        "id": "ooR5XumsMmCO",
        "outputId": "32d1e205-b118-423c-fcbd-3f9e7593e2c9"
      },
      "source": [
        "!ls -l /root/.surprise_data/"
      ],
      "execution_count": 6,
      "outputs": [
        {
          "output_type": "stream",
          "text": [
            "total 4\n",
            "drwxr-xr-x 3 root root 4096 Apr  1 06:50 ml-100k\n"
          ],
          "name": "stdout"
        }
      ]
    },
    {
      "cell_type": "markdown",
      "metadata": {
        "id": "WUjHi44oMq-D"
      },
      "source": [
        "### 2) train_test_split()"
      ]
    },
    {
      "cell_type": "code",
      "metadata": {
        "id": "av2yIMqaMpOD"
      },
      "source": [
        "trainset, testset = train_test_split(data,\n",
        "                                     test_size = 0.3,\n",
        "                                     random_state = 2045)"
      ],
      "execution_count": 8,
      "outputs": []
    },
    {
      "cell_type": "markdown",
      "metadata": {
        "id": "-SMyQMR0M8ox"
      },
      "source": [
        "## 2. SDV 기반 잠재요인 협업 필터링"
      ]
    },
    {
      "cell_type": "markdown",
      "metadata": {
        "id": "9NIvMXEcNBkh"
      },
      "source": [
        "### 1) fit(): 추천 알고리즘 학습\n",
        "- SVD(Singular Vector Decomposition)"
      ]
    },
    {
      "cell_type": "code",
      "metadata": {
        "colab": {
          "base_uri": "https://localhost:8080/"
        },
        "id": "8lQOcCeyM1Vv",
        "outputId": "ec99371b-b820-446d-be64-b086bc3d7bec"
      },
      "source": [
        "algo = SVD()\n",
        "algo.fit(trainset)"
      ],
      "execution_count": 12,
      "outputs": [
        {
          "output_type": "execute_result",
          "data": {
            "text/plain": [
              "<surprise.prediction_algorithms.matrix_factorization.SVD at 0x7f8a0cd35ad0>"
            ]
          },
          "metadata": {
            "tags": []
          },
          "execution_count": 12
        }
      ]
    },
    {
      "cell_type": "markdown",
      "metadata": {
        "id": "trTym-e9NNsC"
      },
      "source": [
        "### 2) test()\n",
        "- 사용자-아이템 평점 데이터세트 전체에 대한 추천을 예측\n",
        "  - uid: 사용자 아이디\n",
        "  - iid: 영화(아이템) 아이디\n",
        "  - r_ui: 실제 평점\n",
        "  - est: Surprise 추천 예측 평점\n",
        "  - details: 처리 결과 로그(True - 예측값 생성할 수 없는 데이터)"
      ]
    },
    {
      "cell_type": "code",
      "metadata": {
        "colab": {
          "base_uri": "https://localhost:8080/"
        },
        "id": "ryIKzwQINMyQ",
        "outputId": "5f114905-3bae-4dcb-e82f-ef54e4fed9f1"
      },
      "source": [
        "predictions = algo.test(testset)\n",
        "\n",
        "print('prediction type: ' , type(predictions) , 'size: ' , len(predictions))\n",
        "print('\\n' , 'prediction 결과의 최초 5개 추출' , '\\n')\n",
        "predictions[:5]"
      ],
      "execution_count": 14,
      "outputs": [
        {
          "output_type": "stream",
          "text": [
            "prediction type:  <class 'list'> size:  30000\n",
            "\n",
            " prediction 결과의 최초 5개 추출 \n",
            "\n"
          ],
          "name": "stdout"
        },
        {
          "output_type": "execute_result",
          "data": {
            "text/plain": [
              "[Prediction(uid='13', iid='531', r_ui=3.0, est=3.5812093752335694, details={'was_impossible': False}),\n",
              " Prediction(uid='567', iid='246', r_ui=4.0, est=4.115426126834982, details={'was_impossible': False}),\n",
              " Prediction(uid='243', iid='1148', r_ui=3.0, est=3.311640350709008, details={'was_impossible': False}),\n",
              " Prediction(uid='346', iid='241', r_ui=4.0, est=3.7134244751589245, details={'was_impossible': False}),\n",
              " Prediction(uid='868', iid='1285', r_ui=2.0, est=2.639939958927712, details={'was_impossible': False})]"
            ]
          },
          "metadata": {
            "tags": []
          },
          "execution_count": 14
        }
      ]
    },
    {
      "cell_type": "markdown",
      "metadata": {
        "id": "wSncXYT6N83B"
      },
      "source": [
        "- 'uid' , 'iid' , 'est' 값 추출"
      ]
    },
    {
      "cell_type": "code",
      "metadata": {
        "colab": {
          "base_uri": "https://localhost:8080/"
        },
        "id": "PZh2Re9jM2tv",
        "outputId": "b170435a-5443-47d1-d811-c00c7a7af9cc"
      },
      "source": [
        "[(pred.uid, pred.iid, pred.est) for pred in predictions[:3]]"
      ],
      "execution_count": 15,
      "outputs": [
        {
          "output_type": "execute_result",
          "data": {
            "text/plain": [
              "[('13', '531', 3.5812093752335694),\n",
              " ('567', '246', 4.115426126834982),\n",
              " ('243', '1148', 3.311640350709008)]"
            ]
          },
          "metadata": {
            "tags": []
          },
          "execution_count": 15
        }
      ]
    },
    {
      "cell_type": "markdown",
      "metadata": {
        "id": "6iRyNsUcONFq"
      },
      "source": [
        "### 3) predict()\n",
        "- 개별 사용자의 아이템에 대한 추천 평점 예측\n",
        "  - 'uid', 'iid'는 문자열로 인식\n",
        "  - 'r_ui': 기존 평점 정보는 선택사항\n",
        "- test()는 모든 사용자와 아이템에 대해서 predict()를 반복적으로 수행한 결과"
      ]
    },
    {
      "cell_type": "code",
      "metadata": {
        "colab": {
          "base_uri": "https://localhost:8080/"
        },
        "id": "gLZ84PybOEWx",
        "outputId": "b9ca8ad4-687b-4395-ec57-48c781361fd5"
      },
      "source": [
        "uid = str(196) # 반드시 문자열을 입력해야 한다 (정해져있음)\n",
        "iid = str(302)\n",
        "\n",
        "pred = algo.predict(uid, iid)\n",
        "print(pred)"
      ],
      "execution_count": 17,
      "outputs": [
        {
          "output_type": "stream",
          "text": [
            "user: 196        item: 302        r_ui = None   est = 4.23   {'was_impossible': False}\n"
          ],
          "name": "stdout"
        }
      ]
    },
    {
      "cell_type": "markdown",
      "metadata": {
        "id": "Ky0IyROAPFUt"
      },
      "source": [
        "### 4) rmse()\n",
        "- 예측 평점과 실제 평점과의 오차 평가"
      ]
    },
    {
      "cell_type": "code",
      "metadata": {
        "colab": {
          "base_uri": "https://localhost:8080/"
        },
        "id": "RN6Fp6OnO1cu",
        "outputId": "35c4ec0c-7ae6-47ce-b8ab-f188af6f0e40"
      },
      "source": [
        "accuracy.rmse(predictions)"
      ],
      "execution_count": 19,
      "outputs": [
        {
          "output_type": "stream",
          "text": [
            "RMSE: 0.9357\n"
          ],
          "name": "stdout"
        },
        {
          "output_type": "execute_result",
          "data": {
            "text/plain": [
              "0.9357357356457826"
            ]
          },
          "metadata": {
            "tags": []
          },
          "execution_count": 19
        }
      ]
    },
    {
      "cell_type": "markdown",
      "metadata": {
        "id": "vv31BpwiPc0z"
      },
      "source": [
        "## 3. Data Preprocessing"
      ]
    },
    {
      "cell_type": "markdown",
      "metadata": {
        "id": "60FdhB-OPhq3"
      },
      "source": [
        "### 1) user_id(사용자), item_id(아이템), rating(평점)\n",
        "- 컬럼 Header 제거 필요"
      ]
    },
    {
      "cell_type": "code",
      "metadata": {
        "colab": {
          "base_uri": "https://localhost:8080/",
          "height": 204
        },
        "id": "BHUINBxkPK1V",
        "outputId": "5718e40e-20aa-4e7a-b6dd-f80d6c697ca8"
      },
      "source": [
        "url = 'https://raw.githubusercontent.com/rusita-ai/pyData/master/ratings.csv'\n",
        "\n",
        "ratings = pd.read_csv(url)\n",
        "\n",
        "ratings.head()"
      ],
      "execution_count": 21,
      "outputs": [
        {
          "output_type": "execute_result",
          "data": {
            "text/html": [
              "<div>\n",
              "<style scoped>\n",
              "    .dataframe tbody tr th:only-of-type {\n",
              "        vertical-align: middle;\n",
              "    }\n",
              "\n",
              "    .dataframe tbody tr th {\n",
              "        vertical-align: top;\n",
              "    }\n",
              "\n",
              "    .dataframe thead th {\n",
              "        text-align: right;\n",
              "    }\n",
              "</style>\n",
              "<table border=\"1\" class=\"dataframe\">\n",
              "  <thead>\n",
              "    <tr style=\"text-align: right;\">\n",
              "      <th></th>\n",
              "      <th>userId</th>\n",
              "      <th>movieId</th>\n",
              "      <th>rating</th>\n",
              "      <th>timestamp</th>\n",
              "    </tr>\n",
              "  </thead>\n",
              "  <tbody>\n",
              "    <tr>\n",
              "      <th>0</th>\n",
              "      <td>1</td>\n",
              "      <td>1</td>\n",
              "      <td>4.0</td>\n",
              "      <td>964982703</td>\n",
              "    </tr>\n",
              "    <tr>\n",
              "      <th>1</th>\n",
              "      <td>1</td>\n",
              "      <td>3</td>\n",
              "      <td>4.0</td>\n",
              "      <td>964981247</td>\n",
              "    </tr>\n",
              "    <tr>\n",
              "      <th>2</th>\n",
              "      <td>1</td>\n",
              "      <td>6</td>\n",
              "      <td>4.0</td>\n",
              "      <td>964982224</td>\n",
              "    </tr>\n",
              "    <tr>\n",
              "      <th>3</th>\n",
              "      <td>1</td>\n",
              "      <td>47</td>\n",
              "      <td>5.0</td>\n",
              "      <td>964983815</td>\n",
              "    </tr>\n",
              "    <tr>\n",
              "      <th>4</th>\n",
              "      <td>1</td>\n",
              "      <td>50</td>\n",
              "      <td>5.0</td>\n",
              "      <td>964982931</td>\n",
              "    </tr>\n",
              "  </tbody>\n",
              "</table>\n",
              "</div>"
            ],
            "text/plain": [
              "   userId  movieId  rating  timestamp\n",
              "0       1        1     4.0  964982703\n",
              "1       1        3     4.0  964981247\n",
              "2       1        6     4.0  964982224\n",
              "3       1       47     5.0  964983815\n",
              "4       1       50     5.0  964982931"
            ]
          },
          "metadata": {
            "tags": []
          },
          "execution_count": 21
        }
      ]
    },
    {
      "cell_type": "markdown",
      "metadata": {
        "id": "AqVErVjIP445"
      },
      "source": [
        "### 2) index와 header가 제거된 파일 생성"
      ]
    },
    {
      "cell_type": "code",
      "metadata": {
        "id": "gFSf8CQmP1md"
      },
      "source": [
        "ratings.to_csv('ratings_noh.csv',\n",
        "               index = False,\n",
        "               header = False)"
      ],
      "execution_count": 22,
      "outputs": []
    },
    {
      "cell_type": "markdown",
      "metadata": {
        "id": "W1L841EfQE2Y"
      },
      "source": [
        "### 3) Surprise - Reader()\n",
        "- line_format: 컬럼의 순서 나열\n",
        "- sep: 컬럼 구분자\n",
        "- rating_scale: 평점 단위를 0.5(최소) ~ 5(최대)로 설정"
      ]
    },
    {
      "cell_type": "code",
      "metadata": {
        "id": "TJFyxGCwQBHe"
      },
      "source": [
        "reader = Reader(line_format = 'user item rating timestamp' ,\n",
        "                sep = ',' ,\n",
        "                rating_scale = (0.5 , 5)) # 0.5 ~ 5 로 스케일링\n",
        "\n",
        "data = Dataset.load_from_file('ratings_noh.csv',\n",
        "                              reader = reader)"
      ],
      "execution_count": 24,
      "outputs": []
    },
    {
      "cell_type": "markdown",
      "metadata": {
        "id": "GvqyJiHzQnL-"
      },
      "source": [
        "### 4) SVD 테스트\n",
        "- n_factors: 잠재요인(K) 크기, Hyperparameter\n",
        "- 잠재요인의 크기를 바꿔가면서 최적의 성능을 찾아감"
      ]
    },
    {
      "cell_type": "code",
      "metadata": {
        "id": "I3HR1KitQmJP"
      },
      "source": [
        "trainset, testset = train_test_split(data,\n",
        "                                     test_size = .3,\n",
        "                                     random_state = 2045)"
      ],
      "execution_count": 25,
      "outputs": []
    },
    {
      "cell_type": "code",
      "metadata": {
        "id": "gr-WRLPKQ8Pa"
      },
      "source": [
        "algo = SVD(n_factors = 50,\n",
        "           random_state = 2045)\n",
        "\n",
        "algo.fit(trainset)\n",
        "predictions = algo.test(testset)"
      ],
      "execution_count": 26,
      "outputs": []
    },
    {
      "cell_type": "code",
      "metadata": {
        "colab": {
          "base_uri": "https://localhost:8080/"
        },
        "id": "hxua5yNGRAn8",
        "outputId": "1838f730-ec2a-4dc9-be3a-487159a826f9"
      },
      "source": [
        "accuracy.rmse(predictions)"
      ],
      "execution_count": 27,
      "outputs": [
        {
          "output_type": "stream",
          "text": [
            "RMSE: 0.8711\n"
          ],
          "name": "stdout"
        },
        {
          "output_type": "execute_result",
          "data": {
            "text/plain": [
              "0.871106664601276"
            ]
          },
          "metadata": {
            "tags": []
          },
          "execution_count": 27
        }
      ]
    },
    {
      "cell_type": "markdown",
      "metadata": {
        "id": "DZGxiQKyREFP"
      },
      "source": [
        "## 4. Pandas DataFrame\n",
        "- 판다스 데이터프레임에서 데이터 로딩\n",
        "  - Dataset.load_from_df()"
      ]
    },
    {
      "cell_type": "code",
      "metadata": {
        "colab": {
          "base_uri": "https://localhost:8080/",
          "height": 204
        },
        "id": "EQG3TpvdRBy8",
        "outputId": "4224a0e3-d5a9-4a48-e1da-9155ca3c273f"
      },
      "source": [
        "ratings = pd.read_csv(url)\n",
        "\n",
        "ratings.head()"
      ],
      "execution_count": 28,
      "outputs": [
        {
          "output_type": "execute_result",
          "data": {
            "text/html": [
              "<div>\n",
              "<style scoped>\n",
              "    .dataframe tbody tr th:only-of-type {\n",
              "        vertical-align: middle;\n",
              "    }\n",
              "\n",
              "    .dataframe tbody tr th {\n",
              "        vertical-align: top;\n",
              "    }\n",
              "\n",
              "    .dataframe thead th {\n",
              "        text-align: right;\n",
              "    }\n",
              "</style>\n",
              "<table border=\"1\" class=\"dataframe\">\n",
              "  <thead>\n",
              "    <tr style=\"text-align: right;\">\n",
              "      <th></th>\n",
              "      <th>userId</th>\n",
              "      <th>movieId</th>\n",
              "      <th>rating</th>\n",
              "      <th>timestamp</th>\n",
              "    </tr>\n",
              "  </thead>\n",
              "  <tbody>\n",
              "    <tr>\n",
              "      <th>0</th>\n",
              "      <td>1</td>\n",
              "      <td>1</td>\n",
              "      <td>4.0</td>\n",
              "      <td>964982703</td>\n",
              "    </tr>\n",
              "    <tr>\n",
              "      <th>1</th>\n",
              "      <td>1</td>\n",
              "      <td>3</td>\n",
              "      <td>4.0</td>\n",
              "      <td>964981247</td>\n",
              "    </tr>\n",
              "    <tr>\n",
              "      <th>2</th>\n",
              "      <td>1</td>\n",
              "      <td>6</td>\n",
              "      <td>4.0</td>\n",
              "      <td>964982224</td>\n",
              "    </tr>\n",
              "    <tr>\n",
              "      <th>3</th>\n",
              "      <td>1</td>\n",
              "      <td>47</td>\n",
              "      <td>5.0</td>\n",
              "      <td>964983815</td>\n",
              "    </tr>\n",
              "    <tr>\n",
              "      <th>4</th>\n",
              "      <td>1</td>\n",
              "      <td>50</td>\n",
              "      <td>5.0</td>\n",
              "      <td>964982931</td>\n",
              "    </tr>\n",
              "  </tbody>\n",
              "</table>\n",
              "</div>"
            ],
            "text/plain": [
              "   userId  movieId  rating  timestamp\n",
              "0       1        1     4.0  964982703\n",
              "1       1        3     4.0  964981247\n",
              "2       1        6     4.0  964982224\n",
              "3       1       47     5.0  964983815\n",
              "4       1       50     5.0  964982931"
            ]
          },
          "metadata": {
            "tags": []
          },
          "execution_count": 28
        }
      ]
    },
    {
      "cell_type": "code",
      "metadata": {
        "id": "D5txs7bwRdBJ"
      },
      "source": [
        "reader = Reader(rating_scale = (0.5 , 5.0)) # 스케일링"
      ],
      "execution_count": 29,
      "outputs": []
    },
    {
      "cell_type": "code",
      "metadata": {
        "id": "aueCiEBHRfhb"
      },
      "source": [
        "# ratings DataFrame에서 컬럼은 사용자 아이디, 아이템 아이디, 평점 순서 준수\n",
        "data = Dataset.load_from_df(ratings[['userId' , 'movieId' , 'rating']] , reader)"
      ],
      "execution_count": 30,
      "outputs": []
    },
    {
      "cell_type": "code",
      "metadata": {
        "id": "DRB16MkJRp6t"
      },
      "source": [
        "trainset, testset = train_test_split(data,\n",
        "                                     test_size = .3,\n",
        "                                     random_state = 2045)"
      ],
      "execution_count": 31,
      "outputs": []
    },
    {
      "cell_type": "code",
      "metadata": {
        "colab": {
          "base_uri": "https://localhost:8080/"
        },
        "id": "rcnEAD0xRtYc",
        "outputId": "50ed0557-7a14-4fc3-e26f-aff7811ec367"
      },
      "source": [
        "algo = SVD(n_factors = 50,\n",
        "           random_state = 2045)\n",
        "algo.fit(trainset)\n",
        "predictions = algo.test(testset)\n",
        "\n",
        "accuracy.rmse(predictions)"
      ],
      "execution_count": 32,
      "outputs": [
        {
          "output_type": "stream",
          "text": [
            "RMSE: 0.8711\n"
          ],
          "name": "stdout"
        },
        {
          "output_type": "execute_result",
          "data": {
            "text/plain": [
              "0.871106664601276"
            ]
          },
          "metadata": {
            "tags": []
          },
          "execution_count": 32
        }
      ]
    },
    {
      "cell_type": "markdown",
      "metadata": {
        "id": "sOVquD1rR37c"
      },
      "source": [
        "## 5. Cross Validation"
      ]
    },
    {
      "cell_type": "code",
      "metadata": {
        "colab": {
          "base_uri": "https://localhost:8080/"
        },
        "id": "u1C5DVxtR1JX",
        "outputId": "5de048cb-ccc1-421d-855c-5560b8b70061"
      },
      "source": [
        "ratings = pd.read_csv(url)\n",
        "reader = Reader(rating_scale = (0.5 , 5.0))\n",
        "data = Dataset.load_from_df(ratings[['userId' , 'movieId' , 'rating']] ,\n",
        "                            reader)\n",
        "\n",
        "algo = SVD(random_state = 2045)\n",
        "\n",
        "cross_validate(algo,\n",
        "               data,\n",
        "               measures = ['rmse' , 'mae'],\n",
        "               cv = 5,\n",
        "               verbose = True)"
      ],
      "execution_count": 35,
      "outputs": [
        {
          "output_type": "stream",
          "text": [
            "Evaluating RMSE, MAE of algorithm SVD on 5 split(s).\n",
            "\n",
            "                  Fold 1  Fold 2  Fold 3  Fold 4  Fold 5  Mean    Std     \n",
            "RMSE (testset)    0.8728  0.8701  0.8703  0.8767  0.8741  0.8728  0.0024  \n",
            "MAE (testset)     0.6705  0.6675  0.6692  0.6746  0.6730  0.6710  0.0025  \n",
            "Fit time          4.87    4.97    4.90    4.93    4.84    4.90    0.04    \n",
            "Test time         0.18    0.27    0.15    0.26    0.14    0.20    0.05    \n"
          ],
          "name": "stdout"
        },
        {
          "output_type": "execute_result",
          "data": {
            "text/plain": [
              "{'fit_time': (4.874661922454834,\n",
              "  4.9717795848846436,\n",
              "  4.899579286575317,\n",
              "  4.926001071929932,\n",
              "  4.844465017318726),\n",
              " 'test_mae': array([0.67052039, 0.6675412 , 0.66924214, 0.67460275, 0.67301894]),\n",
              " 'test_rmse': array([0.8728324 , 0.87013893, 0.87033857, 0.87666802, 0.87412119]),\n",
              " 'test_time': (0.1797018051147461,\n",
              "  0.27170252799987793,\n",
              "  0.15190720558166504,\n",
              "  0.26226043701171875,\n",
              "  0.14347076416015625)}"
            ]
          },
          "metadata": {
            "tags": []
          },
          "execution_count": 35
        }
      ]
    },
    {
      "cell_type": "markdown",
      "metadata": {
        "id": "vp9EIDr3SZOI"
      },
      "source": [
        "## 6. Hyperparameter Tuning\n",
        "- GridSearchCV()\n",
        "  - 약 5분"
      ]
    },
    {
      "cell_type": "code",
      "metadata": {
        "colab": {
          "base_uri": "https://localhost:8080/"
        },
        "id": "wmgElMzySWpg",
        "outputId": "36eb5d81-8ec7-4a16-b9d9-5f5a7e6655da"
      },
      "source": [
        "%%time\n",
        "\n",
        "# 하이퍼파라미터 딕셔너리 형태 지정\n",
        "param_grid = {'n_epochs' : [20, 40, 60],      # SGD 수행 시 반복 횟수\n",
        "              'n_factors' : [50, 100, 200]}   # 잠재요인(K) 크기\n",
        "\n",
        "gs = GridSearchCV(SVD,\n",
        "                  param_grid,\n",
        "                  measures = ['rmse' , 'mae'],\n",
        "                  cv = 3)\n",
        "\n",
        "gs.fit(data)"
      ],
      "execution_count": 37,
      "outputs": [
        {
          "output_type": "stream",
          "text": [
            "CPU times: user 4min 13s, sys: 650 ms, total: 4min 14s\n",
            "Wall time: 4min 14s\n"
          ],
          "name": "stdout"
        }
      ]
    },
    {
      "cell_type": "markdown",
      "metadata": {
        "id": "W54zkL_hTE2y"
      },
      "source": [
        "- 결과 확인"
      ]
    },
    {
      "cell_type": "code",
      "metadata": {
        "colab": {
          "base_uri": "https://localhost:8080/"
        },
        "id": "3CMzmC7zTBuv",
        "outputId": "75a15439-5a71-40a7-eac9-8f1f14b3279f"
      },
      "source": [
        "print('최저 RMSE 점수: ' , gs.best_score['rmse'])\n",
        "print('최적 하이퍼파라미터 조합: ' , gs.best_params['rmse'])"
      ],
      "execution_count": 38,
      "outputs": [
        {
          "output_type": "stream",
          "text": [
            "최저 RMSE 점수:  0.87688270774449\n",
            "최적 하이퍼파라미터 조합:  {'n_epochs': 20, 'n_factors': 50}\n"
          ],
          "name": "stdout"
        }
      ]
    },
    {
      "cell_type": "markdown",
      "metadata": {
        "id": "qBCWqsduTOby"
      },
      "source": [
        "## 7. 개인화 영화 추천"
      ]
    },
    {
      "cell_type": "markdown",
      "metadata": {
        "id": "f0jCtfSrTQFk"
      },
      "source": [
        "### 1) Train Dataset\n",
        "- 'ratings_noh.csv'"
      ]
    },
    {
      "cell_type": "code",
      "metadata": {
        "id": "BWn_MLGaTUh6"
      },
      "source": [
        "reader = Reader(line_format = 'user item rating timestamp' ,\n",
        "                sep = ',' ,\n",
        "                rating_scale = (0.5 , 5))\n",
        "\n",
        "# 'ratings_noh.csv' 파일로 DatasetAutoFolds 클래스 생성\n",
        "data_folds = DatasetAutoFolds(ratings_file = 'ratings_noh.csv' ,\n",
        "                              reader = reader)\n",
        "\n",
        "# 전체 데이터를 학습데이터로 생성\n",
        "trainset = data_folds.build_full_trainset()"
      ],
      "execution_count": 41,
      "outputs": []
    },
    {
      "cell_type": "markdown",
      "metadata": {
        "id": "A3cKRMsgTxcY"
      },
      "source": [
        "### 2) 영화 정보 확인\n",
        "- 사용자가 아직 평점을 매기지 않은 영화\n",
        "  - 'userId' == 9\n",
        "  - 'movieId' == 42"
      ]
    },
    {
      "cell_type": "code",
      "metadata": {
        "colab": {
          "base_uri": "https://localhost:8080/"
        },
        "id": "YyrwFppuT5Ns",
        "outputId": "63725ab7-b249-459d-fe34-0327e12fd0a2"
      },
      "source": [
        "murl = 'https://raw.githubusercontent.com/rusita-ai/pyData/master/movies.csv'\n",
        "movies = pd.read_csv(murl)\n",
        "\n",
        "# userId 9의 movieId 데이터 추출\n",
        "# movieId 42의 데이터 확인\n",
        "movieIds = ratings[ratings['userId'] == 9]['movieId']\n",
        "\n",
        "if movieIds[movieIds == 42].count() == 0:\n",
        "  print('사용자 아이디 9는 영화 아이디 42의 평점 없음' , '\\n')\n",
        "\n",
        "print(movies[movies['movieId'] == 42])"
      ],
      "execution_count": 43,
      "outputs": [
        {
          "output_type": "stream",
          "text": [
            "사용자 아이디 9는 영화 아이디 42의 평점 없음 \n",
            "\n",
            "    movieId                   title              genres\n",
            "38       42  Dead Presidents (1995)  Action|Crime|Drama\n"
          ],
          "name": "stdout"
        }
      ]
    },
    {
      "cell_type": "markdown",
      "metadata": {
        "id": "Bl4L7nlXUmzv"
      },
      "source": [
        "### 3) SVD - fit()\n",
        "- 추천 알고리즘 학습"
      ]
    },
    {
      "cell_type": "code",
      "metadata": {
        "colab": {
          "base_uri": "https://localhost:8080/"
        },
        "id": "PhppxDLSUg48",
        "outputId": "2ae2cc4f-8bc8-492a-ccd5-fc1b45f88234"
      },
      "source": [
        "algo = SVD(n_epochs = 20,\n",
        "           n_factors = 50,\n",
        "           random_state = 2045)\n",
        "algo.fit(trainset)"
      ],
      "execution_count": 44,
      "outputs": [
        {
          "output_type": "execute_result",
          "data": {
            "text/plain": [
              "<surprise.prediction_algorithms.matrix_factorization.SVD at 0x7f8a06d0a5d0>"
            ]
          },
          "metadata": {
            "tags": []
          },
          "execution_count": 44
        }
      ]
    },
    {
      "cell_type": "markdown",
      "metadata": {
        "id": "SsnGcSbiUv82"
      },
      "source": [
        "### 4) SVD - predict()\n",
        "- 개별 사용자의 아이템에 대한 추천 평점 예측(est = 2.96)\n",
        "  - 'uid', 'iid'는 문자열로 입력\n",
        "  - 'r_ui': 기존 평점 정보는 선택사항"
      ]
    },
    {
      "cell_type": "code",
      "metadata": {
        "colab": {
          "base_uri": "https://localhost:8080/"
        },
        "id": "5isIKF0HUvKn",
        "outputId": "b13b8c26-f8e8-419c-a34d-0c769bc1eaa5"
      },
      "source": [
        "uid = str(9)\n",
        "iid = str(42)\n",
        "\n",
        "pred = algo.predict(uid, iid, verbose = True)"
      ],
      "execution_count": 45,
      "outputs": [
        {
          "output_type": "stream",
          "text": [
            "user: 9          item: 42         r_ui = None   est = 2.96   {'was_impossible': False}\n"
          ],
          "name": "stdout"
        }
      ]
    },
    {
      "cell_type": "markdown",
      "metadata": {
        "id": "6xZ1vkTtVBEi"
      },
      "source": [
        "### 5) get_unseen_surprise()\n",
        "- 사용자가 평점을 주지 않은 영화 목록을 반환\n",
        "  - 사용자가 이미 평점을 준 영화 목록을 제거"
      ]
    },
    {
      "cell_type": "code",
      "metadata": {
        "id": "8Wv9AwZXU_Br"
      },
      "source": [
        "def get_unseen_surprise(ratings, movies, userId) :\n",
        "  \n",
        "  # 'userId' 사용자가 평점을 매긴 모든 영화 리스트를 생성\n",
        "  seen_movies = ratings[ratings['userId'] == userId]['movieId'].tolist()\n",
        "\n",
        "  # 모든 영화 movieId 리스트 생성\n",
        "  total_movies = movies['movieId'].tolist()\n",
        "\n",
        "  # 모든 영화 movieId 중 이미 평점을 매긴 영화의 movieId를 제외하고 리스트 생성\n",
        "  unseen_movies = [movie for movie in total_movies if movie not in seen_movies]\n",
        "\n",
        "  print(' 평점 매긴 영화 수: ' , len(seen_movies), '\\n' ,\n",
        "        '추천대상 영화 수: ' , len(unseen_movies), '\\n' ,\n",
        "        '전체 영화 수: ' , len(total_movies))\n",
        "  \n",
        "  return unseen_movies "
      ],
      "execution_count": 50,
      "outputs": []
    },
    {
      "cell_type": "code",
      "metadata": {
        "colab": {
          "base_uri": "https://localhost:8080/"
        },
        "id": "5g4EH-mIVvRy",
        "outputId": "1a690622-640e-4bdf-b69a-f9857c9e7d58"
      },
      "source": [
        "unseen_movies = get_unseen_surprise(ratings, movies, 9)"
      ],
      "execution_count": 51,
      "outputs": [
        {
          "output_type": "stream",
          "text": [
            " 평점 매긴 영화 수:  46 \n",
            " 추천대상 영화 수:  9696 \n",
            " 전체 영화 수:  9742\n"
          ],
          "name": "stdout"
        }
      ]
    },
    {
      "cell_type": "markdown",
      "metadata": {
        "id": "izZOQy68V51B"
      },
      "source": [
        "### 6) recomm_movie_by_surprise()\n",
        "- 최종적으로 사용자에게 영화를 추천\n",
        "  - top-10"
      ]
    },
    {
      "cell_type": "code",
      "metadata": {
        "id": "Xsx-3oimVwrn"
      },
      "source": [
        "def recomm_movie_by_surprise(algo, userId, unseen_movies, top_n = 10) :\n",
        "\n",
        "  # predict()를 평점이 없는 영화에 반복 수행한 후 결과를 List 객체로 저장\n",
        "  predictions = [ algo.predict(str(userId) , str(movieId)) \\\n",
        "                 for movieId in unseen_movies]\n",
        "\n",
        "  # predictions List 객체는 surprise의 Predictions 객체를 원소를 가지고 있음\n",
        "  # [Predictions(uid='9', iid='1', est=3.69), Prediction(uid='9', iid='2', est=2.98)]\n",
        "\n",
        "  # 'est'값으로 정렬하기 위해서 sortkey_est() 함수 정의\n",
        "  # sortkey_est() 함수는 List 객체의 sort() 함수의 키 값으로 정렬 수행\n",
        "\n",
        "  def sortkey_est(pred):\n",
        "    return pred.est\n",
        "\n",
        "  # sortkey_est() 반환값의 내림차순으로 정렬하고 top_N개의 최상위 값 추출\n",
        "  predictions.sort(key = sortkey_est, reverse = True)\n",
        "  top_predictions = predictions[:top_n]\n",
        "\n",
        "  # top_N으로 추출된 영화의 정보 추출\n",
        "  # 영화아이디, 추천 예상 평점, 영화 제목\n",
        "  top_movie_ids = [int(pred.iid) for pred in top_predictions]\n",
        "  top_movie_rating = [pred.est for pred in top_predictions]\n",
        "  top_movie_titles = movies[movies.movieId.isin(top_movie_ids)]['title']\n",
        "  top_movie_preds = [(id, title, rating) for id, title, rating in \\\n",
        "                     zip(top_movie_ids, top_movie_titles, top_movie_rating)]\n",
        "\n",
        "  return top_movie_preds"
      ],
      "execution_count": 54,
      "outputs": []
    },
    {
      "cell_type": "markdown",
      "metadata": {
        "id": "7nvm2-wLcI5a"
      },
      "source": [
        "### 7) 최종 추천 결과"
      ]
    },
    {
      "cell_type": "code",
      "metadata": {
        "colab": {
          "base_uri": "https://localhost:8080/"
        },
        "id": "nK2kWooGcIKX",
        "outputId": "f1603240-d346-4fc6-996e-f7fd32588537"
      },
      "source": [
        "top_movie_preds = recomm_movie_by_surprise(algo,\n",
        "                                           9,\n",
        "                                           unseen_movies,\n",
        "                                           top_n = 10)\n",
        "\n",
        "print('Top-10 추천 영화 리스트' , '\\n')\n",
        "\n",
        "for top_movie in top_movie_preds:\n",
        "  print(top_movie[1] , ':' , top_movie[2])"
      ],
      "execution_count": 55,
      "outputs": [
        {
          "output_type": "stream",
          "text": [
            "Top-10 추천 영화 리스트 \n",
            "\n",
            "Pulp Fiction (1994) : 4.292320110925793\n",
            "Shawshank Redemption, The (1994) : 4.280575006684376\n",
            "Schindler's List (1993) : 4.223054673027752\n",
            "Dr. Strangelove or: How I Learned to Stop Worrying and Love the Bomb (1964) : 4.191859292988541\n",
            "Godfather, The (1972) : 4.191330334239697\n",
            "Rear Window (1954) : 4.175787864055172\n",
            "Monty Python and the Holy Grail (1975) : 4.167985211593734\n",
            "Lawrence of Arabia (1962) : 4.139061529698701\n",
            "Goodfellas (1990) : 4.133207055423318\n",
            "Fight Club (1999) : 4.131297142412626\n"
          ],
          "name": "stdout"
        }
      ]
    },
    {
      "cell_type": "code",
      "metadata": {
        "id": "xgxfnemgccHe"
      },
      "source": [
        ""
      ],
      "execution_count": null,
      "outputs": []
    }
  ]
}