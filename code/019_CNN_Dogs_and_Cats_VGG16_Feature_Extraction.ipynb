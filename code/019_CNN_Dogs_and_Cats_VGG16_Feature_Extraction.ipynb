{
  "nbformat": 4,
  "nbformat_minor": 0,
  "metadata": {
    "colab": {
      "name": "019_CNN_Dogs_and_Cats_VGG16_Feature_Extraction.ipynb",
      "provenance": []
    },
    "kernelspec": {
      "name": "python3",
      "display_name": "Python 3"
    },
    "language_info": {
      "name": "python"
    },
    "accelerator": "GPU"
  },
  "cells": [
    {
      "cell_type": "code",
      "metadata": {
        "id": "BC0UJfYpksre"
      },
      "source": [
        "import warnings\n",
        "warnings.filterwarnings('ignore')"
      ],
      "execution_count": 1,
      "outputs": []
    },
    {
      "cell_type": "code",
      "metadata": {
        "id": "LAFwtORYlCs-"
      },
      "source": [
        "import matplotlib.pyplot as plt\n",
        "import pandas as pd\n",
        "import numpy as np"
      ],
      "execution_count": 2,
      "outputs": []
    },
    {
      "cell_type": "code",
      "metadata": {
        "id": "p_YarlfElGoq"
      },
      "source": [
        "import keras\n",
        "from keras.applications import VGG16\n",
        "from keras.utils import to_categorical\n",
        "from keras import models\n",
        "from keras import layers\n",
        "\n",
        "from keras.models import load_model\n",
        "from keras import backend as K\n",
        "\n",
        "from keras.preprocessing.image import ImageDataGenerator\n",
        "\n",
        "from keras.callbacks import EarlyStopping, ModelCheckpoint"
      ],
      "execution_count": 13,
      "outputs": []
    },
    {
      "cell_type": "code",
      "metadata": {
        "id": "lcXHzb6NlH9R"
      },
      "source": [
        "import tensorflow as tf"
      ],
      "execution_count": 4,
      "outputs": []
    },
    {
      "cell_type": "code",
      "metadata": {
        "id": "QYAuB31jlJRh"
      },
      "source": [
        "from sklearn.model_selection import train_test_split\n",
        "from sklearn.preprocessing import LabelEncoder"
      ],
      "execution_count": 5,
      "outputs": []
    },
    {
      "cell_type": "code",
      "metadata": {
        "colab": {
          "base_uri": "https://localhost:8080/"
        },
        "id": "18hW-tTolKt9",
        "outputId": "35b2a293-155c-4422-a5a5-48a2d2c5ae77"
      },
      "source": [
        "tf.test.gpu_device_name()\n",
        "\n",
        "!nvidia-smi"
      ],
      "execution_count": 6,
      "outputs": [
        {
          "output_type": "stream",
          "text": [
            "Wed Mar 24 04:53:45 2021       \n",
            "+-----------------------------------------------------------------------------+\n",
            "| NVIDIA-SMI 460.56       Driver Version: 460.32.03    CUDA Version: 11.2     |\n",
            "|-------------------------------+----------------------+----------------------+\n",
            "| GPU  Name        Persistence-M| Bus-Id        Disp.A | Volatile Uncorr. ECC |\n",
            "| Fan  Temp  Perf  Pwr:Usage/Cap|         Memory-Usage | GPU-Util  Compute M. |\n",
            "|                               |                      |               MIG M. |\n",
            "|===============================+======================+======================|\n",
            "|   0  Tesla T4            Off  | 00000000:00:04.0 Off |                    0 |\n",
            "| N/A   59C    P0    29W /  70W |    222MiB / 15109MiB |      0%      Default |\n",
            "|                               |                      |                  N/A |\n",
            "+-------------------------------+----------------------+----------------------+\n",
            "                                                                               \n",
            "+-----------------------------------------------------------------------------+\n",
            "| Processes:                                                                  |\n",
            "|  GPU   GI   CI        PID   Type   Process name                  GPU Memory |\n",
            "|        ID   ID                                                   Usage      |\n",
            "|=============================================================================|\n",
            "+-----------------------------------------------------------------------------+\n"
          ],
          "name": "stdout"
        }
      ]
    },
    {
      "cell_type": "code",
      "metadata": {
        "colab": {
          "base_uri": "https://localhost:8080/"
        },
        "id": "vZrnjK81lMNk",
        "outputId": "47c4ee9f-76d4-436e-9795-1aee6a8efff1"
      },
      "source": [
        "from google.colab import drive\n",
        "\n",
        "drive.mount('/content/drive')"
      ],
      "execution_count": 7,
      "outputs": [
        {
          "output_type": "stream",
          "text": [
            "Mounted at /content/drive\n"
          ],
          "name": "stdout"
        }
      ]
    },
    {
      "cell_type": "code",
      "metadata": {
        "colab": {
          "base_uri": "https://localhost:8080/"
        },
        "id": "scdiepC2lRTr",
        "outputId": "798bb3e2-8f65-416a-a0e8-6e2b966e7500"
      },
      "source": [
        "!ls -l '/content/drive/My Drive/Colab Notebooks/datasets/dogs_and_cats_small.zip'"
      ],
      "execution_count": 8,
      "outputs": [
        {
          "output_type": "stream",
          "text": [
            "-rw------- 1 root root 90618980 Mar  4 04:51 '/content/drive/My Drive/Colab Notebooks/datasets/dogs_and_cats_small.zip'\n"
          ],
          "name": "stdout"
        }
      ]
    },
    {
      "cell_type": "code",
      "metadata": {
        "id": "q1VXuXJrlakf"
      },
      "source": [
        "!unzip /content/drive/My\\ Drive/Colab\\ Notebooks/datasets/dogs_and_cats_small.zip"
      ],
      "execution_count": null,
      "outputs": []
    },
    {
      "cell_type": "code",
      "metadata": {
        "colab": {
          "base_uri": "https://localhost:8080/"
        },
        "id": "6dDhBpfdlgwu",
        "outputId": "cb732fca-551f-4950-f63d-f700fcc10212"
      },
      "source": [
        "!ls -l"
      ],
      "execution_count": 11,
      "outputs": [
        {
          "output_type": "stream",
          "text": [
            "total 20\n",
            "drwx------ 5 root root 4096 Mar 24 04:54 drive\n",
            "drwxr-xr-x 1 root root 4096 Mar 18 13:36 sample_data\n",
            "drwxr-xr-x 4 root root 4096 Mar 24 04:55 test\n",
            "drwxr-xr-x 4 root root 4096 Mar 24 04:55 train\n",
            "drwxr-xr-x 4 root root 4096 Mar 24 04:55 validation\n"
          ],
          "name": "stdout"
        }
      ]
    },
    {
      "cell_type": "code",
      "metadata": {
        "id": "3P6EaowDlmHN"
      },
      "source": [
        "train_dir = 'train'\n",
        "valid_dir = 'validation'\n",
        "test_dir = 'test'"
      ],
      "execution_count": 12,
      "outputs": []
    },
    {
      "cell_type": "markdown",
      "metadata": {
        "id": "EGvA8SDvlrxY"
      },
      "source": [
        "## Import VGG16 Model"
      ]
    },
    {
      "cell_type": "code",
      "metadata": {
        "colab": {
          "base_uri": "https://localhost:8080/"
        },
        "id": "vldue7oQlq8u",
        "outputId": "2e6f0722-8dc0-47f1-e9c4-325b1bc26b4b"
      },
      "source": [
        "conv_base = VGG16(weights = 'imagenet' ,\n",
        "                  include_top = False,           # DNN 층은 새로 만들겠다\n",
        "                  input_shape = (150, 150, 3))    # input_shape = (150, 150, 3) 으로 지정해준다"
      ],
      "execution_count": 15,
      "outputs": [
        {
          "output_type": "stream",
          "text": [
            "Downloading data from https://storage.googleapis.com/tensorflow/keras-applications/vgg16/vgg16_weights_tf_dim_ordering_tf_kernels_notop.h5\n",
            "58892288/58889256 [==============================] - 0s 0us/step\n"
          ],
          "name": "stdout"
        }
      ]
    },
    {
      "cell_type": "code",
      "metadata": {
        "colab": {
          "base_uri": "https://localhost:8080/"
        },
        "id": "tT6dU_LKmR0F",
        "outputId": "84011d37-3bd2-4712-a1e1-7dc76e3f753d"
      },
      "source": [
        "conv_base.summary()\n",
        "# 16개 층 중 dnn을 제외하고 13개 층이 로드"
      ],
      "execution_count": 16,
      "outputs": [
        {
          "output_type": "stream",
          "text": [
            "Model: \"vgg16\"\n",
            "_________________________________________________________________\n",
            "Layer (type)                 Output Shape              Param #   \n",
            "=================================================================\n",
            "input_1 (InputLayer)         [(None, 150, 150, 3)]     0         \n",
            "_________________________________________________________________\n",
            "block1_conv1 (Conv2D)        (None, 150, 150, 64)      1792      \n",
            "_________________________________________________________________\n",
            "block1_conv2 (Conv2D)        (None, 150, 150, 64)      36928     \n",
            "_________________________________________________________________\n",
            "block1_pool (MaxPooling2D)   (None, 75, 75, 64)        0         \n",
            "_________________________________________________________________\n",
            "block2_conv1 (Conv2D)        (None, 75, 75, 128)       73856     \n",
            "_________________________________________________________________\n",
            "block2_conv2 (Conv2D)        (None, 75, 75, 128)       147584    \n",
            "_________________________________________________________________\n",
            "block2_pool (MaxPooling2D)   (None, 37, 37, 128)       0         \n",
            "_________________________________________________________________\n",
            "block3_conv1 (Conv2D)        (None, 37, 37, 256)       295168    \n",
            "_________________________________________________________________\n",
            "block3_conv2 (Conv2D)        (None, 37, 37, 256)       590080    \n",
            "_________________________________________________________________\n",
            "block3_conv3 (Conv2D)        (None, 37, 37, 256)       590080    \n",
            "_________________________________________________________________\n",
            "block3_pool (MaxPooling2D)   (None, 18, 18, 256)       0         \n",
            "_________________________________________________________________\n",
            "block4_conv1 (Conv2D)        (None, 18, 18, 512)       1180160   \n",
            "_________________________________________________________________\n",
            "block4_conv2 (Conv2D)        (None, 18, 18, 512)       2359808   \n",
            "_________________________________________________________________\n",
            "block4_conv3 (Conv2D)        (None, 18, 18, 512)       2359808   \n",
            "_________________________________________________________________\n",
            "block4_pool (MaxPooling2D)   (None, 9, 9, 512)         0         \n",
            "_________________________________________________________________\n",
            "block5_conv1 (Conv2D)        (None, 9, 9, 512)         2359808   \n",
            "_________________________________________________________________\n",
            "block5_conv2 (Conv2D)        (None, 9, 9, 512)         2359808   \n",
            "_________________________________________________________________\n",
            "block5_conv3 (Conv2D)        (None, 9, 9, 512)         2359808   \n",
            "_________________________________________________________________\n",
            "block5_pool (MaxPooling2D)   (None, 4, 4, 512)         0         \n",
            "=================================================================\n",
            "Total params: 14,714,688\n",
            "Trainable params: 14,714,688\n",
            "Non-trainable params: 0\n",
            "_________________________________________________________________\n"
          ],
          "name": "stdout"
        }
      ]
    },
    {
      "cell_type": "markdown",
      "metadata": {
        "id": "ioL37qBumbEE"
      },
      "source": [
        "## 1. Feature Extraction"
      ]
    },
    {
      "cell_type": "markdown",
      "metadata": {
        "id": "ufKEC4fCmj56"
      },
      "source": [
        "### 1) 특징추출 함수 정의: extract_feature()\n",
        "- conv_base.predict()"
      ]
    },
    {
      "cell_type": "code",
      "metadata": {
        "id": "ctNOZZ0UmUj7"
      },
      "source": [
        "datagen = ImageDataGenerator(rescale = 1./255)\n",
        "\n",
        "batch_size = 20\n",
        "\n",
        "def extract_features(directory, sample_count) :\n",
        "  features = np.zeros(shape = (sample_count, 4, 4, 512))\n",
        "  labels = np.zeros(shape = (sample_count))\n",
        "\n",
        "  generator = datagen.flow_from_directory(directory,\n",
        "                                          target_size = (150, 150),\n",
        "                                          batch_size = batch_size,\n",
        "                                          class_mode = 'binary')\n",
        "\n",
        "  i = 0\n",
        "  for inputs_batch, labels_batch in generator :\n",
        "    feature_batch = conv_base.predict(inputs_batch)\n",
        "    # conv_base를 통과시킴\n",
        "    # 학습을 하는 것이 아니라, 학습된 파라미터로 연산된 특징맵이 나오게 됨\n",
        "\n",
        "    features[i * batch_size : (i + 1) * batch_size] = feature_batch\n",
        "    labels[i * batch_size : (i + 1) * batch_size] = labels_batch\n",
        "    i += 1\n",
        "    if i * batch_size >= sample_count:\n",
        "      break\n",
        "\n",
        "  return features, labels"
      ],
      "execution_count": 18,
      "outputs": []
    },
    {
      "cell_type": "markdown",
      "metadata": {
        "id": "PHH8MHTAn5Bd"
      },
      "source": [
        "### 2) 특징추출 함수 적용"
      ]
    },
    {
      "cell_type": "code",
      "metadata": {
        "colab": {
          "base_uri": "https://localhost:8080/"
        },
        "id": "iLezEYP1n1B2",
        "outputId": "77b299de-71d9-4f35-8d70-72cc56f57cbc"
      },
      "source": [
        "%%time\n",
        "\n",
        "train_features, train_labels = extract_features(train_dir, 2000)\n",
        "valid_features, valid_labels = extract_features(valid_dir, 1000)\n",
        "test_features, test_labels = extract_features(test_dir, 1000)"
      ],
      "execution_count": 19,
      "outputs": [
        {
          "output_type": "stream",
          "text": [
            "Found 2000 images belonging to 2 classes.\n",
            "Found 1000 images belonging to 2 classes.\n",
            "Found 1000 images belonging to 2 classes.\n",
            "CPU times: user 24.4 s, sys: 6.72 s, total: 31.1 s\n",
            "Wall time: 59.7 s\n"
          ],
          "name": "stdout"
        }
      ]
    },
    {
      "cell_type": "code",
      "metadata": {
        "colab": {
          "base_uri": "https://localhost:8080/"
        },
        "id": "0X06uZsHo7NB",
        "outputId": "f6411abb-7aea-47f2-f9c0-98930d52a035"
      },
      "source": [
        "train_features.shape, valid_features.shape, test_features.shape\n",
        "# (4, 4, 512) 이므로 4 * 4 * 512, 이것이 강아지인지 고양이인지 확인만 하면 된다\n",
        "# 매트릭스 연산만 하는 것"
      ],
      "execution_count": 22,
      "outputs": [
        {
          "output_type": "execute_result",
          "data": {
            "text/plain": [
              "((2000, 4, 4, 512), (1000, 4, 4, 512), (1000, 4, 4, 512))"
            ]
          },
          "metadata": {
            "tags": []
          },
          "execution_count": 22
        }
      ]
    },
    {
      "cell_type": "markdown",
      "metadata": {
        "id": "6Q42DLZ0pWB7"
      },
      "source": [
        "### 3) Reshape Features\n",
        "- for classification network"
      ]
    },
    {
      "cell_type": "code",
      "metadata": {
        "id": "H2L8JVWwo-k1"
      },
      "source": [
        "train_features = np.reshape(train_features, (2000, 4 * 4 * 512))\n",
        "valid_features = np.reshape(valid_features, (1000, 4 * 4 * 512))\n",
        "test_features = np.reshape(test_features, (1000, 4 * 4 * 512))"
      ],
      "execution_count": 23,
      "outputs": []
    },
    {
      "cell_type": "code",
      "metadata": {
        "colab": {
          "base_uri": "https://localhost:8080/"
        },
        "id": "M-0YfSinp3rD",
        "outputId": "df21f3ea-303c-4f02-c71a-56103e78e669"
      },
      "source": [
        "train_features.shape, valid_features.shape, test_features.shape"
      ],
      "execution_count": 24,
      "outputs": [
        {
          "output_type": "execute_result",
          "data": {
            "text/plain": [
              "((2000, 8192), (1000, 8192), (1000, 8192))"
            ]
          },
          "metadata": {
            "tags": []
          },
          "execution_count": 24
        }
      ]
    },
    {
      "cell_type": "markdown",
      "metadata": {
        "id": "qT7D9KeypJ4s"
      },
      "source": [
        "## 2. Keras CNN Modeling with VGG-16 Featured Data"
      ]
    },
    {
      "cell_type": "markdown",
      "metadata": {
        "id": "hhaggqz3qCUE"
      },
      "source": [
        "### 1) Model Define\n",
        "- classification network only\n",
        "- Dropout Layer"
      ]
    },
    {
      "cell_type": "code",
      "metadata": {
        "id": "AK_6M7KeqBvz"
      },
      "source": [
        "model = models.Sequential()\n",
        "\n",
        "model.add(layers.Dense(256, activation = 'relu', input_dim = 4 * 4 * 512))\n",
        "model.add(layers.Dropout(0.5)) \n",
        "model.add(layers.Dense(1, activation = 'sigmoid'))"
      ],
      "execution_count": 25,
      "outputs": []
    },
    {
      "cell_type": "code",
      "metadata": {
        "colab": {
          "base_uri": "https://localhost:8080/"
        },
        "id": "Pvel8SxqqT58",
        "outputId": "76886e26-e146-46d0-f21f-639be9eb0510"
      },
      "source": [
        "model.summary()"
      ],
      "execution_count": 26,
      "outputs": [
        {
          "output_type": "stream",
          "text": [
            "Model: \"sequential\"\n",
            "_________________________________________________________________\n",
            "Layer (type)                 Output Shape              Param #   \n",
            "=================================================================\n",
            "dense (Dense)                (None, 256)               2097408   \n",
            "_________________________________________________________________\n",
            "dropout (Dropout)            (None, 256)               0         \n",
            "_________________________________________________________________\n",
            "dense_1 (Dense)              (None, 1)                 257       \n",
            "=================================================================\n",
            "Total params: 2,097,665\n",
            "Trainable params: 2,097,665\n",
            "Non-trainable params: 0\n",
            "_________________________________________________________________\n"
          ],
          "name": "stdout"
        }
      ]
    },
    {
      "cell_type": "markdown",
      "metadata": {
        "id": "9bjEXUXgqXEu"
      },
      "source": [
        "### 2) Model Compile"
      ]
    },
    {
      "cell_type": "code",
      "metadata": {
        "id": "a9Er6yXEqUrP"
      },
      "source": [
        "model.compile(loss = 'binary_crossentropy' ,\n",
        "              optimizer = 'adam' ,\n",
        "              metrics = ['accuracy'])"
      ],
      "execution_count": 27,
      "outputs": []
    },
    {
      "cell_type": "markdown",
      "metadata": {
        "id": "5NknkrgAqelE"
      },
      "source": [
        "### 3) Model Fit"
      ]
    },
    {
      "cell_type": "code",
      "metadata": {
        "colab": {
          "base_uri": "https://localhost:8080/"
        },
        "id": "JELkxEoEqeAg",
        "outputId": "a6c43d94-e318-479c-8fd0-4bb57e06d197"
      },
      "source": [
        "Hist_dandc = model.fit(train_features, train_labels,\n",
        "                       epochs = 100,\n",
        "                       batch_size = 20,\n",
        "                       validation_data = (valid_features, valid_labels))"
      ],
      "execution_count": 28,
      "outputs": [
        {
          "output_type": "stream",
          "text": [
            "Epoch 1/100\n",
            "100/100 [==============================] - 1s 5ms/step - loss: 0.6009 - accuracy: 0.7508 - val_loss: 0.3431 - val_accuracy: 0.8460\n",
            "Epoch 2/100\n",
            "100/100 [==============================] - 0s 4ms/step - loss: 0.2651 - accuracy: 0.9025 - val_loss: 0.2804 - val_accuracy: 0.8770\n",
            "Epoch 3/100\n",
            "100/100 [==============================] - 0s 4ms/step - loss: 0.2008 - accuracy: 0.9220 - val_loss: 0.2685 - val_accuracy: 0.8890\n",
            "Epoch 4/100\n",
            "100/100 [==============================] - 0s 3ms/step - loss: 0.1716 - accuracy: 0.9292 - val_loss: 0.3129 - val_accuracy: 0.8720\n",
            "Epoch 5/100\n",
            "100/100 [==============================] - 0s 4ms/step - loss: 0.1494 - accuracy: 0.9424 - val_loss: 0.2523 - val_accuracy: 0.9050\n",
            "Epoch 6/100\n",
            "100/100 [==============================] - 0s 3ms/step - loss: 0.1131 - accuracy: 0.9582 - val_loss: 0.2608 - val_accuracy: 0.9020\n",
            "Epoch 7/100\n",
            "100/100 [==============================] - 0s 3ms/step - loss: 0.0795 - accuracy: 0.9667 - val_loss: 0.2938 - val_accuracy: 0.8830\n",
            "Epoch 8/100\n",
            "100/100 [==============================] - 0s 3ms/step - loss: 0.0899 - accuracy: 0.9668 - val_loss: 0.2736 - val_accuracy: 0.9110\n",
            "Epoch 9/100\n",
            "100/100 [==============================] - 0s 4ms/step - loss: 0.0573 - accuracy: 0.9793 - val_loss: 0.2887 - val_accuracy: 0.9020\n",
            "Epoch 10/100\n",
            "100/100 [==============================] - 0s 4ms/step - loss: 0.0488 - accuracy: 0.9796 - val_loss: 0.3935 - val_accuracy: 0.8740\n",
            "Epoch 11/100\n",
            "100/100 [==============================] - 0s 3ms/step - loss: 0.0601 - accuracy: 0.9781 - val_loss: 0.3049 - val_accuracy: 0.9010\n",
            "Epoch 12/100\n",
            "100/100 [==============================] - 0s 4ms/step - loss: 0.0395 - accuracy: 0.9890 - val_loss: 0.3522 - val_accuracy: 0.8980\n",
            "Epoch 13/100\n",
            "100/100 [==============================] - 0s 3ms/step - loss: 0.0328 - accuracy: 0.9898 - val_loss: 0.3812 - val_accuracy: 0.8980\n",
            "Epoch 14/100\n",
            "100/100 [==============================] - 0s 3ms/step - loss: 0.0262 - accuracy: 0.9931 - val_loss: 0.3274 - val_accuracy: 0.9040\n",
            "Epoch 15/100\n",
            "100/100 [==============================] - 0s 3ms/step - loss: 0.0313 - accuracy: 0.9922 - val_loss: 0.3730 - val_accuracy: 0.8970\n",
            "Epoch 16/100\n",
            "100/100 [==============================] - 0s 4ms/step - loss: 0.0203 - accuracy: 0.9939 - val_loss: 0.3863 - val_accuracy: 0.9010\n",
            "Epoch 17/100\n",
            "100/100 [==============================] - 0s 4ms/step - loss: 0.0164 - accuracy: 0.9938 - val_loss: 0.4525 - val_accuracy: 0.8920\n",
            "Epoch 18/100\n",
            "100/100 [==============================] - 0s 3ms/step - loss: 0.0187 - accuracy: 0.9959 - val_loss: 0.3615 - val_accuracy: 0.9070\n",
            "Epoch 19/100\n",
            "100/100 [==============================] - 0s 3ms/step - loss: 0.0284 - accuracy: 0.9898 - val_loss: 0.3559 - val_accuracy: 0.8950\n",
            "Epoch 20/100\n",
            "100/100 [==============================] - 0s 3ms/step - loss: 0.0358 - accuracy: 0.9886 - val_loss: 0.4572 - val_accuracy: 0.8830\n",
            "Epoch 21/100\n",
            "100/100 [==============================] - 0s 3ms/step - loss: 0.0449 - accuracy: 0.9800 - val_loss: 0.3812 - val_accuracy: 0.9010\n",
            "Epoch 22/100\n",
            "100/100 [==============================] - 0s 3ms/step - loss: 0.0234 - accuracy: 0.9913 - val_loss: 0.4034 - val_accuracy: 0.8980\n",
            "Epoch 23/100\n",
            "100/100 [==============================] - 0s 3ms/step - loss: 0.0360 - accuracy: 0.9875 - val_loss: 0.3827 - val_accuracy: 0.8980\n",
            "Epoch 24/100\n",
            "100/100 [==============================] - 0s 3ms/step - loss: 0.0241 - accuracy: 0.9906 - val_loss: 0.4084 - val_accuracy: 0.8910\n",
            "Epoch 25/100\n",
            "100/100 [==============================] - 0s 4ms/step - loss: 0.0330 - accuracy: 0.9873 - val_loss: 0.3975 - val_accuracy: 0.8920\n",
            "Epoch 26/100\n",
            "100/100 [==============================] - 0s 3ms/step - loss: 0.0310 - accuracy: 0.9881 - val_loss: 0.5866 - val_accuracy: 0.8840\n",
            "Epoch 27/100\n",
            "100/100 [==============================] - 0s 3ms/step - loss: 0.0299 - accuracy: 0.9906 - val_loss: 0.4028 - val_accuracy: 0.8980\n",
            "Epoch 28/100\n",
            "100/100 [==============================] - 0s 4ms/step - loss: 0.0257 - accuracy: 0.9903 - val_loss: 0.5001 - val_accuracy: 0.8990\n",
            "Epoch 29/100\n",
            "100/100 [==============================] - 0s 3ms/step - loss: 0.0145 - accuracy: 0.9942 - val_loss: 0.4883 - val_accuracy: 0.8940\n",
            "Epoch 30/100\n",
            "100/100 [==============================] - 0s 3ms/step - loss: 0.0135 - accuracy: 0.9951 - val_loss: 0.5048 - val_accuracy: 0.9040\n",
            "Epoch 31/100\n",
            "100/100 [==============================] - 0s 3ms/step - loss: 0.0242 - accuracy: 0.9913 - val_loss: 0.5339 - val_accuracy: 0.9020\n",
            "Epoch 32/100\n",
            "100/100 [==============================] - 0s 3ms/step - loss: 0.0237 - accuracy: 0.9914 - val_loss: 0.4839 - val_accuracy: 0.8950\n",
            "Epoch 33/100\n",
            "100/100 [==============================] - 0s 3ms/step - loss: 0.0160 - accuracy: 0.9947 - val_loss: 0.4745 - val_accuracy: 0.9000\n",
            "Epoch 34/100\n",
            "100/100 [==============================] - 0s 3ms/step - loss: 0.0218 - accuracy: 0.9905 - val_loss: 0.5167 - val_accuracy: 0.8990\n",
            "Epoch 35/100\n",
            "100/100 [==============================] - 0s 3ms/step - loss: 0.0219 - accuracy: 0.9926 - val_loss: 0.5606 - val_accuracy: 0.8900\n",
            "Epoch 36/100\n",
            "100/100 [==============================] - 0s 3ms/step - loss: 0.0480 - accuracy: 0.9819 - val_loss: 0.4150 - val_accuracy: 0.8990\n",
            "Epoch 37/100\n",
            "100/100 [==============================] - 0s 4ms/step - loss: 0.0145 - accuracy: 0.9955 - val_loss: 0.5089 - val_accuracy: 0.8800\n",
            "Epoch 38/100\n",
            "100/100 [==============================] - 0s 4ms/step - loss: 0.0087 - accuracy: 0.9965 - val_loss: 0.5323 - val_accuracy: 0.9000\n",
            "Epoch 39/100\n",
            "100/100 [==============================] - 0s 4ms/step - loss: 0.0090 - accuracy: 0.9977 - val_loss: 0.5858 - val_accuracy: 0.9000\n",
            "Epoch 40/100\n",
            "100/100 [==============================] - 0s 4ms/step - loss: 0.0087 - accuracy: 0.9959 - val_loss: 0.5343 - val_accuracy: 0.8990\n",
            "Epoch 41/100\n",
            "100/100 [==============================] - 0s 4ms/step - loss: 0.0051 - accuracy: 0.9996 - val_loss: 0.5712 - val_accuracy: 0.9040\n",
            "Epoch 42/100\n",
            "100/100 [==============================] - 0s 4ms/step - loss: 0.0040 - accuracy: 0.9993 - val_loss: 0.6269 - val_accuracy: 0.9020\n",
            "Epoch 43/100\n",
            "100/100 [==============================] - 0s 3ms/step - loss: 0.0052 - accuracy: 0.9996 - val_loss: 0.6241 - val_accuracy: 0.9070\n",
            "Epoch 44/100\n",
            "100/100 [==============================] - 0s 4ms/step - loss: 0.0065 - accuracy: 0.9967 - val_loss: 0.6215 - val_accuracy: 0.9030\n",
            "Epoch 45/100\n",
            "100/100 [==============================] - 0s 3ms/step - loss: 0.0223 - accuracy: 0.9918 - val_loss: 0.6007 - val_accuracy: 0.8980\n",
            "Epoch 46/100\n",
            "100/100 [==============================] - 0s 3ms/step - loss: 0.0362 - accuracy: 0.9908 - val_loss: 0.8364 - val_accuracy: 0.8570\n",
            "Epoch 47/100\n",
            "100/100 [==============================] - 0s 3ms/step - loss: 0.0897 - accuracy: 0.9705 - val_loss: 0.5395 - val_accuracy: 0.8920\n",
            "Epoch 48/100\n",
            "100/100 [==============================] - 0s 3ms/step - loss: 0.0419 - accuracy: 0.9831 - val_loss: 0.4838 - val_accuracy: 0.9010\n",
            "Epoch 49/100\n",
            "100/100 [==============================] - 0s 3ms/step - loss: 0.0188 - accuracy: 0.9911 - val_loss: 0.5048 - val_accuracy: 0.8980\n",
            "Epoch 50/100\n",
            "100/100 [==============================] - 0s 3ms/step - loss: 0.0181 - accuracy: 0.9917 - val_loss: 0.6525 - val_accuracy: 0.8860\n",
            "Epoch 51/100\n",
            "100/100 [==============================] - 0s 4ms/step - loss: 0.0151 - accuracy: 0.9940 - val_loss: 0.6183 - val_accuracy: 0.9010\n",
            "Epoch 52/100\n",
            "100/100 [==============================] - 0s 3ms/step - loss: 0.0119 - accuracy: 0.9957 - val_loss: 0.6572 - val_accuracy: 0.8920\n",
            "Epoch 53/100\n",
            "100/100 [==============================] - 0s 3ms/step - loss: 0.0256 - accuracy: 0.9919 - val_loss: 0.5851 - val_accuracy: 0.9010\n",
            "Epoch 54/100\n",
            "100/100 [==============================] - 0s 3ms/step - loss: 0.0129 - accuracy: 0.9952 - val_loss: 0.5689 - val_accuracy: 0.8960\n",
            "Epoch 55/100\n",
            "100/100 [==============================] - 0s 4ms/step - loss: 0.0067 - accuracy: 0.9982 - val_loss: 0.5575 - val_accuracy: 0.9070\n",
            "Epoch 56/100\n",
            "100/100 [==============================] - 0s 4ms/step - loss: 0.0119 - accuracy: 0.9967 - val_loss: 0.6081 - val_accuracy: 0.8930\n",
            "Epoch 57/100\n",
            "100/100 [==============================] - 0s 4ms/step - loss: 0.0060 - accuracy: 0.9982 - val_loss: 0.6911 - val_accuracy: 0.9020\n",
            "Epoch 58/100\n",
            "100/100 [==============================] - 0s 4ms/step - loss: 0.0112 - accuracy: 0.9955 - val_loss: 0.6468 - val_accuracy: 0.8960\n",
            "Epoch 59/100\n",
            "100/100 [==============================] - 0s 4ms/step - loss: 0.0113 - accuracy: 0.9943 - val_loss: 0.6907 - val_accuracy: 0.8980\n",
            "Epoch 60/100\n",
            "100/100 [==============================] - 0s 4ms/step - loss: 0.0164 - accuracy: 0.9941 - val_loss: 0.6167 - val_accuracy: 0.9010\n",
            "Epoch 61/100\n",
            "100/100 [==============================] - 0s 3ms/step - loss: 0.0049 - accuracy: 0.9987 - val_loss: 0.6780 - val_accuracy: 0.8880\n",
            "Epoch 62/100\n",
            "100/100 [==============================] - 0s 3ms/step - loss: 0.0038 - accuracy: 0.9998 - val_loss: 0.6526 - val_accuracy: 0.9020\n",
            "Epoch 63/100\n",
            "100/100 [==============================] - 0s 4ms/step - loss: 0.0094 - accuracy: 0.9971 - val_loss: 0.7999 - val_accuracy: 0.8770\n",
            "Epoch 64/100\n",
            "100/100 [==============================] - 0s 4ms/step - loss: 0.0388 - accuracy: 0.9870 - val_loss: 0.5897 - val_accuracy: 0.9010\n",
            "Epoch 65/100\n",
            "100/100 [==============================] - 0s 4ms/step - loss: 0.0062 - accuracy: 0.9989 - val_loss: 0.5647 - val_accuracy: 0.9090\n",
            "Epoch 66/100\n",
            "100/100 [==============================] - 0s 4ms/step - loss: 0.0080 - accuracy: 0.9972 - val_loss: 0.6414 - val_accuracy: 0.9000\n",
            "Epoch 67/100\n",
            "100/100 [==============================] - 0s 4ms/step - loss: 0.0242 - accuracy: 0.9908 - val_loss: 0.6438 - val_accuracy: 0.8990\n",
            "Epoch 68/100\n",
            "100/100 [==============================] - 0s 4ms/step - loss: 0.0154 - accuracy: 0.9953 - val_loss: 0.5723 - val_accuracy: 0.9020\n",
            "Epoch 69/100\n",
            "100/100 [==============================] - 0s 4ms/step - loss: 0.0087 - accuracy: 0.9973 - val_loss: 0.6091 - val_accuracy: 0.8990\n",
            "Epoch 70/100\n",
            "100/100 [==============================] - 0s 3ms/step - loss: 0.0041 - accuracy: 0.9991 - val_loss: 0.6586 - val_accuracy: 0.8990\n",
            "Epoch 71/100\n",
            "100/100 [==============================] - 0s 4ms/step - loss: 0.0033 - accuracy: 0.9991 - val_loss: 0.6305 - val_accuracy: 0.8980\n",
            "Epoch 72/100\n",
            "100/100 [==============================] - 0s 3ms/step - loss: 0.0083 - accuracy: 0.9981 - val_loss: 0.5944 - val_accuracy: 0.8960\n",
            "Epoch 73/100\n",
            "100/100 [==============================] - 0s 4ms/step - loss: 0.0039 - accuracy: 0.9998 - val_loss: 0.7668 - val_accuracy: 0.9050\n",
            "Epoch 74/100\n",
            "100/100 [==============================] - 0s 4ms/step - loss: 0.0043 - accuracy: 0.9972 - val_loss: 0.7728 - val_accuracy: 0.8950\n",
            "Epoch 75/100\n",
            "100/100 [==============================] - 0s 4ms/step - loss: 0.0255 - accuracy: 0.9902 - val_loss: 0.7857 - val_accuracy: 0.8990\n",
            "Epoch 76/100\n",
            "100/100 [==============================] - 0s 4ms/step - loss: 0.0212 - accuracy: 0.9925 - val_loss: 0.6501 - val_accuracy: 0.8970\n",
            "Epoch 77/100\n",
            "100/100 [==============================] - 0s 4ms/step - loss: 0.0242 - accuracy: 0.9934 - val_loss: 0.6191 - val_accuracy: 0.8980\n",
            "Epoch 78/100\n",
            "100/100 [==============================] - 0s 4ms/step - loss: 0.0317 - accuracy: 0.9911 - val_loss: 0.6375 - val_accuracy: 0.8940\n",
            "Epoch 79/100\n",
            "100/100 [==============================] - 0s 4ms/step - loss: 0.0168 - accuracy: 0.9931 - val_loss: 0.6433 - val_accuracy: 0.8980\n",
            "Epoch 80/100\n",
            "100/100 [==============================] - 0s 4ms/step - loss: 0.0057 - accuracy: 0.9983 - val_loss: 0.6150 - val_accuracy: 0.8940\n",
            "Epoch 81/100\n",
            "100/100 [==============================] - 0s 3ms/step - loss: 0.0036 - accuracy: 0.9997 - val_loss: 0.6891 - val_accuracy: 0.8970\n",
            "Epoch 82/100\n",
            "100/100 [==============================] - 0s 4ms/step - loss: 0.0110 - accuracy: 0.9969 - val_loss: 0.7366 - val_accuracy: 0.8860\n",
            "Epoch 83/100\n",
            "100/100 [==============================] - 0s 3ms/step - loss: 0.0104 - accuracy: 0.9958 - val_loss: 0.7261 - val_accuracy: 0.9040\n",
            "Epoch 84/100\n",
            "100/100 [==============================] - 0s 4ms/step - loss: 0.0037 - accuracy: 0.9991 - val_loss: 0.6048 - val_accuracy: 0.8940\n",
            "Epoch 85/100\n",
            "100/100 [==============================] - 0s 4ms/step - loss: 0.0069 - accuracy: 0.9988 - val_loss: 0.7052 - val_accuracy: 0.9030\n",
            "Epoch 86/100\n",
            "100/100 [==============================] - 0s 3ms/step - loss: 0.0194 - accuracy: 0.9948 - val_loss: 0.7130 - val_accuracy: 0.9010\n",
            "Epoch 87/100\n",
            "100/100 [==============================] - 0s 3ms/step - loss: 0.0183 - accuracy: 0.9907 - val_loss: 0.6568 - val_accuracy: 0.8910\n",
            "Epoch 88/100\n",
            "100/100 [==============================] - 0s 3ms/step - loss: 0.0063 - accuracy: 0.9973 - val_loss: 0.6259 - val_accuracy: 0.8960\n",
            "Epoch 89/100\n",
            "100/100 [==============================] - 0s 4ms/step - loss: 0.0175 - accuracy: 0.9937 - val_loss: 0.7228 - val_accuracy: 0.9000\n",
            "Epoch 90/100\n",
            "100/100 [==============================] - 0s 4ms/step - loss: 0.0173 - accuracy: 0.9938 - val_loss: 0.6584 - val_accuracy: 0.8980\n",
            "Epoch 91/100\n",
            "100/100 [==============================] - 0s 4ms/step - loss: 0.0097 - accuracy: 0.9967 - val_loss: 0.8523 - val_accuracy: 0.8660\n",
            "Epoch 92/100\n",
            "100/100 [==============================] - 0s 4ms/step - loss: 0.0157 - accuracy: 0.9954 - val_loss: 0.6660 - val_accuracy: 0.8950\n",
            "Epoch 93/100\n",
            "100/100 [==============================] - 0s 3ms/step - loss: 0.0079 - accuracy: 0.9977 - val_loss: 0.6263 - val_accuracy: 0.9000\n",
            "Epoch 94/100\n",
            "100/100 [==============================] - 0s 3ms/step - loss: 0.0038 - accuracy: 0.9997 - val_loss: 0.6080 - val_accuracy: 0.9030\n",
            "Epoch 95/100\n",
            "100/100 [==============================] - 0s 3ms/step - loss: 0.0043 - accuracy: 0.9986 - val_loss: 0.7389 - val_accuracy: 0.8880\n",
            "Epoch 96/100\n",
            "100/100 [==============================] - 0s 4ms/step - loss: 0.0060 - accuracy: 0.9969 - val_loss: 0.8579 - val_accuracy: 0.8860\n",
            "Epoch 97/100\n",
            "100/100 [==============================] - 0s 4ms/step - loss: 0.0456 - accuracy: 0.9871 - val_loss: 0.9417 - val_accuracy: 0.8690\n",
            "Epoch 98/100\n",
            "100/100 [==============================] - 0s 3ms/step - loss: 0.0214 - accuracy: 0.9892 - val_loss: 0.6645 - val_accuracy: 0.8960\n",
            "Epoch 99/100\n",
            "100/100 [==============================] - 0s 4ms/step - loss: 0.0058 - accuracy: 0.9985 - val_loss: 0.6165 - val_accuracy: 0.8880\n",
            "Epoch 100/100\n",
            "100/100 [==============================] - 0s 4ms/step - loss: 0.0144 - accuracy: 0.9921 - val_loss: 0.7129 - val_accuracy: 0.9000\n"
          ],
          "name": "stdout"
        }
      ]
    },
    {
      "cell_type": "markdown",
      "metadata": {
        "id": "pKRdVjEvqok4"
      },
      "source": [
        "### 4) Visualization"
      ]
    },
    {
      "cell_type": "code",
      "metadata": {
        "colab": {
          "base_uri": "https://localhost:8080/",
          "height": 375
        },
        "id": "SmKq-GZ6qnzB",
        "outputId": "918253fa-37ba-4c33-ae99-6637520ed1d5"
      },
      "source": [
        "epochs = range(1, len(Hist_dandc.history['loss']) + 1)\n",
        "\n",
        "plt.figure(figsize = (20, 8))\n",
        "\n",
        "plt.subplot(1, 2, 1)\n",
        "plt.plot(epochs, Hist_dandc.history['loss'])\n",
        "plt.plot(epochs, Hist_dandc.history['val_loss'])\n",
        "\n",
        "plt.title('Training & Validation Loss')\n",
        "plt.xlabel('Epochs')\n",
        "plt.ylabel('Loss')\n",
        "plt.legend(['Training Loss' , 'Validation Loss'])\n",
        "plt.grid()\n",
        "\n",
        "plt.subplot(1, 2, 2)\n",
        "plt.plot(epochs, Hist_dandc.history['accuracy'])\n",
        "plt.plot(epochs, Hist_dandc.history['val_accuracy'])\n",
        "\n",
        "plt.title('Training & Validation Accuracy')\n",
        "plt.xlabel('Epochs')\n",
        "plt.ylabel('Accuracy')\n",
        "plt.legend(['Training Accuracy' , 'Validation Accuracy'])\n",
        "plt.grid()\n",
        "\n",
        "\n",
        "plt.show()"
      ],
      "execution_count": 30,
      "outputs": [
        {
          "output_type": "display_data",
          "data": {
            "image/png": "[encoded data removed]",
            "text/plain": [
              "<Figure size 1440x576 with 2 Axes>"
            ]
          },
          "metadata": {
            "tags": [],
            "needs_background": "light"
          }
        }
      ]
    },
    {
      "cell_type": "markdown",
      "metadata": {
        "id": "iIoEP_81rTQQ"
      },
      "source": [
        "### 5) Model Evaluate"
      ]
    },
    {
      "cell_type": "code",
      "metadata": {
        "colab": {
          "base_uri": "https://localhost:8080/"
        },
        "id": "hfrA91pOrNZK",
        "outputId": "0234b89c-ad80-48ea-95db-3629cde1686e"
      },
      "source": [
        "loss, accuracy = model.evaluate(test_features, test_labels)\n",
        "\n",
        "print('Loss: {:.5f}' .format(loss))\n",
        "print('Accuracy: {:.5f}' .format(accuracy))"
      ],
      "execution_count": 31,
      "outputs": [
        {
          "output_type": "stream",
          "text": [
            "32/32 [==============================] - 0s 3ms/step - loss: 0.7804 - accuracy: 0.8770\n",
            "Loss: 0.78042\n",
            "Accuracy: 0.87700\n"
          ],
          "name": "stdout"
        }
      ]
    },
    {
      "cell_type": "markdown",
      "metadata": {
        "id": "fWc-yFr8riV8"
      },
      "source": [
        "## 6. Model Save & Load to Google Drive"
      ]
    },
    {
      "cell_type": "code",
      "metadata": {
        "colab": {
          "base_uri": "https://localhost:8080/"
        },
        "id": "x9_DdduHrdeT",
        "outputId": "a4e30fd9-f13e-4216-e09b-e2216812dd36"
      },
      "source": [
        "from google.colab import drive\n",
        "\n",
        "drive.mount('/content/drive')"
      ],
      "execution_count": 32,
      "outputs": [
        {
          "output_type": "stream",
          "text": [
            "Drive already mounted at /content/drive; to attempt to forcibly remount, call drive.mount(\"/content/drive\", force_remount=True).\n"
          ],
          "name": "stdout"
        }
      ]
    },
    {
      "cell_type": "code",
      "metadata": {
        "id": "EICvE20Gro3d"
      },
      "source": [
        "model.save('/content/drive/My Drive/Colab Notebooks/models/006_dogs_and_cats_feature_extraction.h5')"
      ],
      "execution_count": 33,
      "outputs": []
    },
    {
      "cell_type": "code",
      "metadata": {
        "colab": {
          "base_uri": "https://localhost:8080/"
        },
        "id": "XxWqk7Jrrw1M",
        "outputId": "4c1cfe6e-b814-43d8-86ac-7276349a2128"
      },
      "source": [
        "!ls -l /content/drive/My\\ Drive/Colab\\ Notebooks/models"
      ],
      "execution_count": 34,
      "outputs": [
        {
          "output_type": "stream",
          "text": [
            "total 144644\n",
            "-rw------- 1 root root    34592 Mar 18 02:42 001_Model_iris.h5\n",
            "-rw------- 1 root root 41498896 Mar 23 02:18 002_dogs_and_cats_small.h5\n",
            "-rw------- 1 root root 41501624 Mar 23 07:12 003_dogs_and_cats_augmentation.h5\n",
            "-rw------- 1 root root 39879700 Mar 23 06:41 004_logo_classification_with_augmentation.h5\n",
            "-rw------- 1 root root 25199032 Mar 24 05:22 006_dogs_and_cats_feature_extraction.h5\n"
          ],
          "name": "stdout"
        }
      ]
    },
    {
      "cell_type": "code",
      "metadata": {
        "id": "Qc0Uu8nbr1YK"
      },
      "source": [
        "model_google = load_model('/content/drive/My Drive/Colab Notebooks/models/006_dogs_and_cats_feature_extraction.h5')"
      ],
      "execution_count": 35,
      "outputs": []
    },
    {
      "cell_type": "code",
      "metadata": {
        "colab": {
          "base_uri": "https://localhost:8080/"
        },
        "id": "kfGT8COQr7rY",
        "outputId": "b601505f-3053-4e0b-8fe1-4e627b56eb52"
      },
      "source": [
        "loss, accuracy = model_google.evaluate(test_features, test_labels)\n",
        "\n",
        "print('Loss: {:.5f}' .format(loss))\n",
        "print('Accuracy: {:.5f}' .format(accuracy))"
      ],
      "execution_count": 36,
      "outputs": [
        {
          "output_type": "stream",
          "text": [
            "32/32 [==============================] - 0s 2ms/step - loss: 0.7804 - accuracy: 0.8770\n",
            "Loss: 0.78042\n",
            "Accuracy: 0.87700\n"
          ],
          "name": "stdout"
        }
      ]
    },
    {
      "cell_type": "code",
      "metadata": {
        "id": "3J_JqbkYr-s7"
      },
      "source": [
        ""
      ],
      "execution_count": null,
      "outputs": []
    }
  ]
}