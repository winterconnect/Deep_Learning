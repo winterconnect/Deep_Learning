{
  "nbformat": 4,
  "nbformat_minor": 0,
  "metadata": {
    "colab": {
      "name": "028_Bidirectional_LSTM_Time_Series.ipynb",
      "provenance": []
    },
    "kernelspec": {
      "name": "python3",
      "display_name": "Python 3"
    },
    "language_info": {
      "name": "python"
    },
    "accelerator": "GPU"
  },
  "cells": [
    {
      "cell_type": "markdown",
      "metadata": {
        "id": "LJ2qdd8e5G3Q"
      },
      "source": [
        "# LSTM = Time Series Dataset\n",
        "- 서울시 기후 데이터: 2011년 01월 01일 ~ 2019년 12월 31일\n",
        "- https://data.kma.go.kr/cmmn/main.do\n",
        "- 기후통계분석 -> 기온분석 -> 기간(20110101 ~ 20191231) -> 검색 -> csv 다운로드\n",
        "- Seoul_Temp.csv"
      ]
    },
    {
      "cell_type": "code",
      "metadata": {
        "id": "pyDT8rsD5IH9"
      },
      "source": [
        "import warnings\n",
        "warnings.filterwarnings('ignore')"
      ],
      "execution_count": 1,
      "outputs": []
    },
    {
      "cell_type": "code",
      "metadata": {
        "id": "7Je6hd_V5Ldu"
      },
      "source": [
        "import numpy as np\n",
        "import pandas as pd\n",
        "from matplotlib import pyplot as plt"
      ],
      "execution_count": 2,
      "outputs": []
    },
    {
      "cell_type": "code",
      "metadata": {
        "id": "2g-eRwv35L3z"
      },
      "source": [
        "from sklearn.preprocessing import MinMaxScaler"
      ],
      "execution_count": 3,
      "outputs": []
    },
    {
      "cell_type": "code",
      "metadata": {
        "id": "7cICNBXq5NNK"
      },
      "source": [
        "from keras.models import Sequential\n",
        "from keras.layers import Dense, LSTM, Bidirectional"
      ],
      "execution_count": 14,
      "outputs": []
    },
    {
      "cell_type": "code",
      "metadata": {
        "colab": {
          "base_uri": "https://localhost:8080/"
        },
        "id": "rWSIy2Pk5OsD",
        "outputId": "eeec80c2-79de-4880-c3a3-6cc7dc29b2f1"
      },
      "source": [
        "!nvidia-smi"
      ],
      "execution_count": 5,
      "outputs": [
        {
          "output_type": "stream",
          "text": [
            "Fri Mar 26 04:57:30 2021       \n",
            "+-----------------------------------------------------------------------------+\n",
            "| NVIDIA-SMI 460.56       Driver Version: 460.32.03    CUDA Version: 11.2     |\n",
            "|-------------------------------+----------------------+----------------------+\n",
            "| GPU  Name        Persistence-M| Bus-Id        Disp.A | Volatile Uncorr. ECC |\n",
            "| Fan  Temp  Perf  Pwr:Usage/Cap|         Memory-Usage | GPU-Util  Compute M. |\n",
            "|                               |                      |               MIG M. |\n",
            "|===============================+======================+======================|\n",
            "|   0  Tesla T4            Off  | 00000000:00:04.0 Off |                    0 |\n",
            "| N/A   59C    P8    11W /  70W |      0MiB / 15109MiB |      0%      Default |\n",
            "|                               |                      |                  N/A |\n",
            "+-------------------------------+----------------------+----------------------+\n",
            "                                                                               \n",
            "+-----------------------------------------------------------------------------+\n",
            "| Processes:                                                                  |\n",
            "|  GPU   GI   CI        PID   Type   Process name                  GPU Memory |\n",
            "|        ID   ID                                                   Usage      |\n",
            "|=============================================================================|\n",
            "|  No running processes found                                                 |\n",
            "+-----------------------------------------------------------------------------+\n"
          ],
          "name": "stdout"
        }
      ]
    },
    {
      "cell_type": "code",
      "metadata": {
        "colab": {
          "base_uri": "https://localhost:8080/"
        },
        "id": "CtdWLy6U5SCv",
        "outputId": "2d1d1395-5ed6-42f0-a0c5-3401252a9162"
      },
      "source": [
        "url = 'https://raw.githubusercontent.com/rusita-ai/pyData/master/Seoul_Temp.csv'\n",
        "temp = pd.read_csv(url)\n",
        "\n",
        "temp.info()"
      ],
      "execution_count": 6,
      "outputs": [
        {
          "output_type": "stream",
          "text": [
            "<class 'pandas.core.frame.DataFrame'>\n",
            "RangeIndex: 3287 entries, 0 to 3286\n",
            "Data columns (total 4 columns):\n",
            " #   Column  Non-Null Count  Dtype  \n",
            "---  ------  --------------  -----  \n",
            " 0   date    3287 non-null   object \n",
            " 1   avg     3287 non-null   float64\n",
            " 2   min     3287 non-null   float64\n",
            " 3   max     3287 non-null   float64\n",
            "dtypes: float64(3), object(1)\n",
            "memory usage: 102.8+ KB\n"
          ],
          "name": "stdout"
        }
      ]
    },
    {
      "cell_type": "code",
      "metadata": {
        "colab": {
          "base_uri": "https://localhost:8080/",
          "height": 204
        },
        "id": "9A5KJtsr5Spn",
        "outputId": "8a811107-a578-4d52-b3f9-0d94ccb4c333"
      },
      "source": [
        "temp.head()"
      ],
      "execution_count": 7,
      "outputs": [
        {
          "output_type": "execute_result",
          "data": {
            "text/html": [
              "<div>\n",
              "<style scoped>\n",
              "    .dataframe tbody tr th:only-of-type {\n",
              "        vertical-align: middle;\n",
              "    }\n",
              "\n",
              "    .dataframe tbody tr th {\n",
              "        vertical-align: top;\n",
              "    }\n",
              "\n",
              "    .dataframe thead th {\n",
              "        text-align: right;\n",
              "    }\n",
              "</style>\n",
              "<table border=\"1\" class=\"dataframe\">\n",
              "  <thead>\n",
              "    <tr style=\"text-align: right;\">\n",
              "      <th></th>\n",
              "      <th>date</th>\n",
              "      <th>avg</th>\n",
              "      <th>min</th>\n",
              "      <th>max</th>\n",
              "    </tr>\n",
              "  </thead>\n",
              "  <tbody>\n",
              "    <tr>\n",
              "      <th>0</th>\n",
              "      <td>2011-01-01</td>\n",
              "      <td>-6.8</td>\n",
              "      <td>-10.4</td>\n",
              "      <td>-2.9</td>\n",
              "    </tr>\n",
              "    <tr>\n",
              "      <th>1</th>\n",
              "      <td>2011-01-02</td>\n",
              "      <td>-5.4</td>\n",
              "      <td>-8.5</td>\n",
              "      <td>-1.2</td>\n",
              "    </tr>\n",
              "    <tr>\n",
              "      <th>2</th>\n",
              "      <td>2011-01-03</td>\n",
              "      <td>-4.5</td>\n",
              "      <td>-8.5</td>\n",
              "      <td>-0.3</td>\n",
              "    </tr>\n",
              "    <tr>\n",
              "      <th>3</th>\n",
              "      <td>2011-01-04</td>\n",
              "      <td>-3.9</td>\n",
              "      <td>-7.4</td>\n",
              "      <td>-1.7</td>\n",
              "    </tr>\n",
              "    <tr>\n",
              "      <th>4</th>\n",
              "      <td>2011-01-05</td>\n",
              "      <td>-4.0</td>\n",
              "      <td>-7.7</td>\n",
              "      <td>-1.8</td>\n",
              "    </tr>\n",
              "  </tbody>\n",
              "</table>\n",
              "</div>"
            ],
            "text/plain": [
              "         date  avg   min  max\n",
              "0  2011-01-01 -6.8 -10.4 -2.9\n",
              "1  2011-01-02 -5.4  -8.5 -1.2\n",
              "2  2011-01-03 -4.5  -8.5 -0.3\n",
              "3  2011-01-04 -3.9  -7.4 -1.7\n",
              "4  2011-01-05 -4.0  -7.7 -1.8"
            ]
          },
          "metadata": {
            "tags": []
          },
          "execution_count": 7
        }
      ]
    },
    {
      "cell_type": "markdown",
      "metadata": {
        "id": "KsMt6IqT5VdR"
      },
      "source": [
        "## 2. Data Preprocessing"
      ]
    },
    {
      "cell_type": "markdown",
      "metadata": {
        "id": "CAJV5Bo25W7e"
      },
      "source": [
        "### 1) 일일 평균온도('avg') 변화 시각화\n",
        "- 일일 평균온도 변화에 일정한 패턴 확인"
      ]
    },
    {
      "cell_type": "code",
      "metadata": {
        "colab": {
          "base_uri": "https://localhost:8080/",
          "height": 320
        },
        "id": "PGImbt_R5UMH",
        "outputId": "38589acb-20a3-4089-bae8-4de88a1920b2"
      },
      "source": [
        "temp_data = temp[['avg']]\n",
        "\n",
        "plt.figure(figsize = (12, 5))\n",
        "plt.plot(temp_data)\n",
        "plt.show()"
      ],
      "execution_count": 8,
      "outputs": [
        {
          "output_type": "display_data",
          "data": {
            "image/png": "[encoded data removed]",
            "text/plain": [
              "<Figure size 864x360 with 1 Axes>"
            ]
          },
          "metadata": {
            "tags": [],
            "needs_background": "light"
          }
        }
      ]
    },
    {
      "cell_type": "markdown",
      "metadata": {
        "id": "ffLJEEOt5bfs"
      },
      "source": [
        "### 2) Normalization\n",
        "- tanh Activation 적용을 위해 -1 ~ 1 범위로 정규화"
      ]
    },
    {
      "cell_type": "code",
      "metadata": {
        "id": "wAAfManr5cws"
      },
      "source": [
        "scaler = MinMaxScaler(feature_range = (-1, 1)) # -1 ~ 1 사이로 scaling\n",
        "\n",
        "temp_data = scaler.fit_transform(temp_data)"
      ],
      "execution_count": 9,
      "outputs": []
    },
    {
      "cell_type": "markdown",
      "metadata": {
        "id": "hLC11efo5fU2"
      },
      "source": [
        "### 3) Train Test Split\n",
        "- Train Dataset: 2011년 01월 01일 ~ 2017년 12월 31일\n",
        "- Test Dataset: 2018년 01월 01일 ~ 2019년 12월 31일"
      ]
    },
    {
      "cell_type": "code",
      "metadata": {
        "id": "ZXQVIkTo5e39"
      },
      "source": [
        "train = temp_data[0:2557] # X, y가 분리된 상태는 아님\n",
        "test = temp_data[2557:]"
      ],
      "execution_count": 10,
      "outputs": []
    },
    {
      "cell_type": "markdown",
      "metadata": {
        "id": "5pcvPRtP5iXk"
      },
      "source": [
        "## 3. 시계열 데이터 처리함수"
      ]
    },
    {
      "cell_type": "markdown",
      "metadata": {
        "id": "dCQi8MYi5jhB"
      },
      "source": [
        "### 1) 시계열 학습용 데이터 생성 함수 정의\n",
        "- X: 학습 평균온도 데이터\n",
        "- y: 정답 평균온도 데이터\n",
        "- 일정기간의 X로 y를 예측하도록 학습"
      ]
    },
    {
      "cell_type": "code",
      "metadata": {
        "id": "JSZ62j945P2C"
      },
      "source": [
        "def create_dataset(time_data, loop_back = 1) :\n",
        "  data_X, data_y = [] , []\n",
        "\n",
        "  for i in range(len(time_data) - loop_back) :\n",
        "    data_X.append(time_data[i : (i + loop_back), 0])\n",
        "    data_y.append(time_data[i + loop_back, 0])\n",
        "\n",
        "  return np.array(data_X) , np.array(data_y)"
      ],
      "execution_count": 11,
      "outputs": []
    },
    {
      "cell_type": "markdown",
      "metadata": {
        "id": "NC2nZZiN5pMz"
      },
      "source": [
        "### 2) loop_back 기간 설정 후 학습데이터 생성\n",
        "- 180일 기간 평균온도로 다음날 평균온도 예측 데이터 생성"
      ]
    },
    {
      "cell_type": "code",
      "metadata": {
        "colab": {
          "base_uri": "https://localhost:8080/"
        },
        "id": "0KAbJFh25qN9",
        "outputId": "f5ec22be-0bbf-44ea-c874-4c8bc8375776"
      },
      "source": [
        "loop_back = 180\n",
        "\n",
        "X_train, y_train = create_dataset(train, loop_back)\n",
        "X_test, y_test = create_dataset(test, loop_back)\n",
        "\n",
        "X_train.shape, X_test.shape, y_train.shape, y_test.shape"
      ],
      "execution_count": 12,
      "outputs": [
        {
          "output_type": "execute_result",
          "data": {
            "text/plain": [
              "((2377, 180), (550, 180), (2377,), (550,))"
            ]
          },
          "metadata": {
            "tags": []
          },
          "execution_count": 12
        }
      ]
    },
    {
      "cell_type": "code",
      "metadata": {
        "colab": {
          "base_uri": "https://localhost:8080/"
        },
        "id": "hK4dh8GT5swF",
        "outputId": "2070a5c7-7cd0-4eee-f23a-5182a3077b18"
      },
      "source": [
        "X_train = np.reshape(X_train, (X_train.shape[0], X_train.shape[1], 1))\n",
        "X_test = np.reshape(X_test, (X_test.shape[0], X_test.shape[1], 1))\n",
        "\n",
        "X_train.shape, X_test.shape, y_train.shape, y_test.shape\n",
        "# 180번 sequence를 돌도록 reshape"
      ],
      "execution_count": 13,
      "outputs": [
        {
          "output_type": "execute_result",
          "data": {
            "text/plain": [
              "((2377, 180, 1), (550, 180, 1), (2377,), (550,))"
            ]
          },
          "metadata": {
            "tags": []
          },
          "execution_count": 13
        }
      ]
    },
    {
      "cell_type": "markdown",
      "metadata": {
        "id": "ayvoBIre5wmH"
      },
      "source": [
        "## 4. LSTM Modeling"
      ]
    },
    {
      "cell_type": "markdown",
      "metadata": {
        "id": "o_iXSsqG5y7A"
      },
      "source": [
        "### 1) Model Define & Compile\n",
        "- dropout: 층의 입력에 대한 드롭아웃 비율을 정함\n",
        "- recurrent_dropout: 순환상태의 드롭아웃 비율을 정함\n",
        "- Model 1: one layer, loop_back 180"
      ]
    },
    {
      "cell_type": "code",
      "metadata": {
        "id": "rzsZxGP831kq"
      },
      "source": [
        "model = Sequential()\n",
        "\n",
        "model.add(Bidirectional(LSTM(64,        # LSTM을 Bidirectional로 감쌈\n",
        "                             input_shape = (None, 1))))\n",
        "model.add(Dense(1, activation = 'tanh'))"
      ],
      "execution_count": 15,
      "outputs": []
    },
    {
      "cell_type": "code",
      "metadata": {
        "id": "Z61y_nCU6ItS"
      },
      "source": [
        "model.compile(loss = 'mse',\n",
        "              optimizer = 'adam')"
      ],
      "execution_count": 17,
      "outputs": []
    },
    {
      "cell_type": "code",
      "metadata": {
        "id": "IMSPOYjg_ynT"
      },
      "source": [
        "model_2 = Sequential()\n",
        "\n",
        "# LSTM을 Bidirectional로 감쌈\n",
        "model_2.add(Bidirectional(LSTM(64,\n",
        "                               dropout = 0.1,\n",
        "                               input_shape = (None, 1),\n",
        "                               return_sequences = True)))\n",
        "model_2.add(Bidirectional(LSTM(64,\n",
        "                               input_shape = (None, 1),\n",
        "                               return_sequences = False)))\n",
        "model_2.add(Dense(1, activation = 'tanh'))"
      ],
      "execution_count": 37,
      "outputs": []
    },
    {
      "cell_type": "code",
      "metadata": {
        "id": "ja7Y07MlAEsY"
      },
      "source": [
        "model_2.compile(loss = 'mse',\n",
        "              optimizer = 'adam')"
      ],
      "execution_count": 38,
      "outputs": []
    },
    {
      "cell_type": "markdown",
      "metadata": {
        "id": "b_3ghJIg6c3M"
      },
      "source": [
        "### 2) Model Fit"
      ]
    },
    {
      "cell_type": "code",
      "metadata": {
        "colab": {
          "base_uri": "https://localhost:8080/"
        },
        "id": "-rP9MlF86Qm7",
        "outputId": "3b944a40-6556-4e3c-cb53-201bb8924853"
      },
      "source": [
        "%%time\n",
        "\n",
        "hist = model.fit(X_train, y_train,\n",
        "                 epochs = 200,\n",
        "                 batch_size = 16,\n",
        "                 validation_data = (X_test, y_test))"
      ],
      "execution_count": 19,
      "outputs": [
        {
          "output_type": "stream",
          "text": [
            "Epoch 1/200\n",
            "149/149 [==============================] - 37s 19ms/step - loss: 0.0521 - val_loss: 0.0153\n",
            "Epoch 2/200\n",
            "149/149 [==============================] - 2s 13ms/step - loss: 0.0168 - val_loss: 0.0141\n",
            "Epoch 3/200\n",
            "149/149 [==============================] - 2s 14ms/step - loss: 0.0149 - val_loss: 0.0117\n",
            "Epoch 4/200\n",
            "149/149 [==============================] - 2s 13ms/step - loss: 0.0125 - val_loss: 0.0112\n",
            "Epoch 5/200\n",
            "149/149 [==============================] - 2s 13ms/step - loss: 0.0111 - val_loss: 0.0090\n",
            "Epoch 6/200\n",
            "149/149 [==============================] - 2s 13ms/step - loss: 0.0086 - val_loss: 0.0087\n",
            "Epoch 7/200\n",
            "149/149 [==============================] - 2s 13ms/step - loss: 0.0087 - val_loss: 0.0082\n",
            "Epoch 8/200\n",
            "149/149 [==============================] - 2s 13ms/step - loss: 0.0083 - val_loss: 0.0079\n",
            "Epoch 9/200\n",
            "149/149 [==============================] - 2s 14ms/step - loss: 0.0077 - val_loss: 0.0075\n",
            "Epoch 10/200\n",
            "149/149 [==============================] - 2s 14ms/step - loss: 0.0079 - val_loss: 0.0080\n",
            "Epoch 11/200\n",
            "149/149 [==============================] - 2s 13ms/step - loss: 0.0083 - val_loss: 0.0077\n",
            "Epoch 12/200\n",
            "149/149 [==============================] - 2s 13ms/step - loss: 0.0081 - val_loss: 0.0077\n",
            "Epoch 13/200\n",
            "149/149 [==============================] - 2s 13ms/step - loss: 0.0088 - val_loss: 0.0074\n",
            "Epoch 14/200\n",
            "149/149 [==============================] - 2s 13ms/step - loss: 0.0077 - val_loss: 0.0077\n",
            "Epoch 15/200\n",
            "149/149 [==============================] - 2s 12ms/step - loss: 0.0075 - val_loss: 0.0075\n",
            "Epoch 16/200\n",
            "149/149 [==============================] - 2s 13ms/step - loss: 0.0082 - val_loss: 0.0076\n",
            "Epoch 17/200\n",
            "149/149 [==============================] - 2s 13ms/step - loss: 0.0077 - val_loss: 0.0074\n",
            "Epoch 18/200\n",
            "149/149 [==============================] - 2s 13ms/step - loss: 0.0077 - val_loss: 0.0078\n",
            "Epoch 19/200\n",
            "149/149 [==============================] - 2s 13ms/step - loss: 0.0081 - val_loss: 0.0074\n",
            "Epoch 20/200\n",
            "149/149 [==============================] - 2s 14ms/step - loss: 0.0077 - val_loss: 0.0073\n",
            "Epoch 21/200\n",
            "149/149 [==============================] - 2s 13ms/step - loss: 0.0081 - val_loss: 0.0072\n",
            "Epoch 22/200\n",
            "149/149 [==============================] - 2s 13ms/step - loss: 0.0079 - val_loss: 0.0075\n",
            "Epoch 23/200\n",
            "149/149 [==============================] - 2s 13ms/step - loss: 0.0073 - val_loss: 0.0074\n",
            "Epoch 24/200\n",
            "149/149 [==============================] - 2s 13ms/step - loss: 0.0081 - val_loss: 0.0073\n",
            "Epoch 25/200\n",
            "149/149 [==============================] - 2s 15ms/step - loss: 0.0070 - val_loss: 0.0073\n",
            "Epoch 26/200\n",
            "149/149 [==============================] - 2s 14ms/step - loss: 0.0079 - val_loss: 0.0070\n",
            "Epoch 27/200\n",
            "149/149 [==============================] - 2s 13ms/step - loss: 0.0079 - val_loss: 0.0072\n",
            "Epoch 28/200\n",
            "149/149 [==============================] - 2s 13ms/step - loss: 0.0077 - val_loss: 0.0072\n",
            "Epoch 29/200\n",
            "149/149 [==============================] - 2s 14ms/step - loss: 0.0081 - val_loss: 0.0076\n",
            "Epoch 30/200\n",
            "149/149 [==============================] - 2s 13ms/step - loss: 0.0077 - val_loss: 0.0073\n",
            "Epoch 31/200\n",
            "149/149 [==============================] - 2s 13ms/step - loss: 0.0081 - val_loss: 0.0075\n",
            "Epoch 32/200\n",
            "149/149 [==============================] - 2s 13ms/step - loss: 0.0072 - val_loss: 0.0073\n",
            "Epoch 33/200\n",
            "149/149 [==============================] - 2s 13ms/step - loss: 0.0076 - val_loss: 0.0070\n",
            "Epoch 34/200\n",
            "149/149 [==============================] - 2s 13ms/step - loss: 0.0080 - val_loss: 0.0078\n",
            "Epoch 35/200\n",
            "149/149 [==============================] - 2s 13ms/step - loss: 0.0079 - val_loss: 0.0072\n",
            "Epoch 36/200\n",
            "149/149 [==============================] - 2s 14ms/step - loss: 0.0079 - val_loss: 0.0071\n",
            "Epoch 37/200\n",
            "149/149 [==============================] - 2s 16ms/step - loss: 0.0079 - val_loss: 0.0075\n",
            "Epoch 38/200\n",
            "149/149 [==============================] - 2s 14ms/step - loss: 0.0072 - val_loss: 0.0071\n",
            "Epoch 39/200\n",
            "149/149 [==============================] - 2s 14ms/step - loss: 0.0077 - val_loss: 0.0072\n",
            "Epoch 40/200\n",
            "149/149 [==============================] - 2s 14ms/step - loss: 0.0075 - val_loss: 0.0073\n",
            "Epoch 41/200\n",
            "149/149 [==============================] - 2s 13ms/step - loss: 0.0078 - val_loss: 0.0070\n",
            "Epoch 42/200\n",
            "149/149 [==============================] - 2s 13ms/step - loss: 0.0081 - val_loss: 0.0076\n",
            "Epoch 43/200\n",
            "149/149 [==============================] - 2s 13ms/step - loss: 0.0079 - val_loss: 0.0073\n",
            "Epoch 44/200\n",
            "149/149 [==============================] - 2s 14ms/step - loss: 0.0077 - val_loss: 0.0077\n",
            "Epoch 45/200\n",
            "149/149 [==============================] - 2s 14ms/step - loss: 0.0080 - val_loss: 0.0071\n",
            "Epoch 46/200\n",
            "149/149 [==============================] - 2s 14ms/step - loss: 0.0077 - val_loss: 0.0072\n",
            "Epoch 47/200\n",
            "149/149 [==============================] - 2s 13ms/step - loss: 0.0072 - val_loss: 0.0072\n",
            "Epoch 48/200\n",
            "149/149 [==============================] - 2s 13ms/step - loss: 0.0078 - val_loss: 0.0070\n",
            "Epoch 49/200\n",
            "149/149 [==============================] - 2s 14ms/step - loss: 0.0084 - val_loss: 0.0072\n",
            "Epoch 50/200\n",
            "149/149 [==============================] - 2s 14ms/step - loss: 0.0076 - val_loss: 0.0070\n",
            "Epoch 51/200\n",
            "149/149 [==============================] - 2s 13ms/step - loss: 0.0072 - val_loss: 0.0069\n",
            "Epoch 52/200\n",
            "149/149 [==============================] - 2s 13ms/step - loss: 0.0074 - val_loss: 0.0072\n",
            "Epoch 53/200\n",
            "149/149 [==============================] - 2s 14ms/step - loss: 0.0075 - val_loss: 0.0070\n",
            "Epoch 54/200\n",
            "149/149 [==============================] - 2s 13ms/step - loss: 0.0078 - val_loss: 0.0070\n",
            "Epoch 55/200\n",
            "149/149 [==============================] - 2s 13ms/step - loss: 0.0075 - val_loss: 0.0071\n",
            "Epoch 56/200\n",
            "149/149 [==============================] - 2s 14ms/step - loss: 0.0077 - val_loss: 0.0072\n",
            "Epoch 57/200\n",
            "149/149 [==============================] - 2s 14ms/step - loss: 0.0073 - val_loss: 0.0071\n",
            "Epoch 58/200\n",
            "149/149 [==============================] - 2s 15ms/step - loss: 0.0074 - val_loss: 0.0073\n",
            "Epoch 59/200\n",
            "149/149 [==============================] - 2s 13ms/step - loss: 0.0072 - val_loss: 0.0073\n",
            "Epoch 60/200\n",
            "149/149 [==============================] - 2s 14ms/step - loss: 0.0074 - val_loss: 0.0076\n",
            "Epoch 61/200\n",
            "149/149 [==============================] - 2s 14ms/step - loss: 0.0073 - val_loss: 0.0076\n",
            "Epoch 62/200\n",
            "149/149 [==============================] - 2s 13ms/step - loss: 0.0072 - val_loss: 0.0076\n",
            "Epoch 63/200\n",
            "149/149 [==============================] - 2s 15ms/step - loss: 0.0072 - val_loss: 0.0075\n",
            "Epoch 64/200\n",
            "149/149 [==============================] - 2s 13ms/step - loss: 0.0074 - val_loss: 0.0073\n",
            "Epoch 65/200\n",
            "149/149 [==============================] - 2s 13ms/step - loss: 0.0079 - val_loss: 0.0079\n",
            "Epoch 66/200\n",
            "149/149 [==============================] - 2s 14ms/step - loss: 0.0077 - val_loss: 0.0073\n",
            "Epoch 67/200\n",
            "149/149 [==============================] - 2s 13ms/step - loss: 0.0079 - val_loss: 0.0072\n",
            "Epoch 68/200\n",
            "149/149 [==============================] - 2s 14ms/step - loss: 0.0076 - val_loss: 0.0077\n",
            "Epoch 69/200\n",
            "149/149 [==============================] - 2s 14ms/step - loss: 0.0073 - val_loss: 0.0074\n",
            "Epoch 70/200\n",
            "149/149 [==============================] - 2s 14ms/step - loss: 0.0069 - val_loss: 0.0074\n",
            "Epoch 71/200\n",
            "149/149 [==============================] - 2s 13ms/step - loss: 0.0080 - val_loss: 0.0072\n",
            "Epoch 72/200\n",
            "149/149 [==============================] - 2s 13ms/step - loss: 0.0073 - val_loss: 0.0073\n",
            "Epoch 73/200\n",
            "149/149 [==============================] - 2s 13ms/step - loss: 0.0071 - val_loss: 0.0072\n",
            "Epoch 74/200\n",
            "149/149 [==============================] - 2s 13ms/step - loss: 0.0072 - val_loss: 0.0075\n",
            "Epoch 75/200\n",
            "149/149 [==============================] - 2s 13ms/step - loss: 0.0071 - val_loss: 0.0074\n",
            "Epoch 76/200\n",
            "149/149 [==============================] - 2s 13ms/step - loss: 0.0068 - val_loss: 0.0075\n",
            "Epoch 77/200\n",
            "149/149 [==============================] - 2s 13ms/step - loss: 0.0071 - val_loss: 0.0071\n",
            "Epoch 78/200\n",
            "149/149 [==============================] - 2s 13ms/step - loss: 0.0071 - val_loss: 0.0076\n",
            "Epoch 79/200\n",
            "149/149 [==============================] - 2s 14ms/step - loss: 0.0072 - val_loss: 0.0084\n",
            "Epoch 80/200\n",
            "149/149 [==============================] - 2s 14ms/step - loss: 0.0072 - val_loss: 0.0076\n",
            "Epoch 81/200\n",
            "149/149 [==============================] - 2s 15ms/step - loss: 0.0072 - val_loss: 0.0076\n",
            "Epoch 82/200\n",
            "149/149 [==============================] - 2s 14ms/step - loss: 0.0073 - val_loss: 0.0078\n",
            "Epoch 83/200\n",
            "149/149 [==============================] - 2s 12ms/step - loss: 0.0069 - val_loss: 0.0078\n",
            "Epoch 84/200\n",
            "149/149 [==============================] - 2s 15ms/step - loss: 0.0073 - val_loss: 0.0078\n",
            "Epoch 85/200\n",
            "149/149 [==============================] - 2s 14ms/step - loss: 0.0069 - val_loss: 0.0075\n",
            "Epoch 86/200\n",
            "149/149 [==============================] - 2s 13ms/step - loss: 0.0079 - val_loss: 0.0071\n",
            "Epoch 87/200\n",
            "149/149 [==============================] - 2s 13ms/step - loss: 0.0069 - val_loss: 0.0074\n",
            "Epoch 88/200\n",
            "149/149 [==============================] - 2s 14ms/step - loss: 0.0068 - val_loss: 0.0074\n",
            "Epoch 89/200\n",
            "149/149 [==============================] - 2s 13ms/step - loss: 0.0069 - val_loss: 0.0076\n",
            "Epoch 90/200\n",
            "149/149 [==============================] - 2s 13ms/step - loss: 0.0066 - val_loss: 0.0073\n",
            "Epoch 91/200\n",
            "149/149 [==============================] - 2s 13ms/step - loss: 0.0073 - val_loss: 0.0080\n",
            "Epoch 92/200\n",
            "149/149 [==============================] - 2s 15ms/step - loss: 0.0072 - val_loss: 0.0078\n",
            "Epoch 93/200\n",
            "149/149 [==============================] - 2s 13ms/step - loss: 0.0066 - val_loss: 0.0077\n",
            "Epoch 94/200\n",
            "149/149 [==============================] - 2s 13ms/step - loss: 0.0063 - val_loss: 0.0074\n",
            "Epoch 95/200\n",
            "149/149 [==============================] - 2s 13ms/step - loss: 0.0065 - val_loss: 0.0082\n",
            "Epoch 96/200\n",
            "149/149 [==============================] - 2s 14ms/step - loss: 0.0069 - val_loss: 0.0081\n",
            "Epoch 97/200\n",
            "149/149 [==============================] - 2s 13ms/step - loss: 0.0064 - val_loss: 0.0083\n",
            "Epoch 98/200\n",
            "149/149 [==============================] - 2s 13ms/step - loss: 0.0065 - val_loss: 0.0078\n",
            "Epoch 99/200\n",
            "149/149 [==============================] - 2s 14ms/step - loss: 0.0069 - val_loss: 0.0076\n",
            "Epoch 100/200\n",
            "149/149 [==============================] - 2s 13ms/step - loss: 0.0065 - val_loss: 0.0077\n",
            "Epoch 101/200\n",
            "149/149 [==============================] - 2s 14ms/step - loss: 0.0071 - val_loss: 0.0081\n",
            "Epoch 102/200\n",
            "149/149 [==============================] - 2s 13ms/step - loss: 0.0066 - val_loss: 0.0079\n",
            "Epoch 103/200\n",
            "149/149 [==============================] - 2s 14ms/step - loss: 0.0065 - val_loss: 0.0081\n",
            "Epoch 104/200\n",
            "149/149 [==============================] - 2s 14ms/step - loss: 0.0065 - val_loss: 0.0079\n",
            "Epoch 105/200\n",
            "149/149 [==============================] - 2s 14ms/step - loss: 0.0064 - val_loss: 0.0090\n",
            "Epoch 106/200\n",
            "149/149 [==============================] - 2s 14ms/step - loss: 0.0079 - val_loss: 0.0074\n",
            "Epoch 107/200\n",
            "149/149 [==============================] - 2s 13ms/step - loss: 0.0066 - val_loss: 0.0080\n",
            "Epoch 108/200\n",
            "149/149 [==============================] - 2s 14ms/step - loss: 0.0065 - val_loss: 0.0085\n",
            "Epoch 109/200\n",
            "149/149 [==============================] - 2s 14ms/step - loss: 0.0066 - val_loss: 0.0078\n",
            "Epoch 110/200\n",
            "149/149 [==============================] - 2s 13ms/step - loss: 0.0065 - val_loss: 0.0075\n",
            "Epoch 111/200\n",
            "149/149 [==============================] - 2s 14ms/step - loss: 0.0068 - val_loss: 0.0084\n",
            "Epoch 112/200\n",
            "149/149 [==============================] - 2s 13ms/step - loss: 0.0060 - val_loss: 0.0074\n",
            "Epoch 113/200\n",
            "149/149 [==============================] - 2s 13ms/step - loss: 0.0064 - val_loss: 0.0078\n",
            "Epoch 114/200\n",
            "149/149 [==============================] - 2s 13ms/step - loss: 0.0061 - val_loss: 0.0083\n",
            "Epoch 115/200\n",
            "149/149 [==============================] - 2s 13ms/step - loss: 0.0065 - val_loss: 0.0083\n",
            "Epoch 116/200\n",
            "149/149 [==============================] - 2s 13ms/step - loss: 0.0063 - val_loss: 0.0080\n",
            "Epoch 117/200\n",
            "149/149 [==============================] - 2s 13ms/step - loss: 0.0068 - val_loss: 0.0078\n",
            "Epoch 118/200\n",
            "149/149 [==============================] - 2s 13ms/step - loss: 0.0062 - val_loss: 0.0081\n",
            "Epoch 119/200\n",
            "149/149 [==============================] - 2s 13ms/step - loss: 0.0063 - val_loss: 0.0076\n",
            "Epoch 120/200\n",
            "149/149 [==============================] - 2s 14ms/step - loss: 0.0063 - val_loss: 0.0079\n",
            "Epoch 121/200\n",
            "149/149 [==============================] - 2s 14ms/step - loss: 0.0058 - val_loss: 0.0079\n",
            "Epoch 122/200\n",
            "149/149 [==============================] - 2s 13ms/step - loss: 0.0059 - val_loss: 0.0082\n",
            "Epoch 123/200\n",
            "149/149 [==============================] - 2s 13ms/step - loss: 0.0057 - val_loss: 0.0075\n",
            "Epoch 124/200\n",
            "149/149 [==============================] - 2s 16ms/step - loss: 0.0057 - val_loss: 0.0082\n",
            "Epoch 125/200\n",
            "149/149 [==============================] - 2s 14ms/step - loss: 0.0062 - val_loss: 0.0081\n",
            "Epoch 126/200\n",
            "149/149 [==============================] - 2s 14ms/step - loss: 0.0062 - val_loss: 0.0080\n",
            "Epoch 127/200\n",
            "149/149 [==============================] - 2s 14ms/step - loss: 0.0063 - val_loss: 0.0084\n",
            "Epoch 128/200\n",
            "149/149 [==============================] - 2s 14ms/step - loss: 0.0055 - val_loss: 0.0083\n",
            "Epoch 129/200\n",
            "149/149 [==============================] - 2s 13ms/step - loss: 0.0061 - val_loss: 0.0086\n",
            "Epoch 130/200\n",
            "149/149 [==============================] - 2s 14ms/step - loss: 0.0053 - val_loss: 0.0085\n",
            "Epoch 131/200\n",
            "149/149 [==============================] - 2s 15ms/step - loss: 0.0060 - val_loss: 0.0082\n",
            "Epoch 132/200\n",
            "149/149 [==============================] - 2s 13ms/step - loss: 0.0059 - val_loss: 0.0078\n",
            "Epoch 133/200\n",
            "149/149 [==============================] - 2s 15ms/step - loss: 0.0060 - val_loss: 0.0082\n",
            "Epoch 134/200\n",
            "149/149 [==============================] - 2s 14ms/step - loss: 0.0059 - val_loss: 0.0084\n",
            "Epoch 135/200\n",
            "149/149 [==============================] - 2s 15ms/step - loss: 0.0059 - val_loss: 0.0084\n",
            "Epoch 136/200\n",
            "149/149 [==============================] - 2s 13ms/step - loss: 0.0056 - val_loss: 0.0087\n",
            "Epoch 137/200\n",
            "149/149 [==============================] - 2s 15ms/step - loss: 0.0057 - val_loss: 0.0086\n",
            "Epoch 138/200\n",
            "149/149 [==============================] - 2s 15ms/step - loss: 0.0062 - val_loss: 0.0085\n",
            "Epoch 139/200\n",
            "149/149 [==============================] - 2s 14ms/step - loss: 0.0058 - val_loss: 0.0084\n",
            "Epoch 140/200\n",
            "149/149 [==============================] - 2s 14ms/step - loss: 0.0056 - val_loss: 0.0086\n",
            "Epoch 141/200\n",
            "149/149 [==============================] - 2s 14ms/step - loss: 0.0055 - val_loss: 0.0088\n",
            "Epoch 142/200\n",
            "149/149 [==============================] - 2s 16ms/step - loss: 0.0058 - val_loss: 0.0088\n",
            "Epoch 143/200\n",
            "149/149 [==============================] - 2s 13ms/step - loss: 0.0058 - val_loss: 0.0093\n",
            "Epoch 144/200\n",
            "149/149 [==============================] - 2s 14ms/step - loss: 0.0058 - val_loss: 0.0087\n",
            "Epoch 145/200\n",
            "149/149 [==============================] - 2s 13ms/step - loss: 0.0055 - val_loss: 0.0090\n",
            "Epoch 146/200\n",
            "149/149 [==============================] - 2s 13ms/step - loss: 0.0054 - val_loss: 0.0090\n",
            "Epoch 147/200\n",
            "149/149 [==============================] - 2s 13ms/step - loss: 0.0059 - val_loss: 0.0086\n",
            "Epoch 148/200\n",
            "149/149 [==============================] - 2s 14ms/step - loss: 0.0055 - val_loss: 0.0094\n",
            "Epoch 149/200\n",
            "149/149 [==============================] - 2s 15ms/step - loss: 0.0057 - val_loss: 0.0093\n",
            "Epoch 150/200\n",
            "149/149 [==============================] - 2s 14ms/step - loss: 0.0055 - val_loss: 0.0090\n",
            "Epoch 151/200\n",
            "149/149 [==============================] - 2s 13ms/step - loss: 0.0056 - val_loss: 0.0090\n",
            "Epoch 152/200\n",
            "149/149 [==============================] - 2s 13ms/step - loss: 0.0056 - val_loss: 0.0091\n",
            "Epoch 153/200\n",
            "149/149 [==============================] - 2s 14ms/step - loss: 0.0052 - val_loss: 0.0092\n",
            "Epoch 154/200\n",
            "149/149 [==============================] - 2s 13ms/step - loss: 0.0051 - val_loss: 0.0089\n",
            "Epoch 155/200\n",
            "149/149 [==============================] - 2s 13ms/step - loss: 0.0054 - val_loss: 0.0092\n",
            "Epoch 156/200\n",
            "149/149 [==============================] - 2s 13ms/step - loss: 0.0051 - val_loss: 0.0089\n",
            "Epoch 157/200\n",
            "149/149 [==============================] - 2s 13ms/step - loss: 0.0052 - val_loss: 0.0093\n",
            "Epoch 158/200\n",
            "149/149 [==============================] - 2s 13ms/step - loss: 0.0050 - val_loss: 0.0092\n",
            "Epoch 159/200\n",
            "149/149 [==============================] - 2s 13ms/step - loss: 0.0053 - val_loss: 0.0098\n",
            "Epoch 160/200\n",
            "149/149 [==============================] - 2s 14ms/step - loss: 0.0053 - val_loss: 0.0097\n",
            "Epoch 161/200\n",
            "149/149 [==============================] - 2s 14ms/step - loss: 0.0051 - val_loss: 0.0090\n",
            "Epoch 162/200\n",
            "149/149 [==============================] - 2s 13ms/step - loss: 0.0054 - val_loss: 0.0097\n",
            "Epoch 163/200\n",
            "149/149 [==============================] - 2s 13ms/step - loss: 0.0054 - val_loss: 0.0090\n",
            "Epoch 164/200\n",
            "149/149 [==============================] - 2s 13ms/step - loss: 0.0051 - val_loss: 0.0094\n",
            "Epoch 165/200\n",
            "149/149 [==============================] - 2s 13ms/step - loss: 0.0050 - val_loss: 0.0087\n",
            "Epoch 166/200\n",
            "149/149 [==============================] - 2s 13ms/step - loss: 0.0050 - val_loss: 0.0091\n",
            "Epoch 167/200\n",
            "149/149 [==============================] - 2s 13ms/step - loss: 0.0046 - val_loss: 0.0093\n",
            "Epoch 168/200\n",
            "149/149 [==============================] - 2s 13ms/step - loss: 0.0048 - val_loss: 0.0094\n",
            "Epoch 169/200\n",
            "149/149 [==============================] - 2s 15ms/step - loss: 0.0052 - val_loss: 0.0098\n",
            "Epoch 170/200\n",
            "149/149 [==============================] - 2s 14ms/step - loss: 0.0051 - val_loss: 0.0104\n",
            "Epoch 171/200\n",
            "149/149 [==============================] - 2s 13ms/step - loss: 0.0050 - val_loss: 0.0095\n",
            "Epoch 172/200\n",
            "149/149 [==============================] - 2s 14ms/step - loss: 0.0052 - val_loss: 0.0095\n",
            "Epoch 173/200\n",
            "149/149 [==============================] - 2s 14ms/step - loss: 0.0048 - val_loss: 0.0094\n",
            "Epoch 174/200\n",
            "149/149 [==============================] - 2s 13ms/step - loss: 0.0045 - val_loss: 0.0103\n",
            "Epoch 175/200\n",
            "149/149 [==============================] - 2s 13ms/step - loss: 0.0045 - val_loss: 0.0097\n",
            "Epoch 176/200\n",
            "149/149 [==============================] - 2s 14ms/step - loss: 0.0044 - val_loss: 0.0101\n",
            "Epoch 177/200\n",
            "149/149 [==============================] - 2s 13ms/step - loss: 0.0047 - val_loss: 0.0106\n",
            "Epoch 178/200\n",
            "149/149 [==============================] - 2s 14ms/step - loss: 0.0048 - val_loss: 0.0101\n",
            "Epoch 179/200\n",
            "149/149 [==============================] - 2s 13ms/step - loss: 0.0047 - val_loss: 0.0100\n",
            "Epoch 180/200\n",
            "149/149 [==============================] - 2s 13ms/step - loss: 0.0045 - val_loss: 0.0098\n",
            "Epoch 181/200\n",
            "149/149 [==============================] - 2s 13ms/step - loss: 0.0047 - val_loss: 0.0100\n",
            "Epoch 182/200\n",
            "149/149 [==============================] - 2s 15ms/step - loss: 0.0043 - val_loss: 0.0094\n",
            "Epoch 183/200\n",
            "149/149 [==============================] - 2s 14ms/step - loss: 0.0043 - val_loss: 0.0096\n",
            "Epoch 184/200\n",
            "149/149 [==============================] - 2s 14ms/step - loss: 0.0045 - val_loss: 0.0102\n",
            "Epoch 185/200\n",
            "149/149 [==============================] - 2s 16ms/step - loss: 0.0042 - val_loss: 0.0102\n",
            "Epoch 186/200\n",
            "149/149 [==============================] - 2s 13ms/step - loss: 0.0043 - val_loss: 0.0105\n",
            "Epoch 187/200\n",
            "149/149 [==============================] - 2s 13ms/step - loss: 0.0040 - val_loss: 0.0104\n",
            "Epoch 188/200\n",
            "149/149 [==============================] - 2s 13ms/step - loss: 0.0042 - val_loss: 0.0111\n",
            "Epoch 189/200\n",
            "149/149 [==============================] - 2s 14ms/step - loss: 0.0043 - val_loss: 0.0109\n",
            "Epoch 190/200\n",
            "149/149 [==============================] - 2s 15ms/step - loss: 0.0043 - val_loss: 0.0112\n",
            "Epoch 191/200\n",
            "149/149 [==============================] - 2s 14ms/step - loss: 0.0043 - val_loss: 0.0106\n",
            "Epoch 192/200\n",
            "149/149 [==============================] - 2s 13ms/step - loss: 0.0039 - val_loss: 0.0105\n",
            "Epoch 193/200\n",
            "149/149 [==============================] - 2s 13ms/step - loss: 0.0041 - val_loss: 0.0103\n",
            "Epoch 194/200\n",
            "149/149 [==============================] - 2s 13ms/step - loss: 0.0041 - val_loss: 0.0107\n",
            "Epoch 195/200\n",
            "149/149 [==============================] - 2s 14ms/step - loss: 0.0040 - val_loss: 0.0110\n",
            "Epoch 196/200\n",
            "149/149 [==============================] - 2s 14ms/step - loss: 0.0040 - val_loss: 0.0114\n",
            "Epoch 197/200\n",
            "149/149 [==============================] - 2s 13ms/step - loss: 0.0039 - val_loss: 0.0112\n",
            "Epoch 198/200\n",
            "149/149 [==============================] - 2s 13ms/step - loss: 0.0042 - val_loss: 0.0118\n",
            "Epoch 199/200\n",
            "149/149 [==============================] - 2s 14ms/step - loss: 0.0041 - val_loss: 0.0108\n",
            "Epoch 200/200\n",
            "149/149 [==============================] - 2s 15ms/step - loss: 0.0037 - val_loss: 0.0114\n",
            "CPU times: user 7min 27s, sys: 30.4 s, total: 7min 57s\n",
            "Wall time: 7min 19s\n"
          ],
          "name": "stdout"
        }
      ]
    },
    {
      "cell_type": "code",
      "metadata": {
        "colab": {
          "base_uri": "https://localhost:8080/"
        },
        "id": "5THv5yLMBTFj",
        "outputId": "e7ec10c7-e1b8-4151-9728-9aab215c1aee"
      },
      "source": [
        "%%time\n",
        "hist_2 = model_2.fit(X_train, y_train,\n",
        "                 epochs = 200,\n",
        "                 batch_size = 16,\n",
        "                 validation_data = (X_test, y_test))"
      ],
      "execution_count": 39,
      "outputs": [
        {
          "output_type": "stream",
          "text": [
            "Epoch 1/200\n",
            "149/149 [==============================] - 11s 37ms/step - loss: 0.0358 - val_loss: 0.0140\n",
            "Epoch 2/200\n",
            "149/149 [==============================] - 4s 25ms/step - loss: 0.0154 - val_loss: 0.0116\n",
            "Epoch 3/200\n",
            "149/149 [==============================] - 4s 27ms/step - loss: 0.0140 - val_loss: 0.0121\n",
            "Epoch 4/200\n",
            "149/149 [==============================] - 4s 28ms/step - loss: 0.0129 - val_loss: 0.0110\n",
            "Epoch 5/200\n",
            "149/149 [==============================] - 4s 24ms/step - loss: 0.0124 - val_loss: 0.0101\n",
            "Epoch 6/200\n",
            "149/149 [==============================] - 4s 25ms/step - loss: 0.0123 - val_loss: 0.0097\n",
            "Epoch 7/200\n",
            "149/149 [==============================] - 4s 25ms/step - loss: 0.0119 - val_loss: 0.0100\n",
            "Epoch 8/200\n",
            "149/149 [==============================] - 4s 24ms/step - loss: 0.0124 - val_loss: 0.0091\n",
            "Epoch 9/200\n",
            "149/149 [==============================] - 4s 24ms/step - loss: 0.0116 - val_loss: 0.0097\n",
            "Epoch 10/200\n",
            "149/149 [==============================] - 4s 25ms/step - loss: 0.0118 - val_loss: 0.0092\n",
            "Epoch 11/200\n",
            "149/149 [==============================] - 4s 25ms/step - loss: 0.0114 - val_loss: 0.0093\n",
            "Epoch 12/200\n",
            "149/149 [==============================] - 4s 27ms/step - loss: 0.0118 - val_loss: 0.0094\n",
            "Epoch 13/200\n",
            "149/149 [==============================] - 4s 28ms/step - loss: 0.0119 - val_loss: 0.0090\n",
            "Epoch 14/200\n",
            "149/149 [==============================] - 4s 25ms/step - loss: 0.0119 - val_loss: 0.0090\n",
            "Epoch 15/200\n",
            "149/149 [==============================] - 4s 26ms/step - loss: 0.0114 - val_loss: 0.0090\n",
            "Epoch 16/200\n",
            "149/149 [==============================] - 4s 27ms/step - loss: 0.0110 - val_loss: 0.0087\n",
            "Epoch 17/200\n",
            "149/149 [==============================] - 4s 28ms/step - loss: 0.0104 - val_loss: 0.0090\n",
            "Epoch 18/200\n",
            "149/149 [==============================] - 4s 25ms/step - loss: 0.0119 - val_loss: 0.0087\n",
            "Epoch 19/200\n",
            "149/149 [==============================] - 4s 24ms/step - loss: 0.0115 - val_loss: 0.0092\n",
            "Epoch 20/200\n",
            "149/149 [==============================] - 4s 25ms/step - loss: 0.0116 - val_loss: 0.0089\n",
            "Epoch 21/200\n",
            "149/149 [==============================] - 4s 25ms/step - loss: 0.0111 - val_loss: 0.0094\n",
            "Epoch 22/200\n",
            "149/149 [==============================] - 4s 26ms/step - loss: 0.0108 - val_loss: 0.0086\n",
            "Epoch 23/200\n",
            "149/149 [==============================] - 4s 27ms/step - loss: 0.0108 - val_loss: 0.0090\n",
            "Epoch 24/200\n",
            "149/149 [==============================] - 4s 25ms/step - loss: 0.0117 - val_loss: 0.0091\n",
            "Epoch 25/200\n",
            "149/149 [==============================] - 4s 26ms/step - loss: 0.0111 - val_loss: 0.0090\n",
            "Epoch 26/200\n",
            "149/149 [==============================] - 4s 25ms/step - loss: 0.0114 - val_loss: 0.0097\n",
            "Epoch 27/200\n",
            "149/149 [==============================] - 4s 25ms/step - loss: 0.0102 - val_loss: 0.0083\n",
            "Epoch 28/200\n",
            "149/149 [==============================] - 4s 27ms/step - loss: 0.0106 - val_loss: 0.0094\n",
            "Epoch 29/200\n",
            "149/149 [==============================] - 4s 26ms/step - loss: 0.0102 - val_loss: 0.0089\n",
            "Epoch 30/200\n",
            "149/149 [==============================] - 4s 24ms/step - loss: 0.0109 - val_loss: 0.0091\n",
            "Epoch 31/200\n",
            "149/149 [==============================] - 4s 26ms/step - loss: 0.0105 - val_loss: 0.0084\n",
            "Epoch 32/200\n",
            "149/149 [==============================] - 4s 24ms/step - loss: 0.0105 - val_loss: 0.0098\n",
            "Epoch 33/200\n",
            "149/149 [==============================] - 4s 25ms/step - loss: 0.0098 - val_loss: 0.0084\n",
            "Epoch 34/200\n",
            "149/149 [==============================] - 4s 24ms/step - loss: 0.0100 - val_loss: 0.0084\n",
            "Epoch 35/200\n",
            "149/149 [==============================] - 4s 25ms/step - loss: 0.0106 - val_loss: 0.0094\n",
            "Epoch 36/200\n",
            "149/149 [==============================] - 4s 25ms/step - loss: 0.0097 - val_loss: 0.0086\n",
            "Epoch 37/200\n",
            "149/149 [==============================] - 4s 27ms/step - loss: 0.0104 - val_loss: 0.0095\n",
            "Epoch 38/200\n",
            "149/149 [==============================] - 4s 29ms/step - loss: 0.0107 - val_loss: 0.0092\n",
            "Epoch 39/200\n",
            "149/149 [==============================] - 4s 27ms/step - loss: 0.0101 - val_loss: 0.0094\n",
            "Epoch 40/200\n",
            "149/149 [==============================] - 4s 24ms/step - loss: 0.0106 - val_loss: 0.0088\n",
            "Epoch 41/200\n",
            "149/149 [==============================] - 4s 24ms/step - loss: 0.0103 - val_loss: 0.0083\n",
            "Epoch 42/200\n",
            "149/149 [==============================] - 4s 24ms/step - loss: 0.0104 - val_loss: 0.0087\n",
            "Epoch 43/200\n",
            "149/149 [==============================] - 4s 25ms/step - loss: 0.0094 - val_loss: 0.0087\n",
            "Epoch 44/200\n",
            "149/149 [==============================] - 4s 25ms/step - loss: 0.0101 - val_loss: 0.0089\n",
            "Epoch 45/200\n",
            "149/149 [==============================] - 4s 26ms/step - loss: 0.0089 - val_loss: 0.0091\n",
            "Epoch 46/200\n",
            "149/149 [==============================] - 4s 27ms/step - loss: 0.0102 - val_loss: 0.0087\n",
            "Epoch 47/200\n",
            "149/149 [==============================] - 4s 24ms/step - loss: 0.0092 - val_loss: 0.0094\n",
            "Epoch 48/200\n",
            "149/149 [==============================] - 4s 24ms/step - loss: 0.0098 - val_loss: 0.0085\n",
            "Epoch 49/200\n",
            "149/149 [==============================] - 4s 25ms/step - loss: 0.0095 - val_loss: 0.0095\n",
            "Epoch 50/200\n",
            "149/149 [==============================] - 4s 24ms/step - loss: 0.0099 - val_loss: 0.0084\n",
            "Epoch 51/200\n",
            "149/149 [==============================] - 4s 25ms/step - loss: 0.0087 - val_loss: 0.0084\n",
            "Epoch 52/200\n",
            "149/149 [==============================] - 4s 26ms/step - loss: 0.0093 - val_loss: 0.0084\n",
            "Epoch 53/200\n",
            "149/149 [==============================] - 4s 25ms/step - loss: 0.0097 - val_loss: 0.0088\n",
            "Epoch 54/200\n",
            "149/149 [==============================] - 4s 24ms/step - loss: 0.0088 - val_loss: 0.0076\n",
            "Epoch 55/200\n",
            "149/149 [==============================] - 4s 25ms/step - loss: 0.0089 - val_loss: 0.0097\n",
            "Epoch 56/200\n",
            "149/149 [==============================] - 4s 25ms/step - loss: 0.0086 - val_loss: 0.0082\n",
            "Epoch 57/200\n",
            "149/149 [==============================] - 4s 26ms/step - loss: 0.0083 - val_loss: 0.0088\n",
            "Epoch 58/200\n",
            "149/149 [==============================] - 4s 27ms/step - loss: 0.0087 - val_loss: 0.0085\n",
            "Epoch 59/200\n",
            "149/149 [==============================] - 4s 24ms/step - loss: 0.0088 - val_loss: 0.0091\n",
            "Epoch 60/200\n",
            "149/149 [==============================] - 4s 26ms/step - loss: 0.0088 - val_loss: 0.0088\n",
            "Epoch 61/200\n",
            "149/149 [==============================] - 4s 27ms/step - loss: 0.0086 - val_loss: 0.0088\n",
            "Epoch 62/200\n",
            "149/149 [==============================] - 4s 26ms/step - loss: 0.0091 - val_loss: 0.0083\n",
            "Epoch 63/200\n",
            "149/149 [==============================] - 4s 27ms/step - loss: 0.0083 - val_loss: 0.0096\n",
            "Epoch 64/200\n",
            "149/149 [==============================] - 4s 25ms/step - loss: 0.0083 - val_loss: 0.0087\n",
            "Epoch 65/200\n",
            "149/149 [==============================] - 4s 25ms/step - loss: 0.0086 - val_loss: 0.0089\n",
            "Epoch 66/200\n",
            "149/149 [==============================] - 4s 24ms/step - loss: 0.0081 - val_loss: 0.0091\n",
            "Epoch 67/200\n",
            "149/149 [==============================] - 4s 26ms/step - loss: 0.0089 - val_loss: 0.0091\n",
            "Epoch 68/200\n",
            "149/149 [==============================] - 4s 25ms/step - loss: 0.0083 - val_loss: 0.0088\n",
            "Epoch 69/200\n",
            "149/149 [==============================] - 4s 27ms/step - loss: 0.0078 - val_loss: 0.0097\n",
            "Epoch 70/200\n",
            "149/149 [==============================] - 4s 26ms/step - loss: 0.0076 - val_loss: 0.0098\n",
            "Epoch 71/200\n",
            "149/149 [==============================] - 4s 26ms/step - loss: 0.0082 - val_loss: 0.0112\n",
            "Epoch 72/200\n",
            "149/149 [==============================] - 4s 26ms/step - loss: 0.0082 - val_loss: 0.0089\n",
            "Epoch 73/200\n",
            "149/149 [==============================] - 4s 27ms/step - loss: 0.0079 - val_loss: 0.0086\n",
            "Epoch 74/200\n",
            "149/149 [==============================] - 4s 25ms/step - loss: 0.0078 - val_loss: 0.0093\n",
            "Epoch 75/200\n",
            "149/149 [==============================] - 4s 26ms/step - loss: 0.0079 - val_loss: 0.0091\n",
            "Epoch 76/200\n",
            "149/149 [==============================] - 4s 25ms/step - loss: 0.0082 - val_loss: 0.0092\n",
            "Epoch 77/200\n",
            "149/149 [==============================] - 4s 26ms/step - loss: 0.0073 - val_loss: 0.0103\n",
            "Epoch 78/200\n",
            "149/149 [==============================] - 4s 27ms/step - loss: 0.0077 - val_loss: 0.0097\n",
            "Epoch 79/200\n",
            "149/149 [==============================] - 4s 25ms/step - loss: 0.0079 - val_loss: 0.0089\n",
            "Epoch 80/200\n",
            "149/149 [==============================] - 4s 24ms/step - loss: 0.0078 - val_loss: 0.0092\n",
            "Epoch 81/200\n",
            "149/149 [==============================] - 4s 25ms/step - loss: 0.0077 - val_loss: 0.0099\n",
            "Epoch 82/200\n",
            "149/149 [==============================] - 4s 26ms/step - loss: 0.0074 - val_loss: 0.0092\n",
            "Epoch 83/200\n",
            "149/149 [==============================] - 4s 26ms/step - loss: 0.0077 - val_loss: 0.0090\n",
            "Epoch 84/200\n",
            "149/149 [==============================] - 4s 26ms/step - loss: 0.0072 - val_loss: 0.0087\n",
            "Epoch 85/200\n",
            "149/149 [==============================] - 4s 25ms/step - loss: 0.0078 - val_loss: 0.0091\n",
            "Epoch 86/200\n",
            "149/149 [==============================] - 4s 24ms/step - loss: 0.0075 - val_loss: 0.0096\n",
            "Epoch 87/200\n",
            "149/149 [==============================] - 4s 25ms/step - loss: 0.0076 - val_loss: 0.0097\n",
            "Epoch 88/200\n",
            "149/149 [==============================] - 4s 25ms/step - loss: 0.0076 - val_loss: 0.0098\n",
            "Epoch 89/200\n",
            "149/149 [==============================] - 4s 27ms/step - loss: 0.0075 - val_loss: 0.0095\n",
            "Epoch 90/200\n",
            "149/149 [==============================] - 4s 26ms/step - loss: 0.0073 - val_loss: 0.0097\n",
            "Epoch 91/200\n",
            "149/149 [==============================] - 4s 27ms/step - loss: 0.0075 - val_loss: 0.0082\n",
            "Epoch 92/200\n",
            "149/149 [==============================] - 4s 24ms/step - loss: 0.0073 - val_loss: 0.0088\n",
            "Epoch 93/200\n",
            "149/149 [==============================] - 4s 24ms/step - loss: 0.0072 - val_loss: 0.0091\n",
            "Epoch 94/200\n",
            "149/149 [==============================] - 4s 26ms/step - loss: 0.0069 - val_loss: 0.0092\n",
            "Epoch 95/200\n",
            "149/149 [==============================] - 4s 26ms/step - loss: 0.0070 - val_loss: 0.0091\n",
            "Epoch 96/200\n",
            "149/149 [==============================] - 4s 26ms/step - loss: 0.0074 - val_loss: 0.0093\n",
            "Epoch 97/200\n",
            "149/149 [==============================] - 4s 25ms/step - loss: 0.0075 - val_loss: 0.0090\n",
            "Epoch 98/200\n",
            "149/149 [==============================] - 4s 25ms/step - loss: 0.0074 - val_loss: 0.0099\n",
            "Epoch 99/200\n",
            "149/149 [==============================] - 4s 28ms/step - loss: 0.0075 - val_loss: 0.0095\n",
            "Epoch 100/200\n",
            "149/149 [==============================] - 4s 26ms/step - loss: 0.0076 - val_loss: 0.0097\n",
            "Epoch 101/200\n",
            "149/149 [==============================] - 4s 27ms/step - loss: 0.0070 - val_loss: 0.0088\n",
            "Epoch 102/200\n",
            "149/149 [==============================] - 4s 27ms/step - loss: 0.0070 - val_loss: 0.0098\n",
            "Epoch 103/200\n",
            "149/149 [==============================] - 4s 25ms/step - loss: 0.0070 - val_loss: 0.0091\n",
            "Epoch 104/200\n",
            "149/149 [==============================] - 4s 25ms/step - loss: 0.0073 - val_loss: 0.0093\n",
            "Epoch 105/200\n",
            "149/149 [==============================] - 4s 24ms/step - loss: 0.0070 - val_loss: 0.0094\n",
            "Epoch 106/200\n",
            "149/149 [==============================] - 4s 25ms/step - loss: 0.0069 - val_loss: 0.0098\n",
            "Epoch 107/200\n",
            "149/149 [==============================] - 4s 26ms/step - loss: 0.0071 - val_loss: 0.0094\n",
            "Epoch 108/200\n",
            "149/149 [==============================] - 4s 26ms/step - loss: 0.0067 - val_loss: 0.0095\n",
            "Epoch 109/200\n",
            "149/149 [==============================] - 4s 25ms/step - loss: 0.0067 - val_loss: 0.0105\n",
            "Epoch 110/200\n",
            "149/149 [==============================] - 4s 24ms/step - loss: 0.0069 - val_loss: 0.0091\n",
            "Epoch 111/200\n",
            "149/149 [==============================] - 4s 24ms/step - loss: 0.0068 - val_loss: 0.0100\n",
            "Epoch 112/200\n",
            "149/149 [==============================] - 4s 25ms/step - loss: 0.0068 - val_loss: 0.0093\n",
            "Epoch 113/200\n",
            "149/149 [==============================] - 4s 26ms/step - loss: 0.0066 - val_loss: 0.0099\n",
            "Epoch 114/200\n",
            "149/149 [==============================] - 4s 26ms/step - loss: 0.0066 - val_loss: 0.0099\n",
            "Epoch 115/200\n",
            "149/149 [==============================] - 4s 24ms/step - loss: 0.0066 - val_loss: 0.0097\n",
            "Epoch 116/200\n",
            "149/149 [==============================] - 4s 26ms/step - loss: 0.0066 - val_loss: 0.0109\n",
            "Epoch 117/200\n",
            "149/149 [==============================] - 4s 27ms/step - loss: 0.0069 - val_loss: 0.0095\n",
            "Epoch 118/200\n",
            "149/149 [==============================] - 4s 29ms/step - loss: 0.0063 - val_loss: 0.0097\n",
            "Epoch 119/200\n",
            "149/149 [==============================] - 4s 25ms/step - loss: 0.0062 - val_loss: 0.0106\n",
            "Epoch 120/200\n",
            "149/149 [==============================] - 4s 25ms/step - loss: 0.0061 - val_loss: 0.0100\n",
            "Epoch 121/200\n",
            "149/149 [==============================] - 4s 25ms/step - loss: 0.0064 - val_loss: 0.0103\n",
            "Epoch 122/200\n",
            "149/149 [==============================] - 4s 26ms/step - loss: 0.0066 - val_loss: 0.0098\n",
            "Epoch 123/200\n",
            "149/149 [==============================] - 4s 26ms/step - loss: 0.0063 - val_loss: 0.0096\n",
            "Epoch 124/200\n",
            "149/149 [==============================] - 4s 27ms/step - loss: 0.0064 - val_loss: 0.0089\n",
            "Epoch 125/200\n",
            "149/149 [==============================] - 4s 26ms/step - loss: 0.0069 - val_loss: 0.0104\n",
            "Epoch 126/200\n",
            "149/149 [==============================] - 4s 25ms/step - loss: 0.0060 - val_loss: 0.0113\n",
            "Epoch 127/200\n",
            "149/149 [==============================] - 4s 25ms/step - loss: 0.0065 - val_loss: 0.0102\n",
            "Epoch 128/200\n",
            "149/149 [==============================] - 4s 25ms/step - loss: 0.0056 - val_loss: 0.0110\n",
            "Epoch 129/200\n",
            "149/149 [==============================] - 4s 24ms/step - loss: 0.0060 - val_loss: 0.0099\n",
            "Epoch 130/200\n",
            "149/149 [==============================] - 4s 25ms/step - loss: 0.0058 - val_loss: 0.0121\n",
            "Epoch 131/200\n",
            "149/149 [==============================] - 4s 26ms/step - loss: 0.0058 - val_loss: 0.0097\n",
            "Epoch 132/200\n",
            "149/149 [==============================] - 4s 26ms/step - loss: 0.0060 - val_loss: 0.0103\n",
            "Epoch 133/200\n",
            "149/149 [==============================] - 4s 25ms/step - loss: 0.0064 - val_loss: 0.0101\n",
            "Epoch 134/200\n",
            "149/149 [==============================] - 4s 25ms/step - loss: 0.0060 - val_loss: 0.0106\n",
            "Epoch 135/200\n",
            "149/149 [==============================] - 4s 24ms/step - loss: 0.0056 - val_loss: 0.0106\n",
            "Epoch 136/200\n",
            "149/149 [==============================] - 4s 25ms/step - loss: 0.0061 - val_loss: 0.0113\n",
            "Epoch 137/200\n",
            "149/149 [==============================] - 4s 26ms/step - loss: 0.0057 - val_loss: 0.0100\n",
            "Epoch 138/200\n",
            "149/149 [==============================] - 4s 25ms/step - loss: 0.0056 - val_loss: 0.0100\n",
            "Epoch 139/200\n",
            "149/149 [==============================] - 4s 26ms/step - loss: 0.0057 - val_loss: 0.0113\n",
            "Epoch 140/200\n",
            "149/149 [==============================] - 4s 25ms/step - loss: 0.0059 - val_loss: 0.0116\n",
            "Epoch 141/200\n",
            "149/149 [==============================] - 4s 25ms/step - loss: 0.0052 - val_loss: 0.0120\n",
            "Epoch 142/200\n",
            "149/149 [==============================] - 4s 26ms/step - loss: 0.0055 - val_loss: 0.0115\n",
            "Epoch 143/200\n",
            "149/149 [==============================] - 4s 26ms/step - loss: 0.0057 - val_loss: 0.0119\n",
            "Epoch 144/200\n",
            "149/149 [==============================] - 4s 26ms/step - loss: 0.0051 - val_loss: 0.0110\n",
            "Epoch 145/200\n",
            "149/149 [==============================] - 4s 27ms/step - loss: 0.0052 - val_loss: 0.0112\n",
            "Epoch 146/200\n",
            "149/149 [==============================] - 4s 27ms/step - loss: 0.0052 - val_loss: 0.0116\n",
            "Epoch 147/200\n",
            "149/149 [==============================] - 4s 29ms/step - loss: 0.0049 - val_loss: 0.0114\n",
            "Epoch 148/200\n",
            "149/149 [==============================] - 4s 28ms/step - loss: 0.0045 - val_loss: 0.0116\n",
            "Epoch 149/200\n",
            "149/149 [==============================] - 4s 26ms/step - loss: 0.0049 - val_loss: 0.0122\n",
            "Epoch 150/200\n",
            "149/149 [==============================] - 4s 26ms/step - loss: 0.0051 - val_loss: 0.0110\n",
            "Epoch 151/200\n",
            "149/149 [==============================] - 4s 25ms/step - loss: 0.0049 - val_loss: 0.0128\n",
            "Epoch 152/200\n",
            "149/149 [==============================] - 4s 28ms/step - loss: 0.0049 - val_loss: 0.0125\n",
            "Epoch 153/200\n",
            "149/149 [==============================] - 4s 24ms/step - loss: 0.0051 - val_loss: 0.0116\n",
            "Epoch 154/200\n",
            "149/149 [==============================] - 4s 28ms/step - loss: 0.0047 - val_loss: 0.0127\n",
            "Epoch 155/200\n",
            "149/149 [==============================] - 4s 25ms/step - loss: 0.0044 - val_loss: 0.0126\n",
            "Epoch 156/200\n",
            "149/149 [==============================] - 4s 25ms/step - loss: 0.0049 - val_loss: 0.0115\n",
            "Epoch 157/200\n",
            "149/149 [==============================] - 4s 26ms/step - loss: 0.0045 - val_loss: 0.0112\n",
            "Epoch 158/200\n",
            "149/149 [==============================] - 4s 27ms/step - loss: 0.0047 - val_loss: 0.0120\n",
            "Epoch 159/200\n",
            "149/149 [==============================] - 4s 25ms/step - loss: 0.0048 - val_loss: 0.0129\n",
            "Epoch 160/200\n",
            "149/149 [==============================] - 4s 25ms/step - loss: 0.0044 - val_loss: 0.0111\n",
            "Epoch 161/200\n",
            "149/149 [==============================] - 4s 24ms/step - loss: 0.0042 - val_loss: 0.0121\n",
            "Epoch 162/200\n",
            "149/149 [==============================] - 4s 25ms/step - loss: 0.0043 - val_loss: 0.0129\n",
            "Epoch 163/200\n",
            "149/149 [==============================] - 4s 26ms/step - loss: 0.0043 - val_loss: 0.0133\n",
            "Epoch 164/200\n",
            "149/149 [==============================] - 4s 25ms/step - loss: 0.0039 - val_loss: 0.0129\n",
            "Epoch 165/200\n",
            "149/149 [==============================] - 4s 26ms/step - loss: 0.0044 - val_loss: 0.0132\n",
            "Epoch 166/200\n",
            "149/149 [==============================] - 4s 26ms/step - loss: 0.0042 - val_loss: 0.0130\n",
            "Epoch 167/200\n",
            "149/149 [==============================] - 4s 26ms/step - loss: 0.0043 - val_loss: 0.0125\n",
            "Epoch 168/200\n",
            "149/149 [==============================] - 4s 26ms/step - loss: 0.0043 - val_loss: 0.0119\n",
            "Epoch 169/200\n",
            "149/149 [==============================] - 4s 26ms/step - loss: 0.0037 - val_loss: 0.0142\n",
            "Epoch 170/200\n",
            "149/149 [==============================] - 4s 26ms/step - loss: 0.0038 - val_loss: 0.0142\n",
            "Epoch 171/200\n",
            "149/149 [==============================] - 4s 25ms/step - loss: 0.0039 - val_loss: 0.0125\n",
            "Epoch 172/200\n",
            "149/149 [==============================] - 4s 26ms/step - loss: 0.0040 - val_loss: 0.0133\n",
            "Epoch 173/200\n",
            "149/149 [==============================] - 4s 25ms/step - loss: 0.0036 - val_loss: 0.0136\n",
            "Epoch 174/200\n",
            "149/149 [==============================] - 4s 26ms/step - loss: 0.0043 - val_loss: 0.0127\n",
            "Epoch 175/200\n",
            "149/149 [==============================] - 4s 26ms/step - loss: 0.0038 - val_loss: 0.0129\n",
            "Epoch 176/200\n",
            "149/149 [==============================] - 4s 27ms/step - loss: 0.0040 - val_loss: 0.0137\n",
            "Epoch 177/200\n",
            "149/149 [==============================] - 4s 26ms/step - loss: 0.0037 - val_loss: 0.0146\n",
            "Epoch 178/200\n",
            "149/149 [==============================] - 4s 24ms/step - loss: 0.0037 - val_loss: 0.0139\n",
            "Epoch 179/200\n",
            "149/149 [==============================] - 4s 25ms/step - loss: 0.0036 - val_loss: 0.0155\n",
            "Epoch 180/200\n",
            "149/149 [==============================] - 4s 25ms/step - loss: 0.0039 - val_loss: 0.0143\n",
            "Epoch 181/200\n",
            "149/149 [==============================] - 4s 26ms/step - loss: 0.0032 - val_loss: 0.0145\n",
            "Epoch 182/200\n",
            "149/149 [==============================] - 4s 26ms/step - loss: 0.0032 - val_loss: 0.0139\n",
            "Epoch 183/200\n",
            "149/149 [==============================] - 4s 26ms/step - loss: 0.0033 - val_loss: 0.0143\n",
            "Epoch 184/200\n",
            "149/149 [==============================] - 4s 28ms/step - loss: 0.0033 - val_loss: 0.0140\n",
            "Epoch 185/200\n",
            "149/149 [==============================] - 4s 26ms/step - loss: 0.0032 - val_loss: 0.0138\n",
            "Epoch 186/200\n",
            "149/149 [==============================] - 4s 25ms/step - loss: 0.0038 - val_loss: 0.0143\n",
            "Epoch 187/200\n",
            "149/149 [==============================] - 4s 26ms/step - loss: 0.0032 - val_loss: 0.0149\n",
            "Epoch 188/200\n",
            "149/149 [==============================] - 4s 26ms/step - loss: 0.0030 - val_loss: 0.0150\n",
            "Epoch 189/200\n",
            "149/149 [==============================] - 4s 27ms/step - loss: 0.0033 - val_loss: 0.0148\n",
            "Epoch 190/200\n",
            "149/149 [==============================] - 4s 27ms/step - loss: 0.0030 - val_loss: 0.0139\n",
            "Epoch 191/200\n",
            "149/149 [==============================] - 4s 28ms/step - loss: 0.0032 - val_loss: 0.0154\n",
            "Epoch 192/200\n",
            "149/149 [==============================] - 4s 24ms/step - loss: 0.0030 - val_loss: 0.0157\n",
            "Epoch 193/200\n",
            "149/149 [==============================] - 4s 29ms/step - loss: 0.0031 - val_loss: 0.0149\n",
            "Epoch 194/200\n",
            "149/149 [==============================] - 4s 29ms/step - loss: 0.0029 - val_loss: 0.0145\n",
            "Epoch 195/200\n",
            "149/149 [==============================] - 4s 26ms/step - loss: 0.0027 - val_loss: 0.0165\n",
            "Epoch 196/200\n",
            "149/149 [==============================] - 4s 26ms/step - loss: 0.0029 - val_loss: 0.0146\n",
            "Epoch 197/200\n",
            "149/149 [==============================] - 4s 26ms/step - loss: 0.0026 - val_loss: 0.0167\n",
            "Epoch 198/200\n",
            "149/149 [==============================] - 4s 26ms/step - loss: 0.0029 - val_loss: 0.0141\n",
            "Epoch 199/200\n",
            "149/149 [==============================] - 4s 26ms/step - loss: 0.0031 - val_loss: 0.0151\n",
            "Epoch 200/200\n",
            "149/149 [==============================] - 4s 27ms/step - loss: 0.0029 - val_loss: 0.0144\n",
            "CPU times: user 14min 7s, sys: 49.9 s, total: 14min 56s\n",
            "Wall time: 12min 53s\n"
          ],
          "name": "stdout"
        }
      ]
    },
    {
      "cell_type": "markdown",
      "metadata": {
        "id": "0tLcGJQb6iO3"
      },
      "source": [
        "### 3) Visualization"
      ]
    },
    {
      "cell_type": "code",
      "metadata": {
        "colab": {
          "base_uri": "https://localhost:8080/",
          "height": 334
        },
        "id": "n8Q-bPQC6gXx",
        "outputId": "d77ea55a-f695-4b6a-9f66-cb5afb0770dc"
      },
      "source": [
        "plt.figure(figsize = (12, 5))\n",
        "plt.plot(hist.history['loss'])\n",
        "plt.plot(hist.history['val_loss'])\n",
        "\n",
        "plt.ylabel('loss')\n",
        "plt.xlabel('epoch')\n",
        "plt.legend(['Train Loss' , 'Valid Loss'] , loc = 'upper right')\n",
        "plt.show()"
      ],
      "execution_count": 20,
      "outputs": [
        {
          "output_type": "display_data",
          "data": {
            "image/png": "[encoded data removed]",
            "text/plain": [
              "<Figure size 864x360 with 1 Axes>"
            ]
          },
          "metadata": {
            "tags": [],
            "needs_background": "light"
          }
        }
      ]
    },
    {
      "cell_type": "code",
      "metadata": {
        "colab": {
          "base_uri": "https://localhost:8080/",
          "height": 334
        },
        "id": "lnGrHQywCQ4U",
        "outputId": "33730018-ce75-49cd-ba43-2131afa80a27"
      },
      "source": [
        "plt.figure(figsize = (12, 5))\n",
        "plt.plot(hist_2.history['loss'])\n",
        "plt.plot(hist_2.history['val_loss'])\n",
        "\n",
        "plt.ylabel('loss')\n",
        "plt.xlabel('epoch')\n",
        "plt.legend(['Train Loss' , 'Valid Loss'] , loc = 'upper right')\n",
        "plt.show()"
      ],
      "execution_count": 40,
      "outputs": [
        {
          "output_type": "display_data",
          "data": {
            "image/png": "[encoded data removed]",
            "text/plain": [
              "<Figure size 864x360 with 1 Axes>"
            ]
          },
          "metadata": {
            "tags": [],
            "needs_background": "light"
          }
        }
      ]
    },
    {
      "cell_type": "markdown",
      "metadata": {
        "id": "62A6QImS6nag"
      },
      "source": [
        "### 4) Model Evaluate"
      ]
    },
    {
      "cell_type": "code",
      "metadata": {
        "colab": {
          "base_uri": "https://localhost:8080/"
        },
        "id": "Fo6kQQ7w6qRZ",
        "outputId": "d7eae44b-0d63-4002-f9b5-379aef3a117a"
      },
      "source": [
        "train_score = model.evaluate(X_train, y_train, verbose = 0)\n",
        "print('Train Score: ' , train_score)\n",
        "\n",
        "test_score = model.evaluate(X_test, y_test, verbose = 0)\n",
        "print('Test Score: ' , test_score)"
      ],
      "execution_count": 21,
      "outputs": [
        {
          "output_type": "stream",
          "text": [
            "Train Score:  0.0037085541989654303\n",
            "Test Score:  0.011447252705693245\n"
          ],
          "name": "stdout"
        }
      ]
    },
    {
      "cell_type": "code",
      "metadata": {
        "colab": {
          "base_uri": "https://localhost:8080/"
        },
        "id": "-0lATgh_CTYe",
        "outputId": "e32f1e9a-4d8f-4c20-fe3d-eb42a010b239"
      },
      "source": [
        "train_score = model_2.evaluate(X_train, y_train, verbose = 0)\n",
        "print('Train Score: ' , train_score)\n",
        "\n",
        "test_score = model_2.evaluate(X_test, y_test, verbose = 0)\n",
        "print('Test Score: ' , test_score)"
      ],
      "execution_count": 41,
      "outputs": [
        {
          "output_type": "stream",
          "text": [
            "Train Score:  0.0030365718994289637\n",
            "Test Score:  0.014352346770465374\n"
          ],
          "name": "stdout"
        }
      ]
    },
    {
      "cell_type": "markdown",
      "metadata": {
        "id": "pXcvrni_6szm"
      },
      "source": [
        "## 4. Model Predict"
      ]
    },
    {
      "cell_type": "code",
      "metadata": {
        "colab": {
          "base_uri": "https://localhost:8080/",
          "height": 320
        },
        "id": "RIUsSJ1U6vFf",
        "outputId": "6c005a4b-2458-41ac-ce20-da65dd1ec75e"
      },
      "source": [
        "look_ahead = 550\n",
        "\n",
        "xhat = X_test[0]\n",
        "\n",
        "predictions = np.zeros((look_ahead, 1))\n",
        "\n",
        "for i in range(look_ahead) :\n",
        "  prediction = model.predict(np.array([xhat]), batch_size = 1)\n",
        "  predictions[i] = prediction\n",
        "  xhat = np.vstack([xhat[1:], prediction])\n",
        "\n",
        "plt.figure(figsize = (12, 5))\n",
        "plt.plot(np.arange(look_ahead), predictions, 'r', label = 'Prediction')\n",
        "plt.plot(np.arange(look_ahead), y_test[:look_ahead], label = 'Test_Data')\n",
        "plt.legend()\n",
        "\n",
        "plt.show()"
      ],
      "execution_count": 22,
      "outputs": [
        {
          "output_type": "display_data",
          "data": {
            "image/png": "[encoded data removed]",
            "text/plain": [
              "<Figure size 864x360 with 1 Axes>"
            ]
          },
          "metadata": {
            "tags": [],
            "needs_background": "light"
          }
        }
      ]
    },
    {
      "cell_type": "code",
      "metadata": {
        "id": "lFmSIF659x3M"
      },
      "source": [
        ""
      ],
      "execution_count": null,
      "outputs": []
    }
  ]
}