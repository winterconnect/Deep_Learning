{
  "nbformat": 4,
  "nbformat_minor": 0,
  "metadata": {
    "colab": {
      "name": "012_DNN_CIFAR_10_Categorical_Classification.ipynb",
      "provenance": []
    },
    "kernelspec": {
      "name": "python3",
      "display_name": "Python 3"
    },
    "language_info": {
      "name": "python"
    },
    "accelerator": "GPU"
  },
  "cells": [
    {
      "cell_type": "code",
      "metadata": {
        "id": "vCj0FYKVa6mI"
      },
      "source": [
        "import warnings\n",
        "warnings.filterwarnings('ignore')"
      ],
      "execution_count": null,
      "outputs": []
    },
    {
      "cell_type": "code",
      "metadata": {
        "id": "IRHpES0hcG6v"
      },
      "source": [
        "import matplotlib.pyplot as plt\n",
        "import numpy as np"
      ],
      "execution_count": null,
      "outputs": []
    },
    {
      "cell_type": "code",
      "metadata": {
        "id": "9vnkaL0ObCy3"
      },
      "source": [
        "import keras\n",
        "from keras.datasets import cifar10\n",
        "from keras.utils import to_categorical\n",
        "\n",
        "from keras import models\n",
        "from keras import layers"
      ],
      "execution_count": null,
      "outputs": []
    },
    {
      "cell_type": "code",
      "metadata": {
        "colab": {
          "base_uri": "https://localhost:8080/"
        },
        "id": "aKeS8I4Yba_T",
        "outputId": "87706b1e-4818-4d19-c192-0ba6f4f7ffcc"
      },
      "source": [
        "keras.__version__ , tf.__version__"
      ],
      "execution_count": null,
      "outputs": [
        {
          "output_type": "execute_result",
          "data": {
            "text/plain": [
              "('2.4.3', '2.4.1')"
            ]
          },
          "metadata": {
            "tags": []
          },
          "execution_count": 5
        }
      ]
    },
    {
      "cell_type": "code",
      "metadata": {
        "colab": {
          "base_uri": "https://localhost:8080/",
          "height": 35
        },
        "id": "AC7RBS6wbE3N",
        "outputId": "57cf170d-2396-4c23-a2a9-f80af586325e"
      },
      "source": [
        "import tensorflow as tf\n",
        "\n"
      ],
      "execution_count": null,
      "outputs": [
        {
          "output_type": "execute_result",
          "data": {
            "application/vnd.google.colaboratory.intrinsic+json": {
              "type": "string"
            },
            "text/plain": [
              "'2.4.1'"
            ]
          },
          "metadata": {
            "tags": []
          },
          "execution_count": 3
        }
      ]
    },
    {
      "cell_type": "code",
      "metadata": {
        "colab": {
          "base_uri": "https://localhost:8080/",
          "height": 35
        },
        "id": "06BoR70abHTd",
        "outputId": "18d251ad-0541-4b7f-e313-b79dccace1fc"
      },
      "source": [
        "tf.test.gpu_device_name()"
      ],
      "execution_count": null,
      "outputs": [
        {
          "output_type": "execute_result",
          "data": {
            "application/vnd.google.colaboratory.intrinsic+json": {
              "type": "string"
            },
            "text/plain": [
              "'/device:GPU:0'"
            ]
          },
          "metadata": {
            "tags": []
          },
          "execution_count": 4
        }
      ]
    },
    {
      "cell_type": "markdown",
      "metadata": {
        "id": "a8Srv4KObi7L"
      },
      "source": [
        "## 1. CIFAR 10 Dataset Load"
      ]
    },
    {
      "cell_type": "code",
      "metadata": {
        "colab": {
          "base_uri": "https://localhost:8080/"
        },
        "id": "CV_Um80bbWDX",
        "outputId": "92b53d89-3271-41a1-93c2-127014d30569"
      },
      "source": [
        "(X_train, y_train) , (X_test, y_test) = cifar10.load_data()"
      ],
      "execution_count": null,
      "outputs": [
        {
          "output_type": "stream",
          "text": [
            "Downloading data from https://www.cs.toronto.edu/~kriz/cifar-10-python.tar.gz\n",
            "170500096/170498071 [==============================] - 4s 0us/step\n"
          ],
          "name": "stdout"
        }
      ]
    },
    {
      "cell_type": "code",
      "metadata": {
        "colab": {
          "base_uri": "https://localhost:8080/"
        },
        "id": "mEf6upVJbru8",
        "outputId": "77591a1a-47c0-495d-bc93-a90d8ebf90e2"
      },
      "source": [
        "print(len(X_train))\n",
        "print(X_train.shape)\n",
        "\n",
        "print(len(y_train))\n",
        "print(y_train.shape)\n",
        "print(y_train[:5])"
      ],
      "execution_count": null,
      "outputs": [
        {
          "output_type": "stream",
          "text": [
            "50000\n",
            "(50000, 32, 32, 3)\n",
            "50000\n",
            "(50000, 1)\n",
            "[[6]\n",
            " [9]\n",
            " [9]\n",
            " [4]\n",
            " [1]]\n"
          ],
          "name": "stdout"
        }
      ]
    },
    {
      "cell_type": "code",
      "metadata": {
        "colab": {
          "base_uri": "https://localhost:8080/"
        },
        "id": "WETMxFcVbwuq",
        "outputId": "f42c01c0-1ba7-4a8f-9e2e-312015c2cdc1"
      },
      "source": [
        "print(len(X_test))\n",
        "print(X_test.shape)\n",
        "\n",
        "print(len(y_test))\n",
        "print(y_test.shape)\n",
        "print(y_test[:5])"
      ],
      "execution_count": null,
      "outputs": [
        {
          "output_type": "stream",
          "text": [
            "10000\n",
            "(10000, 32, 32, 3)\n",
            "10000\n",
            "(10000, 1)\n",
            "[[3]\n",
            " [8]\n",
            " [8]\n",
            " [0]\n",
            " [6]]\n"
          ],
          "name": "stdout"
        }
      ]
    },
    {
      "cell_type": "markdown",
      "metadata": {
        "id": "LjnvySBEcEVW"
      },
      "source": [
        "## 2) Visualization"
      ]
    },
    {
      "cell_type": "code",
      "metadata": {
        "colab": {
          "base_uri": "https://localhost:8080/",
          "height": 266
        },
        "id": "zxTUGcUfcCSM",
        "outputId": "7c17db39-bf95-4c8f-ea8f-eade2a7ffb4b"
      },
      "source": [
        "digit = X_train[0]\n",
        "plt.imshow(digit)\n",
        "plt.show()"
      ],
      "execution_count": null,
      "outputs": [
        {
          "output_type": "display_data",
          "data": {
            "image/png": "[encoded data removed]",
            "text/plain": [
              "<Figure size 432x288 with 1 Axes>"
            ]
          },
          "metadata": {
            "tags": [],
            "needs_background": "light"
          }
        }
      ]
    },
    {
      "cell_type": "code",
      "metadata": {
        "colab": {
          "base_uri": "https://localhost:8080/"
        },
        "id": "Y9rodmhMcLzP",
        "outputId": "9453d454-ccec-457b-f3cd-3a55a02347ce"
      },
      "source": [
        "np.set_printoptions(linewidth = 150)\n",
        "print(X_train[0][0])"
      ],
      "execution_count": null,
      "outputs": [
        {
          "output_type": "stream",
          "text": [
            "[[ 59  62  63]\n",
            " [ 43  46  45]\n",
            " [ 50  48  43]\n",
            " [ 68  54  42]\n",
            " [ 98  73  52]\n",
            " [119  91  63]\n",
            " [139 107  75]\n",
            " [145 110  80]\n",
            " [149 117  89]\n",
            " [149 120  93]\n",
            " [131 103  77]\n",
            " [125  99  76]\n",
            " [142 115  91]\n",
            " [144 112  86]\n",
            " [137 105  79]\n",
            " [129  97  71]\n",
            " [137 106  79]\n",
            " [134 106  76]\n",
            " [124  97  64]\n",
            " [139 113  78]\n",
            " [139 112  75]\n",
            " [133 105  69]\n",
            " [136 105  74]\n",
            " [139 108  77]\n",
            " [152 120  89]\n",
            " [163 131 100]\n",
            " [168 136 108]\n",
            " [159 129 102]\n",
            " [158 130 104]\n",
            " [158 132 108]\n",
            " [152 125 102]\n",
            " [148 124 103]]\n"
          ],
          "name": "stdout"
        }
      ]
    },
    {
      "cell_type": "markdown",
      "metadata": {
        "id": "AGJJULSscyom"
      },
      "source": [
        "## 2. Data Preprocessing"
      ]
    },
    {
      "cell_type": "markdown",
      "metadata": {
        "id": "uGqPJdDRc2Nf"
      },
      "source": [
        "### 1) Reshape and Normalization\n",
        "- reshape\n",
        "  - (50000, 32, 32, 3) to (50000, 3072)"
      ]
    },
    {
      "cell_type": "code",
      "metadata": {
        "colab": {
          "base_uri": "https://localhost:8080/"
        },
        "id": "sQZ0BdNIc1UH",
        "outputId": "649b2fda-e87e-4d26-a9a2-3e957798da8c"
      },
      "source": [
        "X_train = X_train.reshape((50000, 32 * 32 * 3))\n",
        "X_test = X_test.reshape((10000, 32 * 32 * 3))\n",
        "\n",
        "X_train.shape, X_test.shape"
      ],
      "execution_count": null,
      "outputs": [
        {
          "output_type": "execute_result",
          "data": {
            "text/plain": [
              "((50000, 3072), (10000, 3072))"
            ]
          },
          "metadata": {
            "tags": []
          },
          "execution_count": 20
        }
      ]
    },
    {
      "cell_type": "markdown",
      "metadata": {
        "id": "4ouUepIGdIwM"
      },
      "source": [
        "- Normalization"
      ]
    },
    {
      "cell_type": "code",
      "metadata": {
        "id": "_1ygoUDFcWV1"
      },
      "source": [
        "X_train = X_train.astype(float) / 255\n",
        "X_test = X_test.astype(float) / 255"
      ],
      "execution_count": null,
      "outputs": []
    },
    {
      "cell_type": "code",
      "metadata": {
        "colab": {
          "base_uri": "https://localhost:8080/"
        },
        "id": "3aqlFy5QdPh_",
        "outputId": "733692b6-a4a1-4323-e5a8-6ce35719e7ad"
      },
      "source": [
        "print(X_train[0])"
      ],
      "execution_count": null,
      "outputs": [
        {
          "output_type": "stream",
          "text": [
            "[0.23137255 0.24313725 0.24705882 ... 0.48235294 0.36078431 0.28235294]\n"
          ],
          "name": "stdout"
        }
      ]
    },
    {
      "cell_type": "markdown",
      "metadata": {
        "id": "GqsxX-2hdSYP"
      },
      "source": [
        "### 2) One Hot Encoding"
      ]
    },
    {
      "cell_type": "code",
      "metadata": {
        "id": "GnNYn0dVdRCP"
      },
      "source": [
        "y_train = to_categorical(y_train)\n",
        "y_test = to_categorical(y_test)"
      ],
      "execution_count": null,
      "outputs": []
    },
    {
      "cell_type": "code",
      "metadata": {
        "colab": {
          "base_uri": "https://localhost:8080/"
        },
        "id": "KxZYd1IEdbmI",
        "outputId": "fc473049-afec-4d79-9d08-92bcdd79401c"
      },
      "source": [
        "print(y_train[:5])"
      ],
      "execution_count": null,
      "outputs": [
        {
          "output_type": "stream",
          "text": [
            "[[0. 0. 0. 0. 0. 0. 1. 0. 0. 0.]\n",
            " [0. 0. 0. 0. 0. 0. 0. 0. 0. 1.]\n",
            " [0. 0. 0. 0. 0. 0. 0. 0. 0. 1.]\n",
            " [0. 0. 0. 0. 1. 0. 0. 0. 0. 0.]\n",
            " [0. 1. 0. 0. 0. 0. 0. 0. 0. 0.]]\n"
          ],
          "name": "stdout"
        }
      ]
    },
    {
      "cell_type": "markdown",
      "metadata": {
        "id": "0wSl2BPWdeTk"
      },
      "source": [
        "### 3. Keras Modeling"
      ]
    },
    {
      "cell_type": "markdown",
      "metadata": {
        "id": "MIV2VxkmdgrI"
      },
      "source": [
        "### 1) Model Define"
      ]
    },
    {
      "cell_type": "markdown",
      "metadata": {
        "id": "bY0coJrfdkoc"
      },
      "source": [
        "- 모델 신경망 구조 정의\n",
        "  - 2개의 Hidden Layers & 3968개의 Nodes"
      ]
    },
    {
      "cell_type": "code",
      "metadata": {
        "id": "S7hjwUUEddue"
      },
      "source": [
        "CIFAR = models.Sequential()\n",
        "\n",
        "# CIFAR.add(layers.Dense(2048, activation = 'relu' , input_shape = (32 * 32 * 3,)))\n",
        "CIFAR.add(layers.Dense(1024, activation = 'relu' , input_shape = (32 * 32 * 3,)))\n",
        "CIFAR.add(layers.Dense(512, activation = 'relu'))\n",
        "CIFAR.add(layers.Dense(256, activation = 'relu'))\n",
        "CIFAR.add(layers.Dense(128, activation = 'relu'))\n",
        "CIFAR.add(layers.Dense(10, activation = 'softmax'))"
      ],
      "execution_count": null,
      "outputs": []
    },
    {
      "cell_type": "code",
      "metadata": {
        "id": "vuxdFUrBjF2f"
      },
      "source": [
        "CIFAR2 = models.Sequential()\n",
        "\n",
        "CIFAR2.add(layers.Dense(1024, activation = 'relu' , input_shape = (32 * 32 * 3,)))\n",
        "CIFAR2.add(layers.Dense(1024, activation = 'relu'))\n",
        "CIFAR2.add(layers.Dense(256, activation = 'relu'))\n",
        "CIFAR2.add(layers.Dense(128, activation = 'relu'))\n",
        "CIFAR2.add(layers.Dense(10, activation = 'softmax'))"
      ],
      "execution_count": null,
      "outputs": []
    },
    {
      "cell_type": "code",
      "metadata": {
        "id": "d1EwZO3_kxE3"
      },
      "source": [
        "CIFAR3 = models.Sequential()\n",
        "\n",
        "CIFAR3.add(layers.Dense(1024, activation = 'relu' , input_shape = (32 * 32 * 3,)))\n",
        "CIFAR3.add(layers.Dense(512, activation = 'relu'))\n",
        "CIFAR3.add(layers.Dense(128, activation = 'relu'))\n",
        "CIFAR3.add(layers.Dense(10, activation = 'softmax'))"
      ],
      "execution_count": null,
      "outputs": []
    },
    {
      "cell_type": "code",
      "metadata": {
        "id": "FAYu347DluJK"
      },
      "source": [
        ""
      ],
      "execution_count": null,
      "outputs": []
    },
    {
      "cell_type": "code",
      "metadata": {
        "colab": {
          "base_uri": "https://localhost:8080/"
        },
        "id": "wP7DgARveDcy",
        "outputId": "8e18701f-78a7-410b-b4a6-bc02048f254d"
      },
      "source": [
        "CIFAR3.summary()"
      ],
      "execution_count": null,
      "outputs": [
        {
          "output_type": "stream",
          "text": [
            "Model: \"sequential_6\"\n",
            "_________________________________________________________________\n",
            "Layer (type)                 Output Shape              Param #   \n",
            "=================================================================\n",
            "dense_31 (Dense)             (None, 1024)              3146752   \n",
            "_________________________________________________________________\n",
            "dense_32 (Dense)             (None, 512)               524800    \n",
            "_________________________________________________________________\n",
            "dense_33 (Dense)             (None, 128)               65664     \n",
            "_________________________________________________________________\n",
            "dense_34 (Dense)             (None, 10)                1290      \n",
            "=================================================================\n",
            "Total params: 3,738,506\n",
            "Trainable params: 3,738,506\n",
            "Non-trainable params: 0\n",
            "_________________________________________________________________\n"
          ],
          "name": "stdout"
        }
      ]
    },
    {
      "cell_type": "markdown",
      "metadata": {
        "id": "vjjRGNmpeHwq"
      },
      "source": [
        "### 2) Model Compile\n",
        "- 모델 학습방법 설정"
      ]
    },
    {
      "cell_type": "code",
      "metadata": {
        "id": "sRcpwGCpeFoy"
      },
      "source": [
        "CIFAR.compile(loss = 'categorical_crossentropy',\n",
        "              optimizer = 'rmsprop' ,\n",
        "              metrics = ['accuracy'])"
      ],
      "execution_count": null,
      "outputs": []
    },
    {
      "cell_type": "code",
      "metadata": {
        "id": "JmSpwxXnjOrz"
      },
      "source": [
        "CIFAR2.compile(loss = 'categorical_crossentropy',\n",
        "              optimizer = 'rmsprop' ,\n",
        "              metrics = ['accuracy'])"
      ],
      "execution_count": null,
      "outputs": []
    },
    {
      "cell_type": "code",
      "metadata": {
        "id": "J5SO9F-6k-Ya"
      },
      "source": [
        "CIFAR3.compile(loss = 'categorical_crossentropy',\n",
        "              optimizer = 'rmsprop' ,\n",
        "              metrics = ['accuracy'])"
      ],
      "execution_count": null,
      "outputs": []
    },
    {
      "cell_type": "markdown",
      "metadata": {
        "id": "VUVRFVjHeT1q"
      },
      "source": [
        "### 3) Model Fit"
      ]
    },
    {
      "cell_type": "code",
      "metadata": {
        "colab": {
          "base_uri": "https://localhost:8080/"
        },
        "id": "gXTI2BWBeTRa",
        "outputId": "92ae74db-99fb-4e38-fb4f-c00298bd40be"
      },
      "source": [
        "%%time\n",
        "\n",
        "Hist_CIFAR1 = CIFAR.fit(X_train, y_train,\n",
        "                       epochs = 100,\n",
        "                       batch_size = 128,\n",
        "                       validation_split = 0.2)"
      ],
      "execution_count": null,
      "outputs": [
        {
          "output_type": "stream",
          "text": [
            "Epoch 1/100\n",
            "313/313 [==============================] - 6s 9ms/step - loss: 3.1683 - accuracy: 0.1613 - val_loss: 1.9727 - val_accuracy: 0.2615\n",
            "Epoch 2/100\n",
            "313/313 [==============================] - 3s 8ms/step - loss: 1.9570 - accuracy: 0.2916 - val_loss: 1.8248 - val_accuracy: 0.3414\n",
            "Epoch 3/100\n",
            "313/313 [==============================] - 2s 8ms/step - loss: 1.8391 - accuracy: 0.3435 - val_loss: 1.8500 - val_accuracy: 0.3363\n",
            "Epoch 4/100\n",
            "313/313 [==============================] - 2s 8ms/step - loss: 1.7463 - accuracy: 0.3709 - val_loss: 1.8867 - val_accuracy: 0.3439\n",
            "Epoch 5/100\n",
            "313/313 [==============================] - 2s 8ms/step - loss: 1.6865 - accuracy: 0.3976 - val_loss: 1.9171 - val_accuracy: 0.3228\n",
            "Epoch 6/100\n",
            "313/313 [==============================] - 2s 8ms/step - loss: 1.6389 - accuracy: 0.4123 - val_loss: 1.7948 - val_accuracy: 0.3397\n",
            "Epoch 7/100\n",
            "313/313 [==============================] - 3s 8ms/step - loss: 1.5951 - accuracy: 0.4271 - val_loss: 1.7519 - val_accuracy: 0.3968\n",
            "Epoch 8/100\n",
            "313/313 [==============================] - 3s 8ms/step - loss: 1.5529 - accuracy: 0.4462 - val_loss: 1.8229 - val_accuracy: 0.3843\n",
            "Epoch 9/100\n",
            "313/313 [==============================] - 3s 8ms/step - loss: 1.5226 - accuracy: 0.4565 - val_loss: 1.6783 - val_accuracy: 0.4194\n",
            "Epoch 10/100\n",
            "313/313 [==============================] - 3s 8ms/step - loss: 1.5041 - accuracy: 0.4643 - val_loss: 1.7296 - val_accuracy: 0.4040\n",
            "Epoch 11/100\n",
            "313/313 [==============================] - 3s 8ms/step - loss: 1.4706 - accuracy: 0.4726 - val_loss: 1.7276 - val_accuracy: 0.4136\n",
            "Epoch 12/100\n",
            "313/313 [==============================] - 3s 8ms/step - loss: 1.4599 - accuracy: 0.4837 - val_loss: 1.5820 - val_accuracy: 0.4556\n",
            "Epoch 13/100\n",
            "313/313 [==============================] - 2s 8ms/step - loss: 1.4209 - accuracy: 0.4904 - val_loss: 1.6104 - val_accuracy: 0.4360\n",
            "Epoch 14/100\n",
            "313/313 [==============================] - 2s 8ms/step - loss: 1.3997 - accuracy: 0.5037 - val_loss: 1.6987 - val_accuracy: 0.4320\n",
            "Epoch 15/100\n",
            "313/313 [==============================] - 2s 8ms/step - loss: 1.3972 - accuracy: 0.5007 - val_loss: 1.7335 - val_accuracy: 0.4161\n",
            "Epoch 16/100\n",
            "313/313 [==============================] - 3s 8ms/step - loss: 1.3672 - accuracy: 0.5156 - val_loss: 1.6536 - val_accuracy: 0.4629\n",
            "Epoch 17/100\n",
            "313/313 [==============================] - 2s 8ms/step - loss: 1.3460 - accuracy: 0.5182 - val_loss: 1.5748 - val_accuracy: 0.4872\n",
            "Epoch 18/100\n",
            "313/313 [==============================] - 2s 8ms/step - loss: 1.3506 - accuracy: 0.5263 - val_loss: 1.7028 - val_accuracy: 0.4488\n",
            "Epoch 19/100\n",
            "313/313 [==============================] - 2s 8ms/step - loss: 1.3223 - accuracy: 0.5259 - val_loss: 2.1059 - val_accuracy: 0.4610\n",
            "Epoch 20/100\n",
            "313/313 [==============================] - 2s 8ms/step - loss: 1.3172 - accuracy: 0.5348 - val_loss: 1.6920 - val_accuracy: 0.4797\n",
            "Epoch 21/100\n",
            "313/313 [==============================] - 3s 8ms/step - loss: 1.2852 - accuracy: 0.5449 - val_loss: 1.8417 - val_accuracy: 0.4642\n",
            "Epoch 22/100\n",
            "313/313 [==============================] - 2s 8ms/step - loss: 1.2732 - accuracy: 0.5447 - val_loss: 1.7431 - val_accuracy: 0.4693\n",
            "Epoch 23/100\n",
            "313/313 [==============================] - 2s 8ms/step - loss: 1.2513 - accuracy: 0.5578 - val_loss: 1.6301 - val_accuracy: 0.4793\n",
            "Epoch 24/100\n",
            "313/313 [==============================] - 2s 8ms/step - loss: 1.2341 - accuracy: 0.5638 - val_loss: 1.6391 - val_accuracy: 0.4808\n",
            "Epoch 25/100\n",
            "313/313 [==============================] - 2s 8ms/step - loss: 1.2201 - accuracy: 0.5702 - val_loss: 1.7887 - val_accuracy: 0.4464\n",
            "Epoch 26/100\n",
            "313/313 [==============================] - 2s 8ms/step - loss: 1.2327 - accuracy: 0.5755 - val_loss: 1.6282 - val_accuracy: 0.4994\n",
            "Epoch 27/100\n",
            "313/313 [==============================] - 2s 8ms/step - loss: 1.1868 - accuracy: 0.5796 - val_loss: 1.8428 - val_accuracy: 0.4840\n",
            "Epoch 28/100\n",
            "313/313 [==============================] - 2s 8ms/step - loss: 1.1659 - accuracy: 0.5881 - val_loss: 1.7533 - val_accuracy: 0.4929\n",
            "Epoch 29/100\n",
            "313/313 [==============================] - 2s 8ms/step - loss: 1.1434 - accuracy: 0.5979 - val_loss: 1.9242 - val_accuracy: 0.4857\n",
            "Epoch 30/100\n",
            "313/313 [==============================] - 2s 8ms/step - loss: 1.1187 - accuracy: 0.6060 - val_loss: 2.0404 - val_accuracy: 0.4845\n",
            "Epoch 31/100\n",
            "313/313 [==============================] - 2s 8ms/step - loss: 1.1409 - accuracy: 0.5987 - val_loss: 1.9450 - val_accuracy: 0.4860\n",
            "Epoch 32/100\n",
            "313/313 [==============================] - 2s 8ms/step - loss: 1.1177 - accuracy: 0.6103 - val_loss: 2.7784 - val_accuracy: 0.4614\n",
            "Epoch 33/100\n",
            "313/313 [==============================] - 2s 8ms/step - loss: 1.0931 - accuracy: 0.6164 - val_loss: 2.6507 - val_accuracy: 0.4458\n",
            "Epoch 34/100\n",
            "313/313 [==============================] - 3s 8ms/step - loss: 1.0820 - accuracy: 0.6164 - val_loss: 1.8653 - val_accuracy: 0.5024\n",
            "Epoch 35/100\n",
            "313/313 [==============================] - 3s 8ms/step - loss: 1.0806 - accuracy: 0.6169 - val_loss: 2.3115 - val_accuracy: 0.4720\n",
            "Epoch 36/100\n",
            "313/313 [==============================] - 3s 8ms/step - loss: 1.0463 - accuracy: 0.6326 - val_loss: 1.9711 - val_accuracy: 0.4965\n",
            "Epoch 37/100\n",
            "313/313 [==============================] - 3s 8ms/step - loss: 1.0395 - accuracy: 0.6360 - val_loss: 2.0656 - val_accuracy: 0.5017\n",
            "Epoch 38/100\n",
            "313/313 [==============================] - 3s 8ms/step - loss: 1.0044 - accuracy: 0.6440 - val_loss: 2.2161 - val_accuracy: 0.5041\n",
            "Epoch 39/100\n",
            "313/313 [==============================] - 3s 8ms/step - loss: 1.0089 - accuracy: 0.6438 - val_loss: 2.4939 - val_accuracy: 0.4991\n",
            "Epoch 40/100\n",
            "313/313 [==============================] - 3s 8ms/step - loss: 0.9817 - accuracy: 0.6521 - val_loss: 2.3866 - val_accuracy: 0.4738\n",
            "Epoch 41/100\n",
            "313/313 [==============================] - 2s 8ms/step - loss: 0.9871 - accuracy: 0.6542 - val_loss: 2.2236 - val_accuracy: 0.4544\n",
            "Epoch 42/100\n",
            "313/313 [==============================] - 2s 8ms/step - loss: 0.9651 - accuracy: 0.6654 - val_loss: 2.8133 - val_accuracy: 0.4661\n",
            "Epoch 43/100\n",
            "313/313 [==============================] - 2s 8ms/step - loss: 0.9499 - accuracy: 0.6654 - val_loss: 3.8511 - val_accuracy: 0.4797\n",
            "Epoch 44/100\n",
            "313/313 [==============================] - 2s 8ms/step - loss: 0.9307 - accuracy: 0.6753 - val_loss: 3.0176 - val_accuracy: 0.4766\n",
            "Epoch 45/100\n",
            "313/313 [==============================] - 2s 8ms/step - loss: 0.9251 - accuracy: 0.6775 - val_loss: 2.7785 - val_accuracy: 0.5059\n",
            "Epoch 46/100\n",
            "313/313 [==============================] - 2s 8ms/step - loss: 0.9281 - accuracy: 0.6823 - val_loss: 3.1311 - val_accuracy: 0.4620\n",
            "Epoch 47/100\n",
            "313/313 [==============================] - 2s 8ms/step - loss: 0.9252 - accuracy: 0.6823 - val_loss: 3.1941 - val_accuracy: 0.4912\n",
            "Epoch 48/100\n",
            "313/313 [==============================] - 3s 8ms/step - loss: 0.8961 - accuracy: 0.6916 - val_loss: 3.2169 - val_accuracy: 0.4770\n",
            "Epoch 49/100\n",
            "313/313 [==============================] - 2s 8ms/step - loss: 0.8747 - accuracy: 0.6914 - val_loss: 3.2409 - val_accuracy: 0.4906\n",
            "Epoch 50/100\n",
            "313/313 [==============================] - 2s 8ms/step - loss: 0.9136 - accuracy: 0.6952 - val_loss: 3.3725 - val_accuracy: 0.4622\n",
            "Epoch 51/100\n",
            "313/313 [==============================] - 3s 8ms/step - loss: 0.8827 - accuracy: 0.6944 - val_loss: 4.4297 - val_accuracy: 0.4780\n",
            "Epoch 52/100\n",
            "313/313 [==============================] - 2s 8ms/step - loss: 0.8827 - accuracy: 0.7020 - val_loss: 2.4597 - val_accuracy: 0.4706\n",
            "Epoch 53/100\n",
            "313/313 [==============================] - 2s 8ms/step - loss: 0.8377 - accuracy: 0.7127 - val_loss: 3.4828 - val_accuracy: 0.4844\n",
            "Epoch 54/100\n",
            "313/313 [==============================] - 2s 8ms/step - loss: 0.8137 - accuracy: 0.7189 - val_loss: 4.0018 - val_accuracy: 0.4774\n",
            "Epoch 55/100\n",
            "313/313 [==============================] - 2s 8ms/step - loss: 0.7909 - accuracy: 0.7264 - val_loss: 4.0119 - val_accuracy: 0.4837\n",
            "Epoch 56/100\n",
            "313/313 [==============================] - 2s 8ms/step - loss: 0.8081 - accuracy: 0.7259 - val_loss: 3.8082 - val_accuracy: 0.5004\n",
            "Epoch 57/100\n",
            "313/313 [==============================] - 2s 8ms/step - loss: 0.7956 - accuracy: 0.7299 - val_loss: 3.6759 - val_accuracy: 0.4981\n",
            "Epoch 58/100\n",
            "313/313 [==============================] - 2s 8ms/step - loss: 0.7702 - accuracy: 0.7376 - val_loss: 3.1869 - val_accuracy: 0.4788\n",
            "Epoch 59/100\n",
            "313/313 [==============================] - 2s 8ms/step - loss: 0.7691 - accuracy: 0.7332 - val_loss: 3.1191 - val_accuracy: 0.4891\n",
            "Epoch 60/100\n",
            "313/313 [==============================] - 2s 8ms/step - loss: 0.7586 - accuracy: 0.7406 - val_loss: 4.0507 - val_accuracy: 0.5092\n",
            "Epoch 61/100\n",
            "313/313 [==============================] - 2s 8ms/step - loss: 0.7778 - accuracy: 0.7389 - val_loss: 6.0729 - val_accuracy: 0.4732\n",
            "Epoch 62/100\n",
            "313/313 [==============================] - 2s 8ms/step - loss: 0.7833 - accuracy: 0.7402 - val_loss: 5.5542 - val_accuracy: 0.5023\n",
            "Epoch 63/100\n",
            "313/313 [==============================] - 2s 8ms/step - loss: 0.7512 - accuracy: 0.7428 - val_loss: 5.1126 - val_accuracy: 0.4947\n",
            "Epoch 64/100\n",
            "313/313 [==============================] - 2s 8ms/step - loss: 0.7274 - accuracy: 0.7538 - val_loss: 4.9827 - val_accuracy: 0.4953\n",
            "Epoch 65/100\n",
            "313/313 [==============================] - 3s 8ms/step - loss: 0.7292 - accuracy: 0.7509 - val_loss: 4.7313 - val_accuracy: 0.4842\n",
            "Epoch 66/100\n",
            "313/313 [==============================] - 2s 8ms/step - loss: 0.8186 - accuracy: 0.7479 - val_loss: 4.6012 - val_accuracy: 0.4857\n",
            "Epoch 67/100\n",
            "313/313 [==============================] - 2s 8ms/step - loss: 0.7048 - accuracy: 0.7591 - val_loss: 4.5858 - val_accuracy: 0.4956\n",
            "Epoch 68/100\n",
            "313/313 [==============================] - 3s 8ms/step - loss: 0.6973 - accuracy: 0.7621 - val_loss: 4.3646 - val_accuracy: 0.5010\n",
            "Epoch 69/100\n",
            "313/313 [==============================] - 3s 8ms/step - loss: 0.6596 - accuracy: 0.7745 - val_loss: 4.5800 - val_accuracy: 0.4716\n",
            "Epoch 70/100\n",
            "313/313 [==============================] - 2s 8ms/step - loss: 0.6914 - accuracy: 0.7647 - val_loss: 4.3517 - val_accuracy: 0.4870\n",
            "Epoch 71/100\n",
            "313/313 [==============================] - 2s 8ms/step - loss: 0.7601 - accuracy: 0.7660 - val_loss: 4.2355 - val_accuracy: 0.4302\n",
            "Epoch 72/100\n",
            "313/313 [==============================] - 3s 8ms/step - loss: 0.6633 - accuracy: 0.7665 - val_loss: 3.8214 - val_accuracy: 0.4862\n",
            "Epoch 73/100\n",
            "313/313 [==============================] - 2s 8ms/step - loss: 0.6527 - accuracy: 0.7853 - val_loss: 4.7397 - val_accuracy: 0.4963\n",
            "Epoch 74/100\n",
            "313/313 [==============================] - 3s 8ms/step - loss: 0.6322 - accuracy: 0.7852 - val_loss: 4.9477 - val_accuracy: 0.4637\n",
            "Epoch 75/100\n",
            "313/313 [==============================] - 2s 8ms/step - loss: 0.6357 - accuracy: 0.7832 - val_loss: 5.1140 - val_accuracy: 0.4468\n",
            "Epoch 76/100\n",
            "313/313 [==============================] - 3s 8ms/step - loss: 0.6260 - accuracy: 0.7862 - val_loss: 4.2780 - val_accuracy: 0.4764\n",
            "Epoch 77/100\n",
            "313/313 [==============================] - 3s 8ms/step - loss: 0.6295 - accuracy: 0.7871 - val_loss: 4.5998 - val_accuracy: 0.4776\n",
            "Epoch 78/100\n",
            "313/313 [==============================] - 2s 8ms/step - loss: 0.6252 - accuracy: 0.7856 - val_loss: 4.2988 - val_accuracy: 0.4982\n",
            "Epoch 79/100\n",
            "313/313 [==============================] - 3s 8ms/step - loss: 0.6340 - accuracy: 0.7928 - val_loss: 4.9531 - val_accuracy: 0.4791\n",
            "Epoch 80/100\n",
            "313/313 [==============================] - 3s 8ms/step - loss: 0.5955 - accuracy: 0.7981 - val_loss: 4.2969 - val_accuracy: 0.4951\n",
            "Epoch 81/100\n",
            "313/313 [==============================] - 2s 8ms/step - loss: 0.5882 - accuracy: 0.7997 - val_loss: 4.5413 - val_accuracy: 0.4765\n",
            "Epoch 82/100\n",
            "313/313 [==============================] - 3s 8ms/step - loss: 0.5908 - accuracy: 0.8022 - val_loss: 3.8380 - val_accuracy: 0.5024\n",
            "Epoch 83/100\n",
            "313/313 [==============================] - 2s 8ms/step - loss: 0.5652 - accuracy: 0.8099 - val_loss: 5.6927 - val_accuracy: 0.4948\n",
            "Epoch 84/100\n",
            "313/313 [==============================] - 2s 8ms/step - loss: 0.6697 - accuracy: 0.8080 - val_loss: 4.4534 - val_accuracy: 0.4906\n",
            "Epoch 85/100\n",
            "313/313 [==============================] - 2s 8ms/step - loss: 0.5865 - accuracy: 0.8067 - val_loss: 4.5785 - val_accuracy: 0.4990\n",
            "Epoch 86/100\n",
            "313/313 [==============================] - 3s 8ms/step - loss: 0.5670 - accuracy: 0.8070 - val_loss: 5.7595 - val_accuracy: 0.4745\n",
            "Epoch 87/100\n",
            "313/313 [==============================] - 2s 8ms/step - loss: 0.5560 - accuracy: 0.8156 - val_loss: 4.8983 - val_accuracy: 0.4818\n",
            "Epoch 88/100\n",
            "313/313 [==============================] - 3s 8ms/step - loss: 0.5688 - accuracy: 0.8155 - val_loss: 6.8112 - val_accuracy: 0.4746\n",
            "Epoch 89/100\n",
            "313/313 [==============================] - 3s 8ms/step - loss: 0.5447 - accuracy: 0.8236 - val_loss: 5.4514 - val_accuracy: 0.4762\n",
            "Epoch 90/100\n",
            "313/313 [==============================] - 3s 8ms/step - loss: 0.6880 - accuracy: 0.8144 - val_loss: 4.6304 - val_accuracy: 0.4844\n",
            "Epoch 91/100\n",
            "313/313 [==============================] - 3s 8ms/step - loss: 0.5374 - accuracy: 0.8277 - val_loss: 6.3505 - val_accuracy: 0.4946\n",
            "Epoch 92/100\n",
            "313/313 [==============================] - 2s 8ms/step - loss: 0.5168 - accuracy: 0.8293 - val_loss: 4.7416 - val_accuracy: 0.5090\n",
            "Epoch 93/100\n",
            "313/313 [==============================] - 3s 8ms/step - loss: 0.5080 - accuracy: 0.8369 - val_loss: 5.7982 - val_accuracy: 0.4694\n",
            "Epoch 94/100\n",
            "313/313 [==============================] - 2s 8ms/step - loss: 0.5210 - accuracy: 0.8331 - val_loss: 6.8074 - val_accuracy: 0.4961\n",
            "Epoch 95/100\n",
            "313/313 [==============================] - 3s 8ms/step - loss: 0.4992 - accuracy: 0.8351 - val_loss: 4.6091 - val_accuracy: 0.5010\n",
            "Epoch 96/100\n",
            "313/313 [==============================] - 3s 8ms/step - loss: 0.4706 - accuracy: 0.8433 - val_loss: 5.4511 - val_accuracy: 0.4924\n",
            "Epoch 97/100\n",
            "313/313 [==============================] - 2s 8ms/step - loss: 0.4834 - accuracy: 0.8429 - val_loss: 4.7998 - val_accuracy: 0.5063\n",
            "Epoch 98/100\n",
            "313/313 [==============================] - 3s 8ms/step - loss: 0.4966 - accuracy: 0.8416 - val_loss: 4.5720 - val_accuracy: 0.4960\n",
            "Epoch 99/100\n",
            "313/313 [==============================] - 3s 8ms/step - loss: 0.4773 - accuracy: 0.8398 - val_loss: 5.8078 - val_accuracy: 0.4909\n",
            "Epoch 100/100\n",
            "313/313 [==============================] - 3s 8ms/step - loss: 0.4945 - accuracy: 0.8411 - val_loss: 5.9125 - val_accuracy: 0.5015\n",
            "CPU times: user 3min 34s, sys: 1min 4s, total: 4min 39s\n",
            "Wall time: 4min 14s\n"
          ],
          "name": "stdout"
        }
      ]
    },
    {
      "cell_type": "code",
      "metadata": {
        "colab": {
          "base_uri": "https://localhost:8080/"
        },
        "id": "55FZCCV6i5r8",
        "outputId": "d2ee2fdf-324e-4fd5-c47f-c4fa24227e2a"
      },
      "source": [
        "Hist_CIFAR1 = CIFAR.fit(X_train, y_train,\n",
        "                       epochs = 100,\n",
        "                       batch_size = 128,\n",
        "                       validation_split = 0.2)"
      ],
      "execution_count": null,
      "outputs": [
        {
          "output_type": "stream",
          "text": [
            "Epoch 1/100\n",
            "313/313 [==============================] - 2s 6ms/step - loss: 2.5865 - accuracy: 0.1713 - val_loss: 1.9638 - val_accuracy: 0.2804\n",
            "Epoch 2/100\n",
            "313/313 [==============================] - 2s 5ms/step - loss: 1.8947 - accuracy: 0.3158 - val_loss: 1.8284 - val_accuracy: 0.3315\n",
            "Epoch 3/100\n",
            "313/313 [==============================] - 2s 5ms/step - loss: 1.7840 - accuracy: 0.3581 - val_loss: 1.7264 - val_accuracy: 0.3795\n",
            "Epoch 4/100\n",
            "313/313 [==============================] - 2s 5ms/step - loss: 1.7108 - accuracy: 0.3854 - val_loss: 1.7116 - val_accuracy: 0.4018\n",
            "Epoch 5/100\n",
            "313/313 [==============================] - 2s 5ms/step - loss: 1.6415 - accuracy: 0.4103 - val_loss: 1.8022 - val_accuracy: 0.3566\n",
            "Epoch 6/100\n",
            "313/313 [==============================] - 2s 5ms/step - loss: 1.5981 - accuracy: 0.4274 - val_loss: 1.7888 - val_accuracy: 0.3730\n",
            "Epoch 7/100\n",
            "313/313 [==============================] - 2s 5ms/step - loss: 1.5510 - accuracy: 0.4461 - val_loss: 1.5562 - val_accuracy: 0.4422\n",
            "Epoch 8/100\n",
            "313/313 [==============================] - 2s 5ms/step - loss: 1.5251 - accuracy: 0.4547 - val_loss: 1.5763 - val_accuracy: 0.4416\n",
            "Epoch 9/100\n",
            "313/313 [==============================] - 2s 5ms/step - loss: 1.4816 - accuracy: 0.4713 - val_loss: 1.6537 - val_accuracy: 0.4229\n",
            "Epoch 10/100\n",
            "313/313 [==============================] - 2s 5ms/step - loss: 1.4533 - accuracy: 0.4822 - val_loss: 1.5912 - val_accuracy: 0.4375\n",
            "Epoch 11/100\n",
            "313/313 [==============================] - 2s 5ms/step - loss: 1.4239 - accuracy: 0.4885 - val_loss: 1.6333 - val_accuracy: 0.4419\n",
            "Epoch 12/100\n",
            "313/313 [==============================] - 2s 5ms/step - loss: 1.4001 - accuracy: 0.4975 - val_loss: 1.5445 - val_accuracy: 0.4618\n",
            "Epoch 13/100\n",
            "313/313 [==============================] - 2s 5ms/step - loss: 1.3642 - accuracy: 0.5122 - val_loss: 1.5945 - val_accuracy: 0.4586\n",
            "Epoch 14/100\n",
            "313/313 [==============================] - 2s 5ms/step - loss: 1.3507 - accuracy: 0.5157 - val_loss: 1.4976 - val_accuracy: 0.4766\n",
            "Epoch 15/100\n",
            "313/313 [==============================] - 2s 5ms/step - loss: 1.3262 - accuracy: 0.5277 - val_loss: 1.5549 - val_accuracy: 0.4731\n",
            "Epoch 16/100\n",
            "313/313 [==============================] - 2s 5ms/step - loss: 1.3111 - accuracy: 0.5315 - val_loss: 1.5989 - val_accuracy: 0.4684\n",
            "Epoch 17/100\n",
            "313/313 [==============================] - 2s 5ms/step - loss: 1.2861 - accuracy: 0.5375 - val_loss: 1.7309 - val_accuracy: 0.4371\n",
            "Epoch 18/100\n",
            "313/313 [==============================] - 2s 5ms/step - loss: 1.2799 - accuracy: 0.5418 - val_loss: 1.6772 - val_accuracy: 0.4527\n",
            "Epoch 19/100\n",
            "313/313 [==============================] - 2s 5ms/step - loss: 1.2607 - accuracy: 0.5519 - val_loss: 1.7203 - val_accuracy: 0.4586\n",
            "Epoch 20/100\n",
            "313/313 [==============================] - 2s 5ms/step - loss: 1.2213 - accuracy: 0.5593 - val_loss: 1.6528 - val_accuracy: 0.4512\n",
            "Epoch 21/100\n",
            "313/313 [==============================] - 2s 5ms/step - loss: 1.2100 - accuracy: 0.5718 - val_loss: 1.8015 - val_accuracy: 0.4538\n",
            "Epoch 22/100\n",
            "313/313 [==============================] - 2s 5ms/step - loss: 1.1976 - accuracy: 0.5706 - val_loss: 1.8344 - val_accuracy: 0.4785\n",
            "Epoch 23/100\n",
            "313/313 [==============================] - 2s 5ms/step - loss: 1.1793 - accuracy: 0.5807 - val_loss: 1.5979 - val_accuracy: 0.4788\n",
            "Epoch 24/100\n",
            "313/313 [==============================] - 2s 5ms/step - loss: 1.1598 - accuracy: 0.5870 - val_loss: 1.6128 - val_accuracy: 0.4880\n",
            "Epoch 25/100\n",
            "313/313 [==============================] - 2s 5ms/step - loss: 1.1396 - accuracy: 0.5886 - val_loss: 1.7763 - val_accuracy: 0.4719\n",
            "Epoch 26/100\n",
            "313/313 [==============================] - 2s 5ms/step - loss: 1.1280 - accuracy: 0.5995 - val_loss: 1.7404 - val_accuracy: 0.4721\n",
            "Epoch 27/100\n",
            "313/313 [==============================] - 2s 5ms/step - loss: 1.1207 - accuracy: 0.5998 - val_loss: 1.7612 - val_accuracy: 0.4796\n",
            "Epoch 28/100\n",
            "313/313 [==============================] - 2s 5ms/step - loss: 1.1090 - accuracy: 0.6039 - val_loss: 2.0560 - val_accuracy: 0.4943\n",
            "Epoch 29/100\n",
            "313/313 [==============================] - 2s 5ms/step - loss: 1.0857 - accuracy: 0.6114 - val_loss: 1.8763 - val_accuracy: 0.4395\n",
            "Epoch 30/100\n",
            "313/313 [==============================] - 2s 5ms/step - loss: 1.0796 - accuracy: 0.6179 - val_loss: 2.0159 - val_accuracy: 0.4758\n",
            "Epoch 31/100\n",
            "313/313 [==============================] - 2s 5ms/step - loss: 1.0837 - accuracy: 0.6145 - val_loss: 1.8754 - val_accuracy: 0.4899\n",
            "Epoch 32/100\n",
            "313/313 [==============================] - 2s 5ms/step - loss: 1.0514 - accuracy: 0.6262 - val_loss: 2.2610 - val_accuracy: 0.4822\n",
            "Epoch 33/100\n",
            "313/313 [==============================] - 2s 5ms/step - loss: 1.0385 - accuracy: 0.6297 - val_loss: 2.1528 - val_accuracy: 0.4302\n",
            "Epoch 34/100\n",
            "313/313 [==============================] - 2s 5ms/step - loss: 1.0334 - accuracy: 0.6331 - val_loss: 2.0845 - val_accuracy: 0.4696\n",
            "Epoch 35/100\n",
            "313/313 [==============================] - 2s 5ms/step - loss: 1.0200 - accuracy: 0.6357 - val_loss: 1.7533 - val_accuracy: 0.4883\n",
            "Epoch 36/100\n",
            "313/313 [==============================] - 2s 5ms/step - loss: 0.9887 - accuracy: 0.6442 - val_loss: 2.2873 - val_accuracy: 0.4706\n",
            "Epoch 37/100\n",
            "313/313 [==============================] - 2s 5ms/step - loss: 0.9957 - accuracy: 0.6472 - val_loss: 2.2139 - val_accuracy: 0.4827\n",
            "Epoch 38/100\n",
            "313/313 [==============================] - 2s 5ms/step - loss: 1.0049 - accuracy: 0.6451 - val_loss: 2.4373 - val_accuracy: 0.4884\n",
            "Epoch 39/100\n",
            "313/313 [==============================] - 2s 5ms/step - loss: 0.9621 - accuracy: 0.6608 - val_loss: 2.3231 - val_accuracy: 0.4737\n",
            "Epoch 40/100\n",
            "313/313 [==============================] - 2s 5ms/step - loss: 0.9772 - accuracy: 0.6557 - val_loss: 2.2926 - val_accuracy: 0.4732\n",
            "Epoch 41/100\n",
            "313/313 [==============================] - 2s 5ms/step - loss: 0.9534 - accuracy: 0.6614 - val_loss: 2.4836 - val_accuracy: 0.4790\n",
            "Epoch 42/100\n",
            "313/313 [==============================] - 2s 5ms/step - loss: 0.9478 - accuracy: 0.6650 - val_loss: 2.1576 - val_accuracy: 0.4995\n",
            "Epoch 43/100\n",
            "313/313 [==============================] - 2s 5ms/step - loss: 0.9359 - accuracy: 0.6670 - val_loss: 2.3063 - val_accuracy: 0.4768\n",
            "Epoch 44/100\n",
            "313/313 [==============================] - 2s 5ms/step - loss: 0.9557 - accuracy: 0.6664 - val_loss: 2.2315 - val_accuracy: 0.4882\n",
            "Epoch 45/100\n",
            "313/313 [==============================] - 2s 5ms/step - loss: 0.9131 - accuracy: 0.6766 - val_loss: 2.3514 - val_accuracy: 0.4847\n",
            "Epoch 46/100\n",
            "313/313 [==============================] - 2s 5ms/step - loss: 0.9051 - accuracy: 0.6833 - val_loss: 2.5392 - val_accuracy: 0.4952\n",
            "Epoch 47/100\n",
            "313/313 [==============================] - 2s 5ms/step - loss: 0.9056 - accuracy: 0.6766 - val_loss: 2.6640 - val_accuracy: 0.4964\n",
            "Epoch 48/100\n",
            "313/313 [==============================] - 2s 5ms/step - loss: 0.8833 - accuracy: 0.6882 - val_loss: 2.9099 - val_accuracy: 0.4944\n",
            "Epoch 49/100\n",
            "313/313 [==============================] - 2s 5ms/step - loss: 0.8863 - accuracy: 0.6854 - val_loss: 2.8381 - val_accuracy: 0.4678\n",
            "Epoch 50/100\n",
            "313/313 [==============================] - 2s 5ms/step - loss: 0.8861 - accuracy: 0.6890 - val_loss: 3.1945 - val_accuracy: 0.4653\n",
            "Epoch 51/100\n",
            "313/313 [==============================] - 2s 5ms/step - loss: 0.8768 - accuracy: 0.6934 - val_loss: 2.6209 - val_accuracy: 0.4641\n",
            "Epoch 52/100\n",
            "313/313 [==============================] - 2s 5ms/step - loss: 0.8618 - accuracy: 0.6946 - val_loss: 2.5688 - val_accuracy: 0.4993\n",
            "Epoch 53/100\n",
            "313/313 [==============================] - 2s 5ms/step - loss: 0.8417 - accuracy: 0.7023 - val_loss: 2.6953 - val_accuracy: 0.4897\n",
            "Epoch 54/100\n",
            "313/313 [==============================] - 2s 5ms/step - loss: 0.8584 - accuracy: 0.7017 - val_loss: 2.8702 - val_accuracy: 0.4892\n",
            "Epoch 55/100\n",
            "313/313 [==============================] - 2s 5ms/step - loss: 0.8203 - accuracy: 0.7088 - val_loss: 2.6037 - val_accuracy: 0.4958\n",
            "Epoch 56/100\n",
            "313/313 [==============================] - 2s 5ms/step - loss: 0.8234 - accuracy: 0.7132 - val_loss: 3.1129 - val_accuracy: 0.4789\n",
            "Epoch 57/100\n",
            "313/313 [==============================] - 2s 5ms/step - loss: 0.8344 - accuracy: 0.7033 - val_loss: 2.8068 - val_accuracy: 0.4549\n",
            "Epoch 58/100\n",
            "313/313 [==============================] - 2s 5ms/step - loss: 0.8154 - accuracy: 0.7131 - val_loss: 3.0148 - val_accuracy: 0.4844\n",
            "Epoch 59/100\n",
            "313/313 [==============================] - 2s 5ms/step - loss: 0.8027 - accuracy: 0.7164 - val_loss: 3.2026 - val_accuracy: 0.4905\n",
            "Epoch 60/100\n",
            "313/313 [==============================] - 2s 5ms/step - loss: 0.7821 - accuracy: 0.7237 - val_loss: 2.8584 - val_accuracy: 0.4683\n",
            "Epoch 61/100\n",
            "313/313 [==============================] - 2s 5ms/step - loss: 0.7899 - accuracy: 0.7215 - val_loss: 2.8992 - val_accuracy: 0.4958\n",
            "Epoch 62/100\n",
            "313/313 [==============================] - 2s 5ms/step - loss: 0.8035 - accuracy: 0.7276 - val_loss: 3.0572 - val_accuracy: 0.4986\n",
            "Epoch 63/100\n",
            "313/313 [==============================] - 2s 5ms/step - loss: 0.7932 - accuracy: 0.7257 - val_loss: 3.3218 - val_accuracy: 0.4643\n",
            "Epoch 64/100\n",
            "313/313 [==============================] - 2s 5ms/step - loss: 0.7807 - accuracy: 0.7282 - val_loss: 3.4809 - val_accuracy: 0.4652\n",
            "Epoch 65/100\n",
            "313/313 [==============================] - 2s 5ms/step - loss: 0.7805 - accuracy: 0.7301 - val_loss: 3.6416 - val_accuracy: 0.5039\n",
            "Epoch 66/100\n",
            "313/313 [==============================] - 2s 5ms/step - loss: 0.7720 - accuracy: 0.7312 - val_loss: 3.1688 - val_accuracy: 0.4876\n",
            "Epoch 67/100\n",
            "313/313 [==============================] - 2s 5ms/step - loss: 0.7690 - accuracy: 0.7335 - val_loss: 3.6888 - val_accuracy: 0.4895\n",
            "Epoch 68/100\n",
            "313/313 [==============================] - 2s 5ms/step - loss: 0.7462 - accuracy: 0.7407 - val_loss: 3.1892 - val_accuracy: 0.4915\n",
            "Epoch 69/100\n",
            "313/313 [==============================] - 2s 5ms/step - loss: 0.7675 - accuracy: 0.7436 - val_loss: 3.7055 - val_accuracy: 0.4914\n",
            "Epoch 70/100\n",
            "313/313 [==============================] - 2s 5ms/step - loss: 0.7502 - accuracy: 0.7442 - val_loss: 4.3787 - val_accuracy: 0.4665\n",
            "Epoch 71/100\n",
            "313/313 [==============================] - 2s 5ms/step - loss: 0.7315 - accuracy: 0.7423 - val_loss: 3.4767 - val_accuracy: 0.4955\n",
            "Epoch 72/100\n",
            "313/313 [==============================] - 2s 5ms/step - loss: 0.7332 - accuracy: 0.7487 - val_loss: 3.3946 - val_accuracy: 0.4921\n",
            "Epoch 73/100\n",
            "313/313 [==============================] - 2s 5ms/step - loss: 0.7260 - accuracy: 0.7488 - val_loss: 3.3341 - val_accuracy: 0.4860\n",
            "Epoch 74/100\n",
            "313/313 [==============================] - 2s 5ms/step - loss: 0.7228 - accuracy: 0.7518 - val_loss: 3.7981 - val_accuracy: 0.5021\n",
            "Epoch 75/100\n",
            "313/313 [==============================] - 2s 5ms/step - loss: 0.6974 - accuracy: 0.7553 - val_loss: 3.4427 - val_accuracy: 0.4812\n",
            "Epoch 76/100\n",
            "313/313 [==============================] - 2s 5ms/step - loss: 0.6972 - accuracy: 0.7592 - val_loss: 3.8235 - val_accuracy: 0.4980\n",
            "Epoch 77/100\n",
            "313/313 [==============================] - 2s 5ms/step - loss: 0.7051 - accuracy: 0.7554 - val_loss: 3.8101 - val_accuracy: 0.4964\n",
            "Epoch 78/100\n",
            "313/313 [==============================] - 2s 5ms/step - loss: 0.6910 - accuracy: 0.7616 - val_loss: 3.3582 - val_accuracy: 0.4787\n",
            "Epoch 79/100\n",
            "313/313 [==============================] - 2s 5ms/step - loss: 0.6886 - accuracy: 0.7616 - val_loss: 3.4542 - val_accuracy: 0.4988\n",
            "Epoch 80/100\n",
            "313/313 [==============================] - 2s 5ms/step - loss: 0.6852 - accuracy: 0.7650 - val_loss: 4.1014 - val_accuracy: 0.4900\n",
            "Epoch 81/100\n",
            "313/313 [==============================] - 2s 5ms/step - loss: 0.6897 - accuracy: 0.7619 - val_loss: 4.2847 - val_accuracy: 0.4382\n",
            "Epoch 82/100\n",
            "313/313 [==============================] - 2s 5ms/step - loss: 0.6896 - accuracy: 0.7652 - val_loss: 5.2861 - val_accuracy: 0.4910\n",
            "Epoch 83/100\n",
            "313/313 [==============================] - 2s 5ms/step - loss: 0.7007 - accuracy: 0.7617 - val_loss: 3.8676 - val_accuracy: 0.4914\n",
            "Epoch 84/100\n",
            "313/313 [==============================] - 2s 5ms/step - loss: 0.6683 - accuracy: 0.7702 - val_loss: 3.4283 - val_accuracy: 0.4662\n",
            "Epoch 85/100\n",
            "313/313 [==============================] - 2s 5ms/step - loss: 0.6553 - accuracy: 0.7699 - val_loss: 4.4268 - val_accuracy: 0.4815\n",
            "Epoch 86/100\n",
            "313/313 [==============================] - 2s 5ms/step - loss: 0.6891 - accuracy: 0.7658 - val_loss: 4.3682 - val_accuracy: 0.4852\n",
            "Epoch 87/100\n",
            "313/313 [==============================] - 2s 5ms/step - loss: 0.6895 - accuracy: 0.7648 - val_loss: 4.6776 - val_accuracy: 0.5048\n",
            "Epoch 88/100\n",
            "313/313 [==============================] - 2s 5ms/step - loss: 0.6714 - accuracy: 0.7719 - val_loss: 4.1418 - val_accuracy: 0.4813\n",
            "Epoch 89/100\n",
            "313/313 [==============================] - 2s 5ms/step - loss: 0.6430 - accuracy: 0.7760 - val_loss: 4.7841 - val_accuracy: 0.4762\n",
            "Epoch 90/100\n",
            "313/313 [==============================] - 2s 5ms/step - loss: 0.6778 - accuracy: 0.7660 - val_loss: 3.8872 - val_accuracy: 0.4773\n",
            "Epoch 91/100\n",
            "313/313 [==============================] - 2s 5ms/step - loss: 0.6516 - accuracy: 0.7786 - val_loss: 4.3952 - val_accuracy: 0.4941\n",
            "Epoch 92/100\n",
            "313/313 [==============================] - 2s 5ms/step - loss: 0.6516 - accuracy: 0.7803 - val_loss: 4.1771 - val_accuracy: 0.4984\n",
            "Epoch 93/100\n",
            "313/313 [==============================] - 2s 6ms/step - loss: 0.6337 - accuracy: 0.7796 - val_loss: 4.8364 - val_accuracy: 0.4988\n",
            "Epoch 94/100\n",
            "313/313 [==============================] - 2s 5ms/step - loss: 0.6217 - accuracy: 0.7863 - val_loss: 4.8082 - val_accuracy: 0.4822\n",
            "Epoch 95/100\n",
            "313/313 [==============================] - 2s 5ms/step - loss: 0.6418 - accuracy: 0.7773 - val_loss: 4.5021 - val_accuracy: 0.4902\n",
            "Epoch 96/100\n",
            "313/313 [==============================] - 2s 5ms/step - loss: 0.6401 - accuracy: 0.7845 - val_loss: 4.6680 - val_accuracy: 0.4731\n",
            "Epoch 97/100\n",
            "313/313 [==============================] - 2s 5ms/step - loss: 0.6355 - accuracy: 0.7831 - val_loss: 5.1423 - val_accuracy: 0.4671\n",
            "Epoch 98/100\n",
            "313/313 [==============================] - 2s 5ms/step - loss: 0.6161 - accuracy: 0.7872 - val_loss: 5.4579 - val_accuracy: 0.5123\n",
            "Epoch 99/100\n",
            "313/313 [==============================] - 2s 5ms/step - loss: 0.5878 - accuracy: 0.7982 - val_loss: 4.3875 - val_accuracy: 0.4814\n",
            "Epoch 100/100\n",
            "313/313 [==============================] - 2s 5ms/step - loss: 0.6103 - accuracy: 0.7918 - val_loss: 4.4387 - val_accuracy: 0.5001\n"
          ],
          "name": "stdout"
        }
      ]
    },
    {
      "cell_type": "code",
      "metadata": {
        "colab": {
          "base_uri": "https://localhost:8080/"
        },
        "id": "8YivLsZYjR0w",
        "outputId": "ab729b68-f4d4-4923-f826-03031be95c2f"
      },
      "source": [
        "Hist_CIFAR2 = CIFAR2.fit(X_train, y_train,\n",
        "                       epochs = 100,\n",
        "                       batch_size = 128,\n",
        "                       validation_split = 0.2)"
      ],
      "execution_count": null,
      "outputs": [
        {
          "output_type": "stream",
          "text": [
            "Epoch 1/100\n",
            "313/313 [==============================] - 2s 6ms/step - loss: 2.7427 - accuracy: 0.1743 - val_loss: 2.0560 - val_accuracy: 0.2697\n",
            "Epoch 2/100\n",
            "313/313 [==============================] - 2s 6ms/step - loss: 1.9017 - accuracy: 0.3130 - val_loss: 1.9722 - val_accuracy: 0.3068\n",
            "Epoch 3/100\n",
            "313/313 [==============================] - 2s 6ms/step - loss: 1.7743 - accuracy: 0.3612 - val_loss: 1.8293 - val_accuracy: 0.3501\n",
            "Epoch 4/100\n",
            "313/313 [==============================] - 2s 6ms/step - loss: 1.7041 - accuracy: 0.3923 - val_loss: 1.8302 - val_accuracy: 0.3565\n",
            "Epoch 5/100\n",
            "313/313 [==============================] - 2s 6ms/step - loss: 1.6482 - accuracy: 0.4114 - val_loss: 1.6742 - val_accuracy: 0.4034\n",
            "Epoch 6/100\n",
            "313/313 [==============================] - 2s 6ms/step - loss: 1.5999 - accuracy: 0.4256 - val_loss: 1.6367 - val_accuracy: 0.4265\n",
            "Epoch 7/100\n",
            "313/313 [==============================] - 2s 6ms/step - loss: 1.5458 - accuracy: 0.4437 - val_loss: 1.5865 - val_accuracy: 0.4308\n",
            "Epoch 8/100\n",
            "313/313 [==============================] - 2s 6ms/step - loss: 1.5211 - accuracy: 0.4624 - val_loss: 1.6511 - val_accuracy: 0.4153\n",
            "Epoch 9/100\n",
            "313/313 [==============================] - 2s 6ms/step - loss: 1.4916 - accuracy: 0.4683 - val_loss: 1.7462 - val_accuracy: 0.3999\n",
            "Epoch 10/100\n",
            "313/313 [==============================] - 2s 6ms/step - loss: 1.4512 - accuracy: 0.4843 - val_loss: 1.6514 - val_accuracy: 0.4267\n",
            "Epoch 11/100\n",
            "313/313 [==============================] - 2s 6ms/step - loss: 1.4240 - accuracy: 0.4932 - val_loss: 1.5194 - val_accuracy: 0.4733\n",
            "Epoch 12/100\n",
            "313/313 [==============================] - 2s 6ms/step - loss: 1.3926 - accuracy: 0.5029 - val_loss: 1.5579 - val_accuracy: 0.4579\n",
            "Epoch 13/100\n",
            "313/313 [==============================] - 2s 6ms/step - loss: 1.3648 - accuracy: 0.5098 - val_loss: 1.5435 - val_accuracy: 0.4644\n",
            "Epoch 14/100\n",
            "313/313 [==============================] - 2s 6ms/step - loss: 1.3557 - accuracy: 0.5134 - val_loss: 1.6731 - val_accuracy: 0.4364\n",
            "Epoch 15/100\n",
            "313/313 [==============================] - 2s 6ms/step - loss: 1.3222 - accuracy: 0.5259 - val_loss: 1.6441 - val_accuracy: 0.4555\n",
            "Epoch 16/100\n",
            "313/313 [==============================] - 2s 6ms/step - loss: 1.3001 - accuracy: 0.5325 - val_loss: 1.6914 - val_accuracy: 0.4479\n",
            "Epoch 17/100\n",
            "313/313 [==============================] - 2s 5ms/step - loss: 1.2849 - accuracy: 0.5397 - val_loss: 1.6122 - val_accuracy: 0.4652\n",
            "Epoch 18/100\n",
            "313/313 [==============================] - 2s 6ms/step - loss: 1.2504 - accuracy: 0.5550 - val_loss: 1.6294 - val_accuracy: 0.4606\n",
            "Epoch 19/100\n",
            "313/313 [==============================] - 2s 6ms/step - loss: 1.2353 - accuracy: 0.5556 - val_loss: 1.6073 - val_accuracy: 0.4738\n",
            "Epoch 20/100\n",
            "313/313 [==============================] - 2s 6ms/step - loss: 1.2068 - accuracy: 0.5703 - val_loss: 1.5975 - val_accuracy: 0.4751\n",
            "Epoch 21/100\n",
            "313/313 [==============================] - 2s 6ms/step - loss: 1.2055 - accuracy: 0.5713 - val_loss: 1.8903 - val_accuracy: 0.4516\n",
            "Epoch 22/100\n",
            "313/313 [==============================] - 2s 6ms/step - loss: 1.1783 - accuracy: 0.5810 - val_loss: 1.6757 - val_accuracy: 0.4855\n",
            "Epoch 23/100\n",
            "313/313 [==============================] - 2s 6ms/step - loss: 1.1460 - accuracy: 0.5910 - val_loss: 1.9717 - val_accuracy: 0.4083\n",
            "Epoch 24/100\n",
            "313/313 [==============================] - 2s 6ms/step - loss: 1.1483 - accuracy: 0.5905 - val_loss: 1.6979 - val_accuracy: 0.4804\n",
            "Epoch 25/100\n",
            "313/313 [==============================] - 2s 6ms/step - loss: 1.1368 - accuracy: 0.5947 - val_loss: 1.7029 - val_accuracy: 0.4907\n",
            "Epoch 26/100\n",
            "313/313 [==============================] - 2s 6ms/step - loss: 1.1153 - accuracy: 0.6027 - val_loss: 2.0016 - val_accuracy: 0.4329\n",
            "Epoch 27/100\n",
            "313/313 [==============================] - 2s 6ms/step - loss: 1.1360 - accuracy: 0.5981 - val_loss: 2.0224 - val_accuracy: 0.4749\n",
            "Epoch 28/100\n",
            "313/313 [==============================] - 2s 6ms/step - loss: 1.0786 - accuracy: 0.6141 - val_loss: 1.8148 - val_accuracy: 0.4833\n",
            "Epoch 29/100\n",
            "313/313 [==============================] - 2s 6ms/step - loss: 1.0746 - accuracy: 0.6197 - val_loss: 2.3453 - val_accuracy: 0.4636\n",
            "Epoch 30/100\n",
            "313/313 [==============================] - 2s 6ms/step - loss: 1.0745 - accuracy: 0.6234 - val_loss: 2.0353 - val_accuracy: 0.4472\n",
            "Epoch 31/100\n",
            "313/313 [==============================] - 2s 6ms/step - loss: 1.0804 - accuracy: 0.6155 - val_loss: 1.8375 - val_accuracy: 0.4885\n",
            "Epoch 32/100\n",
            "313/313 [==============================] - 2s 6ms/step - loss: 1.0480 - accuracy: 0.6294 - val_loss: 2.5699 - val_accuracy: 0.4722\n",
            "Epoch 33/100\n",
            "313/313 [==============================] - 2s 6ms/step - loss: 1.0383 - accuracy: 0.6334 - val_loss: 2.0394 - val_accuracy: 0.4857\n",
            "Epoch 34/100\n",
            "313/313 [==============================] - 2s 6ms/step - loss: 1.0175 - accuracy: 0.6412 - val_loss: 2.0100 - val_accuracy: 0.4680\n",
            "Epoch 35/100\n",
            "313/313 [==============================] - 2s 6ms/step - loss: 1.0171 - accuracy: 0.6376 - val_loss: 2.2587 - val_accuracy: 0.4869\n",
            "Epoch 36/100\n",
            "313/313 [==============================] - 2s 6ms/step - loss: 1.0032 - accuracy: 0.6458 - val_loss: 2.2244 - val_accuracy: 0.4623\n",
            "Epoch 37/100\n",
            "313/313 [==============================] - 2s 6ms/step - loss: 0.9855 - accuracy: 0.6498 - val_loss: 2.0635 - val_accuracy: 0.4698\n",
            "Epoch 38/100\n",
            "313/313 [==============================] - 2s 6ms/step - loss: 0.9986 - accuracy: 0.6505 - val_loss: 2.2936 - val_accuracy: 0.3982\n",
            "Epoch 39/100\n",
            "313/313 [==============================] - 2s 6ms/step - loss: 0.9773 - accuracy: 0.6551 - val_loss: 2.3959 - val_accuracy: 0.4695\n",
            "Epoch 40/100\n",
            "313/313 [==============================] - 2s 6ms/step - loss: 0.9510 - accuracy: 0.6616 - val_loss: 2.2087 - val_accuracy: 0.4903\n",
            "Epoch 41/100\n",
            "313/313 [==============================] - 2s 6ms/step - loss: 0.9474 - accuracy: 0.6645 - val_loss: 2.3641 - val_accuracy: 0.4700\n",
            "Epoch 42/100\n",
            "313/313 [==============================] - 2s 6ms/step - loss: 0.9392 - accuracy: 0.6722 - val_loss: 2.4401 - val_accuracy: 0.4988\n",
            "Epoch 43/100\n",
            "313/313 [==============================] - 2s 6ms/step - loss: 0.9263 - accuracy: 0.6755 - val_loss: 2.4844 - val_accuracy: 0.4752\n",
            "Epoch 44/100\n",
            "313/313 [==============================] - 2s 6ms/step - loss: 0.9170 - accuracy: 0.6774 - val_loss: 3.1774 - val_accuracy: 0.3897\n",
            "Epoch 45/100\n",
            "313/313 [==============================] - 2s 6ms/step - loss: 0.9411 - accuracy: 0.6751 - val_loss: 2.5299 - val_accuracy: 0.4721\n",
            "Epoch 46/100\n",
            "313/313 [==============================] - 2s 6ms/step - loss: 0.9050 - accuracy: 0.6856 - val_loss: 2.6493 - val_accuracy: 0.4854\n",
            "Epoch 47/100\n",
            "313/313 [==============================] - 2s 6ms/step - loss: 0.8868 - accuracy: 0.6889 - val_loss: 2.8861 - val_accuracy: 0.4827\n",
            "Epoch 48/100\n",
            "313/313 [==============================] - 2s 6ms/step - loss: 0.9069 - accuracy: 0.6828 - val_loss: 2.7367 - val_accuracy: 0.4479\n",
            "Epoch 49/100\n",
            "313/313 [==============================] - 2s 6ms/step - loss: 0.8758 - accuracy: 0.6949 - val_loss: 2.8852 - val_accuracy: 0.4855\n",
            "Epoch 50/100\n",
            "313/313 [==============================] - 2s 6ms/step - loss: 0.8571 - accuracy: 0.6979 - val_loss: 2.6626 - val_accuracy: 0.4842\n",
            "Epoch 51/100\n",
            "313/313 [==============================] - 2s 6ms/step - loss: 0.8545 - accuracy: 0.7007 - val_loss: 3.0967 - val_accuracy: 0.4311\n",
            "Epoch 52/100\n",
            "313/313 [==============================] - 2s 6ms/step - loss: 0.8443 - accuracy: 0.7019 - val_loss: 2.8317 - val_accuracy: 0.5022\n",
            "Epoch 53/100\n",
            "313/313 [==============================] - 2s 6ms/step - loss: 0.8236 - accuracy: 0.7096 - val_loss: 2.9155 - val_accuracy: 0.4781\n",
            "Epoch 54/100\n",
            "313/313 [==============================] - 2s 6ms/step - loss: 0.8401 - accuracy: 0.7099 - val_loss: 3.2598 - val_accuracy: 0.4895\n",
            "Epoch 55/100\n",
            "313/313 [==============================] - 2s 6ms/step - loss: 0.8337 - accuracy: 0.7116 - val_loss: 2.9536 - val_accuracy: 0.4683\n",
            "Epoch 56/100\n",
            "313/313 [==============================] - 2s 6ms/step - loss: 0.8081 - accuracy: 0.7200 - val_loss: 3.1926 - val_accuracy: 0.4986\n",
            "Epoch 57/100\n",
            "313/313 [==============================] - 2s 6ms/step - loss: 0.8204 - accuracy: 0.7164 - val_loss: 2.7759 - val_accuracy: 0.4863\n",
            "Epoch 58/100\n",
            "313/313 [==============================] - 2s 6ms/step - loss: 0.8277 - accuracy: 0.7155 - val_loss: 3.5669 - val_accuracy: 0.4752\n",
            "Epoch 59/100\n",
            "313/313 [==============================] - 2s 6ms/step - loss: 0.8018 - accuracy: 0.7265 - val_loss: 3.5272 - val_accuracy: 0.4627\n",
            "Epoch 60/100\n",
            "313/313 [==============================] - 2s 6ms/step - loss: 0.8087 - accuracy: 0.7224 - val_loss: 3.4757 - val_accuracy: 0.4944\n",
            "Epoch 61/100\n",
            "313/313 [==============================] - 2s 6ms/step - loss: 0.7866 - accuracy: 0.7275 - val_loss: 3.2771 - val_accuracy: 0.4793\n",
            "Epoch 62/100\n",
            "313/313 [==============================] - 2s 6ms/step - loss: 0.7778 - accuracy: 0.7340 - val_loss: 3.0639 - val_accuracy: 0.4985\n",
            "Epoch 63/100\n",
            "313/313 [==============================] - 2s 6ms/step - loss: 0.8054 - accuracy: 0.7271 - val_loss: 2.9174 - val_accuracy: 0.4845\n",
            "Epoch 64/100\n",
            "313/313 [==============================] - 2s 6ms/step - loss: 0.7590 - accuracy: 0.7379 - val_loss: 4.0066 - val_accuracy: 0.4495\n",
            "Epoch 65/100\n",
            "313/313 [==============================] - 2s 6ms/step - loss: 0.7628 - accuracy: 0.7379 - val_loss: 3.6978 - val_accuracy: 0.4878\n",
            "Epoch 66/100\n",
            "313/313 [==============================] - 2s 6ms/step - loss: 0.7617 - accuracy: 0.7396 - val_loss: 3.8611 - val_accuracy: 0.4606\n",
            "Epoch 67/100\n",
            "313/313 [==============================] - 2s 6ms/step - loss: 0.7520 - accuracy: 0.7424 - val_loss: 3.7918 - val_accuracy: 0.4972\n",
            "Epoch 68/100\n",
            "313/313 [==============================] - 2s 6ms/step - loss: 0.7452 - accuracy: 0.7473 - val_loss: 3.5556 - val_accuracy: 0.4886\n",
            "Epoch 69/100\n",
            "313/313 [==============================] - 2s 6ms/step - loss: 0.7270 - accuracy: 0.7506 - val_loss: 4.0229 - val_accuracy: 0.4824\n",
            "Epoch 70/100\n",
            "313/313 [==============================] - 2s 6ms/step - loss: 0.7317 - accuracy: 0.7489 - val_loss: 4.0565 - val_accuracy: 0.4761\n",
            "Epoch 71/100\n",
            "313/313 [==============================] - 2s 6ms/step - loss: 0.7459 - accuracy: 0.7475 - val_loss: 3.2517 - val_accuracy: 0.4594\n",
            "Epoch 72/100\n",
            "313/313 [==============================] - 2s 6ms/step - loss: 0.7087 - accuracy: 0.7529 - val_loss: 4.8802 - val_accuracy: 0.4667\n",
            "Epoch 73/100\n",
            "313/313 [==============================] - 2s 6ms/step - loss: 0.7285 - accuracy: 0.7564 - val_loss: 4.1488 - val_accuracy: 0.4925\n",
            "Epoch 74/100\n",
            "313/313 [==============================] - 2s 6ms/step - loss: 0.7113 - accuracy: 0.7572 - val_loss: 4.0037 - val_accuracy: 0.4769\n",
            "Epoch 75/100\n",
            "313/313 [==============================] - 2s 6ms/step - loss: 0.7033 - accuracy: 0.7585 - val_loss: 3.7195 - val_accuracy: 0.4872\n",
            "Epoch 76/100\n",
            "313/313 [==============================] - 2s 6ms/step - loss: 0.6882 - accuracy: 0.7599 - val_loss: 3.9004 - val_accuracy: 0.4862\n",
            "Epoch 77/100\n",
            "313/313 [==============================] - 2s 6ms/step - loss: 0.7014 - accuracy: 0.7650 - val_loss: 3.4704 - val_accuracy: 0.4871\n",
            "Epoch 78/100\n",
            "313/313 [==============================] - 2s 6ms/step - loss: 0.6673 - accuracy: 0.7690 - val_loss: 3.7654 - val_accuracy: 0.4940\n",
            "Epoch 79/100\n",
            "313/313 [==============================] - 2s 6ms/step - loss: 0.6769 - accuracy: 0.7667 - val_loss: 4.0862 - val_accuracy: 0.4838\n",
            "Epoch 80/100\n",
            "313/313 [==============================] - 2s 6ms/step - loss: 0.6759 - accuracy: 0.7729 - val_loss: 4.9479 - val_accuracy: 0.5026\n",
            "Epoch 81/100\n",
            "313/313 [==============================] - 2s 6ms/step - loss: 0.6700 - accuracy: 0.7676 - val_loss: 4.3795 - val_accuracy: 0.4749\n",
            "Epoch 82/100\n",
            "313/313 [==============================] - 2s 6ms/step - loss: 0.6626 - accuracy: 0.7742 - val_loss: 4.1364 - val_accuracy: 0.4794\n",
            "Epoch 83/100\n",
            "313/313 [==============================] - 2s 6ms/step - loss: 0.6744 - accuracy: 0.7770 - val_loss: 4.4914 - val_accuracy: 0.4871\n",
            "Epoch 84/100\n",
            "313/313 [==============================] - 2s 6ms/step - loss: 0.6478 - accuracy: 0.7813 - val_loss: 4.2295 - val_accuracy: 0.4654\n",
            "Epoch 85/100\n",
            "313/313 [==============================] - 2s 6ms/step - loss: 0.6620 - accuracy: 0.7719 - val_loss: 3.8896 - val_accuracy: 0.4896\n",
            "Epoch 86/100\n",
            "313/313 [==============================] - 2s 6ms/step - loss: 0.6217 - accuracy: 0.7874 - val_loss: 5.6988 - val_accuracy: 0.4770\n",
            "Epoch 87/100\n",
            "313/313 [==============================] - 2s 6ms/step - loss: 0.6448 - accuracy: 0.7816 - val_loss: 4.1515 - val_accuracy: 0.4895\n",
            "Epoch 88/100\n",
            "313/313 [==============================] - 2s 6ms/step - loss: 0.6304 - accuracy: 0.7850 - val_loss: 4.1447 - val_accuracy: 0.4821\n",
            "Epoch 89/100\n",
            "313/313 [==============================] - 2s 6ms/step - loss: 0.6075 - accuracy: 0.7926 - val_loss: 4.9651 - val_accuracy: 0.4890\n",
            "Epoch 90/100\n",
            "313/313 [==============================] - 2s 6ms/step - loss: 0.6027 - accuracy: 0.7939 - val_loss: 4.7192 - val_accuracy: 0.4851\n",
            "Epoch 91/100\n",
            "313/313 [==============================] - 2s 6ms/step - loss: 0.6446 - accuracy: 0.7929 - val_loss: 5.0714 - val_accuracy: 0.5001\n",
            "Epoch 92/100\n",
            "313/313 [==============================] - 2s 6ms/step - loss: 0.6092 - accuracy: 0.7926 - val_loss: 4.6346 - val_accuracy: 0.4848\n",
            "Epoch 93/100\n",
            "313/313 [==============================] - 2s 6ms/step - loss: 0.6068 - accuracy: 0.7950 - val_loss: 4.5320 - val_accuracy: 0.4748\n",
            "Epoch 94/100\n",
            "313/313 [==============================] - 2s 6ms/step - loss: 0.6083 - accuracy: 0.7931 - val_loss: 4.8290 - val_accuracy: 0.4751\n",
            "Epoch 95/100\n",
            "313/313 [==============================] - 2s 6ms/step - loss: 0.6179 - accuracy: 0.7965 - val_loss: 5.0654 - val_accuracy: 0.5022\n",
            "Epoch 96/100\n",
            "313/313 [==============================] - 2s 6ms/step - loss: 0.6041 - accuracy: 0.7998 - val_loss: 4.5378 - val_accuracy: 0.4775\n",
            "Epoch 97/100\n",
            "313/313 [==============================] - 2s 6ms/step - loss: 0.5924 - accuracy: 0.8028 - val_loss: 5.3074 - val_accuracy: 0.4752\n",
            "Epoch 98/100\n",
            "313/313 [==============================] - 2s 6ms/step - loss: 0.5963 - accuracy: 0.7960 - val_loss: 5.8330 - val_accuracy: 0.4841\n",
            "Epoch 99/100\n",
            "313/313 [==============================] - 2s 6ms/step - loss: 0.5899 - accuracy: 0.8040 - val_loss: 4.3604 - val_accuracy: 0.5019\n",
            "Epoch 100/100\n",
            "313/313 [==============================] - 2s 6ms/step - loss: 0.5701 - accuracy: 0.8065 - val_loss: 4.7681 - val_accuracy: 0.4912\n"
          ],
          "name": "stdout"
        }
      ]
    },
    {
      "cell_type": "code",
      "metadata": {
        "colab": {
          "base_uri": "https://localhost:8080/"
        },
        "id": "LRAhBz_ck5zr",
        "outputId": "8dd2bdcb-07c9-49ee-df27-1d073377386e"
      },
      "source": [
        "Hist_CIFAR3 = CIFAR3.fit(X_train, y_train,\n",
        "                       epochs = 100,\n",
        "                       batch_size = 128,\n",
        "                       validation_split = 0.2)"
      ],
      "execution_count": null,
      "outputs": [
        {
          "output_type": "stream",
          "text": [
            "Epoch 1/100\n",
            "313/313 [==============================] - 2s 6ms/step - loss: 2.9823 - accuracy: 0.1779 - val_loss: 2.0168 - val_accuracy: 0.2455\n",
            "Epoch 2/100\n",
            "313/313 [==============================] - 2s 5ms/step - loss: 1.8620 - accuracy: 0.3246 - val_loss: 1.9899 - val_accuracy: 0.3061\n",
            "Epoch 3/100\n",
            "313/313 [==============================] - 2s 5ms/step - loss: 1.7514 - accuracy: 0.3709 - val_loss: 1.7035 - val_accuracy: 0.3841\n",
            "Epoch 4/100\n",
            "313/313 [==============================] - 2s 5ms/step - loss: 1.6667 - accuracy: 0.4028 - val_loss: 1.6817 - val_accuracy: 0.3889\n",
            "Epoch 5/100\n",
            "313/313 [==============================] - 2s 5ms/step - loss: 1.6118 - accuracy: 0.4215 - val_loss: 1.8239 - val_accuracy: 0.3583\n",
            "Epoch 6/100\n",
            "313/313 [==============================] - 2s 5ms/step - loss: 1.5705 - accuracy: 0.4401 - val_loss: 1.6351 - val_accuracy: 0.4201\n",
            "Epoch 7/100\n",
            "313/313 [==============================] - 2s 5ms/step - loss: 1.5266 - accuracy: 0.4546 - val_loss: 1.6189 - val_accuracy: 0.4237\n",
            "Epoch 8/100\n",
            "313/313 [==============================] - 2s 5ms/step - loss: 1.4854 - accuracy: 0.4681 - val_loss: 1.5293 - val_accuracy: 0.4578\n",
            "Epoch 9/100\n",
            "313/313 [==============================] - 2s 5ms/step - loss: 1.4462 - accuracy: 0.4852 - val_loss: 1.6002 - val_accuracy: 0.4433\n",
            "Epoch 10/100\n",
            "313/313 [==============================] - 2s 5ms/step - loss: 1.4324 - accuracy: 0.4919 - val_loss: 1.6737 - val_accuracy: 0.4314\n",
            "Epoch 11/100\n",
            "313/313 [==============================] - 2s 5ms/step - loss: 1.3941 - accuracy: 0.4993 - val_loss: 1.6694 - val_accuracy: 0.4077\n",
            "Epoch 12/100\n",
            "313/313 [==============================] - 2s 5ms/step - loss: 1.3752 - accuracy: 0.5102 - val_loss: 1.6495 - val_accuracy: 0.4261\n",
            "Epoch 13/100\n",
            "313/313 [==============================] - 2s 5ms/step - loss: 1.3346 - accuracy: 0.5203 - val_loss: 1.6821 - val_accuracy: 0.4364\n",
            "Epoch 14/100\n",
            "313/313 [==============================] - 2s 5ms/step - loss: 1.3092 - accuracy: 0.5355 - val_loss: 1.5968 - val_accuracy: 0.4542\n",
            "Epoch 15/100\n",
            "313/313 [==============================] - 2s 5ms/step - loss: 1.2844 - accuracy: 0.5395 - val_loss: 1.5157 - val_accuracy: 0.4752\n",
            "Epoch 16/100\n",
            "313/313 [==============================] - 2s 5ms/step - loss: 1.2587 - accuracy: 0.5499 - val_loss: 1.6049 - val_accuracy: 0.4623\n",
            "Epoch 17/100\n",
            "313/313 [==============================] - 2s 5ms/step - loss: 1.2311 - accuracy: 0.5604 - val_loss: 1.5913 - val_accuracy: 0.4679\n",
            "Epoch 18/100\n",
            "313/313 [==============================] - 2s 5ms/step - loss: 1.1960 - accuracy: 0.5709 - val_loss: 1.6504 - val_accuracy: 0.4629\n",
            "Epoch 19/100\n",
            "313/313 [==============================] - 2s 5ms/step - loss: 1.1796 - accuracy: 0.5796 - val_loss: 1.7248 - val_accuracy: 0.4434\n",
            "Epoch 20/100\n",
            "313/313 [==============================] - 2s 5ms/step - loss: 1.1849 - accuracy: 0.5771 - val_loss: 1.6241 - val_accuracy: 0.4681\n",
            "Epoch 21/100\n",
            "313/313 [==============================] - 2s 5ms/step - loss: 1.1392 - accuracy: 0.5920 - val_loss: 1.6581 - val_accuracy: 0.4534\n",
            "Epoch 22/100\n",
            "313/313 [==============================] - 2s 5ms/step - loss: 1.1130 - accuracy: 0.5973 - val_loss: 1.6181 - val_accuracy: 0.4774\n",
            "Epoch 23/100\n",
            "313/313 [==============================] - 2s 5ms/step - loss: 1.1033 - accuracy: 0.6035 - val_loss: 1.6822 - val_accuracy: 0.4745\n",
            "Epoch 24/100\n",
            "313/313 [==============================] - 2s 5ms/step - loss: 1.0920 - accuracy: 0.6077 - val_loss: 1.7487 - val_accuracy: 0.4838\n",
            "Epoch 25/100\n",
            "313/313 [==============================] - 2s 5ms/step - loss: 1.0545 - accuracy: 0.6228 - val_loss: 1.7105 - val_accuracy: 0.4820\n",
            "Epoch 26/100\n",
            "313/313 [==============================] - 2s 5ms/step - loss: 1.0457 - accuracy: 0.6284 - val_loss: 1.7078 - val_accuracy: 0.4820\n",
            "Epoch 27/100\n",
            "313/313 [==============================] - 2s 5ms/step - loss: 1.0274 - accuracy: 0.6337 - val_loss: 1.8060 - val_accuracy: 0.4817\n",
            "Epoch 28/100\n",
            "313/313 [==============================] - 2s 5ms/step - loss: 1.0081 - accuracy: 0.6429 - val_loss: 1.7635 - val_accuracy: 0.4744\n",
            "Epoch 29/100\n",
            "313/313 [==============================] - 2s 5ms/step - loss: 0.9896 - accuracy: 0.6470 - val_loss: 1.7358 - val_accuracy: 0.4694\n",
            "Epoch 30/100\n",
            "313/313 [==============================] - 2s 5ms/step - loss: 0.9695 - accuracy: 0.6523 - val_loss: 1.9622 - val_accuracy: 0.4755\n",
            "Epoch 31/100\n",
            "313/313 [==============================] - 2s 5ms/step - loss: 0.9582 - accuracy: 0.6589 - val_loss: 1.7464 - val_accuracy: 0.4924\n",
            "Epoch 32/100\n",
            "313/313 [==============================] - 2s 5ms/step - loss: 0.9354 - accuracy: 0.6634 - val_loss: 2.0324 - val_accuracy: 0.4888\n",
            "Epoch 33/100\n",
            "313/313 [==============================] - 2s 5ms/step - loss: 0.9179 - accuracy: 0.6717 - val_loss: 1.8390 - val_accuracy: 0.4708\n",
            "Epoch 34/100\n",
            "313/313 [==============================] - 2s 5ms/step - loss: 0.9160 - accuracy: 0.6710 - val_loss: 2.0450 - val_accuracy: 0.4943\n",
            "Epoch 35/100\n",
            "313/313 [==============================] - 2s 5ms/step - loss: 0.9062 - accuracy: 0.6755 - val_loss: 2.0633 - val_accuracy: 0.4718\n",
            "Epoch 36/100\n",
            "313/313 [==============================] - 2s 5ms/step - loss: 0.8836 - accuracy: 0.6845 - val_loss: 2.2204 - val_accuracy: 0.4640\n",
            "Epoch 37/100\n",
            "313/313 [==============================] - 2s 5ms/step - loss: 0.8664 - accuracy: 0.6852 - val_loss: 2.5928 - val_accuracy: 0.4538\n",
            "Epoch 38/100\n",
            "313/313 [==============================] - 2s 5ms/step - loss: 0.8692 - accuracy: 0.6893 - val_loss: 2.2606 - val_accuracy: 0.4705\n",
            "Epoch 39/100\n",
            "313/313 [==============================] - 2s 5ms/step - loss: 0.8481 - accuracy: 0.6954 - val_loss: 2.1946 - val_accuracy: 0.4803\n",
            "Epoch 40/100\n",
            "313/313 [==============================] - 2s 5ms/step - loss: 0.8378 - accuracy: 0.6981 - val_loss: 2.1208 - val_accuracy: 0.4730\n",
            "Epoch 41/100\n",
            "313/313 [==============================] - 2s 5ms/step - loss: 0.8180 - accuracy: 0.7080 - val_loss: 2.3162 - val_accuracy: 0.4867\n",
            "Epoch 42/100\n",
            "313/313 [==============================] - 2s 5ms/step - loss: 0.8102 - accuracy: 0.7105 - val_loss: 2.3580 - val_accuracy: 0.4771\n",
            "Epoch 43/100\n",
            "313/313 [==============================] - 2s 5ms/step - loss: 0.7951 - accuracy: 0.7175 - val_loss: 2.2274 - val_accuracy: 0.4885\n",
            "Epoch 44/100\n",
            "313/313 [==============================] - 2s 5ms/step - loss: 0.7758 - accuracy: 0.7226 - val_loss: 2.3591 - val_accuracy: 0.4874\n",
            "Epoch 45/100\n",
            "313/313 [==============================] - 2s 5ms/step - loss: 0.7795 - accuracy: 0.7224 - val_loss: 2.3794 - val_accuracy: 0.4814\n",
            "Epoch 46/100\n",
            "313/313 [==============================] - 2s 5ms/step - loss: 0.7785 - accuracy: 0.7282 - val_loss: 2.4439 - val_accuracy: 0.5091\n",
            "Epoch 47/100\n",
            "313/313 [==============================] - 2s 5ms/step - loss: 0.7548 - accuracy: 0.7333 - val_loss: 2.8439 - val_accuracy: 0.4689\n",
            "Epoch 48/100\n",
            "313/313 [==============================] - 2s 5ms/step - loss: 0.7428 - accuracy: 0.7354 - val_loss: 2.3387 - val_accuracy: 0.4820\n",
            "Epoch 49/100\n",
            "313/313 [==============================] - 2s 5ms/step - loss: 0.7292 - accuracy: 0.7412 - val_loss: 2.6394 - val_accuracy: 0.4909\n",
            "Epoch 50/100\n",
            "313/313 [==============================] - 2s 5ms/step - loss: 0.7346 - accuracy: 0.7406 - val_loss: 2.6911 - val_accuracy: 0.4936\n",
            "Epoch 51/100\n",
            "313/313 [==============================] - 2s 5ms/step - loss: 0.7220 - accuracy: 0.7448 - val_loss: 2.8828 - val_accuracy: 0.4756\n",
            "Epoch 52/100\n",
            "313/313 [==============================] - 2s 5ms/step - loss: 0.7256 - accuracy: 0.7438 - val_loss: 2.8029 - val_accuracy: 0.4654\n",
            "Epoch 53/100\n",
            "313/313 [==============================] - 2s 5ms/step - loss: 0.7130 - accuracy: 0.7492 - val_loss: 2.9429 - val_accuracy: 0.4921\n",
            "Epoch 54/100\n",
            "313/313 [==============================] - 2s 5ms/step - loss: 0.6937 - accuracy: 0.7564 - val_loss: 2.7495 - val_accuracy: 0.4831\n",
            "Epoch 55/100\n",
            "313/313 [==============================] - 2s 5ms/step - loss: 0.6948 - accuracy: 0.7540 - val_loss: 2.6873 - val_accuracy: 0.4846\n",
            "Epoch 56/100\n",
            "313/313 [==============================] - 2s 5ms/step - loss: 0.6818 - accuracy: 0.7604 - val_loss: 3.2295 - val_accuracy: 0.4726\n",
            "Epoch 57/100\n",
            "313/313 [==============================] - 2s 5ms/step - loss: 0.6911 - accuracy: 0.7568 - val_loss: 2.8188 - val_accuracy: 0.4829\n",
            "Epoch 58/100\n",
            "313/313 [==============================] - 2s 5ms/step - loss: 0.6748 - accuracy: 0.7637 - val_loss: 2.8517 - val_accuracy: 0.4851\n",
            "Epoch 59/100\n",
            "313/313 [==============================] - 2s 5ms/step - loss: 0.6538 - accuracy: 0.7666 - val_loss: 3.3378 - val_accuracy: 0.4901\n",
            "Epoch 60/100\n",
            "313/313 [==============================] - 2s 5ms/step - loss: 0.6532 - accuracy: 0.7689 - val_loss: 3.2397 - val_accuracy: 0.4840\n",
            "Epoch 61/100\n",
            "313/313 [==============================] - 2s 5ms/step - loss: 0.6451 - accuracy: 0.7753 - val_loss: 3.2066 - val_accuracy: 0.4853\n",
            "Epoch 62/100\n",
            "313/313 [==============================] - 2s 5ms/step - loss: 0.6336 - accuracy: 0.7772 - val_loss: 3.2722 - val_accuracy: 0.4832\n",
            "Epoch 63/100\n",
            "313/313 [==============================] - 2s 5ms/step - loss: 0.6360 - accuracy: 0.7746 - val_loss: 3.3845 - val_accuracy: 0.4914\n",
            "Epoch 64/100\n",
            "313/313 [==============================] - 2s 5ms/step - loss: 0.6432 - accuracy: 0.7783 - val_loss: 3.4434 - val_accuracy: 0.4779\n",
            "Epoch 65/100\n",
            "313/313 [==============================] - 2s 5ms/step - loss: 0.6233 - accuracy: 0.7820 - val_loss: 4.2007 - val_accuracy: 0.4845\n",
            "Epoch 66/100\n",
            "313/313 [==============================] - 2s 5ms/step - loss: 0.6395 - accuracy: 0.7800 - val_loss: 3.9236 - val_accuracy: 0.4831\n",
            "Epoch 67/100\n",
            "313/313 [==============================] - 2s 5ms/step - loss: 0.6214 - accuracy: 0.7845 - val_loss: 3.5421 - val_accuracy: 0.4809\n",
            "Epoch 68/100\n",
            "313/313 [==============================] - 2s 5ms/step - loss: 0.6131 - accuracy: 0.7891 - val_loss: 3.7544 - val_accuracy: 0.4822\n",
            "Epoch 69/100\n",
            "313/313 [==============================] - 2s 5ms/step - loss: 0.6022 - accuracy: 0.7899 - val_loss: 3.8828 - val_accuracy: 0.4826\n",
            "Epoch 70/100\n",
            "313/313 [==============================] - 2s 5ms/step - loss: 0.5869 - accuracy: 0.7929 - val_loss: 3.8764 - val_accuracy: 0.4872\n",
            "Epoch 71/100\n",
            "313/313 [==============================] - 2s 5ms/step - loss: 0.6006 - accuracy: 0.7921 - val_loss: 4.1865 - val_accuracy: 0.4858\n",
            "Epoch 72/100\n",
            "313/313 [==============================] - 2s 5ms/step - loss: 0.5892 - accuracy: 0.7911 - val_loss: 4.0842 - val_accuracy: 0.4785\n",
            "Epoch 73/100\n",
            "313/313 [==============================] - 2s 5ms/step - loss: 0.5978 - accuracy: 0.7911 - val_loss: 3.4207 - val_accuracy: 0.4714\n",
            "Epoch 74/100\n",
            "313/313 [==============================] - 2s 5ms/step - loss: 0.5746 - accuracy: 0.7991 - val_loss: 4.1417 - val_accuracy: 0.4841\n",
            "Epoch 75/100\n",
            "313/313 [==============================] - 2s 5ms/step - loss: 0.5931 - accuracy: 0.7995 - val_loss: 3.8897 - val_accuracy: 0.4769\n",
            "Epoch 76/100\n",
            "313/313 [==============================] - 2s 5ms/step - loss: 0.5701 - accuracy: 0.8001 - val_loss: 3.4862 - val_accuracy: 0.4701\n",
            "Epoch 77/100\n",
            "313/313 [==============================] - 2s 5ms/step - loss: 0.5799 - accuracy: 0.7990 - val_loss: 3.7195 - val_accuracy: 0.4849\n",
            "Epoch 78/100\n",
            "313/313 [==============================] - 2s 5ms/step - loss: 0.5602 - accuracy: 0.8068 - val_loss: 4.1655 - val_accuracy: 0.4599\n",
            "Epoch 79/100\n",
            "313/313 [==============================] - 2s 5ms/step - loss: 0.5782 - accuracy: 0.8011 - val_loss: 3.8417 - val_accuracy: 0.4826\n",
            "Epoch 80/100\n",
            "313/313 [==============================] - 2s 5ms/step - loss: 0.5624 - accuracy: 0.8043 - val_loss: 4.6648 - val_accuracy: 0.4630\n",
            "Epoch 81/100\n",
            "313/313 [==============================] - 2s 5ms/step - loss: 0.5581 - accuracy: 0.8071 - val_loss: 3.8704 - val_accuracy: 0.4700\n",
            "Epoch 82/100\n",
            "313/313 [==============================] - 2s 5ms/step - loss: 0.5556 - accuracy: 0.8083 - val_loss: 4.3954 - val_accuracy: 0.4587\n",
            "Epoch 83/100\n",
            "313/313 [==============================] - 2s 5ms/step - loss: 0.5615 - accuracy: 0.8085 - val_loss: 4.2666 - val_accuracy: 0.4759\n",
            "Epoch 84/100\n",
            "313/313 [==============================] - 2s 5ms/step - loss: 0.5397 - accuracy: 0.8180 - val_loss: 4.2831 - val_accuracy: 0.4707\n",
            "Epoch 85/100\n",
            "313/313 [==============================] - 2s 5ms/step - loss: 0.5522 - accuracy: 0.8086 - val_loss: 4.7624 - val_accuracy: 0.4603\n",
            "Epoch 86/100\n",
            "313/313 [==============================] - 2s 5ms/step - loss: 0.5432 - accuracy: 0.8125 - val_loss: 4.1841 - val_accuracy: 0.4865\n",
            "Epoch 87/100\n",
            "313/313 [==============================] - 2s 5ms/step - loss: 0.5304 - accuracy: 0.8161 - val_loss: 4.3306 - val_accuracy: 0.4785\n",
            "Epoch 88/100\n",
            "313/313 [==============================] - 2s 5ms/step - loss: 0.5321 - accuracy: 0.8170 - val_loss: 4.7035 - val_accuracy: 0.4853\n",
            "Epoch 89/100\n",
            "313/313 [==============================] - 2s 5ms/step - loss: 0.5344 - accuracy: 0.8173 - val_loss: 4.1008 - val_accuracy: 0.4813\n",
            "Epoch 90/100\n",
            "313/313 [==============================] - 2s 5ms/step - loss: 0.5268 - accuracy: 0.8192 - val_loss: 4.2139 - val_accuracy: 0.4845\n",
            "Epoch 91/100\n",
            "313/313 [==============================] - 2s 5ms/step - loss: 0.5204 - accuracy: 0.8214 - val_loss: 4.0644 - val_accuracy: 0.4879\n",
            "Epoch 92/100\n",
            "313/313 [==============================] - 2s 5ms/step - loss: 0.5223 - accuracy: 0.8219 - val_loss: 4.8063 - val_accuracy: 0.4927\n",
            "Epoch 93/100\n",
            "313/313 [==============================] - 2s 5ms/step - loss: 0.5166 - accuracy: 0.8262 - val_loss: 5.5291 - val_accuracy: 0.4639\n",
            "Epoch 94/100\n",
            "313/313 [==============================] - 2s 5ms/step - loss: 0.5325 - accuracy: 0.8210 - val_loss: 4.9946 - val_accuracy: 0.4818\n",
            "Epoch 95/100\n",
            "313/313 [==============================] - 2s 5ms/step - loss: 0.5282 - accuracy: 0.8230 - val_loss: 4.3556 - val_accuracy: 0.4875\n",
            "Epoch 96/100\n",
            "313/313 [==============================] - 2s 5ms/step - loss: 0.5061 - accuracy: 0.8287 - val_loss: 4.4561 - val_accuracy: 0.4735\n",
            "Epoch 97/100\n",
            "313/313 [==============================] - 2s 5ms/step - loss: 0.5256 - accuracy: 0.8244 - val_loss: 4.2984 - val_accuracy: 0.4828\n",
            "Epoch 98/100\n",
            "313/313 [==============================] - 2s 5ms/step - loss: 0.5077 - accuracy: 0.8296 - val_loss: 5.4048 - val_accuracy: 0.4909\n",
            "Epoch 99/100\n",
            "313/313 [==============================] - 2s 5ms/step - loss: 0.5302 - accuracy: 0.8212 - val_loss: 4.8934 - val_accuracy: 0.4846\n",
            "Epoch 100/100\n",
            "313/313 [==============================] - 2s 5ms/step - loss: 0.4953 - accuracy: 0.8314 - val_loss: 4.8865 - val_accuracy: 0.4785\n"
          ],
          "name": "stdout"
        }
      ]
    },
    {
      "cell_type": "markdown",
      "metadata": {
        "id": "tVpO7hgmeet6"
      },
      "source": [
        "### 4) 학습결과 시각화\n",
        "- Loss Visualization"
      ]
    },
    {
      "cell_type": "code",
      "metadata": {
        "colab": {
          "base_uri": "https://localhost:8080/",
          "height": 404
        },
        "id": "veiAhIuSedjq",
        "outputId": "1ed597dd-fde8-4bd8-fbc5-3b00717676fa"
      },
      "source": [
        "epochs = range(1, len(Hist_CIFAR.history['loss']) + 1)\n",
        "\n",
        "plt.figure(figsize = (9, 6))\n",
        "plt.plot(epochs, Hist_CIFAR.history['loss'])\n",
        "plt.plot(epochs, Hist_CIFAR.history['val_loss'])\n",
        "plt.title('Training & Validation Loss')\n",
        "plt.xlabel('Epochs')\n",
        "plt.ylabel('Loss')\n",
        "plt.legend(['Training loss' , 'Validation Loss'])\n",
        "plt.grid()\n",
        "plt.show()"
      ],
      "execution_count": null,
      "outputs": [
        {
          "output_type": "display_data",
          "data": {
            "image/png": "[encoded data removed]",
            "text/plain": [
              "<Figure size 648x432 with 1 Axes>"
            ]
          },
          "metadata": {
            "tags": [],
            "needs_background": "light"
          }
        }
      ]
    },
    {
      "cell_type": "markdown",
      "metadata": {
        "id": "STLkk7cQe56L"
      },
      "source": [
        "### 5) Model Evaluate\n",
        "- Loss & Accuracy"
      ]
    },
    {
      "cell_type": "code",
      "metadata": {
        "colab": {
          "base_uri": "https://localhost:8080/"
        },
        "id": "FP5Zr_1Le9tu",
        "outputId": "973dd642-c1eb-4a45-f8f8-fe01c5d21c03"
      },
      "source": [
        "loss, accuracy = CIFAR.evaluate(X_test, y_test)\n",
        "\n",
        "print('Loss: {:.5f}' .format(loss))\n",
        "print('Accuracy: {:.5f}' .format(accuracy))"
      ],
      "execution_count": null,
      "outputs": [
        {
          "output_type": "stream",
          "text": [
            "313/313 [==============================] - 1s 3ms/step - loss: 4.1481 - accuracy: 0.5066\n",
            "Loss: 4.14814\n",
            "Accuracy: 0.50660\n"
          ],
          "name": "stdout"
        }
      ]
    },
    {
      "cell_type": "code",
      "metadata": {
        "colab": {
          "base_uri": "https://localhost:8080/"
        },
        "id": "_q3Ds6NQjXq_",
        "outputId": "28015f67-c30f-4520-e6ac-607f0725a5ea"
      },
      "source": [
        "loss, accuracy = CIFAR.evaluate(X_test, y_test)\n",
        "\n",
        "print('Loss: {:.5f}' .format(loss))\n",
        "print('Accuracy: {:.5f}' .format(accuracy))"
      ],
      "execution_count": null,
      "outputs": [
        {
          "output_type": "stream",
          "text": [
            "313/313 [==============================] - 1s 2ms/step - loss: 4.1185 - accuracy: 0.5014\n",
            "Loss: 4.11852\n",
            "Accuracy: 0.50140\n"
          ],
          "name": "stdout"
        }
      ]
    },
    {
      "cell_type": "code",
      "metadata": {
        "colab": {
          "base_uri": "https://localhost:8080/"
        },
        "id": "qf6VtgP_kWJo",
        "outputId": "cbd2ea3d-876f-4d1c-83f5-97d0515c396d"
      },
      "source": [
        "loss, accuracy = CIFAR2.evaluate(X_test, y_test)\n",
        "\n",
        "print('Loss: {:.5f}' .format(loss))\n",
        "print('Accuracy: {:.5f}' .format(accuracy))"
      ],
      "execution_count": null,
      "outputs": [
        {
          "output_type": "stream",
          "text": [
            "313/313 [==============================] - 1s 2ms/step - loss: 4.2237 - accuracy: 0.4969\n",
            "Loss: 4.22368\n",
            "Accuracy: 0.49690\n"
          ],
          "name": "stdout"
        }
      ]
    },
    {
      "cell_type": "code",
      "metadata": {
        "id": "53n06xd0lqE2",
        "colab": {
          "base_uri": "https://localhost:8080/"
        },
        "outputId": "7a1e2326-9f66-4626-b077-58362bc1efb3"
      },
      "source": [
        "loss, accuracy = CIFAR3.evaluate(X_test, y_test)\n",
        "\n",
        "print('Loss: {:.5f}' .format(loss))\n",
        "print('Accuracy: {:.5f}' .format(accuracy))"
      ],
      "execution_count": null,
      "outputs": [
        {
          "output_type": "stream",
          "text": [
            "313/313 [==============================] - 1s 2ms/step - loss: 4.7834 - accuracy: 0.4701\n",
            "Loss: 4.78342\n",
            "Accuracy: 0.47010\n"
          ],
          "name": "stdout"
        }
      ]
    },
    {
      "cell_type": "markdown",
      "metadata": {
        "id": "ZlWaRjMUfIWR"
      },
      "source": [
        "### 6) Model Predict\n",
        "- probability"
      ]
    },
    {
      "cell_type": "code",
      "metadata": {
        "colab": {
          "base_uri": "https://localhost:8080/"
        },
        "id": "Lgw9YpTUfLRi",
        "outputId": "4fa85ba8-189f-452a-9ba0-22294deecb3b"
      },
      "source": [
        "np.set_printoptions(suppress = True, precision = 9)\n",
        "\n",
        "print(CIFAR.predict(X_test[:1, :]))"
      ],
      "execution_count": null,
      "outputs": [
        {
          "output_type": "stream",
          "text": [
            "[[0.000000001 0.          0.          0.9999999   0.          0.000000171 0.          0.          0.          0.00000001 ]]\n"
          ],
          "name": "stdout"
        }
      ]
    },
    {
      "cell_type": "markdown",
      "metadata": {
        "id": "Vd6a8Mh9fSID"
      },
      "source": [
        "- Class"
      ]
    },
    {
      "cell_type": "code",
      "metadata": {
        "colab": {
          "base_uri": "https://localhost:8080/"
        },
        "id": "8uPCpTfIfRSb",
        "outputId": "1043f538-b6a4-457a-e6e6-80b414a8a5fb"
      },
      "source": [
        "print(CIFAR.predict_classes(X_test[:1, :]))"
      ],
      "execution_count": null,
      "outputs": [
        {
          "output_type": "stream",
          "text": [
            "[3]\n"
          ],
          "name": "stdout"
        }
      ]
    },
    {
      "cell_type": "code",
      "metadata": {
        "id": "FggH9of2fqwE"
      },
      "source": [
        ""
      ],
      "execution_count": null,
      "outputs": []
    }
  ]
}