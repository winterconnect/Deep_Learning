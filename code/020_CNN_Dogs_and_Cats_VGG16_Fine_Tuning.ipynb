{
  "nbformat": 4,
  "nbformat_minor": 0,
  "metadata": {
    "colab": {
      "name": "020_CNN_Dogs_and_Cats_VGG16_Fine_Tuning.ipynb",
      "provenance": []
    },
    "kernelspec": {
      "name": "python3",
      "display_name": "Python 3"
    },
    "language_info": {
      "name": "python"
    },
    "accelerator": "GPU"
  },
  "cells": [
    {
      "cell_type": "code",
      "metadata": {
        "id": "MCL9x19zBDrd"
      },
      "source": [
        "import warnings\n",
        "warnings.filterwarnings('ignore')"
      ],
      "execution_count": 1,
      "outputs": []
    },
    {
      "cell_type": "code",
      "metadata": {
        "id": "jTOX4lshBox1"
      },
      "source": [
        "import matplotlib.pyplot as plt\n",
        "import pandas as pd\n",
        "import numpy as np"
      ],
      "execution_count": 2,
      "outputs": []
    },
    {
      "cell_type": "code",
      "metadata": {
        "id": "hGZO_eYUBsTM"
      },
      "source": [
        "import keras\n",
        "from keras.applications import VGG16\n",
        "from keras.utils import to_categorical\n",
        "from keras import models\n",
        "from keras import layers\n",
        "from keras import optimizers\n",
        "\n",
        "from keras.models import load_model\n",
        "from keras import backend as K\n",
        "\n",
        "from keras.preprocessing.image import ImageDataGenerator\n",
        "\n",
        "from keras.callbacks import EarlyStopping, ModelCheckpoint"
      ],
      "execution_count": 22,
      "outputs": []
    },
    {
      "cell_type": "code",
      "metadata": {
        "id": "l4GQjexIBtwU"
      },
      "source": [
        "import tensorflow as tf"
      ],
      "execution_count": 4,
      "outputs": []
    },
    {
      "cell_type": "code",
      "metadata": {
        "id": "DgNSXYDCBuzp"
      },
      "source": [
        "from sklearn.model_selection import train_test_split\n",
        "from sklearn.preprocessing import LabelEncoder"
      ],
      "execution_count": 5,
      "outputs": []
    },
    {
      "cell_type": "code",
      "metadata": {
        "colab": {
          "base_uri": "https://localhost:8080/"
        },
        "id": "hXc03mdmBwNQ",
        "outputId": "ba0862da-9dc5-4e5b-c9de-2a0cf4fe5d5f"
      },
      "source": [
        "tf.test.gpu_device_name()\n",
        "\n",
        "!nvidia-smi"
      ],
      "execution_count": 6,
      "outputs": [
        {
          "output_type": "stream",
          "text": [
            "Wed Mar 24 06:58:39 2021       \n",
            "+-----------------------------------------------------------------------------+\n",
            "| NVIDIA-SMI 460.56       Driver Version: 460.32.03    CUDA Version: 11.2     |\n",
            "|-------------------------------+----------------------+----------------------+\n",
            "| GPU  Name        Persistence-M| Bus-Id        Disp.A | Volatile Uncorr. ECC |\n",
            "| Fan  Temp  Perf  Pwr:Usage/Cap|         Memory-Usage | GPU-Util  Compute M. |\n",
            "|                               |                      |               MIG M. |\n",
            "|===============================+======================+======================|\n",
            "|   0  Tesla T4            Off  | 00000000:00:04.0 Off |                    0 |\n",
            "| N/A   40C    P0    26W /  70W |    222MiB / 15109MiB |      0%      Default |\n",
            "|                               |                      |                  N/A |\n",
            "+-------------------------------+----------------------+----------------------+\n",
            "                                                                               \n",
            "+-----------------------------------------------------------------------------+\n",
            "| Processes:                                                                  |\n",
            "|  GPU   GI   CI        PID   Type   Process name                  GPU Memory |\n",
            "|        ID   ID                                                   Usage      |\n",
            "|=============================================================================|\n",
            "+-----------------------------------------------------------------------------+\n"
          ],
          "name": "stdout"
        }
      ]
    },
    {
      "cell_type": "code",
      "metadata": {
        "colab": {
          "base_uri": "https://localhost:8080/"
        },
        "id": "6CZzGV7nBx59",
        "outputId": "4092d9c2-6139-42a4-c6f2-ca117425f315"
      },
      "source": [
        "from google.colab import drive\n",
        "\n",
        "drive.mount('/content/drive')"
      ],
      "execution_count": 8,
      "outputs": [
        {
          "output_type": "stream",
          "text": [
            "Mounted at /content/drive\n"
          ],
          "name": "stdout"
        }
      ]
    },
    {
      "cell_type": "code",
      "metadata": {
        "colab": {
          "base_uri": "https://localhost:8080/"
        },
        "id": "vxIfPsmCB6BH",
        "outputId": "241d75be-5620-4c18-ed19-122f058ff731"
      },
      "source": [
        "!ls -l '/content/drive/My Drive/Colab Notebooks/datasets/dogs_and_cats_small.zip'"
      ],
      "execution_count": 9,
      "outputs": [
        {
          "output_type": "stream",
          "text": [
            "-rw------- 1 root root 90618980 Mar  4 04:51 '/content/drive/My Drive/Colab Notebooks/datasets/dogs_and_cats_small.zip'\n"
          ],
          "name": "stdout"
        }
      ]
    },
    {
      "cell_type": "code",
      "metadata": {
        "id": "g5BvAwP2CE0U"
      },
      "source": [
        "!unzip /content/drive/My\\ Drive/Colab\\ Notebooks/datasets/dogs_and_cats_small.zip"
      ],
      "execution_count": null,
      "outputs": []
    },
    {
      "cell_type": "code",
      "metadata": {
        "id": "nMHN2kRwCMZb"
      },
      "source": [
        "train_dir = 'train'\n",
        "valid_dir = 'validation'\n",
        "test_dir = 'test'"
      ],
      "execution_count": 11,
      "outputs": []
    },
    {
      "cell_type": "markdown",
      "metadata": {
        "id": "rzJwjqZOCRg3"
      },
      "source": [
        "## 1. Data Preprocessing"
      ]
    },
    {
      "cell_type": "markdown",
      "metadata": {
        "id": "Hy9NOI8jCVJA"
      },
      "source": [
        "### 1) ImageDataGenerator() & flow_from_directory()\n",
        "- Normalization\n",
        "  - ImageDataGenerator()\n",
        "- Resizing & Generator\n",
        "  - flow_from_directory()"
      ]
    },
    {
      "cell_type": "code",
      "metadata": {
        "colab": {
          "base_uri": "https://localhost:8080/"
        },
        "id": "SuKwlRVjCfCc",
        "outputId": "ef0f9569-9178-49f7-c85c-8c7d85ba8fc7"
      },
      "source": [
        "train_datagen = ImageDataGenerator(rescale = 1./255)\n",
        "valid_datagen = ImageDataGenerator(rescale = 1./255)\n",
        "\n",
        "train_generator = train_datagen.flow_from_directory(\n",
        "    train_dir,\n",
        "    target_size = (150, 150),\n",
        "    batch_size = 20,\n",
        "    class_mode = 'binary')\n",
        "\n",
        "valid_generator = valid_datagen.flow_from_directory(\n",
        "    valid_dir,\n",
        "    target_size = (150, 150),\n",
        "    batch_size = 20,\n",
        "    class_mode = 'binary')"
      ],
      "execution_count": 12,
      "outputs": [
        {
          "output_type": "stream",
          "text": [
            "Found 2000 images belonging to 2 classes.\n",
            "Found 1000 images belonging to 2 classes.\n"
          ],
          "name": "stdout"
        }
      ]
    },
    {
      "cell_type": "code",
      "metadata": {
        "colab": {
          "base_uri": "https://localhost:8080/"
        },
        "id": "tyVu7NTKKacn",
        "outputId": "25ea5827-6c3b-4cbb-f973-333fc6877820"
      },
      "source": [
        "test_datagen = ImageDataGenerator(rescale = 1./255)\n",
        "\n",
        "test_generator = test_datagen.flow_from_directory(\n",
        "    test_dir,\n",
        "    target_size = (150, 150),\n",
        "    batch_size = 20,\n",
        "    class_mode = 'binary')"
      ],
      "execution_count": 27,
      "outputs": [
        {
          "output_type": "stream",
          "text": [
            "Found 1000 images belonging to 2 classes.\n"
          ],
          "name": "stdout"
        }
      ]
    },
    {
      "cell_type": "markdown",
      "metadata": {
        "id": "Bo5_xOePC5G5"
      },
      "source": [
        "## 2. Import VGG-16 Model & Some Layers Freezing"
      ]
    },
    {
      "cell_type": "markdown",
      "metadata": {
        "id": "ctIAoZdUC-wr"
      },
      "source": [
        "### 1) conv_base"
      ]
    },
    {
      "cell_type": "code",
      "metadata": {
        "colab": {
          "base_uri": "https://localhost:8080/"
        },
        "id": "ulmu2GcxDAnR",
        "outputId": "a307cac1-ed75-4013-d6e0-d265aeba642d"
      },
      "source": [
        "conv_base = VGG16(weights = 'imagenet',\n",
        "                  include_top = False,\n",
        "                  input_shape = (150, 150, 3))"
      ],
      "execution_count": 13,
      "outputs": [
        {
          "output_type": "stream",
          "text": [
            "Downloading data from https://storage.googleapis.com/tensorflow/keras-applications/vgg16/vgg16_weights_tf_dim_ordering_tf_kernels_notop.h5\n",
            "58892288/58889256 [==============================] - 1s 0us/step\n"
          ],
          "name": "stdout"
        }
      ]
    },
    {
      "cell_type": "markdown",
      "metadata": {
        "id": "T-xkQiBsDHoY"
      },
      "source": [
        "### 2) Model Information"
      ]
    },
    {
      "cell_type": "code",
      "metadata": {
        "colab": {
          "base_uri": "https://localhost:8080/"
        },
        "id": "CrGZ4AZGDJx_",
        "outputId": "5b1ef06c-1c4c-4400-a995-b9de2e0b95a8"
      },
      "source": [
        "conv_base.summary()"
      ],
      "execution_count": 14,
      "outputs": [
        {
          "output_type": "stream",
          "text": [
            "Model: \"vgg16\"\n",
            "_________________________________________________________________\n",
            "Layer (type)                 Output Shape              Param #   \n",
            "=================================================================\n",
            "input_1 (InputLayer)         [(None, 150, 150, 3)]     0         \n",
            "_________________________________________________________________\n",
            "block1_conv1 (Conv2D)        (None, 150, 150, 64)      1792      \n",
            "_________________________________________________________________\n",
            "block1_conv2 (Conv2D)        (None, 150, 150, 64)      36928     \n",
            "_________________________________________________________________\n",
            "block1_pool (MaxPooling2D)   (None, 75, 75, 64)        0         \n",
            "_________________________________________________________________\n",
            "block2_conv1 (Conv2D)        (None, 75, 75, 128)       73856     \n",
            "_________________________________________________________________\n",
            "block2_conv2 (Conv2D)        (None, 75, 75, 128)       147584    \n",
            "_________________________________________________________________\n",
            "block2_pool (MaxPooling2D)   (None, 37, 37, 128)       0         \n",
            "_________________________________________________________________\n",
            "block3_conv1 (Conv2D)        (None, 37, 37, 256)       295168    \n",
            "_________________________________________________________________\n",
            "block3_conv2 (Conv2D)        (None, 37, 37, 256)       590080    \n",
            "_________________________________________________________________\n",
            "block3_conv3 (Conv2D)        (None, 37, 37, 256)       590080    \n",
            "_________________________________________________________________\n",
            "block3_pool (MaxPooling2D)   (None, 18, 18, 256)       0         \n",
            "_________________________________________________________________\n",
            "block4_conv1 (Conv2D)        (None, 18, 18, 512)       1180160   \n",
            "_________________________________________________________________\n",
            "block4_conv2 (Conv2D)        (None, 18, 18, 512)       2359808   \n",
            "_________________________________________________________________\n",
            "block4_conv3 (Conv2D)        (None, 18, 18, 512)       2359808   \n",
            "_________________________________________________________________\n",
            "block4_pool (MaxPooling2D)   (None, 9, 9, 512)         0         \n",
            "_________________________________________________________________\n",
            "block5_conv1 (Conv2D)        (None, 9, 9, 512)         2359808   \n",
            "_________________________________________________________________\n",
            "block5_conv2 (Conv2D)        (None, 9, 9, 512)         2359808   \n",
            "_________________________________________________________________\n",
            "block5_conv3 (Conv2D)        (None, 9, 9, 512)         2359808   \n",
            "_________________________________________________________________\n",
            "block5_pool (MaxPooling2D)   (None, 4, 4, 512)         0         \n",
            "=================================================================\n",
            "Total params: 14,714,688\n",
            "Trainable params: 14,714,688\n",
            "Non-trainable params: 0\n",
            "_________________________________________________________________\n"
          ],
          "name": "stdout"
        }
      ]
    },
    {
      "cell_type": "markdown",
      "metadata": {
        "id": "xChuBc4dDMuQ"
      },
      "source": [
        "### 3) 'block5_conv1' Freezing\n",
        "- Before 'weight' freezing"
      ]
    },
    {
      "cell_type": "code",
      "metadata": {
        "colab": {
          "base_uri": "https://localhost:8080/"
        },
        "id": "f_HXoxr956JH",
        "outputId": "1ea01a7e-cec6-44be-ef48-6f8cf2d7414f"
      },
      "source": [
        "print('conv_base 동결 전 훈련 가능 가중치의 종류: ' , len(conv_base.trainable_weights))\n",
        "\n",
        "# 종류 26?\n",
        "# layer 13개, 각각 w, b가 있어서 파라미터 종류 26개\n",
        "# trainable 속성 (unfrozon)\n",
        "# non-trainable : frozen"
      ],
      "execution_count": 15,
      "outputs": [
        {
          "output_type": "stream",
          "text": [
            "conv_base 동결 전 훈련 가능 가중치의 종류:  26\n"
          ],
          "name": "stdout"
        }
      ]
    },
    {
      "cell_type": "markdown",
      "metadata": {
        "id": "B8mHi2uJDqJX"
      },
      "source": [
        "- 'weight' Freezing"
      ]
    },
    {
      "cell_type": "code",
      "metadata": {
        "id": "s7bcpIK26hkE"
      },
      "source": [
        "set_trainable = False\n",
        "\n",
        "for layer in conv_base.layers:\n",
        "  if layer.name == 'block5_conv1' :\n",
        "    set_trainable = True\n",
        "\n",
        "  if set_trainable:\n",
        "    layer.trainable = True\n",
        "  else:\n",
        "    layer.trainable = False"
      ],
      "execution_count": 16,
      "outputs": []
    },
    {
      "cell_type": "markdown",
      "metadata": {
        "id": "s9EPD4XTETtb"
      },
      "source": [
        "- After 'weight' Freezing"
      ]
    },
    {
      "cell_type": "code",
      "metadata": {
        "colab": {
          "base_uri": "https://localhost:8080/"
        },
        "id": "bGpEeGDXEQf8",
        "outputId": "35da10e1-f7b6-4092-ab5a-6d7b44a203bd"
      },
      "source": [
        "print('conv_base 동결 후 훈련 가능 가중치의 종류: ' , len(conv_base.trainable_weights))\n",
        "# 종류가 6개가 됨\n",
        "# 위쪽의 파라미터 개수가 적으므로 trainable/non-trainable 이 반반 정도로 보임\n",
        "# \"fine tuning\" (미세조정) 이라고 하지만 생각보다 trainable parameter가 많다"
      ],
      "execution_count": 17,
      "outputs": [
        {
          "output_type": "stream",
          "text": [
            "conv_base 동결 후 훈련 가능 가중치의 종류:  6\n"
          ],
          "name": "stdout"
        }
      ]
    },
    {
      "cell_type": "code",
      "metadata": {
        "colab": {
          "base_uri": "https://localhost:8080/"
        },
        "id": "zNsiMK_LElde",
        "outputId": "1dbdf299-087c-41dd-83c4-2b6105b455b5"
      },
      "source": [
        "conv_base.summary()\n",
        "# layer VGG16 은 param 14백만개\n",
        "# 그 중 non-trainable이 7백7십"
      ],
      "execution_count": 18,
      "outputs": [
        {
          "output_type": "stream",
          "text": [
            "Model: \"vgg16\"\n",
            "_________________________________________________________________\n",
            "Layer (type)                 Output Shape              Param #   \n",
            "=================================================================\n",
            "input_1 (InputLayer)         [(None, 150, 150, 3)]     0         \n",
            "_________________________________________________________________\n",
            "block1_conv1 (Conv2D)        (None, 150, 150, 64)      1792      \n",
            "_________________________________________________________________\n",
            "block1_conv2 (Conv2D)        (None, 150, 150, 64)      36928     \n",
            "_________________________________________________________________\n",
            "block1_pool (MaxPooling2D)   (None, 75, 75, 64)        0         \n",
            "_________________________________________________________________\n",
            "block2_conv1 (Conv2D)        (None, 75, 75, 128)       73856     \n",
            "_________________________________________________________________\n",
            "block2_conv2 (Conv2D)        (None, 75, 75, 128)       147584    \n",
            "_________________________________________________________________\n",
            "block2_pool (MaxPooling2D)   (None, 37, 37, 128)       0         \n",
            "_________________________________________________________________\n",
            "block3_conv1 (Conv2D)        (None, 37, 37, 256)       295168    \n",
            "_________________________________________________________________\n",
            "block3_conv2 (Conv2D)        (None, 37, 37, 256)       590080    \n",
            "_________________________________________________________________\n",
            "block3_conv3 (Conv2D)        (None, 37, 37, 256)       590080    \n",
            "_________________________________________________________________\n",
            "block3_pool (MaxPooling2D)   (None, 18, 18, 256)       0         \n",
            "_________________________________________________________________\n",
            "block4_conv1 (Conv2D)        (None, 18, 18, 512)       1180160   \n",
            "_________________________________________________________________\n",
            "block4_conv2 (Conv2D)        (None, 18, 18, 512)       2359808   \n",
            "_________________________________________________________________\n",
            "block4_conv3 (Conv2D)        (None, 18, 18, 512)       2359808   \n",
            "_________________________________________________________________\n",
            "block4_pool (MaxPooling2D)   (None, 9, 9, 512)         0         \n",
            "_________________________________________________________________\n",
            "block5_conv1 (Conv2D)        (None, 9, 9, 512)         2359808   \n",
            "_________________________________________________________________\n",
            "block5_conv2 (Conv2D)        (None, 9, 9, 512)         2359808   \n",
            "_________________________________________________________________\n",
            "block5_conv3 (Conv2D)        (None, 9, 9, 512)         2359808   \n",
            "_________________________________________________________________\n",
            "block5_pool (MaxPooling2D)   (None, 4, 4, 512)         0         \n",
            "=================================================================\n",
            "Total params: 14,714,688\n",
            "Trainable params: 7,079,424\n",
            "Non-trainable params: 7,635,264\n",
            "_________________________________________________________________\n"
          ],
          "name": "stdout"
        }
      ]
    },
    {
      "cell_type": "markdown",
      "metadata": {
        "id": "VC_5H8cbEqQc"
      },
      "source": [
        "## 3. Keras CNN Modeling with VGG-16 Freezed Layers"
      ]
    },
    {
      "cell_type": "markdown",
      "metadata": {
        "id": "y0CVlufXEvJG"
      },
      "source": [
        "### 1) Model Define\n",
        "- 'conv_base' & 'Classification' Network\n",
        "- Dropout Layer"
      ]
    },
    {
      "cell_type": "code",
      "metadata": {
        "id": "MmYddBU672E7"
      },
      "source": [
        "model = models.Sequential()\n",
        "\n",
        "model.add(conv_base)\n",
        "\n",
        "model.add(layers.Flatten())\n",
        "model.add(layers.Dense(256, activation = 'relu'))\n",
        "model.add(layers.Dropout(0.5))\n",
        "model.add(layers.Dense(1, activation = 'sigmoid'))"
      ],
      "execution_count": 19,
      "outputs": []
    },
    {
      "cell_type": "code",
      "metadata": {
        "colab": {
          "base_uri": "https://localhost:8080/"
        },
        "id": "4xrZNFaeFBcr",
        "outputId": "c01e916d-46b2-444f-c237-75feaa8c925f"
      },
      "source": [
        "model.summary()"
      ],
      "execution_count": 20,
      "outputs": [
        {
          "output_type": "stream",
          "text": [
            "Model: \"sequential\"\n",
            "_________________________________________________________________\n",
            "Layer (type)                 Output Shape              Param #   \n",
            "=================================================================\n",
            "vgg16 (Functional)           (None, 4, 4, 512)         14714688  \n",
            "_________________________________________________________________\n",
            "flatten (Flatten)            (None, 8192)              0         \n",
            "_________________________________________________________________\n",
            "dense (Dense)                (None, 256)               2097408   \n",
            "_________________________________________________________________\n",
            "dropout (Dropout)            (None, 256)               0         \n",
            "_________________________________________________________________\n",
            "dense_1 (Dense)              (None, 1)                 257       \n",
            "=================================================================\n",
            "Total params: 16,812,353\n",
            "Trainable params: 9,177,089\n",
            "Non-trainable params: 7,635,264\n",
            "_________________________________________________________________\n"
          ],
          "name": "stdout"
        }
      ]
    },
    {
      "cell_type": "code",
      "metadata": {
        "id": "KmVMzM4yFCOC"
      },
      "source": [
        "model.compile(loss = 'binary_crossentropy',\n",
        "              optimizer = optimizers.Adam(lr = 0.000005),\n",
        "              metrics = ['accuracy'])\n",
        "# 주의: 학습률을 굉장히 적게 주어야 한다\n",
        "# 왜? 이미 weight값이 학습되어 있으므로! 이미 최소값 언저리에 있다\n",
        "# 만약 학습률을 크게 주면 오히려 발산해버림\n",
        "# 재학습을 시킬 때는 learning rate을 작게 주어야 한다\n",
        "# optimizer를 import 해서 값을 (아주 작은 값으로) 지정해준다"
      ],
      "execution_count": 23,
      "outputs": []
    },
    {
      "cell_type": "markdown",
      "metadata": {
        "id": "HsZuzKcvFOdH"
      },
      "source": [
        "### 3) Model Fit"
      ]
    },
    {
      "cell_type": "code",
      "metadata": {
        "colab": {
          "base_uri": "https://localhost:8080/"
        },
        "id": "I45L5ccn8G-D",
        "outputId": "a34b49b2-846d-409f-e7fe-6c923d38fa64"
      },
      "source": [
        "%%time\n",
        "\n",
        "Hist_dandc = model.fit(train_generator,\n",
        "                       steps_per_epoch = 100,\n",
        "                       epochs = 100,\n",
        "                       validation_data = valid_generator,\n",
        "                       validation_steps = 50)"
      ],
      "execution_count": 24,
      "outputs": [
        {
          "output_type": "stream",
          "text": [
            "Epoch 1/100\n",
            "100/100 [==============================] - 47s 119ms/step - loss: 0.6798 - accuracy: 0.5855 - val_loss: 0.4724 - val_accuracy: 0.8320\n",
            "Epoch 2/100\n",
            "100/100 [==============================] - 11s 114ms/step - loss: 0.4461 - accuracy: 0.7861 - val_loss: 0.3531 - val_accuracy: 0.8500\n",
            "Epoch 3/100\n",
            "100/100 [==============================] - 12s 116ms/step - loss: 0.3167 - accuracy: 0.8740 - val_loss: 0.2772 - val_accuracy: 0.8950\n",
            "Epoch 4/100\n",
            "100/100 [==============================] - 11s 115ms/step - loss: 0.2481 - accuracy: 0.8985 - val_loss: 0.2429 - val_accuracy: 0.9050\n",
            "Epoch 5/100\n",
            "100/100 [==============================] - 12s 115ms/step - loss: 0.1876 - accuracy: 0.9294 - val_loss: 0.2239 - val_accuracy: 0.9110\n",
            "Epoch 6/100\n",
            "100/100 [==============================] - 11s 115ms/step - loss: 0.1673 - accuracy: 0.9370 - val_loss: 0.2280 - val_accuracy: 0.9040\n",
            "Epoch 7/100\n",
            "100/100 [==============================] - 11s 115ms/step - loss: 0.1492 - accuracy: 0.9463 - val_loss: 0.2051 - val_accuracy: 0.9140\n",
            "Epoch 8/100\n",
            "100/100 [==============================] - 11s 115ms/step - loss: 0.1136 - accuracy: 0.9641 - val_loss: 0.2101 - val_accuracy: 0.9160\n",
            "Epoch 9/100\n",
            "100/100 [==============================] - 11s 115ms/step - loss: 0.1029 - accuracy: 0.9633 - val_loss: 0.1960 - val_accuracy: 0.9220\n",
            "Epoch 10/100\n",
            "100/100 [==============================] - 11s 114ms/step - loss: 0.0910 - accuracy: 0.9696 - val_loss: 0.1962 - val_accuracy: 0.9210\n",
            "Epoch 11/100\n",
            "100/100 [==============================] - 12s 115ms/step - loss: 0.0694 - accuracy: 0.9824 - val_loss: 0.1996 - val_accuracy: 0.9200\n",
            "Epoch 12/100\n",
            "100/100 [==============================] - 11s 115ms/step - loss: 0.0580 - accuracy: 0.9876 - val_loss: 0.2081 - val_accuracy: 0.9170\n",
            "Epoch 13/100\n",
            "100/100 [==============================] - 11s 115ms/step - loss: 0.0551 - accuracy: 0.9864 - val_loss: 0.1969 - val_accuracy: 0.9230\n",
            "Epoch 14/100\n",
            "100/100 [==============================] - 11s 115ms/step - loss: 0.0404 - accuracy: 0.9925 - val_loss: 0.1936 - val_accuracy: 0.9250\n",
            "Epoch 15/100\n",
            "100/100 [==============================] - 11s 115ms/step - loss: 0.0285 - accuracy: 0.9970 - val_loss: 0.2097 - val_accuracy: 0.9220\n",
            "Epoch 16/100\n",
            "100/100 [==============================] - 11s 115ms/step - loss: 0.0333 - accuracy: 0.9961 - val_loss: 0.1983 - val_accuracy: 0.9280\n",
            "Epoch 17/100\n",
            "100/100 [==============================] - 12s 115ms/step - loss: 0.0260 - accuracy: 0.9950 - val_loss: 0.2059 - val_accuracy: 0.9310\n",
            "Epoch 18/100\n",
            "100/100 [==============================] - 11s 114ms/step - loss: 0.0223 - accuracy: 0.9968 - val_loss: 0.2038 - val_accuracy: 0.9250\n",
            "Epoch 19/100\n",
            "100/100 [==============================] - 11s 114ms/step - loss: 0.0139 - accuracy: 0.9990 - val_loss: 0.2080 - val_accuracy: 0.9260\n",
            "Epoch 20/100\n",
            "100/100 [==============================] - 12s 115ms/step - loss: 0.0159 - accuracy: 0.9965 - val_loss: 0.2138 - val_accuracy: 0.9260\n",
            "Epoch 21/100\n",
            "100/100 [==============================] - 11s 115ms/step - loss: 0.0124 - accuracy: 0.9999 - val_loss: 0.2105 - val_accuracy: 0.9320\n",
            "Epoch 22/100\n",
            "100/100 [==============================] - 11s 115ms/step - loss: 0.0104 - accuracy: 1.0000 - val_loss: 0.2192 - val_accuracy: 0.9290\n",
            "Epoch 23/100\n",
            "100/100 [==============================] - 11s 115ms/step - loss: 0.0090 - accuracy: 0.9996 - val_loss: 0.2213 - val_accuracy: 0.9270\n",
            "Epoch 24/100\n",
            "100/100 [==============================] - 12s 115ms/step - loss: 0.0082 - accuracy: 1.0000 - val_loss: 0.2420 - val_accuracy: 0.9250\n",
            "Epoch 25/100\n",
            "100/100 [==============================] - 11s 115ms/step - loss: 0.0065 - accuracy: 1.0000 - val_loss: 0.2251 - val_accuracy: 0.9300\n",
            "Epoch 26/100\n",
            "100/100 [==============================] - 12s 115ms/step - loss: 0.0071 - accuracy: 1.0000 - val_loss: 0.2416 - val_accuracy: 0.9260\n",
            "Epoch 27/100\n",
            "100/100 [==============================] - 11s 114ms/step - loss: 0.0052 - accuracy: 1.0000 - val_loss: 0.2415 - val_accuracy: 0.9250\n",
            "Epoch 28/100\n",
            "100/100 [==============================] - 11s 114ms/step - loss: 0.0048 - accuracy: 1.0000 - val_loss: 0.2435 - val_accuracy: 0.9250\n",
            "Epoch 29/100\n",
            "100/100 [==============================] - 12s 115ms/step - loss: 0.0035 - accuracy: 1.0000 - val_loss: 0.2487 - val_accuracy: 0.9260\n",
            "Epoch 30/100\n",
            "100/100 [==============================] - 12s 115ms/step - loss: 0.0036 - accuracy: 1.0000 - val_loss: 0.2482 - val_accuracy: 0.9230\n",
            "Epoch 31/100\n",
            "100/100 [==============================] - 12s 116ms/step - loss: 0.0032 - accuracy: 1.0000 - val_loss: 0.2557 - val_accuracy: 0.9280\n",
            "Epoch 32/100\n",
            "100/100 [==============================] - 12s 115ms/step - loss: 0.0033 - accuracy: 1.0000 - val_loss: 0.2556 - val_accuracy: 0.9250\n",
            "Epoch 33/100\n",
            "100/100 [==============================] - 11s 114ms/step - loss: 0.0029 - accuracy: 1.0000 - val_loss: 0.2509 - val_accuracy: 0.9250\n",
            "Epoch 34/100\n",
            "100/100 [==============================] - 12s 115ms/step - loss: 0.0023 - accuracy: 1.0000 - val_loss: 0.2581 - val_accuracy: 0.9260\n",
            "Epoch 35/100\n",
            "100/100 [==============================] - 11s 115ms/step - loss: 0.0029 - accuracy: 1.0000 - val_loss: 0.2771 - val_accuracy: 0.9230\n",
            "Epoch 36/100\n",
            "100/100 [==============================] - 11s 113ms/step - loss: 0.0016 - accuracy: 1.0000 - val_loss: 0.2678 - val_accuracy: 0.9340\n",
            "Epoch 37/100\n",
            "100/100 [==============================] - 11s 114ms/step - loss: 0.0016 - accuracy: 1.0000 - val_loss: 0.2696 - val_accuracy: 0.9290\n",
            "Epoch 38/100\n",
            "100/100 [==============================] - 12s 116ms/step - loss: 0.0017 - accuracy: 1.0000 - val_loss: 0.2805 - val_accuracy: 0.9250\n",
            "Epoch 39/100\n",
            "100/100 [==============================] - 11s 115ms/step - loss: 0.0014 - accuracy: 1.0000 - val_loss: 0.2756 - val_accuracy: 0.9260\n",
            "Epoch 40/100\n",
            "100/100 [==============================] - 12s 116ms/step - loss: 0.0010 - accuracy: 1.0000 - val_loss: 0.2914 - val_accuracy: 0.9290\n",
            "Epoch 41/100\n",
            "100/100 [==============================] - 12s 115ms/step - loss: 0.0014 - accuracy: 1.0000 - val_loss: 0.2745 - val_accuracy: 0.9290\n",
            "Epoch 42/100\n",
            "100/100 [==============================] - 12s 116ms/step - loss: 0.0013 - accuracy: 1.0000 - val_loss: 0.2803 - val_accuracy: 0.9310\n",
            "Epoch 43/100\n",
            "100/100 [==============================] - 11s 115ms/step - loss: 0.0012 - accuracy: 1.0000 - val_loss: 0.2866 - val_accuracy: 0.9300\n",
            "Epoch 44/100\n",
            "100/100 [==============================] - 12s 115ms/step - loss: 6.9926e-04 - accuracy: 1.0000 - val_loss: 0.2892 - val_accuracy: 0.9290\n",
            "Epoch 45/100\n",
            "100/100 [==============================] - 11s 114ms/step - loss: 0.0013 - accuracy: 1.0000 - val_loss: 0.2918 - val_accuracy: 0.9270\n",
            "Epoch 46/100\n",
            "100/100 [==============================] - 12s 116ms/step - loss: 9.0971e-04 - accuracy: 1.0000 - val_loss: 0.2952 - val_accuracy: 0.9270\n",
            "Epoch 47/100\n",
            "100/100 [==============================] - 11s 115ms/step - loss: 7.2288e-04 - accuracy: 1.0000 - val_loss: 0.2957 - val_accuracy: 0.9300\n",
            "Epoch 48/100\n",
            "100/100 [==============================] - 12s 116ms/step - loss: 5.5289e-04 - accuracy: 1.0000 - val_loss: 0.3207 - val_accuracy: 0.9270\n",
            "Epoch 49/100\n",
            "100/100 [==============================] - 12s 119ms/step - loss: 5.1594e-04 - accuracy: 1.0000 - val_loss: 0.3098 - val_accuracy: 0.9270\n",
            "Epoch 50/100\n",
            "100/100 [==============================] - 12s 117ms/step - loss: 5.0552e-04 - accuracy: 1.0000 - val_loss: 0.3233 - val_accuracy: 0.9260\n",
            "Epoch 51/100\n",
            "100/100 [==============================] - 12s 117ms/step - loss: 4.1692e-04 - accuracy: 1.0000 - val_loss: 0.3124 - val_accuracy: 0.9260\n",
            "Epoch 52/100\n",
            "100/100 [==============================] - 12s 118ms/step - loss: 4.9060e-04 - accuracy: 1.0000 - val_loss: 0.3222 - val_accuracy: 0.9210\n",
            "Epoch 53/100\n",
            "100/100 [==============================] - 12s 118ms/step - loss: 3.4818e-04 - accuracy: 1.0000 - val_loss: 0.3219 - val_accuracy: 0.9240\n",
            "Epoch 54/100\n",
            "100/100 [==============================] - 12s 116ms/step - loss: 3.4545e-04 - accuracy: 1.0000 - val_loss: 0.3474 - val_accuracy: 0.9250\n",
            "Epoch 55/100\n",
            "100/100 [==============================] - 12s 115ms/step - loss: 3.0174e-04 - accuracy: 1.0000 - val_loss: 0.3275 - val_accuracy: 0.9240\n",
            "Epoch 56/100\n",
            "100/100 [==============================] - 12s 115ms/step - loss: 5.2631e-04 - accuracy: 1.0000 - val_loss: 0.3389 - val_accuracy: 0.9250\n",
            "Epoch 57/100\n",
            "100/100 [==============================] - 11s 115ms/step - loss: 2.1971e-04 - accuracy: 1.0000 - val_loss: 0.3255 - val_accuracy: 0.9310\n",
            "Epoch 58/100\n",
            "100/100 [==============================] - 12s 116ms/step - loss: 2.9567e-04 - accuracy: 1.0000 - val_loss: 0.3210 - val_accuracy: 0.9300\n",
            "Epoch 59/100\n",
            "100/100 [==============================] - 11s 114ms/step - loss: 3.3621e-04 - accuracy: 1.0000 - val_loss: 0.3292 - val_accuracy: 0.9280\n",
            "Epoch 60/100\n",
            "100/100 [==============================] - 12s 116ms/step - loss: 3.3212e-04 - accuracy: 1.0000 - val_loss: 0.3343 - val_accuracy: 0.9300\n",
            "Epoch 61/100\n",
            "100/100 [==============================] - 12s 116ms/step - loss: 1.8562e-04 - accuracy: 1.0000 - val_loss: 0.3376 - val_accuracy: 0.9300\n",
            "Epoch 62/100\n",
            "100/100 [==============================] - 12s 116ms/step - loss: 1.6673e-04 - accuracy: 1.0000 - val_loss: 0.3384 - val_accuracy: 0.9280\n",
            "Epoch 63/100\n",
            "100/100 [==============================] - 12s 115ms/step - loss: 2.2968e-04 - accuracy: 1.0000 - val_loss: 0.3647 - val_accuracy: 0.9280\n",
            "Epoch 64/100\n",
            "100/100 [==============================] - 11s 115ms/step - loss: 2.6792e-04 - accuracy: 1.0000 - val_loss: 0.3394 - val_accuracy: 0.9280\n",
            "Epoch 65/100\n",
            "100/100 [==============================] - 12s 115ms/step - loss: 1.8711e-04 - accuracy: 1.0000 - val_loss: 0.3419 - val_accuracy: 0.9300\n",
            "Epoch 66/100\n",
            "100/100 [==============================] - 12s 117ms/step - loss: 1.3838e-04 - accuracy: 1.0000 - val_loss: 0.3475 - val_accuracy: 0.9300\n",
            "Epoch 67/100\n",
            "100/100 [==============================] - 11s 115ms/step - loss: 2.1870e-04 - accuracy: 1.0000 - val_loss: 0.3563 - val_accuracy: 0.9300\n",
            "Epoch 68/100\n",
            "100/100 [==============================] - 12s 116ms/step - loss: 1.3200e-04 - accuracy: 1.0000 - val_loss: 0.3712 - val_accuracy: 0.9270\n",
            "Epoch 69/100\n",
            "100/100 [==============================] - 12s 116ms/step - loss: 1.2873e-04 - accuracy: 1.0000 - val_loss: 0.3579 - val_accuracy: 0.9320\n",
            "Epoch 70/100\n",
            "100/100 [==============================] - 12s 115ms/step - loss: 1.1468e-04 - accuracy: 1.0000 - val_loss: 0.3586 - val_accuracy: 0.9300\n",
            "Epoch 71/100\n",
            "100/100 [==============================] - 11s 115ms/step - loss: 7.6268e-05 - accuracy: 1.0000 - val_loss: 0.3579 - val_accuracy: 0.9330\n",
            "Epoch 72/100\n",
            "100/100 [==============================] - 12s 115ms/step - loss: 9.1191e-05 - accuracy: 1.0000 - val_loss: 0.3719 - val_accuracy: 0.9270\n",
            "Epoch 73/100\n",
            "100/100 [==============================] - 11s 114ms/step - loss: 1.7759e-04 - accuracy: 1.0000 - val_loss: 0.3726 - val_accuracy: 0.9290\n",
            "Epoch 74/100\n",
            "100/100 [==============================] - 12s 115ms/step - loss: 0.0018 - accuracy: 0.9996 - val_loss: 0.5447 - val_accuracy: 0.8990\n",
            "Epoch 75/100\n",
            "100/100 [==============================] - 12s 115ms/step - loss: 0.0100 - accuracy: 0.9970 - val_loss: 0.3000 - val_accuracy: 0.9300\n",
            "Epoch 76/100\n",
            "100/100 [==============================] - 11s 115ms/step - loss: 6.5432e-04 - accuracy: 1.0000 - val_loss: 0.3025 - val_accuracy: 0.9340\n",
            "Epoch 77/100\n",
            "100/100 [==============================] - 12s 115ms/step - loss: 2.6688e-04 - accuracy: 1.0000 - val_loss: 0.3174 - val_accuracy: 0.9330\n",
            "Epoch 78/100\n",
            "100/100 [==============================] - 12s 116ms/step - loss: 3.3919e-04 - accuracy: 1.0000 - val_loss: 0.3151 - val_accuracy: 0.9330\n",
            "Epoch 79/100\n",
            "100/100 [==============================] - 12s 115ms/step - loss: 1.5841e-04 - accuracy: 1.0000 - val_loss: 0.3263 - val_accuracy: 0.9360\n",
            "Epoch 80/100\n",
            "100/100 [==============================] - 12s 115ms/step - loss: 1.3817e-04 - accuracy: 1.0000 - val_loss: 0.3229 - val_accuracy: 0.9320\n",
            "Epoch 81/100\n",
            "100/100 [==============================] - 11s 115ms/step - loss: 1.3567e-04 - accuracy: 1.0000 - val_loss: 0.3430 - val_accuracy: 0.9340\n",
            "Epoch 82/100\n",
            "100/100 [==============================] - 12s 116ms/step - loss: 1.0752e-04 - accuracy: 1.0000 - val_loss: 0.3305 - val_accuracy: 0.9300\n",
            "Epoch 83/100\n",
            "100/100 [==============================] - 12s 115ms/step - loss: 8.0954e-05 - accuracy: 1.0000 - val_loss: 0.3419 - val_accuracy: 0.9330\n",
            "Epoch 84/100\n",
            "100/100 [==============================] - 12s 116ms/step - loss: 5.7514e-05 - accuracy: 1.0000 - val_loss: 0.3504 - val_accuracy: 0.9330\n",
            "Epoch 85/100\n",
            "100/100 [==============================] - 12s 115ms/step - loss: 1.0941e-04 - accuracy: 1.0000 - val_loss: 0.3640 - val_accuracy: 0.9320\n",
            "Epoch 86/100\n",
            "100/100 [==============================] - 12s 117ms/step - loss: 1.7933e-04 - accuracy: 1.0000 - val_loss: 0.3458 - val_accuracy: 0.9310\n",
            "Epoch 87/100\n",
            "100/100 [==============================] - 12s 115ms/step - loss: 9.0744e-05 - accuracy: 1.0000 - val_loss: 0.3577 - val_accuracy: 0.9340\n",
            "Epoch 88/100\n",
            "100/100 [==============================] - 12s 116ms/step - loss: 5.9631e-05 - accuracy: 1.0000 - val_loss: 0.3511 - val_accuracy: 0.9300\n",
            "Epoch 89/100\n",
            "100/100 [==============================] - 12s 116ms/step - loss: 4.4404e-05 - accuracy: 1.0000 - val_loss: 0.3610 - val_accuracy: 0.9340\n",
            "Epoch 90/100\n",
            "100/100 [==============================] - 12s 116ms/step - loss: 1.0434e-04 - accuracy: 1.0000 - val_loss: 0.3732 - val_accuracy: 0.9310\n",
            "Epoch 91/100\n",
            "100/100 [==============================] - 12s 115ms/step - loss: 5.3436e-05 - accuracy: 1.0000 - val_loss: 0.3675 - val_accuracy: 0.9340\n",
            "Epoch 92/100\n",
            "100/100 [==============================] - 12s 117ms/step - loss: 6.4387e-05 - accuracy: 1.0000 - val_loss: 0.3638 - val_accuracy: 0.9330\n",
            "Epoch 93/100\n",
            "100/100 [==============================] - 12s 115ms/step - loss: 7.5386e-05 - accuracy: 1.0000 - val_loss: 0.3729 - val_accuracy: 0.9340\n",
            "Epoch 94/100\n",
            "100/100 [==============================] - 12s 116ms/step - loss: 2.9245e-05 - accuracy: 1.0000 - val_loss: 0.3752 - val_accuracy: 0.9340\n",
            "Epoch 95/100\n",
            "100/100 [==============================] - 12s 116ms/step - loss: 3.4601e-05 - accuracy: 1.0000 - val_loss: 0.3725 - val_accuracy: 0.9320\n",
            "Epoch 96/100\n",
            "100/100 [==============================] - 12s 116ms/step - loss: 3.4591e-05 - accuracy: 1.0000 - val_loss: 0.3813 - val_accuracy: 0.9350\n",
            "Epoch 97/100\n",
            "100/100 [==============================] - 12s 119ms/step - loss: 3.9312e-05 - accuracy: 1.0000 - val_loss: 0.3799 - val_accuracy: 0.9340\n",
            "Epoch 98/100\n",
            "100/100 [==============================] - 12s 118ms/step - loss: 7.0690e-05 - accuracy: 1.0000 - val_loss: 0.3901 - val_accuracy: 0.9320\n",
            "Epoch 99/100\n",
            "100/100 [==============================] - 12s 118ms/step - loss: 3.6880e-05 - accuracy: 1.0000 - val_loss: 0.3766 - val_accuracy: 0.9320\n",
            "Epoch 100/100\n",
            "100/100 [==============================] - 12s 118ms/step - loss: 2.9992e-05 - accuracy: 1.0000 - val_loss: 0.3947 - val_accuracy: 0.9320\n",
            "CPU times: user 22min 14s, sys: 1min 46s, total: 24min\n",
            "Wall time: 19min 51s\n"
          ],
          "name": "stdout"
        }
      ]
    },
    {
      "cell_type": "markdown",
      "metadata": {
        "id": "89a97CTRFiUs"
      },
      "source": [
        "### 4) Visualization\n",
        "- Loss & Accuracy Visualization"
      ]
    },
    {
      "cell_type": "code",
      "metadata": {
        "colab": {
          "base_uri": "https://localhost:8080/",
          "height": 464
        },
        "id": "K7Py7JY_Fhqx",
        "outputId": "ac6ac7e9-0d62-4fad-ea78-c93b3c4707d2"
      },
      "source": [
        "epochs = range(1, len(Hist_dandc.history['loss']) + 1)\n",
        "\n",
        "plt.figure(figsize = (20, 8))\n",
        "\n",
        "plt.subplot(1, 2, 1)\n",
        "plt.plot(epochs, Hist_dandc.history['loss'])\n",
        "plt.plot(epochs, Hist_dandc.history['val_loss'])\n",
        "plt.title('Training & Validation Loss')\n",
        "plt.xlabel('Epochs')\n",
        "plt.ylabel('Loss')\n",
        "plt.legend(['Training Loss' , 'Validation Loss'])\n",
        "plt.grid()\n",
        "\n",
        "plt.subplot(1, 2, 2)\n",
        "plt.plot(epochs, Hist_dandc.history['accuracy'])\n",
        "plt.plot(epochs, Hist_dandc.history['val_accuracy'])\n",
        "plt.title('Training & Validation Accuracy')\n",
        "plt.xlabel('Epochs')\n",
        "plt.ylabel('Accuracy')\n",
        "plt.legend(['Training Accuracy' , 'Validation Accuracy'])\n",
        "plt.grid()\n",
        "\n",
        "plt.show()"
      ],
      "execution_count": 26,
      "outputs": [
        {
          "output_type": "display_data",
          "data": {
            "image/png": "[encoded data removed]",
            "text/plain": [
              "<Figure size 1440x576 with 2 Axes>"
            ]
          },
          "metadata": {
            "tags": [],
            "needs_background": "light"
          }
        }
      ]
    },
    {
      "cell_type": "code",
      "metadata": {
        "id": "AlfWiYI3GMPj"
      },
      "source": [
        ""
      ],
      "execution_count": null,
      "outputs": []
    },
    {
      "cell_type": "markdown",
      "metadata": {
        "id": "DOvJ5sPSGWjZ"
      },
      "source": [
        "- Loss & Accuracy"
      ]
    },
    {
      "cell_type": "code",
      "metadata": {
        "colab": {
          "base_uri": "https://localhost:8080/"
        },
        "id": "P3L-ZAHIGZEQ",
        "outputId": "f5a11d2b-4175-444f-976d-cbd799d4c776"
      },
      "source": [
        "loss, accuracy = model.evaluate(test_generator, steps = 50)\n",
        "\n",
        "print('Loss = {:.5f}' .format(loss))\n",
        "print('Accuracy = {:.5f}' .format(accuracy))"
      ],
      "execution_count": 28,
      "outputs": [
        {
          "output_type": "stream",
          "text": [
            "50/50 [==============================] - 4s 72ms/step - loss: 0.3897 - accuracy: 0.9300\n",
            "Loss = 0.38975\n",
            "Accuracy = 0.93000\n"
          ],
          "name": "stdout"
        }
      ]
    },
    {
      "cell_type": "markdown",
      "metadata": {
        "id": "2THrHE8yGia-"
      },
      "source": [
        "## 4. Model Save & Load to Google Drive"
      ]
    },
    {
      "cell_type": "code",
      "metadata": {
        "colab": {
          "base_uri": "https://localhost:8080/"
        },
        "id": "iQnp_vo9GrgO",
        "outputId": "2c6a942c-d513-47cd-e8f2-7fa5d9e5678a"
      },
      "source": [
        "drive.mount('/content/drive')"
      ],
      "execution_count": 29,
      "outputs": [
        {
          "output_type": "stream",
          "text": [
            "Drive already mounted at /content/drive; to attempt to forcibly remount, call drive.mount(\"/content/drive\", force_remount=True).\n"
          ],
          "name": "stdout"
        }
      ]
    },
    {
      "cell_type": "markdown",
      "metadata": {
        "id": "ypwqIHKTG7zs"
      },
      "source": [
        "### 1) Model Save"
      ]
    },
    {
      "cell_type": "code",
      "metadata": {
        "id": "Gs4AjbPcGtbz"
      },
      "source": [
        "model.save('/content/drive/My Drive/Colab Notebooks/models/008_dogs_and_cats_fine_tuning.h5')"
      ],
      "execution_count": 30,
      "outputs": []
    },
    {
      "cell_type": "code",
      "metadata": {
        "colab": {
          "base_uri": "https://localhost:8080/"
        },
        "id": "iIiqUOcSG0Yc",
        "outputId": "6a70c6c6-de6e-4c7d-944a-a63465906642"
      },
      "source": [
        "!ls -l /content/drive/My\\ Drive/Colab\\ Notebooks/models"
      ],
      "execution_count": 31,
      "outputs": [
        {
          "output_type": "stream",
          "text": [
            "total 479236\n",
            "-rw------- 1 root root     34592 Mar 18 02:42 001_Model_iris.h5\n",
            "-rw------- 1 root root  41498896 Mar 23 02:18 002_dogs_and_cats_small.h5\n",
            "-rw------- 1 root root  41501624 Mar 23 07:12 003_dogs_and_cats_augmentation.h5\n",
            "-rw------- 1 root root  39879700 Mar 23 06:41 004_logo_classification_with_augmentation.h5\n",
            "-rw------- 1 root root  25199032 Mar 24 05:22 006_dogs_and_cats_feature_extraction.h5\n",
            "-rw------- 1 root root 201873880 Mar 24 07:31 007_dogs_and_cats_VGG16.h5\n",
            "-rw------- 1 root root 140748400 Mar 24 07:36 008_dogs_and_cats_fine_tuning.h5\n"
          ],
          "name": "stdout"
        }
      ]
    },
    {
      "cell_type": "markdown",
      "metadata": {
        "id": "bsRayJsZGoxr"
      },
      "source": [
        "### 2) Model Load"
      ]
    },
    {
      "cell_type": "code",
      "metadata": {
        "id": "3IhZmh9JG-oT"
      },
      "source": [
        "model_google = load_model('/content/drive/My Drive/Colab Notebooks/models/008_dogs_and_cats_fine_tuning.h5')"
      ],
      "execution_count": 32,
      "outputs": []
    },
    {
      "cell_type": "code",
      "metadata": {
        "colab": {
          "base_uri": "https://localhost:8080/"
        },
        "id": "8mvObm2DHBim",
        "outputId": "7cd2fea7-bfb2-4e2b-e73a-bd3e88334452"
      },
      "source": [
        "loss, accuracy = model_google.evaluate(test_generator, steps = 50)\n",
        "\n",
        "print('Loss = {:.5f}' .format(loss))\n",
        "print('Accuracy = {:.5f}' .format(accuracy))"
      ],
      "execution_count": 33,
      "outputs": [
        {
          "output_type": "stream",
          "text": [
            "50/50 [==============================] - 4s 73ms/step - loss: 0.3897 - accuracy: 0.9300\n",
            "Loss = 0.38975\n",
            "Accuracy = 0.93000\n"
          ],
          "name": "stdout"
        }
      ]
    },
    {
      "cell_type": "code",
      "metadata": {
        "id": "kFjTAmgQKj77"
      },
      "source": [
        ""
      ],
      "execution_count": null,
      "outputs": []
    }
  ]
}