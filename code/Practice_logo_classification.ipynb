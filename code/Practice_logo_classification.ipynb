{
  "nbformat": 4,
  "nbformat_minor": 0,
  "metadata": {
    "colab": {
      "name": "Practice_logo_logo_classification.ipynb",
      "provenance": []
    },
    "kernelspec": {
      "name": "python3",
      "display_name": "Python 3"
    },
    "language_info": {
      "name": "python"
    },
    "accelerator": "GPU"
  },
  "cells": [
    {
      "cell_type": "code",
      "metadata": {
        "id": "OHpC0pnMQ5_V"
      },
      "source": [
        "import warnings\n",
        "warnings.filterwarnings('ignore')"
      ],
      "execution_count": 1,
      "outputs": []
    },
    {
      "cell_type": "code",
      "metadata": {
        "id": "ogTSs9syRAR1"
      },
      "source": [
        "import matplotlib.pyplot as plt"
      ],
      "execution_count": 2,
      "outputs": []
    },
    {
      "cell_type": "code",
      "metadata": {
        "id": "Dg_rN1lmRFEw"
      },
      "source": [
        "from google.colab import drive"
      ],
      "execution_count": 3,
      "outputs": []
    },
    {
      "cell_type": "code",
      "metadata": {
        "id": "fM2Iz9WBRGhM"
      },
      "source": [
        "import keras\n",
        "from keras.preprocessing.image import ImageDataGenerator\n",
        "from keras import layers\n",
        "from keras import models\n",
        "from keras.models import load_model\n",
        "from keras import backend as K"
      ],
      "execution_count": 4,
      "outputs": []
    },
    {
      "cell_type": "code",
      "metadata": {
        "id": "xp-FVczdRHo-"
      },
      "source": [
        "import tensorflow as tf"
      ],
      "execution_count": 5,
      "outputs": []
    },
    {
      "cell_type": "code",
      "metadata": {
        "colab": {
          "base_uri": "https://localhost:8080/"
        },
        "id": "AgwByj24RI7N",
        "outputId": "d32f8a36-de36-4a04-ce2d-e3cb523e5cb0"
      },
      "source": [
        "keras.__version__ , tf.__version__"
      ],
      "execution_count": 6,
      "outputs": [
        {
          "output_type": "execute_result",
          "data": {
            "text/plain": [
              "('2.4.3', '2.4.1')"
            ]
          },
          "metadata": {
            "tags": []
          },
          "execution_count": 6
        }
      ]
    },
    {
      "cell_type": "code",
      "metadata": {
        "colab": {
          "base_uri": "https://localhost:8080/"
        },
        "id": "ov6oAexjRKZR",
        "outputId": "af8e4e76-11f5-4127-9b1c-7a5bed882b1b"
      },
      "source": [
        "tf.test.gpu_device_name()\n",
        "\n",
        "!nvidia-smi"
      ],
      "execution_count": 7,
      "outputs": [
        {
          "output_type": "stream",
          "text": [
            "Tue Mar 23 04:08:13 2021       \n",
            "+-----------------------------------------------------------------------------+\n",
            "| NVIDIA-SMI 460.56       Driver Version: 460.32.03    CUDA Version: 11.2     |\n",
            "|-------------------------------+----------------------+----------------------+\n",
            "| GPU  Name        Persistence-M| Bus-Id        Disp.A | Volatile Uncorr. ECC |\n",
            "| Fan  Temp  Perf  Pwr:Usage/Cap|         Memory-Usage | GPU-Util  Compute M. |\n",
            "|                               |                      |               MIG M. |\n",
            "|===============================+======================+======================|\n",
            "|   0  Tesla T4            Off  | 00000000:00:04.0 Off |                    0 |\n",
            "| N/A   49C    P0    29W /  70W |    222MiB / 15109MiB |      1%      Default |\n",
            "|                               |                      |                  N/A |\n",
            "+-------------------------------+----------------------+----------------------+\n",
            "                                                                               \n",
            "+-----------------------------------------------------------------------------+\n",
            "| Processes:                                                                  |\n",
            "|  GPU   GI   CI        PID   Type   Process name                  GPU Memory |\n",
            "|        ID   ID                                                   Usage      |\n",
            "|=============================================================================|\n",
            "+-----------------------------------------------------------------------------+\n"
          ],
          "name": "stdout"
        }
      ]
    },
    {
      "cell_type": "code",
      "metadata": {
        "colab": {
          "base_uri": "https://localhost:8080/"
        },
        "id": "n17sZHUlRLgO",
        "outputId": "ecaefa14-bba4-4efd-987b-8aed48eba917"
      },
      "source": [
        "drive.mount('/content/drive')"
      ],
      "execution_count": 8,
      "outputs": [
        {
          "output_type": "stream",
          "text": [
            "Mounted at /content/drive\n"
          ],
          "name": "stdout"
        }
      ]
    },
    {
      "cell_type": "code",
      "metadata": {
        "colab": {
          "base_uri": "https://localhost:8080/"
        },
        "id": "SPLijIjrROVF",
        "outputId": "7bd27877-89c0-4512-b0f1-bae7b6dc0774"
      },
      "source": [
        "!ls -l '/content/drive/My Drive/Colab Notebooks/datasets/'"
      ],
      "execution_count": 9,
      "outputs": [
        {
          "output_type": "stream",
          "text": [
            "total 1741130\n",
            "-rw------- 1 root root      20066 Mar  4 04:45 cat.1700.jpg\n",
            "-rw------- 1 root root   68787205 Mar  9 04:06 creditCardFraud.zip\n",
            "-rw------- 1 root root   90618980 Mar  4 04:51 dogs_and_cats_small.zip\n",
            "drwx------ 2 root root       4096 Mar  9 04:27 image\n",
            "-rw------- 1 root root    8204887 Mar  4 04:45 Images_500.zip\n",
            "-rw------- 1 root root    4240457 Mar 15 04:25 Kaggle_Customer_Satisfaction.zip\n",
            "-rw------- 1 root root   12929865 Mar  4 04:42 Logo_Data.zip\n",
            "-rw------- 1 root root   18272469 Mar  4 04:50 MNIST.csv\n",
            "-rw------- 1 root root   23715344 Mar  7 07:08 Online_Retail.xlsx\n",
            "-rw------- 1 root root        741 Mar  4 04:44 PII.csv\n",
            "-rw------- 1 root root 1141460846 Mar  4 04:50 waferImages.zip\n",
            "-rw------- 1 root root  414658234 Mar  4 04:49 yolo_weight.zip\n"
          ],
          "name": "stdout"
        }
      ]
    },
    {
      "cell_type": "code",
      "metadata": {
        "id": "TZ45C0noRV0C"
      },
      "source": [
        "!unzip /content/drive/My\\ Drive/Colab\\ Notebooks/datasets/Logo_Data.zip"
      ],
      "execution_count": null,
      "outputs": []
    },
    {
      "cell_type": "code",
      "metadata": {
        "colab": {
          "base_uri": "https://localhost:8080/"
        },
        "id": "8FA5YAebRbRn",
        "outputId": "09818f83-364f-4fdb-d820-4acc84530db7"
      },
      "source": [
        "!ls -l"
      ],
      "execution_count": 11,
      "outputs": [
        {
          "output_type": "stream",
          "text": [
            "total 16\n",
            "drwx------  5 root root 4096 Mar 23 04:08 drive\n",
            "drwxr-xr-x  1 root root 4096 Mar 18 13:36 sample_data\n",
            "drwxr-xr-x 29 root root 4096 Mar 23 04:09 test\n",
            "drwxr-xr-x 29 root root 4096 Mar 23 04:09 train\n"
          ],
          "name": "stdout"
        }
      ]
    },
    {
      "cell_type": "code",
      "metadata": {
        "id": "CwPu_hpnRgJE"
      },
      "source": [
        "train_dir = 'train'\n",
        "val_dir = 'test'\n",
        "test_dir = 'test'"
      ],
      "execution_count": 181,
      "outputs": []
    },
    {
      "cell_type": "code",
      "metadata": {
        "colab": {
          "base_uri": "https://localhost:8080/"
        },
        "id": "Bb2lraXQRo_c",
        "outputId": "64389b26-d714-44f8-ed02-202a1c7c6267"
      },
      "source": [
        "generator = ImageDataGenerator(rescale = 1./255)\n",
        "\n",
        "train_generator = generator.flow_from_directory(\n",
        "    train_dir,\n",
        "    batch_size = 8,\n",
        "    target_size = (75, 75),\n",
        "    class_mode = 'categorical'\n",
        ")\n",
        "\n",
        "val_generator = generator.flow_from_directory(\n",
        "    val_dir,\n",
        "    batch_size = 8,\n",
        "    target_size = (75, 75),\n",
        "    class_mode = 'categorical'\n",
        ")"
      ],
      "execution_count": 182,
      "outputs": [
        {
          "output_type": "stream",
          "text": [
            "Found 498 images belonging to 27 classes.\n",
            "Found 177 images belonging to 27 classes.\n"
          ],
          "name": "stdout"
        }
      ]
    },
    {
      "cell_type": "code",
      "metadata": {
        "colab": {
          "base_uri": "https://localhost:8080/"
        },
        "id": "ziJ36MsoSP7w",
        "outputId": "d2c7cfe3-2c3e-4fbf-bd21-aa546d45a45f"
      },
      "source": [
        "for data_batch, labels_batch in train_generator :\n",
        "  print(data_batch.shape)\n",
        "  print(labels_batch.shape)\n",
        "  break"
      ],
      "execution_count": 180,
      "outputs": [
        {
          "output_type": "stream",
          "text": [
            "(8, 75, 75, 3)\n",
            "(8, 27)\n"
          ],
          "name": "stdout"
        }
      ]
    },
    {
      "cell_type": "code",
      "metadata": {
        "id": "890T1QJ2SdFu"
      },
      "source": [
        "model = models.Sequential()\n",
        "\n",
        "model.add(layers.Conv2D(32, (3, 3), activation = 'relu',\n",
        "                        input_shape = (75, 75, 3)))\n",
        "model.add(layers.MaxPooling2D((2, 2)))\n",
        "model.add(layers.Conv2D(64, (3, 3), activation = 'relu'))\n",
        "model.add(layers.MaxPooling2D((2, 2)))\n",
        "model.add(layers.Conv2D(128, (3, 3), activation = 'relu'))\n",
        "model.add(layers.MaxPooling2D((2, 2)))\n",
        "\n",
        "model.add(layers.Flatten())\n",
        "model.add(layers.Dense(512, activation = 'relu'))\n",
        "model.add(layers.Dense(27, activation = 'softmax'))"
      ],
      "execution_count": 183,
      "outputs": []
    },
    {
      "cell_type": "code",
      "metadata": {
        "colab": {
          "base_uri": "https://localhost:8080/"
        },
        "id": "Ae3xpxjBTL_s",
        "outputId": "5c051b6a-cbc3-41a1-98cc-babec1b14069"
      },
      "source": [
        "model.summary()"
      ],
      "execution_count": 184,
      "outputs": [
        {
          "output_type": "stream",
          "text": [
            "Model: \"sequential_1\"\n",
            "_________________________________________________________________\n",
            "Layer (type)                 Output Shape              Param #   \n",
            "=================================================================\n",
            "conv2d_3 (Conv2D)            (None, 73, 73, 32)        896       \n",
            "_________________________________________________________________\n",
            "max_pooling2d_3 (MaxPooling2 (None, 36, 36, 32)        0         \n",
            "_________________________________________________________________\n",
            "conv2d_4 (Conv2D)            (None, 34, 34, 64)        18496     \n",
            "_________________________________________________________________\n",
            "max_pooling2d_4 (MaxPooling2 (None, 17, 17, 64)        0         \n",
            "_________________________________________________________________\n",
            "conv2d_5 (Conv2D)            (None, 15, 15, 128)       73856     \n",
            "_________________________________________________________________\n",
            "max_pooling2d_5 (MaxPooling2 (None, 7, 7, 128)         0         \n",
            "_________________________________________________________________\n",
            "flatten_1 (Flatten)          (None, 6272)              0         \n",
            "_________________________________________________________________\n",
            "dense_2 (Dense)              (None, 512)               3211776   \n",
            "_________________________________________________________________\n",
            "dense_3 (Dense)              (None, 27)                13851     \n",
            "=================================================================\n",
            "Total params: 3,318,875\n",
            "Trainable params: 3,318,875\n",
            "Non-trainable params: 0\n",
            "_________________________________________________________________\n"
          ],
          "name": "stdout"
        }
      ]
    },
    {
      "cell_type": "code",
      "metadata": {
        "id": "Qg7xPN1DTNHY"
      },
      "source": [
        "model.compile(loss = 'categorical_crossentropy',\n",
        "              optimizer = 'adam',\n",
        "              metrics = ['accuracy'])"
      ],
      "execution_count": 185,
      "outputs": []
    },
    {
      "cell_type": "code",
      "metadata": {
        "id": "LMFlfiqZU9x_"
      },
      "source": [
        "K.clear_session()"
      ],
      "execution_count": 167,
      "outputs": []
    },
    {
      "cell_type": "code",
      "metadata": {
        "colab": {
          "base_uri": "https://localhost:8080/"
        },
        "id": "fFtcT1J4TlMC",
        "outputId": "2c3f34ec-4bc2-4a57-8fcd-b803587ee739"
      },
      "source": [
        "Hist_logo = model.fit(train_generator,\n",
        "                      steps_per_epoch = 62,\n",
        "                      validation_data = val_generator,\n",
        "                      validation_steps = 22,\n",
        "                      epochs = 100)"
      ],
      "execution_count": 186,
      "outputs": [
        {
          "output_type": "stream",
          "text": [
            "Epoch 1/100\n",
            "62/62 [==============================] - 2s 18ms/step - loss: 3.2992 - accuracy: 0.0506 - val_loss: 2.8645 - val_accuracy: 0.1932\n",
            "Epoch 2/100\n",
            "62/62 [==============================] - 1s 15ms/step - loss: 2.6841 - accuracy: 0.2578 - val_loss: 2.5442 - val_accuracy: 0.3182\n",
            "Epoch 3/100\n",
            "62/62 [==============================] - 1s 16ms/step - loss: 2.1245 - accuracy: 0.4013 - val_loss: 2.2372 - val_accuracy: 0.4148\n",
            "Epoch 4/100\n",
            "62/62 [==============================] - 1s 16ms/step - loss: 1.4464 - accuracy: 0.5518 - val_loss: 1.8676 - val_accuracy: 0.5511\n",
            "Epoch 5/100\n",
            "62/62 [==============================] - 1s 16ms/step - loss: 0.8879 - accuracy: 0.7791 - val_loss: 1.8185 - val_accuracy: 0.5455\n",
            "Epoch 6/100\n",
            "62/62 [==============================] - 1s 16ms/step - loss: 0.4772 - accuracy: 0.8599 - val_loss: 2.1926 - val_accuracy: 0.5000\n",
            "Epoch 7/100\n",
            "62/62 [==============================] - 1s 16ms/step - loss: 0.1745 - accuracy: 0.9651 - val_loss: 2.3728 - val_accuracy: 0.5284\n",
            "Epoch 8/100\n",
            "62/62 [==============================] - 1s 15ms/step - loss: 0.1875 - accuracy: 0.9438 - val_loss: 2.3847 - val_accuracy: 0.5625\n",
            "Epoch 9/100\n",
            "62/62 [==============================] - 1s 16ms/step - loss: 0.0854 - accuracy: 0.9818 - val_loss: 2.6258 - val_accuracy: 0.5966\n",
            "Epoch 10/100\n",
            "62/62 [==============================] - 1s 15ms/step - loss: 0.0380 - accuracy: 0.9957 - val_loss: 2.7024 - val_accuracy: 0.6080\n",
            "Epoch 11/100\n",
            "62/62 [==============================] - 1s 16ms/step - loss: 0.0057 - accuracy: 1.0000 - val_loss: 2.9375 - val_accuracy: 0.6250\n",
            "Epoch 12/100\n",
            "62/62 [==============================] - 1s 15ms/step - loss: 0.0013 - accuracy: 1.0000 - val_loss: 3.0197 - val_accuracy: 0.6250\n",
            "Epoch 13/100\n",
            "62/62 [==============================] - 1s 15ms/step - loss: 7.7457e-04 - accuracy: 1.0000 - val_loss: 3.1127 - val_accuracy: 0.6193\n",
            "Epoch 14/100\n",
            "62/62 [==============================] - 1s 16ms/step - loss: 6.4705e-04 - accuracy: 1.0000 - val_loss: 3.1753 - val_accuracy: 0.6193\n",
            "Epoch 15/100\n",
            "62/62 [==============================] - 1s 15ms/step - loss: 6.6566e-04 - accuracy: 1.0000 - val_loss: 3.2018 - val_accuracy: 0.6364\n",
            "Epoch 16/100\n",
            "62/62 [==============================] - 1s 15ms/step - loss: 3.7990e-04 - accuracy: 1.0000 - val_loss: 3.0919 - val_accuracy: 0.6364\n",
            "Epoch 17/100\n",
            "62/62 [==============================] - 1s 16ms/step - loss: 4.5657e-04 - accuracy: 1.0000 - val_loss: 3.3185 - val_accuracy: 0.6307\n",
            "Epoch 18/100\n",
            "62/62 [==============================] - 1s 16ms/step - loss: 3.0621e-04 - accuracy: 1.0000 - val_loss: 3.3655 - val_accuracy: 0.6250\n",
            "Epoch 19/100\n",
            "62/62 [==============================] - 1s 16ms/step - loss: 3.0219e-04 - accuracy: 1.0000 - val_loss: 3.3418 - val_accuracy: 0.6250\n",
            "Epoch 20/100\n",
            "62/62 [==============================] - 1s 16ms/step - loss: 2.0149e-04 - accuracy: 1.0000 - val_loss: 3.4441 - val_accuracy: 0.6193\n",
            "Epoch 21/100\n",
            "62/62 [==============================] - 1s 16ms/step - loss: 1.6559e-04 - accuracy: 1.0000 - val_loss: 3.4802 - val_accuracy: 0.6250\n",
            "Epoch 22/100\n",
            "62/62 [==============================] - 1s 15ms/step - loss: 2.0567e-04 - accuracy: 1.0000 - val_loss: 3.4218 - val_accuracy: 0.6364\n",
            "Epoch 23/100\n",
            "62/62 [==============================] - 1s 16ms/step - loss: 1.5682e-04 - accuracy: 1.0000 - val_loss: 3.5399 - val_accuracy: 0.6307\n",
            "Epoch 24/100\n",
            "62/62 [==============================] - 1s 16ms/step - loss: 1.3036e-04 - accuracy: 1.0000 - val_loss: 3.4302 - val_accuracy: 0.6364\n",
            "Epoch 25/100\n",
            "62/62 [==============================] - 1s 15ms/step - loss: 1.4243e-04 - accuracy: 1.0000 - val_loss: 3.5279 - val_accuracy: 0.6364\n",
            "Epoch 26/100\n",
            "62/62 [==============================] - 1s 15ms/step - loss: 1.2245e-04 - accuracy: 1.0000 - val_loss: 3.6031 - val_accuracy: 0.6250\n",
            "Epoch 27/100\n",
            "62/62 [==============================] - 1s 16ms/step - loss: 9.5351e-05 - accuracy: 1.0000 - val_loss: 3.6392 - val_accuracy: 0.6193\n",
            "Epoch 28/100\n",
            "62/62 [==============================] - 1s 15ms/step - loss: 9.1341e-05 - accuracy: 1.0000 - val_loss: 3.6601 - val_accuracy: 0.6193\n",
            "Epoch 29/100\n",
            "62/62 [==============================] - 1s 16ms/step - loss: 8.1391e-05 - accuracy: 1.0000 - val_loss: 3.6309 - val_accuracy: 0.6193\n",
            "Epoch 30/100\n",
            "62/62 [==============================] - 1s 16ms/step - loss: 7.0285e-05 - accuracy: 1.0000 - val_loss: 3.6183 - val_accuracy: 0.6193\n",
            "Epoch 31/100\n",
            "62/62 [==============================] - 1s 16ms/step - loss: 6.7133e-05 - accuracy: 1.0000 - val_loss: 3.7067 - val_accuracy: 0.6136\n",
            "Epoch 32/100\n",
            "62/62 [==============================] - 1s 16ms/step - loss: 6.6808e-05 - accuracy: 1.0000 - val_loss: 3.7097 - val_accuracy: 0.6136\n",
            "Epoch 33/100\n",
            "62/62 [==============================] - 1s 16ms/step - loss: 7.1964e-05 - accuracy: 1.0000 - val_loss: 3.7433 - val_accuracy: 0.6136\n",
            "Epoch 34/100\n",
            "62/62 [==============================] - 1s 16ms/step - loss: 6.5795e-05 - accuracy: 1.0000 - val_loss: 3.7382 - val_accuracy: 0.6136\n",
            "Epoch 35/100\n",
            "62/62 [==============================] - 1s 15ms/step - loss: 6.1101e-05 - accuracy: 1.0000 - val_loss: 3.8048 - val_accuracy: 0.6080\n",
            "Epoch 36/100\n",
            "62/62 [==============================] - 1s 15ms/step - loss: 6.7216e-05 - accuracy: 1.0000 - val_loss: 3.8227 - val_accuracy: 0.6080\n",
            "Epoch 37/100\n",
            "62/62 [==============================] - 1s 16ms/step - loss: 6.1126e-05 - accuracy: 1.0000 - val_loss: 3.8433 - val_accuracy: 0.6080\n",
            "Epoch 38/100\n",
            "62/62 [==============================] - 1s 16ms/step - loss: 4.2825e-05 - accuracy: 1.0000 - val_loss: 3.8607 - val_accuracy: 0.6080\n",
            "Epoch 39/100\n",
            "62/62 [==============================] - 1s 15ms/step - loss: 5.0387e-05 - accuracy: 1.0000 - val_loss: 3.8775 - val_accuracy: 0.6080\n",
            "Epoch 40/100\n",
            "62/62 [==============================] - 1s 16ms/step - loss: 3.6874e-05 - accuracy: 1.0000 - val_loss: 3.8549 - val_accuracy: 0.6136\n",
            "Epoch 41/100\n",
            "62/62 [==============================] - 1s 16ms/step - loss: 3.7268e-05 - accuracy: 1.0000 - val_loss: 3.9118 - val_accuracy: 0.6080\n",
            "Epoch 42/100\n",
            "62/62 [==============================] - 1s 16ms/step - loss: 2.9856e-05 - accuracy: 1.0000 - val_loss: 3.9143 - val_accuracy: 0.6136\n",
            "Epoch 43/100\n",
            "62/62 [==============================] - 1s 16ms/step - loss: 4.6615e-05 - accuracy: 1.0000 - val_loss: 3.9435 - val_accuracy: 0.6136\n",
            "Epoch 44/100\n",
            "62/62 [==============================] - 1s 16ms/step - loss: 3.8066e-05 - accuracy: 1.0000 - val_loss: 3.9591 - val_accuracy: 0.6080\n",
            "Epoch 45/100\n",
            "62/62 [==============================] - 1s 16ms/step - loss: 3.4117e-05 - accuracy: 1.0000 - val_loss: 3.9447 - val_accuracy: 0.6193\n",
            "Epoch 46/100\n",
            "62/62 [==============================] - 1s 15ms/step - loss: 2.6834e-05 - accuracy: 1.0000 - val_loss: 3.9897 - val_accuracy: 0.6080\n",
            "Epoch 47/100\n",
            "62/62 [==============================] - 1s 16ms/step - loss: 2.7692e-05 - accuracy: 1.0000 - val_loss: 3.9905 - val_accuracy: 0.6136\n",
            "Epoch 48/100\n",
            "62/62 [==============================] - 1s 15ms/step - loss: 2.2524e-05 - accuracy: 1.0000 - val_loss: 3.9311 - val_accuracy: 0.6193\n",
            "Epoch 49/100\n",
            "62/62 [==============================] - 1s 16ms/step - loss: 1.9905e-05 - accuracy: 1.0000 - val_loss: 4.0322 - val_accuracy: 0.6080\n",
            "Epoch 50/100\n",
            "62/62 [==============================] - 1s 16ms/step - loss: 2.2699e-05 - accuracy: 1.0000 - val_loss: 4.0398 - val_accuracy: 0.6193\n",
            "Epoch 51/100\n",
            "62/62 [==============================] - 1s 16ms/step - loss: 1.9485e-05 - accuracy: 1.0000 - val_loss: 4.0443 - val_accuracy: 0.6193\n",
            "Epoch 52/100\n",
            "62/62 [==============================] - 1s 15ms/step - loss: 2.1719e-05 - accuracy: 1.0000 - val_loss: 4.0389 - val_accuracy: 0.6193\n",
            "Epoch 53/100\n",
            "62/62 [==============================] - 1s 15ms/step - loss: 1.8954e-05 - accuracy: 1.0000 - val_loss: 4.0913 - val_accuracy: 0.6080\n",
            "Epoch 54/100\n",
            "62/62 [==============================] - 1s 16ms/step - loss: 1.7394e-05 - accuracy: 1.0000 - val_loss: 4.1090 - val_accuracy: 0.6136\n",
            "Epoch 55/100\n",
            "62/62 [==============================] - 1s 16ms/step - loss: 1.8529e-05 - accuracy: 1.0000 - val_loss: 4.1042 - val_accuracy: 0.6193\n",
            "Epoch 56/100\n",
            "62/62 [==============================] - 1s 16ms/step - loss: 1.5625e-05 - accuracy: 1.0000 - val_loss: 4.1347 - val_accuracy: 0.6136\n",
            "Epoch 57/100\n",
            "62/62 [==============================] - 1s 15ms/step - loss: 1.3890e-05 - accuracy: 1.0000 - val_loss: 4.1461 - val_accuracy: 0.6136\n",
            "Epoch 58/100\n",
            "62/62 [==============================] - 1s 16ms/step - loss: 1.2372e-05 - accuracy: 1.0000 - val_loss: 4.1621 - val_accuracy: 0.6136\n",
            "Epoch 59/100\n",
            "62/62 [==============================] - 1s 16ms/step - loss: 1.1659e-05 - accuracy: 1.0000 - val_loss: 4.1671 - val_accuracy: 0.6193\n",
            "Epoch 60/100\n",
            "62/62 [==============================] - 1s 15ms/step - loss: 1.3346e-05 - accuracy: 1.0000 - val_loss: 4.0878 - val_accuracy: 0.6193\n",
            "Epoch 61/100\n",
            "62/62 [==============================] - 1s 15ms/step - loss: 1.2112e-05 - accuracy: 1.0000 - val_loss: 4.0907 - val_accuracy: 0.6193\n",
            "Epoch 62/100\n",
            "62/62 [==============================] - 1s 16ms/step - loss: 1.2272e-05 - accuracy: 1.0000 - val_loss: 4.0962 - val_accuracy: 0.6193\n",
            "Epoch 63/100\n",
            "62/62 [==============================] - 1s 16ms/step - loss: 1.0458e-05 - accuracy: 1.0000 - val_loss: 4.2289 - val_accuracy: 0.6136\n",
            "Epoch 64/100\n",
            "62/62 [==============================] - 1s 16ms/step - loss: 9.8824e-06 - accuracy: 1.0000 - val_loss: 4.2430 - val_accuracy: 0.6136\n",
            "Epoch 65/100\n",
            "62/62 [==============================] - 1s 16ms/step - loss: 1.0209e-05 - accuracy: 1.0000 - val_loss: 4.2542 - val_accuracy: 0.6136\n",
            "Epoch 66/100\n",
            "62/62 [==============================] - 1s 16ms/step - loss: 1.3333e-05 - accuracy: 1.0000 - val_loss: 4.2701 - val_accuracy: 0.6136\n",
            "Epoch 67/100\n",
            "62/62 [==============================] - 1s 16ms/step - loss: 8.8710e-06 - accuracy: 1.0000 - val_loss: 4.2804 - val_accuracy: 0.6136\n",
            "Epoch 68/100\n",
            "62/62 [==============================] - 1s 16ms/step - loss: 8.6298e-06 - accuracy: 1.0000 - val_loss: 4.2745 - val_accuracy: 0.6193\n",
            "Epoch 69/100\n",
            "62/62 [==============================] - 1s 16ms/step - loss: 9.0902e-06 - accuracy: 1.0000 - val_loss: 4.3054 - val_accuracy: 0.6136\n",
            "Epoch 70/100\n",
            "62/62 [==============================] - 1s 16ms/step - loss: 7.5061e-06 - accuracy: 1.0000 - val_loss: 4.3168 - val_accuracy: 0.6136\n",
            "Epoch 71/100\n",
            "62/62 [==============================] - 1s 16ms/step - loss: 9.0936e-06 - accuracy: 1.0000 - val_loss: 4.3268 - val_accuracy: 0.6136\n",
            "Epoch 72/100\n",
            "62/62 [==============================] - 1s 15ms/step - loss: 7.1067e-06 - accuracy: 1.0000 - val_loss: 4.2960 - val_accuracy: 0.6193\n",
            "Epoch 73/100\n",
            "62/62 [==============================] - 1s 16ms/step - loss: 8.2567e-06 - accuracy: 1.0000 - val_loss: 4.3334 - val_accuracy: 0.6193\n",
            "Epoch 74/100\n",
            "62/62 [==============================] - 1s 16ms/step - loss: 6.5543e-06 - accuracy: 1.0000 - val_loss: 4.2770 - val_accuracy: 0.6193\n",
            "Epoch 75/100\n",
            "62/62 [==============================] - 1s 16ms/step - loss: 7.1711e-06 - accuracy: 1.0000 - val_loss: 4.3770 - val_accuracy: 0.6136\n",
            "Epoch 76/100\n",
            "62/62 [==============================] - 1s 15ms/step - loss: 6.1393e-06 - accuracy: 1.0000 - val_loss: 4.3886 - val_accuracy: 0.6136\n",
            "Epoch 77/100\n",
            "62/62 [==============================] - 1s 16ms/step - loss: 6.3625e-06 - accuracy: 1.0000 - val_loss: 4.3978 - val_accuracy: 0.6136\n",
            "Epoch 78/100\n",
            "62/62 [==============================] - 1s 16ms/step - loss: 5.8434e-06 - accuracy: 1.0000 - val_loss: 4.3706 - val_accuracy: 0.6136\n",
            "Epoch 79/100\n",
            "62/62 [==============================] - 1s 16ms/step - loss: 5.2837e-06 - accuracy: 1.0000 - val_loss: 4.3452 - val_accuracy: 0.6136\n",
            "Epoch 80/100\n",
            "62/62 [==============================] - 1s 16ms/step - loss: 5.2527e-06 - accuracy: 1.0000 - val_loss: 4.4377 - val_accuracy: 0.6080\n",
            "Epoch 81/100\n",
            "62/62 [==============================] - 1s 15ms/step - loss: 5.1682e-06 - accuracy: 1.0000 - val_loss: 4.4511 - val_accuracy: 0.6080\n",
            "Epoch 82/100\n",
            "62/62 [==============================] - 1s 16ms/step - loss: 4.1235e-06 - accuracy: 1.0000 - val_loss: 4.4096 - val_accuracy: 0.6136\n",
            "Epoch 83/100\n",
            "62/62 [==============================] - 1s 16ms/step - loss: 4.7172e-06 - accuracy: 1.0000 - val_loss: 4.4727 - val_accuracy: 0.6080\n",
            "Epoch 84/100\n",
            "62/62 [==============================] - 1s 15ms/step - loss: 4.8357e-06 - accuracy: 1.0000 - val_loss: 4.4853 - val_accuracy: 0.6080\n",
            "Epoch 85/100\n",
            "62/62 [==============================] - 1s 16ms/step - loss: 3.9104e-06 - accuracy: 1.0000 - val_loss: 4.4948 - val_accuracy: 0.6080\n",
            "Epoch 86/100\n",
            "62/62 [==============================] - 1s 16ms/step - loss: 3.5502e-06 - accuracy: 1.0000 - val_loss: 4.4015 - val_accuracy: 0.6136\n",
            "Epoch 87/100\n",
            "62/62 [==============================] - 1s 16ms/step - loss: 3.5521e-06 - accuracy: 1.0000 - val_loss: 4.5235 - val_accuracy: 0.6136\n",
            "Epoch 88/100\n",
            "62/62 [==============================] - 1s 16ms/step - loss: 4.5605e-06 - accuracy: 1.0000 - val_loss: 4.3333 - val_accuracy: 0.6193\n",
            "Epoch 89/100\n",
            "62/62 [==============================] - 1s 16ms/step - loss: 3.9010e-06 - accuracy: 1.0000 - val_loss: 4.5319 - val_accuracy: 0.6193\n",
            "Epoch 90/100\n",
            "62/62 [==============================] - 1s 16ms/step - loss: 4.4647e-06 - accuracy: 1.0000 - val_loss: 4.5592 - val_accuracy: 0.6136\n",
            "Epoch 91/100\n",
            "62/62 [==============================] - 1s 16ms/step - loss: 2.8034e-06 - accuracy: 1.0000 - val_loss: 4.5733 - val_accuracy: 0.6136\n",
            "Epoch 92/100\n",
            "62/62 [==============================] - 1s 16ms/step - loss: 2.9994e-06 - accuracy: 1.0000 - val_loss: 4.5224 - val_accuracy: 0.6193\n",
            "Epoch 93/100\n",
            "62/62 [==============================] - 1s 16ms/step - loss: 3.2761e-06 - accuracy: 1.0000 - val_loss: 4.4444 - val_accuracy: 0.6193\n",
            "Epoch 94/100\n",
            "62/62 [==============================] - 1s 15ms/step - loss: 2.5908e-06 - accuracy: 1.0000 - val_loss: 4.6167 - val_accuracy: 0.6136\n",
            "Epoch 95/100\n",
            "62/62 [==============================] - 1s 16ms/step - loss: 3.0682e-06 - accuracy: 1.0000 - val_loss: 4.6266 - val_accuracy: 0.6136\n",
            "Epoch 96/100\n",
            "62/62 [==============================] - 1s 16ms/step - loss: 2.5884e-06 - accuracy: 1.0000 - val_loss: 4.5164 - val_accuracy: 0.6193\n",
            "Epoch 97/100\n",
            "62/62 [==============================] - 1s 15ms/step - loss: 2.3483e-06 - accuracy: 1.0000 - val_loss: 4.6513 - val_accuracy: 0.6136\n",
            "Epoch 98/100\n",
            "62/62 [==============================] - 1s 16ms/step - loss: 2.0920e-06 - accuracy: 1.0000 - val_loss: 4.6667 - val_accuracy: 0.6136\n",
            "Epoch 99/100\n",
            "62/62 [==============================] - 1s 16ms/step - loss: 2.2199e-06 - accuracy: 1.0000 - val_loss: 4.6739 - val_accuracy: 0.6136\n",
            "Epoch 100/100\n",
            "62/62 [==============================] - 1s 16ms/step - loss: 2.0283e-06 - accuracy: 1.0000 - val_loss: 4.6925 - val_accuracy: 0.6136\n"
          ],
          "name": "stdout"
        }
      ]
    },
    {
      "cell_type": "code",
      "metadata": {
        "colab": {
          "base_uri": "https://localhost:8080/",
          "height": 404
        },
        "id": "kwyGFdUqXPCn",
        "outputId": "250a4065-ebca-46dc-d9df-92a3716f7022"
      },
      "source": [
        "epochs = range(1, len(Hist_logo.history['loss']) + 1)\n",
        "\n",
        "plt.figure(figsize = (9, 6))\n",
        "plt.plot(epochs, Hist_logo.history['loss'])\n",
        "plt.plot(epochs, Hist_logo.history['val_loss'])\n",
        "\n",
        "plt.title('Training & Validation Loss')\n",
        "plt.xlabel('Epochs')\n",
        "plt.ylabel('Loss')\n",
        "plt.legend(['Training Loss' , 'Validation Loss'])\n",
        "plt.grid()\n",
        "plt.show()"
      ],
      "execution_count": 187,
      "outputs": [
        {
          "output_type": "display_data",
          "data": {
            "image/png": "[encoded data removed]",
            "text/plain": [
              "<Figure size 648x432 with 1 Axes>"
            ]
          },
          "metadata": {
            "tags": [],
            "needs_background": "light"
          }
        }
      ]
    },
    {
      "cell_type": "code",
      "metadata": {
        "id": "IWDHRO0Gc8Au",
        "outputId": "89b6e6ee-40b9-4a81-a92d-d05e5c6bbf99",
        "colab": {
          "base_uri": "https://localhost:8080/",
          "height": 404
        }
      },
      "source": [
        "import matplotlib.pyplot as plt\n",
        "\n",
        "epochs = range(1, len(Hist_logo.history['loss']) + 1)\n",
        "\n",
        "plt.figure(figsize = (9, 6))\n",
        "plt.plot(epochs, Hist_logo.history['accuracy'])\n",
        "plt.plot(epochs, Hist_logo.history['val_accuracy'])\n",
        "\n",
        "plt.title('Training & Validation Accuracy')\n",
        "plt.xlabel('Epochs')\n",
        "plt.ylabel('Accuracy')\n",
        "plt.legend(['Training Accuracy', 'Validation Accuracy'])\n",
        "plt.grid()\n",
        "plt.show()"
      ],
      "execution_count": 190,
      "outputs": [
        {
          "output_type": "display_data",
          "data": {
            "image/png": "[encoded data removed]",
            "text/plain": [
              "<Figure size 648x432 with 1 Axes>"
            ]
          },
          "metadata": {
            "tags": [],
            "needs_background": "light"
          }
        }
      ]
    },
    {
      "cell_type": "code",
      "metadata": {
        "colab": {
          "base_uri": "https://localhost:8080/"
        },
        "id": "Bm96WNaHT45p",
        "outputId": "f7352f63-d33d-4e82-faac-093a9b0a3514"
      },
      "source": [
        "test_datagen = ImageDataGenerator(rescale = 1./255)\n",
        "\n",
        "test_generator = test_datagen.flow_from_directory(\n",
        "    test_dir,\n",
        "    target_size = (75, 75),\n",
        "    batch_size = 8,\n",
        "    class_mode = 'categorical'\n",
        ")"
      ],
      "execution_count": 188,
      "outputs": [
        {
          "output_type": "stream",
          "text": [
            "Found 177 images belonging to 27 classes.\n"
          ],
          "name": "stdout"
        }
      ]
    },
    {
      "cell_type": "code",
      "metadata": {
        "colab": {
          "base_uri": "https://localhost:8080/"
        },
        "id": "wSZPjdPJTyD2",
        "outputId": "5fc26bff-18cb-450f-d5bd-fe422a4a758b"
      },
      "source": [
        "loss, accuracy = model.evaluate(test_generator,\n",
        "                                steps = 22)\n",
        "\n",
        "print('Loss: {:.5f}' .format(loss))\n",
        "print('Accuracy: {:.5f}' .format(accuracy))"
      ],
      "execution_count": 189,
      "outputs": [
        {
          "output_type": "stream",
          "text": [
            "22/22 [==============================] - 0s 10ms/step - loss: 4.6925 - accuracy: 0.6136\n",
            "Loss: 4.69246\n",
            "Accuracy: 0.61364\n"
          ],
          "name": "stdout"
        }
      ]
    }
  ]
}