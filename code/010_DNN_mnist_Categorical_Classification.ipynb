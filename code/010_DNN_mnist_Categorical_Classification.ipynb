{
  "nbformat": 4,
  "nbformat_minor": 0,
  "metadata": {
    "colab": {
      "name": "010_DNN_mnist_Categorical_Classification.ipynb",
      "provenance": [],
      "collapsed_sections": []
    },
    "kernelspec": {
      "name": "python3",
      "display_name": "Python 3"
    },
    "language_info": {
      "name": "python"
    },
    "accelerator": "GPU"
  },
  "cells": [
    {
      "cell_type": "markdown",
      "metadata": {
        "id": "Jqc3AA0Y3BBc"
      },
      "source": [
        "# MNIST - Categorical Classification\n",
        "- overfitting issue"
      ]
    },
    {
      "cell_type": "code",
      "metadata": {
        "id": "mL_c1BqV1-26"
      },
      "source": [
        "import warnings\n",
        "warnings.filterwarnings('ignore')"
      ],
      "execution_count": 1,
      "outputs": []
    },
    {
      "cell_type": "code",
      "metadata": {
        "id": "jV6ElWwz36vR"
      },
      "source": [
        "import matplotlib.pyplot as plt\n",
        "import numpy as np"
      ],
      "execution_count": 2,
      "outputs": []
    },
    {
      "cell_type": "code",
      "metadata": {
        "id": "GUaTefIp3KNh"
      },
      "source": [
        "import tensorflow as tf"
      ],
      "execution_count": 3,
      "outputs": []
    },
    {
      "cell_type": "code",
      "metadata": {
        "id": "s7E02Yl03L9g"
      },
      "source": [
        "import keras\n",
        "from keras import models, layers, regularizers\n",
        "from keras.datasets import mnist\n",
        "from keras.utils import to_categorical"
      ],
      "execution_count": 4,
      "outputs": []
    },
    {
      "cell_type": "code",
      "metadata": {
        "colab": {
          "base_uri": "https://localhost:8080/",
          "height": 35
        },
        "id": "AuHonVMy3M2R",
        "outputId": "ce45ce9e-865d-411c-8abc-53f99b0180c3"
      },
      "source": [
        "tf.test.gpu_device_name()"
      ],
      "execution_count": 5,
      "outputs": [
        {
          "output_type": "execute_result",
          "data": {
            "application/vnd.google.colaboratory.intrinsic+json": {
              "type": "string"
            },
            "text/plain": [
              "'/device:GPU:0'"
            ]
          },
          "metadata": {
            "tags": []
          },
          "execution_count": 5
        }
      ]
    },
    {
      "cell_type": "markdown",
      "metadata": {
        "id": "jiHqCC1p3Ukb"
      },
      "source": [
        "## 1. MNIST Dataset load & review"
      ]
    },
    {
      "cell_type": "code",
      "metadata": {
        "colab": {
          "base_uri": "https://localhost:8080/"
        },
        "id": "Nq7QO8N_3Xtq",
        "outputId": "1aec17c0-de6a-4bdc-e6e3-fd040148d967"
      },
      "source": [
        "(X_train, y_train) , (X_test, y_test) = mnist.load_data()"
      ],
      "execution_count": 6,
      "outputs": [
        {
          "output_type": "stream",
          "text": [
            "Downloading data from https://storage.googleapis.com/tensorflow/tf-keras-datasets/mnist.npz\n",
            "11493376/11490434 [==============================] - 0s 0us/step\n"
          ],
          "name": "stdout"
        }
      ]
    },
    {
      "cell_type": "markdown",
      "metadata": {
        "id": "4SUPlAL-3sQr"
      },
      "source": [
        "- Train_Data Information"
      ]
    },
    {
      "cell_type": "code",
      "metadata": {
        "colab": {
          "base_uri": "https://localhost:8080/"
        },
        "id": "GEZ1EpGV3TOq",
        "outputId": "891dddcb-8c10-4e11-939c-dc7782b1982a"
      },
      "source": [
        "print(len(X_train))\n",
        "print(X_train.shape)\n",
        "\n",
        "print(len(y_train))\n",
        "print(y_train.shape)\n",
        "print(y_train[0:5])"
      ],
      "execution_count": 8,
      "outputs": [
        {
          "output_type": "stream",
          "text": [
            "60000\n",
            "(60000, 28, 28)\n",
            "60000\n",
            "(60000,)\n",
            "[5 0 4 1 9]\n"
          ],
          "name": "stdout"
        }
      ]
    },
    {
      "cell_type": "markdown",
      "metadata": {
        "id": "O7IxBPcO3u1Z"
      },
      "source": [
        "- Test_Data Information"
      ]
    },
    {
      "cell_type": "code",
      "metadata": {
        "colab": {
          "base_uri": "https://localhost:8080/"
        },
        "id": "I0gbT6dc3lHn",
        "outputId": "a6b0fae8-0048-4671-b833-72f146eb1df7"
      },
      "source": [
        "print(len(X_test))\n",
        "print(X_test.shape)\n",
        "\n",
        "print(len(y_test))\n",
        "print(y_test[:5])"
      ],
      "execution_count": 9,
      "outputs": [
        {
          "output_type": "stream",
          "text": [
            "10000\n",
            "(10000, 28, 28)\n",
            "10000\n",
            "[7 2 1 0 4]\n"
          ],
          "name": "stdout"
        }
      ]
    },
    {
      "cell_type": "markdown",
      "metadata": {
        "id": "sihTEJwh34CO"
      },
      "source": [
        "## 2) Visualization"
      ]
    },
    {
      "cell_type": "code",
      "metadata": {
        "colab": {
          "base_uri": "https://localhost:8080/",
          "height": 265
        },
        "id": "M8LJAlX631up",
        "outputId": "362d77c6-81e3-42b9-a2d8-9159abdc176f"
      },
      "source": [
        "digit = X_train[4]\n",
        "plt.imshow(digit, cmap = 'gray')\n",
        "plt.show()"
      ],
      "execution_count": 10,
      "outputs": [
        {
          "output_type": "display_data",
          "data": {
            "image/png": "[encoded data removed]",
            "text/plain": [
              "<Figure size 432x288 with 1 Axes>"
            ]
          },
          "metadata": {
            "tags": [],
            "needs_background": "light"
          }
        }
      ]
    },
    {
      "cell_type": "code",
      "metadata": {
        "colab": {
          "base_uri": "https://localhost:8080/"
        },
        "id": "OQwnPExv4AHE",
        "outputId": "bf3f838f-fc98-4dac-e563-517f37ad7e89"
      },
      "source": [
        "np.set_printoptions(linewidth = 150)\n",
        "\n",
        "print(X_train[4])"
      ],
      "execution_count": 13,
      "outputs": [
        {
          "output_type": "stream",
          "text": [
            "[[  0   0   0   0   0   0   0   0   0   0   0   0   0   0   0   0   0   0   0   0   0   0   0   0   0   0   0   0]\n",
            " [  0   0   0   0   0   0   0   0   0   0   0   0   0   0   0   0   0   0   0   0   0   0   0   0   0   0   0   0]\n",
            " [  0   0   0   0   0   0   0   0   0   0   0   0   0   0   0   0   0   0   0   0   0   0   0   0   0   0   0   0]\n",
            " [  0   0   0   0   0   0   0   0   0   0   0   0   0   0   0   0   0   0   0   0   0   0   0   0   0   0   0   0]\n",
            " [  0   0   0   0   0   0   0   0   0   0   0   0   0   0   0   0   0   0   0   0   0   0   0   0   0   0   0   0]\n",
            " [  0   0   0   0   0   0   0   0   0   0   0   0   0   0   0   0   0   0   0   0   0   0   0   0   0   0   0   0]\n",
            " [  0   0   0   0   0   0   0   0   0   0   0   0   0   0   0   0   0   0   0   0   0   0   0   0   0   0   0   0]\n",
            " [  0   0   0   0   0   0   0   0   0   0   0   0  55 148 210 253 253 113  87 148  55   0   0   0   0   0   0   0]\n",
            " [  0   0   0   0   0   0   0   0   0   0   0  87 232 252 253 189 210 252 252 253 168   0   0   0   0   0   0   0]\n",
            " [  0   0   0   0   0   0   0   0   0   4  57 242 252 190  65   5  12 182 252 253 116   0   0   0   0   0   0   0]\n",
            " [  0   0   0   0   0   0   0   0   0  96 252 252 183  14   0   0  92 252 252 225  21   0   0   0   0   0   0   0]\n",
            " [  0   0   0   0   0   0   0   0 132 253 252 146  14   0   0   0 215 252 252  79   0   0   0   0   0   0   0   0]\n",
            " [  0   0   0   0   0   0   0 126 253 247 176   9   0   0   8  78 245 253 129   0   0   0   0   0   0   0   0   0]\n",
            " [  0   0   0   0   0   0  16 232 252 176   0   0   0  36 201 252 252 169  11   0   0   0   0   0   0   0   0   0]\n",
            " [  0   0   0   0   0   0  22 252 252  30  22 119 197 241 253 252 251  77   0   0   0   0   0   0   0   0   0   0]\n",
            " [  0   0   0   0   0   0  16 231 252 253 252 252 252 226 227 252 231   0   0   0   0   0   0   0   0   0   0   0]\n",
            " [  0   0   0   0   0   0   0  55 235 253 217 138  42  24 192 252 143   0   0   0   0   0   0   0   0   0   0   0]\n",
            " [  0   0   0   0   0   0   0   0   0   0   0   0   0  62 255 253 109   0   0   0   0   0   0   0   0   0   0   0]\n",
            " [  0   0   0   0   0   0   0   0   0   0   0   0   0  71 253 252  21   0   0   0   0   0   0   0   0   0   0   0]\n",
            " [  0   0   0   0   0   0   0   0   0   0   0   0   0   0 253 252  21   0   0   0   0   0   0   0   0   0   0   0]\n",
            " [  0   0   0   0   0   0   0   0   0   0   0   0   0  71 253 252  21   0   0   0   0   0   0   0   0   0   0   0]\n",
            " [  0   0   0   0   0   0   0   0   0   0   0   0   0 106 253 252  21   0   0   0   0   0   0   0   0   0   0   0]\n",
            " [  0   0   0   0   0   0   0   0   0   0   0   0   0  45 255 253  21   0   0   0   0   0   0   0   0   0   0   0]\n",
            " [  0   0   0   0   0   0   0   0   0   0   0   0   0   0 218 252  56   0   0   0   0   0   0   0   0   0   0   0]\n",
            " [  0   0   0   0   0   0   0   0   0   0   0   0   0   0  96 252 189  42   0   0   0   0   0   0   0   0   0   0]\n",
            " [  0   0   0   0   0   0   0   0   0   0   0   0   0   0  14 184 252 170  11   0   0   0   0   0   0   0   0   0]\n",
            " [  0   0   0   0   0   0   0   0   0   0   0   0   0   0   0  14 147 252  42   0   0   0   0   0   0   0   0   0]\n",
            " [  0   0   0   0   0   0   0   0   0   0   0   0   0   0   0   0   0   0   0   0   0   0   0   0   0   0   0   0]]\n"
          ],
          "name": "stdout"
        }
      ]
    },
    {
      "cell_type": "markdown",
      "metadata": {
        "id": "7gDDZS934Kgz"
      },
      "source": [
        "## 2. Data Preprocessing"
      ]
    },
    {
      "cell_type": "markdown",
      "metadata": {
        "id": "ECh7nua74Mft"
      },
      "source": [
        "### 1) Reshape and Normalization\n",
        "- reshape\n",
        "  - (60000, 28, 28) to (60000, 784)"
      ]
    },
    {
      "cell_type": "code",
      "metadata": {
        "colab": {
          "base_uri": "https://localhost:8080/"
        },
        "id": "pz3PneJz4FZJ",
        "outputId": "20c9d527-2517-4b65-8986-bb9fd98fa3b6"
      },
      "source": [
        "X_train = X_train.reshape((60000, 28 * 28))\n",
        "X_test = X_test.reshape((10000, 28 * 28))\n",
        "\n",
        "X_train.shape, X_test.shape"
      ],
      "execution_count": 11,
      "outputs": [
        {
          "output_type": "execute_result",
          "data": {
            "text/plain": [
              "((60000, 784), (10000, 784))"
            ]
          },
          "metadata": {
            "tags": []
          },
          "execution_count": 11
        }
      ]
    },
    {
      "cell_type": "markdown",
      "metadata": {
        "id": "uZmQZ5t_4hYN"
      },
      "source": [
        "- Normalization"
      ]
    },
    {
      "cell_type": "code",
      "metadata": {
        "id": "_RXGEIkM4di9"
      },
      "source": [
        "X_train = X_train.astype(float) / 255\n",
        "X_test = X_test.astype(float) / 255"
      ],
      "execution_count": 12,
      "outputs": []
    },
    {
      "cell_type": "code",
      "metadata": {
        "colab": {
          "base_uri": "https://localhost:8080/"
        },
        "id": "mGmo436C4mSJ",
        "outputId": "c6e09b06-f592-4ac9-c879-aae4d3943b53"
      },
      "source": [
        "print(X_train[4])"
      ],
      "execution_count": 13,
      "outputs": [
        {
          "output_type": "stream",
          "text": [
            "[0.         0.         0.         0.         0.         0.\n",
            " 0.         0.         0.         0.         0.         0.\n",
            " 0.         0.         0.         0.         0.         0.\n",
            " 0.         0.         0.         0.         0.         0.\n",
            " 0.         0.         0.         0.         0.         0.\n",
            " 0.         0.         0.         0.         0.         0.\n",
            " 0.         0.         0.         0.         0.         0.\n",
            " 0.         0.         0.         0.         0.         0.\n",
            " 0.         0.         0.         0.         0.         0.\n",
            " 0.         0.         0.         0.         0.         0.\n",
            " 0.         0.         0.         0.         0.         0.\n",
            " 0.         0.         0.         0.         0.         0.\n",
            " 0.         0.         0.         0.         0.         0.\n",
            " 0.         0.         0.         0.         0.         0.\n",
            " 0.         0.         0.         0.         0.         0.\n",
            " 0.         0.         0.         0.         0.         0.\n",
            " 0.         0.         0.         0.         0.         0.\n",
            " 0.         0.         0.         0.         0.         0.\n",
            " 0.         0.         0.         0.         0.         0.\n",
            " 0.         0.         0.         0.         0.         0.\n",
            " 0.         0.         0.         0.         0.         0.\n",
            " 0.         0.         0.         0.         0.         0.\n",
            " 0.         0.         0.         0.         0.         0.\n",
            " 0.         0.         0.         0.         0.         0.\n",
            " 0.         0.         0.         0.         0.         0.\n",
            " 0.         0.         0.         0.         0.         0.\n",
            " 0.         0.         0.         0.         0.         0.\n",
            " 0.         0.         0.         0.         0.         0.\n",
            " 0.         0.         0.         0.         0.         0.\n",
            " 0.         0.         0.         0.         0.         0.\n",
            " 0.         0.         0.         0.         0.         0.\n",
            " 0.         0.         0.         0.         0.         0.\n",
            " 0.         0.         0.         0.         0.         0.\n",
            " 0.         0.         0.         0.         0.         0.\n",
            " 0.         0.         0.         0.         0.21568627 0.58039216\n",
            " 0.82352941 0.99215686 0.99215686 0.44313725 0.34117647 0.58039216\n",
            " 0.21568627 0.         0.         0.         0.         0.\n",
            " 0.         0.         0.         0.         0.         0.\n",
            " 0.         0.         0.         0.         0.         0.\n",
            " 0.         0.34117647 0.90980392 0.98823529 0.99215686 0.74117647\n",
            " 0.82352941 0.98823529 0.98823529 0.99215686 0.65882353 0.\n",
            " 0.         0.         0.         0.         0.         0.\n",
            " 0.         0.         0.         0.         0.         0.\n",
            " 0.         0.         0.         0.01568627 0.22352941 0.94901961\n",
            " 0.98823529 0.74509804 0.25490196 0.01960784 0.04705882 0.71372549\n",
            " 0.98823529 0.99215686 0.45490196 0.         0.         0.\n",
            " 0.         0.         0.         0.         0.         0.\n",
            " 0.         0.         0.         0.         0.         0.\n",
            " 0.         0.37647059 0.98823529 0.98823529 0.71764706 0.05490196\n",
            " 0.         0.         0.36078431 0.98823529 0.98823529 0.88235294\n",
            " 0.08235294 0.         0.         0.         0.         0.\n",
            " 0.         0.         0.         0.         0.         0.\n",
            " 0.         0.         0.         0.         0.51764706 0.99215686\n",
            " 0.98823529 0.57254902 0.05490196 0.         0.         0.\n",
            " 0.84313725 0.98823529 0.98823529 0.30980392 0.         0.\n",
            " 0.         0.         0.         0.         0.         0.\n",
            " 0.         0.         0.         0.         0.         0.\n",
            " 0.         0.49411765 0.99215686 0.96862745 0.69019608 0.03529412\n",
            " 0.         0.         0.03137255 0.30588235 0.96078431 0.99215686\n",
            " 0.50588235 0.         0.         0.         0.         0.\n",
            " 0.         0.         0.         0.         0.         0.\n",
            " 0.         0.         0.         0.         0.0627451  0.90980392\n",
            " 0.98823529 0.69019608 0.         0.         0.         0.14117647\n",
            " 0.78823529 0.98823529 0.98823529 0.6627451  0.04313725 0.\n",
            " 0.         0.         0.         0.         0.         0.\n",
            " 0.         0.         0.         0.         0.         0.\n",
            " 0.         0.         0.08627451 0.98823529 0.98823529 0.11764706\n",
            " 0.08627451 0.46666667 0.77254902 0.94509804 0.99215686 0.98823529\n",
            " 0.98431373 0.30196078 0.         0.         0.         0.\n",
            " 0.         0.         0.         0.         0.         0.\n",
            " 0.         0.         0.         0.         0.         0.\n",
            " 0.0627451  0.90588235 0.98823529 0.99215686 0.98823529 0.98823529\n",
            " 0.98823529 0.88627451 0.89019608 0.98823529 0.90588235 0.\n",
            " 0.         0.         0.         0.         0.         0.\n",
            " 0.         0.         0.         0.         0.         0.\n",
            " 0.         0.         0.         0.         0.         0.21568627\n",
            " 0.92156863 0.99215686 0.85098039 0.54117647 0.16470588 0.09411765\n",
            " 0.75294118 0.98823529 0.56078431 0.         0.         0.\n",
            " 0.         0.         0.         0.         0.         0.\n",
            " 0.         0.         0.         0.         0.         0.\n",
            " 0.         0.         0.         0.         0.         0.\n",
            " 0.         0.         0.         0.24313725 1.         0.99215686\n",
            " 0.42745098 0.         0.         0.         0.         0.\n",
            " 0.         0.         0.         0.         0.         0.\n",
            " 0.         0.         0.         0.         0.         0.\n",
            " 0.         0.         0.         0.         0.         0.\n",
            " 0.         0.27843137 0.99215686 0.98823529 0.08235294 0.\n",
            " 0.         0.         0.         0.         0.         0.\n",
            " 0.         0.         0.         0.         0.         0.\n",
            " 0.         0.         0.         0.         0.         0.\n",
            " 0.         0.         0.         0.         0.         0.\n",
            " 0.99215686 0.98823529 0.08235294 0.         0.         0.\n",
            " 0.         0.         0.         0.         0.         0.\n",
            " 0.         0.         0.         0.         0.         0.\n",
            " 0.         0.         0.         0.         0.         0.\n",
            " 0.         0.         0.         0.27843137 0.99215686 0.98823529\n",
            " 0.08235294 0.         0.         0.         0.         0.\n",
            " 0.         0.         0.         0.         0.         0.\n",
            " 0.         0.         0.         0.         0.         0.\n",
            " 0.         0.         0.         0.         0.         0.\n",
            " 0.         0.41568627 0.99215686 0.98823529 0.08235294 0.\n",
            " 0.         0.         0.         0.         0.         0.\n",
            " 0.         0.         0.         0.         0.         0.\n",
            " 0.         0.         0.         0.         0.         0.\n",
            " 0.         0.         0.         0.         0.         0.17647059\n",
            " 1.         0.99215686 0.08235294 0.         0.         0.\n",
            " 0.         0.         0.         0.         0.         0.\n",
            " 0.         0.         0.         0.         0.         0.\n",
            " 0.         0.         0.         0.         0.         0.\n",
            " 0.         0.         0.         0.         0.85490196 0.98823529\n",
            " 0.21960784 0.         0.         0.         0.         0.\n",
            " 0.         0.         0.         0.         0.         0.\n",
            " 0.         0.         0.         0.         0.         0.\n",
            " 0.         0.         0.         0.         0.         0.\n",
            " 0.         0.         0.37647059 0.98823529 0.74117647 0.16470588\n",
            " 0.         0.         0.         0.         0.         0.\n",
            " 0.         0.         0.         0.         0.         0.\n",
            " 0.         0.         0.         0.         0.         0.\n",
            " 0.         0.         0.         0.         0.         0.\n",
            " 0.05490196 0.72156863 0.98823529 0.66666667 0.04313725 0.\n",
            " 0.         0.         0.         0.         0.         0.\n",
            " 0.         0.         0.         0.         0.         0.\n",
            " 0.         0.         0.         0.         0.         0.\n",
            " 0.         0.         0.         0.         0.         0.05490196\n",
            " 0.57647059 0.98823529 0.16470588 0.         0.         0.\n",
            " 0.         0.         0.         0.         0.         0.\n",
            " 0.         0.         0.         0.         0.         0.\n",
            " 0.         0.         0.         0.         0.         0.\n",
            " 0.         0.         0.         0.         0.         0.\n",
            " 0.         0.         0.         0.         0.         0.\n",
            " 0.         0.         0.         0.        ]\n"
          ],
          "name": "stdout"
        }
      ]
    },
    {
      "cell_type": "markdown",
      "metadata": {
        "id": "9eodylis4qbi"
      },
      "source": [
        "### 2) One Hot Encoding"
      ]
    },
    {
      "cell_type": "code",
      "metadata": {
        "id": "I59LufPo4n-C"
      },
      "source": [
        "y_train = to_categorical(y_train)\n",
        "y_test = to_categorical(y_test)"
      ],
      "execution_count": 14,
      "outputs": []
    },
    {
      "cell_type": "code",
      "metadata": {
        "colab": {
          "base_uri": "https://localhost:8080/"
        },
        "id": "7Aqv8i_r43gS",
        "outputId": "ef096f2c-aa6a-4a4f-f57c-8e1fc1d7108b"
      },
      "source": [
        "print(y_train[:5])"
      ],
      "execution_count": 15,
      "outputs": [
        {
          "output_type": "stream",
          "text": [
            "[[0. 0. 0. 0. 0. 1. 0. 0. 0. 0.]\n",
            " [1. 0. 0. 0. 0. 0. 0. 0. 0. 0.]\n",
            " [0. 0. 0. 0. 1. 0. 0. 0. 0. 0.]\n",
            " [0. 1. 0. 0. 0. 0. 0. 0. 0. 0.]\n",
            " [0. 0. 0. 0. 0. 0. 0. 0. 0. 1.]]\n"
          ],
          "name": "stdout"
        }
      ]
    },
    {
      "cell_type": "markdown",
      "metadata": {
        "id": "84C61f0V47Q9"
      },
      "source": [
        "## 3. MNIST Keras Modeling"
      ]
    },
    {
      "cell_type": "markdown",
      "metadata": {
        "id": "heIO3ism4-UG"
      },
      "source": [
        "### 1) Model Define\n",
        "- 모델 신경망 구조 정의\n",
        "  - 2개의 Hidden Layers & 768개의 Nodes\n",
        "  - 복잡한 Model Capacity로 인한 Overfitting"
      ]
    },
    {
      "cell_type": "markdown",
      "metadata": {
        "id": "0Yv5xZUrI_I3"
      },
      "source": [
        "(1) Case 1: Overfitting"
      ]
    },
    {
      "cell_type": "code",
      "metadata": {
        "id": "U-_a4uUc49iE"
      },
      "source": [
        "mnist_1 = models.Sequential()\n",
        "\n",
        "mnist_1.add(layers.Dense(512, activation = 'relu' , input_shape = (28 * 28, )))\n",
        "mnist_1.add(layers.Dense(256, activation = 'relu'))\n",
        "mnist_1.add(layers.Dense(10, activation = 'softmax'))\n",
        "\n",
        "# overfitting issue 발생: model이 overspec일 수 있다"
      ],
      "execution_count": 16,
      "outputs": []
    },
    {
      "cell_type": "code",
      "metadata": {
        "colab": {
          "base_uri": "https://localhost:8080/"
        },
        "id": "2Dos50f445qP",
        "outputId": "0c511bd5-d298-40d4-c16d-f727980be159"
      },
      "source": [
        "mnist_1.summary()"
      ],
      "execution_count": 17,
      "outputs": [
        {
          "output_type": "stream",
          "text": [
            "Model: \"sequential\"\n",
            "_________________________________________________________________\n",
            "Layer (type)                 Output Shape              Param #   \n",
            "=================================================================\n",
            "dense (Dense)                (None, 512)               401920    \n",
            "_________________________________________________________________\n",
            "dense_1 (Dense)              (None, 256)               131328    \n",
            "_________________________________________________________________\n",
            "dense_2 (Dense)              (None, 10)                2570      \n",
            "=================================================================\n",
            "Total params: 535,818\n",
            "Trainable params: 535,818\n",
            "Non-trainable params: 0\n",
            "_________________________________________________________________\n"
          ],
          "name": "stdout"
        }
      ]
    },
    {
      "cell_type": "markdown",
      "metadata": {
        "id": "NgSBV_eBJGhD"
      },
      "source": [
        "(2) Case 2: Layer 줄이기"
      ]
    },
    {
      "cell_type": "code",
      "metadata": {
        "id": "e4nA_o4GHvYI"
      },
      "source": [
        "mnist_2 = models.Sequential()\n",
        "\n",
        "mnist_2.add(layers.Dense(256, activation = 'relu' , input_shape = (28 * 28, )))\n",
        "mnist_2.add(layers.Dense(10, activation = 'softmax'))"
      ],
      "execution_count": 18,
      "outputs": []
    },
    {
      "cell_type": "code",
      "metadata": {
        "colab": {
          "base_uri": "https://localhost:8080/"
        },
        "id": "Q9N5apY3H07W",
        "outputId": "eabb903f-4e11-4ba3-ded2-c6dfab7b50dc"
      },
      "source": [
        "mnist_2.summary()"
      ],
      "execution_count": 19,
      "outputs": [
        {
          "output_type": "stream",
          "text": [
            "Model: \"sequential_1\"\n",
            "_________________________________________________________________\n",
            "Layer (type)                 Output Shape              Param #   \n",
            "=================================================================\n",
            "dense_3 (Dense)              (None, 256)               200960    \n",
            "_________________________________________________________________\n",
            "dense_4 (Dense)              (None, 10)                2570      \n",
            "=================================================================\n",
            "Total params: 203,530\n",
            "Trainable params: 203,530\n",
            "Non-trainable params: 0\n",
            "_________________________________________________________________\n"
          ],
          "name": "stdout"
        }
      ]
    },
    {
      "cell_type": "markdown",
      "metadata": {
        "id": "7n1OaqisJRI1"
      },
      "source": [
        "(3) Case 3: L2 Regularization"
      ]
    },
    {
      "cell_type": "code",
      "metadata": {
        "id": "-JNKWofPH7Od"
      },
      "source": [
        "mnist_3 = models.Sequential()\n",
        "\n",
        "mnist_3.add(layers.Dense(512, activation = 'relu' ,\n",
        "                         kernel_regularizer = regularizers.l2(0.00001),\n",
        "                         input_shape = (28 * 28, )))\n",
        "mnist_3.add(layers.Dense(256, activation = 'relu' ,\n",
        "                         kernel_regularizer = regularizers.l2(0.00001)))\n",
        "mnist_3.add(layers.Dense(10, activation = 'softmax'))"
      ],
      "execution_count": 20,
      "outputs": []
    },
    {
      "cell_type": "code",
      "metadata": {
        "colab": {
          "base_uri": "https://localhost:8080/"
        },
        "id": "HBFPsFXMJ0DJ",
        "outputId": "d070660f-3507-49e5-83a2-445613970ff5"
      },
      "source": [
        "mnist_3.summary()"
      ],
      "execution_count": 21,
      "outputs": [
        {
          "output_type": "stream",
          "text": [
            "Model: \"sequential_2\"\n",
            "_________________________________________________________________\n",
            "Layer (type)                 Output Shape              Param #   \n",
            "=================================================================\n",
            "dense_5 (Dense)              (None, 512)               401920    \n",
            "_________________________________________________________________\n",
            "dense_6 (Dense)              (None, 256)               131328    \n",
            "_________________________________________________________________\n",
            "dense_7 (Dense)              (None, 10)                2570      \n",
            "=================================================================\n",
            "Total params: 535,818\n",
            "Trainable params: 535,818\n",
            "Non-trainable params: 0\n",
            "_________________________________________________________________\n"
          ],
          "name": "stdout"
        }
      ]
    },
    {
      "cell_type": "markdown",
      "metadata": {
        "id": "T-fWrqUSSEGd"
      },
      "source": [
        "(4) Case 4: Dropout\n",
        "- Capacity를 내리고 학습을 방해하는 형태\n",
        "- Dropout 비율은 일반적으로 0.5 (통상적으로 가장 좋은 성능을 낸다)"
      ]
    },
    {
      "cell_type": "code",
      "metadata": {
        "id": "2HSkV0zfR_3h"
      },
      "source": [
        "mnist_4 = models.Sequential()\n",
        "\n",
        "mnist_4.add(layers.Dense(512, activation = 'relu' , input_shape = (28 * 28, )))\n",
        "mnist_4.add(layers.Dropout(0.4))\n",
        "mnist_4.add(layers.Dense(256, activation = 'relu'))\n",
        "mnist_4.add(layers.Dropout(0.2))\n",
        "mnist_4.add(layers.Dense(10, activation = 'softmax'))"
      ],
      "execution_count": 22,
      "outputs": []
    },
    {
      "cell_type": "code",
      "metadata": {
        "colab": {
          "base_uri": "https://localhost:8080/"
        },
        "id": "cuF2J_IySuzB",
        "outputId": "89beb632-0610-41ca-f0e5-6c95ba8f633b"
      },
      "source": [
        "mnist_4.summary()"
      ],
      "execution_count": 23,
      "outputs": [
        {
          "output_type": "stream",
          "text": [
            "Model: \"sequential_3\"\n",
            "_________________________________________________________________\n",
            "Layer (type)                 Output Shape              Param #   \n",
            "=================================================================\n",
            "dense_8 (Dense)              (None, 512)               401920    \n",
            "_________________________________________________________________\n",
            "dropout (Dropout)            (None, 512)               0         \n",
            "_________________________________________________________________\n",
            "dense_9 (Dense)              (None, 256)               131328    \n",
            "_________________________________________________________________\n",
            "dropout_1 (Dropout)          (None, 256)               0         \n",
            "_________________________________________________________________\n",
            "dense_10 (Dense)             (None, 10)                2570      \n",
            "=================================================================\n",
            "Total params: 535,818\n",
            "Trainable params: 535,818\n",
            "Non-trainable params: 0\n",
            "_________________________________________________________________\n"
          ],
          "name": "stdout"
        }
      ]
    },
    {
      "cell_type": "markdown",
      "metadata": {
        "id": "C8pAExOisMg9"
      },
      "source": [
        "(5) Case5: Batch Normalization"
      ]
    },
    {
      "cell_type": "code",
      "metadata": {
        "id": "IgGRfXxZryJ3"
      },
      "source": [
        "mnist_5 = models.Sequential()\n",
        "\n",
        "mnist_5.add(layers.Dense(512, input_shape = (28 * 28, )))\n",
        "mnist_5.add(layers.BatchNormalization())\n",
        "mnist_5.add(layers.Activation('relu'))\n",
        "mnist_5.add(layers.Dense(256))\n",
        "mnist_5.add(layers.BatchNormalization())\n",
        "mnist_5.add(layers.Activation('relu'))\n",
        "mnist_5.add(layers.Dense(10, activation = 'softmax'))"
      ],
      "execution_count": 24,
      "outputs": []
    },
    {
      "cell_type": "code",
      "metadata": {
        "colab": {
          "base_uri": "https://localhost:8080/"
        },
        "id": "9DDBSBWssRUu",
        "outputId": "f5ce02a2-287a-4be9-e92a-6ca9fb78b447"
      },
      "source": [
        "mnist_5.summary()"
      ],
      "execution_count": 25,
      "outputs": [
        {
          "output_type": "stream",
          "text": [
            "Model: \"sequential_4\"\n",
            "_________________________________________________________________\n",
            "Layer (type)                 Output Shape              Param #   \n",
            "=================================================================\n",
            "dense_11 (Dense)             (None, 512)               401920    \n",
            "_________________________________________________________________\n",
            "batch_normalization (BatchNo (None, 512)               2048      \n",
            "_________________________________________________________________\n",
            "activation (Activation)      (None, 512)               0         \n",
            "_________________________________________________________________\n",
            "dense_12 (Dense)             (None, 256)               131328    \n",
            "_________________________________________________________________\n",
            "batch_normalization_1 (Batch (None, 256)               1024      \n",
            "_________________________________________________________________\n",
            "activation_1 (Activation)    (None, 256)               0         \n",
            "_________________________________________________________________\n",
            "dense_13 (Dense)             (None, 10)                2570      \n",
            "=================================================================\n",
            "Total params: 538,890\n",
            "Trainable params: 537,354\n",
            "Non-trainable params: 1,536\n",
            "_________________________________________________________________\n"
          ],
          "name": "stdout"
        }
      ]
    },
    {
      "cell_type": "markdown",
      "metadata": {
        "id": "6-LiCAD5tSQ2"
      },
      "source": [
        "(6) Case6: Batch Normalization & L2 Normalization"
      ]
    },
    {
      "cell_type": "code",
      "metadata": {
        "id": "AjPoW5Drtj8g"
      },
      "source": [
        "mnist_6 = models.Sequential()\n",
        "\n",
        "mnist_6.add(layers.Dense(512, input_shape = (28 * 28, ),\n",
        "                         kernel_regularizer = regularizers.l2(0.00001)))\n",
        "mnist_6.add(layers.BatchNormalization())\n",
        "mnist_6.add(layers.Activation('relu'))\n",
        "mnist_6.add(layers.Dense(256, kernel_regularizer= regularizers.l2(0.00001)))\n",
        "mnist_6.add(layers.BatchNormalization())\n",
        "mnist_6.add(layers.Activation('relu'))\n",
        "mnist_6.add(layers.Dense(10, activation = 'softmax'))"
      ],
      "execution_count": 35,
      "outputs": []
    },
    {
      "cell_type": "code",
      "metadata": {
        "colab": {
          "base_uri": "https://localhost:8080/"
        },
        "id": "c-BaicC-uv7f",
        "outputId": "fa7812ee-b276-457f-879f-ec09e7697973"
      },
      "source": [
        "mnist_6.summary()"
      ],
      "execution_count": 36,
      "outputs": [
        {
          "output_type": "stream",
          "text": [
            "Model: \"sequential_5\"\n",
            "_________________________________________________________________\n",
            "Layer (type)                 Output Shape              Param #   \n",
            "=================================================================\n",
            "dense_14 (Dense)             (None, 512)               401920    \n",
            "_________________________________________________________________\n",
            "batch_normalization_2 (Batch (None, 512)               2048      \n",
            "_________________________________________________________________\n",
            "activation_2 (Activation)    (None, 512)               0         \n",
            "_________________________________________________________________\n",
            "dense_15 (Dense)             (None, 256)               131328    \n",
            "_________________________________________________________________\n",
            "batch_normalization_3 (Batch (None, 256)               1024      \n",
            "_________________________________________________________________\n",
            "activation_3 (Activation)    (None, 256)               0         \n",
            "_________________________________________________________________\n",
            "dense_16 (Dense)             (None, 10)                2570      \n",
            "=================================================================\n",
            "Total params: 538,890\n",
            "Trainable params: 537,354\n",
            "Non-trainable params: 1,536\n",
            "_________________________________________________________________\n"
          ],
          "name": "stdout"
        }
      ]
    },
    {
      "cell_type": "markdown",
      "metadata": {
        "id": "-MPbYzIZtX6w"
      },
      "source": [
        "(7) Case7: Batch Normalization & L2 Regularization"
      ]
    },
    {
      "cell_type": "code",
      "metadata": {
        "id": "xeV-hFLmu8rJ"
      },
      "source": [
        "mnist_7 = models.Sequential()\n",
        "\n",
        "mnist_7.add(layers.Dense(512, input_shape = (28 * 28, )))\n",
        "mnist_7.add(layers.Dropout(0.5))\n",
        "mnist_7.add(layers.BatchNormalization())\n",
        "mnist_7.add(layers.Activation('relu'))\n",
        "mnist_7.add(layers.Dense(256))\n",
        "mnist_7.add(layers.Dropout(0.5))\n",
        "mnist_7.add(layers.BatchNormalization())\n",
        "mnist_7.add(layers.Activation('relu'))\n",
        "mnist_7.add(layers.Dense(10, activation = 'softmax'))"
      ],
      "execution_count": 42,
      "outputs": []
    },
    {
      "cell_type": "code",
      "metadata": {
        "colab": {
          "base_uri": "https://localhost:8080/"
        },
        "id": "wXMmTUE5wFGR",
        "outputId": "dee688d7-4a62-4e84-c99c-88cbe4955dda"
      },
      "source": [
        "mnist_7.summary()"
      ],
      "execution_count": 43,
      "outputs": [
        {
          "output_type": "stream",
          "text": [
            "Model: \"sequential_7\"\n",
            "_________________________________________________________________\n",
            "Layer (type)                 Output Shape              Param #   \n",
            "=================================================================\n",
            "dense_18 (Dense)             (None, 512)               401920    \n",
            "_________________________________________________________________\n",
            "dropout_3 (Dropout)          (None, 512)               0         \n",
            "_________________________________________________________________\n",
            "batch_normalization_4 (Batch (None, 512)               2048      \n",
            "_________________________________________________________________\n",
            "activation_4 (Activation)    (None, 512)               0         \n",
            "_________________________________________________________________\n",
            "dense_19 (Dense)             (None, 256)               131328    \n",
            "_________________________________________________________________\n",
            "dropout_4 (Dropout)          (None, 256)               0         \n",
            "_________________________________________________________________\n",
            "batch_normalization_5 (Batch (None, 256)               1024      \n",
            "_________________________________________________________________\n",
            "activation_5 (Activation)    (None, 256)               0         \n",
            "_________________________________________________________________\n",
            "dense_20 (Dense)             (None, 10)                2570      \n",
            "=================================================================\n",
            "Total params: 538,890\n",
            "Trainable params: 537,354\n",
            "Non-trainable params: 1,536\n",
            "_________________________________________________________________\n"
          ],
          "name": "stdout"
        }
      ]
    },
    {
      "cell_type": "markdown",
      "metadata": {
        "id": "SZMuSHDUtdPY"
      },
      "source": [
        "(8) Case8: Dropout & L2 Regularization"
      ]
    },
    {
      "cell_type": "code",
      "metadata": {
        "id": "IUuhjV_Ww_gS"
      },
      "source": [
        "mnist_8 = models.Sequential()\n",
        "\n",
        "mnist_8.add(layers.Dense(512, input_shape = (28 * 28, ),\n",
        "                         activation = 'relu' ,\n",
        "                         kernel_regularizer = regularizers.l2(0.00001)))\n",
        "mnist_8.add(layers.Dropout(0.5))\n",
        "mnist_8.add(layers.Dense(256, activation = 'relu' ,\n",
        "                         kernel_regularizer = regularizers.l2(0.00001)))\n",
        "mnist_8.add(layers.Dropout(0.5))\n",
        "mnist_8.add(layers.Dense(10, activation = 'softmax'))"
      ],
      "execution_count": 48,
      "outputs": []
    },
    {
      "cell_type": "code",
      "metadata": {
        "colab": {
          "base_uri": "https://localhost:8080/"
        },
        "id": "rjDYgcxWxlNm",
        "outputId": "2ba57ecb-eed1-498c-99f1-1711f18437cd"
      },
      "source": [
        "mnist_8.summary()"
      ],
      "execution_count": 49,
      "outputs": [
        {
          "output_type": "stream",
          "text": [
            "Model: \"sequential_8\"\n",
            "_________________________________________________________________\n",
            "Layer (type)                 Output Shape              Param #   \n",
            "=================================================================\n",
            "dense_21 (Dense)             (None, 512)               401920    \n",
            "_________________________________________________________________\n",
            "dropout_5 (Dropout)          (None, 512)               0         \n",
            "_________________________________________________________________\n",
            "dense_22 (Dense)             (None, 256)               131328    \n",
            "_________________________________________________________________\n",
            "dropout_6 (Dropout)          (None, 256)               0         \n",
            "_________________________________________________________________\n",
            "dense_23 (Dense)             (None, 10)                2570      \n",
            "=================================================================\n",
            "Total params: 535,818\n",
            "Trainable params: 535,818\n",
            "Non-trainable params: 0\n",
            "_________________________________________________________________\n"
          ],
          "name": "stdout"
        }
      ]
    },
    {
      "cell_type": "markdown",
      "metadata": {
        "id": "BOuw1xdC6AbS"
      },
      "source": [
        "### 2) Model Compile\n",
        "- 모델 학습방법 설정"
      ]
    },
    {
      "cell_type": "code",
      "metadata": {
        "id": "-Z8eDJsJ5-lE"
      },
      "source": [
        "mnist_1.compile(loss = 'categorical_crossentropy' ,\n",
        "              optimizer = 'rmsprop' ,\n",
        "              metrics = ['accuracy'])"
      ],
      "execution_count": 26,
      "outputs": []
    },
    {
      "cell_type": "code",
      "metadata": {
        "id": "4kbjKOKdJ9XO"
      },
      "source": [
        "mnist_2.compile(loss = 'categorical_crossentropy' ,\n",
        "              optimizer = 'rmsprop' ,\n",
        "              metrics = ['accuracy'])"
      ],
      "execution_count": 27,
      "outputs": []
    },
    {
      "cell_type": "code",
      "metadata": {
        "id": "UEnCoIc6J9nq"
      },
      "source": [
        "mnist_3.compile(loss = 'categorical_crossentropy' ,\n",
        "              optimizer = 'rmsprop' ,\n",
        "              metrics = ['accuracy'])"
      ],
      "execution_count": 28,
      "outputs": []
    },
    {
      "cell_type": "code",
      "metadata": {
        "id": "oRbS_oxnS4wq"
      },
      "source": [
        "mnist_4.compile(loss = 'categorical_crossentropy' ,\n",
        "              optimizer = 'rmsprop' ,\n",
        "              metrics = ['accuracy'])"
      ],
      "execution_count": 29,
      "outputs": []
    },
    {
      "cell_type": "code",
      "metadata": {
        "id": "LX0GL0OfsW9h"
      },
      "source": [
        "mnist_5.compile(loss = 'categorical_crossentropy' ,\n",
        "                optimizer = 'rmsprop' ,\n",
        "                metrics = ['accuracy'])"
      ],
      "execution_count": 30,
      "outputs": []
    },
    {
      "cell_type": "code",
      "metadata": {
        "id": "2go4d16Nu1IX"
      },
      "source": [
        "mnist_6.compile(loss = 'categorical_crossentropy' ,\n",
        "                optimizer = 'rmsprop' ,\n",
        "                metrics = ['accuracy'])"
      ],
      "execution_count": 37,
      "outputs": []
    },
    {
      "cell_type": "code",
      "metadata": {
        "id": "yVqNm07iwMA-"
      },
      "source": [
        "mnist_7.compile(loss = 'categorical_crossentropy' ,\n",
        "                optimizer = 'rmsprop' ,\n",
        "                metrics = ['accuracy'])"
      ],
      "execution_count": 44,
      "outputs": []
    },
    {
      "cell_type": "code",
      "metadata": {
        "id": "3LoD3reAxpKv"
      },
      "source": [
        "mnist_8.compile(loss = 'categorical_crossentropy' ,\n",
        "                optimizer = 'rmsprop' ,\n",
        "                metrics = ['accuracy'])"
      ],
      "execution_count": 50,
      "outputs": []
    },
    {
      "cell_type": "markdown",
      "metadata": {
        "id": "JvIIbQTl6Ujl"
      },
      "source": [
        "### 3) Model Fit"
      ]
    },
    {
      "cell_type": "code",
      "metadata": {
        "id": "MV1K-N7S6KE9"
      },
      "source": [
        "%%time\n",
        "\n",
        "Hist_mnist_1 = mnist_1.fit(X_train, y_train,\n",
        "                       epochs = 100,\n",
        "                       batch_size = 128,\n",
        "                       validation_split = 0.2) # 실제로 쓰지는 않을 것(지정해서 쓰는 것이 좋다)"
      ],
      "execution_count": null,
      "outputs": []
    },
    {
      "cell_type": "code",
      "metadata": {
        "id": "dpuS9JssKHye"
      },
      "source": [
        "Hist_mnist_2 = mnist_2.fit(X_train, y_train,\n",
        "                       epochs = 100,\n",
        "                       batch_size = 128,\n",
        "                       validation_split = 0.2)"
      ],
      "execution_count": null,
      "outputs": []
    },
    {
      "cell_type": "code",
      "metadata": {
        "id": "RqznFNwPKJx6"
      },
      "source": [
        "Hist_mnist_3 = mnist_3.fit(X_train, y_train,\n",
        "                       epochs = 100,\n",
        "                       batch_size = 128,\n",
        "                       validation_split = 0.2)"
      ],
      "execution_count": null,
      "outputs": []
    },
    {
      "cell_type": "code",
      "metadata": {
        "id": "QHb8JAR5S-M7"
      },
      "source": [
        "Hist_mnist_4 = mnist_4.fit(X_train, y_train,\n",
        "                       epochs = 100,\n",
        "                       batch_size = 128,\n",
        "                       validation_split = 0.2)"
      ],
      "execution_count": null,
      "outputs": []
    },
    {
      "cell_type": "code",
      "metadata": {
        "id": "lYn3v9uZsgBL"
      },
      "source": [
        "Hist_mnist_5 = mnist_5.fit(X_train, y_train,\n",
        "                       epochs = 100,\n",
        "                       batch_size = 128,\n",
        "                       validation_split = 0.2)"
      ],
      "execution_count": null,
      "outputs": []
    },
    {
      "cell_type": "code",
      "metadata": {
        "id": "xDrGBHjgu5hT"
      },
      "source": [
        "Hist_mnist_6 = mnist_6.fit(X_train, y_train,\n",
        "                       epochs = 100,\n",
        "                       batch_size = 128,\n",
        "                       validation_split = 0.2)"
      ],
      "execution_count": null,
      "outputs": []
    },
    {
      "cell_type": "code",
      "metadata": {
        "colab": {
          "base_uri": "https://localhost:8080/"
        },
        "id": "a_tY9cpFwNvv",
        "outputId": "74744d06-e83a-4882-b8e3-41ae3824d85f"
      },
      "source": [
        "Hist_mnist_7 = mnist_7.fit(X_train, y_train,\n",
        "                       epochs = 100,\n",
        "                       batch_size = 128,\n",
        "                       validation_split = 0.2)"
      ],
      "execution_count": 45,
      "outputs": [
        {
          "output_type": "stream",
          "text": [
            "Epoch 1/100\n",
            "375/375 [==============================] - 2s 4ms/step - loss: 0.6273 - accuracy: 0.8119 - val_loss: 0.1649 - val_accuracy: 0.9521\n",
            "Epoch 2/100\n",
            "375/375 [==============================] - 1s 4ms/step - loss: 0.2163 - accuracy: 0.9370 - val_loss: 0.1325 - val_accuracy: 0.9617\n",
            "Epoch 3/100\n",
            "375/375 [==============================] - 1s 4ms/step - loss: 0.1711 - accuracy: 0.9473 - val_loss: 0.1144 - val_accuracy: 0.9669\n",
            "Epoch 4/100\n",
            "375/375 [==============================] - 1s 4ms/step - loss: 0.1384 - accuracy: 0.9573 - val_loss: 0.1068 - val_accuracy: 0.9688\n",
            "Epoch 5/100\n",
            "375/375 [==============================] - 1s 4ms/step - loss: 0.1265 - accuracy: 0.9609 - val_loss: 0.0972 - val_accuracy: 0.9721\n",
            "Epoch 6/100\n",
            "375/375 [==============================] - 1s 4ms/step - loss: 0.1206 - accuracy: 0.9630 - val_loss: 0.0946 - val_accuracy: 0.9727\n",
            "Epoch 7/100\n",
            "375/375 [==============================] - 1s 4ms/step - loss: 0.1071 - accuracy: 0.9679 - val_loss: 0.0931 - val_accuracy: 0.9741\n",
            "Epoch 8/100\n",
            "375/375 [==============================] - 1s 4ms/step - loss: 0.0998 - accuracy: 0.9709 - val_loss: 0.0994 - val_accuracy: 0.9720\n",
            "Epoch 9/100\n",
            "375/375 [==============================] - 1s 4ms/step - loss: 0.0951 - accuracy: 0.9708 - val_loss: 0.0965 - val_accuracy: 0.9732\n",
            "Epoch 10/100\n",
            "375/375 [==============================] - 1s 4ms/step - loss: 0.0859 - accuracy: 0.9748 - val_loss: 0.0992 - val_accuracy: 0.9723\n",
            "Epoch 11/100\n",
            "375/375 [==============================] - 1s 4ms/step - loss: 0.0863 - accuracy: 0.9728 - val_loss: 0.0928 - val_accuracy: 0.9760\n",
            "Epoch 12/100\n",
            "375/375 [==============================] - 1s 4ms/step - loss: 0.0793 - accuracy: 0.9756 - val_loss: 0.0986 - val_accuracy: 0.9731\n",
            "Epoch 13/100\n",
            "375/375 [==============================] - 1s 4ms/step - loss: 0.0781 - accuracy: 0.9756 - val_loss: 0.0980 - val_accuracy: 0.9731\n",
            "Epoch 14/100\n",
            "375/375 [==============================] - 1s 4ms/step - loss: 0.0705 - accuracy: 0.9776 - val_loss: 0.0999 - val_accuracy: 0.9724\n",
            "Epoch 15/100\n",
            "375/375 [==============================] - 1s 4ms/step - loss: 0.0725 - accuracy: 0.9784 - val_loss: 0.1037 - val_accuracy: 0.9706\n",
            "Epoch 16/100\n",
            "375/375 [==============================] - 1s 4ms/step - loss: 0.0749 - accuracy: 0.9769 - val_loss: 0.1150 - val_accuracy: 0.9693\n",
            "Epoch 17/100\n",
            "375/375 [==============================] - 1s 4ms/step - loss: 0.0678 - accuracy: 0.9799 - val_loss: 0.1076 - val_accuracy: 0.9726\n",
            "Epoch 18/100\n",
            "375/375 [==============================] - 1s 4ms/step - loss: 0.0670 - accuracy: 0.9802 - val_loss: 0.1019 - val_accuracy: 0.9728\n",
            "Epoch 19/100\n",
            "375/375 [==============================] - 1s 4ms/step - loss: 0.0699 - accuracy: 0.9807 - val_loss: 0.1080 - val_accuracy: 0.9708\n",
            "Epoch 20/100\n",
            "375/375 [==============================] - 1s 4ms/step - loss: 0.0675 - accuracy: 0.9789 - val_loss: 0.1090 - val_accuracy: 0.9739\n",
            "Epoch 21/100\n",
            "375/375 [==============================] - 1s 4ms/step - loss: 0.0641 - accuracy: 0.9809 - val_loss: 0.1069 - val_accuracy: 0.9718\n",
            "Epoch 22/100\n",
            "375/375 [==============================] - 1s 4ms/step - loss: 0.0615 - accuracy: 0.9814 - val_loss: 0.1050 - val_accuracy: 0.9736\n",
            "Epoch 23/100\n",
            "375/375 [==============================] - 1s 4ms/step - loss: 0.0564 - accuracy: 0.9832 - val_loss: 0.1086 - val_accuracy: 0.9719\n",
            "Epoch 24/100\n",
            "375/375 [==============================] - 1s 4ms/step - loss: 0.0575 - accuracy: 0.9827 - val_loss: 0.1094 - val_accuracy: 0.9717\n",
            "Epoch 25/100\n",
            "375/375 [==============================] - 1s 4ms/step - loss: 0.0588 - accuracy: 0.9826 - val_loss: 0.1161 - val_accuracy: 0.9707\n",
            "Epoch 26/100\n",
            "375/375 [==============================] - 1s 4ms/step - loss: 0.0594 - accuracy: 0.9827 - val_loss: 0.1098 - val_accuracy: 0.9726\n",
            "Epoch 27/100\n",
            "375/375 [==============================] - 1s 4ms/step - loss: 0.0548 - accuracy: 0.9844 - val_loss: 0.1074 - val_accuracy: 0.9751\n",
            "Epoch 28/100\n",
            "375/375 [==============================] - 1s 4ms/step - loss: 0.0555 - accuracy: 0.9827 - val_loss: 0.1138 - val_accuracy: 0.9713\n",
            "Epoch 29/100\n",
            "375/375 [==============================] - 1s 4ms/step - loss: 0.0520 - accuracy: 0.9846 - val_loss: 0.1231 - val_accuracy: 0.9688\n",
            "Epoch 30/100\n",
            "375/375 [==============================] - 1s 4ms/step - loss: 0.0560 - accuracy: 0.9836 - val_loss: 0.1168 - val_accuracy: 0.9714\n",
            "Epoch 31/100\n",
            "375/375 [==============================] - 1s 4ms/step - loss: 0.0514 - accuracy: 0.9846 - val_loss: 0.1057 - val_accuracy: 0.9747\n",
            "Epoch 32/100\n",
            "375/375 [==============================] - 1s 4ms/step - loss: 0.0523 - accuracy: 0.9839 - val_loss: 0.1066 - val_accuracy: 0.9768\n",
            "Epoch 33/100\n",
            "375/375 [==============================] - 1s 4ms/step - loss: 0.0526 - accuracy: 0.9845 - val_loss: 0.1059 - val_accuracy: 0.9764\n",
            "Epoch 34/100\n",
            "375/375 [==============================] - 1s 4ms/step - loss: 0.0475 - accuracy: 0.9852 - val_loss: 0.1129 - val_accuracy: 0.9705\n",
            "Epoch 35/100\n",
            "375/375 [==============================] - 1s 4ms/step - loss: 0.0515 - accuracy: 0.9853 - val_loss: 0.1158 - val_accuracy: 0.9720\n",
            "Epoch 36/100\n",
            "375/375 [==============================] - 1s 4ms/step - loss: 0.0523 - accuracy: 0.9857 - val_loss: 0.1107 - val_accuracy: 0.9735\n",
            "Epoch 37/100\n",
            "375/375 [==============================] - 1s 4ms/step - loss: 0.0484 - accuracy: 0.9861 - val_loss: 0.1064 - val_accuracy: 0.9744\n",
            "Epoch 38/100\n",
            "375/375 [==============================] - 1s 4ms/step - loss: 0.0508 - accuracy: 0.9861 - val_loss: 0.1107 - val_accuracy: 0.9752\n",
            "Epoch 39/100\n",
            "375/375 [==============================] - 1s 4ms/step - loss: 0.0529 - accuracy: 0.9857 - val_loss: 0.1025 - val_accuracy: 0.9758\n",
            "Epoch 40/100\n",
            "375/375 [==============================] - 1s 4ms/step - loss: 0.0477 - accuracy: 0.9860 - val_loss: 0.0991 - val_accuracy: 0.9776\n",
            "Epoch 41/100\n",
            "375/375 [==============================] - 1s 4ms/step - loss: 0.0477 - accuracy: 0.9864 - val_loss: 0.1053 - val_accuracy: 0.9750\n",
            "Epoch 42/100\n",
            "375/375 [==============================] - 1s 4ms/step - loss: 0.0487 - accuracy: 0.9864 - val_loss: 0.0998 - val_accuracy: 0.9768\n",
            "Epoch 43/100\n",
            "375/375 [==============================] - 1s 4ms/step - loss: 0.0458 - accuracy: 0.9876 - val_loss: 0.1040 - val_accuracy: 0.9741\n",
            "Epoch 44/100\n",
            "375/375 [==============================] - 1s 4ms/step - loss: 0.0470 - accuracy: 0.9869 - val_loss: 0.1022 - val_accuracy: 0.9772\n",
            "Epoch 45/100\n",
            "375/375 [==============================] - 1s 4ms/step - loss: 0.0418 - accuracy: 0.9874 - val_loss: 0.1135 - val_accuracy: 0.9725\n",
            "Epoch 46/100\n",
            "375/375 [==============================] - 1s 4ms/step - loss: 0.0414 - accuracy: 0.9879 - val_loss: 0.1114 - val_accuracy: 0.9732\n",
            "Epoch 47/100\n",
            "375/375 [==============================] - 1s 4ms/step - loss: 0.0440 - accuracy: 0.9871 - val_loss: 0.1148 - val_accuracy: 0.9721\n",
            "Epoch 48/100\n",
            "375/375 [==============================] - 1s 4ms/step - loss: 0.0475 - accuracy: 0.9877 - val_loss: 0.1125 - val_accuracy: 0.9732\n",
            "Epoch 49/100\n",
            "375/375 [==============================] - 1s 4ms/step - loss: 0.0468 - accuracy: 0.9877 - val_loss: 0.1066 - val_accuracy: 0.9744\n",
            "Epoch 50/100\n",
            "375/375 [==============================] - 1s 4ms/step - loss: 0.0437 - accuracy: 0.9873 - val_loss: 0.1119 - val_accuracy: 0.9737\n",
            "Epoch 51/100\n",
            "375/375 [==============================] - 1s 4ms/step - loss: 0.0449 - accuracy: 0.9872 - val_loss: 0.1078 - val_accuracy: 0.9760\n",
            "Epoch 52/100\n",
            "375/375 [==============================] - 1s 4ms/step - loss: 0.0422 - accuracy: 0.9880 - val_loss: 0.1091 - val_accuracy: 0.9749\n",
            "Epoch 53/100\n",
            "375/375 [==============================] - 1s 4ms/step - loss: 0.0392 - accuracy: 0.9883 - val_loss: 0.1065 - val_accuracy: 0.9756\n",
            "Epoch 54/100\n",
            "375/375 [==============================] - 1s 4ms/step - loss: 0.0437 - accuracy: 0.9882 - val_loss: 0.1105 - val_accuracy: 0.9745\n",
            "Epoch 55/100\n",
            "375/375 [==============================] - 1s 4ms/step - loss: 0.0407 - accuracy: 0.9883 - val_loss: 0.1130 - val_accuracy: 0.9722\n",
            "Epoch 56/100\n",
            "375/375 [==============================] - 1s 4ms/step - loss: 0.0379 - accuracy: 0.9888 - val_loss: 0.1140 - val_accuracy: 0.9733\n",
            "Epoch 57/100\n",
            "375/375 [==============================] - 1s 4ms/step - loss: 0.0392 - accuracy: 0.9886 - val_loss: 0.1190 - val_accuracy: 0.9718\n",
            "Epoch 58/100\n",
            "375/375 [==============================] - 1s 4ms/step - loss: 0.0390 - accuracy: 0.9890 - val_loss: 0.1090 - val_accuracy: 0.9743\n",
            "Epoch 59/100\n",
            "375/375 [==============================] - 1s 4ms/step - loss: 0.0353 - accuracy: 0.9896 - val_loss: 0.1128 - val_accuracy: 0.9743\n",
            "Epoch 60/100\n",
            "375/375 [==============================] - 1s 4ms/step - loss: 0.0405 - accuracy: 0.9886 - val_loss: 0.1103 - val_accuracy: 0.9729\n",
            "Epoch 61/100\n",
            "375/375 [==============================] - 1s 4ms/step - loss: 0.0370 - accuracy: 0.9900 - val_loss: 0.1181 - val_accuracy: 0.9722\n",
            "Epoch 62/100\n",
            "375/375 [==============================] - 1s 4ms/step - loss: 0.0335 - accuracy: 0.9901 - val_loss: 0.1120 - val_accuracy: 0.9729\n",
            "Epoch 63/100\n",
            "375/375 [==============================] - 1s 4ms/step - loss: 0.0391 - accuracy: 0.9892 - val_loss: 0.1201 - val_accuracy: 0.9715\n",
            "Epoch 64/100\n",
            "375/375 [==============================] - 1s 4ms/step - loss: 0.0364 - accuracy: 0.9891 - val_loss: 0.1237 - val_accuracy: 0.9709\n",
            "Epoch 65/100\n",
            "375/375 [==============================] - 1s 4ms/step - loss: 0.0383 - accuracy: 0.9887 - val_loss: 0.1220 - val_accuracy: 0.9701\n",
            "Epoch 66/100\n",
            "375/375 [==============================] - 1s 4ms/step - loss: 0.0338 - accuracy: 0.9897 - val_loss: 0.1217 - val_accuracy: 0.9726\n",
            "Epoch 67/100\n",
            "375/375 [==============================] - 1s 4ms/step - loss: 0.0392 - accuracy: 0.9894 - val_loss: 0.1224 - val_accuracy: 0.9721\n",
            "Epoch 68/100\n",
            "375/375 [==============================] - 1s 4ms/step - loss: 0.0411 - accuracy: 0.9896 - val_loss: 0.1185 - val_accuracy: 0.9722\n",
            "Epoch 69/100\n",
            "375/375 [==============================] - 1s 4ms/step - loss: 0.0383 - accuracy: 0.9888 - val_loss: 0.1176 - val_accuracy: 0.9710\n",
            "Epoch 70/100\n",
            "375/375 [==============================] - 1s 4ms/step - loss: 0.0417 - accuracy: 0.9899 - val_loss: 0.1123 - val_accuracy: 0.9736\n",
            "Epoch 71/100\n",
            "375/375 [==============================] - 1s 4ms/step - loss: 0.0370 - accuracy: 0.9897 - val_loss: 0.1122 - val_accuracy: 0.9718\n",
            "Epoch 72/100\n",
            "375/375 [==============================] - 1s 4ms/step - loss: 0.0388 - accuracy: 0.9883 - val_loss: 0.1202 - val_accuracy: 0.9719\n",
            "Epoch 73/100\n",
            "375/375 [==============================] - 1s 4ms/step - loss: 0.0330 - accuracy: 0.9901 - val_loss: 0.1175 - val_accuracy: 0.9722\n",
            "Epoch 74/100\n",
            "375/375 [==============================] - 1s 4ms/step - loss: 0.0337 - accuracy: 0.9902 - val_loss: 0.1160 - val_accuracy: 0.9705\n",
            "Epoch 75/100\n",
            "375/375 [==============================] - 1s 4ms/step - loss: 0.0366 - accuracy: 0.9901 - val_loss: 0.1132 - val_accuracy: 0.9727\n",
            "Epoch 76/100\n",
            "375/375 [==============================] - 1s 4ms/step - loss: 0.0324 - accuracy: 0.9908 - val_loss: 0.1145 - val_accuracy: 0.9736\n",
            "Epoch 77/100\n",
            "375/375 [==============================] - 1s 4ms/step - loss: 0.0348 - accuracy: 0.9898 - val_loss: 0.1186 - val_accuracy: 0.9724\n",
            "Epoch 78/100\n",
            "375/375 [==============================] - 1s 4ms/step - loss: 0.0375 - accuracy: 0.9892 - val_loss: 0.1155 - val_accuracy: 0.9745\n",
            "Epoch 79/100\n",
            "375/375 [==============================] - 1s 4ms/step - loss: 0.0340 - accuracy: 0.9911 - val_loss: 0.1122 - val_accuracy: 0.9758\n",
            "Epoch 80/100\n",
            "375/375 [==============================] - 1s 4ms/step - loss: 0.0355 - accuracy: 0.9900 - val_loss: 0.1229 - val_accuracy: 0.9709\n",
            "Epoch 81/100\n",
            "375/375 [==============================] - 1s 4ms/step - loss: 0.0331 - accuracy: 0.9910 - val_loss: 0.1186 - val_accuracy: 0.9712\n",
            "Epoch 82/100\n",
            "375/375 [==============================] - 1s 4ms/step - loss: 0.0341 - accuracy: 0.9906 - val_loss: 0.1204 - val_accuracy: 0.9703\n",
            "Epoch 83/100\n",
            "375/375 [==============================] - 1s 4ms/step - loss: 0.0365 - accuracy: 0.9898 - val_loss: 0.1203 - val_accuracy: 0.9732\n",
            "Epoch 84/100\n",
            "375/375 [==============================] - 1s 4ms/step - loss: 0.0343 - accuracy: 0.9911 - val_loss: 0.1175 - val_accuracy: 0.9726\n",
            "Epoch 85/100\n",
            "375/375 [==============================] - 1s 4ms/step - loss: 0.0351 - accuracy: 0.9905 - val_loss: 0.1330 - val_accuracy: 0.9688\n",
            "Epoch 86/100\n",
            "375/375 [==============================] - 1s 4ms/step - loss: 0.0293 - accuracy: 0.9926 - val_loss: 0.1233 - val_accuracy: 0.9698\n",
            "Epoch 87/100\n",
            "375/375 [==============================] - 1s 4ms/step - loss: 0.0341 - accuracy: 0.9910 - val_loss: 0.1500 - val_accuracy: 0.9649\n",
            "Epoch 88/100\n",
            "375/375 [==============================] - 1s 4ms/step - loss: 0.0309 - accuracy: 0.9908 - val_loss: 0.1211 - val_accuracy: 0.9720\n",
            "Epoch 89/100\n",
            "375/375 [==============================] - 1s 4ms/step - loss: 0.0351 - accuracy: 0.9905 - val_loss: 0.1244 - val_accuracy: 0.9729\n",
            "Epoch 90/100\n",
            "375/375 [==============================] - 1s 4ms/step - loss: 0.0354 - accuracy: 0.9905 - val_loss: 0.1321 - val_accuracy: 0.9693\n",
            "Epoch 91/100\n",
            "375/375 [==============================] - 1s 4ms/step - loss: 0.0301 - accuracy: 0.9920 - val_loss: 0.1317 - val_accuracy: 0.9689\n",
            "Epoch 92/100\n",
            "375/375 [==============================] - 1s 4ms/step - loss: 0.0367 - accuracy: 0.9905 - val_loss: 0.1300 - val_accuracy: 0.9687\n",
            "Epoch 93/100\n",
            "375/375 [==============================] - 1s 4ms/step - loss: 0.0365 - accuracy: 0.9897 - val_loss: 0.1210 - val_accuracy: 0.9722\n",
            "Epoch 94/100\n",
            "375/375 [==============================] - 1s 4ms/step - loss: 0.0363 - accuracy: 0.9908 - val_loss: 0.1254 - val_accuracy: 0.9715\n",
            "Epoch 95/100\n",
            "375/375 [==============================] - 1s 4ms/step - loss: 0.0316 - accuracy: 0.9914 - val_loss: 0.1222 - val_accuracy: 0.9743\n",
            "Epoch 96/100\n",
            "375/375 [==============================] - 1s 4ms/step - loss: 0.0357 - accuracy: 0.9902 - val_loss: 0.1332 - val_accuracy: 0.9697\n",
            "Epoch 97/100\n",
            "375/375 [==============================] - 2s 4ms/step - loss: 0.0309 - accuracy: 0.9907 - val_loss: 0.1287 - val_accuracy: 0.9709\n",
            "Epoch 98/100\n",
            "375/375 [==============================] - 1s 4ms/step - loss: 0.0340 - accuracy: 0.9911 - val_loss: 0.1292 - val_accuracy: 0.9718\n",
            "Epoch 99/100\n",
            "375/375 [==============================] - 1s 4ms/step - loss: 0.0304 - accuracy: 0.9914 - val_loss: 0.1296 - val_accuracy: 0.9703\n",
            "Epoch 100/100\n",
            "375/375 [==============================] - 1s 4ms/step - loss: 0.0346 - accuracy: 0.9910 - val_loss: 0.1307 - val_accuracy: 0.9688\n"
          ],
          "name": "stdout"
        }
      ]
    },
    {
      "cell_type": "code",
      "metadata": {
        "colab": {
          "base_uri": "https://localhost:8080/"
        },
        "id": "ckKF6jFCxsZ_",
        "outputId": "7a03d9f8-2c86-4577-f335-c7dbeb52006c"
      },
      "source": [
        "Hist_mnist_8 = mnist_8.fit(X_train, y_train,\n",
        "                       epochs = 100,\n",
        "                       batch_size = 128,\n",
        "                       validation_split = 0.2)"
      ],
      "execution_count": 51,
      "outputs": [
        {
          "output_type": "stream",
          "text": [
            "Epoch 1/100\n",
            "375/375 [==============================] - 2s 3ms/step - loss: 0.6758 - accuracy: 0.7876 - val_loss: 0.1563 - val_accuracy: 0.9563\n",
            "Epoch 2/100\n",
            "375/375 [==============================] - 1s 3ms/step - loss: 0.2154 - accuracy: 0.9381 - val_loss: 0.1244 - val_accuracy: 0.9658\n",
            "Epoch 3/100\n",
            "375/375 [==============================] - 1s 3ms/step - loss: 0.1573 - accuracy: 0.9570 - val_loss: 0.1119 - val_accuracy: 0.9717\n",
            "Epoch 4/100\n",
            "375/375 [==============================] - 1s 3ms/step - loss: 0.1416 - accuracy: 0.9624 - val_loss: 0.1027 - val_accuracy: 0.9747\n",
            "Epoch 5/100\n",
            "375/375 [==============================] - 1s 3ms/step - loss: 0.1329 - accuracy: 0.9642 - val_loss: 0.1061 - val_accuracy: 0.9730\n",
            "Epoch 6/100\n",
            "375/375 [==============================] - 1s 3ms/step - loss: 0.1230 - accuracy: 0.9676 - val_loss: 0.1105 - val_accuracy: 0.9746\n",
            "Epoch 7/100\n",
            "375/375 [==============================] - 1s 3ms/step - loss: 0.1152 - accuracy: 0.9703 - val_loss: 0.1014 - val_accuracy: 0.9758\n",
            "Epoch 8/100\n",
            "375/375 [==============================] - 1s 3ms/step - loss: 0.1081 - accuracy: 0.9723 - val_loss: 0.1044 - val_accuracy: 0.9762\n",
            "Epoch 9/100\n",
            "375/375 [==============================] - 1s 3ms/step - loss: 0.1068 - accuracy: 0.9725 - val_loss: 0.1053 - val_accuracy: 0.9768\n",
            "Epoch 10/100\n",
            "375/375 [==============================] - 1s 3ms/step - loss: 0.1037 - accuracy: 0.9733 - val_loss: 0.1009 - val_accuracy: 0.9773\n",
            "Epoch 11/100\n",
            "375/375 [==============================] - 1s 3ms/step - loss: 0.0959 - accuracy: 0.9760 - val_loss: 0.1002 - val_accuracy: 0.9784\n",
            "Epoch 12/100\n",
            "375/375 [==============================] - 1s 3ms/step - loss: 0.0967 - accuracy: 0.9757 - val_loss: 0.1057 - val_accuracy: 0.9781\n",
            "Epoch 13/100\n",
            "375/375 [==============================] - 1s 3ms/step - loss: 0.0921 - accuracy: 0.9766 - val_loss: 0.1021 - val_accuracy: 0.9792\n",
            "Epoch 14/100\n",
            "375/375 [==============================] - 1s 3ms/step - loss: 0.0938 - accuracy: 0.9775 - val_loss: 0.1136 - val_accuracy: 0.9786\n",
            "Epoch 15/100\n",
            "375/375 [==============================] - 1s 3ms/step - loss: 0.0872 - accuracy: 0.9785 - val_loss: 0.1148 - val_accuracy: 0.9772\n",
            "Epoch 16/100\n",
            "375/375 [==============================] - 1s 3ms/step - loss: 0.0899 - accuracy: 0.9790 - val_loss: 0.1105 - val_accuracy: 0.9778\n",
            "Epoch 17/100\n",
            "375/375 [==============================] - 1s 3ms/step - loss: 0.0877 - accuracy: 0.9797 - val_loss: 0.1046 - val_accuracy: 0.9797\n",
            "Epoch 18/100\n",
            "375/375 [==============================] - 1s 3ms/step - loss: 0.0926 - accuracy: 0.9766 - val_loss: 0.1096 - val_accuracy: 0.9794\n",
            "Epoch 19/100\n",
            "375/375 [==============================] - 1s 3ms/step - loss: 0.0953 - accuracy: 0.9782 - val_loss: 0.1105 - val_accuracy: 0.9796\n",
            "Epoch 20/100\n",
            "375/375 [==============================] - 1s 3ms/step - loss: 0.0878 - accuracy: 0.9787 - val_loss: 0.1049 - val_accuracy: 0.9797\n",
            "Epoch 21/100\n",
            "375/375 [==============================] - 1s 3ms/step - loss: 0.0869 - accuracy: 0.9790 - val_loss: 0.1063 - val_accuracy: 0.9797\n",
            "Epoch 22/100\n",
            "375/375 [==============================] - 1s 3ms/step - loss: 0.0857 - accuracy: 0.9807 - val_loss: 0.1122 - val_accuracy: 0.9788\n",
            "Epoch 23/100\n",
            "375/375 [==============================] - 1s 3ms/step - loss: 0.0875 - accuracy: 0.9786 - val_loss: 0.1136 - val_accuracy: 0.9796\n",
            "Epoch 24/100\n",
            "375/375 [==============================] - 1s 3ms/step - loss: 0.0845 - accuracy: 0.9800 - val_loss: 0.1099 - val_accuracy: 0.9794\n",
            "Epoch 25/100\n",
            "375/375 [==============================] - 1s 3ms/step - loss: 0.0840 - accuracy: 0.9811 - val_loss: 0.1082 - val_accuracy: 0.9796\n",
            "Epoch 26/100\n",
            "375/375 [==============================] - 1s 3ms/step - loss: 0.0925 - accuracy: 0.9793 - val_loss: 0.1097 - val_accuracy: 0.9793\n",
            "Epoch 27/100\n",
            "375/375 [==============================] - 1s 3ms/step - loss: 0.0871 - accuracy: 0.9799 - val_loss: 0.1145 - val_accuracy: 0.9802\n",
            "Epoch 28/100\n",
            "375/375 [==============================] - 1s 3ms/step - loss: 0.0887 - accuracy: 0.9793 - val_loss: 0.1270 - val_accuracy: 0.9772\n",
            "Epoch 29/100\n",
            "375/375 [==============================] - 1s 3ms/step - loss: 0.0810 - accuracy: 0.9811 - val_loss: 0.1142 - val_accuracy: 0.9799\n",
            "Epoch 30/100\n",
            "375/375 [==============================] - 1s 3ms/step - loss: 0.0846 - accuracy: 0.9813 - val_loss: 0.1095 - val_accuracy: 0.9797\n",
            "Epoch 31/100\n",
            "375/375 [==============================] - 1s 3ms/step - loss: 0.0805 - accuracy: 0.9822 - val_loss: 0.1150 - val_accuracy: 0.9797\n",
            "Epoch 32/100\n",
            "375/375 [==============================] - 1s 3ms/step - loss: 0.0784 - accuracy: 0.9808 - val_loss: 0.1169 - val_accuracy: 0.9800\n",
            "Epoch 33/100\n",
            "375/375 [==============================] - 1s 3ms/step - loss: 0.0886 - accuracy: 0.9795 - val_loss: 0.1162 - val_accuracy: 0.9796\n",
            "Epoch 34/100\n",
            "375/375 [==============================] - 1s 3ms/step - loss: 0.0821 - accuracy: 0.9814 - val_loss: 0.1200 - val_accuracy: 0.9792\n",
            "Epoch 35/100\n",
            "375/375 [==============================] - 1s 3ms/step - loss: 0.0803 - accuracy: 0.9813 - val_loss: 0.1174 - val_accuracy: 0.9801\n",
            "Epoch 36/100\n",
            "375/375 [==============================] - 1s 3ms/step - loss: 0.0825 - accuracy: 0.9818 - val_loss: 0.1159 - val_accuracy: 0.9797\n",
            "Epoch 37/100\n",
            "375/375 [==============================] - 1s 3ms/step - loss: 0.0807 - accuracy: 0.9814 - val_loss: 0.1235 - val_accuracy: 0.9797\n",
            "Epoch 38/100\n",
            "375/375 [==============================] - 1s 3ms/step - loss: 0.0809 - accuracy: 0.9816 - val_loss: 0.1094 - val_accuracy: 0.9807\n",
            "Epoch 39/100\n",
            "375/375 [==============================] - 1s 3ms/step - loss: 0.0872 - accuracy: 0.9805 - val_loss: 0.1178 - val_accuracy: 0.9807\n",
            "Epoch 40/100\n",
            "375/375 [==============================] - 1s 3ms/step - loss: 0.0824 - accuracy: 0.9813 - val_loss: 0.1162 - val_accuracy: 0.9808\n",
            "Epoch 41/100\n",
            "375/375 [==============================] - 1s 3ms/step - loss: 0.0760 - accuracy: 0.9824 - val_loss: 0.1211 - val_accuracy: 0.9801\n",
            "Epoch 42/100\n",
            "375/375 [==============================] - 1s 3ms/step - loss: 0.0795 - accuracy: 0.9822 - val_loss: 0.1166 - val_accuracy: 0.9801\n",
            "Epoch 43/100\n",
            "375/375 [==============================] - 1s 3ms/step - loss: 0.0771 - accuracy: 0.9829 - val_loss: 0.1221 - val_accuracy: 0.9801\n",
            "Epoch 44/100\n",
            "375/375 [==============================] - 1s 3ms/step - loss: 0.0816 - accuracy: 0.9822 - val_loss: 0.1157 - val_accuracy: 0.9801\n",
            "Epoch 45/100\n",
            "375/375 [==============================] - 1s 3ms/step - loss: 0.0802 - accuracy: 0.9825 - val_loss: 0.1169 - val_accuracy: 0.9788\n",
            "Epoch 46/100\n",
            "375/375 [==============================] - 1s 3ms/step - loss: 0.0806 - accuracy: 0.9816 - val_loss: 0.1218 - val_accuracy: 0.9801\n",
            "Epoch 47/100\n",
            "375/375 [==============================] - 1s 3ms/step - loss: 0.0908 - accuracy: 0.9810 - val_loss: 0.1271 - val_accuracy: 0.9790\n",
            "Epoch 48/100\n",
            "375/375 [==============================] - 1s 3ms/step - loss: 0.0799 - accuracy: 0.9820 - val_loss: 0.1140 - val_accuracy: 0.9797\n",
            "Epoch 49/100\n",
            "375/375 [==============================] - 1s 3ms/step - loss: 0.0790 - accuracy: 0.9830 - val_loss: 0.1235 - val_accuracy: 0.9806\n",
            "Epoch 50/100\n",
            "375/375 [==============================] - 1s 3ms/step - loss: 0.0785 - accuracy: 0.9826 - val_loss: 0.1217 - val_accuracy: 0.9798\n",
            "Epoch 51/100\n",
            "375/375 [==============================] - 1s 3ms/step - loss: 0.0814 - accuracy: 0.9819 - val_loss: 0.1206 - val_accuracy: 0.9804\n",
            "Epoch 52/100\n",
            "375/375 [==============================] - 1s 3ms/step - loss: 0.0807 - accuracy: 0.9822 - val_loss: 0.1224 - val_accuracy: 0.9808\n",
            "Epoch 53/100\n",
            "375/375 [==============================] - 1s 3ms/step - loss: 0.0833 - accuracy: 0.9826 - val_loss: 0.1206 - val_accuracy: 0.9812\n",
            "Epoch 54/100\n",
            "375/375 [==============================] - 1s 3ms/step - loss: 0.0790 - accuracy: 0.9830 - val_loss: 0.1341 - val_accuracy: 0.9792\n",
            "Epoch 55/100\n",
            "375/375 [==============================] - 1s 3ms/step - loss: 0.0824 - accuracy: 0.9821 - val_loss: 0.1326 - val_accuracy: 0.9801\n",
            "Epoch 56/100\n",
            "375/375 [==============================] - 1s 3ms/step - loss: 0.0837 - accuracy: 0.9824 - val_loss: 0.1252 - val_accuracy: 0.9800\n",
            "Epoch 57/100\n",
            "375/375 [==============================] - 1s 3ms/step - loss: 0.0796 - accuracy: 0.9834 - val_loss: 0.1211 - val_accuracy: 0.9818\n",
            "Epoch 58/100\n",
            "375/375 [==============================] - 1s 3ms/step - loss: 0.0794 - accuracy: 0.9826 - val_loss: 0.1320 - val_accuracy: 0.9803\n",
            "Epoch 59/100\n",
            "375/375 [==============================] - 1s 3ms/step - loss: 0.0810 - accuracy: 0.9821 - val_loss: 0.1118 - val_accuracy: 0.9805\n",
            "Epoch 60/100\n",
            "375/375 [==============================] - 1s 3ms/step - loss: 0.0775 - accuracy: 0.9829 - val_loss: 0.1209 - val_accuracy: 0.9803\n",
            "Epoch 61/100\n",
            "375/375 [==============================] - 1s 3ms/step - loss: 0.0753 - accuracy: 0.9839 - val_loss: 0.1193 - val_accuracy: 0.9807\n",
            "Epoch 62/100\n",
            "375/375 [==============================] - 1s 3ms/step - loss: 0.0780 - accuracy: 0.9834 - val_loss: 0.1287 - val_accuracy: 0.9800\n",
            "Epoch 63/100\n",
            "375/375 [==============================] - 1s 3ms/step - loss: 0.0777 - accuracy: 0.9837 - val_loss: 0.1225 - val_accuracy: 0.9806\n",
            "Epoch 64/100\n",
            "375/375 [==============================] - 1s 3ms/step - loss: 0.0799 - accuracy: 0.9824 - val_loss: 0.1139 - val_accuracy: 0.9816\n",
            "Epoch 65/100\n",
            "375/375 [==============================] - 1s 3ms/step - loss: 0.0865 - accuracy: 0.9815 - val_loss: 0.1282 - val_accuracy: 0.9812\n",
            "Epoch 66/100\n",
            "375/375 [==============================] - 1s 3ms/step - loss: 0.0829 - accuracy: 0.9827 - val_loss: 0.1227 - val_accuracy: 0.9807\n",
            "Epoch 67/100\n",
            "375/375 [==============================] - 1s 3ms/step - loss: 0.0795 - accuracy: 0.9818 - val_loss: 0.1257 - val_accuracy: 0.9793\n",
            "Epoch 68/100\n",
            "375/375 [==============================] - 1s 3ms/step - loss: 0.0765 - accuracy: 0.9845 - val_loss: 0.1314 - val_accuracy: 0.9809\n",
            "Epoch 69/100\n",
            "375/375 [==============================] - 1s 3ms/step - loss: 0.0843 - accuracy: 0.9823 - val_loss: 0.1256 - val_accuracy: 0.9807\n",
            "Epoch 70/100\n",
            "375/375 [==============================] - 1s 3ms/step - loss: 0.0798 - accuracy: 0.9829 - val_loss: 0.1194 - val_accuracy: 0.9802\n",
            "Epoch 71/100\n",
            "375/375 [==============================] - 1s 3ms/step - loss: 0.0819 - accuracy: 0.9830 - val_loss: 0.1325 - val_accuracy: 0.9783\n",
            "Epoch 72/100\n",
            "375/375 [==============================] - 1s 3ms/step - loss: 0.0799 - accuracy: 0.9836 - val_loss: 0.1303 - val_accuracy: 0.9804\n",
            "Epoch 73/100\n",
            "375/375 [==============================] - 1s 3ms/step - loss: 0.0795 - accuracy: 0.9834 - val_loss: 0.1191 - val_accuracy: 0.9813\n",
            "Epoch 74/100\n",
            "375/375 [==============================] - 1s 3ms/step - loss: 0.0817 - accuracy: 0.9827 - val_loss: 0.1299 - val_accuracy: 0.9803\n",
            "Epoch 75/100\n",
            "375/375 [==============================] - 1s 3ms/step - loss: 0.0782 - accuracy: 0.9836 - val_loss: 0.1195 - val_accuracy: 0.9807\n",
            "Epoch 76/100\n",
            "375/375 [==============================] - 1s 3ms/step - loss: 0.0797 - accuracy: 0.9839 - val_loss: 0.1308 - val_accuracy: 0.9821\n",
            "Epoch 77/100\n",
            "375/375 [==============================] - 1s 3ms/step - loss: 0.0754 - accuracy: 0.9846 - val_loss: 0.1225 - val_accuracy: 0.9810\n",
            "Epoch 78/100\n",
            "375/375 [==============================] - 1s 3ms/step - loss: 0.0795 - accuracy: 0.9823 - val_loss: 0.1261 - val_accuracy: 0.9804\n",
            "Epoch 79/100\n",
            "375/375 [==============================] - 1s 3ms/step - loss: 0.0803 - accuracy: 0.9834 - val_loss: 0.1235 - val_accuracy: 0.9797\n",
            "Epoch 80/100\n",
            "375/375 [==============================] - 1s 3ms/step - loss: 0.0776 - accuracy: 0.9831 - val_loss: 0.1326 - val_accuracy: 0.9813\n",
            "Epoch 81/100\n",
            "375/375 [==============================] - 1s 3ms/step - loss: 0.0783 - accuracy: 0.9835 - val_loss: 0.1227 - val_accuracy: 0.9803\n",
            "Epoch 82/100\n",
            "375/375 [==============================] - 1s 3ms/step - loss: 0.0777 - accuracy: 0.9834 - val_loss: 0.1267 - val_accuracy: 0.9808\n",
            "Epoch 83/100\n",
            "375/375 [==============================] - 1s 3ms/step - loss: 0.0776 - accuracy: 0.9843 - val_loss: 0.1398 - val_accuracy: 0.9792\n",
            "Epoch 84/100\n",
            "375/375 [==============================] - 1s 3ms/step - loss: 0.0774 - accuracy: 0.9838 - val_loss: 0.1272 - val_accuracy: 0.9809\n",
            "Epoch 85/100\n",
            "375/375 [==============================] - 1s 3ms/step - loss: 0.0837 - accuracy: 0.9823 - val_loss: 0.1293 - val_accuracy: 0.9805\n",
            "Epoch 86/100\n",
            "375/375 [==============================] - 1s 3ms/step - loss: 0.0797 - accuracy: 0.9837 - val_loss: 0.1312 - val_accuracy: 0.9793\n",
            "Epoch 87/100\n",
            "375/375 [==============================] - 1s 3ms/step - loss: 0.0811 - accuracy: 0.9825 - val_loss: 0.1307 - val_accuracy: 0.9799\n",
            "Epoch 88/100\n",
            "375/375 [==============================] - 1s 3ms/step - loss: 0.0777 - accuracy: 0.9840 - val_loss: 0.1306 - val_accuracy: 0.9810\n",
            "Epoch 89/100\n",
            "375/375 [==============================] - 1s 3ms/step - loss: 0.0839 - accuracy: 0.9831 - val_loss: 0.1330 - val_accuracy: 0.9812\n",
            "Epoch 90/100\n",
            "375/375 [==============================] - 1s 3ms/step - loss: 0.0829 - accuracy: 0.9833 - val_loss: 0.1234 - val_accuracy: 0.9823\n",
            "Epoch 91/100\n",
            "375/375 [==============================] - 1s 3ms/step - loss: 0.0767 - accuracy: 0.9840 - val_loss: 0.1324 - val_accuracy: 0.9810\n",
            "Epoch 92/100\n",
            "375/375 [==============================] - 1s 3ms/step - loss: 0.0873 - accuracy: 0.9835 - val_loss: 0.1545 - val_accuracy: 0.9784\n",
            "Epoch 93/100\n",
            "375/375 [==============================] - 1s 3ms/step - loss: 0.0827 - accuracy: 0.9821 - val_loss: 0.1352 - val_accuracy: 0.9801\n",
            "Epoch 94/100\n",
            "375/375 [==============================] - 1s 3ms/step - loss: 0.0767 - accuracy: 0.9838 - val_loss: 0.1282 - val_accuracy: 0.9812\n",
            "Epoch 95/100\n",
            "375/375 [==============================] - 1s 3ms/step - loss: 0.0826 - accuracy: 0.9840 - val_loss: 0.1263 - val_accuracy: 0.9799\n",
            "Epoch 96/100\n",
            "375/375 [==============================] - 1s 3ms/step - loss: 0.0869 - accuracy: 0.9830 - val_loss: 0.1275 - val_accuracy: 0.9810\n",
            "Epoch 97/100\n",
            "375/375 [==============================] - 1s 3ms/step - loss: 0.0812 - accuracy: 0.9837 - val_loss: 0.1281 - val_accuracy: 0.9799\n",
            "Epoch 98/100\n",
            "375/375 [==============================] - 1s 3ms/step - loss: 0.0859 - accuracy: 0.9820 - val_loss: 0.1313 - val_accuracy: 0.9803\n",
            "Epoch 99/100\n",
            "375/375 [==============================] - 1s 3ms/step - loss: 0.0790 - accuracy: 0.9833 - val_loss: 0.1372 - val_accuracy: 0.9793\n",
            "Epoch 100/100\n",
            "375/375 [==============================] - 1s 3ms/step - loss: 0.0786 - accuracy: 0.9836 - val_loss: 0.1384 - val_accuracy: 0.9803\n"
          ],
          "name": "stdout"
        }
      ]
    },
    {
      "cell_type": "markdown",
      "metadata": {
        "id": "e2UGNczm6pE9"
      },
      "source": [
        "### 4) 학습결과 시각화\n",
        "- Loss Visualization"
      ]
    },
    {
      "cell_type": "code",
      "metadata": {
        "colab": {
          "base_uri": "https://localhost:8080/",
          "height": 835
        },
        "id": "ZuPByuyK6nfE",
        "outputId": "a3fbc32e-1701-4204-a07b-43dfab85bae9"
      },
      "source": [
        "\n",
        "\n",
        "\n",
        "epochs = range(1, len(Hist_mnist_1.history['loss']) + 1)\n",
        "\n",
        "plt.figure(figsize = (20, 15))\n",
        "\n",
        "plt.subplot(2, 2, 1)\n",
        "plt.plot(epochs, Hist_mnist_1.history['loss'])\n",
        "plt.plot(epochs, Hist_mnist_1.history['val_loss'])\n",
        "plt.title('Case1: Training & Validation Loss')\n",
        "plt.xlabel('Epochs')\n",
        "plt.ylabel('Loss')\n",
        "plt.legend(['Training Loss' , 'Validation Loss'])\n",
        "plt.grid()\n",
        "\n",
        "plt.subplot(2, 2, 2)\n",
        "plt.plot(epochs, Hist_mnist_2.history['loss'])\n",
        "plt.plot(epochs, Hist_mnist_2.history['val_loss'])\n",
        "plt.title('Case2: Training & Validation Loss')\n",
        "plt.xlabel('Epochs')\n",
        "plt.ylabel('Loss')\n",
        "plt.legend(['Training Loss' , 'Validation Loss'])\n",
        "plt.grid()\n",
        "\n",
        "plt.subplot(2, 2, 3)\n",
        "plt.plot(epochs, Hist_mnist_3.history['loss'])\n",
        "plt.plot(epochs, Hist_mnist_3.history['val_loss'])\n",
        "plt.title('Case3: Training & Validation Loss')\n",
        "plt.xlabel('Epochs')\n",
        "plt.ylabel('Loss')\n",
        "plt.legend(['Training Loss' , 'Validation Loss'])\n",
        "plt.grid()\n",
        "\n",
        "plt.subplot(2, 2, 4)\n",
        "plt.plot(epochs, Hist_mnist_4.history['loss'])\n",
        "plt.plot(epochs, Hist_mnist_4.history['val_loss'])\n",
        "plt.title('Case4: Training & Validation Loss')\n",
        "plt.xlabel('Epochs')\n",
        "plt.ylabel('Loss')\n",
        "plt.legend(['Training Loss' , 'Validation Loss'])\n",
        "plt.grid()\n",
        "\n",
        "plt.show()\n",
        "\n",
        "\n",
        "# Overfitting 경향이 줄어든 것을 볼 수 있다!"
      ],
      "execution_count": 80,
      "outputs": [
        {
          "output_type": "display_data",
          "data": {
            "image/png": "[encoded data removed]",
            "text/plain": [
              "<Figure size 1440x1080 with 4 Axes>"
            ]
          },
          "metadata": {
            "tags": [],
            "needs_background": "light"
          }
        }
      ]
    },
    {
      "cell_type": "code",
      "metadata": {
        "colab": {
          "base_uri": "https://localhost:8080/",
          "height": 295
        },
        "id": "VCDKbum1slo8",
        "outputId": "778b886e-412b-452e-99d9-57d97e55f24b"
      },
      "source": [
        "epochs = range(1, len(Hist_mnist_5.history['loss']) + 1)\n",
        "\n",
        "plt.plot(epochs, Hist_mnist_5.history['loss'])\n",
        "plt.plot(epochs, Hist_mnist_5.history['val_loss'])\n",
        "plt.title('Case5: Training & Validation Loss')\n",
        "plt.xlabel('Epochs')\n",
        "plt.ylabel('Loss')\n",
        "plt.legend(['Training Loss' , 'Validation Loss'])\n",
        "plt.grid()"
      ],
      "execution_count": 33,
      "outputs": [
        {
          "output_type": "display_data",
          "data": {
            "image/png": "[encoded data removed]",
            "text/plain": [
              "<Figure size 432x288 with 1 Axes>"
            ]
          },
          "metadata": {
            "tags": [],
            "needs_background": "light"
          }
        }
      ]
    },
    {
      "cell_type": "code",
      "metadata": {
        "colab": {
          "base_uri": "https://localhost:8080/",
          "height": 295
        },
        "id": "tYSEreGovkmk",
        "outputId": "24cdba32-d2a4-4e16-bda2-01833c81cd75"
      },
      "source": [
        "epochs = range(1, len(Hist_mnist_6.history['loss']) + 1)\n",
        "\n",
        "plt.plot(epochs, Hist_mnist_6.history['loss'])\n",
        "plt.plot(epochs, Hist_mnist_6.history['val_loss'])\n",
        "plt.title('Case6: Training & Validation Loss')\n",
        "plt.xlabel('Epochs')\n",
        "plt.ylabel('Loss')\n",
        "plt.legend(['Training Loss' , 'Validation Loss'])\n",
        "plt.grid()"
      ],
      "execution_count": 39,
      "outputs": [
        {
          "output_type": "display_data",
          "data": {
            "image/png": "[encoded data removed]",
            "text/plain": [
              "<Figure size 432x288 with 1 Axes>"
            ]
          },
          "metadata": {
            "tags": [],
            "needs_background": "light"
          }
        }
      ]
    },
    {
      "cell_type": "code",
      "metadata": {
        "colab": {
          "base_uri": "https://localhost:8080/",
          "height": 295
        },
        "id": "HkJ68OzrwShd",
        "outputId": "e8148253-f330-46d1-f0ef-cb8723be5eeb"
      },
      "source": [
        "epochs = range(1, len(Hist_mnist_7.history['loss']) + 1)\n",
        "\n",
        "plt.plot(epochs, Hist_mnist_7.history['loss'])\n",
        "plt.plot(epochs, Hist_mnist_7.history['val_loss'])\n",
        "plt.title('Case7: Training & Validation Loss')\n",
        "plt.xlabel('Epochs')\n",
        "plt.ylabel('Loss')\n",
        "plt.legend(['Training Loss' , 'Validation Loss'])\n",
        "plt.grid()"
      ],
      "execution_count": 46,
      "outputs": [
        {
          "output_type": "display_data",
          "data": {
            "image/png": "[encoded data removed]",
            "text/plain": [
              "<Figure size 432x288 with 1 Axes>"
            ]
          },
          "metadata": {
            "tags": [],
            "needs_background": "light"
          }
        }
      ]
    },
    {
      "cell_type": "code",
      "metadata": {
        "colab": {
          "base_uri": "https://localhost:8080/",
          "height": 295
        },
        "id": "D3Kx9qHtxwNq",
        "outputId": "27778d9c-c7d1-4ac0-be60-cd728f5feeb4"
      },
      "source": [
        "epochs = range(1, len(Hist_mnist_8.history['loss']) + 1)\n",
        "\n",
        "plt.plot(epochs, Hist_mnist_8.history['loss'])\n",
        "plt.plot(epochs, Hist_mnist_8.history['val_loss'])\n",
        "plt.title('Case8: Training & Validation Loss')\n",
        "plt.xlabel('Epochs')\n",
        "plt.ylabel('Loss')\n",
        "plt.legend(['Training Loss' , 'Validation Loss'])\n",
        "plt.grid()"
      ],
      "execution_count": 52,
      "outputs": [
        {
          "output_type": "display_data",
          "data": {
            "image/png": "[encoded data removed]",
            "text/plain": [
              "<Figure size 432x288 with 1 Axes>"
            ]
          },
          "metadata": {
            "tags": [],
            "needs_background": "light"
          }
        }
      ]
    },
    {
      "cell_type": "code",
      "metadata": {
        "id": "_EmTiVlqIONh"
      },
      "source": [
        "# L2: 오차함수에 지속적으로 노이즈를 추가해주므로 Training Loss 가 일정 이상 내려가지 않는다"
      ],
      "execution_count": null,
      "outputs": []
    },
    {
      "cell_type": "markdown",
      "metadata": {
        "id": "RPvKFIij7HBX"
      },
      "source": [
        "### 5) Model Evaluate\n",
        "- Loss & Accuracy"
      ]
    },
    {
      "cell_type": "code",
      "metadata": {
        "colab": {
          "base_uri": "https://localhost:8080/"
        },
        "id": "qwN86NzW7Mqy",
        "outputId": "1a443f90-4796-4128-ffbf-69bbd7f704db"
      },
      "source": [
        "loss, accuracy = mnist_1.evaluate(X_test, y_test)\n",
        "\n",
        "print('Loss = {: .5f}' .format(loss))\n",
        "print('Accuracy = {: .5f}' .format(accuracy))\n",
        "\n",
        "# overfitting 경향은 줄었으나, 성능에 차이가 없는가?\n",
        "# 동일한 성능을 낸다면 간단한 모델이 좋다"
      ],
      "execution_count": 65,
      "outputs": [
        {
          "output_type": "stream",
          "text": [
            "313/313 [==============================] - 1s 2ms/step - loss: 0.3405 - accuracy: 0.9830\n",
            "Loss =  0.34053\n",
            "Accuracy =  0.98300\n"
          ],
          "name": "stdout"
        }
      ]
    },
    {
      "cell_type": "code",
      "metadata": {
        "colab": {
          "base_uri": "https://localhost:8080/"
        },
        "id": "IBqLLX0aN3CJ",
        "outputId": "5a4fec44-12de-419c-9660-c03274018317"
      },
      "source": [
        "loss, accuracy = mnist_2.evaluate(X_test, y_test)\n",
        "\n",
        "print('Loss = {: .5f}' .format(loss))\n",
        "print('Accuracy = {: .5f}' .format(accuracy))"
      ],
      "execution_count": 66,
      "outputs": [
        {
          "output_type": "stream",
          "text": [
            "313/313 [==============================] - 1s 2ms/step - loss: 0.1831 - accuracy: 0.9800\n",
            "Loss =  0.18315\n",
            "Accuracy =  0.98000\n"
          ],
          "name": "stdout"
        }
      ]
    },
    {
      "cell_type": "code",
      "metadata": {
        "colab": {
          "base_uri": "https://localhost:8080/"
        },
        "id": "AgLJbAfYN33Y",
        "outputId": "66d1540b-b234-4d81-c107-b1000e5091b6"
      },
      "source": [
        "loss, accuracy = mnist_3.evaluate(X_test, y_test)\n",
        "\n",
        "print('Loss = {: .5f}' .format(loss))\n",
        "print('Accuracy = {: .5f}' .format(accuracy))"
      ],
      "execution_count": 71,
      "outputs": [
        {
          "output_type": "stream",
          "text": [
            "313/313 [==============================] - 1s 2ms/step - loss: 0.1404 - accuracy: 0.9789\n",
            "Loss =  0.14035\n",
            "Accuracy =  0.97890\n"
          ],
          "name": "stdout"
        }
      ]
    },
    {
      "cell_type": "code",
      "metadata": {
        "colab": {
          "base_uri": "https://localhost:8080/"
        },
        "id": "w13D-L7JTL6E",
        "outputId": "66027173-583b-43ea-9946-02557cc7d98f"
      },
      "source": [
        "loss, accuracy = mnist_4.evaluate(X_test, y_test)\n",
        "\n",
        "print('Loss = {: .5f}' .format(loss))\n",
        "print('Accuracy = {: .5f}' .format(accuracy))"
      ],
      "execution_count": 81,
      "outputs": [
        {
          "output_type": "stream",
          "text": [
            "313/313 [==============================] - 1s 2ms/step - loss: 0.2033 - accuracy: 0.9829\n",
            "Loss =  0.20330\n",
            "Accuracy =  0.98290\n"
          ],
          "name": "stdout"
        }
      ]
    },
    {
      "cell_type": "code",
      "metadata": {
        "colab": {
          "base_uri": "https://localhost:8080/"
        },
        "id": "2TPxdsu0sr7B",
        "outputId": "a469748a-f13a-497f-89aa-33859b143461"
      },
      "source": [
        "loss, accuracy = mnist_5.evaluate(X_test, y_test)\n",
        "\n",
        "print('Loss = {: .5f}' .format(loss))\n",
        "print('Accuracy = {: .5f}' .format(accuracy))"
      ],
      "execution_count": 34,
      "outputs": [
        {
          "output_type": "stream",
          "text": [
            "313/313 [==============================] - 1s 2ms/step - loss: 0.1561 - accuracy: 0.9842\n",
            "Loss =  0.15614\n",
            "Accuracy =  0.98420\n"
          ],
          "name": "stdout"
        }
      ]
    },
    {
      "cell_type": "code",
      "metadata": {
        "colab": {
          "base_uri": "https://localhost:8080/"
        },
        "id": "6OvBvqz_vrH7",
        "outputId": "432b90f5-8d7f-4e9d-8b55-544521ea9b02"
      },
      "source": [
        "loss, accuracy = mnist_6.evaluate(X_test, y_test)\n",
        "\n",
        "print('Loss = {: .5f}' .format(loss))\n",
        "print('Accuracy = {: .5f}' .format(accuracy))"
      ],
      "execution_count": 40,
      "outputs": [
        {
          "output_type": "stream",
          "text": [
            "313/313 [==============================] - 1s 2ms/step - loss: 0.1639 - accuracy: 0.9806\n",
            "Loss =  0.16392\n",
            "Accuracy =  0.98060\n"
          ],
          "name": "stdout"
        }
      ]
    },
    {
      "cell_type": "code",
      "metadata": {
        "colab": {
          "base_uri": "https://localhost:8080/"
        },
        "id": "8sSj3S2qw7U5",
        "outputId": "1ea2b3b6-8e21-42ce-cc92-948c51a5ebb5"
      },
      "source": [
        "loss, accuracy = mnist_7.evaluate(X_test, y_test)\n",
        "\n",
        "print('Loss = {: .5f}' .format(loss))\n",
        "print('Accuracy = {: .5f}' .format(accuracy))"
      ],
      "execution_count": 47,
      "outputs": [
        {
          "output_type": "stream",
          "text": [
            "313/313 [==============================] - 1s 2ms/step - loss: 0.1259 - accuracy: 0.9663\n",
            "Loss =  0.12591\n",
            "Accuracy =  0.96630\n"
          ],
          "name": "stdout"
        }
      ]
    },
    {
      "cell_type": "code",
      "metadata": {
        "colab": {
          "base_uri": "https://localhost:8080/"
        },
        "id": "meO8vysvzrZ0",
        "outputId": "83aba0c3-664a-46dc-cc39-dbd3230b7570"
      },
      "source": [
        "loss, accuracy = mnist_8.evaluate(X_test, y_test)\n",
        "\n",
        "print('Loss = {: .5f}' .format(loss))\n",
        "print('Accuracy = {: .5f}' .format(accuracy))"
      ],
      "execution_count": 70,
      "outputs": [
        {
          "output_type": "stream",
          "text": [
            "313/313 [==============================] - 1s 2ms/step - loss: 0.1362 - accuracy: 0.9805\n",
            "Loss =  0.13618\n",
            "Accuracy =  0.98050\n"
          ],
          "name": "stdout"
        }
      ]
    },
    {
      "cell_type": "markdown",
      "metadata": {
        "id": "0L-u0DwlvqKV"
      },
      "source": [
        ""
      ]
    },
    {
      "cell_type": "markdown",
      "metadata": {
        "id": "o_DRKDaJ7d0_"
      },
      "source": [
        "### 6) Model Predict\n",
        "- Probability"
      ]
    },
    {
      "cell_type": "code",
      "metadata": {
        "colab": {
          "base_uri": "https://localhost:8080/"
        },
        "id": "cim6I4KH7hkb",
        "outputId": "1d965d69-eb66-4351-b424-616da31fac92"
      },
      "source": [
        "np.set_printoptions(suppress = True, precision = 9)\n",
        "\n",
        "print(mnist.predict(X_test[:1, :]))"
      ],
      "execution_count": 38,
      "outputs": [
        {
          "output_type": "stream",
          "text": [
            "[[0. 0. 0. 0. 0. 0. 0. 1. 0. 0.]]\n"
          ],
          "name": "stdout"
        }
      ]
    },
    {
      "cell_type": "markdown",
      "metadata": {
        "id": "yx-A59g67spI"
      },
      "source": [
        "- Class"
      ]
    },
    {
      "cell_type": "code",
      "metadata": {
        "colab": {
          "base_uri": "https://localhost:8080/"
        },
        "id": "X77aN4Uj7uPZ",
        "outputId": "da860673-658d-4d57-a379-e3f5b55f8f51"
      },
      "source": [
        "print(mnist.predict_classes(X_test[:1, :]))"
      ],
      "execution_count": 39,
      "outputs": [
        {
          "output_type": "stream",
          "text": [
            "[7]\n"
          ],
          "name": "stdout"
        }
      ]
    },
    {
      "cell_type": "code",
      "metadata": {
        "id": "4pz0SKQI6eP9"
      },
      "source": [
        "# 랜덤 포레스트로도 할 수 있을까?\n",
        "# 당연히 가능. 다만 성능이 좋은 모델이 있을 뿐"
      ],
      "execution_count": null,
      "outputs": []
    }
  ]
}