{
  "nbformat": 4,
  "nbformat_minor": 0,
  "metadata": {
    "colab": {
      "name": "044_Sentiment_Analysis.ipynb",
      "provenance": [],
      "collapsed_sections": []
    },
    "kernelspec": {
      "name": "python3",
      "display_name": "Python 3"
    },
    "language_info": {
      "name": "python"
    },
    "accelerator": "GPU"
  },
  "cells": [
    {
      "cell_type": "code",
      "metadata": {
        "id": "m4D_1wiHk_W5"
      },
      "source": [
        "import warnings\n",
        "warnings.filterwarnings('ignore')"
      ],
      "execution_count": 1,
      "outputs": []
    },
    {
      "cell_type": "code",
      "metadata": {
        "colab": {
          "base_uri": "https://localhost:8080/"
        },
        "id": "s9amZz7ylGC_",
        "outputId": "26481073-a898-43e8-c256-c3d0cbc1f14d"
      },
      "source": [
        "!nvidia-smi"
      ],
      "execution_count": 2,
      "outputs": [
        {
          "output_type": "stream",
          "text": [
            "Wed Mar 31 13:58:56 2021       \n",
            "+-----------------------------------------------------------------------------+\n",
            "| NVIDIA-SMI 460.67       Driver Version: 460.32.03    CUDA Version: 11.2     |\n",
            "|-------------------------------+----------------------+----------------------+\n",
            "| GPU  Name        Persistence-M| Bus-Id        Disp.A | Volatile Uncorr. ECC |\n",
            "| Fan  Temp  Perf  Pwr:Usage/Cap|         Memory-Usage | GPU-Util  Compute M. |\n",
            "|                               |                      |               MIG M. |\n",
            "|===============================+======================+======================|\n",
            "|   0  Tesla K80           Off  | 00000000:00:04.0 Off |                    0 |\n",
            "| N/A   46C    P8    31W / 149W |      0MiB / 11441MiB |      0%      Default |\n",
            "|                               |                      |                  N/A |\n",
            "+-------------------------------+----------------------+----------------------+\n",
            "                                                                               \n",
            "+-----------------------------------------------------------------------------+\n",
            "| Processes:                                                                  |\n",
            "|  GPU   GI   CI        PID   Type   Process name                  GPU Memory |\n",
            "|        ID   ID                                                   Usage      |\n",
            "|=============================================================================|\n",
            "|  No running processes found                                                 |\n",
            "+-----------------------------------------------------------------------------+\n"
          ],
          "name": "stdout"
        }
      ]
    },
    {
      "cell_type": "code",
      "metadata": {
        "id": "pfCP_SvOlHDV"
      },
      "source": [
        "import numpy as np\n",
        "import re\n",
        "import matplotlib.pyplot as plt"
      ],
      "execution_count": 3,
      "outputs": []
    },
    {
      "cell_type": "code",
      "metadata": {
        "id": "nijYDORilIlt"
      },
      "source": [
        "import keras\n",
        "from keras.preprocessing.text import Tokenizer\n",
        "from keras.preprocessing.sequence import pad_sequences\n",
        "from keras import models, layers"
      ],
      "execution_count": 4,
      "outputs": []
    },
    {
      "cell_type": "markdown",
      "metadata": {
        "id": "bWsSRXLoluyD"
      },
      "source": [
        "## 1. Data Download\n",
        "- Train: 150000\n",
        "- Test: 50000"
      ]
    },
    {
      "cell_type": "code",
      "metadata": {
        "colab": {
          "base_uri": "https://localhost:8080/"
        },
        "id": "1Ju4zwGdlJjj",
        "outputId": "ad967c4d-31fc-4fc0-f025-b837c05c4e69"
      },
      "source": [
        "tr_url = 'https://raw.githubusercontent.com/e9t/nsmc/master/ratings_train.txt'\n",
        "te_url = 'https://raw.githubusercontent.com/e9t/nsmc/master/ratings_test.txt'\n",
        "\n",
        "path_to_train_file = keras.utils.get_file('train.txt' , tr_url)\n",
        "path_to_test_file = keras.utils.get_file('test.txt' , te_url)"
      ],
      "execution_count": 5,
      "outputs": [
        {
          "output_type": "stream",
          "text": [
            "Downloading data from https://raw.githubusercontent.com/e9t/nsmc/master/ratings_train.txt\n",
            "14630912/14628807 [==============================] - 0s 0us/step\n",
            "Downloading data from https://raw.githubusercontent.com/e9t/nsmc/master/ratings_test.txt\n",
            "4898816/4893335 [==============================] - 0s 0us/step\n"
          ],
          "name": "stdout"
        }
      ]
    },
    {
      "cell_type": "markdown",
      "metadata": {
        "id": "3dym4atblxQA"
      },
      "source": [
        "### 1) 'X' Data\n",
        "- 각 열은 Tab으로 구분\n",
        "- '0': 부정 / '1': 긍정"
      ]
    },
    {
      "cell_type": "code",
      "metadata": {
        "colab": {
          "base_uri": "https://localhost:8080/"
        },
        "id": "-_z2tZwPlK7d",
        "outputId": "1ac0c426-a2ae-4539-8b55-25997116a4cf"
      },
      "source": [
        "train_text = open(path_to_train_file, 'rb').read().decode(encoding = 'utf8')\n",
        "test_text = open(path_to_test_file, 'rb').read().decode(encoding = 'utf8')\n",
        "\n",
        "print('Length of train text: {} characters' .format(len(train_text)))\n",
        "print('Length of test text: {} characters' .format(len(test_text)))\n",
        "print()\n",
        "print(train_text[:300])"
      ],
      "execution_count": 6,
      "outputs": [
        {
          "output_type": "stream",
          "text": [
            "Length of train text: 6937271 characters\n",
            "Length of test text: 2318260 characters\n",
            "\n",
            "id\tdocument\tlabel\n",
            "9976970\t아 더빙.. 진짜 짜증나네요 목소리\t0\n",
            "3819312\t흠...포스터보고 초딩영화줄....오버연기조차 가볍지 않구나\t1\n",
            "10265843\t너무재밓었다그래서보는것을추천한다\t0\n",
            "9045019\t교도소 이야기구먼 ..솔직히 재미는 없다..평점 조정\t0\n",
            "6483659\t사이몬페그의 익살스런 연기가 돋보였던 영화!스파이더맨에서 늙어보이기만 했던 커스틴 던스트가 너무나도 이뻐보였다\t1\n",
            "5403919\t막 걸음마 뗀 3세부터 초등학교 1학년생인 8살용영화.ㅋㅋㅋ...별반개도 아까움.\t0\n",
            "7797314\t원작의\n"
          ],
          "name": "stdout"
        }
      ]
    },
    {
      "cell_type": "markdown",
      "metadata": {
        "id": "G_yvwRr2l0Z3"
      },
      "source": [
        "### 2) 'y' Label\n",
        "- 각 문장을 '\\n'으로 분리 후 3열(index번호 2)의 값을 정수로 추출"
      ]
    },
    {
      "cell_type": "code",
      "metadata": {
        "colab": {
          "base_uri": "https://localhost:8080/"
        },
        "id": "Giduh93XlMWl",
        "outputId": "c3e9f8ce-7ba3-457b-ef6a-cf51d46e8018"
      },
      "source": [
        "y_train = np.array([[int(row.split('\\t')[-1])] for row in train_text.split('\\n')[1:]\n",
        "                    if row.count('\\t') > 0])\n",
        "y_test = np.array([[int(row.split('\\t')[-1])] for row in test_text.split('\\n')[1:]\n",
        "                  if row.count('\\t') > 0])\n",
        "\n",
        "y_train.shape, y_test.shape"
      ],
      "execution_count": 7,
      "outputs": [
        {
          "output_type": "execute_result",
          "data": {
            "text/plain": [
              "((150000, 1), (50000, 1))"
            ]
          },
          "metadata": {
            "tags": []
          },
          "execution_count": 7
        }
      ]
    },
    {
      "cell_type": "code",
      "metadata": {
        "colab": {
          "base_uri": "https://localhost:8080/"
        },
        "id": "kCCVYENNlPbd",
        "outputId": "bd5b1a5a-74ef-49bd-afe8-43130d917979"
      },
      "source": [
        "y_test[:5]"
      ],
      "execution_count": 8,
      "outputs": [
        {
          "output_type": "execute_result",
          "data": {
            "text/plain": [
              "array([[1],\n",
              "       [0],\n",
              "       [0],\n",
              "       [0],\n",
              "       [0]])"
            ]
          },
          "metadata": {
            "tags": []
          },
          "execution_count": 8
        }
      ]
    },
    {
      "cell_type": "markdown",
      "metadata": {
        "id": "wWag6FSXl4Bw"
      },
      "source": [
        "## 2. Data Cleansing"
      ]
    },
    {
      "cell_type": "markdown",
      "metadata": {
        "id": "seSrIC-Kl6G2"
      },
      "source": [
        "### 1) 'X' Data Cleansing"
      ]
    },
    {
      "cell_type": "code",
      "metadata": {
        "id": "CNgd4SIvlQxi"
      },
      "source": [
        "def clean(string) :\n",
        "  string = re.sub(r\"[^가-힣A-Za-z0-9(),!?\\'\\`]\" , \" \" , string)\n",
        "  string = re.sub(r\"\\'s\" , \" \\'s\" , string)\n",
        "  string = re.sub(r\"\\'ve\" , \" \\'ve\" , string)\n",
        "  string = re.sub(r\"n\\'t\" , \" n\\'t\" , string)\n",
        "  string = re.sub(r\"\\'re\" , \" \\'re\" , string)\n",
        "  string = re.sub(r\"\\'d\" , \" \\'d\" , string)\n",
        "  string = re.sub(r\"\\'ll\" , \" \\'ll\" , string)\n",
        "\n",
        "  string = re.sub(r\",\" , \" , \" , string)\n",
        "  string = re.sub(r\"!\" , \" ! \" , string)\n",
        "  string = re.sub(r\"\\(\" , \" \\( \" , string)\n",
        "  string = re.sub(r\"\\)\" , \" \\) \" , string)\n",
        "  string = re.sub(r\"\\?\" , \" \\? \" , string)\n",
        "  \n",
        "  string = re.sub(r\"\\s{2,}\" , \" \" , string)\n",
        "  string = re.sub(r\"\\'{2,}\" , \"\\'\" , string)\n",
        "  string = re.sub(r\"\\'\" , \"\" , string)\n",
        "\n",
        "  return string.lower()"
      ],
      "execution_count": 9,
      "outputs": []
    },
    {
      "cell_type": "code",
      "metadata": {
        "id": "8tht4kYwlSYd"
      },
      "source": [
        "X_train_text = [ row.split('\\t')[1] for row in train_text.split('\\n')[1:]\n",
        "                if row.count('\\t') > 0]\n",
        "X_train_text = [ clean(sentence) for sentence in X_train_text ]"
      ],
      "execution_count": 10,
      "outputs": []
    },
    {
      "cell_type": "code",
      "metadata": {
        "id": "JH5K6dRolTwl"
      },
      "source": [
        "sentences = [sentence.split(' ') for sentence in X_train_text]"
      ],
      "execution_count": 11,
      "outputs": []
    },
    {
      "cell_type": "code",
      "metadata": {
        "colab": {
          "base_uri": "https://localhost:8080/"
        },
        "id": "DcTby_VslU_J",
        "outputId": "d1e52c20-bc00-430f-fd8e-0782054adcf6"
      },
      "source": [
        "for i in range(5) :\n",
        "  print(sentences[i])"
      ],
      "execution_count": 12,
      "outputs": [
        {
          "output_type": "stream",
          "text": [
            "['아', '더빙', '진짜', '짜증나네요', '목소리']\n",
            "['흠', '포스터보고', '초딩영화줄', '오버연기조차', '가볍지', '않구나']\n",
            "['너무재밓었다그래서보는것을추천한다']\n",
            "['교도소', '이야기구먼', '솔직히', '재미는', '없다', '평점', '조정']\n",
            "['사이몬페그의', '익살스런', '연기가', '돋보였던', '영화', '!', '스파이더맨에서', '늙어보이기만', '했던', '커스틴', '던스트가', '너무나도', '이뻐보였다']\n"
          ],
          "name": "stdout"
        }
      ]
    },
    {
      "cell_type": "markdown",
      "metadata": {
        "id": "1MiJdcjVl9ek"
      },
      "source": [
        "- 각 문장의 단어길이 시각화"
      ]
    },
    {
      "cell_type": "code",
      "metadata": {
        "colab": {
          "base_uri": "https://localhost:8080/",
          "height": 265
        },
        "id": "m11YT2-slWMN",
        "outputId": "d2a3e0e2-8fbd-4cbc-f8b0-67c613277b97"
      },
      "source": [
        "sentence_len = [len(sentence) for sentence in sentences]\n",
        "sentence_len.sort()\n",
        "\n",
        "plt.plot(sentence_len)\n",
        "plt.show()"
      ],
      "execution_count": 13,
      "outputs": [
        {
          "output_type": "display_data",
          "data": {
            "image/png": "[encoded data removed]",
            "text/plain": [
              "<Figure size 432x288 with 1 Axes>"
            ]
          },
          "metadata": {
            "tags": [],
            "needs_background": "light"
          }
        }
      ]
    },
    {
      "cell_type": "code",
      "metadata": {
        "colab": {
          "base_uri": "https://localhost:8080/"
        },
        "id": "w9B6fe40lXeV",
        "outputId": "dcd93a89-55ec-4bba-a73a-bb050cc2b5ad"
      },
      "source": [
        "sentences_new = []\n",
        "\n",
        "for sentence in sentences:\n",
        "  sentences_new.append([word for word in sentence][:40])\n",
        "\n",
        "sentences = sentences_new\n",
        "\n",
        "for i in range(5) :\n",
        "  print(sentences[i])"
      ],
      "execution_count": 14,
      "outputs": [
        {
          "output_type": "stream",
          "text": [
            "['아', '더빙', '진짜', '짜증나네요', '목소리']\n",
            "['흠', '포스터보고', '초딩영화줄', '오버연기조차', '가볍지', '않구나']\n",
            "['너무재밓었다그래서보는것을추천한다']\n",
            "['교도소', '이야기구먼', '솔직히', '재미는', '없다', '평점', '조정']\n",
            "['사이몬페그의', '익살스런', '연기가', '돋보였던', '영화', '!', '스파이더맨에서', '늙어보이기만', '했던', '커스틴', '던스트가', '너무나도', '이뻐보였다']\n"
          ],
          "name": "stdout"
        }
      ]
    },
    {
      "cell_type": "markdown",
      "metadata": {
        "id": "g4T0imiTmAJx"
      },
      "source": [
        "## 3. 'tokenizer()' and 'pad_sequences()'"
      ]
    },
    {
      "cell_type": "markdown",
      "metadata": {
        "id": "QjVJpHnamBm6"
      },
      "source": [
        "### 1) 20000개 단어 사용"
      ]
    },
    {
      "cell_type": "code",
      "metadata": {
        "colab": {
          "base_uri": "https://localhost:8080/"
        },
        "id": "QL3-1FZwlY9l",
        "outputId": "bcc00a4f-1c18-4745-9fab-63cb292447cd"
      },
      "source": [
        "tokenizer = Tokenizer(num_words = 20000)\n",
        "tokenizer.fit_on_texts(sentences)\n",
        "\n",
        "X_train = tokenizer.texts_to_sequences(sentences)\n",
        "X_train = pad_sequences(X_train, padding = 'post')\n",
        "\n",
        "print(X_train[:5])"
      ],
      "execution_count": 15,
      "outputs": [
        {
          "output_type": "stream",
          "text": [
            "[[   26   897     8  6747  1094     0     0     0     0     0     0     0\n",
            "      0     0     0     0     0     0     0     0     0     0     0     0\n",
            "      0     0     0     0     0     0     0     0     0     0     0     0\n",
            "      0     0     0     0]\n",
            " [  591  5845  6748     0     0     0     0     0     0     0     0     0\n",
            "      0     0     0     0     0     0     0     0     0     0     0     0\n",
            "      0     0     0     0     0     0     0     0     0     0     0     0\n",
            "      0     0     0     0]\n",
            " [    0     0     0     0     0     0     0     0     0     0     0     0\n",
            "      0     0     0     0     0     0     0     0     0     0     0     0\n",
            "      0     0     0     0     0     0     0     0     0     0     0     0\n",
            "      0     0     0     0]\n",
            " [   73   350    31    36 10467     0     0     0     0     0     0     0\n",
            "      0     0     0     0     0     0     0     0     0     0     0     0\n",
            "      0     0     0     0     0     0     0     0     0     0     0     0\n",
            "      0     0     0     0]\n",
            " [  107  5379     4     2   849   569     0     0     0     0     0     0\n",
            "      0     0     0     0     0     0     0     0     0     0     0     0\n",
            "      0     0     0     0     0     0     0     0     0     0     0     0\n",
            "      0     0     0     0]]\n"
          ],
          "name": "stdout"
        }
      ]
    },
    {
      "cell_type": "markdown",
      "metadata": {
        "id": "2al920-MmE1J"
      },
      "source": [
        "### 2) tokenizer() 동작 확인\n",
        "- 존재하는 단어 매핑"
      ]
    },
    {
      "cell_type": "code",
      "metadata": {
        "colab": {
          "base_uri": "https://localhost:8080/"
        },
        "id": "tD6DT37Llamm",
        "outputId": "9211906c-fbdf-472d-fcdf-bdfcf8fe6185"
      },
      "source": [
        "print(tokenizer.index_word[19998] , tokenizer.index_word[1996])"
      ],
      "execution_count": 16,
      "outputs": [
        {
          "output_type": "stream",
          "text": [
            "개떡같은 보았는데\n"
          ],
          "name": "stdout"
        }
      ]
    },
    {
      "cell_type": "code",
      "metadata": {
        "id": "9614o-QElcV2"
      },
      "source": [
        "temp = tokenizer.texts_to_sequences(['dslkjfsl' , '개떡같은' , '보았는데' , '연기가'])"
      ],
      "execution_count": 17,
      "outputs": []
    },
    {
      "cell_type": "code",
      "metadata": {
        "colab": {
          "base_uri": "https://localhost:8080/"
        },
        "id": "lhIGTO8Kldvj",
        "outputId": "2d8ad871-48d2-4868-9ca0-6289928c300b"
      },
      "source": [
        "print(temp)"
      ],
      "execution_count": 18,
      "outputs": [
        {
          "output_type": "stream",
          "text": [
            "[[], [19998], [1996], [107]]\n"
          ],
          "name": "stdout"
        }
      ]
    },
    {
      "cell_type": "code",
      "metadata": {
        "colab": {
          "base_uri": "https://localhost:8080/"
        },
        "id": "dE5JT31Klf5z",
        "outputId": "25419fa9-fa4d-4d77-cb71-e0cbd2e74ac5"
      },
      "source": [
        "temp = pad_sequences(temp, padding = 'post')\n",
        "print(temp)"
      ],
      "execution_count": 19,
      "outputs": [
        {
          "output_type": "stream",
          "text": [
            "[[    0]\n",
            " [19998]\n",
            " [ 1996]\n",
            " [  107]]\n"
          ],
          "name": "stdout"
        }
      ]
    },
    {
      "cell_type": "markdown",
      "metadata": {
        "id": "EBb1gSRVmHr4"
      },
      "source": [
        "## 4. Modeling"
      ]
    },
    {
      "cell_type": "markdown",
      "metadata": {
        "id": "pAZdB-HnmJDe"
      },
      "source": [
        "### 1) Model Structure"
      ]
    },
    {
      "cell_type": "code",
      "metadata": {
        "id": "piM0vn_LlhXc"
      },
      "source": [
        "model = models.Sequential()\n",
        "\n",
        "model.add(layers.Embedding(20000, 300, input_length = 40))\n",
        "\n",
        "model.add(layers.LSTM(32))\n",
        "model.add(layers.Dropout(0.5))\n",
        "model.add(layers.Dense(2, activation = 'softmax'))"
      ],
      "execution_count": 20,
      "outputs": []
    },
    {
      "cell_type": "code",
      "metadata": {
        "colab": {
          "base_uri": "https://localhost:8080/"
        },
        "id": "N4r-ilbxljC8",
        "outputId": "545b6778-2b21-410c-a592-4681c9e53e7c"
      },
      "source": [
        "model.summary()"
      ],
      "execution_count": 21,
      "outputs": [
        {
          "output_type": "stream",
          "text": [
            "Model: \"sequential\"\n",
            "_________________________________________________________________\n",
            "Layer (type)                 Output Shape              Param #   \n",
            "=================================================================\n",
            "embedding (Embedding)        (None, 40, 300)           6000000   \n",
            "_________________________________________________________________\n",
            "lstm (LSTM)                  (None, 32)                42624     \n",
            "_________________________________________________________________\n",
            "dropout (Dropout)            (None, 32)                0         \n",
            "_________________________________________________________________\n",
            "dense (Dense)                (None, 2)                 66        \n",
            "=================================================================\n",
            "Total params: 6,042,690\n",
            "Trainable params: 6,042,690\n",
            "Non-trainable params: 0\n",
            "_________________________________________________________________\n"
          ],
          "name": "stdout"
        }
      ]
    },
    {
      "cell_type": "code",
      "metadata": {
        "id": "o9M1V_h5lkp6"
      },
      "source": [
        "model.compile(loss = 'sparse_categorical_crossentropy',\n",
        "              optimizer = 'adam',\n",
        "              metrics = ['accuracy'])"
      ],
      "execution_count": 22,
      "outputs": []
    },
    {
      "cell_type": "code",
      "metadata": {
        "colab": {
          "base_uri": "https://localhost:8080/"
        },
        "id": "_jfKbf6llmIc",
        "outputId": "36ce23d6-21df-4b92-810c-69f08f13b662"
      },
      "source": [
        "%%time\n",
        "\n",
        "hist = model.fit(X_train, y_train,\n",
        "                 epochs = 20,\n",
        "                 batch_size = 128,\n",
        "                 validation_split = 0.2)"
      ],
      "execution_count": 23,
      "outputs": [
        {
          "output_type": "stream",
          "text": [
            "Epoch 1/10\n",
            "938/938 [==============================] - 106s 81ms/step - loss: 0.6936 - accuracy: 0.5042 - val_loss: 0.6192 - val_accuracy: 0.6920\n",
            "Epoch 2/10\n",
            "938/938 [==============================] - 75s 80ms/step - loss: 0.6197 - accuracy: 0.6873 - val_loss: 0.6176 - val_accuracy: 0.6756\n",
            "Epoch 3/10\n",
            "938/938 [==============================] - 74s 79ms/step - loss: 0.6200 - accuracy: 0.6720 - val_loss: 0.6132 - val_accuracy: 0.6611\n",
            "Epoch 4/10\n",
            "938/938 [==============================] - 74s 79ms/step - loss: 0.6060 - accuracy: 0.6749 - val_loss: 0.5839 - val_accuracy: 0.7106\n",
            "Epoch 5/10\n",
            "938/938 [==============================] - 75s 80ms/step - loss: 0.5681 - accuracy: 0.7355 - val_loss: 0.5455 - val_accuracy: 0.7643\n",
            "Epoch 6/10\n",
            "938/938 [==============================] - 75s 80ms/step - loss: 0.5164 - accuracy: 0.7806 - val_loss: 0.4744 - val_accuracy: 0.7804\n",
            "Epoch 7/10\n",
            "938/938 [==============================] - 75s 80ms/step - loss: 0.4320 - accuracy: 0.8114 - val_loss: 0.4159 - val_accuracy: 0.8064\n",
            "Epoch 8/10\n",
            "938/938 [==============================] - 75s 80ms/step - loss: 0.3434 - accuracy: 0.8505 - val_loss: 0.4157 - val_accuracy: 0.8046\n",
            "Epoch 9/10\n",
            "938/938 [==============================] - 75s 80ms/step - loss: 0.2784 - accuracy: 0.8726 - val_loss: 0.4335 - val_accuracy: 0.8121\n",
            "Epoch 10/10\n",
            "938/938 [==============================] - 76s 81ms/step - loss: 0.2341 - accuracy: 0.8895 - val_loss: 0.4798 - val_accuracy: 0.8089\n",
            "CPU times: user 19min 40s, sys: 44.9 s, total: 20min 24s\n",
            "Wall time: 13min\n"
          ],
          "name": "stdout"
        }
      ]
    },
    {
      "cell_type": "markdown",
      "metadata": {
        "id": "DRjo228GmRDA"
      },
      "source": [
        "### 2) Visualization"
      ]
    },
    {
      "cell_type": "code",
      "metadata": {
        "colab": {
          "base_uri": "https://localhost:8080/",
          "height": 283
        },
        "id": "pF4qM4V8lp4B",
        "outputId": "2f05c227-bdef-480d-9601-bb3ce1884721"
      },
      "source": [
        "plt.figure(figsize = (12, 4))\n",
        "\n",
        "plt.subplot(1, 2, 1)\n",
        "plt.plot(hist.history['loss'] , 'b-' , label = 'loss')\n",
        "plt.plot(hist.history['val_loss'] , 'r--' , label = 'val_loss')\n",
        "plt.xlabel('Epoch')\n",
        "plt.legend()\n",
        "\n",
        "plt.subplot(1, 2, 2)\n",
        "plt.plot(hist.history['accuracy'] , 'g-' , label = 'accuracy')\n",
        "plt.plot(hist.history['val_accuracy'] , 'k--' , label = 'val_accuracy')\n",
        "plt.xlabel('Epoch')\n",
        "plt.ylim(0.7, 1)\n",
        "plt.legend()\n",
        "\n",
        "plt.show()"
      ],
      "execution_count": 24,
      "outputs": [
        {
          "output_type": "display_data",
          "data": {
            "image/png": "[encoded data removed]",
            "text/plain": [
              "<Figure size 864x288 with 2 Axes>"
            ]
          },
          "metadata": {
            "tags": [],
            "needs_background": "light"
          }
        }
      ]
    },
    {
      "cell_type": "markdown",
      "metadata": {
        "id": "KL7HTFAGnJSH"
      },
      "source": [
        "## 5. Validation"
      ]
    },
    {
      "cell_type": "code",
      "metadata": {
        "id": "dJJPb-s7nOs_"
      },
      "source": [
        "X_test_text = [ row.split('\\t')[1] for row in test_text.split('\\n')[1:]\n",
        "               if row.count('\\t') > 0]\n",
        "X_test_text = [ clean(sentence) for sentence in X_test_text]"
      ],
      "execution_count": 25,
      "outputs": []
    },
    {
      "cell_type": "code",
      "metadata": {
        "id": "wwNLap4-oAXv"
      },
      "source": [
        "test_sentences = [sentence.split(' ') for sentence in X_test_text]\n",
        "\n",
        "test_sentences_new = []\n",
        "\n",
        "for sentence in test_sentences :\n",
        "  test_sentences_new.append([word for word in sentence][:40])\n",
        "test_sentences = test_sentences_new\n",
        "\n",
        "X_test = tokenizer.texts_to_sequences(test_sentences)\n",
        "X_test = pad_sequences(X_test, padding = 'post')"
      ],
      "execution_count": 26,
      "outputs": []
    },
    {
      "cell_type": "code",
      "metadata": {
        "colab": {
          "base_uri": "https://localhost:8080/"
        },
        "id": "L0979sE-oziP",
        "outputId": "a1aa1ca0-c749-4a2c-802f-b51e191957ab"
      },
      "source": [
        "model.evaluate(X_test, y_test, verbose = 0)"
      ],
      "execution_count": 27,
      "outputs": [
        {
          "output_type": "execute_result",
          "data": {
            "text/plain": [
              "[0.4927098751068115, 0.8006600141525269]"
            ]
          },
          "metadata": {
            "tags": []
          },
          "execution_count": 27
        }
      ]
    },
    {
      "cell_type": "markdown",
      "metadata": {
        "id": "ZaKPA9HPo8l5"
      },
      "source": [
        "## 6. 문장 감성 분석"
      ]
    },
    {
      "cell_type": "markdown",
      "metadata": {
        "id": "sc0hJHXYnOHH"
      },
      "source": [
        "- 입력 단어에 따라 감성 분석 결과 변화\n",
        "  - 긍정('1') -> 부정('0')"
      ]
    },
    {
      "cell_type": "code",
      "metadata": {
        "colab": {
          "base_uri": "https://localhost:8080/"
        },
        "id": "QxPKwE2CpK29",
        "outputId": "9f8f73fa-eba1-4a70-e6ff-8304b8682483"
      },
      "source": [
        "test_sentence = '재미있을 줄 알았는데 완전 실망했다. 너무 졸리고 돈이 아까웠다.'\n",
        "\n",
        "test_sentence = test_sentence.split(' ')\n",
        "\n",
        "test = []\n",
        "now_sentence = []\n",
        "\n",
        "for word in test_sentence:\n",
        "  now_sentence.append(word)\n",
        "  test.append(now_sentence[:])\n",
        "\n",
        "X_test_1 = tokenizer.texts_to_sequences(test)\n",
        "X_test_1 = pad_sequences(X_test_1, padding = 'post' , maxlen = 40)\n",
        "prediction = model.predict(X_test_1)\n",
        "\n",
        "for idx, sentence in enumerate(test) :\n",
        "  print(sentence)\n",
        "  print(prediction[idx])"
      ],
      "execution_count": 36,
      "outputs": [
        {
          "output_type": "stream",
          "text": [
            "['재미있을']\n",
            "[0.6130217 0.3869783]\n",
            "['재미있을', '줄']\n",
            "[0.56506336 0.43493664]\n",
            "['재미있을', '줄', '알았는데']\n",
            "[0.38659674 0.6134032 ]\n",
            "['재미있을', '줄', '알았는데', '완전']\n",
            "[0.3947356  0.60526437]\n",
            "['재미있을', '줄', '알았는데', '완전', '실망했다.']\n",
            "[0.3947356  0.60526437]\n",
            "['재미있을', '줄', '알았는데', '완전', '실망했다.', '너무']\n",
            "[0.5361149  0.46388513]\n",
            "['재미있을', '줄', '알았는데', '완전', '실망했다.', '너무', '졸리고']\n",
            "[0.9879538  0.01204626]\n",
            "['재미있을', '줄', '알았는데', '완전', '실망했다.', '너무', '졸리고', '돈이']\n",
            "[0.99895394 0.00104603]\n",
            "['재미있을', '줄', '알았는데', '완전', '실망했다.', '너무', '졸리고', '돈이', '아까웠다.']\n",
            "[0.99895394 0.00104603]\n"
          ],
          "name": "stdout"
        }
      ]
    }
  ]
}