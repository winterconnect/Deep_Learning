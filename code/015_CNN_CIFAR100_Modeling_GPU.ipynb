{
  "nbformat": 4,
  "nbformat_minor": 0,
  "metadata": {
    "colab": {
      "name": "015_CNN_CIFAR100_Modeling_GPU.ipynb",
      "provenance": [],
      "collapsed_sections": []
    },
    "kernelspec": {
      "name": "python3",
      "display_name": "Python 3"
    },
    "accelerator": "GPU"
  },
  "cells": [
    {
      "cell_type": "markdown",
      "metadata": {
        "id": "q2Pr7oBdYLdf"
      },
      "source": [
        "# CIFAR100 - Categorical Classification\n",
        "> # Convolutional Neural Network\n",
        "## Import Keras"
      ]
    },
    {
      "cell_type": "code",
      "metadata": {
        "id": "RbPgODpVzdHI"
      },
      "source": [
        "import warnings\n",
        "warnings.filterwarnings('ignore')"
      ],
      "execution_count": 1,
      "outputs": []
    },
    {
      "cell_type": "code",
      "metadata": {
        "id": "1-ZxgnMC4DxA"
      },
      "source": [
        "import keras\n",
        "from keras.datasets import cifar100\n",
        "from keras.utils import to_categorical\n",
        "from keras import models\n",
        "from keras import layers"
      ],
      "execution_count": 2,
      "outputs": []
    },
    {
      "cell_type": "code",
      "metadata": {
        "id": "6Q1Vam9P4LK3"
      },
      "source": [
        "from sklearn.model_selection import train_test_split"
      ],
      "execution_count": 3,
      "outputs": []
    },
    {
      "cell_type": "markdown",
      "metadata": {
        "id": "H49A769LYp-a"
      },
      "source": [
        "# I. CIFAR100 Data_Set Load"
      ]
    },
    {
      "cell_type": "code",
      "metadata": {
        "id": "DxstjE8b_6Te",
        "colab": {
          "base_uri": "https://localhost:8080/"
        },
        "outputId": "4f99d894-b1a7-422c-9f76-39776e15ff2c"
      },
      "source": [
        "(train_data, train_targets), (X_test, y_test) = cifar100.load_data(label_mode = 'fine')"
      ],
      "execution_count": 4,
      "outputs": [
        {
          "output_type": "stream",
          "text": [
            "Downloading data from https://www.cs.toronto.edu/~kriz/cifar-100-python.tar.gz\n",
            "169009152/169001437 [==============================] - 10s 0us/step\n"
          ],
          "name": "stdout"
        }
      ]
    },
    {
      "cell_type": "markdown",
      "metadata": {
        "id": "Mk9XL5vGHor6"
      },
      "source": [
        "# II. Data Preprocessing"
      ]
    },
    {
      "cell_type": "markdown",
      "metadata": {
        "id": "ec8zU4XCZRUF"
      },
      "source": [
        "> ## 1) Reshape and Normalization"
      ]
    },
    {
      "cell_type": "markdown",
      "metadata": {
        "id": "olI6ZPtEIb8H"
      },
      "source": [
        "* reshape"
      ]
    },
    {
      "cell_type": "code",
      "metadata": {
        "id": "8-toPn1ZAmFd"
      },
      "source": [
        "train_data = train_data.reshape((50000,  32, 32, 3))\n",
        "X_test = X_test.reshape((10000,  32, 32, 3))"
      ],
      "execution_count": 5,
      "outputs": []
    },
    {
      "cell_type": "markdown",
      "metadata": {
        "id": "UN-xPWjYIeWL"
      },
      "source": [
        "* Normalization"
      ]
    },
    {
      "cell_type": "code",
      "metadata": {
        "id": "SoGHuYeFIGBj"
      },
      "source": [
        "train_data = train_data.astype(float) / 255\n",
        "X_test = X_test.astype(float) / 255"
      ],
      "execution_count": 6,
      "outputs": []
    },
    {
      "cell_type": "markdown",
      "metadata": {
        "id": "BtSROU80aF12"
      },
      "source": [
        "> ## 2) One Hot Encoding"
      ]
    },
    {
      "cell_type": "code",
      "metadata": {
        "id": "eC48Oym3Ao8E"
      },
      "source": [
        "train_targets = to_categorical(train_targets)\n",
        "y_test = to_categorical(y_test)"
      ],
      "execution_count": 7,
      "outputs": []
    },
    {
      "cell_type": "code",
      "metadata": {
        "colab": {
          "base_uri": "https://localhost:8080/"
        },
        "id": "wbpNdJHm4iLz",
        "outputId": "1f221499-f71f-4fa7-eae7-bef89fff8e66"
      },
      "source": [
        "X_train, X_valid, y_train, y_valid = train_test_split(train_data, train_targets,\n",
        "                                                      test_size = 0.2,\n",
        "                                                      random_state = 2045)\n",
        "\n",
        "X_train.shape, X_valid.shape, y_train.shape, y_valid.shape"
      ],
      "execution_count": 35,
      "outputs": [
        {
          "output_type": "execute_result",
          "data": {
            "text/plain": [
              "((40000, 32, 32, 3), (10000, 32, 32, 3), (40000, 100), (10000, 100))"
            ]
          },
          "metadata": {
            "tags": []
          },
          "execution_count": 35
        }
      ]
    },
    {
      "cell_type": "markdown",
      "metadata": {
        "id": "NTwZiSjiop3v"
      },
      "source": [
        "# III. MNIST Keras Modeling"
      ]
    },
    {
      "cell_type": "markdown",
      "metadata": {
        "id": "j5CT0TurJCkc"
      },
      "source": [
        "> ## 1) Model Define"
      ]
    },
    {
      "cell_type": "code",
      "metadata": {
        "id": "II0DskRdAcHS"
      },
      "source": [
        "model = models.Sequential()\n",
        "\n",
        "model.add(layers.Conv2D(filters=128, kernel_size=(3,3), activation='relu',\n",
        "                        input_shape=(32, 32, 3)))\n",
        "model.add(layers.Conv2D(filters=128, kernel_size=(3,3), activation='relu'))\n",
        "model.add(layers.MaxPool2D(pool_size=(2,2)))\n",
        "model.add(layers.Conv2D(filters=128, kernel_size=(3,3), activation='relu'))\n",
        "model.add(layers.MaxPool2D(pool_size=(2,2)))\n",
        "model.add(layers.Conv2D(filters=128, kernel_size=(3,3), activation='relu'))\n",
        "\n",
        "model.add(layers.Flatten())\n",
        "model.add(layers.Dense(units=256, activation='relu'))\n",
        "model.add(layers.Dropout(0.5))\n",
        "model.add(layers.Dense(units=100, activation='softmax'))"
      ],
      "execution_count": 36,
      "outputs": []
    },
    {
      "cell_type": "code",
      "metadata": {
        "id": "ENcEJA9T_839"
      },
      "source": [
        "# first attemp\n",
        "\n",
        "model = models.Sequential()\n",
        "model.add(layers.Conv2D(filters=128, kernel_size=(3,3), activation='relu', input_shape=(32, 32, 3)))\n",
        "model.add(layers.MaxPool2D(pool_size=(2,2)))\n",
        "model.add(layers.Conv2D(filters=128, kernel_size=(3,3), activation='relu'))\n",
        "model.add(layers.MaxPool2D(pool_size=(2,2)))\n",
        "model.add(layers.Conv2D(filters=128, kernel_size=(3,3), activation='relu'))\n",
        "\n",
        "model.add(layers.Flatten())\n",
        "model.add(layers.Dense(units=256, activation='relu'))\n",
        "model.add(layers.Dropout(0.5))\n",
        "model.add(layers.Dense(units=100, activation='softmax'))"
      ],
      "execution_count": 31,
      "outputs": []
    },
    {
      "cell_type": "code",
      "metadata": {
        "id": "kQ02_BOz8-ek",
        "colab": {
          "base_uri": "https://localhost:8080/"
        },
        "outputId": "37da99ba-29ab-4e54-9ba3-f9ac7cbf746b"
      },
      "source": [
        "model.summary()"
      ],
      "execution_count": 37,
      "outputs": [
        {
          "output_type": "stream",
          "text": [
            "Model: \"sequential_7\"\n",
            "_________________________________________________________________\n",
            "Layer (type)                 Output Shape              Param #   \n",
            "=================================================================\n",
            "conv2d_32 (Conv2D)           (None, 30, 30, 128)       3584      \n",
            "_________________________________________________________________\n",
            "conv2d_33 (Conv2D)           (None, 28, 28, 128)       147584    \n",
            "_________________________________________________________________\n",
            "max_pooling2d_14 (MaxPooling (None, 14, 14, 128)       0         \n",
            "_________________________________________________________________\n",
            "conv2d_34 (Conv2D)           (None, 12, 12, 128)       147584    \n",
            "_________________________________________________________________\n",
            "max_pooling2d_15 (MaxPooling (None, 6, 6, 128)         0         \n",
            "_________________________________________________________________\n",
            "conv2d_35 (Conv2D)           (None, 4, 4, 128)         147584    \n",
            "_________________________________________________________________\n",
            "flatten_7 (Flatten)          (None, 2048)              0         \n",
            "_________________________________________________________________\n",
            "dense_14 (Dense)             (None, 256)               524544    \n",
            "_________________________________________________________________\n",
            "dropout_7 (Dropout)          (None, 256)               0         \n",
            "_________________________________________________________________\n",
            "dense_15 (Dense)             (None, 100)               25700     \n",
            "=================================================================\n",
            "Total params: 996,580\n",
            "Trainable params: 996,580\n",
            "Non-trainable params: 0\n",
            "_________________________________________________________________\n"
          ],
          "name": "stdout"
        }
      ]
    },
    {
      "cell_type": "markdown",
      "metadata": {
        "id": "tpjBDBeYoyuj"
      },
      "source": [
        "> ## 2) Model Compile"
      ]
    },
    {
      "cell_type": "markdown",
      "metadata": {
        "id": "f3sxkQa0JoUr"
      },
      "source": [
        "* 모델 학습방법 설정"
      ]
    },
    {
      "cell_type": "code",
      "metadata": {
        "id": "AyK_t1qwAi6M"
      },
      "source": [
        "model.compile(loss = 'categorical_crossentropy',\n",
        "              optimizer = 'adam',\n",
        "              metrics = ['accuracy'])"
      ],
      "execution_count": 38,
      "outputs": []
    },
    {
      "cell_type": "markdown",
      "metadata": {
        "id": "umiq4B-Xo3OB"
      },
      "source": [
        "> ## 3) Model Fit"
      ]
    },
    {
      "cell_type": "markdown",
      "metadata": {
        "id": "1KuXREziKMD1"
      },
      "source": [
        "* 약 5분"
      ]
    },
    {
      "cell_type": "code",
      "metadata": {
        "id": "zxwqwAqRAqRP",
        "colab": {
          "base_uri": "https://localhost:8080/"
        },
        "outputId": "c98dfcda-2ef5-415d-dfc0-160bbe274d9b"
      },
      "source": [
        "%%time\n",
        "\n",
        "Hist_mnist = model.fit(X_train, y_train,\n",
        "                       epochs = 50,\n",
        "                       batch_size = 128,\n",
        "                       validation_data = (X_valid, y_valid))"
      ],
      "execution_count": 39,
      "outputs": [
        {
          "output_type": "stream",
          "text": [
            "Epoch 1/50\n",
            "313/313 [==============================] - 16s 48ms/step - loss: 4.4523 - accuracy: 0.0257 - val_loss: 3.8066 - val_accuracy: 0.1097\n",
            "Epoch 2/50\n",
            "313/313 [==============================] - 15s 47ms/step - loss: 3.8196 - accuracy: 0.1104 - val_loss: 3.3960 - val_accuracy: 0.1901\n",
            "Epoch 3/50\n",
            "313/313 [==============================] - 15s 47ms/step - loss: 3.4603 - accuracy: 0.1694 - val_loss: 3.0831 - val_accuracy: 0.2494\n",
            "Epoch 4/50\n",
            "313/313 [==============================] - 15s 47ms/step - loss: 3.2068 - accuracy: 0.2185 - val_loss: 2.9483 - val_accuracy: 0.2743\n",
            "Epoch 5/50\n",
            "313/313 [==============================] - 15s 47ms/step - loss: 3.0140 - accuracy: 0.2541 - val_loss: 2.7850 - val_accuracy: 0.3133\n",
            "Epoch 6/50\n",
            "313/313 [==============================] - 15s 47ms/step - loss: 2.8658 - accuracy: 0.2825 - val_loss: 2.7157 - val_accuracy: 0.3183\n",
            "Epoch 7/50\n",
            "313/313 [==============================] - 15s 47ms/step - loss: 2.7189 - accuracy: 0.3082 - val_loss: 2.6143 - val_accuracy: 0.3411\n",
            "Epoch 8/50\n",
            "313/313 [==============================] - 15s 47ms/step - loss: 2.5730 - accuracy: 0.3393 - val_loss: 2.5772 - val_accuracy: 0.3456\n",
            "Epoch 9/50\n",
            "313/313 [==============================] - 15s 47ms/step - loss: 2.4807 - accuracy: 0.3620 - val_loss: 2.5100 - val_accuracy: 0.3602\n",
            "Epoch 10/50\n",
            "313/313 [==============================] - 15s 47ms/step - loss: 2.3928 - accuracy: 0.3714 - val_loss: 2.4597 - val_accuracy: 0.3696\n",
            "Epoch 11/50\n",
            "313/313 [==============================] - 15s 47ms/step - loss: 2.2859 - accuracy: 0.3952 - val_loss: 2.3929 - val_accuracy: 0.3846\n",
            "Epoch 12/50\n",
            "313/313 [==============================] - 15s 47ms/step - loss: 2.1907 - accuracy: 0.4199 - val_loss: 2.4587 - val_accuracy: 0.3803\n",
            "Epoch 13/50\n",
            "313/313 [==============================] - 15s 47ms/step - loss: 2.1052 - accuracy: 0.4345 - val_loss: 2.3985 - val_accuracy: 0.3851\n",
            "Epoch 14/50\n",
            "313/313 [==============================] - 15s 47ms/step - loss: 2.0164 - accuracy: 0.4495 - val_loss: 2.3753 - val_accuracy: 0.3918\n",
            "Epoch 15/50\n",
            "313/313 [==============================] - 15s 47ms/step - loss: 1.9557 - accuracy: 0.4649 - val_loss: 2.3687 - val_accuracy: 0.3991\n",
            "Epoch 16/50\n",
            "313/313 [==============================] - 15s 47ms/step - loss: 1.8626 - accuracy: 0.4852 - val_loss: 2.3895 - val_accuracy: 0.3973\n",
            "Epoch 17/50\n",
            "313/313 [==============================] - 15s 47ms/step - loss: 1.8240 - accuracy: 0.4918 - val_loss: 2.4001 - val_accuracy: 0.3970\n",
            "Epoch 18/50\n",
            "313/313 [==============================] - 15s 47ms/step - loss: 1.7497 - accuracy: 0.5082 - val_loss: 2.4010 - val_accuracy: 0.4038\n",
            "Epoch 19/50\n",
            "313/313 [==============================] - 15s 47ms/step - loss: 1.7001 - accuracy: 0.5152 - val_loss: 2.4745 - val_accuracy: 0.3967\n",
            "Epoch 20/50\n",
            "313/313 [==============================] - 15s 47ms/step - loss: 1.6276 - accuracy: 0.5326 - val_loss: 2.4912 - val_accuracy: 0.3909\n",
            "Epoch 21/50\n",
            "313/313 [==============================] - 15s 47ms/step - loss: 1.5629 - accuracy: 0.5495 - val_loss: 2.5000 - val_accuracy: 0.3963\n",
            "Epoch 22/50\n",
            "313/313 [==============================] - 15s 47ms/step - loss: 1.5256 - accuracy: 0.5570 - val_loss: 2.5317 - val_accuracy: 0.4021\n",
            "Epoch 23/50\n",
            "313/313 [==============================] - 15s 47ms/step - loss: 1.4698 - accuracy: 0.5693 - val_loss: 2.5548 - val_accuracy: 0.3983\n",
            "Epoch 24/50\n",
            "313/313 [==============================] - 15s 47ms/step - loss: 1.4382 - accuracy: 0.5753 - val_loss: 2.6069 - val_accuracy: 0.3960\n",
            "Epoch 25/50\n",
            "313/313 [==============================] - 15s 47ms/step - loss: 1.3773 - accuracy: 0.5896 - val_loss: 2.6010 - val_accuracy: 0.3955\n",
            "Epoch 26/50\n",
            "313/313 [==============================] - 15s 47ms/step - loss: 1.3430 - accuracy: 0.6005 - val_loss: 2.6173 - val_accuracy: 0.4011\n",
            "Epoch 27/50\n",
            "313/313 [==============================] - 15s 47ms/step - loss: 1.2911 - accuracy: 0.6139 - val_loss: 2.7312 - val_accuracy: 0.4000\n",
            "Epoch 28/50\n",
            "313/313 [==============================] - 15s 47ms/step - loss: 1.2523 - accuracy: 0.6245 - val_loss: 2.7200 - val_accuracy: 0.3968\n",
            "Epoch 29/50\n",
            "313/313 [==============================] - 15s 47ms/step - loss: 1.2137 - accuracy: 0.6318 - val_loss: 2.8012 - val_accuracy: 0.3958\n",
            "Epoch 30/50\n",
            "313/313 [==============================] - 15s 47ms/step - loss: 1.1878 - accuracy: 0.6377 - val_loss: 2.8678 - val_accuracy: 0.3982\n",
            "Epoch 31/50\n",
            "313/313 [==============================] - 15s 47ms/step - loss: 1.1520 - accuracy: 0.6432 - val_loss: 2.8876 - val_accuracy: 0.3889\n",
            "Epoch 32/50\n",
            "313/313 [==============================] - 15s 47ms/step - loss: 1.1330 - accuracy: 0.6504 - val_loss: 2.9053 - val_accuracy: 0.3900\n",
            "Epoch 33/50\n",
            "313/313 [==============================] - 15s 47ms/step - loss: 1.0935 - accuracy: 0.6637 - val_loss: 2.9547 - val_accuracy: 0.3919\n",
            "Epoch 34/50\n",
            "313/313 [==============================] - 15s 47ms/step - loss: 1.0538 - accuracy: 0.6699 - val_loss: 3.0185 - val_accuracy: 0.3847\n",
            "Epoch 35/50\n",
            "313/313 [==============================] - 15s 47ms/step - loss: 1.0411 - accuracy: 0.6755 - val_loss: 3.0312 - val_accuracy: 0.3921\n",
            "Epoch 36/50\n",
            "313/313 [==============================] - 15s 47ms/step - loss: 1.0256 - accuracy: 0.6762 - val_loss: 3.1456 - val_accuracy: 0.3883\n",
            "Epoch 37/50\n",
            "313/313 [==============================] - 15s 47ms/step - loss: 0.9824 - accuracy: 0.6898 - val_loss: 3.1537 - val_accuracy: 0.3850\n",
            "Epoch 38/50\n",
            "313/313 [==============================] - 15s 47ms/step - loss: 0.9632 - accuracy: 0.6928 - val_loss: 3.1560 - val_accuracy: 0.3903\n",
            "Epoch 39/50\n",
            "313/313 [==============================] - 15s 47ms/step - loss: 0.9576 - accuracy: 0.6987 - val_loss: 3.1740 - val_accuracy: 0.3840\n",
            "Epoch 40/50\n",
            "313/313 [==============================] - 15s 47ms/step - loss: 0.9364 - accuracy: 0.7047 - val_loss: 3.2037 - val_accuracy: 0.3870\n",
            "Epoch 41/50\n",
            "313/313 [==============================] - 15s 47ms/step - loss: 0.8937 - accuracy: 0.7134 - val_loss: 3.2420 - val_accuracy: 0.3849\n",
            "Epoch 42/50\n",
            "313/313 [==============================] - 15s 47ms/step - loss: 0.8845 - accuracy: 0.7186 - val_loss: 3.3144 - val_accuracy: 0.3819\n",
            "Epoch 43/50\n",
            "313/313 [==============================] - 15s 47ms/step - loss: 0.8622 - accuracy: 0.7209 - val_loss: 3.4019 - val_accuracy: 0.3862\n",
            "Epoch 44/50\n",
            "313/313 [==============================] - 15s 47ms/step - loss: 0.8498 - accuracy: 0.7271 - val_loss: 3.4405 - val_accuracy: 0.3845\n",
            "Epoch 45/50\n",
            "313/313 [==============================] - 15s 47ms/step - loss: 0.8295 - accuracy: 0.7310 - val_loss: 3.5084 - val_accuracy: 0.3862\n",
            "Epoch 46/50\n",
            "313/313 [==============================] - 15s 47ms/step - loss: 0.8103 - accuracy: 0.7388 - val_loss: 3.5509 - val_accuracy: 0.3776\n",
            "Epoch 47/50\n",
            "313/313 [==============================] - 15s 47ms/step - loss: 0.8100 - accuracy: 0.7393 - val_loss: 3.6442 - val_accuracy: 0.3811\n",
            "Epoch 48/50\n",
            "313/313 [==============================] - 15s 47ms/step - loss: 0.7738 - accuracy: 0.7476 - val_loss: 3.6624 - val_accuracy: 0.3862\n",
            "Epoch 49/50\n",
            "313/313 [==============================] - 15s 47ms/step - loss: 0.7834 - accuracy: 0.7467 - val_loss: 3.7215 - val_accuracy: 0.3808\n",
            "Epoch 50/50\n",
            "313/313 [==============================] - 15s 47ms/step - loss: 0.7878 - accuracy: 0.7445 - val_loss: 3.6620 - val_accuracy: 0.3835\n",
            "CPU times: user 6min 11s, sys: 3min 37s, total: 9min 48s\n",
            "Wall time: 12min 18s\n"
          ],
          "name": "stdout"
        }
      ]
    },
    {
      "cell_type": "markdown",
      "metadata": {
        "id": "FnnIyFtNKhbD"
      },
      "source": [
        "> ## 4) 학습 결과 시각화"
      ]
    },
    {
      "cell_type": "markdown",
      "metadata": {
        "id": "YgXRhVauKqOm"
      },
      "source": [
        "* Loss Visualization"
      ]
    },
    {
      "cell_type": "code",
      "metadata": {
        "id": "OQ4ke8BbKi50",
        "colab": {
          "base_uri": "https://localhost:8080/",
          "height": 404
        },
        "outputId": "4a39be6e-da61-4a9f-fc6c-b64aabd6d64b"
      },
      "source": [
        "import matplotlib.pyplot as plt\n",
        "\n",
        "epochs = range(1, len(Hist_mnist.history['loss']) + 1)\n",
        "\n",
        "plt.figure(figsize = (9, 6))\n",
        "plt.plot(epochs, Hist_mnist.history['loss'])\n",
        "plt.plot(epochs, Hist_mnist.history['val_loss'])\n",
        "# plt.ylim(0, 0.4)\n",
        "plt.title('Training & Validation Loss')\n",
        "plt.xlabel('Epochs')\n",
        "plt.ylabel('Loss')\n",
        "plt.legend(['Training Loss', 'Validation Loss'])\n",
        "plt.grid()\n",
        "plt.show()"
      ],
      "execution_count": 19,
      "outputs": [
        {
          "output_type": "display_data",
          "data": {
            "image/png": "[encoded data removed]",
            "text/plain": [
              "<Figure size 648x432 with 1 Axes>"
            ]
          },
          "metadata": {
            "tags": [],
            "needs_background": "light"
          }
        }
      ]
    },
    {
      "cell_type": "markdown",
      "metadata": {
        "id": "_uJSOLBko7lh"
      },
      "source": [
        "> ## 5) Model Evaluate"
      ]
    },
    {
      "cell_type": "markdown",
      "metadata": {
        "id": "i-TqAB2ALGzZ"
      },
      "source": [
        "* Loss & Accuracy"
      ]
    },
    {
      "cell_type": "code",
      "metadata": {
        "id": "OF30PuZsAxQJ",
        "colab": {
          "base_uri": "https://localhost:8080/"
        },
        "outputId": "2ddd6ca7-8733-4fd3-c88e-a47e90b0e646"
      },
      "source": [
        "loss, accuracy = model.evaluate(X_test, y_test)\n",
        "\n",
        "print('Loss = {:.5f}'.format(loss))\n",
        "print('Accuracy = {:.5f}'.format(accuracy))"
      ],
      "execution_count": 40,
      "outputs": [
        {
          "output_type": "stream",
          "text": [
            "313/313 [==============================] - 2s 7ms/step - loss: 3.6704 - accuracy: 0.3837\n",
            "Loss = 3.67038\n",
            "Accuracy = 0.38370\n"
          ],
          "name": "stdout"
        }
      ]
    },
    {
      "cell_type": "code",
      "metadata": {
        "colab": {
          "base_uri": "https://localhost:8080/"
        },
        "id": "WeuPBlab--el",
        "outputId": "81087479-8096-40b9-cd15-48eaf47ba307"
      },
      "source": [
        "loss, accuracy = model.evaluate(X_test, y_test)\n",
        "\n",
        "print('Loss = {:.5f}'.format(loss))\n",
        "print('Accuracy = {:.5f}'.format(accuracy))"
      ],
      "execution_count": 26,
      "outputs": [
        {
          "output_type": "stream",
          "text": [
            "313/313 [==============================] - 2s 8ms/step - loss: 3.7970 - accuracy: 0.3688\n",
            "Loss = 3.79702\n",
            "Accuracy = 0.36880\n"
          ],
          "name": "stdout"
        }
      ]
    },
    {
      "cell_type": "markdown",
      "metadata": {
        "id": "sN48I9GrLxOX"
      },
      "source": [
        "# \n",
        "# \n",
        "# \n",
        "# The End\n",
        "# \n",
        "# \n",
        "# "
      ]
    }
  ]
}