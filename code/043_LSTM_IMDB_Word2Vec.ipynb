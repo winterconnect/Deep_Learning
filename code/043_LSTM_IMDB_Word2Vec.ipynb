{
  "nbformat": 4,
  "nbformat_minor": 0,
  "metadata": {
    "colab": {
      "name": "043_LSTM_IMDB_Word2Vec.ipynb",
      "provenance": []
    },
    "kernelspec": {
      "name": "python3",
      "display_name": "Python 3"
    },
    "language_info": {
      "name": "python"
    },
    "accelerator": "GPU"
  },
  "cells": [
    {
      "cell_type": "code",
      "metadata": {
        "id": "-djdiZMWI0Qm"
      },
      "source": [
        "import warnings\n",
        "warnings.filterwarnings('ignore')"
      ],
      "execution_count": 1,
      "outputs": []
    },
    {
      "cell_type": "code",
      "metadata": {
        "id": "UOW715B2J9GH"
      },
      "source": [
        "import keras\n",
        "from keras.preprocessing.text import Tokenizer\n",
        "from keras.preprocessing.sequence import pad_sequences\n",
        "from keras import models\n",
        "from keras import layers"
      ],
      "execution_count": 2,
      "outputs": []
    },
    {
      "cell_type": "code",
      "metadata": {
        "id": "AmTA-iNjSCfN"
      },
      "source": [
        "import tensorflow_hub as hub"
      ],
      "execution_count": 3,
      "outputs": []
    },
    {
      "cell_type": "code",
      "metadata": {
        "id": "v0JxD6gMPtsj"
      },
      "source": [
        "import numpy as np\n",
        "import matplotlib.pyplot as plt"
      ],
      "execution_count": 4,
      "outputs": []
    },
    {
      "cell_type": "code",
      "metadata": {
        "id": "PXliz2M-Kwa4"
      },
      "source": [
        "import os"
      ],
      "execution_count": 5,
      "outputs": []
    },
    {
      "cell_type": "code",
      "metadata": {
        "id": "iBLogOCgJ-KG"
      },
      "source": [
        "from google.colab import drive"
      ],
      "execution_count": 6,
      "outputs": []
    },
    {
      "cell_type": "code",
      "metadata": {
        "colab": {
          "base_uri": "https://localhost:8080/"
        },
        "id": "PZ-2G6dNJ_wD",
        "outputId": "c60e72ff-d7c8-44c7-f3e3-d26b61cdb166"
      },
      "source": [
        "drive.mount('/content/drive')"
      ],
      "execution_count": 7,
      "outputs": [
        {
          "output_type": "stream",
          "text": [
            "Drive already mounted at /content/drive; to attempt to forcibly remount, call drive.mount(\"/content/drive\", force_remount=True).\n"
          ],
          "name": "stdout"
        }
      ]
    },
    {
      "cell_type": "markdown",
      "metadata": {
        "id": "OJchZcPGKe5T"
      },
      "source": [
        "## 1. IMDB Dataset"
      ]
    },
    {
      "cell_type": "markdown",
      "metadata": {
        "id": "dILbKJQXKiWS"
      },
      "source": [
        "### 1) Load IMDB Dataset"
      ]
    },
    {
      "cell_type": "code",
      "metadata": {
        "id": "wl2dwY6AKFRH"
      },
      "source": [
        "!unzip /content/drive/MyDrive/Colab\\ Notebooks/datasets/IMDB.zip"
      ],
      "execution_count": null,
      "outputs": []
    },
    {
      "cell_type": "markdown",
      "metadata": {
        "id": "5u2H3th-KoOP"
      },
      "source": [
        "### 2) 'text' and 'labels' Data\n",
        "- 'texts': 문자열 리스트(영화 감상평)\n",
        "- 'labels': 감상평 리뷰(긍정/부정)"
      ]
    },
    {
      "cell_type": "code",
      "metadata": {
        "id": "cvKUTfhfKcDm"
      },
      "source": [
        "imdb_dir = 'aclImdb'\n",
        "train_dir = os.path.join(imdb_dir, 'train')\n",
        "\n",
        "labels = []\n",
        "texts = []\n",
        "\n",
        "for label_type in ['neg' , 'pos'] :\n",
        "  dir_name = os.path.join(train_dir, label_type)\n",
        "  for fname in os.listdir(dir_name) : \n",
        "    if fname[-4:] == '.txt':\n",
        "      f = open(os.path.join(dir_name, fname) , encoding = 'utf8')\n",
        "      texts.append(f.read())\n",
        "      f.close()\n",
        "      if label_type == 'neg':\n",
        "        labels.append(0)\n",
        "      else:\n",
        "        labels.append(1)"
      ],
      "execution_count": 8,
      "outputs": []
    },
    {
      "cell_type": "code",
      "metadata": {
        "colab": {
          "base_uri": "https://localhost:8080/"
        },
        "id": "5Jd4ngFrLpr3",
        "outputId": "0dde2c06-9985-4f03-c8d4-67f2c36e45b8"
      },
      "source": [
        "len(labels), len(texts)"
      ],
      "execution_count": 9,
      "outputs": [
        {
          "output_type": "execute_result",
          "data": {
            "text/plain": [
              "(25000, 25000)"
            ]
          },
          "metadata": {
            "tags": []
          },
          "execution_count": 9
        }
      ]
    },
    {
      "cell_type": "markdown",
      "metadata": {
        "id": "4CIIp1o6PQ0k"
      },
      "source": [
        "## 2. Tensor Transformation"
      ]
    },
    {
      "cell_type": "markdown",
      "metadata": {
        "id": "CluW98J6PcR2"
      },
      "source": [
        "### 1) X_train and X_valid: (25000, 2000)\n",
        "- vectorization\n",
        "  - (25000, 2000)"
      ]
    },
    {
      "cell_type": "code",
      "metadata": {
        "id": "Un3UeR4mOb3t"
      },
      "source": [
        "maxlen = 2000\n",
        "max_words = 10000\n",
        "\n",
        "tokenizer = Tokenizer(num_words = max_words)\n",
        "tokenizer.fit_on_texts(texts)\n",
        "\n",
        "sequences = tokenizer.texts_to_sequences(texts)"
      ],
      "execution_count": 10,
      "outputs": []
    },
    {
      "cell_type": "code",
      "metadata": {
        "colab": {
          "base_uri": "https://localhost:8080/"
        },
        "id": "F_6A8AypQHY9",
        "outputId": "50bf4194-1fb1-45a1-d3ed-2721c74694c6"
      },
      "source": [
        "word_index = tokenizer.word_index\n",
        "print('고유 토큰 수: ' , len(word_index))"
      ],
      "execution_count": 11,
      "outputs": [
        {
          "output_type": "stream",
          "text": [
            "고유 토큰 수:  88582\n"
          ],
          "name": "stdout"
        }
      ]
    },
    {
      "cell_type": "code",
      "metadata": {
        "colab": {
          "base_uri": "https://localhost:8080/"
        },
        "id": "ONj5NzhRQIlQ",
        "outputId": "939cadda-efcf-4242-f1b1-03653a8ff032"
      },
      "source": [
        "# padding\n",
        "data = pad_sequences(sequences, maxlen = maxlen)\n",
        "labels = np.asarray(labels)\n",
        "\n",
        "print('데이터 텐서 크기: ' , data.shape)\n",
        "print('레이블 텐서 크기: ' , labels.shape)"
      ],
      "execution_count": 12,
      "outputs": [
        {
          "output_type": "stream",
          "text": [
            "데이터 텐서 크기:  (25000, 2000)\n",
            "레이블 텐서 크기:  (25000,)\n"
          ],
          "name": "stdout"
        }
      ]
    },
    {
      "cell_type": "code",
      "metadata": {
        "id": "MGrkwSsqQVsG"
      },
      "source": [
        "# random sampling\n",
        "indices = np.arange(data.shape[0])\n",
        "np.random.shuffle(indices)\n",
        "data = data[indices]\n",
        "labels = labels[indices]"
      ],
      "execution_count": 13,
      "outputs": []
    },
    {
      "cell_type": "code",
      "metadata": {
        "id": "cf0uK5jURbN8"
      },
      "source": [
        "# train_validation_split\n",
        "training_samples = 20000\n",
        "validation_samples = 5000\n",
        "\n",
        "X_train = data[:training_samples]\n",
        "y_train = labels[:training_samples]\n",
        "X_valid = data[training_samples : training_samples + validation_samples]\n",
        "y_valid = labels[training_samples : training_samples + validation_samples]"
      ],
      "execution_count": 14,
      "outputs": []
    },
    {
      "cell_type": "markdown",
      "metadata": {
        "id": "yuNxSZ6LR7gz"
      },
      "source": [
        "## 3. Word2Vec"
      ]
    },
    {
      "cell_type": "markdown",
      "metadata": {
        "id": "RCvZniogR-TT"
      },
      "source": [
        "### 1) Load pretrained Word2Vec"
      ]
    },
    {
      "cell_type": "code",
      "metadata": {
        "id": "BIGvE7euR3Vh"
      },
      "source": [
        "embedding_index = hub.load('https://tfhub.dev/google/Wiki-words-250/2')"
      ],
      "execution_count": 15,
      "outputs": []
    },
    {
      "cell_type": "code",
      "metadata": {
        "colab": {
          "base_uri": "https://localhost:8080/"
        },
        "id": "d99iXLkMSM0R",
        "outputId": "7351baa9-3839-43fd-eb3d-77e8db32aec0"
      },
      "source": [
        "embedding_index(['apple'])"
      ],
      "execution_count": 16,
      "outputs": [
        {
          "output_type": "execute_result",
          "data": {
            "text/plain": [
              "<tf.Tensor: shape=(1, 250), dtype=float32, numpy=\n",
              "array([[-7.81319588e-02, -7.97718316e-02,  1.65636316e-02,\n",
              "        -1.08001232e-02, -5.10360440e-03,  1.73767412e-03,\n",
              "        -5.22104278e-02, -3.89753021e-02,  3.56903672e-02,\n",
              "        -3.47909741e-02, -1.01491222e-02,  1.17565657e-03,\n",
              "         1.01802059e-01,  1.75360963e-02,  3.36469710e-02,\n",
              "         2.79656947e-02,  9.57141817e-02, -7.82085657e-02,\n",
              "         5.06314561e-02, -1.66016668e-01,  2.88206208e-02,\n",
              "         6.76635057e-02,  9.70917642e-02,  1.79236010e-02,\n",
              "        -5.42766303e-02, -1.56506345e-01, -5.30809052e-02,\n",
              "        -1.09254161e-03, -1.59554277e-02, -6.70691356e-02,\n",
              "         6.15172908e-02,  4.47090678e-02,  4.07696068e-02,\n",
              "        -3.83969024e-02,  6.96176291e-02, -5.60147781e-03,\n",
              "        -2.26747449e-02, -3.67878452e-02, -5.66431917e-02,\n",
              "        -2.18681507e-02, -8.86453837e-02, -2.22746611e-01,\n",
              "        -2.07957737e-02,  8.30694276e-04, -3.93166617e-02,\n",
              "         5.93367852e-02,  4.33623493e-02,  2.82799695e-02,\n",
              "        -3.33397463e-02,  4.76312377e-02, -1.70567650e-02,\n",
              "        -2.29284037e-02, -6.83813961e-03,  9.81669277e-02,\n",
              "         1.08622149e-01,  2.33869702e-02,  9.60301422e-03,\n",
              "        -5.18808290e-02,  9.87230614e-03, -8.69225897e-03,\n",
              "        -7.11247921e-02,  7.64381886e-02, -2.43284814e-02,\n",
              "        -1.53728379e-02, -1.62205976e-02,  6.06783573e-03,\n",
              "        -7.78824538e-02, -4.63543087e-02, -6.10455871e-02,\n",
              "         3.76226790e-02, -3.59688103e-02, -2.22809706e-03,\n",
              "         7.61934593e-02, -5.42140864e-02,  8.81553534e-03,\n",
              "         1.02721518e-02, -2.33051814e-02,  5.69647923e-02,\n",
              "        -1.97233241e-02,  5.40813841e-02, -1.06068708e-01,\n",
              "        -4.93893884e-02,  7.71986991e-02,  7.54192844e-02,\n",
              "        -9.59494933e-02,  1.31888255e-01, -9.32045653e-02,\n",
              "         3.91011648e-02,  9.07641053e-02, -1.92628205e-02,\n",
              "        -2.80017368e-02,  1.24782704e-01, -4.39715805e-03,\n",
              "        -6.76676631e-02,  4.82756756e-02, -8.52152854e-02,\n",
              "         2.47792583e-02, -1.15225026e-02, -5.91450334e-02,\n",
              "         5.01944311e-02,  6.20031133e-02, -5.91100939e-02,\n",
              "        -6.27844781e-02,  1.29692315e-03, -1.05377071e-01,\n",
              "        -9.93670970e-02,  3.99318524e-05,  1.49191227e-02,\n",
              "         4.78936266e-03, -1.33457212e-02,  3.32747735e-02,\n",
              "         1.46604422e-02,  4.45817932e-02, -6.77856291e-03,\n",
              "         8.64909738e-02, -5.00659496e-02,  6.05830625e-02,\n",
              "        -5.85512519e-02, -7.41328374e-02, -4.07381281e-02,\n",
              "        -4.62190509e-02, -2.91668661e-02, -4.27213088e-02,\n",
              "        -8.50341916e-02, -7.91059509e-02, -6.71506599e-02,\n",
              "         1.28828017e-02, -1.12139061e-02, -2.05859430e-02,\n",
              "         2.96257101e-02, -1.02398887e-01, -7.77662396e-02,\n",
              "        -1.40929092e-02, -9.11662430e-02, -6.77241236e-02,\n",
              "        -7.13218153e-02, -2.31174957e-02, -5.25913984e-02,\n",
              "         5.41850226e-03,  4.89527360e-02, -1.23757459e-02,\n",
              "         9.59252100e-03, -2.92501189e-02,  6.46212921e-02,\n",
              "        -6.40202463e-02,  1.71411615e-02, -1.26278475e-01,\n",
              "         6.52319491e-02, -6.71177506e-02, -1.82377342e-02,\n",
              "         1.48606636e-02,  5.96186668e-02, -3.32654566e-02,\n",
              "         1.99540146e-03, -5.77870682e-02,  5.53884953e-02,\n",
              "         1.13689369e-02, -7.79620459e-05, -5.87577112e-02,\n",
              "         7.56517053e-02,  4.84508127e-02, -3.61890532e-02,\n",
              "        -1.79408665e-03,  2.08812468e-02,  2.92749479e-02,\n",
              "        -9.95378569e-02, -2.77001262e-02,  1.80020705e-02,\n",
              "         2.97355093e-02, -1.23234659e-01, -5.09306304e-02,\n",
              "        -3.30761299e-02, -5.26242852e-02, -3.00878249e-02,\n",
              "        -3.25103439e-02,  1.60111822e-02,  3.44622023e-02,\n",
              "         5.15305474e-02, -1.93752497e-02,  1.57669075e-02,\n",
              "        -3.71751264e-02, -5.06176986e-02,  2.44201999e-02,\n",
              "        -1.51907057e-01,  2.39913464e-02, -1.13003314e-01,\n",
              "         1.30787894e-01, -4.54162620e-02, -9.83388200e-02,\n",
              "        -1.24397818e-02,  5.24396077e-02, -1.16456941e-01,\n",
              "         3.62680256e-02,  1.95654272e-03, -1.14642255e-01,\n",
              "        -8.16667303e-02,  7.88934752e-02, -1.04228251e-01,\n",
              "        -6.75295442e-02, -6.10613637e-02, -8.38295445e-02,\n",
              "        -1.31067276e-01,  4.69972305e-02,  3.72825861e-02,\n",
              "        -4.98914123e-02,  8.17808285e-02,  3.24426554e-02,\n",
              "        -1.22130230e-01,  3.11189927e-02, -7.21874386e-02,\n",
              "        -1.13061234e-01,  1.23376660e-02,  7.12911040e-02,\n",
              "        -4.75360453e-02,  4.95079681e-02,  1.43659227e-02,\n",
              "        -4.67221104e-02, -1.09122954e-01, -1.99307594e-03,\n",
              "        -3.16081159e-02,  5.52820191e-02,  6.98578060e-02,\n",
              "         3.89518999e-02,  1.15182936e-01,  2.25902516e-02,\n",
              "         2.15961877e-02, -1.35523528e-02,  8.84871632e-02,\n",
              "         2.74604987e-02,  5.00014126e-02,  3.15750227e-03,\n",
              "        -6.46323934e-02, -7.36401677e-02, -9.05453321e-03,\n",
              "        -2.28001043e-01,  4.16552834e-02, -7.54309520e-02,\n",
              "         2.18629744e-02,  5.21304719e-02,  7.64516816e-02,\n",
              "         7.53603727e-02, -1.03571914e-01,  1.18187003e-01,\n",
              "         2.14495473e-02,  4.93886471e-02, -2.27750335e-02,\n",
              "         3.69624197e-02,  5.50020039e-02, -1.24344015e-02,\n",
              "         1.29382275e-02]], dtype=float32)>"
            ]
          },
          "metadata": {
            "tags": []
          },
          "execution_count": 16
        }
      ]
    },
    {
      "cell_type": "markdown",
      "metadata": {
        "id": "-gllz86NSRpy"
      },
      "source": [
        "### 2) 임베딩 행렬 생성\n",
        "- (10000, 250)"
      ]
    },
    {
      "cell_type": "code",
      "metadata": {
        "id": "PnysVxX_SWG4"
      },
      "source": [
        "embedding_dim = 250\n",
        "embedding_matrix = np.zeros((max_words, embedding_dim))\n",
        "\n",
        "for word, i in word_index.items():\n",
        "  embedding_vector = embedding_index([word])\n",
        "  if i < max_words:\n",
        "    if embedding_vector is not None:\n",
        "      embedding_matrix[i] = embedding_vector"
      ],
      "execution_count": 17,
      "outputs": []
    },
    {
      "cell_type": "code",
      "metadata": {
        "colab": {
          "base_uri": "https://localhost:8080/"
        },
        "id": "ngtyd850SvVp",
        "outputId": "606395ce-ca12-4836-b64a-264a9d63cc3c"
      },
      "source": [
        "embedding_matrix.shape"
      ],
      "execution_count": 18,
      "outputs": [
        {
          "output_type": "execute_result",
          "data": {
            "text/plain": [
              "(10000, 250)"
            ]
          },
          "metadata": {
            "tags": []
          },
          "execution_count": 18
        }
      ]
    },
    {
      "cell_type": "markdown",
      "metadata": {
        "id": "zCtOwODcSydI"
      },
      "source": [
        "## 4. Keras Embedding Modeling"
      ]
    },
    {
      "cell_type": "markdown",
      "metadata": {
        "id": "6I5KYLEqS03m"
      },
      "source": [
        "### 1) Model Define\n",
        "- 모델 신경망 구조 정의\n",
        "  - Embedding Dimension: 250"
      ]
    },
    {
      "cell_type": "code",
      "metadata": {
        "id": "7UjpS1vuSxXQ"
      },
      "source": [
        "imdb = models.Sequential()\n",
        "\n",
        "imdb.add(layers.Embedding(max_words,\n",
        "                          embedding_dim,\n",
        "                          input_length = maxlen))\n",
        "imdb.add(layers.LSTM(16))\n",
        "imdb.add(layers.Dropout(0.5))\n",
        "imdb.add(layers.Dense(1, activation = 'sigmoid'))"
      ],
      "execution_count": 19,
      "outputs": []
    },
    {
      "cell_type": "code",
      "metadata": {
        "id": "T728I4NlTYjH"
      },
      "source": [
        "imdb.layers[0].set_weights([embedding_matrix])\n",
        "imdb.layers[0].trainable = False"
      ],
      "execution_count": 20,
      "outputs": []
    },
    {
      "cell_type": "code",
      "metadata": {
        "colab": {
          "base_uri": "https://localhost:8080/"
        },
        "id": "6YOWqJkATf8C",
        "outputId": "47ca6e98-293f-41c0-962e-032ad6637b80"
      },
      "source": [
        "imdb.summary()"
      ],
      "execution_count": 21,
      "outputs": [
        {
          "output_type": "stream",
          "text": [
            "Model: \"sequential\"\n",
            "_________________________________________________________________\n",
            "Layer (type)                 Output Shape              Param #   \n",
            "=================================================================\n",
            "embedding (Embedding)        (None, 2000, 250)         2500000   \n",
            "_________________________________________________________________\n",
            "lstm (LSTM)                  (None, 16)                17088     \n",
            "_________________________________________________________________\n",
            "dropout (Dropout)            (None, 16)                0         \n",
            "_________________________________________________________________\n",
            "dense (Dense)                (None, 1)                 17        \n",
            "=================================================================\n",
            "Total params: 2,517,105\n",
            "Trainable params: 17,105\n",
            "Non-trainable params: 2,500,000\n",
            "_________________________________________________________________\n"
          ],
          "name": "stdout"
        }
      ]
    },
    {
      "cell_type": "code",
      "metadata": {
        "id": "QbzM4f7iTkAj"
      },
      "source": [
        "imdb.compile(loss = 'binary_crossentropy',\n",
        "             optimizer = 'adam',\n",
        "             metrics = ['accuracy'])"
      ],
      "execution_count": 22,
      "outputs": []
    },
    {
      "cell_type": "code",
      "metadata": {
        "colab": {
          "base_uri": "https://localhost:8080/"
        },
        "id": "D4tHhjbgTp3g",
        "outputId": "ddafb649-e9ac-4c63-9e32-8bea55781c90"
      },
      "source": [
        "%%time\n",
        "\n",
        "hist_imdb = imdb.fit(X_train, y_train,\n",
        "                     epochs = 100,\n",
        "                     batch_size = 512,\n",
        "                     validation_data = (X_valid, y_valid))"
      ],
      "execution_count": 23,
      "outputs": [
        {
          "output_type": "stream",
          "text": [
            "Epoch 1/100\n",
            "40/40 [==============================] - 18s 354ms/step - loss: 0.6922 - accuracy: 0.5217 - val_loss: 0.6764 - val_accuracy: 0.5982\n",
            "Epoch 2/100\n",
            "40/40 [==============================] - 13s 334ms/step - loss: 0.6546 - accuracy: 0.6336 - val_loss: 0.5674 - val_accuracy: 0.7298\n",
            "Epoch 3/100\n",
            "40/40 [==============================] - 13s 334ms/step - loss: 0.5978 - accuracy: 0.7074 - val_loss: 0.5510 - val_accuracy: 0.7404\n",
            "Epoch 4/100\n",
            "40/40 [==============================] - 13s 335ms/step - loss: 0.5478 - accuracy: 0.7468 - val_loss: 0.5180 - val_accuracy: 0.7626\n",
            "Epoch 5/100\n",
            "40/40 [==============================] - 13s 335ms/step - loss: 0.5212 - accuracy: 0.7640 - val_loss: 0.5059 - val_accuracy: 0.7608\n",
            "Epoch 6/100\n",
            "40/40 [==============================] - 13s 336ms/step - loss: 0.5094 - accuracy: 0.7693 - val_loss: 0.5205 - val_accuracy: 0.7494\n",
            "Epoch 7/100\n",
            "40/40 [==============================] - 13s 335ms/step - loss: 0.5099 - accuracy: 0.7650 - val_loss: 0.4762 - val_accuracy: 0.7786\n",
            "Epoch 8/100\n",
            "40/40 [==============================] - 13s 336ms/step - loss: 0.4900 - accuracy: 0.7797 - val_loss: 0.4684 - val_accuracy: 0.7826\n",
            "Epoch 9/100\n",
            "40/40 [==============================] - 13s 335ms/step - loss: 0.4876 - accuracy: 0.7780 - val_loss: 0.4677 - val_accuracy: 0.7818\n",
            "Epoch 10/100\n",
            "40/40 [==============================] - 13s 334ms/step - loss: 0.4824 - accuracy: 0.7827 - val_loss: 0.4424 - val_accuracy: 0.7972\n",
            "Epoch 11/100\n",
            "40/40 [==============================] - 13s 335ms/step - loss: 0.4531 - accuracy: 0.8000 - val_loss: 0.4742 - val_accuracy: 0.7796\n",
            "Epoch 12/100\n",
            "40/40 [==============================] - 13s 335ms/step - loss: 0.4518 - accuracy: 0.8003 - val_loss: 0.4485 - val_accuracy: 0.7946\n",
            "Epoch 13/100\n",
            "40/40 [==============================] - 13s 336ms/step - loss: 0.4610 - accuracy: 0.7965 - val_loss: 0.4814 - val_accuracy: 0.7852\n",
            "Epoch 14/100\n",
            "40/40 [==============================] - 14s 342ms/step - loss: 0.5018 - accuracy: 0.7764 - val_loss: 0.4430 - val_accuracy: 0.7992\n",
            "Epoch 15/100\n",
            "40/40 [==============================] - 13s 337ms/step - loss: 0.4431 - accuracy: 0.8082 - val_loss: 0.4494 - val_accuracy: 0.7938\n",
            "Epoch 16/100\n",
            "40/40 [==============================] - 13s 338ms/step - loss: 0.4455 - accuracy: 0.8019 - val_loss: 0.4180 - val_accuracy: 0.8140\n",
            "Epoch 17/100\n",
            "40/40 [==============================] - 13s 337ms/step - loss: 0.4240 - accuracy: 0.8172 - val_loss: 0.4450 - val_accuracy: 0.7894\n",
            "Epoch 18/100\n",
            "40/40 [==============================] - 13s 337ms/step - loss: 0.4370 - accuracy: 0.8059 - val_loss: 0.5334 - val_accuracy: 0.7432\n",
            "Epoch 19/100\n",
            "40/40 [==============================] - 13s 337ms/step - loss: 0.4562 - accuracy: 0.7892 - val_loss: 0.4415 - val_accuracy: 0.8122\n",
            "Epoch 20/100\n",
            "40/40 [==============================] - 13s 338ms/step - loss: 0.4321 - accuracy: 0.8154 - val_loss: 0.4122 - val_accuracy: 0.8166\n",
            "Epoch 21/100\n",
            "40/40 [==============================] - 13s 337ms/step - loss: 0.4217 - accuracy: 0.8196 - val_loss: 0.4158 - val_accuracy: 0.8140\n",
            "Epoch 22/100\n",
            "40/40 [==============================] - 13s 337ms/step - loss: 0.4124 - accuracy: 0.8265 - val_loss: 0.4145 - val_accuracy: 0.8194\n",
            "Epoch 23/100\n",
            "40/40 [==============================] - 13s 336ms/step - loss: 0.4163 - accuracy: 0.8205 - val_loss: 0.4103 - val_accuracy: 0.8224\n",
            "Epoch 24/100\n",
            "40/40 [==============================] - 13s 336ms/step - loss: 0.4233 - accuracy: 0.8168 - val_loss: 0.4839 - val_accuracy: 0.7666\n",
            "Epoch 25/100\n",
            "40/40 [==============================] - 13s 333ms/step - loss: 0.4401 - accuracy: 0.8033 - val_loss: 0.4101 - val_accuracy: 0.8224\n",
            "Epoch 26/100\n",
            "40/40 [==============================] - 13s 335ms/step - loss: 0.4131 - accuracy: 0.8203 - val_loss: 0.4229 - val_accuracy: 0.8196\n",
            "Epoch 27/100\n",
            "40/40 [==============================] - 13s 336ms/step - loss: 0.4059 - accuracy: 0.8261 - val_loss: 0.4414 - val_accuracy: 0.8028\n",
            "Epoch 28/100\n",
            "40/40 [==============================] - 13s 336ms/step - loss: 0.4141 - accuracy: 0.8198 - val_loss: 0.4658 - val_accuracy: 0.7798\n",
            "Epoch 29/100\n",
            "40/40 [==============================] - 13s 336ms/step - loss: 0.4325 - accuracy: 0.8095 - val_loss: 0.3871 - val_accuracy: 0.8332\n",
            "Epoch 30/100\n",
            "40/40 [==============================] - 13s 336ms/step - loss: 0.4034 - accuracy: 0.8289 - val_loss: 0.3937 - val_accuracy: 0.8290\n",
            "Epoch 31/100\n",
            "40/40 [==============================] - 13s 336ms/step - loss: 0.4108 - accuracy: 0.8249 - val_loss: 0.4299 - val_accuracy: 0.8116\n",
            "Epoch 32/100\n",
            "40/40 [==============================] - 13s 336ms/step - loss: 0.4276 - accuracy: 0.8139 - val_loss: 0.4249 - val_accuracy: 0.8090\n",
            "Epoch 33/100\n",
            "40/40 [==============================] - 13s 335ms/step - loss: 0.4067 - accuracy: 0.8259 - val_loss: 0.4159 - val_accuracy: 0.8254\n",
            "Epoch 34/100\n",
            "40/40 [==============================] - 13s 335ms/step - loss: 0.4065 - accuracy: 0.8311 - val_loss: 0.3874 - val_accuracy: 0.8328\n",
            "Epoch 35/100\n",
            "40/40 [==============================] - 13s 335ms/step - loss: 0.3976 - accuracy: 0.8310 - val_loss: 0.3802 - val_accuracy: 0.8370\n",
            "Epoch 36/100\n",
            "40/40 [==============================] - 13s 336ms/step - loss: 0.3866 - accuracy: 0.8363 - val_loss: 0.3839 - val_accuracy: 0.8342\n",
            "Epoch 37/100\n",
            "40/40 [==============================] - 13s 335ms/step - loss: 0.3888 - accuracy: 0.8354 - val_loss: 0.4050 - val_accuracy: 0.8176\n",
            "Epoch 38/100\n",
            "40/40 [==============================] - 13s 336ms/step - loss: 0.3998 - accuracy: 0.8248 - val_loss: 0.3843 - val_accuracy: 0.8354\n",
            "Epoch 39/100\n",
            "40/40 [==============================] - 13s 336ms/step - loss: 0.3849 - accuracy: 0.8385 - val_loss: 0.3777 - val_accuracy: 0.8414\n",
            "Epoch 40/100\n",
            "40/40 [==============================] - 13s 335ms/step - loss: 0.3912 - accuracy: 0.8313 - val_loss: 0.3737 - val_accuracy: 0.8404\n",
            "Epoch 41/100\n",
            "40/40 [==============================] - 13s 335ms/step - loss: 0.3904 - accuracy: 0.8312 - val_loss: 0.3864 - val_accuracy: 0.8274\n",
            "Epoch 42/100\n",
            "40/40 [==============================] - 13s 336ms/step - loss: 0.4088 - accuracy: 0.8261 - val_loss: 0.3829 - val_accuracy: 0.8352\n",
            "Epoch 43/100\n",
            "40/40 [==============================] - 13s 336ms/step - loss: 0.3957 - accuracy: 0.8293 - val_loss: 0.3778 - val_accuracy: 0.8394\n",
            "Epoch 44/100\n",
            "40/40 [==============================] - 13s 335ms/step - loss: 0.3875 - accuracy: 0.8375 - val_loss: 0.5100 - val_accuracy: 0.7850\n",
            "Epoch 45/100\n",
            "40/40 [==============================] - 13s 335ms/step - loss: 0.4227 - accuracy: 0.8185 - val_loss: 0.4088 - val_accuracy: 0.8272\n",
            "Epoch 46/100\n",
            "40/40 [==============================] - 13s 336ms/step - loss: 0.3870 - accuracy: 0.8404 - val_loss: 0.3924 - val_accuracy: 0.8372\n",
            "Epoch 47/100\n",
            "40/40 [==============================] - 13s 335ms/step - loss: 0.3949 - accuracy: 0.8383 - val_loss: 0.3679 - val_accuracy: 0.8420\n",
            "Epoch 48/100\n",
            "40/40 [==============================] - 13s 335ms/step - loss: 0.3809 - accuracy: 0.8401 - val_loss: 0.3716 - val_accuracy: 0.8406\n",
            "Epoch 49/100\n",
            "40/40 [==============================] - 13s 336ms/step - loss: 0.3878 - accuracy: 0.8327 - val_loss: 0.3772 - val_accuracy: 0.8402\n",
            "Epoch 50/100\n",
            "40/40 [==============================] - 13s 336ms/step - loss: 0.3809 - accuracy: 0.8369 - val_loss: 0.3982 - val_accuracy: 0.8292\n",
            "Epoch 51/100\n",
            "40/40 [==============================] - 13s 336ms/step - loss: 0.3967 - accuracy: 0.8340 - val_loss: 0.3651 - val_accuracy: 0.8444\n",
            "Epoch 52/100\n",
            "40/40 [==============================] - 13s 335ms/step - loss: 0.3660 - accuracy: 0.8491 - val_loss: 0.3633 - val_accuracy: 0.8460\n",
            "Epoch 53/100\n",
            "40/40 [==============================] - 13s 335ms/step - loss: 0.3683 - accuracy: 0.8458 - val_loss: 0.3888 - val_accuracy: 0.8334\n",
            "Epoch 54/100\n",
            "40/40 [==============================] - 13s 337ms/step - loss: 0.3732 - accuracy: 0.8436 - val_loss: 0.3608 - val_accuracy: 0.8442\n",
            "Epoch 55/100\n",
            "40/40 [==============================] - 13s 336ms/step - loss: 0.3688 - accuracy: 0.8472 - val_loss: 0.3783 - val_accuracy: 0.8394\n",
            "Epoch 56/100\n",
            "40/40 [==============================] - 13s 336ms/step - loss: 0.3716 - accuracy: 0.8442 - val_loss: 0.3663 - val_accuracy: 0.8444\n",
            "Epoch 57/100\n",
            "40/40 [==============================] - 13s 335ms/step - loss: 0.3674 - accuracy: 0.8471 - val_loss: 0.3624 - val_accuracy: 0.8464\n",
            "Epoch 58/100\n",
            "40/40 [==============================] - 13s 336ms/step - loss: 0.3620 - accuracy: 0.8507 - val_loss: 0.4373 - val_accuracy: 0.8108\n",
            "Epoch 59/100\n",
            "40/40 [==============================] - 13s 336ms/step - loss: 0.3947 - accuracy: 0.8338 - val_loss: 0.3580 - val_accuracy: 0.8474\n",
            "Epoch 60/100\n",
            "40/40 [==============================] - 13s 335ms/step - loss: 0.3646 - accuracy: 0.8485 - val_loss: 0.3608 - val_accuracy: 0.8478\n",
            "Epoch 61/100\n",
            "40/40 [==============================] - 13s 337ms/step - loss: 0.3698 - accuracy: 0.8429 - val_loss: 0.3782 - val_accuracy: 0.8392\n",
            "Epoch 62/100\n",
            "40/40 [==============================] - 13s 335ms/step - loss: 0.3697 - accuracy: 0.8415 - val_loss: 0.4030 - val_accuracy: 0.8260\n",
            "Epoch 63/100\n",
            "40/40 [==============================] - 13s 334ms/step - loss: 0.3739 - accuracy: 0.8403 - val_loss: 0.3570 - val_accuracy: 0.8510\n",
            "Epoch 64/100\n",
            "40/40 [==============================] - 13s 336ms/step - loss: 0.3742 - accuracy: 0.8425 - val_loss: 0.3545 - val_accuracy: 0.8514\n",
            "Epoch 65/100\n",
            "40/40 [==============================] - 13s 335ms/step - loss: 0.3598 - accuracy: 0.8493 - val_loss: 0.3736 - val_accuracy: 0.8458\n",
            "Epoch 66/100\n",
            "40/40 [==============================] - 13s 336ms/step - loss: 0.3682 - accuracy: 0.8452 - val_loss: 0.3650 - val_accuracy: 0.8448\n",
            "Epoch 67/100\n",
            "40/40 [==============================] - 13s 336ms/step - loss: 0.3622 - accuracy: 0.8485 - val_loss: 0.3767 - val_accuracy: 0.8314\n",
            "Epoch 68/100\n",
            "40/40 [==============================] - 13s 335ms/step - loss: 0.3577 - accuracy: 0.8481 - val_loss: 0.3601 - val_accuracy: 0.8498\n",
            "Epoch 69/100\n",
            "40/40 [==============================] - 13s 335ms/step - loss: 0.3632 - accuracy: 0.8499 - val_loss: 0.3724 - val_accuracy: 0.8400\n",
            "Epoch 70/100\n",
            "40/40 [==============================] - 13s 336ms/step - loss: 0.3594 - accuracy: 0.8470 - val_loss: 0.4286 - val_accuracy: 0.8152\n",
            "Epoch 71/100\n",
            "40/40 [==============================] - 13s 336ms/step - loss: 0.3905 - accuracy: 0.8318 - val_loss: 0.3487 - val_accuracy: 0.8522\n",
            "Epoch 72/100\n",
            "40/40 [==============================] - 13s 336ms/step - loss: 0.3564 - accuracy: 0.8538 - val_loss: 0.3657 - val_accuracy: 0.8514\n",
            "Epoch 73/100\n",
            "40/40 [==============================] - 13s 336ms/step - loss: 0.3601 - accuracy: 0.8495 - val_loss: 0.3506 - val_accuracy: 0.8546\n",
            "Epoch 74/100\n",
            "40/40 [==============================] - 13s 336ms/step - loss: 0.3581 - accuracy: 0.8522 - val_loss: 0.3491 - val_accuracy: 0.8540\n",
            "Epoch 75/100\n",
            "40/40 [==============================] - 13s 335ms/step - loss: 0.3428 - accuracy: 0.8593 - val_loss: 0.3460 - val_accuracy: 0.8568\n",
            "Epoch 76/100\n",
            "40/40 [==============================] - 13s 338ms/step - loss: 0.3497 - accuracy: 0.8586 - val_loss: 0.3468 - val_accuracy: 0.8582\n",
            "Epoch 77/100\n",
            "40/40 [==============================] - 13s 335ms/step - loss: 0.3611 - accuracy: 0.8502 - val_loss: 0.3966 - val_accuracy: 0.8264\n",
            "Epoch 78/100\n",
            "40/40 [==============================] - 13s 336ms/step - loss: 0.3841 - accuracy: 0.8377 - val_loss: 0.3448 - val_accuracy: 0.8602\n",
            "Epoch 79/100\n",
            "40/40 [==============================] - 13s 335ms/step - loss: 0.3539 - accuracy: 0.8520 - val_loss: 0.3458 - val_accuracy: 0.8556\n",
            "Epoch 80/100\n",
            "40/40 [==============================] - 13s 334ms/step - loss: 0.3576 - accuracy: 0.8507 - val_loss: 0.3509 - val_accuracy: 0.8544\n",
            "Epoch 81/100\n",
            "40/40 [==============================] - 13s 335ms/step - loss: 0.3488 - accuracy: 0.8528 - val_loss: 0.3802 - val_accuracy: 0.8288\n",
            "Epoch 82/100\n",
            "40/40 [==============================] - 13s 335ms/step - loss: 0.3536 - accuracy: 0.8508 - val_loss: 0.3408 - val_accuracy: 0.8618\n",
            "Epoch 83/100\n",
            "40/40 [==============================] - 13s 335ms/step - loss: 0.3457 - accuracy: 0.8584 - val_loss: 0.4821 - val_accuracy: 0.7870\n",
            "Epoch 84/100\n",
            "40/40 [==============================] - 13s 336ms/step - loss: 0.4047 - accuracy: 0.8207 - val_loss: 0.3505 - val_accuracy: 0.8586\n",
            "Epoch 85/100\n",
            "40/40 [==============================] - 13s 336ms/step - loss: 0.3541 - accuracy: 0.8524 - val_loss: 0.3549 - val_accuracy: 0.8486\n",
            "Epoch 86/100\n",
            "40/40 [==============================] - 13s 336ms/step - loss: 0.3503 - accuracy: 0.8576 - val_loss: 0.3677 - val_accuracy: 0.8496\n",
            "Epoch 87/100\n",
            "40/40 [==============================] - 13s 335ms/step - loss: 0.3676 - accuracy: 0.8454 - val_loss: 0.3929 - val_accuracy: 0.8336\n",
            "Epoch 88/100\n",
            "40/40 [==============================] - 13s 334ms/step - loss: 0.3785 - accuracy: 0.8429 - val_loss: 0.3456 - val_accuracy: 0.8582\n",
            "Epoch 89/100\n",
            "40/40 [==============================] - 13s 336ms/step - loss: 0.3445 - accuracy: 0.8574 - val_loss: 0.3363 - val_accuracy: 0.8638\n",
            "Epoch 90/100\n",
            "40/40 [==============================] - 13s 334ms/step - loss: 0.3414 - accuracy: 0.8552 - val_loss: 0.3665 - val_accuracy: 0.8556\n",
            "Epoch 91/100\n",
            "40/40 [==============================] - 13s 337ms/step - loss: 0.3495 - accuracy: 0.8571 - val_loss: 0.3337 - val_accuracy: 0.8614\n",
            "Epoch 92/100\n",
            "40/40 [==============================] - 13s 335ms/step - loss: 0.3480 - accuracy: 0.8552 - val_loss: 0.4116 - val_accuracy: 0.8218\n",
            "Epoch 93/100\n",
            "40/40 [==============================] - 13s 335ms/step - loss: 0.3579 - accuracy: 0.8469 - val_loss: 0.3555 - val_accuracy: 0.8536\n",
            "Epoch 94/100\n",
            "40/40 [==============================] - 13s 335ms/step - loss: 0.3518 - accuracy: 0.8520 - val_loss: 0.3364 - val_accuracy: 0.8596\n",
            "Epoch 95/100\n",
            "40/40 [==============================] - 13s 335ms/step - loss: 0.3389 - accuracy: 0.8600 - val_loss: 0.3324 - val_accuracy: 0.8660\n",
            "Epoch 96/100\n",
            "40/40 [==============================] - 13s 335ms/step - loss: 0.3300 - accuracy: 0.8673 - val_loss: 0.3534 - val_accuracy: 0.8532\n",
            "Epoch 97/100\n",
            "40/40 [==============================] - 13s 335ms/step - loss: 0.3328 - accuracy: 0.8652 - val_loss: 0.3600 - val_accuracy: 0.8446\n",
            "Epoch 98/100\n",
            "40/40 [==============================] - 13s 335ms/step - loss: 0.3458 - accuracy: 0.8596 - val_loss: 0.3651 - val_accuracy: 0.8452\n",
            "Epoch 99/100\n",
            "40/40 [==============================] - 13s 334ms/step - loss: 0.3526 - accuracy: 0.8549 - val_loss: 0.3637 - val_accuracy: 0.8384\n",
            "Epoch 100/100\n",
            "40/40 [==============================] - 13s 334ms/step - loss: 0.3512 - accuracy: 0.8514 - val_loss: 0.3372 - val_accuracy: 0.8626\n",
            "CPU times: user 21min 29s, sys: 1min 18s, total: 22min 48s\n",
            "Wall time: 22min 21s\n"
          ],
          "name": "stdout"
        }
      ]
    },
    {
      "cell_type": "markdown",
      "metadata": {
        "id": "WJZZOrBETzFY"
      },
      "source": [
        "### 2) Visualization"
      ]
    },
    {
      "cell_type": "code",
      "metadata": {
        "id": "s5oO8M8gTyax"
      },
      "source": [
        "epochs = range(1, len(hist_imdb.history['accuracy']) + 1)\n",
        "\n",
        "plt.figure(figsize = (9, 6))\n",
        "plt.plot(epochs, hist_imdb.history['accuracy'])\n",
        "plt.plot(epochs, hist_imdb.history['val_accuracy'])\n",
        "plt.title('Training & Validation Accuracy')\n",
        "plt.xlabel('Epochs')\n",
        "plt.ylabel('Accuracy')\n",
        "plt.legend(['Training Accuracy' , 'Validation Accuracy'])\n",
        "plt.grid()\n",
        "plt.show()"
      ],
      "execution_count": null,
      "outputs": []
    },
    {
      "cell_type": "markdown",
      "metadata": {
        "id": "oZqPbtw0UuFj"
      },
      "source": [
        "### 3) Model Evaluate\n",
        "- Loss & Accuracy"
      ]
    },
    {
      "cell_type": "code",
      "metadata": {
        "id": "O-FNdbK2Uxfd"
      },
      "source": [
        "loss, accuracy = imdb.evaluate(X_valid, y_valid)\n",
        "\n",
        "print('Loss = {:.5f}' .format(loss))\n",
        "print('Accuracy = {:.5f}' .format(accuracy))"
      ],
      "execution_count": null,
      "outputs": []
    }
  ]
}