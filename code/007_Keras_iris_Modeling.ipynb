{
  "nbformat": 4,
  "nbformat_minor": 0,
  "metadata": {
    "colab": {
      "name": "007_Keras_iris_Modeling.ipynb",
      "provenance": [],
      "collapsed_sections": []
    },
    "kernelspec": {
      "name": "python3",
      "display_name": "Python 3"
    }
  },
  "cells": [
    {
      "cell_type": "code",
      "metadata": {
        "id": "k2bfl4-oAecQ"
      },
      "source": [
        "import warnings\n",
        "warnings.filterwarnings('ignore')"
      ],
      "execution_count": 2,
      "outputs": []
    },
    {
      "cell_type": "code",
      "metadata": {
        "id": "8X_6DfF3Aj77"
      },
      "source": [
        "import seaborn as sns\n",
        "import matplotlib.pyplot as plt\n",
        "import numpy as np\n",
        "\n",
        "\n",
        "from sklearn.preprocessing import LabelEncoder\n",
        "from sklearn.model_selection import train_test_split\n",
        "from sklearn.metrics import confusion_matrix, classification_report\n",
        "\n",
        "import tensorflow as tf\n",
        "from tensorflow.keras import models\n",
        "from tensorflow.keras import layers\n",
        "from tensorflow.keras import utils\n",
        "\n",
        "from keras.models import load_model"
      ],
      "execution_count": 3,
      "outputs": []
    },
    {
      "cell_type": "code",
      "metadata": {
        "colab": {
          "base_uri": "https://localhost:8080/",
          "height": 35
        },
        "id": "odBF_b9OPGZC",
        "outputId": "c01564d3-09d6-4cd9-903b-ee742db2112b"
      },
      "source": [
        "# 버전 확인\n",
        "tf.__version__"
      ],
      "execution_count": 4,
      "outputs": [
        {
          "output_type": "execute_result",
          "data": {
            "application/vnd.google.colaboratory.intrinsic+json": {
              "type": "string"
            },
            "text/plain": [
              "'2.4.1'"
            ]
          },
          "metadata": {
            "tags": []
          },
          "execution_count": 4
        }
      ]
    },
    {
      "cell_type": "code",
      "metadata": {
        "colab": {
          "base_uri": "https://localhost:8080/",
          "height": 35
        },
        "id": "e7wGNEA7PKn1",
        "outputId": "bdc039ca-8388-40b8-b8c1-c2c7cb819d93"
      },
      "source": [
        "tf.keras.__version__"
      ],
      "execution_count": 5,
      "outputs": [
        {
          "output_type": "execute_result",
          "data": {
            "application/vnd.google.colaboratory.intrinsic+json": {
              "type": "string"
            },
            "text/plain": [
              "'2.4.0'"
            ]
          },
          "metadata": {
            "tags": []
          },
          "execution_count": 5
        }
      ]
    },
    {
      "cell_type": "code",
      "metadata": {
        "id": "t7L-2KfJAm34"
      },
      "source": [
        "iris = sns.load_dataset('iris')"
      ],
      "execution_count": 6,
      "outputs": []
    },
    {
      "cell_type": "code",
      "metadata": {
        "colab": {
          "base_uri": "https://localhost:8080/"
        },
        "id": "tWQhV9GPAqiW",
        "outputId": "9d2f3ac6-e189-4227-b30c-ba10f93e8441"
      },
      "source": [
        "iris.info()"
      ],
      "execution_count": 7,
      "outputs": [
        {
          "output_type": "stream",
          "text": [
            "<class 'pandas.core.frame.DataFrame'>\n",
            "RangeIndex: 150 entries, 0 to 149\n",
            "Data columns (total 5 columns):\n",
            " #   Column        Non-Null Count  Dtype  \n",
            "---  ------        --------------  -----  \n",
            " 0   sepal_length  150 non-null    float64\n",
            " 1   sepal_width   150 non-null    float64\n",
            " 2   petal_length  150 non-null    float64\n",
            " 3   petal_width   150 non-null    float64\n",
            " 4   species       150 non-null    object \n",
            "dtypes: float64(4), object(1)\n",
            "memory usage: 6.0+ KB\n"
          ],
          "name": "stdout"
        }
      ]
    },
    {
      "cell_type": "code",
      "metadata": {
        "colab": {
          "base_uri": "https://localhost:8080/",
          "height": 204
        },
        "id": "uevwAzTyArlv",
        "outputId": "c4b25ef1-a9eb-4c33-b2aa-f14476f66176"
      },
      "source": [
        "iris.head()"
      ],
      "execution_count": 8,
      "outputs": [
        {
          "output_type": "execute_result",
          "data": {
            "text/html": [
              "<div>\n",
              "<style scoped>\n",
              "    .dataframe tbody tr th:only-of-type {\n",
              "        vertical-align: middle;\n",
              "    }\n",
              "\n",
              "    .dataframe tbody tr th {\n",
              "        vertical-align: top;\n",
              "    }\n",
              "\n",
              "    .dataframe thead th {\n",
              "        text-align: right;\n",
              "    }\n",
              "</style>\n",
              "<table border=\"1\" class=\"dataframe\">\n",
              "  <thead>\n",
              "    <tr style=\"text-align: right;\">\n",
              "      <th></th>\n",
              "      <th>sepal_length</th>\n",
              "      <th>sepal_width</th>\n",
              "      <th>petal_length</th>\n",
              "      <th>petal_width</th>\n",
              "      <th>species</th>\n",
              "    </tr>\n",
              "  </thead>\n",
              "  <tbody>\n",
              "    <tr>\n",
              "      <th>0</th>\n",
              "      <td>5.1</td>\n",
              "      <td>3.5</td>\n",
              "      <td>1.4</td>\n",
              "      <td>0.2</td>\n",
              "      <td>setosa</td>\n",
              "    </tr>\n",
              "    <tr>\n",
              "      <th>1</th>\n",
              "      <td>4.9</td>\n",
              "      <td>3.0</td>\n",
              "      <td>1.4</td>\n",
              "      <td>0.2</td>\n",
              "      <td>setosa</td>\n",
              "    </tr>\n",
              "    <tr>\n",
              "      <th>2</th>\n",
              "      <td>4.7</td>\n",
              "      <td>3.2</td>\n",
              "      <td>1.3</td>\n",
              "      <td>0.2</td>\n",
              "      <td>setosa</td>\n",
              "    </tr>\n",
              "    <tr>\n",
              "      <th>3</th>\n",
              "      <td>4.6</td>\n",
              "      <td>3.1</td>\n",
              "      <td>1.5</td>\n",
              "      <td>0.2</td>\n",
              "      <td>setosa</td>\n",
              "    </tr>\n",
              "    <tr>\n",
              "      <th>4</th>\n",
              "      <td>5.0</td>\n",
              "      <td>3.6</td>\n",
              "      <td>1.4</td>\n",
              "      <td>0.2</td>\n",
              "      <td>setosa</td>\n",
              "    </tr>\n",
              "  </tbody>\n",
              "</table>\n",
              "</div>"
            ],
            "text/plain": [
              "   sepal_length  sepal_width  petal_length  petal_width species\n",
              "0           5.1          3.5           1.4          0.2  setosa\n",
              "1           4.9          3.0           1.4          0.2  setosa\n",
              "2           4.7          3.2           1.3          0.2  setosa\n",
              "3           4.6          3.1           1.5          0.2  setosa\n",
              "4           5.0          3.6           1.4          0.2  setosa"
            ]
          },
          "metadata": {
            "tags": []
          },
          "execution_count": 8
        }
      ]
    },
    {
      "cell_type": "markdown",
      "metadata": {
        "id": "KwnAtb27AuVx"
      },
      "source": [
        "## 1. Data Preprocessing"
      ]
    },
    {
      "cell_type": "markdown",
      "metadata": {
        "id": "6gb1Kb8pAwzW"
      },
      "source": [
        "### 1) iris.Species 빈도 분석\n",
        "- Species: setosa, virginica, versicolor"
      ]
    },
    {
      "cell_type": "code",
      "metadata": {
        "colab": {
          "base_uri": "https://localhost:8080/"
        },
        "id": "Zq0kHFqPA126",
        "outputId": "7bdbcf44-5beb-47df-bf42-0b4d354bd064"
      },
      "source": [
        "iris.species.value_counts()"
      ],
      "execution_count": 9,
      "outputs": [
        {
          "output_type": "execute_result",
          "data": {
            "text/plain": [
              "virginica     50\n",
              "setosa        50\n",
              "versicolor    50\n",
              "Name: species, dtype: int64"
            ]
          },
          "metadata": {
            "tags": []
          },
          "execution_count": 9
        }
      ]
    },
    {
      "cell_type": "markdown",
      "metadata": {
        "id": "qr5dRrEGA4a-"
      },
      "source": [
        "### 2) DataFrame to Array & Casting\n",
        "- 우리가 원하는 Tensor의 형태가 아니다"
      ]
    },
    {
      "cell_type": "code",
      "metadata": {
        "colab": {
          "base_uri": "https://localhost:8080/"
        },
        "id": "ROybj8gGAtbe",
        "outputId": "0d15768f-f70e-41a1-f94c-e4cb1ce8f992"
      },
      "source": [
        "iris_AR = iris.values\n",
        "# values를 하면 array로 빠진다\n",
        "\n",
        "iris_AR\n",
        "# 숫자만 들어있어야 하는데 문자가 들어있다"
      ],
      "execution_count": 10,
      "outputs": [
        {
          "output_type": "execute_result",
          "data": {
            "text/plain": [
              "array([[5.1, 3.5, 1.4, 0.2, 'setosa'],\n",
              "       [4.9, 3.0, 1.4, 0.2, 'setosa'],\n",
              "       [4.7, 3.2, 1.3, 0.2, 'setosa'],\n",
              "       [4.6, 3.1, 1.5, 0.2, 'setosa'],\n",
              "       [5.0, 3.6, 1.4, 0.2, 'setosa'],\n",
              "       [5.4, 3.9, 1.7, 0.4, 'setosa'],\n",
              "       [4.6, 3.4, 1.4, 0.3, 'setosa'],\n",
              "       [5.0, 3.4, 1.5, 0.2, 'setosa'],\n",
              "       [4.4, 2.9, 1.4, 0.2, 'setosa'],\n",
              "       [4.9, 3.1, 1.5, 0.1, 'setosa'],\n",
              "       [5.4, 3.7, 1.5, 0.2, 'setosa'],\n",
              "       [4.8, 3.4, 1.6, 0.2, 'setosa'],\n",
              "       [4.8, 3.0, 1.4, 0.1, 'setosa'],\n",
              "       [4.3, 3.0, 1.1, 0.1, 'setosa'],\n",
              "       [5.8, 4.0, 1.2, 0.2, 'setosa'],\n",
              "       [5.7, 4.4, 1.5, 0.4, 'setosa'],\n",
              "       [5.4, 3.9, 1.3, 0.4, 'setosa'],\n",
              "       [5.1, 3.5, 1.4, 0.3, 'setosa'],\n",
              "       [5.7, 3.8, 1.7, 0.3, 'setosa'],\n",
              "       [5.1, 3.8, 1.5, 0.3, 'setosa'],\n",
              "       [5.4, 3.4, 1.7, 0.2, 'setosa'],\n",
              "       [5.1, 3.7, 1.5, 0.4, 'setosa'],\n",
              "       [4.6, 3.6, 1.0, 0.2, 'setosa'],\n",
              "       [5.1, 3.3, 1.7, 0.5, 'setosa'],\n",
              "       [4.8, 3.4, 1.9, 0.2, 'setosa'],\n",
              "       [5.0, 3.0, 1.6, 0.2, 'setosa'],\n",
              "       [5.0, 3.4, 1.6, 0.4, 'setosa'],\n",
              "       [5.2, 3.5, 1.5, 0.2, 'setosa'],\n",
              "       [5.2, 3.4, 1.4, 0.2, 'setosa'],\n",
              "       [4.7, 3.2, 1.6, 0.2, 'setosa'],\n",
              "       [4.8, 3.1, 1.6, 0.2, 'setosa'],\n",
              "       [5.4, 3.4, 1.5, 0.4, 'setosa'],\n",
              "       [5.2, 4.1, 1.5, 0.1, 'setosa'],\n",
              "       [5.5, 4.2, 1.4, 0.2, 'setosa'],\n",
              "       [4.9, 3.1, 1.5, 0.2, 'setosa'],\n",
              "       [5.0, 3.2, 1.2, 0.2, 'setosa'],\n",
              "       [5.5, 3.5, 1.3, 0.2, 'setosa'],\n",
              "       [4.9, 3.6, 1.4, 0.1, 'setosa'],\n",
              "       [4.4, 3.0, 1.3, 0.2, 'setosa'],\n",
              "       [5.1, 3.4, 1.5, 0.2, 'setosa'],\n",
              "       [5.0, 3.5, 1.3, 0.3, 'setosa'],\n",
              "       [4.5, 2.3, 1.3, 0.3, 'setosa'],\n",
              "       [4.4, 3.2, 1.3, 0.2, 'setosa'],\n",
              "       [5.0, 3.5, 1.6, 0.6, 'setosa'],\n",
              "       [5.1, 3.8, 1.9, 0.4, 'setosa'],\n",
              "       [4.8, 3.0, 1.4, 0.3, 'setosa'],\n",
              "       [5.1, 3.8, 1.6, 0.2, 'setosa'],\n",
              "       [4.6, 3.2, 1.4, 0.2, 'setosa'],\n",
              "       [5.3, 3.7, 1.5, 0.2, 'setosa'],\n",
              "       [5.0, 3.3, 1.4, 0.2, 'setosa'],\n",
              "       [7.0, 3.2, 4.7, 1.4, 'versicolor'],\n",
              "       [6.4, 3.2, 4.5, 1.5, 'versicolor'],\n",
              "       [6.9, 3.1, 4.9, 1.5, 'versicolor'],\n",
              "       [5.5, 2.3, 4.0, 1.3, 'versicolor'],\n",
              "       [6.5, 2.8, 4.6, 1.5, 'versicolor'],\n",
              "       [5.7, 2.8, 4.5, 1.3, 'versicolor'],\n",
              "       [6.3, 3.3, 4.7, 1.6, 'versicolor'],\n",
              "       [4.9, 2.4, 3.3, 1.0, 'versicolor'],\n",
              "       [6.6, 2.9, 4.6, 1.3, 'versicolor'],\n",
              "       [5.2, 2.7, 3.9, 1.4, 'versicolor'],\n",
              "       [5.0, 2.0, 3.5, 1.0, 'versicolor'],\n",
              "       [5.9, 3.0, 4.2, 1.5, 'versicolor'],\n",
              "       [6.0, 2.2, 4.0, 1.0, 'versicolor'],\n",
              "       [6.1, 2.9, 4.7, 1.4, 'versicolor'],\n",
              "       [5.6, 2.9, 3.6, 1.3, 'versicolor'],\n",
              "       [6.7, 3.1, 4.4, 1.4, 'versicolor'],\n",
              "       [5.6, 3.0, 4.5, 1.5, 'versicolor'],\n",
              "       [5.8, 2.7, 4.1, 1.0, 'versicolor'],\n",
              "       [6.2, 2.2, 4.5, 1.5, 'versicolor'],\n",
              "       [5.6, 2.5, 3.9, 1.1, 'versicolor'],\n",
              "       [5.9, 3.2, 4.8, 1.8, 'versicolor'],\n",
              "       [6.1, 2.8, 4.0, 1.3, 'versicolor'],\n",
              "       [6.3, 2.5, 4.9, 1.5, 'versicolor'],\n",
              "       [6.1, 2.8, 4.7, 1.2, 'versicolor'],\n",
              "       [6.4, 2.9, 4.3, 1.3, 'versicolor'],\n",
              "       [6.6, 3.0, 4.4, 1.4, 'versicolor'],\n",
              "       [6.8, 2.8, 4.8, 1.4, 'versicolor'],\n",
              "       [6.7, 3.0, 5.0, 1.7, 'versicolor'],\n",
              "       [6.0, 2.9, 4.5, 1.5, 'versicolor'],\n",
              "       [5.7, 2.6, 3.5, 1.0, 'versicolor'],\n",
              "       [5.5, 2.4, 3.8, 1.1, 'versicolor'],\n",
              "       [5.5, 2.4, 3.7, 1.0, 'versicolor'],\n",
              "       [5.8, 2.7, 3.9, 1.2, 'versicolor'],\n",
              "       [6.0, 2.7, 5.1, 1.6, 'versicolor'],\n",
              "       [5.4, 3.0, 4.5, 1.5, 'versicolor'],\n",
              "       [6.0, 3.4, 4.5, 1.6, 'versicolor'],\n",
              "       [6.7, 3.1, 4.7, 1.5, 'versicolor'],\n",
              "       [6.3, 2.3, 4.4, 1.3, 'versicolor'],\n",
              "       [5.6, 3.0, 4.1, 1.3, 'versicolor'],\n",
              "       [5.5, 2.5, 4.0, 1.3, 'versicolor'],\n",
              "       [5.5, 2.6, 4.4, 1.2, 'versicolor'],\n",
              "       [6.1, 3.0, 4.6, 1.4, 'versicolor'],\n",
              "       [5.8, 2.6, 4.0, 1.2, 'versicolor'],\n",
              "       [5.0, 2.3, 3.3, 1.0, 'versicolor'],\n",
              "       [5.6, 2.7, 4.2, 1.3, 'versicolor'],\n",
              "       [5.7, 3.0, 4.2, 1.2, 'versicolor'],\n",
              "       [5.7, 2.9, 4.2, 1.3, 'versicolor'],\n",
              "       [6.2, 2.9, 4.3, 1.3, 'versicolor'],\n",
              "       [5.1, 2.5, 3.0, 1.1, 'versicolor'],\n",
              "       [5.7, 2.8, 4.1, 1.3, 'versicolor'],\n",
              "       [6.3, 3.3, 6.0, 2.5, 'virginica'],\n",
              "       [5.8, 2.7, 5.1, 1.9, 'virginica'],\n",
              "       [7.1, 3.0, 5.9, 2.1, 'virginica'],\n",
              "       [6.3, 2.9, 5.6, 1.8, 'virginica'],\n",
              "       [6.5, 3.0, 5.8, 2.2, 'virginica'],\n",
              "       [7.6, 3.0, 6.6, 2.1, 'virginica'],\n",
              "       [4.9, 2.5, 4.5, 1.7, 'virginica'],\n",
              "       [7.3, 2.9, 6.3, 1.8, 'virginica'],\n",
              "       [6.7, 2.5, 5.8, 1.8, 'virginica'],\n",
              "       [7.2, 3.6, 6.1, 2.5, 'virginica'],\n",
              "       [6.5, 3.2, 5.1, 2.0, 'virginica'],\n",
              "       [6.4, 2.7, 5.3, 1.9, 'virginica'],\n",
              "       [6.8, 3.0, 5.5, 2.1, 'virginica'],\n",
              "       [5.7, 2.5, 5.0, 2.0, 'virginica'],\n",
              "       [5.8, 2.8, 5.1, 2.4, 'virginica'],\n",
              "       [6.4, 3.2, 5.3, 2.3, 'virginica'],\n",
              "       [6.5, 3.0, 5.5, 1.8, 'virginica'],\n",
              "       [7.7, 3.8, 6.7, 2.2, 'virginica'],\n",
              "       [7.7, 2.6, 6.9, 2.3, 'virginica'],\n",
              "       [6.0, 2.2, 5.0, 1.5, 'virginica'],\n",
              "       [6.9, 3.2, 5.7, 2.3, 'virginica'],\n",
              "       [5.6, 2.8, 4.9, 2.0, 'virginica'],\n",
              "       [7.7, 2.8, 6.7, 2.0, 'virginica'],\n",
              "       [6.3, 2.7, 4.9, 1.8, 'virginica'],\n",
              "       [6.7, 3.3, 5.7, 2.1, 'virginica'],\n",
              "       [7.2, 3.2, 6.0, 1.8, 'virginica'],\n",
              "       [6.2, 2.8, 4.8, 1.8, 'virginica'],\n",
              "       [6.1, 3.0, 4.9, 1.8, 'virginica'],\n",
              "       [6.4, 2.8, 5.6, 2.1, 'virginica'],\n",
              "       [7.2, 3.0, 5.8, 1.6, 'virginica'],\n",
              "       [7.4, 2.8, 6.1, 1.9, 'virginica'],\n",
              "       [7.9, 3.8, 6.4, 2.0, 'virginica'],\n",
              "       [6.4, 2.8, 5.6, 2.2, 'virginica'],\n",
              "       [6.3, 2.8, 5.1, 1.5, 'virginica'],\n",
              "       [6.1, 2.6, 5.6, 1.4, 'virginica'],\n",
              "       [7.7, 3.0, 6.1, 2.3, 'virginica'],\n",
              "       [6.3, 3.4, 5.6, 2.4, 'virginica'],\n",
              "       [6.4, 3.1, 5.5, 1.8, 'virginica'],\n",
              "       [6.0, 3.0, 4.8, 1.8, 'virginica'],\n",
              "       [6.9, 3.1, 5.4, 2.1, 'virginica'],\n",
              "       [6.7, 3.1, 5.6, 2.4, 'virginica'],\n",
              "       [6.9, 3.1, 5.1, 2.3, 'virginica'],\n",
              "       [5.8, 2.7, 5.1, 1.9, 'virginica'],\n",
              "       [6.8, 3.2, 5.9, 2.3, 'virginica'],\n",
              "       [6.7, 3.3, 5.7, 2.5, 'virginica'],\n",
              "       [6.7, 3.0, 5.2, 2.3, 'virginica'],\n",
              "       [6.3, 2.5, 5.0, 1.9, 'virginica'],\n",
              "       [6.5, 3.0, 5.2, 2.0, 'virginica'],\n",
              "       [6.2, 3.4, 5.4, 2.3, 'virginica'],\n",
              "       [5.9, 3.0, 5.1, 1.8, 'virginica']], dtype=object)"
            ]
          },
          "metadata": {
            "tags": []
          },
          "execution_count": 10
        }
      ]
    },
    {
      "cell_type": "markdown",
      "metadata": {
        "id": "RVimK4asBQv2"
      },
      "source": [
        "- object to float"
      ]
    },
    {
      "cell_type": "code",
      "metadata": {
        "colab": {
          "base_uri": "https://localhost:8080/"
        },
        "id": "JFhs83akBLfK",
        "outputId": "d71af523-fcaf-463f-c129-70faea93c80e"
      },
      "source": [
        "AR_X = iris_AR[: , 0:4].astype(float)\n",
        "AR_y = iris_AR[: , 4] \n",
        "\n",
        "AR_X.shape, AR_y.shape"
      ],
      "execution_count": 11,
      "outputs": [
        {
          "output_type": "execute_result",
          "data": {
            "text/plain": [
              "((150, 4), (150,))"
            ]
          },
          "metadata": {
            "tags": []
          },
          "execution_count": 11
        }
      ]
    },
    {
      "cell_type": "code",
      "metadata": {
        "colab": {
          "base_uri": "https://localhost:8080/"
        },
        "id": "U65p_uQhOEbY",
        "outputId": "aeda70a0-655b-45e3-ba85-fb59a01c1339"
      },
      "source": [
        "AR_y\n",
        "# 여전히 문자가 들어있다"
      ],
      "execution_count": 12,
      "outputs": [
        {
          "output_type": "execute_result",
          "data": {
            "text/plain": [
              "array(['setosa', 'setosa', 'setosa', 'setosa', 'setosa', 'setosa',\n",
              "       'setosa', 'setosa', 'setosa', 'setosa', 'setosa', 'setosa',\n",
              "       'setosa', 'setosa', 'setosa', 'setosa', 'setosa', 'setosa',\n",
              "       'setosa', 'setosa', 'setosa', 'setosa', 'setosa', 'setosa',\n",
              "       'setosa', 'setosa', 'setosa', 'setosa', 'setosa', 'setosa',\n",
              "       'setosa', 'setosa', 'setosa', 'setosa', 'setosa', 'setosa',\n",
              "       'setosa', 'setosa', 'setosa', 'setosa', 'setosa', 'setosa',\n",
              "       'setosa', 'setosa', 'setosa', 'setosa', 'setosa', 'setosa',\n",
              "       'setosa', 'setosa', 'versicolor', 'versicolor', 'versicolor',\n",
              "       'versicolor', 'versicolor', 'versicolor', 'versicolor',\n",
              "       'versicolor', 'versicolor', 'versicolor', 'versicolor',\n",
              "       'versicolor', 'versicolor', 'versicolor', 'versicolor',\n",
              "       'versicolor', 'versicolor', 'versicolor', 'versicolor',\n",
              "       'versicolor', 'versicolor', 'versicolor', 'versicolor',\n",
              "       'versicolor', 'versicolor', 'versicolor', 'versicolor',\n",
              "       'versicolor', 'versicolor', 'versicolor', 'versicolor',\n",
              "       'versicolor', 'versicolor', 'versicolor', 'versicolor',\n",
              "       'versicolor', 'versicolor', 'versicolor', 'versicolor',\n",
              "       'versicolor', 'versicolor', 'versicolor', 'versicolor',\n",
              "       'versicolor', 'versicolor', 'versicolor', 'versicolor',\n",
              "       'versicolor', 'versicolor', 'versicolor', 'virginica', 'virginica',\n",
              "       'virginica', 'virginica', 'virginica', 'virginica', 'virginica',\n",
              "       'virginica', 'virginica', 'virginica', 'virginica', 'virginica',\n",
              "       'virginica', 'virginica', 'virginica', 'virginica', 'virginica',\n",
              "       'virginica', 'virginica', 'virginica', 'virginica', 'virginica',\n",
              "       'virginica', 'virginica', 'virginica', 'virginica', 'virginica',\n",
              "       'virginica', 'virginica', 'virginica', 'virginica', 'virginica',\n",
              "       'virginica', 'virginica', 'virginica', 'virginica', 'virginica',\n",
              "       'virginica', 'virginica', 'virginica', 'virginica', 'virginica',\n",
              "       'virginica', 'virginica', 'virginica', 'virginica', 'virginica',\n",
              "       'virginica', 'virginica', 'virginica'], dtype=object)"
            ]
          },
          "metadata": {
            "tags": []
          },
          "execution_count": 12
        }
      ]
    },
    {
      "cell_type": "markdown",
      "metadata": {
        "id": "8QUydVTNBhoF"
      },
      "source": [
        "### 3) One Hot Encoding with sklearn & Keras\n",
        "\n",
        "- LabelEncoder()\n",
        "  - ['setosa' , 'virginica', 'virsicolor'] to [0, 1, 2]"
      ]
    },
    {
      "cell_type": "code",
      "metadata": {
        "colab": {
          "base_uri": "https://localhost:8080/"
        },
        "id": "aEUA6wdkBguv",
        "outputId": "5067ae1f-6f0e-4d87-e2e9-2b376741820e"
      },
      "source": [
        "encoder = LabelEncoder()\n",
        "\n",
        "AR_yLBE = encoder.fit_transform(AR_y)\n",
        "\n",
        "AR_yLBE"
      ],
      "execution_count": 13,
      "outputs": [
        {
          "output_type": "execute_result",
          "data": {
            "text/plain": [
              "array([0, 0, 0, 0, 0, 0, 0, 0, 0, 0, 0, 0, 0, 0, 0, 0, 0, 0, 0, 0, 0, 0,\n",
              "       0, 0, 0, 0, 0, 0, 0, 0, 0, 0, 0, 0, 0, 0, 0, 0, 0, 0, 0, 0, 0, 0,\n",
              "       0, 0, 0, 0, 0, 0, 1, 1, 1, 1, 1, 1, 1, 1, 1, 1, 1, 1, 1, 1, 1, 1,\n",
              "       1, 1, 1, 1, 1, 1, 1, 1, 1, 1, 1, 1, 1, 1, 1, 1, 1, 1, 1, 1, 1, 1,\n",
              "       1, 1, 1, 1, 1, 1, 1, 1, 1, 1, 1, 1, 2, 2, 2, 2, 2, 2, 2, 2, 2, 2,\n",
              "       2, 2, 2, 2, 2, 2, 2, 2, 2, 2, 2, 2, 2, 2, 2, 2, 2, 2, 2, 2, 2, 2,\n",
              "       2, 2, 2, 2, 2, 2, 2, 2, 2, 2, 2, 2, 2, 2, 2, 2, 2, 2])"
            ]
          },
          "metadata": {
            "tags": []
          },
          "execution_count": 13
        }
      ]
    },
    {
      "cell_type": "markdown",
      "metadata": {
        "id": "huhsZJfgB5AI"
      },
      "source": [
        "- One-Hot Encoding - to_categorical()"
      ]
    },
    {
      "cell_type": "code",
      "metadata": {
        "colab": {
          "base_uri": "https://localhost:8080/"
        },
        "id": "at0RykuVB3Uy",
        "outputId": "6ddbd24a-6b35-43de-a5bd-35df4be30a4a"
      },
      "source": [
        "# keras OHE는 문자를 안받으므로 LabelEncoder로 숫자로 변환\n",
        "# sklearn OHE도 array로 바꿔주는 두 단계를 거쳐야 함\n",
        "# to_categorical 함수 사용\n",
        "\n",
        "AR_yOHE = tf.keras.utils.to_categorical(AR_yLBE)\n",
        "\n",
        "AR_yOHE"
      ],
      "execution_count": 14,
      "outputs": [
        {
          "output_type": "execute_result",
          "data": {
            "text/plain": [
              "array([[1., 0., 0.],\n",
              "       [1., 0., 0.],\n",
              "       [1., 0., 0.],\n",
              "       [1., 0., 0.],\n",
              "       [1., 0., 0.],\n",
              "       [1., 0., 0.],\n",
              "       [1., 0., 0.],\n",
              "       [1., 0., 0.],\n",
              "       [1., 0., 0.],\n",
              "       [1., 0., 0.],\n",
              "       [1., 0., 0.],\n",
              "       [1., 0., 0.],\n",
              "       [1., 0., 0.],\n",
              "       [1., 0., 0.],\n",
              "       [1., 0., 0.],\n",
              "       [1., 0., 0.],\n",
              "       [1., 0., 0.],\n",
              "       [1., 0., 0.],\n",
              "       [1., 0., 0.],\n",
              "       [1., 0., 0.],\n",
              "       [1., 0., 0.],\n",
              "       [1., 0., 0.],\n",
              "       [1., 0., 0.],\n",
              "       [1., 0., 0.],\n",
              "       [1., 0., 0.],\n",
              "       [1., 0., 0.],\n",
              "       [1., 0., 0.],\n",
              "       [1., 0., 0.],\n",
              "       [1., 0., 0.],\n",
              "       [1., 0., 0.],\n",
              "       [1., 0., 0.],\n",
              "       [1., 0., 0.],\n",
              "       [1., 0., 0.],\n",
              "       [1., 0., 0.],\n",
              "       [1., 0., 0.],\n",
              "       [1., 0., 0.],\n",
              "       [1., 0., 0.],\n",
              "       [1., 0., 0.],\n",
              "       [1., 0., 0.],\n",
              "       [1., 0., 0.],\n",
              "       [1., 0., 0.],\n",
              "       [1., 0., 0.],\n",
              "       [1., 0., 0.],\n",
              "       [1., 0., 0.],\n",
              "       [1., 0., 0.],\n",
              "       [1., 0., 0.],\n",
              "       [1., 0., 0.],\n",
              "       [1., 0., 0.],\n",
              "       [1., 0., 0.],\n",
              "       [1., 0., 0.],\n",
              "       [0., 1., 0.],\n",
              "       [0., 1., 0.],\n",
              "       [0., 1., 0.],\n",
              "       [0., 1., 0.],\n",
              "       [0., 1., 0.],\n",
              "       [0., 1., 0.],\n",
              "       [0., 1., 0.],\n",
              "       [0., 1., 0.],\n",
              "       [0., 1., 0.],\n",
              "       [0., 1., 0.],\n",
              "       [0., 1., 0.],\n",
              "       [0., 1., 0.],\n",
              "       [0., 1., 0.],\n",
              "       [0., 1., 0.],\n",
              "       [0., 1., 0.],\n",
              "       [0., 1., 0.],\n",
              "       [0., 1., 0.],\n",
              "       [0., 1., 0.],\n",
              "       [0., 1., 0.],\n",
              "       [0., 1., 0.],\n",
              "       [0., 1., 0.],\n",
              "       [0., 1., 0.],\n",
              "       [0., 1., 0.],\n",
              "       [0., 1., 0.],\n",
              "       [0., 1., 0.],\n",
              "       [0., 1., 0.],\n",
              "       [0., 1., 0.],\n",
              "       [0., 1., 0.],\n",
              "       [0., 1., 0.],\n",
              "       [0., 1., 0.],\n",
              "       [0., 1., 0.],\n",
              "       [0., 1., 0.],\n",
              "       [0., 1., 0.],\n",
              "       [0., 1., 0.],\n",
              "       [0., 1., 0.],\n",
              "       [0., 1., 0.],\n",
              "       [0., 1., 0.],\n",
              "       [0., 1., 0.],\n",
              "       [0., 1., 0.],\n",
              "       [0., 1., 0.],\n",
              "       [0., 1., 0.],\n",
              "       [0., 1., 0.],\n",
              "       [0., 1., 0.],\n",
              "       [0., 1., 0.],\n",
              "       [0., 1., 0.],\n",
              "       [0., 1., 0.],\n",
              "       [0., 1., 0.],\n",
              "       [0., 1., 0.],\n",
              "       [0., 1., 0.],\n",
              "       [0., 1., 0.],\n",
              "       [0., 0., 1.],\n",
              "       [0., 0., 1.],\n",
              "       [0., 0., 1.],\n",
              "       [0., 0., 1.],\n",
              "       [0., 0., 1.],\n",
              "       [0., 0., 1.],\n",
              "       [0., 0., 1.],\n",
              "       [0., 0., 1.],\n",
              "       [0., 0., 1.],\n",
              "       [0., 0., 1.],\n",
              "       [0., 0., 1.],\n",
              "       [0., 0., 1.],\n",
              "       [0., 0., 1.],\n",
              "       [0., 0., 1.],\n",
              "       [0., 0., 1.],\n",
              "       [0., 0., 1.],\n",
              "       [0., 0., 1.],\n",
              "       [0., 0., 1.],\n",
              "       [0., 0., 1.],\n",
              "       [0., 0., 1.],\n",
              "       [0., 0., 1.],\n",
              "       [0., 0., 1.],\n",
              "       [0., 0., 1.],\n",
              "       [0., 0., 1.],\n",
              "       [0., 0., 1.],\n",
              "       [0., 0., 1.],\n",
              "       [0., 0., 1.],\n",
              "       [0., 0., 1.],\n",
              "       [0., 0., 1.],\n",
              "       [0., 0., 1.],\n",
              "       [0., 0., 1.],\n",
              "       [0., 0., 1.],\n",
              "       [0., 0., 1.],\n",
              "       [0., 0., 1.],\n",
              "       [0., 0., 1.],\n",
              "       [0., 0., 1.],\n",
              "       [0., 0., 1.],\n",
              "       [0., 0., 1.],\n",
              "       [0., 0., 1.],\n",
              "       [0., 0., 1.],\n",
              "       [0., 0., 1.],\n",
              "       [0., 0., 1.],\n",
              "       [0., 0., 1.],\n",
              "       [0., 0., 1.],\n",
              "       [0., 0., 1.],\n",
              "       [0., 0., 1.],\n",
              "       [0., 0., 1.],\n",
              "       [0., 0., 1.],\n",
              "       [0., 0., 1.],\n",
              "       [0., 0., 1.]], dtype=float32)"
            ]
          },
          "metadata": {
            "tags": []
          },
          "execution_count": 14
        }
      ]
    },
    {
      "cell_type": "markdown",
      "metadata": {
        "id": "zxkOvjAXCRuD"
      },
      "source": [
        "### 4) Train & Test Split with sklearn Package"
      ]
    },
    {
      "cell_type": "code",
      "metadata": {
        "colab": {
          "base_uri": "https://localhost:8080/"
        },
        "id": "94YtdxX7CQoC",
        "outputId": "d5d0a6e2-bd58-4a87-ea46-7a4d86f84614"
      },
      "source": [
        "# 전처리 후 Train Test Split\n",
        "\n",
        "X_train, X_test, y_train, y_test = train_test_split(AR_X, AR_yOHE,\n",
        "                                                    test_size = 0.3,\n",
        "                                                    random_state = 2045)\n",
        "\n",
        "X_train.shape, X_test.shape, y_train.shape, y_test.shape\n",
        "\n",
        "# input size는 이미 정해짐"
      ],
      "execution_count": 15,
      "outputs": [
        {
          "output_type": "execute_result",
          "data": {
            "text/plain": [
              "((105, 4), (45, 4), (105, 3), (45, 3))"
            ]
          },
          "metadata": {
            "tags": []
          },
          "execution_count": 15
        }
      ]
    },
    {
      "cell_type": "markdown",
      "metadata": {
        "id": "FxucPMWQCkuq"
      },
      "source": [
        "## 2. Keras Modeling"
      ]
    },
    {
      "cell_type": "markdown",
      "metadata": {
        "id": "MYZT5gwBCnDN"
      },
      "source": [
        "### 1) Model Define\n",
        "\n",
        "- 모델 신경망 구조 정의"
      ]
    },
    {
      "cell_type": "code",
      "metadata": {
        "id": "YNVuJXfiCkPe"
      },
      "source": [
        "# Sequential로 모델을 만듦\n",
        "Model_iris = models.Sequential()\n",
        "\n",
        "# Dense: Fully-connected 의미\n",
        "# units: node 개수\n",
        "# 층은 얼마든지 쌓든지 줄이든지 할 수 있다\n",
        "\n",
        "# 첫번째 Layer에서 input size 지정(이미 정해져있음)\n",
        "Model_iris.add(layers.Dense(units = 16, activation = 'relu' , input_shape = (4,)))\n",
        "Model_iris.add(layers.Dense(8, activation = 'relu'))\n",
        "\n",
        "# 모델 숫자가 정해져있음(Output size가 정해져 있으므로)\n",
        "Model_iris.add(layers.Dense(3, activation = 'softmax'))"
      ],
      "execution_count": 16,
      "outputs": []
    },
    {
      "cell_type": "markdown",
      "metadata": {
        "id": "2V8rEfRqDFVf"
      },
      "source": [
        "- 모델 구조 확인\n",
        "  - Layers & Parameters"
      ]
    },
    {
      "cell_type": "code",
      "metadata": {
        "colab": {
          "base_uri": "https://localhost:8080/"
        },
        "id": "_-9TimilDEsM",
        "outputId": "3dd6df5e-cfe0-4361-9dbd-fb5da7418e66"
      },
      "source": [
        "Model_iris.summary()\n",
        "# b는 레이어가 아니라 노드마다 있는 것"
      ],
      "execution_count": 17,
      "outputs": [
        {
          "output_type": "stream",
          "text": [
            "Model: \"sequential\"\n",
            "_________________________________________________________________\n",
            "Layer (type)                 Output Shape              Param #   \n",
            "=================================================================\n",
            "dense (Dense)                (None, 16)                80        \n",
            "_________________________________________________________________\n",
            "dense_1 (Dense)              (None, 8)                 136       \n",
            "_________________________________________________________________\n",
            "dense_2 (Dense)              (None, 3)                 27        \n",
            "=================================================================\n",
            "Total params: 243\n",
            "Trainable params: 243\n",
            "Non-trainable params: 0\n",
            "_________________________________________________________________\n"
          ],
          "name": "stdout"
        }
      ]
    },
    {
      "cell_type": "markdown",
      "metadata": {
        "id": "NTO3oRb_EdBQ"
      },
      "source": [
        "- 모델 레이어 시각화"
      ]
    },
    {
      "cell_type": "code",
      "metadata": {
        "colab": {
          "base_uri": "https://localhost:8080/",
          "height": 369
        },
        "id": "IEtS9c_aDJ_Q",
        "outputId": "033d3da8-7bc7-4c50-c912-639871a4190c"
      },
      "source": [
        "utils.plot_model(Model_iris)\n",
        "# 그림으로 그려줌\n",
        "# 일반적으로 summary를 사용한다"
      ],
      "execution_count": 18,
      "outputs": [
        {
          "output_type": "execute_result",
          "data": {
            "image/png": "[encoded data removed]",
            "text/plain": [
              "<IPython.core.display.Image object>"
            ]
          },
          "metadata": {
            "tags": []
          },
          "execution_count": 18
        }
      ]
    },
    {
      "cell_type": "markdown",
      "metadata": {
        "id": "M0kEk-YPEp2M"
      },
      "source": [
        "### 3) Model Compile\n",
        "- 모델 학습방법 설정"
      ]
    },
    {
      "cell_type": "code",
      "metadata": {
        "id": "thxJZWnSEoEf"
      },
      "source": [
        "# 어떤 모델을 만들지에 따라 compile방식은 거의 정해져있다\n",
        "\n",
        "# compile: 학습 방법 결정\n",
        "# categorical_crossentropy: 다중분류\n",
        "# binary: 이진분류\n",
        "# mse: 예측\n",
        "\n",
        "Model_iris.compile(loss = 'categorical_crossentropy',\n",
        "                   optimizer = 'adam', # sgd, momentum, RMSProp\n",
        "                   metrics = ['accuracy']) # 이진분류일 경우 precision, recall\n",
        "                                           # 예측: mse, mae"
      ],
      "execution_count": 19,
      "outputs": []
    },
    {
      "cell_type": "markdown",
      "metadata": {
        "id": "G1wD7qw0E0Uu"
      },
      "source": [
        "### 4) Model Fit\n",
        "- 모델 학습 수행"
      ]
    },
    {
      "cell_type": "code",
      "metadata": {
        "colab": {
          "base_uri": "https://localhost:8080/"
        },
        "id": "7Ii-PIIgEza6",
        "outputId": "e8f52b5f-fd34-4028-bb0c-726e6ce3816f"
      },
      "source": [
        "History_iris = Model_iris.fit(X_train, y_train,\n",
        "                             epochs = 500,\n",
        "                             batch_size = 7, # 한번에 7개씩 처리 (sgd 방식)\n",
        "                                             # 105개 train data를 7개씩 끊어서 학습 (15번)\n",
        "                                             # 7개를 15번 보면, 1 epoch\n",
        "                             validation_data = (X_test, y_test))\n",
        "\n",
        "# 한번 Epoch가 15개로 끊어져있음\n",
        "# 실제 경사하강은 15 * 500 번 이루어진다"
      ],
      "execution_count": 20,
      "outputs": [
        {
          "output_type": "stream",
          "text": [
            "Epoch 1/500\n",
            "15/15 [==============================] - 1s 30ms/step - loss: 1.4792 - accuracy: 0.3803 - val_loss: 1.4586 - val_accuracy: 0.3111\n",
            "Epoch 2/500\n",
            "15/15 [==============================] - 0s 4ms/step - loss: 1.4896 - accuracy: 0.3043 - val_loss: 1.3301 - val_accuracy: 0.3111\n",
            "Epoch 3/500\n",
            "15/15 [==============================] - 0s 3ms/step - loss: 1.4179 - accuracy: 0.3491 - val_loss: 1.2198 - val_accuracy: 0.3111\n",
            "Epoch 4/500\n",
            "15/15 [==============================] - 0s 4ms/step - loss: 1.1319 - accuracy: 0.4049 - val_loss: 1.1528 - val_accuracy: 0.3111\n",
            "Epoch 5/500\n",
            "15/15 [==============================] - 0s 4ms/step - loss: 1.2047 - accuracy: 0.2703 - val_loss: 1.1096 - val_accuracy: 0.3111\n",
            "Epoch 6/500\n",
            "15/15 [==============================] - 0s 4ms/step - loss: 1.0545 - accuracy: 0.3864 - val_loss: 1.0852 - val_accuracy: 0.3111\n",
            "Epoch 7/500\n",
            "15/15 [==============================] - 0s 4ms/step - loss: 1.0299 - accuracy: 0.3897 - val_loss: 1.0651 - val_accuracy: 0.3111\n",
            "Epoch 8/500\n",
            "15/15 [==============================] - 0s 4ms/step - loss: 1.0404 - accuracy: 0.3250 - val_loss: 1.0485 - val_accuracy: 0.3333\n",
            "Epoch 9/500\n",
            "15/15 [==============================] - 0s 4ms/step - loss: 1.0396 - accuracy: 0.2907 - val_loss: 1.0339 - val_accuracy: 0.3333\n",
            "Epoch 10/500\n",
            "15/15 [==============================] - 0s 4ms/step - loss: 0.9505 - accuracy: 0.4311 - val_loss: 1.0195 - val_accuracy: 0.3333\n",
            "Epoch 11/500\n",
            "15/15 [==============================] - 0s 4ms/step - loss: 1.0035 - accuracy: 0.3237 - val_loss: 1.0053 - val_accuracy: 0.3333\n",
            "Epoch 12/500\n",
            "15/15 [==============================] - 0s 3ms/step - loss: 0.9618 - accuracy: 0.3646 - val_loss: 0.9914 - val_accuracy: 0.3333\n",
            "Epoch 13/500\n",
            "15/15 [==============================] - 0s 4ms/step - loss: 0.9435 - accuracy: 0.3777 - val_loss: 0.9773 - val_accuracy: 0.3333\n",
            "Epoch 14/500\n",
            "15/15 [==============================] - 0s 4ms/step - loss: 0.9427 - accuracy: 0.3564 - val_loss: 0.9627 - val_accuracy: 0.3333\n",
            "Epoch 15/500\n",
            "15/15 [==============================] - 0s 4ms/step - loss: 0.9078 - accuracy: 0.4044 - val_loss: 0.9495 - val_accuracy: 0.3333\n",
            "Epoch 16/500\n",
            "15/15 [==============================] - 0s 4ms/step - loss: 0.9581 - accuracy: 0.2931 - val_loss: 0.9339 - val_accuracy: 0.3333\n",
            "Epoch 17/500\n",
            "15/15 [==============================] - 0s 5ms/step - loss: 0.8749 - accuracy: 0.4057 - val_loss: 0.9182 - val_accuracy: 0.3333\n",
            "Epoch 18/500\n",
            "15/15 [==============================] - 0s 4ms/step - loss: 0.8378 - accuracy: 0.4370 - val_loss: 0.9031 - val_accuracy: 0.3333\n",
            "Epoch 19/500\n",
            "15/15 [==============================] - 0s 4ms/step - loss: 0.8394 - accuracy: 0.4099 - val_loss: 0.8879 - val_accuracy: 0.3333\n",
            "Epoch 20/500\n",
            "15/15 [==============================] - 0s 4ms/step - loss: 0.8454 - accuracy: 0.3809 - val_loss: 0.8723 - val_accuracy: 0.3333\n",
            "Epoch 21/500\n",
            "15/15 [==============================] - 0s 4ms/step - loss: 0.8527 - accuracy: 0.3595 - val_loss: 0.8575 - val_accuracy: 0.3556\n",
            "Epoch 22/500\n",
            "15/15 [==============================] - 0s 4ms/step - loss: 0.8511 - accuracy: 0.3347 - val_loss: 0.8425 - val_accuracy: 0.3556\n",
            "Epoch 23/500\n",
            "15/15 [==============================] - 0s 4ms/step - loss: 0.8194 - accuracy: 0.3933 - val_loss: 0.8281 - val_accuracy: 0.3556\n",
            "Epoch 24/500\n",
            "15/15 [==============================] - 0s 4ms/step - loss: 0.7819 - accuracy: 0.4658 - val_loss: 0.8146 - val_accuracy: 0.3778\n",
            "Epoch 25/500\n",
            "15/15 [==============================] - 0s 4ms/step - loss: 0.7594 - accuracy: 0.5648 - val_loss: 0.7995 - val_accuracy: 0.4222\n",
            "Epoch 26/500\n",
            "15/15 [==============================] - 0s 4ms/step - loss: 0.8032 - accuracy: 0.6815 - val_loss: 0.7836 - val_accuracy: 0.6889\n",
            "Epoch 27/500\n",
            "15/15 [==============================] - 0s 3ms/step - loss: 0.7615 - accuracy: 0.7611 - val_loss: 0.7696 - val_accuracy: 0.7333\n",
            "Epoch 28/500\n",
            "15/15 [==============================] - 0s 4ms/step - loss: 0.7439 - accuracy: 0.7630 - val_loss: 0.7547 - val_accuracy: 0.8000\n",
            "Epoch 29/500\n",
            "15/15 [==============================] - 0s 4ms/step - loss: 0.7254 - accuracy: 0.7983 - val_loss: 0.7420 - val_accuracy: 0.7778\n",
            "Epoch 30/500\n",
            "15/15 [==============================] - 0s 3ms/step - loss: 0.7233 - accuracy: 0.8792 - val_loss: 0.7324 - val_accuracy: 0.8889\n",
            "Epoch 31/500\n",
            "15/15 [==============================] - 0s 4ms/step - loss: 0.6793 - accuracy: 0.8649 - val_loss: 0.7213 - val_accuracy: 0.9111\n",
            "Epoch 32/500\n",
            "15/15 [==============================] - 0s 3ms/step - loss: 0.7049 - accuracy: 0.8876 - val_loss: 0.7114 - val_accuracy: 0.9778\n",
            "Epoch 33/500\n",
            "15/15 [==============================] - 0s 4ms/step - loss: 0.6635 - accuracy: 0.8651 - val_loss: 0.7028 - val_accuracy: 0.8444\n",
            "Epoch 34/500\n",
            "15/15 [==============================] - 0s 4ms/step - loss: 0.6778 - accuracy: 0.8295 - val_loss: 0.6912 - val_accuracy: 0.9556\n",
            "Epoch 35/500\n",
            "15/15 [==============================] - 0s 4ms/step - loss: 0.6795 - accuracy: 0.8829 - val_loss: 0.6805 - val_accuracy: 0.9556\n",
            "Epoch 36/500\n",
            "15/15 [==============================] - 0s 4ms/step - loss: 0.6604 - accuracy: 0.9006 - val_loss: 0.6727 - val_accuracy: 0.9778\n",
            "Epoch 37/500\n",
            "15/15 [==============================] - 0s 4ms/step - loss: 0.6283 - accuracy: 0.9613 - val_loss: 0.6633 - val_accuracy: 0.9556\n",
            "Epoch 38/500\n",
            "15/15 [==============================] - 0s 4ms/step - loss: 0.6504 - accuracy: 0.8367 - val_loss: 0.6524 - val_accuracy: 0.9556\n",
            "Epoch 39/500\n",
            "15/15 [==============================] - 0s 4ms/step - loss: 0.6392 - accuracy: 0.9764 - val_loss: 0.6435 - val_accuracy: 0.9556\n",
            "Epoch 40/500\n",
            "15/15 [==============================] - 0s 4ms/step - loss: 0.6378 - accuracy: 0.9264 - val_loss: 0.6350 - val_accuracy: 0.9778\n",
            "Epoch 41/500\n",
            "15/15 [==============================] - 0s 4ms/step - loss: 0.5846 - accuracy: 0.9256 - val_loss: 0.6259 - val_accuracy: 0.9556\n",
            "Epoch 42/500\n",
            "15/15 [==============================] - 0s 4ms/step - loss: 0.6044 - accuracy: 0.9567 - val_loss: 0.6163 - val_accuracy: 0.9778\n",
            "Epoch 43/500\n",
            "15/15 [==============================] - 0s 4ms/step - loss: 0.6183 - accuracy: 0.9169 - val_loss: 0.6065 - val_accuracy: 0.9778\n",
            "Epoch 44/500\n",
            "15/15 [==============================] - 0s 4ms/step - loss: 0.5986 - accuracy: 0.9598 - val_loss: 0.5976 - val_accuracy: 0.9778\n",
            "Epoch 45/500\n",
            "15/15 [==============================] - 0s 4ms/step - loss: 0.5909 - accuracy: 0.9524 - val_loss: 0.5888 - val_accuracy: 0.9778\n",
            "Epoch 46/500\n",
            "15/15 [==============================] - 0s 4ms/step - loss: 0.5784 - accuracy: 0.9363 - val_loss: 0.5790 - val_accuracy: 0.9778\n",
            "Epoch 47/500\n",
            "15/15 [==============================] - 0s 4ms/step - loss: 0.5519 - accuracy: 0.9298 - val_loss: 0.5698 - val_accuracy: 0.9778\n",
            "Epoch 48/500\n",
            "15/15 [==============================] - 0s 4ms/step - loss: 0.5473 - accuracy: 0.9480 - val_loss: 0.5612 - val_accuracy: 0.9778\n",
            "Epoch 49/500\n",
            "15/15 [==============================] - 0s 3ms/step - loss: 0.5366 - accuracy: 0.9477 - val_loss: 0.5527 - val_accuracy: 0.9778\n",
            "Epoch 50/500\n",
            "15/15 [==============================] - 0s 4ms/step - loss: 0.5228 - accuracy: 0.9512 - val_loss: 0.5432 - val_accuracy: 0.9778\n",
            "Epoch 51/500\n",
            "15/15 [==============================] - 0s 3ms/step - loss: 0.5370 - accuracy: 0.9378 - val_loss: 0.5337 - val_accuracy: 0.9778\n",
            "Epoch 52/500\n",
            "15/15 [==============================] - 0s 4ms/step - loss: 0.5478 - accuracy: 0.9416 - val_loss: 0.5259 - val_accuracy: 0.9778\n",
            "Epoch 53/500\n",
            "15/15 [==============================] - 0s 4ms/step - loss: 0.5086 - accuracy: 0.9601 - val_loss: 0.5168 - val_accuracy: 0.9778\n",
            "Epoch 54/500\n",
            "15/15 [==============================] - 0s 4ms/step - loss: 0.5114 - accuracy: 0.9362 - val_loss: 0.5087 - val_accuracy: 0.9778\n",
            "Epoch 55/500\n",
            "15/15 [==============================] - 0s 4ms/step - loss: 0.5003 - accuracy: 0.9314 - val_loss: 0.4984 - val_accuracy: 0.9778\n",
            "Epoch 56/500\n",
            "15/15 [==============================] - 0s 4ms/step - loss: 0.4723 - accuracy: 0.9371 - val_loss: 0.4902 - val_accuracy: 0.9778\n",
            "Epoch 57/500\n",
            "15/15 [==============================] - 0s 4ms/step - loss: 0.4828 - accuracy: 0.9422 - val_loss: 0.4845 - val_accuracy: 0.9778\n",
            "Epoch 58/500\n",
            "15/15 [==============================] - 0s 4ms/step - loss: 0.4713 - accuracy: 0.9672 - val_loss: 0.4755 - val_accuracy: 0.9778\n",
            "Epoch 59/500\n",
            "15/15 [==============================] - 0s 4ms/step - loss: 0.4515 - accuracy: 0.9782 - val_loss: 0.4664 - val_accuracy: 0.9778\n",
            "Epoch 60/500\n",
            "15/15 [==============================] - 0s 4ms/step - loss: 0.4562 - accuracy: 0.9686 - val_loss: 0.4571 - val_accuracy: 1.0000\n",
            "Epoch 61/500\n",
            "15/15 [==============================] - 0s 4ms/step - loss: 0.4612 - accuracy: 0.9449 - val_loss: 0.4513 - val_accuracy: 0.9778\n",
            "Epoch 62/500\n",
            "15/15 [==============================] - 0s 4ms/step - loss: 0.4612 - accuracy: 0.9111 - val_loss: 0.4399 - val_accuracy: 1.0000\n",
            "Epoch 63/500\n",
            "15/15 [==============================] - 0s 4ms/step - loss: 0.4344 - accuracy: 0.9516 - val_loss: 0.4318 - val_accuracy: 0.9778\n",
            "Epoch 64/500\n",
            "15/15 [==============================] - 0s 4ms/step - loss: 0.4303 - accuracy: 0.9407 - val_loss: 0.4233 - val_accuracy: 1.0000\n",
            "Epoch 65/500\n",
            "15/15 [==============================] - 0s 4ms/step - loss: 0.4275 - accuracy: 0.9679 - val_loss: 0.4153 - val_accuracy: 1.0000\n",
            "Epoch 66/500\n",
            "15/15 [==============================] - 0s 4ms/step - loss: 0.4288 - accuracy: 0.9698 - val_loss: 0.4079 - val_accuracy: 0.9778\n",
            "Epoch 67/500\n",
            "15/15 [==============================] - 0s 4ms/step - loss: 0.3989 - accuracy: 0.9722 - val_loss: 0.3994 - val_accuracy: 1.0000\n",
            "Epoch 68/500\n",
            "15/15 [==============================] - 0s 4ms/step - loss: 0.3879 - accuracy: 0.9908 - val_loss: 0.3917 - val_accuracy: 0.9778\n",
            "Epoch 69/500\n",
            "15/15 [==============================] - 0s 3ms/step - loss: 0.3765 - accuracy: 0.9589 - val_loss: 0.3832 - val_accuracy: 1.0000\n",
            "Epoch 70/500\n",
            "15/15 [==============================] - 0s 4ms/step - loss: 0.3857 - accuracy: 0.9693 - val_loss: 0.3764 - val_accuracy: 1.0000\n",
            "Epoch 71/500\n",
            "15/15 [==============================] - 0s 4ms/step - loss: 0.4002 - accuracy: 0.9500 - val_loss: 0.3705 - val_accuracy: 0.9778\n",
            "Epoch 72/500\n",
            "15/15 [==============================] - 0s 3ms/step - loss: 0.3289 - accuracy: 0.9932 - val_loss: 0.3618 - val_accuracy: 0.9778\n",
            "Epoch 73/500\n",
            "15/15 [==============================] - 0s 3ms/step - loss: 0.3505 - accuracy: 0.9956 - val_loss: 0.3538 - val_accuracy: 1.0000\n",
            "Epoch 74/500\n",
            "15/15 [==============================] - 0s 4ms/step - loss: 0.3637 - accuracy: 0.9772 - val_loss: 0.3461 - val_accuracy: 1.0000\n",
            "Epoch 75/500\n",
            "15/15 [==============================] - 0s 4ms/step - loss: 0.3585 - accuracy: 0.9649 - val_loss: 0.3387 - val_accuracy: 1.0000\n",
            "Epoch 76/500\n",
            "15/15 [==============================] - 0s 4ms/step - loss: 0.3597 - accuracy: 0.9620 - val_loss: 0.3324 - val_accuracy: 0.9778\n",
            "Epoch 77/500\n",
            "15/15 [==============================] - 0s 3ms/step - loss: 0.3631 - accuracy: 0.9382 - val_loss: 0.3238 - val_accuracy: 1.0000\n",
            "Epoch 78/500\n",
            "15/15 [==============================] - 0s 4ms/step - loss: 0.3172 - accuracy: 0.9829 - val_loss: 0.3170 - val_accuracy: 1.0000\n",
            "Epoch 79/500\n",
            "15/15 [==============================] - 0s 4ms/step - loss: 0.3389 - accuracy: 0.9771 - val_loss: 0.3096 - val_accuracy: 1.0000\n",
            "Epoch 80/500\n",
            "15/15 [==============================] - 0s 4ms/step - loss: 0.3047 - accuracy: 0.9931 - val_loss: 0.3028 - val_accuracy: 1.0000\n",
            "Epoch 81/500\n",
            "15/15 [==============================] - 0s 3ms/step - loss: 0.2950 - accuracy: 0.9833 - val_loss: 0.2963 - val_accuracy: 1.0000\n",
            "Epoch 82/500\n",
            "15/15 [==============================] - 0s 4ms/step - loss: 0.2864 - accuracy: 0.9777 - val_loss: 0.2915 - val_accuracy: 0.9778\n",
            "Epoch 83/500\n",
            "15/15 [==============================] - 0s 4ms/step - loss: 0.3314 - accuracy: 0.9529 - val_loss: 0.2829 - val_accuracy: 1.0000\n",
            "Epoch 84/500\n",
            "15/15 [==============================] - 0s 4ms/step - loss: 0.2888 - accuracy: 0.9707 - val_loss: 0.2767 - val_accuracy: 0.9778\n",
            "Epoch 85/500\n",
            "15/15 [==============================] - 0s 4ms/step - loss: 0.2904 - accuracy: 0.9859 - val_loss: 0.2701 - val_accuracy: 1.0000\n",
            "Epoch 86/500\n",
            "15/15 [==============================] - 0s 4ms/step - loss: 0.2683 - accuracy: 0.9858 - val_loss: 0.2641 - val_accuracy: 1.0000\n",
            "Epoch 87/500\n",
            "15/15 [==============================] - 0s 4ms/step - loss: 0.2705 - accuracy: 0.9859 - val_loss: 0.2576 - val_accuracy: 1.0000\n",
            "Epoch 88/500\n",
            "15/15 [==============================] - 0s 4ms/step - loss: 0.2626 - accuracy: 0.9746 - val_loss: 0.2515 - val_accuracy: 1.0000\n",
            "Epoch 89/500\n",
            "15/15 [==============================] - 0s 4ms/step - loss: 0.2715 - accuracy: 0.9683 - val_loss: 0.2481 - val_accuracy: 0.9778\n",
            "Epoch 90/500\n",
            "15/15 [==============================] - 0s 4ms/step - loss: 0.2582 - accuracy: 0.9861 - val_loss: 0.2397 - val_accuracy: 1.0000\n",
            "Epoch 91/500\n",
            "15/15 [==============================] - 0s 4ms/step - loss: 0.2567 - accuracy: 0.9760 - val_loss: 0.2361 - val_accuracy: 0.9778\n",
            "Epoch 92/500\n",
            "15/15 [==============================] - 0s 4ms/step - loss: 0.2720 - accuracy: 0.9852 - val_loss: 0.2286 - val_accuracy: 1.0000\n",
            "Epoch 93/500\n",
            "15/15 [==============================] - 0s 4ms/step - loss: 0.2406 - accuracy: 0.9811 - val_loss: 0.2232 - val_accuracy: 1.0000\n",
            "Epoch 94/500\n",
            "15/15 [==============================] - 0s 4ms/step - loss: 0.2519 - accuracy: 0.9852 - val_loss: 0.2185 - val_accuracy: 0.9778\n",
            "Epoch 95/500\n",
            "15/15 [==============================] - 0s 4ms/step - loss: 0.2256 - accuracy: 0.9907 - val_loss: 0.2126 - val_accuracy: 1.0000\n",
            "Epoch 96/500\n",
            "15/15 [==============================] - 0s 4ms/step - loss: 0.2085 - accuracy: 0.9922 - val_loss: 0.2073 - val_accuracy: 1.0000\n",
            "Epoch 97/500\n",
            "15/15 [==============================] - 0s 4ms/step - loss: 0.1995 - accuracy: 0.9866 - val_loss: 0.2025 - val_accuracy: 1.0000\n",
            "Epoch 98/500\n",
            "15/15 [==============================] - 0s 4ms/step - loss: 0.2103 - accuracy: 0.9799 - val_loss: 0.1977 - val_accuracy: 0.9778\n",
            "Epoch 99/500\n",
            "15/15 [==============================] - 0s 4ms/step - loss: 0.2248 - accuracy: 0.9785 - val_loss: 0.1929 - val_accuracy: 1.0000\n",
            "Epoch 100/500\n",
            "15/15 [==============================] - 0s 5ms/step - loss: 0.2459 - accuracy: 0.9600 - val_loss: 0.1885 - val_accuracy: 0.9778\n",
            "Epoch 101/500\n",
            "15/15 [==============================] - 0s 4ms/step - loss: 0.2009 - accuracy: 0.9721 - val_loss: 0.1837 - val_accuracy: 1.0000\n",
            "Epoch 102/500\n",
            "15/15 [==============================] - 0s 4ms/step - loss: 0.1899 - accuracy: 0.9850 - val_loss: 0.1794 - val_accuracy: 1.0000\n",
            "Epoch 103/500\n",
            "15/15 [==============================] - 0s 4ms/step - loss: 0.2079 - accuracy: 0.9752 - val_loss: 0.1772 - val_accuracy: 0.9778\n",
            "Epoch 104/500\n",
            "15/15 [==============================] - 0s 4ms/step - loss: 0.2124 - accuracy: 0.9716 - val_loss: 0.1711 - val_accuracy: 1.0000\n",
            "Epoch 105/500\n",
            "15/15 [==============================] - 0s 4ms/step - loss: 0.1845 - accuracy: 0.9743 - val_loss: 0.1672 - val_accuracy: 1.0000\n",
            "Epoch 106/500\n",
            "15/15 [==============================] - 0s 4ms/step - loss: 0.1891 - accuracy: 0.9633 - val_loss: 0.1640 - val_accuracy: 0.9778\n",
            "Epoch 107/500\n",
            "15/15 [==============================] - 0s 4ms/step - loss: 0.1896 - accuracy: 0.9872 - val_loss: 0.1599 - val_accuracy: 1.0000\n",
            "Epoch 108/500\n",
            "15/15 [==============================] - 0s 4ms/step - loss: 0.2117 - accuracy: 0.9554 - val_loss: 0.1574 - val_accuracy: 0.9778\n",
            "Epoch 109/500\n",
            "15/15 [==============================] - 0s 4ms/step - loss: 0.1877 - accuracy: 0.9596 - val_loss: 0.1527 - val_accuracy: 1.0000\n",
            "Epoch 110/500\n",
            "15/15 [==============================] - 0s 4ms/step - loss: 0.1928 - accuracy: 0.9736 - val_loss: 0.1535 - val_accuracy: 0.9778\n",
            "Epoch 111/500\n",
            "15/15 [==============================] - 0s 4ms/step - loss: 0.1756 - accuracy: 0.9843 - val_loss: 0.1458 - val_accuracy: 1.0000\n",
            "Epoch 112/500\n",
            "15/15 [==============================] - 0s 5ms/step - loss: 0.1890 - accuracy: 0.9532 - val_loss: 0.1425 - val_accuracy: 1.0000\n",
            "Epoch 113/500\n",
            "15/15 [==============================] - 0s 4ms/step - loss: 0.1518 - accuracy: 0.9847 - val_loss: 0.1394 - val_accuracy: 1.0000\n",
            "Epoch 114/500\n",
            "15/15 [==============================] - 0s 5ms/step - loss: 0.2146 - accuracy: 0.9396 - val_loss: 0.1369 - val_accuracy: 0.9778\n",
            "Epoch 115/500\n",
            "15/15 [==============================] - 0s 4ms/step - loss: 0.1571 - accuracy: 0.9847 - val_loss: 0.1338 - val_accuracy: 0.9778\n",
            "Epoch 116/500\n",
            "15/15 [==============================] - 0s 4ms/step - loss: 0.1664 - accuracy: 0.9764 - val_loss: 0.1326 - val_accuracy: 0.9778\n",
            "Epoch 117/500\n",
            "15/15 [==============================] - 0s 3ms/step - loss: 0.1741 - accuracy: 0.9689 - val_loss: 0.1288 - val_accuracy: 1.0000\n",
            "Epoch 118/500\n",
            "15/15 [==============================] - 0s 4ms/step - loss: 0.1478 - accuracy: 0.9718 - val_loss: 0.1277 - val_accuracy: 0.9778\n",
            "Epoch 119/500\n",
            "15/15 [==============================] - 0s 4ms/step - loss: 0.1456 - accuracy: 0.9828 - val_loss: 0.1233 - val_accuracy: 0.9778\n",
            "Epoch 120/500\n",
            "15/15 [==============================] - 0s 4ms/step - loss: 0.1589 - accuracy: 0.9764 - val_loss: 0.1224 - val_accuracy: 0.9778\n",
            "Epoch 121/500\n",
            "15/15 [==============================] - 0s 4ms/step - loss: 0.1636 - accuracy: 0.9867 - val_loss: 0.1190 - val_accuracy: 0.9778\n",
            "Epoch 122/500\n",
            "15/15 [==============================] - 0s 4ms/step - loss: 0.1464 - accuracy: 0.9761 - val_loss: 0.1188 - val_accuracy: 0.9778\n",
            "Epoch 123/500\n",
            "15/15 [==============================] - 0s 4ms/step - loss: 0.1267 - accuracy: 0.9794 - val_loss: 0.1141 - val_accuracy: 1.0000\n",
            "Epoch 124/500\n",
            "15/15 [==============================] - 0s 4ms/step - loss: 0.1390 - accuracy: 0.9646 - val_loss: 0.1141 - val_accuracy: 0.9778\n",
            "Epoch 125/500\n",
            "15/15 [==============================] - 0s 4ms/step - loss: 0.1080 - accuracy: 0.9908 - val_loss: 0.1099 - val_accuracy: 1.0000\n",
            "Epoch 126/500\n",
            "15/15 [==============================] - 0s 4ms/step - loss: 0.1246 - accuracy: 0.9702 - val_loss: 0.1114 - val_accuracy: 0.9778\n",
            "Epoch 127/500\n",
            "15/15 [==============================] - 0s 4ms/step - loss: 0.1283 - accuracy: 0.9831 - val_loss: 0.1064 - val_accuracy: 1.0000\n",
            "Epoch 128/500\n",
            "15/15 [==============================] - 0s 4ms/step - loss: 0.1643 - accuracy: 0.9619 - val_loss: 0.1114 - val_accuracy: 0.9778\n",
            "Epoch 129/500\n",
            "15/15 [==============================] - 0s 4ms/step - loss: 0.1490 - accuracy: 0.9693 - val_loss: 0.1026 - val_accuracy: 1.0000\n",
            "Epoch 130/500\n",
            "15/15 [==============================] - 0s 4ms/step - loss: 0.1327 - accuracy: 0.9594 - val_loss: 0.1018 - val_accuracy: 0.9778\n",
            "Epoch 131/500\n",
            "15/15 [==============================] - 0s 5ms/step - loss: 0.1220 - accuracy: 0.9857 - val_loss: 0.1014 - val_accuracy: 0.9778\n",
            "Epoch 132/500\n",
            "15/15 [==============================] - 0s 4ms/step - loss: 0.1185 - accuracy: 0.9898 - val_loss: 0.0977 - val_accuracy: 1.0000\n",
            "Epoch 133/500\n",
            "15/15 [==============================] - 0s 4ms/step - loss: 0.1252 - accuracy: 0.9720 - val_loss: 0.0968 - val_accuracy: 0.9778\n",
            "Epoch 134/500\n",
            "15/15 [==============================] - 0s 4ms/step - loss: 0.1328 - accuracy: 0.9749 - val_loss: 0.0953 - val_accuracy: 0.9778\n",
            "Epoch 135/500\n",
            "15/15 [==============================] - 0s 4ms/step - loss: 0.1159 - accuracy: 0.9741 - val_loss: 0.0951 - val_accuracy: 0.9778\n",
            "Epoch 136/500\n",
            "15/15 [==============================] - 0s 4ms/step - loss: 0.1073 - accuracy: 0.9854 - val_loss: 0.0927 - val_accuracy: 0.9778\n",
            "Epoch 137/500\n",
            "15/15 [==============================] - 0s 4ms/step - loss: 0.1272 - accuracy: 0.9821 - val_loss: 0.0952 - val_accuracy: 0.9778\n",
            "Epoch 138/500\n",
            "15/15 [==============================] - 0s 4ms/step - loss: 0.1013 - accuracy: 0.9942 - val_loss: 0.0903 - val_accuracy: 0.9778\n",
            "Epoch 139/500\n",
            "15/15 [==============================] - 0s 4ms/step - loss: 0.1083 - accuracy: 0.9852 - val_loss: 0.0885 - val_accuracy: 0.9778\n",
            "Epoch 140/500\n",
            "15/15 [==============================] - 0s 4ms/step - loss: 0.1210 - accuracy: 0.9708 - val_loss: 0.0867 - val_accuracy: 0.9778\n",
            "Epoch 141/500\n",
            "15/15 [==============================] - 0s 4ms/step - loss: 0.0999 - accuracy: 0.9899 - val_loss: 0.0860 - val_accuracy: 0.9778\n",
            "Epoch 142/500\n",
            "15/15 [==============================] - 0s 4ms/step - loss: 0.1168 - accuracy: 0.9782 - val_loss: 0.0853 - val_accuracy: 0.9778\n",
            "Epoch 143/500\n",
            "15/15 [==============================] - 0s 4ms/step - loss: 0.1257 - accuracy: 0.9673 - val_loss: 0.0837 - val_accuracy: 0.9778\n",
            "Epoch 144/500\n",
            "15/15 [==============================] - 0s 4ms/step - loss: 0.1112 - accuracy: 0.9861 - val_loss: 0.0856 - val_accuracy: 0.9778\n",
            "Epoch 145/500\n",
            "15/15 [==============================] - 0s 4ms/step - loss: 0.1325 - accuracy: 0.9778 - val_loss: 0.0815 - val_accuracy: 0.9778\n",
            "Epoch 146/500\n",
            "15/15 [==============================] - 0s 4ms/step - loss: 0.1039 - accuracy: 0.9777 - val_loss: 0.0814 - val_accuracy: 0.9778\n",
            "Epoch 147/500\n",
            "15/15 [==============================] - 0s 4ms/step - loss: 0.1162 - accuracy: 0.9810 - val_loss: 0.0808 - val_accuracy: 0.9778\n",
            "Epoch 148/500\n",
            "15/15 [==============================] - 0s 4ms/step - loss: 0.1121 - accuracy: 0.9869 - val_loss: 0.0811 - val_accuracy: 0.9778\n",
            "Epoch 149/500\n",
            "15/15 [==============================] - 0s 5ms/step - loss: 0.1342 - accuracy: 0.9799 - val_loss: 0.0768 - val_accuracy: 1.0000\n",
            "Epoch 150/500\n",
            "15/15 [==============================] - 0s 4ms/step - loss: 0.1150 - accuracy: 0.9728 - val_loss: 0.0767 - val_accuracy: 0.9778\n",
            "Epoch 151/500\n",
            "15/15 [==============================] - 0s 4ms/step - loss: 0.0930 - accuracy: 0.9804 - val_loss: 0.0761 - val_accuracy: 0.9778\n",
            "Epoch 152/500\n",
            "15/15 [==============================] - 0s 4ms/step - loss: 0.1245 - accuracy: 0.9667 - val_loss: 0.0761 - val_accuracy: 0.9778\n",
            "Epoch 153/500\n",
            "15/15 [==============================] - 0s 4ms/step - loss: 0.0863 - accuracy: 0.9861 - val_loss: 0.0740 - val_accuracy: 0.9778\n",
            "Epoch 154/500\n",
            "15/15 [==============================] - 0s 4ms/step - loss: 0.0864 - accuracy: 0.9754 - val_loss: 0.0725 - val_accuracy: 0.9778\n",
            "Epoch 155/500\n",
            "15/15 [==============================] - 0s 4ms/step - loss: 0.1277 - accuracy: 0.9559 - val_loss: 0.0721 - val_accuracy: 0.9778\n",
            "Epoch 156/500\n",
            "15/15 [==============================] - 0s 4ms/step - loss: 0.1223 - accuracy: 0.9704 - val_loss: 0.0730 - val_accuracy: 0.9778\n",
            "Epoch 157/500\n",
            "15/15 [==============================] - 0s 4ms/step - loss: 0.1119 - accuracy: 0.9768 - val_loss: 0.0710 - val_accuracy: 0.9778\n",
            "Epoch 158/500\n",
            "15/15 [==============================] - 0s 4ms/step - loss: 0.0902 - accuracy: 0.9788 - val_loss: 0.0693 - val_accuracy: 0.9778\n",
            "Epoch 159/500\n",
            "15/15 [==============================] - 0s 4ms/step - loss: 0.0878 - accuracy: 0.9843 - val_loss: 0.0707 - val_accuracy: 0.9778\n",
            "Epoch 160/500\n",
            "15/15 [==============================] - 0s 4ms/step - loss: 0.0924 - accuracy: 0.9891 - val_loss: 0.0693 - val_accuracy: 0.9778\n",
            "Epoch 161/500\n",
            "15/15 [==============================] - 0s 4ms/step - loss: 0.0675 - accuracy: 0.9922 - val_loss: 0.0673 - val_accuracy: 0.9778\n",
            "Epoch 162/500\n",
            "15/15 [==============================] - 0s 4ms/step - loss: 0.1046 - accuracy: 0.9818 - val_loss: 0.0720 - val_accuracy: 0.9778\n",
            "Epoch 163/500\n",
            "15/15 [==============================] - 0s 4ms/step - loss: 0.1097 - accuracy: 0.9715 - val_loss: 0.0661 - val_accuracy: 0.9778\n",
            "Epoch 164/500\n",
            "15/15 [==============================] - 0s 5ms/step - loss: 0.1150 - accuracy: 0.9600 - val_loss: 0.0648 - val_accuracy: 1.0000\n",
            "Epoch 165/500\n",
            "15/15 [==============================] - 0s 5ms/step - loss: 0.0924 - accuracy: 0.9872 - val_loss: 0.0673 - val_accuracy: 0.9778\n",
            "Epoch 166/500\n",
            "15/15 [==============================] - 0s 4ms/step - loss: 0.1001 - accuracy: 0.9812 - val_loss: 0.0638 - val_accuracy: 0.9778\n",
            "Epoch 167/500\n",
            "15/15 [==============================] - 0s 4ms/step - loss: 0.0943 - accuracy: 0.9880 - val_loss: 0.0650 - val_accuracy: 0.9778\n",
            "Epoch 168/500\n",
            "15/15 [==============================] - 0s 5ms/step - loss: 0.1021 - accuracy: 0.9713 - val_loss: 0.0634 - val_accuracy: 0.9778\n",
            "Epoch 169/500\n",
            "15/15 [==============================] - 0s 4ms/step - loss: 0.0862 - accuracy: 0.9813 - val_loss: 0.0637 - val_accuracy: 0.9778\n",
            "Epoch 170/500\n",
            "15/15 [==============================] - 0s 4ms/step - loss: 0.1141 - accuracy: 0.9689 - val_loss: 0.0621 - val_accuracy: 0.9778\n",
            "Epoch 171/500\n",
            "15/15 [==============================] - 0s 4ms/step - loss: 0.1325 - accuracy: 0.9619 - val_loss: 0.0629 - val_accuracy: 0.9778\n",
            "Epoch 172/500\n",
            "15/15 [==============================] - 0s 4ms/step - loss: 0.1111 - accuracy: 0.9679 - val_loss: 0.0602 - val_accuracy: 0.9778\n",
            "Epoch 173/500\n",
            "15/15 [==============================] - 0s 4ms/step - loss: 0.0930 - accuracy: 0.9782 - val_loss: 0.0614 - val_accuracy: 0.9778\n",
            "Epoch 174/500\n",
            "15/15 [==============================] - 0s 4ms/step - loss: 0.0857 - accuracy: 0.9976 - val_loss: 0.0590 - val_accuracy: 1.0000\n",
            "Epoch 175/500\n",
            "15/15 [==============================] - 0s 4ms/step - loss: 0.1077 - accuracy: 0.9768 - val_loss: 0.0662 - val_accuracy: 0.9778\n",
            "Epoch 176/500\n",
            "15/15 [==============================] - 0s 4ms/step - loss: 0.0995 - accuracy: 0.9807 - val_loss: 0.0599 - val_accuracy: 0.9778\n",
            "Epoch 177/500\n",
            "15/15 [==============================] - 0s 4ms/step - loss: 0.0888 - accuracy: 0.9850 - val_loss: 0.0615 - val_accuracy: 0.9778\n",
            "Epoch 178/500\n",
            "15/15 [==============================] - 0s 4ms/step - loss: 0.1000 - accuracy: 0.9749 - val_loss: 0.0663 - val_accuracy: 0.9778\n",
            "Epoch 179/500\n",
            "15/15 [==============================] - 0s 4ms/step - loss: 0.0781 - accuracy: 0.9908 - val_loss: 0.0564 - val_accuracy: 1.0000\n",
            "Epoch 180/500\n",
            "15/15 [==============================] - 0s 5ms/step - loss: 0.0756 - accuracy: 0.9898 - val_loss: 0.0606 - val_accuracy: 0.9778\n",
            "Epoch 181/500\n",
            "15/15 [==============================] - 0s 4ms/step - loss: 0.1035 - accuracy: 0.9867 - val_loss: 0.0583 - val_accuracy: 0.9778\n",
            "Epoch 182/500\n",
            "15/15 [==============================] - 0s 4ms/step - loss: 0.1165 - accuracy: 0.9698 - val_loss: 0.0560 - val_accuracy: 0.9778\n",
            "Epoch 183/500\n",
            "15/15 [==============================] - 0s 4ms/step - loss: 0.0811 - accuracy: 0.9883 - val_loss: 0.0561 - val_accuracy: 0.9778\n",
            "Epoch 184/500\n",
            "15/15 [==============================] - 0s 4ms/step - loss: 0.0743 - accuracy: 0.9938 - val_loss: 0.0556 - val_accuracy: 0.9778\n",
            "Epoch 185/500\n",
            "15/15 [==============================] - 0s 4ms/step - loss: 0.0822 - accuracy: 0.9785 - val_loss: 0.0582 - val_accuracy: 0.9778\n",
            "Epoch 186/500\n",
            "15/15 [==============================] - 0s 5ms/step - loss: 0.0921 - accuracy: 0.9649 - val_loss: 0.0541 - val_accuracy: 0.9778\n",
            "Epoch 187/500\n",
            "15/15 [==============================] - 0s 4ms/step - loss: 0.0822 - accuracy: 0.9875 - val_loss: 0.0547 - val_accuracy: 0.9778\n",
            "Epoch 188/500\n",
            "15/15 [==============================] - 0s 4ms/step - loss: 0.1182 - accuracy: 0.9657 - val_loss: 0.0570 - val_accuracy: 0.9778\n",
            "Epoch 189/500\n",
            "15/15 [==============================] - 0s 4ms/step - loss: 0.1247 - accuracy: 0.9681 - val_loss: 0.0522 - val_accuracy: 1.0000\n",
            "Epoch 190/500\n",
            "15/15 [==============================] - 0s 5ms/step - loss: 0.0792 - accuracy: 0.9881 - val_loss: 0.0633 - val_accuracy: 0.9778\n",
            "Epoch 191/500\n",
            "15/15 [==============================] - 0s 4ms/step - loss: 0.0668 - accuracy: 0.9800 - val_loss: 0.0533 - val_accuracy: 0.9778\n",
            "Epoch 192/500\n",
            "15/15 [==============================] - 0s 4ms/step - loss: 0.0766 - accuracy: 0.9753 - val_loss: 0.0512 - val_accuracy: 1.0000\n",
            "Epoch 193/500\n",
            "15/15 [==============================] - 0s 4ms/step - loss: 0.1002 - accuracy: 0.9715 - val_loss: 0.0607 - val_accuracy: 0.9778\n",
            "Epoch 194/500\n",
            "15/15 [==============================] - 0s 4ms/step - loss: 0.0826 - accuracy: 0.9645 - val_loss: 0.0505 - val_accuracy: 1.0000\n",
            "Epoch 195/500\n",
            "15/15 [==============================] - 0s 4ms/step - loss: 0.0927 - accuracy: 0.9660 - val_loss: 0.0529 - val_accuracy: 0.9778\n",
            "Epoch 196/500\n",
            "15/15 [==============================] - 0s 4ms/step - loss: 0.0917 - accuracy: 0.9666 - val_loss: 0.0527 - val_accuracy: 0.9778\n",
            "Epoch 197/500\n",
            "15/15 [==============================] - 0s 5ms/step - loss: 0.1057 - accuracy: 0.9798 - val_loss: 0.0499 - val_accuracy: 0.9778\n",
            "Epoch 198/500\n",
            "15/15 [==============================] - 0s 4ms/step - loss: 0.0840 - accuracy: 0.9782 - val_loss: 0.0575 - val_accuracy: 0.9778\n",
            "Epoch 199/500\n",
            "15/15 [==============================] - 0s 4ms/step - loss: 0.1026 - accuracy: 0.9476 - val_loss: 0.0495 - val_accuracy: 0.9778\n",
            "Epoch 200/500\n",
            "15/15 [==============================] - 0s 4ms/step - loss: 0.0751 - accuracy: 0.9842 - val_loss: 0.0542 - val_accuracy: 0.9778\n",
            "Epoch 201/500\n",
            "15/15 [==============================] - 0s 5ms/step - loss: 0.0697 - accuracy: 0.9861 - val_loss: 0.0505 - val_accuracy: 0.9778\n",
            "Epoch 202/500\n",
            "15/15 [==============================] - 0s 4ms/step - loss: 0.1020 - accuracy: 0.9745 - val_loss: 0.0522 - val_accuracy: 0.9778\n",
            "Epoch 203/500\n",
            "15/15 [==============================] - 0s 4ms/step - loss: 0.0708 - accuracy: 0.9861 - val_loss: 0.0513 - val_accuracy: 0.9778\n",
            "Epoch 204/500\n",
            "15/15 [==============================] - 0s 4ms/step - loss: 0.0798 - accuracy: 0.9857 - val_loss: 0.0520 - val_accuracy: 0.9778\n",
            "Epoch 205/500\n",
            "15/15 [==============================] - 0s 4ms/step - loss: 0.0752 - accuracy: 0.9927 - val_loss: 0.0481 - val_accuracy: 0.9778\n",
            "Epoch 206/500\n",
            "15/15 [==============================] - 0s 5ms/step - loss: 0.0810 - accuracy: 0.9736 - val_loss: 0.0552 - val_accuracy: 0.9778\n",
            "Epoch 207/500\n",
            "15/15 [==============================] - 0s 4ms/step - loss: 0.0829 - accuracy: 0.9734 - val_loss: 0.0470 - val_accuracy: 1.0000\n",
            "Epoch 208/500\n",
            "15/15 [==============================] - 0s 4ms/step - loss: 0.1302 - accuracy: 0.9599 - val_loss: 0.0568 - val_accuracy: 0.9778\n",
            "Epoch 209/500\n",
            "15/15 [==============================] - 0s 5ms/step - loss: 0.0647 - accuracy: 0.9957 - val_loss: 0.0486 - val_accuracy: 0.9778\n",
            "Epoch 210/500\n",
            "15/15 [==============================] - 0s 4ms/step - loss: 0.0812 - accuracy: 0.9890 - val_loss: 0.0479 - val_accuracy: 0.9778\n",
            "Epoch 211/500\n",
            "15/15 [==============================] - 0s 4ms/step - loss: 0.0752 - accuracy: 0.9950 - val_loss: 0.0524 - val_accuracy: 0.9778\n",
            "Epoch 212/500\n",
            "15/15 [==============================] - 0s 4ms/step - loss: 0.0860 - accuracy: 0.9813 - val_loss: 0.0458 - val_accuracy: 0.9778\n",
            "Epoch 213/500\n",
            "15/15 [==============================] - 0s 4ms/step - loss: 0.0858 - accuracy: 0.9673 - val_loss: 0.0454 - val_accuracy: 0.9778\n",
            "Epoch 214/500\n",
            "15/15 [==============================] - 0s 4ms/step - loss: 0.0840 - accuracy: 0.9791 - val_loss: 0.0488 - val_accuracy: 0.9778\n",
            "Epoch 215/500\n",
            "15/15 [==============================] - 0s 4ms/step - loss: 0.0512 - accuracy: 0.9868 - val_loss: 0.0455 - val_accuracy: 0.9778\n",
            "Epoch 216/500\n",
            "15/15 [==============================] - 0s 4ms/step - loss: 0.0695 - accuracy: 0.9910 - val_loss: 0.0509 - val_accuracy: 0.9778\n",
            "Epoch 217/500\n",
            "15/15 [==============================] - 0s 4ms/step - loss: 0.0695 - accuracy: 0.9880 - val_loss: 0.0509 - val_accuracy: 0.9778\n",
            "Epoch 218/500\n",
            "15/15 [==============================] - 0s 4ms/step - loss: 0.0980 - accuracy: 0.9802 - val_loss: 0.0458 - val_accuracy: 0.9778\n",
            "Epoch 219/500\n",
            "15/15 [==============================] - 0s 4ms/step - loss: 0.0764 - accuracy: 0.9830 - val_loss: 0.0437 - val_accuracy: 1.0000\n",
            "Epoch 220/500\n",
            "15/15 [==============================] - 0s 4ms/step - loss: 0.1298 - accuracy: 0.9498 - val_loss: 0.0476 - val_accuracy: 0.9778\n",
            "Epoch 221/500\n",
            "15/15 [==============================] - 0s 4ms/step - loss: 0.0720 - accuracy: 0.9897 - val_loss: 0.0465 - val_accuracy: 0.9778\n",
            "Epoch 222/500\n",
            "15/15 [==============================] - 0s 4ms/step - loss: 0.0660 - accuracy: 0.9746 - val_loss: 0.0441 - val_accuracy: 0.9778\n",
            "Epoch 223/500\n",
            "15/15 [==============================] - 0s 4ms/step - loss: 0.0911 - accuracy: 0.9832 - val_loss: 0.0465 - val_accuracy: 0.9778\n",
            "Epoch 224/500\n",
            "15/15 [==============================] - 0s 4ms/step - loss: 0.0748 - accuracy: 0.9922 - val_loss: 0.0436 - val_accuracy: 0.9778\n",
            "Epoch 225/500\n",
            "15/15 [==============================] - 0s 4ms/step - loss: 0.1032 - accuracy: 0.9679 - val_loss: 0.0490 - val_accuracy: 0.9778\n",
            "Epoch 226/500\n",
            "15/15 [==============================] - 0s 4ms/step - loss: 0.0997 - accuracy: 0.9775 - val_loss: 0.0424 - val_accuracy: 1.0000\n",
            "Epoch 227/500\n",
            "15/15 [==============================] - 0s 4ms/step - loss: 0.1031 - accuracy: 0.9775 - val_loss: 0.0429 - val_accuracy: 0.9778\n",
            "Epoch 228/500\n",
            "15/15 [==============================] - 0s 4ms/step - loss: 0.0868 - accuracy: 0.9723 - val_loss: 0.0430 - val_accuracy: 0.9778\n",
            "Epoch 229/500\n",
            "15/15 [==============================] - 0s 5ms/step - loss: 0.0775 - accuracy: 0.9813 - val_loss: 0.0470 - val_accuracy: 0.9778\n",
            "Epoch 230/500\n",
            "15/15 [==============================] - 0s 4ms/step - loss: 0.0653 - accuracy: 0.9889 - val_loss: 0.0462 - val_accuracy: 0.9778\n",
            "Epoch 231/500\n",
            "15/15 [==============================] - 0s 4ms/step - loss: 0.0796 - accuracy: 0.9812 - val_loss: 0.0443 - val_accuracy: 0.9778\n",
            "Epoch 232/500\n",
            "15/15 [==============================] - 0s 4ms/step - loss: 0.0766 - accuracy: 0.9859 - val_loss: 0.0459 - val_accuracy: 0.9778\n",
            "Epoch 233/500\n",
            "15/15 [==============================] - 0s 4ms/step - loss: 0.0860 - accuracy: 0.9782 - val_loss: 0.0481 - val_accuracy: 0.9778\n",
            "Epoch 234/500\n",
            "15/15 [==============================] - 0s 4ms/step - loss: 0.0744 - accuracy: 0.9673 - val_loss: 0.0416 - val_accuracy: 0.9778\n",
            "Epoch 235/500\n",
            "15/15 [==============================] - 0s 4ms/step - loss: 0.0744 - accuracy: 0.9876 - val_loss: 0.0455 - val_accuracy: 0.9778\n",
            "Epoch 236/500\n",
            "15/15 [==============================] - 0s 5ms/step - loss: 0.0751 - accuracy: 0.9834 - val_loss: 0.0457 - val_accuracy: 0.9778\n",
            "Epoch 237/500\n",
            "15/15 [==============================] - 0s 4ms/step - loss: 0.0638 - accuracy: 0.9859 - val_loss: 0.0414 - val_accuracy: 0.9778\n",
            "Epoch 238/500\n",
            "15/15 [==============================] - 0s 4ms/step - loss: 0.0543 - accuracy: 0.9889 - val_loss: 0.0503 - val_accuracy: 0.9778\n",
            "Epoch 239/500\n",
            "15/15 [==============================] - 0s 5ms/step - loss: 0.0825 - accuracy: 0.9763 - val_loss: 0.0426 - val_accuracy: 0.9778\n",
            "Epoch 240/500\n",
            "15/15 [==============================] - 0s 4ms/step - loss: 0.0593 - accuracy: 0.9976 - val_loss: 0.0400 - val_accuracy: 0.9778\n",
            "Epoch 241/500\n",
            "15/15 [==============================] - 0s 4ms/step - loss: 0.0623 - accuracy: 0.9915 - val_loss: 0.0518 - val_accuracy: 0.9778\n",
            "Epoch 242/500\n",
            "15/15 [==============================] - 0s 4ms/step - loss: 0.0814 - accuracy: 0.9596 - val_loss: 0.0420 - val_accuracy: 0.9778\n",
            "Epoch 243/500\n",
            "15/15 [==============================] - 0s 4ms/step - loss: 0.0774 - accuracy: 0.9689 - val_loss: 0.0465 - val_accuracy: 0.9778\n",
            "Epoch 244/500\n",
            "15/15 [==============================] - 0s 4ms/step - loss: 0.0754 - accuracy: 0.9829 - val_loss: 0.0397 - val_accuracy: 0.9778\n",
            "Epoch 245/500\n",
            "15/15 [==============================] - 0s 4ms/step - loss: 0.0465 - accuracy: 0.9941 - val_loss: 0.0416 - val_accuracy: 0.9778\n",
            "Epoch 246/500\n",
            "15/15 [==============================] - 0s 4ms/step - loss: 0.0942 - accuracy: 0.9614 - val_loss: 0.0451 - val_accuracy: 0.9778\n",
            "Epoch 247/500\n",
            "15/15 [==============================] - 0s 4ms/step - loss: 0.0768 - accuracy: 0.9748 - val_loss: 0.0411 - val_accuracy: 0.9778\n",
            "Epoch 248/500\n",
            "15/15 [==============================] - 0s 4ms/step - loss: 0.0885 - accuracy: 0.9729 - val_loss: 0.0398 - val_accuracy: 0.9778\n",
            "Epoch 249/500\n",
            "15/15 [==============================] - 0s 4ms/step - loss: 0.0693 - accuracy: 0.9693 - val_loss: 0.0438 - val_accuracy: 0.9778\n",
            "Epoch 250/500\n",
            "15/15 [==============================] - 0s 4ms/step - loss: 0.0639 - accuracy: 0.9812 - val_loss: 0.0405 - val_accuracy: 0.9778\n",
            "Epoch 251/500\n",
            "15/15 [==============================] - 0s 4ms/step - loss: 0.0614 - accuracy: 0.9915 - val_loss: 0.0432 - val_accuracy: 0.9778\n",
            "Epoch 252/500\n",
            "15/15 [==============================] - 0s 4ms/step - loss: 0.1150 - accuracy: 0.9582 - val_loss: 0.0428 - val_accuracy: 0.9778\n",
            "Epoch 253/500\n",
            "15/15 [==============================] - 0s 4ms/step - loss: 0.0771 - accuracy: 0.9748 - val_loss: 0.0405 - val_accuracy: 0.9778\n",
            "Epoch 254/500\n",
            "15/15 [==============================] - 0s 4ms/step - loss: 0.0813 - accuracy: 0.9857 - val_loss: 0.0413 - val_accuracy: 0.9778\n",
            "Epoch 255/500\n",
            "15/15 [==============================] - 0s 4ms/step - loss: 0.0625 - accuracy: 0.9867 - val_loss: 0.0458 - val_accuracy: 0.9778\n",
            "Epoch 256/500\n",
            "15/15 [==============================] - 0s 4ms/step - loss: 0.1051 - accuracy: 0.9614 - val_loss: 0.0425 - val_accuracy: 0.9778\n",
            "Epoch 257/500\n",
            "15/15 [==============================] - 0s 4ms/step - loss: 0.0793 - accuracy: 0.9878 - val_loss: 0.0367 - val_accuracy: 1.0000\n",
            "Epoch 258/500\n",
            "15/15 [==============================] - 0s 4ms/step - loss: 0.0423 - accuracy: 0.9963 - val_loss: 0.0469 - val_accuracy: 0.9778\n",
            "Epoch 259/500\n",
            "15/15 [==============================] - 0s 4ms/step - loss: 0.0799 - accuracy: 0.9831 - val_loss: 0.0383 - val_accuracy: 0.9778\n",
            "Epoch 260/500\n",
            "15/15 [==============================] - 0s 4ms/step - loss: 0.0646 - accuracy: 0.9813 - val_loss: 0.0423 - val_accuracy: 0.9778\n",
            "Epoch 261/500\n",
            "15/15 [==============================] - 0s 5ms/step - loss: 0.0659 - accuracy: 0.9857 - val_loss: 0.0433 - val_accuracy: 0.9778\n",
            "Epoch 262/500\n",
            "15/15 [==============================] - 0s 4ms/step - loss: 0.0872 - accuracy: 0.9693 - val_loss: 0.0423 - val_accuracy: 0.9778\n",
            "Epoch 263/500\n",
            "15/15 [==============================] - 0s 4ms/step - loss: 0.0939 - accuracy: 0.9679 - val_loss: 0.0381 - val_accuracy: 0.9778\n",
            "Epoch 264/500\n",
            "15/15 [==============================] - 0s 4ms/step - loss: 0.0980 - accuracy: 0.9687 - val_loss: 0.0425 - val_accuracy: 0.9778\n",
            "Epoch 265/500\n",
            "15/15 [==============================] - 0s 4ms/step - loss: 0.0866 - accuracy: 0.9754 - val_loss: 0.0382 - val_accuracy: 0.9778\n",
            "Epoch 266/500\n",
            "15/15 [==============================] - 0s 5ms/step - loss: 0.0604 - accuracy: 0.9859 - val_loss: 0.0433 - val_accuracy: 0.9778\n",
            "Epoch 267/500\n",
            "15/15 [==============================] - 0s 4ms/step - loss: 0.0739 - accuracy: 0.9648 - val_loss: 0.0387 - val_accuracy: 0.9778\n",
            "Epoch 268/500\n",
            "15/15 [==============================] - 0s 4ms/step - loss: 0.0513 - accuracy: 0.9910 - val_loss: 0.0362 - val_accuracy: 0.9778\n",
            "Epoch 269/500\n",
            "15/15 [==============================] - 0s 4ms/step - loss: 0.0696 - accuracy: 0.9836 - val_loss: 0.0444 - val_accuracy: 0.9778\n",
            "Epoch 270/500\n",
            "15/15 [==============================] - 0s 4ms/step - loss: 0.0749 - accuracy: 0.9826 - val_loss: 0.0380 - val_accuracy: 0.9778\n",
            "Epoch 271/500\n",
            "15/15 [==============================] - 0s 4ms/step - loss: 0.0783 - accuracy: 0.9905 - val_loss: 0.0493 - val_accuracy: 0.9778\n",
            "Epoch 272/500\n",
            "15/15 [==============================] - 0s 5ms/step - loss: 0.0526 - accuracy: 0.9869 - val_loss: 0.0353 - val_accuracy: 1.0000\n",
            "Epoch 273/500\n",
            "15/15 [==============================] - 0s 5ms/step - loss: 0.0522 - accuracy: 0.9884 - val_loss: 0.0474 - val_accuracy: 0.9778\n",
            "Epoch 274/500\n",
            "15/15 [==============================] - 0s 4ms/step - loss: 0.0704 - accuracy: 0.9760 - val_loss: 0.0357 - val_accuracy: 0.9778\n",
            "Epoch 275/500\n",
            "15/15 [==============================] - 0s 4ms/step - loss: 0.1068 - accuracy: 0.9559 - val_loss: 0.0408 - val_accuracy: 0.9778\n",
            "Epoch 276/500\n",
            "15/15 [==============================] - 0s 5ms/step - loss: 0.0896 - accuracy: 0.9559 - val_loss: 0.0403 - val_accuracy: 0.9778\n",
            "Epoch 277/500\n",
            "15/15 [==============================] - 0s 4ms/step - loss: 0.0477 - accuracy: 0.9879 - val_loss: 0.0365 - val_accuracy: 0.9778\n",
            "Epoch 278/500\n",
            "15/15 [==============================] - 0s 4ms/step - loss: 0.0514 - accuracy: 0.9911 - val_loss: 0.0405 - val_accuracy: 0.9778\n",
            "Epoch 279/500\n",
            "15/15 [==============================] - 0s 5ms/step - loss: 0.0534 - accuracy: 0.9881 - val_loss: 0.0425 - val_accuracy: 0.9778\n",
            "Epoch 280/500\n",
            "15/15 [==============================] - 0s 5ms/step - loss: 0.0422 - accuracy: 0.9970 - val_loss: 0.0367 - val_accuracy: 0.9778\n",
            "Epoch 281/500\n",
            "15/15 [==============================] - 0s 4ms/step - loss: 0.0707 - accuracy: 0.9734 - val_loss: 0.0372 - val_accuracy: 0.9778\n",
            "Epoch 282/500\n",
            "15/15 [==============================] - 0s 4ms/step - loss: 0.0861 - accuracy: 0.9582 - val_loss: 0.0372 - val_accuracy: 0.9778\n",
            "Epoch 283/500\n",
            "15/15 [==============================] - 0s 5ms/step - loss: 0.0750 - accuracy: 0.9627 - val_loss: 0.0387 - val_accuracy: 0.9778\n",
            "Epoch 284/500\n",
            "15/15 [==============================] - 0s 4ms/step - loss: 0.0746 - accuracy: 0.9900 - val_loss: 0.0371 - val_accuracy: 0.9778\n",
            "Epoch 285/500\n",
            "15/15 [==============================] - 0s 4ms/step - loss: 0.0641 - accuracy: 0.9929 - val_loss: 0.0465 - val_accuracy: 0.9778\n",
            "Epoch 286/500\n",
            "15/15 [==============================] - 0s 5ms/step - loss: 0.0542 - accuracy: 0.9813 - val_loss: 0.0338 - val_accuracy: 1.0000\n",
            "Epoch 287/500\n",
            "15/15 [==============================] - 0s 4ms/step - loss: 0.0856 - accuracy: 0.9559 - val_loss: 0.0439 - val_accuracy: 0.9778\n",
            "Epoch 288/500\n",
            "15/15 [==============================] - 0s 4ms/step - loss: 0.0496 - accuracy: 0.9957 - val_loss: 0.0375 - val_accuracy: 0.9778\n",
            "Epoch 289/500\n",
            "15/15 [==============================] - 0s 4ms/step - loss: 0.0871 - accuracy: 0.9737 - val_loss: 0.0406 - val_accuracy: 0.9778\n",
            "Epoch 290/500\n",
            "15/15 [==============================] - 0s 4ms/step - loss: 0.0531 - accuracy: 0.9876 - val_loss: 0.0372 - val_accuracy: 0.9778\n",
            "Epoch 291/500\n",
            "15/15 [==============================] - 0s 5ms/step - loss: 0.0533 - accuracy: 0.9904 - val_loss: 0.0382 - val_accuracy: 0.9778\n",
            "Epoch 292/500\n",
            "15/15 [==============================] - 0s 5ms/step - loss: 0.0665 - accuracy: 0.9934 - val_loss: 0.0423 - val_accuracy: 0.9778\n",
            "Epoch 293/500\n",
            "15/15 [==============================] - 0s 4ms/step - loss: 0.0725 - accuracy: 0.9784 - val_loss: 0.0428 - val_accuracy: 0.9778\n",
            "Epoch 294/500\n",
            "15/15 [==============================] - 0s 5ms/step - loss: 0.1071 - accuracy: 0.9698 - val_loss: 0.0376 - val_accuracy: 0.9778\n",
            "Epoch 295/500\n",
            "15/15 [==============================] - 0s 5ms/step - loss: 0.0549 - accuracy: 0.9803 - val_loss: 0.0360 - val_accuracy: 0.9778\n",
            "Epoch 296/500\n",
            "15/15 [==============================] - 0s 4ms/step - loss: 0.0764 - accuracy: 0.9842 - val_loss: 0.0429 - val_accuracy: 0.9778\n",
            "Epoch 297/500\n",
            "15/15 [==============================] - 0s 4ms/step - loss: 0.0539 - accuracy: 0.9908 - val_loss: 0.0380 - val_accuracy: 0.9778\n",
            "Epoch 298/500\n",
            "15/15 [==============================] - 0s 5ms/step - loss: 0.0689 - accuracy: 0.9842 - val_loss: 0.0386 - val_accuracy: 0.9778\n",
            "Epoch 299/500\n",
            "15/15 [==============================] - 0s 4ms/step - loss: 0.0578 - accuracy: 0.9800 - val_loss: 0.0343 - val_accuracy: 0.9778\n",
            "Epoch 300/500\n",
            "15/15 [==============================] - 0s 4ms/step - loss: 0.0755 - accuracy: 0.9821 - val_loss: 0.0421 - val_accuracy: 0.9778\n",
            "Epoch 301/500\n",
            "15/15 [==============================] - 0s 4ms/step - loss: 0.0594 - accuracy: 0.9890 - val_loss: 0.0337 - val_accuracy: 0.9778\n",
            "Epoch 302/500\n",
            "15/15 [==============================] - 0s 5ms/step - loss: 0.0584 - accuracy: 0.9775 - val_loss: 0.0357 - val_accuracy: 0.9778\n",
            "Epoch 303/500\n",
            "15/15 [==============================] - 0s 4ms/step - loss: 0.0395 - accuracy: 0.9881 - val_loss: 0.0443 - val_accuracy: 0.9778\n",
            "Epoch 304/500\n",
            "15/15 [==============================] - 0s 4ms/step - loss: 0.0850 - accuracy: 0.9733 - val_loss: 0.0344 - val_accuracy: 0.9778\n",
            "Epoch 305/500\n",
            "15/15 [==============================] - 0s 5ms/step - loss: 0.0748 - accuracy: 0.9833 - val_loss: 0.0343 - val_accuracy: 0.9778\n",
            "Epoch 306/500\n",
            "15/15 [==============================] - 0s 4ms/step - loss: 0.0656 - accuracy: 0.9726 - val_loss: 0.0467 - val_accuracy: 0.9778\n",
            "Epoch 307/500\n",
            "15/15 [==============================] - 0s 4ms/step - loss: 0.0496 - accuracy: 0.9904 - val_loss: 0.0360 - val_accuracy: 0.9778\n",
            "Epoch 308/500\n",
            "15/15 [==============================] - 0s 4ms/step - loss: 0.0673 - accuracy: 0.9802 - val_loss: 0.0384 - val_accuracy: 0.9778\n",
            "Epoch 309/500\n",
            "15/15 [==============================] - 0s 5ms/step - loss: 0.0695 - accuracy: 0.9831 - val_loss: 0.0390 - val_accuracy: 0.9778\n",
            "Epoch 310/500\n",
            "15/15 [==============================] - 0s 5ms/step - loss: 0.0888 - accuracy: 0.9671 - val_loss: 0.0364 - val_accuracy: 0.9778\n",
            "Epoch 311/500\n",
            "15/15 [==============================] - 0s 4ms/step - loss: 0.0431 - accuracy: 0.9898 - val_loss: 0.0324 - val_accuracy: 0.9778\n",
            "Epoch 312/500\n",
            "15/15 [==============================] - 0s 5ms/step - loss: 0.0575 - accuracy: 0.9866 - val_loss: 0.0448 - val_accuracy: 0.9778\n",
            "Epoch 313/500\n",
            "15/15 [==============================] - 0s 4ms/step - loss: 0.0859 - accuracy: 0.9799 - val_loss: 0.0331 - val_accuracy: 0.9778\n",
            "Epoch 314/500\n",
            "15/15 [==============================] - 0s 4ms/step - loss: 0.0547 - accuracy: 0.9840 - val_loss: 0.0387 - val_accuracy: 0.9778\n",
            "Epoch 315/500\n",
            "15/15 [==============================] - 0s 5ms/step - loss: 0.0420 - accuracy: 0.9970 - val_loss: 0.0356 - val_accuracy: 0.9778\n",
            "Epoch 316/500\n",
            "15/15 [==============================] - 0s 4ms/step - loss: 0.0446 - accuracy: 0.9908 - val_loss: 0.0398 - val_accuracy: 0.9778\n",
            "Epoch 317/500\n",
            "15/15 [==============================] - 0s 4ms/step - loss: 0.0590 - accuracy: 0.9791 - val_loss: 0.0389 - val_accuracy: 0.9778\n",
            "Epoch 318/500\n",
            "15/15 [==============================] - 0s 4ms/step - loss: 0.0765 - accuracy: 0.9740 - val_loss: 0.0333 - val_accuracy: 0.9778\n",
            "Epoch 319/500\n",
            "15/15 [==============================] - 0s 4ms/step - loss: 0.0589 - accuracy: 0.9852 - val_loss: 0.0426 - val_accuracy: 0.9778\n",
            "Epoch 320/500\n",
            "15/15 [==============================] - 0s 4ms/step - loss: 0.0940 - accuracy: 0.9748 - val_loss: 0.0339 - val_accuracy: 0.9778\n",
            "Epoch 321/500\n",
            "15/15 [==============================] - 0s 4ms/step - loss: 0.0594 - accuracy: 0.9861 - val_loss: 0.0343 - val_accuracy: 0.9778\n",
            "Epoch 322/500\n",
            "15/15 [==============================] - 0s 4ms/step - loss: 0.0556 - accuracy: 0.9831 - val_loss: 0.0463 - val_accuracy: 0.9778\n",
            "Epoch 323/500\n",
            "15/15 [==============================] - 0s 5ms/step - loss: 0.0990 - accuracy: 0.9559 - val_loss: 0.0352 - val_accuracy: 0.9778\n",
            "Epoch 324/500\n",
            "15/15 [==============================] - 0s 5ms/step - loss: 0.0830 - accuracy: 0.9775 - val_loss: 0.0345 - val_accuracy: 0.9778\n",
            "Epoch 325/500\n",
            "15/15 [==============================] - 0s 4ms/step - loss: 0.0842 - accuracy: 0.9693 - val_loss: 0.0403 - val_accuracy: 0.9778\n",
            "Epoch 326/500\n",
            "15/15 [==============================] - 0s 4ms/step - loss: 0.0618 - accuracy: 0.9842 - val_loss: 0.0385 - val_accuracy: 0.9778\n",
            "Epoch 327/500\n",
            "15/15 [==============================] - 0s 5ms/step - loss: 0.0602 - accuracy: 0.9821 - val_loss: 0.0386 - val_accuracy: 0.9778\n",
            "Epoch 328/500\n",
            "15/15 [==============================] - 0s 4ms/step - loss: 0.0490 - accuracy: 0.9922 - val_loss: 0.0340 - val_accuracy: 0.9778\n",
            "Epoch 329/500\n",
            "15/15 [==============================] - 0s 4ms/step - loss: 0.0387 - accuracy: 0.9891 - val_loss: 0.0356 - val_accuracy: 0.9778\n",
            "Epoch 330/500\n",
            "15/15 [==============================] - 0s 4ms/step - loss: 0.0778 - accuracy: 0.9820 - val_loss: 0.0413 - val_accuracy: 0.9778\n",
            "Epoch 331/500\n",
            "15/15 [==============================] - 0s 5ms/step - loss: 0.0712 - accuracy: 0.9733 - val_loss: 0.0324 - val_accuracy: 0.9778\n",
            "Epoch 332/500\n",
            "15/15 [==============================] - 0s 4ms/step - loss: 0.0449 - accuracy: 0.9900 - val_loss: 0.0419 - val_accuracy: 0.9778\n",
            "Epoch 333/500\n",
            "15/15 [==============================] - 0s 5ms/step - loss: 0.0990 - accuracy: 0.9940 - val_loss: 0.0352 - val_accuracy: 0.9778\n",
            "Epoch 334/500\n",
            "15/15 [==============================] - 0s 4ms/step - loss: 0.0825 - accuracy: 0.9644 - val_loss: 0.0366 - val_accuracy: 0.9778\n",
            "Epoch 335/500\n",
            "15/15 [==============================] - 0s 4ms/step - loss: 0.0592 - accuracy: 0.9836 - val_loss: 0.0338 - val_accuracy: 0.9778\n",
            "Epoch 336/500\n",
            "15/15 [==============================] - 0s 4ms/step - loss: 0.0490 - accuracy: 0.9927 - val_loss: 0.0385 - val_accuracy: 0.9778\n",
            "Epoch 337/500\n",
            "15/15 [==============================] - 0s 4ms/step - loss: 0.0828 - accuracy: 0.9480 - val_loss: 0.0388 - val_accuracy: 0.9778\n",
            "Epoch 338/500\n",
            "15/15 [==============================] - 0s 4ms/step - loss: 0.0491 - accuracy: 0.9891 - val_loss: 0.0354 - val_accuracy: 0.9778\n",
            "Epoch 339/500\n",
            "15/15 [==============================] - 0s 4ms/step - loss: 0.0623 - accuracy: 0.9693 - val_loss: 0.0387 - val_accuracy: 0.9778\n",
            "Epoch 340/500\n",
            "15/15 [==============================] - 0s 5ms/step - loss: 0.0698 - accuracy: 0.9843 - val_loss: 0.0310 - val_accuracy: 0.9778\n",
            "Epoch 341/500\n",
            "15/15 [==============================] - 0s 4ms/step - loss: 0.0609 - accuracy: 0.9941 - val_loss: 0.0381 - val_accuracy: 0.9778\n",
            "Epoch 342/500\n",
            "15/15 [==============================] - 0s 4ms/step - loss: 0.0705 - accuracy: 0.9813 - val_loss: 0.0351 - val_accuracy: 0.9778\n",
            "Epoch 343/500\n",
            "15/15 [==============================] - 0s 4ms/step - loss: 0.0462 - accuracy: 0.9938 - val_loss: 0.0327 - val_accuracy: 0.9778\n",
            "Epoch 344/500\n",
            "15/15 [==============================] - 0s 4ms/step - loss: 0.0592 - accuracy: 0.9775 - val_loss: 0.0417 - val_accuracy: 0.9778\n",
            "Epoch 345/500\n",
            "15/15 [==============================] - 0s 5ms/step - loss: 0.0596 - accuracy: 0.9988 - val_loss: 0.0306 - val_accuracy: 0.9778\n",
            "Epoch 346/500\n",
            "15/15 [==============================] - 0s 5ms/step - loss: 0.0732 - accuracy: 0.9730 - val_loss: 0.0402 - val_accuracy: 0.9778\n",
            "Epoch 347/500\n",
            "15/15 [==============================] - 0s 5ms/step - loss: 0.0749 - accuracy: 0.9842 - val_loss: 0.0343 - val_accuracy: 0.9778\n",
            "Epoch 348/500\n",
            "15/15 [==============================] - 0s 4ms/step - loss: 0.0941 - accuracy: 0.9698 - val_loss: 0.0376 - val_accuracy: 0.9778\n",
            "Epoch 349/500\n",
            "15/15 [==============================] - 0s 4ms/step - loss: 0.0564 - accuracy: 0.9850 - val_loss: 0.0309 - val_accuracy: 0.9778\n",
            "Epoch 350/500\n",
            "15/15 [==============================] - 0s 4ms/step - loss: 0.0628 - accuracy: 0.9859 - val_loss: 0.0435 - val_accuracy: 0.9778\n",
            "Epoch 351/500\n",
            "15/15 [==============================] - 0s 4ms/step - loss: 0.0467 - accuracy: 0.9857 - val_loss: 0.0384 - val_accuracy: 0.9778\n",
            "Epoch 352/500\n",
            "15/15 [==============================] - 0s 4ms/step - loss: 0.0376 - accuracy: 0.9947 - val_loss: 0.0311 - val_accuracy: 0.9778\n",
            "Epoch 353/500\n",
            "15/15 [==============================] - 0s 4ms/step - loss: 0.0404 - accuracy: 0.9919 - val_loss: 0.0424 - val_accuracy: 0.9778\n",
            "Epoch 354/500\n",
            "15/15 [==============================] - 0s 5ms/step - loss: 0.0625 - accuracy: 0.9884 - val_loss: 0.0353 - val_accuracy: 0.9778\n",
            "Epoch 355/500\n",
            "15/15 [==============================] - 0s 4ms/step - loss: 0.0675 - accuracy: 0.9826 - val_loss: 0.0350 - val_accuracy: 0.9778\n",
            "Epoch 356/500\n",
            "15/15 [==============================] - 0s 4ms/step - loss: 0.0612 - accuracy: 0.9950 - val_loss: 0.0369 - val_accuracy: 0.9778\n",
            "Epoch 357/500\n",
            "15/15 [==============================] - 0s 5ms/step - loss: 0.0614 - accuracy: 0.9934 - val_loss: 0.0353 - val_accuracy: 0.9778\n",
            "Epoch 358/500\n",
            "15/15 [==============================] - 0s 4ms/step - loss: 0.0386 - accuracy: 0.9963 - val_loss: 0.0351 - val_accuracy: 0.9778\n",
            "Epoch 359/500\n",
            "15/15 [==============================] - 0s 5ms/step - loss: 0.0669 - accuracy: 0.9902 - val_loss: 0.0411 - val_accuracy: 0.9778\n",
            "Epoch 360/500\n",
            "15/15 [==============================] - 0s 5ms/step - loss: 0.0531 - accuracy: 0.9843 - val_loss: 0.0334 - val_accuracy: 0.9778\n",
            "Epoch 361/500\n",
            "15/15 [==============================] - 0s 4ms/step - loss: 0.0721 - accuracy: 0.9867 - val_loss: 0.0340 - val_accuracy: 0.9778\n",
            "Epoch 362/500\n",
            "15/15 [==============================] - 0s 4ms/step - loss: 0.0624 - accuracy: 0.9850 - val_loss: 0.0359 - val_accuracy: 0.9778\n",
            "Epoch 363/500\n",
            "15/15 [==============================] - 0s 4ms/step - loss: 0.0686 - accuracy: 0.9890 - val_loss: 0.0348 - val_accuracy: 0.9778\n",
            "Epoch 364/500\n",
            "15/15 [==============================] - 0s 4ms/step - loss: 0.0559 - accuracy: 0.9781 - val_loss: 0.0389 - val_accuracy: 0.9778\n",
            "Epoch 365/500\n",
            "15/15 [==============================] - 0s 4ms/step - loss: 0.0758 - accuracy: 0.9791 - val_loss: 0.0324 - val_accuracy: 0.9778\n",
            "Epoch 366/500\n",
            "15/15 [==============================] - 0s 5ms/step - loss: 0.0616 - accuracy: 0.9852 - val_loss: 0.0396 - val_accuracy: 0.9778\n",
            "Epoch 367/500\n",
            "15/15 [==============================] - 0s 5ms/step - loss: 0.0731 - accuracy: 0.9802 - val_loss: 0.0424 - val_accuracy: 0.9778\n",
            "Epoch 368/500\n",
            "15/15 [==============================] - 0s 5ms/step - loss: 0.0751 - accuracy: 0.9719 - val_loss: 0.0313 - val_accuracy: 0.9778\n",
            "Epoch 369/500\n",
            "15/15 [==============================] - 0s 4ms/step - loss: 0.0698 - accuracy: 0.9785 - val_loss: 0.0391 - val_accuracy: 0.9778\n",
            "Epoch 370/500\n",
            "15/15 [==============================] - 0s 5ms/step - loss: 0.0455 - accuracy: 0.9876 - val_loss: 0.0368 - val_accuracy: 0.9778\n",
            "Epoch 371/500\n",
            "15/15 [==============================] - 0s 4ms/step - loss: 0.0533 - accuracy: 0.9782 - val_loss: 0.0340 - val_accuracy: 0.9778\n",
            "Epoch 372/500\n",
            "15/15 [==============================] - 0s 4ms/step - loss: 0.0535 - accuracy: 0.9880 - val_loss: 0.0422 - val_accuracy: 0.9778\n",
            "Epoch 373/500\n",
            "15/15 [==============================] - 0s 4ms/step - loss: 0.0558 - accuracy: 0.9932 - val_loss: 0.0351 - val_accuracy: 0.9778\n",
            "Epoch 374/500\n",
            "15/15 [==============================] - 0s 4ms/step - loss: 0.0897 - accuracy: 0.9663 - val_loss: 0.0344 - val_accuracy: 0.9778\n",
            "Epoch 375/500\n",
            "15/15 [==============================] - 0s 5ms/step - loss: 0.0605 - accuracy: 0.9772 - val_loss: 0.0350 - val_accuracy: 0.9778\n",
            "Epoch 376/500\n",
            "15/15 [==============================] - 0s 5ms/step - loss: 0.0649 - accuracy: 0.9870 - val_loss: 0.0335 - val_accuracy: 0.9778\n",
            "Epoch 377/500\n",
            "15/15 [==============================] - 0s 4ms/step - loss: 0.0457 - accuracy: 0.9890 - val_loss: 0.0365 - val_accuracy: 0.9778\n",
            "Epoch 378/500\n",
            "15/15 [==============================] - 0s 4ms/step - loss: 0.0488 - accuracy: 0.9910 - val_loss: 0.0363 - val_accuracy: 0.9778\n",
            "Epoch 379/500\n",
            "15/15 [==============================] - 0s 4ms/step - loss: 0.0694 - accuracy: 0.9917 - val_loss: 0.0367 - val_accuracy: 0.9778\n",
            "Epoch 380/500\n",
            "15/15 [==============================] - 0s 5ms/step - loss: 0.0750 - accuracy: 0.9778 - val_loss: 0.0351 - val_accuracy: 0.9778\n",
            "Epoch 381/500\n",
            "15/15 [==============================] - 0s 5ms/step - loss: 0.0680 - accuracy: 0.9787 - val_loss: 0.0350 - val_accuracy: 0.9778\n",
            "Epoch 382/500\n",
            "15/15 [==============================] - 0s 5ms/step - loss: 0.0415 - accuracy: 0.9891 - val_loss: 0.0333 - val_accuracy: 0.9778\n",
            "Epoch 383/500\n",
            "15/15 [==============================] - 0s 5ms/step - loss: 0.0553 - accuracy: 0.9938 - val_loss: 0.0328 - val_accuracy: 0.9778\n",
            "Epoch 384/500\n",
            "15/15 [==============================] - 0s 5ms/step - loss: 0.0650 - accuracy: 0.9866 - val_loss: 0.0477 - val_accuracy: 0.9778\n",
            "Epoch 385/500\n",
            "15/15 [==============================] - 0s 4ms/step - loss: 0.0767 - accuracy: 0.9787 - val_loss: 0.0299 - val_accuracy: 0.9778\n",
            "Epoch 386/500\n",
            "15/15 [==============================] - 0s 4ms/step - loss: 0.0909 - accuracy: 0.9778 - val_loss: 0.0327 - val_accuracy: 0.9778\n",
            "Epoch 387/500\n",
            "15/15 [==============================] - 0s 5ms/step - loss: 0.0515 - accuracy: 0.9791 - val_loss: 0.0365 - val_accuracy: 0.9778\n",
            "Epoch 388/500\n",
            "15/15 [==============================] - 0s 4ms/step - loss: 0.0510 - accuracy: 0.9905 - val_loss: 0.0320 - val_accuracy: 0.9778\n",
            "Epoch 389/500\n",
            "15/15 [==============================] - 0s 4ms/step - loss: 0.1000 - accuracy: 0.9686 - val_loss: 0.0373 - val_accuracy: 0.9778\n",
            "Epoch 390/500\n",
            "15/15 [==============================] - 0s 4ms/step - loss: 0.0623 - accuracy: 0.9836 - val_loss: 0.0349 - val_accuracy: 0.9778\n",
            "Epoch 391/500\n",
            "15/15 [==============================] - 0s 4ms/step - loss: 0.0758 - accuracy: 0.9821 - val_loss: 0.0361 - val_accuracy: 0.9778\n",
            "Epoch 392/500\n",
            "15/15 [==============================] - 0s 4ms/step - loss: 0.0533 - accuracy: 0.9850 - val_loss: 0.0304 - val_accuracy: 0.9778\n",
            "Epoch 393/500\n",
            "15/15 [==============================] - 0s 4ms/step - loss: 0.0796 - accuracy: 0.9536 - val_loss: 0.0367 - val_accuracy: 0.9778\n",
            "Epoch 394/500\n",
            "15/15 [==============================] - 0s 4ms/step - loss: 0.0632 - accuracy: 0.9689 - val_loss: 0.0302 - val_accuracy: 0.9778\n",
            "Epoch 395/500\n",
            "15/15 [==============================] - 0s 4ms/step - loss: 0.0614 - accuracy: 0.9890 - val_loss: 0.0338 - val_accuracy: 0.9778\n",
            "Epoch 396/500\n",
            "15/15 [==============================] - 0s 4ms/step - loss: 0.0519 - accuracy: 0.9934 - val_loss: 0.0352 - val_accuracy: 0.9778\n",
            "Epoch 397/500\n",
            "15/15 [==============================] - 0s 4ms/step - loss: 0.0804 - accuracy: 0.9671 - val_loss: 0.0402 - val_accuracy: 0.9778\n",
            "Epoch 398/500\n",
            "15/15 [==============================] - 0s 5ms/step - loss: 0.0779 - accuracy: 0.9737 - val_loss: 0.0291 - val_accuracy: 0.9778\n",
            "Epoch 399/500\n",
            "15/15 [==============================] - 0s 5ms/step - loss: 0.0368 - accuracy: 0.9890 - val_loss: 0.0316 - val_accuracy: 0.9778\n",
            "Epoch 400/500\n",
            "15/15 [==============================] - 0s 4ms/step - loss: 0.0417 - accuracy: 0.9938 - val_loss: 0.0353 - val_accuracy: 0.9778\n",
            "Epoch 401/500\n",
            "15/15 [==============================] - 0s 4ms/step - loss: 0.0644 - accuracy: 0.9836 - val_loss: 0.0365 - val_accuracy: 0.9778\n",
            "Epoch 402/500\n",
            "15/15 [==============================] - 0s 4ms/step - loss: 0.0514 - accuracy: 0.9702 - val_loss: 0.0376 - val_accuracy: 0.9778\n",
            "Epoch 403/500\n",
            "15/15 [==============================] - 0s 4ms/step - loss: 0.0780 - accuracy: 0.9778 - val_loss: 0.0331 - val_accuracy: 0.9778\n",
            "Epoch 404/500\n",
            "15/15 [==============================] - 0s 4ms/step - loss: 0.0357 - accuracy: 0.9947 - val_loss: 0.0322 - val_accuracy: 0.9778\n",
            "Epoch 405/500\n",
            "15/15 [==============================] - 0s 5ms/step - loss: 0.0649 - accuracy: 0.9540 - val_loss: 0.0371 - val_accuracy: 0.9778\n",
            "Epoch 406/500\n",
            "15/15 [==============================] - 0s 5ms/step - loss: 0.0693 - accuracy: 0.9638 - val_loss: 0.0283 - val_accuracy: 0.9778\n",
            "Epoch 407/500\n",
            "15/15 [==============================] - 0s 4ms/step - loss: 0.0462 - accuracy: 0.9976 - val_loss: 0.0281 - val_accuracy: 0.9778\n",
            "Epoch 408/500\n",
            "15/15 [==============================] - 0s 4ms/step - loss: 0.0381 - accuracy: 0.9886 - val_loss: 0.0450 - val_accuracy: 0.9778\n",
            "Epoch 409/500\n",
            "15/15 [==============================] - 0s 5ms/step - loss: 0.0492 - accuracy: 0.9902 - val_loss: 0.0341 - val_accuracy: 0.9778\n",
            "Epoch 410/500\n",
            "15/15 [==============================] - 0s 5ms/step - loss: 0.0466 - accuracy: 0.9821 - val_loss: 0.0307 - val_accuracy: 0.9778\n",
            "Epoch 411/500\n",
            "15/15 [==============================] - 0s 4ms/step - loss: 0.0578 - accuracy: 0.9942 - val_loss: 0.0351 - val_accuracy: 0.9778\n",
            "Epoch 412/500\n",
            "15/15 [==============================] - 0s 4ms/step - loss: 0.0860 - accuracy: 0.9787 - val_loss: 0.0391 - val_accuracy: 0.9778\n",
            "Epoch 413/500\n",
            "15/15 [==============================] - 0s 5ms/step - loss: 0.0509 - accuracy: 0.9905 - val_loss: 0.0397 - val_accuracy: 0.9778\n",
            "Epoch 414/500\n",
            "15/15 [==============================] - 0s 5ms/step - loss: 0.0441 - accuracy: 0.9831 - val_loss: 0.0326 - val_accuracy: 0.9778\n",
            "Epoch 415/500\n",
            "15/15 [==============================] - 0s 5ms/step - loss: 0.0953 - accuracy: 0.9647 - val_loss: 0.0299 - val_accuracy: 0.9778\n",
            "Epoch 416/500\n",
            "15/15 [==============================] - 0s 5ms/step - loss: 0.0992 - accuracy: 0.9671 - val_loss: 0.0412 - val_accuracy: 0.9778\n",
            "Epoch 417/500\n",
            "15/15 [==============================] - 0s 5ms/step - loss: 0.0479 - accuracy: 0.9904 - val_loss: 0.0329 - val_accuracy: 0.9778\n",
            "Epoch 418/500\n",
            "15/15 [==============================] - 0s 4ms/step - loss: 0.0448 - accuracy: 0.9828 - val_loss: 0.0364 - val_accuracy: 0.9778\n",
            "Epoch 419/500\n",
            "15/15 [==============================] - 0s 4ms/step - loss: 0.0736 - accuracy: 0.9775 - val_loss: 0.0282 - val_accuracy: 0.9778\n",
            "Epoch 420/500\n",
            "15/15 [==============================] - 0s 5ms/step - loss: 0.0515 - accuracy: 0.9859 - val_loss: 0.0360 - val_accuracy: 0.9778\n",
            "Epoch 421/500\n",
            "15/15 [==============================] - 0s 4ms/step - loss: 0.0618 - accuracy: 0.9642 - val_loss: 0.0373 - val_accuracy: 0.9778\n",
            "Epoch 422/500\n",
            "15/15 [==============================] - 0s 4ms/step - loss: 0.0731 - accuracy: 0.9599 - val_loss: 0.0293 - val_accuracy: 0.9778\n",
            "Epoch 423/500\n",
            "15/15 [==============================] - 0s 4ms/step - loss: 0.0441 - accuracy: 0.9866 - val_loss: 0.0370 - val_accuracy: 0.9778\n",
            "Epoch 424/500\n",
            "15/15 [==============================] - 0s 4ms/step - loss: 0.0651 - accuracy: 0.9761 - val_loss: 0.0365 - val_accuracy: 0.9778\n",
            "Epoch 425/500\n",
            "15/15 [==============================] - 0s 4ms/step - loss: 0.0933 - accuracy: 0.9425 - val_loss: 0.0276 - val_accuracy: 0.9778\n",
            "Epoch 426/500\n",
            "15/15 [==============================] - 0s 4ms/step - loss: 0.0598 - accuracy: 0.9846 - val_loss: 0.0349 - val_accuracy: 0.9778\n",
            "Epoch 427/500\n",
            "15/15 [==============================] - 0s 5ms/step - loss: 0.0515 - accuracy: 0.9956 - val_loss: 0.0332 - val_accuracy: 0.9778\n",
            "Epoch 428/500\n",
            "15/15 [==============================] - 0s 4ms/step - loss: 0.0589 - accuracy: 0.9868 - val_loss: 0.0441 - val_accuracy: 0.9778\n",
            "Epoch 429/500\n",
            "15/15 [==============================] - 0s 4ms/step - loss: 0.0647 - accuracy: 0.9947 - val_loss: 0.0249 - val_accuracy: 1.0000\n",
            "Epoch 430/500\n",
            "15/15 [==============================] - 0s 4ms/step - loss: 0.1074 - accuracy: 0.9586 - val_loss: 0.0447 - val_accuracy: 0.9778\n",
            "Epoch 431/500\n",
            "15/15 [==============================] - 0s 4ms/step - loss: 0.0599 - accuracy: 0.9870 - val_loss: 0.0308 - val_accuracy: 0.9778\n",
            "Epoch 432/500\n",
            "15/15 [==============================] - 0s 5ms/step - loss: 0.0639 - accuracy: 0.9869 - val_loss: 0.0421 - val_accuracy: 0.9778\n",
            "Epoch 433/500\n",
            "15/15 [==============================] - 0s 4ms/step - loss: 0.0478 - accuracy: 0.9911 - val_loss: 0.0319 - val_accuracy: 0.9778\n",
            "Epoch 434/500\n",
            "15/15 [==============================] - 0s 4ms/step - loss: 0.0483 - accuracy: 0.9897 - val_loss: 0.0366 - val_accuracy: 0.9778\n",
            "Epoch 435/500\n",
            "15/15 [==============================] - 0s 5ms/step - loss: 0.0593 - accuracy: 0.9749 - val_loss: 0.0445 - val_accuracy: 0.9778\n",
            "Epoch 436/500\n",
            "15/15 [==============================] - 0s 4ms/step - loss: 0.0607 - accuracy: 0.9815 - val_loss: 0.0264 - val_accuracy: 0.9778\n",
            "Epoch 437/500\n",
            "15/15 [==============================] - 0s 4ms/step - loss: 0.0418 - accuracy: 0.9932 - val_loss: 0.0401 - val_accuracy: 0.9778\n",
            "Epoch 438/500\n",
            "15/15 [==============================] - 0s 4ms/step - loss: 0.0717 - accuracy: 0.9799 - val_loss: 0.0388 - val_accuracy: 0.9778\n",
            "Epoch 439/500\n",
            "15/15 [==============================] - 0s 4ms/step - loss: 0.0443 - accuracy: 0.9851 - val_loss: 0.0293 - val_accuracy: 0.9778\n",
            "Epoch 440/500\n",
            "15/15 [==============================] - 0s 4ms/step - loss: 0.0498 - accuracy: 0.9870 - val_loss: 0.0379 - val_accuracy: 0.9778\n",
            "Epoch 441/500\n",
            "15/15 [==============================] - 0s 4ms/step - loss: 0.0863 - accuracy: 0.9902 - val_loss: 0.0368 - val_accuracy: 0.9778\n",
            "Epoch 442/500\n",
            "15/15 [==============================] - 0s 5ms/step - loss: 0.0474 - accuracy: 0.9880 - val_loss: 0.0336 - val_accuracy: 0.9778\n",
            "Epoch 443/500\n",
            "15/15 [==============================] - 0s 4ms/step - loss: 0.0738 - accuracy: 0.9762 - val_loss: 0.0361 - val_accuracy: 0.9778\n",
            "Epoch 444/500\n",
            "15/15 [==============================] - 0s 4ms/step - loss: 0.0644 - accuracy: 0.9771 - val_loss: 0.0374 - val_accuracy: 0.9778\n",
            "Epoch 445/500\n",
            "15/15 [==============================] - 0s 4ms/step - loss: 0.0378 - accuracy: 0.9888 - val_loss: 0.0285 - val_accuracy: 0.9778\n",
            "Epoch 446/500\n",
            "15/15 [==============================] - 0s 4ms/step - loss: 0.0925 - accuracy: 0.9510 - val_loss: 0.0436 - val_accuracy: 0.9778\n",
            "Epoch 447/500\n",
            "15/15 [==============================] - 0s 4ms/step - loss: 0.0477 - accuracy: 0.9859 - val_loss: 0.0349 - val_accuracy: 0.9778\n",
            "Epoch 448/500\n",
            "15/15 [==============================] - 0s 4ms/step - loss: 0.0811 - accuracy: 0.9787 - val_loss: 0.0361 - val_accuracy: 0.9778\n",
            "Epoch 449/500\n",
            "15/15 [==============================] - 0s 5ms/step - loss: 0.0869 - accuracy: 0.9614 - val_loss: 0.0294 - val_accuracy: 0.9778\n",
            "Epoch 450/500\n",
            "15/15 [==============================] - 0s 5ms/step - loss: 0.0805 - accuracy: 0.9649 - val_loss: 0.0323 - val_accuracy: 0.9778\n",
            "Epoch 451/500\n",
            "15/15 [==============================] - 0s 4ms/step - loss: 0.0737 - accuracy: 0.9727 - val_loss: 0.0409 - val_accuracy: 0.9778\n",
            "Epoch 452/500\n",
            "15/15 [==============================] - 0s 4ms/step - loss: 0.0493 - accuracy: 0.9929 - val_loss: 0.0262 - val_accuracy: 0.9778\n",
            "Epoch 453/500\n",
            "15/15 [==============================] - 0s 4ms/step - loss: 0.0483 - accuracy: 0.9869 - val_loss: 0.0404 - val_accuracy: 0.9778\n",
            "Epoch 454/500\n",
            "15/15 [==============================] - 0s 5ms/step - loss: 0.0491 - accuracy: 0.9908 - val_loss: 0.0365 - val_accuracy: 0.9778\n",
            "Epoch 455/500\n",
            "15/15 [==============================] - 0s 4ms/step - loss: 0.0401 - accuracy: 0.9927 - val_loss: 0.0330 - val_accuracy: 0.9778\n",
            "Epoch 456/500\n",
            "15/15 [==============================] - 0s 5ms/step - loss: 0.0492 - accuracy: 0.9821 - val_loss: 0.0368 - val_accuracy: 0.9778\n",
            "Epoch 457/500\n",
            "15/15 [==============================] - 0s 4ms/step - loss: 0.0385 - accuracy: 0.9889 - val_loss: 0.0316 - val_accuracy: 0.9778\n",
            "Epoch 458/500\n",
            "15/15 [==============================] - 0s 4ms/step - loss: 0.0574 - accuracy: 0.9867 - val_loss: 0.0408 - val_accuracy: 0.9778\n",
            "Epoch 459/500\n",
            "15/15 [==============================] - 0s 4ms/step - loss: 0.0584 - accuracy: 0.9809 - val_loss: 0.0299 - val_accuracy: 0.9778\n",
            "Epoch 460/500\n",
            "15/15 [==============================] - 0s 5ms/step - loss: 0.0578 - accuracy: 0.9813 - val_loss: 0.0320 - val_accuracy: 0.9778\n",
            "Epoch 461/500\n",
            "15/15 [==============================] - 0s 5ms/step - loss: 0.0474 - accuracy: 0.9826 - val_loss: 0.0378 - val_accuracy: 0.9778\n",
            "Epoch 462/500\n",
            "15/15 [==============================] - 0s 4ms/step - loss: 0.0563 - accuracy: 0.9883 - val_loss: 0.0311 - val_accuracy: 0.9778\n",
            "Epoch 463/500\n",
            "15/15 [==============================] - 0s 4ms/step - loss: 0.0390 - accuracy: 0.9900 - val_loss: 0.0382 - val_accuracy: 0.9778\n",
            "Epoch 464/500\n",
            "15/15 [==============================] - 0s 5ms/step - loss: 0.0500 - accuracy: 0.9947 - val_loss: 0.0322 - val_accuracy: 0.9778\n",
            "Epoch 465/500\n",
            "15/15 [==============================] - 0s 4ms/step - loss: 0.0392 - accuracy: 0.9925 - val_loss: 0.0389 - val_accuracy: 0.9778\n",
            "Epoch 466/500\n",
            "15/15 [==============================] - 0s 5ms/step - loss: 0.0514 - accuracy: 0.9888 - val_loss: 0.0365 - val_accuracy: 0.9778\n",
            "Epoch 467/500\n",
            "15/15 [==============================] - 0s 4ms/step - loss: 0.0718 - accuracy: 0.9582 - val_loss: 0.0375 - val_accuracy: 0.9778\n",
            "Epoch 468/500\n",
            "15/15 [==============================] - 0s 4ms/step - loss: 0.0659 - accuracy: 0.9827 - val_loss: 0.0297 - val_accuracy: 0.9778\n",
            "Epoch 469/500\n",
            "15/15 [==============================] - 0s 4ms/step - loss: 0.0677 - accuracy: 0.9861 - val_loss: 0.0413 - val_accuracy: 0.9778\n",
            "Epoch 470/500\n",
            "15/15 [==============================] - 0s 5ms/step - loss: 0.0879 - accuracy: 0.9516 - val_loss: 0.0371 - val_accuracy: 0.9778\n",
            "Epoch 471/500\n",
            "15/15 [==============================] - 0s 5ms/step - loss: 0.0835 - accuracy: 0.9689 - val_loss: 0.0333 - val_accuracy: 0.9778\n",
            "Epoch 472/500\n",
            "15/15 [==============================] - 0s 4ms/step - loss: 0.0352 - accuracy: 0.9910 - val_loss: 0.0377 - val_accuracy: 0.9778\n",
            "Epoch 473/500\n",
            "15/15 [==============================] - 0s 5ms/step - loss: 0.0803 - accuracy: 0.9861 - val_loss: 0.0378 - val_accuracy: 0.9778\n",
            "Epoch 474/500\n",
            "15/15 [==============================] - 0s 4ms/step - loss: 0.0706 - accuracy: 0.9917 - val_loss: 0.0375 - val_accuracy: 0.9778\n",
            "Epoch 475/500\n",
            "15/15 [==============================] - 0s 4ms/step - loss: 0.0522 - accuracy: 0.9884 - val_loss: 0.0320 - val_accuracy: 0.9778\n",
            "Epoch 476/500\n",
            "15/15 [==============================] - 0s 4ms/step - loss: 0.0909 - accuracy: 0.9657 - val_loss: 0.0342 - val_accuracy: 0.9778\n",
            "Epoch 477/500\n",
            "15/15 [==============================] - 0s 5ms/step - loss: 0.0483 - accuracy: 0.9802 - val_loss: 0.0296 - val_accuracy: 0.9778\n",
            "Epoch 478/500\n",
            "15/15 [==============================] - 0s 5ms/step - loss: 0.0409 - accuracy: 0.9876 - val_loss: 0.0357 - val_accuracy: 0.9778\n",
            "Epoch 479/500\n",
            "15/15 [==============================] - 0s 6ms/step - loss: 0.0602 - accuracy: 0.9733 - val_loss: 0.0353 - val_accuracy: 0.9778\n",
            "Epoch 480/500\n",
            "15/15 [==============================] - 0s 4ms/step - loss: 0.0565 - accuracy: 0.9917 - val_loss: 0.0331 - val_accuracy: 0.9778\n",
            "Epoch 481/500\n",
            "15/15 [==============================] - 0s 4ms/step - loss: 0.0430 - accuracy: 0.9857 - val_loss: 0.0350 - val_accuracy: 0.9778\n",
            "Epoch 482/500\n",
            "15/15 [==============================] - 0s 4ms/step - loss: 0.1028 - accuracy: 0.9599 - val_loss: 0.0343 - val_accuracy: 0.9778\n",
            "Epoch 483/500\n",
            "15/15 [==============================] - 0s 4ms/step - loss: 0.0900 - accuracy: 0.9663 - val_loss: 0.0342 - val_accuracy: 0.9778\n",
            "Epoch 484/500\n",
            "15/15 [==============================] - 0s 4ms/step - loss: 0.0355 - accuracy: 0.9976 - val_loss: 0.0278 - val_accuracy: 0.9778\n",
            "Epoch 485/500\n",
            "15/15 [==============================] - 0s 5ms/step - loss: 0.0697 - accuracy: 0.9590 - val_loss: 0.0408 - val_accuracy: 0.9778\n",
            "Epoch 486/500\n",
            "15/15 [==============================] - 0s 4ms/step - loss: 0.0357 - accuracy: 0.9906 - val_loss: 0.0276 - val_accuracy: 0.9778\n",
            "Epoch 487/500\n",
            "15/15 [==============================] - 0s 4ms/step - loss: 0.0481 - accuracy: 0.9929 - val_loss: 0.0410 - val_accuracy: 0.9778\n",
            "Epoch 488/500\n",
            "15/15 [==============================] - 0s 5ms/step - loss: 0.0648 - accuracy: 0.9715 - val_loss: 0.0436 - val_accuracy: 0.9778\n",
            "Epoch 489/500\n",
            "15/15 [==============================] - 0s 5ms/step - loss: 0.0535 - accuracy: 0.9950 - val_loss: 0.0310 - val_accuracy: 0.9778\n",
            "Epoch 490/500\n",
            "15/15 [==============================] - 0s 4ms/step - loss: 0.0533 - accuracy: 0.9770 - val_loss: 0.0400 - val_accuracy: 0.9778\n",
            "Epoch 491/500\n",
            "15/15 [==============================] - 0s 4ms/step - loss: 0.0506 - accuracy: 0.9883 - val_loss: 0.0258 - val_accuracy: 0.9778\n",
            "Epoch 492/500\n",
            "15/15 [==============================] - 0s 4ms/step - loss: 0.0420 - accuracy: 0.9949 - val_loss: 0.0323 - val_accuracy: 0.9778\n",
            "Epoch 493/500\n",
            "15/15 [==============================] - 0s 4ms/step - loss: 0.1005 - accuracy: 0.9633 - val_loss: 0.0393 - val_accuracy: 0.9778\n",
            "Epoch 494/500\n",
            "15/15 [==============================] - 0s 4ms/step - loss: 0.1061 - accuracy: 0.9698 - val_loss: 0.0250 - val_accuracy: 0.9778\n",
            "Epoch 495/500\n",
            "15/15 [==============================] - 0s 5ms/step - loss: 0.0431 - accuracy: 0.9876 - val_loss: 0.0305 - val_accuracy: 0.9778\n",
            "Epoch 496/500\n",
            "15/15 [==============================] - 0s 5ms/step - loss: 0.0339 - accuracy: 0.9927 - val_loss: 0.0402 - val_accuracy: 0.9778\n",
            "Epoch 497/500\n",
            "15/15 [==============================] - 0s 4ms/step - loss: 0.0246 - accuracy: 0.9942 - val_loss: 0.0373 - val_accuracy: 0.9778\n",
            "Epoch 498/500\n",
            "15/15 [==============================] - 0s 4ms/step - loss: 0.0434 - accuracy: 0.9908 - val_loss: 0.0283 - val_accuracy: 0.9778\n",
            "Epoch 499/500\n",
            "15/15 [==============================] - 0s 5ms/step - loss: 0.0610 - accuracy: 0.9791 - val_loss: 0.0393 - val_accuracy: 0.9778\n",
            "Epoch 500/500\n",
            "15/15 [==============================] - 0s 4ms/step - loss: 0.0411 - accuracy: 0.9938 - val_loss: 0.0307 - val_accuracy: 0.9778\n"
          ],
          "name": "stdout"
        }
      ]
    },
    {
      "cell_type": "code",
      "metadata": {
        "colab": {
          "base_uri": "https://localhost:8080/"
        },
        "id": "5jsFXMehF2Gh",
        "outputId": "2c2a4179-6a35-4d73-b8c7-8ed572876fb4"
      },
      "source": [
        "History_iris.history.keys()\n",
        "\n",
        "# loss, accuracy: train data\n",
        "# val_loss, val_accuracy: test data"
      ],
      "execution_count": 21,
      "outputs": [
        {
          "output_type": "execute_result",
          "data": {
            "text/plain": [
              "dict_keys(['loss', 'accuracy', 'val_loss', 'val_accuracy'])"
            ]
          },
          "metadata": {
            "tags": []
          },
          "execution_count": 21
        }
      ]
    },
    {
      "cell_type": "markdown",
      "metadata": {
        "id": "2NNI1K-9FMp8"
      },
      "source": [
        "### 5) 학습결과 시각화"
      ]
    },
    {
      "cell_type": "code",
      "metadata": {
        "colab": {
          "base_uri": "https://localhost:8080/",
          "height": 378
        },
        "id": "I7I7zrVhFP0H",
        "outputId": "1bfb9cfb-ca09-4c9b-e76b-b4823d1531d9"
      },
      "source": [
        "plt.figure(figsize = (9, 6))\n",
        "plt.ylim(0, 1.2)\n",
        "plt.plot(History_iris.history['loss'])\n",
        "plt.plot(History_iris.history['accuracy'])\n",
        "plt.plot(History_iris.history['val_loss'])\n",
        "plt.plot(History_iris.history['val_accuracy'])\n",
        "\n",
        "plt.legend(History_iris.history.keys())\n",
        "plt.grid()\n",
        "plt.show()\n",
        "\n",
        "# accuracy는 1에 가까워지고 있고, loss는 0에 가까워지고 있음\n",
        "# 300번 정도만 해도 성능이 비슷하게 나옴을 볼 수 있다"
      ],
      "execution_count": 22,
      "outputs": [
        {
          "output_type": "display_data",
          "data": {
            "image/png": "[encoded data removed]",
            "text/plain": [
              "<Figure size 648x432 with 1 Axes>"
            ]
          },
          "metadata": {
            "tags": [],
            "needs_background": "light"
          }
        }
      ]
    },
    {
      "cell_type": "markdown",
      "metadata": {
        "id": "K34TFOMTGVcI"
      },
      "source": [
        "### 6) Model Evaluate\n",
        "- Loss & Accuracy\n",
        "- 여기서 마음에 안들면 앞 단계로 다시 돌아가야 한다\n",
        "(Hyperparameter tuning)\n",
        "  - 하나씩 바꿔가며 튜닝"
      ]
    },
    {
      "cell_type": "code",
      "metadata": {
        "colab": {
          "base_uri": "https://localhost:8080/"
        },
        "id": "_HyeWvdSFH83",
        "outputId": "ef2b4011-5cbb-438e-c8ba-dc5cb43dd26d"
      },
      "source": [
        "loss, accuracy = Model_iris.evaluate(X_test, y_test)\n",
        "\n",
        "print('Loss = {:.2f}' .format(loss))\n",
        "print('Accuracy = {:.2f}' .format(accuracy))\n",
        "\n",
        "# 0.98이 나옴 (좋은 것인가 나쁜것인가는 판단해야 함)"
      ],
      "execution_count": 23,
      "outputs": [
        {
          "output_type": "stream",
          "text": [
            "2/2 [==============================] - 0s 3ms/step - loss: 0.0307 - accuracy: 0.9778\n",
            "Loss = 0.03\n",
            "Accuracy = 0.98\n"
          ],
          "name": "stdout"
        }
      ]
    },
    {
      "cell_type": "markdown",
      "metadata": {
        "id": "TTGVE71SGmCn"
      },
      "source": [
        "### 7) Model Predict\n",
        "- Probability\n",
        "- 함수: predict(예측), predict_classes(분류)"
      ]
    },
    {
      "cell_type": "code",
      "metadata": {
        "colab": {
          "base_uri": "https://localhost:8080/"
        },
        "id": "4o1azaaPGjtm",
        "outputId": "8092b3dc-338c-4d0f-cad8-d874674651f2"
      },
      "source": [
        "np.set_printoptions(suppress = True, precision = 5)\n",
        "Model_iris.predict(X_test) # 확률값(probability)으로 나옴\n",
        "\n",
        "# softmax - 합이 1이 됨"
      ],
      "execution_count": 24,
      "outputs": [
        {
          "output_type": "execute_result",
          "data": {
            "text/plain": [
              "array([[0.99829, 0.00047, 0.00124],\n",
              "       [0.99262, 0.00387, 0.00351],\n",
              "       [0.01222, 0.98306, 0.00472],\n",
              "       [0.     , 0.00003, 0.99997],\n",
              "       [0.99948, 0.00007, 0.00046],\n",
              "       [0.00036, 0.99893, 0.0007 ],\n",
              "       [0.     , 0.00591, 0.99408],\n",
              "       [0.99961, 0.00004, 0.00035],\n",
              "       [0.00001, 0.00046, 0.99953],\n",
              "       [0.99775, 0.00073, 0.00152],\n",
              "       [0.00047, 0.88453, 0.115  ],\n",
              "       [0.     , 0.00229, 0.99771],\n",
              "       [0.00001, 0.99676, 0.00322],\n",
              "       [0.99986, 0.00001, 0.00014],\n",
              "       [0.99947, 0.00008, 0.00046],\n",
              "       [0.0001 , 0.99595, 0.00395],\n",
              "       [0.00006, 0.98202, 0.01792],\n",
              "       [0.99869, 0.00028, 0.00104],\n",
              "       [0.00002, 0.9994 , 0.00058],\n",
              "       [0.99957, 0.00005, 0.00038],\n",
              "       [0.99813, 0.00053, 0.00134],\n",
              "       [0.99821, 0.00049, 0.0013 ],\n",
              "       [0.     , 0.00076, 0.99924],\n",
              "       [0.99886, 0.00024, 0.0009 ],\n",
              "       [0.     , 0.03725, 0.96275],\n",
              "       [0.00005, 0.01327, 0.98668],\n",
              "       [0.9993 , 0.00011, 0.00059],\n",
              "       [0.00003, 0.99601, 0.00396],\n",
              "       [0.00001, 0.99598, 0.00401],\n",
              "       [0.00004, 0.03786, 0.96211],\n",
              "       [0.9996 , 0.00004, 0.00036],\n",
              "       [0.00005, 0.99764, 0.00231],\n",
              "       [0.99951, 0.00007, 0.00042],\n",
              "       [0.00004, 0.65126, 0.3487 ],\n",
              "       [0.00007, 0.9939 , 0.00603],\n",
              "       [0.00015, 0.99928, 0.00057],\n",
              "       [0.     , 0.00006, 0.99994],\n",
              "       [0.00014, 0.99913, 0.00073],\n",
              "       [0.99861, 0.00035, 0.00105],\n",
              "       [0.00028, 0.99682, 0.00291],\n",
              "       [0.     , 0.00007, 0.99993],\n",
              "       [0.99847, 0.00041, 0.00112],\n",
              "       [0.00001, 0.00208, 0.99791],\n",
              "       [0.     , 0.0004 , 0.9996 ],\n",
              "       [0.00001, 0.01399, 0.98599]], dtype=float32)"
            ]
          },
          "metadata": {
            "tags": []
          },
          "execution_count": 24
        }
      ]
    },
    {
      "cell_type": "markdown",
      "metadata": {
        "id": "lr9vPPDqHFZ-"
      },
      "source": [
        "- Class"
      ]
    },
    {
      "cell_type": "code",
      "metadata": {
        "colab": {
          "base_uri": "https://localhost:8080/"
        },
        "id": "iikfQ6FwHDdD",
        "outputId": "6730cbd7-f0df-4501-862c-91c998a41162"
      },
      "source": [
        "y_hat = Model_iris.predict_classes(X_test)\n",
        "y_hat"
      ],
      "execution_count": 25,
      "outputs": [
        {
          "output_type": "execute_result",
          "data": {
            "text/plain": [
              "array([0, 0, 1, 2, 0, 1, 2, 0, 2, 0, 1, 2, 1, 0, 0, 1, 1, 0, 1, 0, 0, 0,\n",
              "       2, 0, 2, 2, 0, 1, 1, 2, 0, 1, 0, 1, 1, 1, 2, 1, 0, 1, 2, 0, 2, 2,\n",
              "       2])"
            ]
          },
          "metadata": {
            "tags": []
          },
          "execution_count": 25
        }
      ]
    },
    {
      "cell_type": "markdown",
      "metadata": {
        "id": "oNysJWx2HKzO"
      },
      "source": [
        "- Probability to Class"
      ]
    },
    {
      "cell_type": "code",
      "metadata": {
        "colab": {
          "base_uri": "https://localhost:8080/"
        },
        "id": "XfZ0rU1_VuUi",
        "outputId": "00b34982-5ee5-4eff-8b9f-05bcf8b0d0a4"
      },
      "source": [
        "Model_iris.predict(X_test)"
      ],
      "execution_count": 26,
      "outputs": [
        {
          "output_type": "execute_result",
          "data": {
            "text/plain": [
              "array([[0.99829, 0.00047, 0.00124],\n",
              "       [0.99262, 0.00387, 0.00351],\n",
              "       [0.01222, 0.98306, 0.00472],\n",
              "       [0.     , 0.00003, 0.99997],\n",
              "       [0.99948, 0.00007, 0.00046],\n",
              "       [0.00036, 0.99893, 0.0007 ],\n",
              "       [0.     , 0.00591, 0.99408],\n",
              "       [0.99961, 0.00004, 0.00035],\n",
              "       [0.00001, 0.00046, 0.99953],\n",
              "       [0.99775, 0.00073, 0.00152],\n",
              "       [0.00047, 0.88453, 0.115  ],\n",
              "       [0.     , 0.00229, 0.99771],\n",
              "       [0.00001, 0.99676, 0.00322],\n",
              "       [0.99986, 0.00001, 0.00014],\n",
              "       [0.99947, 0.00008, 0.00046],\n",
              "       [0.0001 , 0.99595, 0.00395],\n",
              "       [0.00006, 0.98202, 0.01792],\n",
              "       [0.99869, 0.00028, 0.00104],\n",
              "       [0.00002, 0.9994 , 0.00058],\n",
              "       [0.99957, 0.00005, 0.00038],\n",
              "       [0.99813, 0.00053, 0.00134],\n",
              "       [0.99821, 0.00049, 0.0013 ],\n",
              "       [0.     , 0.00076, 0.99924],\n",
              "       [0.99886, 0.00024, 0.0009 ],\n",
              "       [0.     , 0.03725, 0.96275],\n",
              "       [0.00005, 0.01327, 0.98668],\n",
              "       [0.9993 , 0.00011, 0.00059],\n",
              "       [0.00003, 0.99601, 0.00396],\n",
              "       [0.00001, 0.99598, 0.00401],\n",
              "       [0.00004, 0.03786, 0.96211],\n",
              "       [0.9996 , 0.00004, 0.00036],\n",
              "       [0.00005, 0.99764, 0.00231],\n",
              "       [0.99951, 0.00007, 0.00042],\n",
              "       [0.00004, 0.65126, 0.3487 ],\n",
              "       [0.00007, 0.9939 , 0.00603],\n",
              "       [0.00015, 0.99928, 0.00057],\n",
              "       [0.     , 0.00006, 0.99994],\n",
              "       [0.00014, 0.99913, 0.00073],\n",
              "       [0.99861, 0.00035, 0.00105],\n",
              "       [0.00028, 0.99682, 0.00291],\n",
              "       [0.     , 0.00007, 0.99993],\n",
              "       [0.99847, 0.00041, 0.00112],\n",
              "       [0.00001, 0.00208, 0.99791],\n",
              "       [0.     , 0.0004 , 0.9996 ],\n",
              "       [0.00001, 0.01399, 0.98599]], dtype=float32)"
            ]
          },
          "metadata": {
            "tags": []
          },
          "execution_count": 26
        }
      ]
    },
    {
      "cell_type": "code",
      "metadata": {
        "colab": {
          "base_uri": "https://localhost:8080/"
        },
        "id": "_j30okDeHJdh",
        "outputId": "4d15491c-f038-4598-909e-05108e722c79"
      },
      "source": [
        "np.argmax(Model_iris.predict(X_test) , axis = 1)\n",
        "# argmax: 제일 큰 값의 index를 뽑아줌 (원핫인코딩 중 probability가 제일 높은 값의 인덱스를 구해줌\n",
        "# 많이 쓰인다"
      ],
      "execution_count": 27,
      "outputs": [
        {
          "output_type": "execute_result",
          "data": {
            "text/plain": [
              "array([0, 0, 1, 2, 0, 1, 2, 0, 2, 0, 1, 2, 1, 0, 0, 1, 1, 0, 1, 0, 0, 0,\n",
              "       2, 0, 2, 2, 0, 1, 1, 2, 0, 1, 0, 1, 1, 1, 2, 1, 0, 1, 2, 0, 2, 2,\n",
              "       2])"
            ]
          },
          "metadata": {
            "tags": []
          },
          "execution_count": 27
        }
      ]
    },
    {
      "cell_type": "markdown",
      "metadata": {
        "id": "Y_hCGHurHR3r"
      },
      "source": [
        "- One-Hot Encoding to Array\n",
        "  - OHE 상태로는 Confusion Matrix를 그릴 수 없다\n",
        "  - np.argmax(): 다차원 배열의 차원에 따라 가장 큰 값의 인덱스를 반환\n",
        "  - axis = 1 : 열 기준"
      ]
    },
    {
      "cell_type": "code",
      "metadata": {
        "colab": {
          "base_uri": "https://localhost:8080/"
        },
        "id": "L-9i5zeIHPPd",
        "outputId": "c1a484bb-821c-46b8-a561-ac7ee1cdba75"
      },
      "source": [
        "y = np.argmax(y_test, axis = 1)\n",
        "\n",
        "y"
      ],
      "execution_count": 28,
      "outputs": [
        {
          "output_type": "execute_result",
          "data": {
            "text/plain": [
              "array([0, 0, 1, 2, 0, 1, 2, 0, 2, 0, 1, 2, 1, 0, 0, 1, 1, 0, 1, 0, 0, 0,\n",
              "       2, 0, 2, 2, 0, 1, 1, 2, 0, 1, 0, 2, 1, 1, 2, 1, 0, 1, 2, 0, 2, 2,\n",
              "       2])"
            ]
          },
          "metadata": {
            "tags": []
          },
          "execution_count": 28
        }
      ]
    },
    {
      "cell_type": "markdown",
      "metadata": {
        "id": "Yqf0tyEtHife"
      },
      "source": [
        "- Confusion Matrix & Classification Report"
      ]
    },
    {
      "cell_type": "code",
      "metadata": {
        "colab": {
          "base_uri": "https://localhost:8080/"
        },
        "id": "p3V4kasTHfMj",
        "outputId": "6b51b819-6279-408f-c69f-36921696c8d0"
      },
      "source": [
        "confusion_matrix(y, y_hat)"
      ],
      "execution_count": 29,
      "outputs": [
        {
          "output_type": "execute_result",
          "data": {
            "text/plain": [
              "array([[17,  0,  0],\n",
              "       [ 0, 14,  0],\n",
              "       [ 0,  1, 13]])"
            ]
          },
          "metadata": {
            "tags": []
          },
          "execution_count": 29
        }
      ]
    },
    {
      "cell_type": "code",
      "metadata": {
        "colab": {
          "base_uri": "https://localhost:8080/"
        },
        "id": "NxTZqLFmHtTn",
        "outputId": "8802a876-03cc-4515-b4b7-9732160dada8"
      },
      "source": [
        "print(classification_report(y, y_hat,\n",
        "                            target_names = ['setosa' ,\n",
        "                                            'virginica' ,\n",
        "                                            'versicolor']))"
      ],
      "execution_count": 30,
      "outputs": [
        {
          "output_type": "stream",
          "text": [
            "              precision    recall  f1-score   support\n",
            "\n",
            "      setosa       1.00      1.00      1.00        17\n",
            "   virginica       0.93      1.00      0.97        14\n",
            "  versicolor       1.00      0.93      0.96        14\n",
            "\n",
            "    accuracy                           0.98        45\n",
            "   macro avg       0.98      0.98      0.98        45\n",
            "weighted avg       0.98      0.98      0.98        45\n",
            "\n"
          ],
          "name": "stdout"
        }
      ]
    },
    {
      "cell_type": "markdown",
      "metadata": {
        "id": "MdkNka5rH2iY"
      },
      "source": [
        "## 3. Model Save & Load"
      ]
    },
    {
      "cell_type": "markdown",
      "metadata": {
        "id": "sgTjCC9xH4ve"
      },
      "source": [
        "### 1) File System\n",
        "- Save to Colab File System"
      ]
    },
    {
      "cell_type": "code",
      "metadata": {
        "colab": {
          "base_uri": "https://localhost:8080/"
        },
        "id": "oT9zfgrEHzXf",
        "outputId": "3397b53f-6d00-4968-818a-680ddcaf1522"
      },
      "source": [
        "!ls -l"
      ],
      "execution_count": 31,
      "outputs": [
        {
          "output_type": "stream",
          "text": [
            "total 12\n",
            "-rw-r--r-- 1 root root 7979 Mar 18 02:36 model.png\n",
            "drwxr-xr-x 1 root root 4096 Mar  5 14:37 sample_data\n"
          ],
          "name": "stdout"
        }
      ]
    },
    {
      "cell_type": "code",
      "metadata": {
        "colab": {
          "base_uri": "https://localhost:8080/"
        },
        "id": "ge9QsiD_H9e_",
        "outputId": "a62ca5a2-5ef0-4433-e990-d63c95ea8af5"
      },
      "source": [
        "Model_iris.save('Model_iris.h5')\n",
        "# colab에 저장된\n",
        "\n",
        "!ls -l"
      ],
      "execution_count": 32,
      "outputs": [
        {
          "output_type": "stream",
          "text": [
            "total 48\n",
            "-rw-r--r-- 1 root root 34592 Mar 18 02:36 Model_iris.h5\n",
            "-rw-r--r-- 1 root root  7979 Mar 18 02:36 model.png\n",
            "drwxr-xr-x 1 root root  4096 Mar  5 14:37 sample_data\n"
          ],
          "name": "stdout"
        }
      ]
    },
    {
      "cell_type": "markdown",
      "metadata": {
        "id": "j8T1DEVQID5I"
      },
      "source": [
        "- Download Colab File System to Local File System"
      ]
    },
    {
      "cell_type": "code",
      "metadata": {
        "colab": {
          "base_uri": "https://localhost:8080/",
          "height": 17
        },
        "id": "NMoIn4vUIC4w",
        "outputId": "e83a422a-1190-4bcf-822d-0b80f07143f7"
      },
      "source": [
        "from google.colab import files\n",
        "\n",
        "files.download('Model_iris.h5')\n",
        "# local에 다운로드 됨 (마우스 클릭으로 다운로드 받아도 됨)"
      ],
      "execution_count": 33,
      "outputs": [
        {
          "output_type": "display_data",
          "data": {
            "application/javascript": [
              "\n",
              "    async function download(id, filename, size) {\n",
              "      if (!google.colab.kernel.accessAllowed) {\n",
              "        return;\n",
              "      }\n",
              "      const div = document.createElement('div');\n",
              "      const label = document.createElement('label');\n",
              "      label.textContent = `Downloading \"${filename}\": `;\n",
              "      div.appendChild(label);\n",
              "      const progress = document.createElement('progress');\n",
              "      progress.max = size;\n",
              "      div.appendChild(progress);\n",
              "      document.body.appendChild(div);\n",
              "\n",
              "      const buffers = [];\n",
              "      let downloaded = 0;\n",
              "\n",
              "      const channel = await google.colab.kernel.comms.open(id);\n",
              "      // Send a message to notify the kernel that we're ready.\n",
              "      channel.send({})\n",
              "\n",
              "      for await (const message of channel.messages) {\n",
              "        // Send a message to notify the kernel that we're ready.\n",
              "        channel.send({})\n",
              "        if (message.buffers) {\n",
              "          for (const buffer of message.buffers) {\n",
              "            buffers.push(buffer);\n",
              "            downloaded += buffer.byteLength;\n",
              "            progress.value = downloaded;\n",
              "          }\n",
              "        }\n",
              "      }\n",
              "      const blob = new Blob(buffers, {type: 'application/binary'});\n",
              "      const a = document.createElement('a');\n",
              "      a.href = window.URL.createObjectURL(blob);\n",
              "      a.download = filename;\n",
              "      div.appendChild(a);\n",
              "      a.click();\n",
              "      div.remove();\n",
              "    }\n",
              "  "
            ],
            "text/plain": [
              "<IPython.core.display.Javascript object>"
            ]
          },
          "metadata": {
            "tags": []
          }
        },
        {
          "output_type": "display_data",
          "data": {
            "application/javascript": [
              "download(\"download_a521e8e4-1e84-43d6-9a11-ec62083f3327\", \"Model_iris.h5\", 34592)"
            ],
            "text/plain": [
              "<IPython.core.display.Javascript object>"
            ]
          },
          "metadata": {
            "tags": []
          }
        }
      ]
    },
    {
      "cell_type": "markdown",
      "metadata": {
        "id": "jIGz84pQIOCs"
      },
      "source": [
        "- Load from Colab File System"
      ]
    },
    {
      "cell_type": "code",
      "metadata": {
        "id": "s1IfpC88IMSl"
      },
      "source": [
        "Model_local = load_model('Model_iris.h5')\n",
        "# 243개의 파라미터 값을 획득"
      ],
      "execution_count": 34,
      "outputs": []
    },
    {
      "cell_type": "code",
      "metadata": {
        "colab": {
          "base_uri": "https://localhost:8080/"
        },
        "id": "m5rUU3phIaRj",
        "outputId": "4bc4be38-c6fd-4ff1-cfea-3f1339af19f7"
      },
      "source": [
        "Model_local.predict_classes(X_test)\n",
        "# 분류작업을 해낸다"
      ],
      "execution_count": 35,
      "outputs": [
        {
          "output_type": "execute_result",
          "data": {
            "text/plain": [
              "array([0, 0, 1, 2, 0, 1, 2, 0, 2, 0, 1, 2, 1, 0, 0, 1, 1, 0, 1, 0, 0, 0,\n",
              "       2, 0, 2, 2, 0, 1, 1, 2, 0, 1, 0, 1, 1, 1, 2, 1, 0, 1, 2, 0, 2, 2,\n",
              "       2])"
            ]
          },
          "metadata": {
            "tags": []
          },
          "execution_count": 35
        }
      ]
    },
    {
      "cell_type": "markdown",
      "metadata": {
        "id": "r1Jmoku6IefY"
      },
      "source": [
        "### 2) Google Drive\n",
        "- Mount Google Drive"
      ]
    },
    {
      "cell_type": "code",
      "metadata": {
        "colab": {
          "base_uri": "https://localhost:8080/"
        },
        "id": "vPLUFFsOIdgY",
        "outputId": "95df1b4b-ea67-4e78-db6e-9c89378dd88f"
      },
      "source": [
        "from google.colab import drive\n",
        "\n",
        "drive.mount('/content/drive')"
      ],
      "execution_count": 36,
      "outputs": [
        {
          "output_type": "stream",
          "text": [
            "Mounted at /content/drive\n"
          ],
          "name": "stdout"
        }
      ]
    },
    {
      "cell_type": "markdown",
      "metadata": {
        "id": "HI7xyR-4Ipre"
      },
      "source": [
        "- Check Mounted_Drive"
      ]
    },
    {
      "cell_type": "code",
      "metadata": {
        "colab": {
          "base_uri": "https://localhost:8080/"
        },
        "id": "b-IKL1HpIlfp",
        "outputId": "03a828a7-ee9e-4035-a516-f8223d1cd7be"
      },
      "source": [
        "!ls -l '/content/drive/My Drive/Colab Notebooks/datasets'"
      ],
      "execution_count": 37,
      "outputs": [
        {
          "output_type": "stream",
          "text": [
            "total 1741130\n",
            "-rw------- 1 root root      20066 Mar  4 04:45 cat.1700.jpg\n",
            "-rw------- 1 root root   68787205 Mar  9 04:06 creditCardFraud.zip\n",
            "-rw------- 1 root root   90618980 Mar  4 04:51 dogs_and_cats_small.zip\n",
            "drwx------ 2 root root       4096 Mar  9 04:27 image\n",
            "-rw------- 1 root root    8204887 Mar  4 04:45 Images_500.zip\n",
            "-rw------- 1 root root    4240457 Mar 15 04:25 Kaggle_Customer_Satisfaction.zip\n",
            "-rw------- 1 root root   12929865 Mar  4 04:42 Logo_Data.zip\n",
            "-rw------- 1 root root   18272469 Mar  4 04:50 MNIST.csv\n",
            "-rw------- 1 root root   23715344 Mar  7 07:08 Online_Retail.xlsx\n",
            "-rw------- 1 root root        741 Mar  4 04:44 PII.csv\n",
            "-rw------- 1 root root 1141460846 Mar  4 04:50 waferImages.zip\n",
            "-rw------- 1 root root  414658234 Mar  4 04:49 yolo_weight.zip\n"
          ],
          "name": "stdout"
        }
      ]
    },
    {
      "cell_type": "markdown",
      "metadata": {
        "id": "YCQC0Sn-I_MP"
      },
      "source": [
        "- Save to Mounted Google Drive Directory"
      ]
    },
    {
      "cell_type": "code",
      "metadata": {
        "id": "YDzhShBmIvTx"
      },
      "source": [
        "# 로컬에 저장해두면 손상될 수 있으니 google drive에 저장해두는 것\n",
        "Model_iris.save('/content/drive/My Drive/Colab Notebooks/models/001_Model_iris.h5')"
      ],
      "execution_count": 38,
      "outputs": []
    },
    {
      "cell_type": "code",
      "metadata": {
        "colab": {
          "base_uri": "https://localhost:8080/"
        },
        "id": "pwi46JxKJJWQ",
        "outputId": "22b95d70-18dd-43a9-d833-e1f3b086937f"
      },
      "source": [
        "!ls -l '/content/drive/My Drive/Colab Notebooks/models'"
      ],
      "execution_count": 39,
      "outputs": [
        {
          "output_type": "stream",
          "text": [
            "total 34\n",
            "-rw------- 1 root root 34592 Mar 18 02:42 001_Model_iris.h5\n"
          ],
          "name": "stdout"
        }
      ]
    },
    {
      "cell_type": "markdown",
      "metadata": {
        "id": "RIffFAOGJW5o"
      },
      "source": [
        "- Load from Mounted Google Drive Directory"
      ]
    },
    {
      "cell_type": "code",
      "metadata": {
        "id": "sNP3cVB-JNxj"
      },
      "source": [
        "# 구글 드라이브에서 모델을 load\n",
        "Model_google = load_model('/content/drive/My Drive/Colab Notebooks/models/001_Model_iris.h5')"
      ],
      "execution_count": 40,
      "outputs": []
    },
    {
      "cell_type": "code",
      "metadata": {
        "colab": {
          "base_uri": "https://localhost:8080/"
        },
        "id": "zRTZFQ4AJkm6",
        "outputId": "fe983482-c240-489e-ecfd-aa14e8372f4d"
      },
      "source": [
        "Model_google.predict_classes(X_test)"
      ],
      "execution_count": 41,
      "outputs": [
        {
          "output_type": "execute_result",
          "data": {
            "text/plain": [
              "array([0, 0, 1, 2, 0, 1, 2, 0, 2, 0, 1, 2, 1, 0, 0, 1, 1, 0, 1, 0, 0, 0,\n",
              "       2, 0, 2, 2, 0, 1, 1, 2, 0, 1, 0, 1, 1, 1, 2, 1, 0, 1, 2, 0, 2, 2,\n",
              "       2])"
            ]
          },
          "metadata": {
            "tags": []
          },
          "execution_count": 41
        }
      ]
    },
    {
      "cell_type": "markdown",
      "metadata": {
        "id": "eggCZDrVOn7x"
      },
      "source": [
        "- input과 output의 숫자만 맞춰주면, 남이 만든 모델도 가져와서 사용할 수 있다(transferred learning)"
      ]
    }
  ]
}